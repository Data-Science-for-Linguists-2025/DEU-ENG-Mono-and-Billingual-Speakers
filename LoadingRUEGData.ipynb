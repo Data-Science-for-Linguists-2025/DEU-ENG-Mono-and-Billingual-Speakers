{
 "cells": [
  {
   "cell_type": "markdown",
   "id": "44687fec",
   "metadata": {},
   "source": [
    "# Loading in the RUEG Corpus\n",
    "Goal: Create a Data Frame for easy Data Use Later on\n",
    "\n",
    "## Table of Contents\n",
    "1. [Loading in the Data]()\n",
    "\n",
    "    A. [Reading in Metadata]()\n",
    "\n",
    "    B. [Basic Metrics of Metadata]()\n",
    "\n",
    "    C. [Reading in the Texts]()\n",
    "2. [Manually Parsing ConLL]()\n",
    "3. [Practice Spacy Parsing ConLL]()\n",
    "4. [Attempted Spacy Parsing ConLL]()\n",
    "5. [Cleaning Data]()\n",
    "6. [Spacy Parsing for Real]()\n",
    "7. [Corpora Creation for Later Exploration]()\n",
    "\n"
   ]
  },
  {
   "cell_type": "markdown",
   "id": "eb22f892",
   "metadata": {},
   "source": [
    "## Loading in the Data\n",
    "I'm going to start with four seperate dataframes\n",
    "\n",
    "What to be included in DataFrame:\n",
    "- speaker ID\n",
    "- langauge\n",
    "- bilingual/monolingual\n",
    "- formality\n",
    "- mode\n",
    "- languages\n",
    "- age group\n",
    "- gender\n",
    "- raw audio\n",
    "- transcription\n",
    "- POS transciption (although I don't know I'll be using it)"
   ]
  },
  {
   "cell_type": "code",
   "execution_count": 463,
   "id": "13d434a7",
   "metadata": {},
   "outputs": [
    {
     "name": "stdout",
     "output_type": "stream",
     "text": [
      "Pretty printing has been turned OFF\n"
     ]
    }
   ],
   "source": [
    "%pprint"
   ]
  },
  {
   "cell_type": "code",
   "execution_count": 464,
   "id": "7a852619",
   "metadata": {},
   "outputs": [
    {
     "data": {
      "text/plain": [
       "['DEbi65FR_isD', 'DEbi83FR_iwD', 'DEbi52FR_isD']"
      ]
     },
     "execution_count": 464,
     "metadata": {},
     "output_type": "execute_result"
    }
   ],
   "source": [
    "import glob\n",
    "files = glob.glob('RUEG_corpus_0.3.0/exmaralda/RUEG/DE/BILINGUAL/*.meta', recursive = True)\n",
    "DE_bi_filename= []\n",
    "for f in files:\n",
    "    DE_bi_filename.append(f.split(\"BILINGUAL/\",1)[1].strip('.meta'))\n",
    "DE_bi_filename[:3]"
   ]
  },
  {
   "cell_type": "code",
   "execution_count": 465,
   "id": "164f4083",
   "metadata": {},
   "outputs": [],
   "source": [
    "files = glob.glob('RUEG_corpus_0.3.0/exmaralda/RUEG/DE/MONOLINGUAL/*.meta', recursive = True)\n",
    "DE_mono_filename= []\n",
    "for f in files:\n",
    "    DE_mono_filename.append(f.split(\"MONOLINGUAL/\",1)[1].strip('.meta'))"
   ]
  },
  {
   "cell_type": "code",
   "execution_count": 466,
   "id": "171dca04",
   "metadata": {},
   "outputs": [],
   "source": [
    "files = glob.glob('RUEG_corpus_0.3.0/exmaralda/RUEG/EN/BILINGUAL/*.meta', recursive = True)\n",
    "EN_bi_filename= []\n",
    "for f in files:\n",
    "    f = (f.split(\"BILINGUAL/\",1)[1].strip('.meta'))\n",
    "    if f != 'USbi77FG_fwE':     ## this is because I found that this file has no POS markings on it which I cannot use\n",
    "        EN_bi_filename.append(f)"
   ]
  },
  {
   "cell_type": "code",
   "execution_count": 467,
   "id": "57d5f856",
   "metadata": {},
   "outputs": [],
   "source": [
    "files = glob.glob('RUEG_corpus_0.3.0/exmaralda/RUEG/EN/MONOLINGUAL/*.meta', recursive = True)\n",
    "EN_mono_filename= []\n",
    "for f in files:\n",
    "    EN_mono_filename.append(f.split(\"MONOLINGUAL/\",1)[1].strip('.meta'))"
   ]
  },
  {
   "cell_type": "code",
   "execution_count": 468,
   "id": "69acb27f",
   "metadata": {},
   "outputs": [
    {
     "name": "stdout",
     "output_type": "stream",
     "text": [
      "DE mono Files:  240\n",
      "DE bi Files:  559\n",
      "EN mono Files:  64\n",
      "EN bi Files:  443\n"
     ]
    }
   ],
   "source": [
    "## Getting Some Basic Stats on What We're Looking at\n",
    "print('DE mono Files: ', len(DE_mono_filename))\n",
    "print('DE bi Files: ', len(DE_bi_filename))\n",
    "print('EN mono Files: ', len(EN_mono_filename))\n",
    "print('EN bi Files: ', len(EN_bi_filename))\n"
   ]
  },
  {
   "cell_type": "markdown",
   "id": "b28eaeee",
   "metadata": {},
   "source": [
    "### Reading in Metadata \n",
    "\n",
    "Some things to keep in mind:\n",
    "- way fewer monolingual speakers in comparison to bilingual speakers\n",
    "- some bilingual speakers are going to overlap as they are will appear in both languages as bilingual (probably accounts for this disparity in numbers)"
   ]
  },
  {
   "cell_type": "code",
   "execution_count": 469,
   "id": "2f8da09b",
   "metadata": {},
   "outputs": [],
   "source": [
    "import pandas as pd\n",
    "de_mono_df = pd.DataFrame(DE_mono_filename, index = DE_mono_filename)\n",
    "de_bi_df = pd.DataFrame(DE_bi_filename, index = DE_bi_filename)\n",
    "en_mono_df = pd.DataFrame(EN_mono_filename, index = EN_mono_filename)\n",
    "en_bi_df = pd.DataFrame(EN_bi_filename, index = EN_bi_filename)\n",
    "de_mono_df.columns = ['Filename']\n",
    "de_bi_df.columns = ['Filename']\n",
    "en_mono_df.columns = ['Filename']\n",
    "en_bi_df.columns = ['Filename']"
   ]
  },
  {
   "cell_type": "code",
   "execution_count": 470,
   "id": "7f020fd1",
   "metadata": {},
   "outputs": [],
   "source": [
    "de_mono_df['Mono/Bilingual'] = 'Monolingual'\n",
    "de_bi_df['Mono/Bilingual'] = 'Bilingual'\n",
    "en_mono_df['Mono/Bilingual'] = 'Monolingual'\n",
    "en_bi_df['Mono/Bilingual'] = 'Bilingual'\n",
    "de_mono_df['Language_of_Data'] = 'German'\n",
    "de_bi_df['Language_of_Data'] = 'German'\n",
    "en_mono_df['Language_of_Data'] = 'English'\n",
    "en_bi_df['Language_of_Data'] = 'English'"
   ]
  },
  {
   "cell_type": "code",
   "execution_count": 471,
   "id": "2379c4b9",
   "metadata": {},
   "outputs": [
    {
     "data": {
      "text/html": [
       "<div>\n",
       "<style scoped>\n",
       "    .dataframe tbody tr th:only-of-type {\n",
       "        vertical-align: middle;\n",
       "    }\n",
       "\n",
       "    .dataframe tbody tr th {\n",
       "        vertical-align: top;\n",
       "    }\n",
       "\n",
       "    .dataframe thead th {\n",
       "        text-align: right;\n",
       "    }\n",
       "</style>\n",
       "<table border=\"1\" class=\"dataframe\">\n",
       "  <thead>\n",
       "    <tr style=\"text-align: right;\">\n",
       "      <th></th>\n",
       "      <th>Filename</th>\n",
       "      <th>Mono/Bilingual</th>\n",
       "      <th>Language_of_Data</th>\n",
       "      <th>Mode</th>\n",
       "      <th>Formality</th>\n",
       "      <th>Gender</th>\n",
       "      <th>Heritage_Language</th>\n",
       "      <th>Age_Group</th>\n",
       "      <th>Country_of_Data</th>\n",
       "    </tr>\n",
       "  </thead>\n",
       "  <tbody>\n",
       "    <tr>\n",
       "      <th>DEmo17MD_fsD</th>\n",
       "      <td>DEmo17MD_fsD</td>\n",
       "      <td>Monolingual</td>\n",
       "      <td>German</td>\n",
       "      <td>s</td>\n",
       "      <td>f</td>\n",
       "      <td>M</td>\n",
       "      <td>D</td>\n",
       "      <td>adult</td>\n",
       "      <td>DE</td>\n",
       "    </tr>\n",
       "    <tr>\n",
       "      <th>DEmo20FD_fwD</th>\n",
       "      <td>DEmo20FD_fwD</td>\n",
       "      <td>Monolingual</td>\n",
       "      <td>German</td>\n",
       "      <td>w</td>\n",
       "      <td>f</td>\n",
       "      <td>F</td>\n",
       "      <td>D</td>\n",
       "      <td>adult</td>\n",
       "      <td>DE</td>\n",
       "    </tr>\n",
       "    <tr>\n",
       "      <th>DEmo71FD_isD</th>\n",
       "      <td>DEmo71FD_isD</td>\n",
       "      <td>Monolingual</td>\n",
       "      <td>German</td>\n",
       "      <td>s</td>\n",
       "      <td>i</td>\n",
       "      <td>F</td>\n",
       "      <td>D</td>\n",
       "      <td>adolescent</td>\n",
       "      <td>DE</td>\n",
       "    </tr>\n",
       "  </tbody>\n",
       "</table>\n",
       "</div>"
      ],
      "text/plain": [
       "                  Filename Mono/Bilingual Language_of_Data Mode Formality  \\\n",
       "DEmo17MD_fsD  DEmo17MD_fsD    Monolingual           German    s         f   \n",
       "DEmo20FD_fwD  DEmo20FD_fwD    Monolingual           German    w         f   \n",
       "DEmo71FD_isD  DEmo71FD_isD    Monolingual           German    s         i   \n",
       "\n",
       "             Gender Heritage_Language   Age_Group Country_of_Data  \n",
       "DEmo17MD_fsD      M                 D       adult              DE  \n",
       "DEmo20FD_fwD      F                 D       adult              DE  \n",
       "DEmo71FD_isD      F                 D  adolescent              DE  "
      ]
     },
     "execution_count": 471,
     "metadata": {},
     "output_type": "execute_result"
    }
   ],
   "source": [
    "## much easier to combine them all now and .loc them late rwhen needed\n",
    "rueg_all_df = pd.concat([de_mono_df, de_bi_df, en_mono_df, en_bi_df])\n",
    "\n",
    "rueg_all_df['Mode'] = rueg_all_df.Filename.map(lambda x: x[-2])\n",
    "rueg_all_df['Formality'] = rueg_all_df.Filename.map(lambda x: x[-3])\n",
    "rueg_all_df['Gender'] = rueg_all_df.Filename.map(lambda x: x[-6])\n",
    "rueg_all_df['Heritage_Language'] = rueg_all_df.Filename.map(lambda x: x[-5])\n",
    "rueg_all_df['Age_Group'] = rueg_all_df.Filename.map(lambda x: x[-8:-6])\n",
    "rueg_all_df['Age_Group'] = rueg_all_df.Age_Group.map(lambda x: 'adolescent' if int(x) >= 49 else 'adult')\n",
    "rueg_all_df['Country_of_Data'] = rueg_all_df.Filename.map(lambda x: x[0:2])\n",
    "rueg_all_df.head(3)\n",
    "\n",
    "## ideally I fully write out spoken/written and the age group"
   ]
  },
  {
   "cell_type": "code",
   "execution_count": 472,
   "id": "53e0d966",
   "metadata": {},
   "outputs": [
    {
     "name": "stdout",
     "output_type": "stream",
     "text": [
      "{'F', 'M'}\n",
      "{'i', 'f'}\n",
      "{'s', 'w'}\n",
      "{'T', 'R', 'G', 'E', 'D'}\n",
      "<class 'pandas.core.frame.DataFrame'>\n",
      "Index: 1306 entries, DEmo17MD_fsD to USbi04FD_fsE\n",
      "Data columns (total 9 columns):\n",
      " #   Column             Non-Null Count  Dtype \n",
      "---  ------             --------------  ----- \n",
      " 0   Filename           1306 non-null   object\n",
      " 1   Mono/Bilingual     1306 non-null   object\n",
      " 2   Language_of_Data   1306 non-null   object\n",
      " 3   Mode               1306 non-null   object\n",
      " 4   Formality          1306 non-null   object\n",
      " 5   Gender             1306 non-null   object\n",
      " 6   Heritage_Language  1306 non-null   object\n",
      " 7   Age_Group          1306 non-null   object\n",
      " 8   Country_of_Data    1306 non-null   object\n",
      "dtypes: object(9)\n",
      "memory usage: 102.0+ KB\n"
     ]
    }
   ],
   "source": [
    "## making sure nothing is null before i edit the dataframe more\n",
    "print(set(rueg_all_df['Gender'].tolist()))\n",
    "print(set(rueg_all_df['Formality'].tolist()))\n",
    "print(set(rueg_all_df['Mode'].tolist()))\n",
    "print(set(rueg_all_df['Heritage_Language'].tolist()))\n",
    "rueg_all_df.info()"
   ]
  },
  {
   "cell_type": "code",
   "execution_count": 473,
   "id": "e6c862bc",
   "metadata": {},
   "outputs": [
    {
     "data": {
      "text/html": [
       "<div>\n",
       "<style scoped>\n",
       "    .dataframe tbody tr th:only-of-type {\n",
       "        vertical-align: middle;\n",
       "    }\n",
       "\n",
       "    .dataframe tbody tr th {\n",
       "        vertical-align: top;\n",
       "    }\n",
       "\n",
       "    .dataframe thead th {\n",
       "        text-align: right;\n",
       "    }\n",
       "</style>\n",
       "<table border=\"1\" class=\"dataframe\">\n",
       "  <thead>\n",
       "    <tr style=\"text-align: right;\">\n",
       "      <th></th>\n",
       "      <th>Filename</th>\n",
       "      <th>Mono/Bilingual</th>\n",
       "      <th>Language_of_Data</th>\n",
       "      <th>Mode</th>\n",
       "      <th>Formality</th>\n",
       "      <th>Gender</th>\n",
       "      <th>Heritage_Language</th>\n",
       "      <th>Age_Group</th>\n",
       "      <th>Country_of_Data</th>\n",
       "    </tr>\n",
       "  </thead>\n",
       "  <tbody>\n",
       "    <tr>\n",
       "      <th>DEmo17MD_fsD</th>\n",
       "      <td>DEmo17MD_fsD</td>\n",
       "      <td>Monolingual</td>\n",
       "      <td>German</td>\n",
       "      <td>spoken</td>\n",
       "      <td>formal</td>\n",
       "      <td>male</td>\n",
       "      <td>D</td>\n",
       "      <td>adult</td>\n",
       "      <td>Germany</td>\n",
       "    </tr>\n",
       "    <tr>\n",
       "      <th>DEmo20FD_fwD</th>\n",
       "      <td>DEmo20FD_fwD</td>\n",
       "      <td>Monolingual</td>\n",
       "      <td>German</td>\n",
       "      <td>written</td>\n",
       "      <td>formal</td>\n",
       "      <td>female</td>\n",
       "      <td>D</td>\n",
       "      <td>adult</td>\n",
       "      <td>Germany</td>\n",
       "    </tr>\n",
       "  </tbody>\n",
       "</table>\n",
       "</div>"
      ],
      "text/plain": [
       "                  Filename Mono/Bilingual Language_of_Data     Mode Formality  \\\n",
       "DEmo17MD_fsD  DEmo17MD_fsD    Monolingual           German   spoken    formal   \n",
       "DEmo20FD_fwD  DEmo20FD_fwD    Monolingual           German  written    formal   \n",
       "\n",
       "              Gender Heritage_Language Age_Group Country_of_Data  \n",
       "DEmo17MD_fsD    male                 D     adult         Germany  \n",
       "DEmo20FD_fwD  female                 D     adult         Germany  "
      ]
     },
     "execution_count": 473,
     "metadata": {},
     "output_type": "execute_result"
    }
   ],
   "source": [
    "rueg_all_df['Mode'] = rueg_all_df.Mode.map(lambda x: 'spoken' if x == 's' else 'written')\n",
    "rueg_all_df['Formality'] = rueg_all_df.Formality.map(lambda x: 'informal' if x == 'i' else 'formal')\n",
    "rueg_all_df['Gender'] = rueg_all_df.Gender.map(lambda x: 'female' if x == 'F' else 'male')\n",
    "rueg_all_df['Country_of_Data'] = rueg_all_df.Country_of_Data.map(lambda x: 'United States' if x == 'US' or x == 'Us' else 'Germany')\n",
    "rueg_all_df.head(2)"
   ]
  },
  {
   "cell_type": "code",
   "execution_count": 474,
   "id": "a3d3030c",
   "metadata": {},
   "outputs": [
    {
     "name": "stdout",
     "output_type": "stream",
     "text": [
      "<class 'pandas.core.frame.DataFrame'>\n",
      "Index: 1306 entries, DEmo17MD_fsD to USbi04FD_fsE\n",
      "Data columns (total 9 columns):\n",
      " #   Column             Non-Null Count  Dtype \n",
      "---  ------             --------------  ----- \n",
      " 0   Filename           1306 non-null   object\n",
      " 1   Mono/Bilingual     1306 non-null   object\n",
      " 2   Language_of_Data   1306 non-null   object\n",
      " 3   Mode               1306 non-null   object\n",
      " 4   Formality          1306 non-null   object\n",
      " 5   Gender             1306 non-null   object\n",
      " 6   Heritage_Language  1306 non-null   object\n",
      " 7   Age_Group          1306 non-null   object\n",
      " 8   Country_of_Data    1306 non-null   object\n",
      "dtypes: object(9)\n",
      "memory usage: 102.0+ KB\n"
     ]
    }
   ],
   "source": [
    "rueg_all_df.info()"
   ]
  },
  {
   "cell_type": "markdown",
   "id": "a5751774",
   "metadata": {},
   "source": [
    "### Basic metrics of the Metadata\n",
    "Exploring the basic metrics of data we have and what it consists of\n",
    "- find out what is defined as a 'heritage speaker'"
   ]
  },
  {
   "cell_type": "code",
   "execution_count": 475,
   "id": "f3716e9d",
   "metadata": {},
   "outputs": [
    {
     "name": "stdout",
     "output_type": "stream",
     "text": [
      "There are 653 spoken data files\n",
      "There are 653 written data files\n",
      "There are 654 informal data files\n",
      "There are 652 formal data files\n",
      "There are 1002 bilingual data files\n",
      "There are 304 monolingual data files\n",
      "There are 799 German data files\n",
      "There are 507 English data files\n",
      "There are 595 adult data files\n",
      "There are 711 adolescent data files\n",
      "There are 327 German heritage language data files\n",
      "There are 64 English heritage language data files\n",
      "There are 260 Turkish heritage language data files\n",
      "There are 267 Greek heritage language data files\n",
      "There are 388 Russian heritage language data files\n"
     ]
    }
   ],
   "source": [
    "print('There are', len(rueg_all_df.loc[(rueg_all_df['Mode'] == 'spoken')]), 'spoken data files')\n",
    "print('There are', len(rueg_all_df.loc[(rueg_all_df['Mode'] == 'written')]), 'written data files')\n",
    "print('There are', len(rueg_all_df.loc[(rueg_all_df['Formality'] == 'informal')]), 'informal data files')\n",
    "print('There are', len(rueg_all_df.loc[(rueg_all_df['Formality'] == 'formal')]), 'formal data files')\n",
    "print('There are', len(rueg_all_df.loc[(rueg_all_df['Mono/Bilingual'] == 'Bilingual')]), 'bilingual data files')\n",
    "print('There are', len(rueg_all_df.loc[(rueg_all_df['Mono/Bilingual'] == 'Monolingual')]), 'monolingual data files')\n",
    "print('There are', len(rueg_all_df.loc[(rueg_all_df['Language_of_Data'] == 'German')]), 'German data files')\n",
    "print('There are', len(rueg_all_df.loc[(rueg_all_df['Language_of_Data'] == 'English')]), 'English data files')\n",
    "print('There are', len(rueg_all_df.loc[(rueg_all_df['Age_Group'] == 'adult')]), 'adult data files')\n",
    "print('There are', len(rueg_all_df.loc[(rueg_all_df['Age_Group'] == 'adolescent')]), 'adolescent data files')\n",
    "\n",
    "print('There are', len(rueg_all_df.loc[(rueg_all_df['Heritage_Language'] == 'D')]), 'German heritage language data files')\n",
    "print('There are', len(rueg_all_df.loc[(rueg_all_df['Heritage_Language'] == 'E')]), 'English heritage language data files')\n",
    "print('There are', len(rueg_all_df.loc[(rueg_all_df['Heritage_Language'] == 'T')]), 'Turkish heritage language data files')\n",
    "print('There are', len(rueg_all_df.loc[(rueg_all_df['Heritage_Language'] == 'G')]), 'Greek heritage language data files')\n",
    "print('There are', len(rueg_all_df.loc[(rueg_all_df['Heritage_Language'] == 'R')]), 'Russian heritage language data files')\n",
    "\n"
   ]
  },
  {
   "cell_type": "markdown",
   "id": "6f38d1b5",
   "metadata": {},
   "source": [
    "### Reading in the Texts\n",
    "The data format being read in right now is the CoNLL format, and for now I'm just going to enter the entire text file (with POS, lemma, ect annotations)"
   ]
  },
  {
   "cell_type": "code",
   "execution_count": 476,
   "id": "b1b5f7a6",
   "metadata": {},
   "outputs": [
    {
     "data": {
      "text/plain": [
       "[('USbi50FD_fsD', '1\\täh\\täh\\tINTJ\\tNGHES\\t_\\t0\\troot\\t_\\t_\\n2\\thello\\thello\\tX\\tFM\\t_\\t3\\tdep\\t_\\t_\\n3\\tthis\\tthis\\tX\\tFM\\tPronType=Dem\\t4\\tdep\\t_\\t_\\n4\\tis\\tbe\\tX\\tFM\\tMood=Ind|Person=3|Tense=Pres\\t1\\tdep\\t_\\t_\\n5\\tfile\\tfile\\tX\\tFM\\tNumber=Sing\\t4\\tdep\\t_\\t_\\n6\\tNummer\\tNummer\\tNOUN\\tNN\\tCase=Nom|Gender=Fem|Number=Sing\\t8\\tnsubj\\t_\\t_\\n7\\tF\\tF\\tPROPN\\tNE\\t_\\t6\\tappos\\t_\\t_\\n8\\täh\\täh\\tINTJ\\tNGHES\\t_\\t9\\tpunct\\t_\\t_\\n9\\t16\\t@card@\\tPROPN\\tNE\\tNumType=Card\\t5\\tappos\\t_\\t_\\n\\n1\\tja\\tja\\tINTJ\\tNGIRR\\t_\\t2\\tadvmod\\t_\\t_\\n2\\tokay\\tokay\\tINTJ\\tNGIRR\\t_\\t0\\troot\\t_\\t_\\n3\\täh\\täh\\tINTJ\\tNGHES\\t_\\t2\\tdep\\t_\\t_\\n\\n1\\tich\\tich\\tPRON\\tPPER\\tCase=Nom|Number=Sing|Person=1|PronType=Prs\\t6\\tnsubj\\t_\\t_\\n2\\thabe\\thaben\\tAUX\\tVAFIN\\tMood=Ind|Number=Sing|Person=1|Tense=Past|VerbForm=Fin\\t6\\taux\\t_\\t_\\n3\\tgerade\\tgerade\\tADV\\tADV\\t_\\t6\\tadvmod\\t_\\t_\\n4\\tein\\tein\\tDET\\tART\\tCase=Nom|Definite=Ind|Gender=Masc|Number=Sing|PronType=Art\\t5\\tdet\\t_\\t_\\n5\\tUnfall\\tUnfall\\tNOUN\\tNN\\tCase=Acc|Gender=Masc|Number=Sing\\t6\\tobj\\t_\\t_\\n6\\tgesehen\\tsehen\\tVERB\\tVVPP\\tTense=Past|VerbForm=Part\\t0\\troot\\t_\\t_\\n\\n1\\tund\\tund\\tCCONJ\\tKON\\t_\\t3\\tcc\\t_\\t_\\n2\\tes\\tes\\tPRON\\tPPER\\tCase=Nom|Gender=Neut|Number=Sing|Person=3|PronType=Prs\\t3\\tnsubj\\t_\\t_\\n3\\tgab\\tgeben\\tVERB\\tVVFIN\\tMood=Ind|Number=Sing|Person=3|Tense=Past|VerbForm=Fin\\t0\\troot\\t_\\t_\\n4\\tzwei\\tzwei\\tNUM\\tCARD\\tNumType=Card\\t5\\tnummod\\t_\\t_\\n5\\tAutos\\tAuto\\tNOUN\\tNN\\tCase=Acc|Gender=Neut|Number=Plur\\t3\\tobj\\t_\\t_\\n\\n1\\täh\\täh\\tINTJ\\tNGHES\\tDegree=Pos\\t0\\troot\\t_\\t_\\n2\\tund\\tund\\tCCONJ\\tKON\\t_\\t4\\tcc\\t_\\t_\\n3\\twas\\twas\\tPRON\\tPWS\\tCase=Acc|PronType=Int\\t4\\tnsubj\\t_\\t_\\n4\\tpassiert\\tpassieren\\tVERB\\tVVPP\\tTense=Past|VerbForm=Part\\t1\\tconj\\t_\\t_\\n5\\tist\\tsein\\tAUX\\tVAFIN\\tMood=Ind|Number=Sing|Person=3|Tense=Past|VerbForm=Fin\\t4\\taux:pass\\t_\\t_\\n6\\tist\\tsein\\tAUX\\tVAFIN\\tMood=Ind|Number=Sing|Person=3|Tense=Pres|VerbForm=Fin\\t4\\taux\\t_\\t_\\n7\\tdass\\tdass\\tCCONJ\\tKOUS\\t_\\t13\\tcc\\t_\\t_\\n8\\tein\\tein\\tDET\\tART\\tCase=Nom|Definite=Ind|Gender=Masc|Number=Sing|PronType=Art\\t9\\tdet\\t_\\t_\\n9\\tMann\\tMann\\tNOUN\\tNN\\tCase=Nom|Gender=Masc|Number=Sing\\t13\\tnsubj\\t_\\t_\\n10\\tmit\\tmit\\tADP\\tAPPR\\t_\\t12\\tcase\\t_\\t_\\n11\\tseinem\\tsein\\tDET\\tPPOSAT\\tCase=Dat|Gender=Masc|Gender[psor]=Masc|Number=Sing|Person=3|Poss=Yes|PronType=Prs\\t12\\tdet\\t_\\t_\\n12\\tBall\\tBall\\tNOUN\\tNN\\tCase=Dat|Gender=Masc|Number=Sing\\t13\\tobl\\t_\\t_\\n13\\tgespielt\\tspielen\\tVERB\\tVVPP\\tTense=Past|VerbForm=Part\\t4\\tccomp\\t_\\t_\\n14\\that\\thaben\\tAUX\\tVAFIN\\tMood=Ind|Number=Sing|Person=3|Tense=Past|VerbForm=Fin\\t13\\taux\\t_\\t_\\n\\n1\\ter\\ter\\tPRON\\tPPER\\tCase=Nom|Gender=Masc|Number=Sing|Person=3|PronType=Prs\\t5\\tnsubj\\t_\\t_\\n2\\twar\\tsein\\tAUX\\tVAFIN\\tMood=Ind|Number=Sing|Person=3|Tense=Past|VerbForm=Fin\\t5\\tcop\\t_\\t_\\n3\\tmit\\tmit\\tADP\\tAPPR\\t_\\t5\\tcase\\t_\\t_\\n4\\tseiner\\tsein\\tDET\\tPPOSAT\\tCase=Dat|Gender=Fem|Gender[psor]=Masc|Number=Sing|Person=3|Poss=Yes|PronType=Prs\\t5\\tdet:poss\\t_\\t_\\n5\\tFrau\\tFrau\\tNOUN\\tNN\\tCase=Dat|Gender=Fem|Number=Sing\\t0\\troot\\t_\\t_\\n\\n1\\tund\\tund\\tCCONJ\\tKON\\t_\\t6\\tcc\\t_\\t_\\n2\\tdie\\td\\tPRON\\tPDS\\tCase=Nom|Gender=Fem|PronType=Dem\\t6\\tnsubj\\t_\\t_\\n3\\thatte\\thaben\\tAUX\\tVAFIN\\tMood=Ind|Number=Sing|Person=3|Tense=Past|VerbForm=Fin\\t6\\taux\\t_\\t_\\n4\\tein\\tein\\tDET\\tART\\tCase=Acc|Definite=Ind|Gender=Neut|Number=Sing|PronType=Art\\t5\\tdet\\t_\\t_\\n5\\tKind\\tKind\\tNOUN\\tNN\\tCase=Acc|Gender=Neut|Number=Sing\\t6\\tobj\\t_\\t_\\n6\\tim\\tin\\tADP\\tAPPRART\\tCase=Acc\\t7\\tconj\\t_\\t_\\n7\\tKinderwagen\\tKinderwagen\\tNOUN\\tNN\\tCase=Acc|Gender=Masc|Number=Sing\\t0\\troot\\t_\\t_\\n\\n1\\tund\\tund\\tCCONJ\\tKON\\t_\\t2\\tcc\\t_\\t_\\n2\\täh\\täh\\tINTJ\\tNGHES\\t_\\t0\\troot\\t_\\t_\\n3\\ter\\ter\\tPRON\\tPPER\\tCase=Nom|Gender=Masc|Number=Sing|Person=3|PronType=Prs\\t7\\tnsubj\\t_\\t_\\n4\\that\\thaben\\tAUX\\tVAFIN\\tMood=Ind|Number=Sing|Person=3|Tense=Past|VerbForm=Fin\\t7\\taux\\t_\\t_\\n5\\tden\\td\\tDET\\tART\\tCase=Acc|Definite=Def|Gender=Masc|Number=Sing|PronType=Art\\t6\\tdet\\t_\\t_\\n6\\tBall\\tBall\\tNOUN\\tNN\\tCase=Acc|Gender=Masc|Number=Sing\\t7\\tobj\\t_\\t_\\n7\\tlosgelassen\\tloslassen\\tVERB\\tVVPP\\tTense=Past|VerbForm=Part\\t2\\tconj\\t_\\t_\\n\\n1\\tund\\tund\\tCCONJ\\tKON\\t_\\t8\\tcc\\t_\\t_\\n2\\tder\\td\\tDET\\tART\\tCase=Nom|Definite=Def|Gender=Masc|Number=Sing|PronType=Art\\t3\\tdet\\t_\\t_\\n3\\tBall\\tBall\\tNOUN\\tNN\\tCase=Nom|Gender=Masc|Number=Sing\\t8\\tnsubj:pass\\t_\\t_\\n4\\tist\\tsein\\tAUX\\tVAFIN\\tMood=Ind|Number=Sing|Person=3|Tense=Past|VerbForm=Fin\\t8\\taux:pass\\t_\\t_\\n5\\tauf\\tauf\\tADP\\tAPPR\\t_\\t7\\tcase\\t_\\t_\\n6\\tder\\td\\tDET\\tART\\tCase=Dat|Definite=Def|Gender=Masc|Number=Sing|PronType=Art\\t7\\tdet\\t_\\t_\\n7\\tStraße\\tStraße\\tNOUN\\tNN\\tCase=Dat|Gender=Fem|Number=Sing\\t8\\tobl\\t_\\t_\\n8\\tgerollt\\trollen\\tVERB\\tVVPP\\tVerbForm=Part\\t0\\troot\\t_\\t_\\n\\n1\\talso\\talso\\tCCONJ\\tSEDM\\t_\\t10\\tcc\\t_\\t_\\n2\\twusste\\twissen\\tAUX\\tVMFIN\\tMood=Ind|Number=Sing|Person=3|Tense=Past|VerbForm=Fin\\t10\\taux\\t_\\t_\\n3\\tdas\\td\\tDET\\tART\\tCase=Nom|Definite=Def|Gender=Neut|Number=Sing|PronType=Art\\t4\\tdet\\t_\\t_\\n4\\tAuto\\tAuto\\tNOUN\\tNN\\tCase=Nom|Gender=Neut|Number=Sing\\t10\\tnsubj\\t_\\t_\\n5\\talso\\talso\\tCCONJ\\tKOUS\\t_\\t10\\tcc\\t_\\t_\\n6\\tdas\\td\\tDET\\tART\\tCase=Nom|Definite=Def|Gender=Neut|Number=Sing|PronType=Art\\t8\\tdet\\t_\\t_\\n7\\terste\\terst\\tADJ\\tORD\\tCase=Nom|Degree=Pos|NumType=Ord|Number=Sing\\t8\\tamod\\t_\\t_\\n8\\tAuto\\tAuto\\tNOUN\\tNN\\tCase=Nom|Gender=Neut|Number=Sing\\t10\\tnsubj\\t_\\t_\\n9\\tschnell\\tschnell\\tADJ\\tADJD\\tDegree=Pos\\t10\\tadvmod\\t_\\t_\\n10\\täh\\täh\\tADJ\\tADJD\\t_\\t11\\tadvmod\\t_\\t_\\n11\\tbremsen\\tbremsen\\tVERB\\tVVINF\\tVerbForm=Part\\t0\\troot\\t_\\t_\\n\\n1\\tund\\tund\\tCCONJ\\tKON\\t_\\t16\\tcc\\t_\\t_\\n2\\tdas\\td\\tDET\\tART\\tCase=Nom|Definite=Def|Gender=Neut|Number=Sing|PronType=Art\\t3\\tdet\\t_\\t_\\n3\\tAuto\\tAuto\\tNOUN\\tNN\\tCase=Nom|Gender=Neut|Number=Sing\\t16\\tnsubj\\t_\\t_\\n4\\thinter\\thinter\\tADP\\tAPPR\\t_\\t7\\tcase\\t_\\t_\\n5\\tdieses\\tdies\\tDET\\tPDAT\\tCase=Nom|Gender=Neut|Number=Sing|PronType=Dem\\t7\\tdet\\t_\\t_\\n6\\terste\\terst\\tADJ\\tORD\\tCase=Dat|Degree=Pos|Gender=Neut|NumType=Ord|Number=Sing\\t7\\tamod\\t_\\t_\\n7\\tAuto\\tAuto\\tNOUN\\tNN\\tCase=Dat|Gender=Neut|Number=Sing\\t16\\tobl\\t_\\t_\\n8\\täh\\täh\\tINTJ\\tNGHES\\t_\\t16\\tadvmod\\t_\\t_\\n9\\tist\\tsein\\tAUX\\tVAFIN\\tMood=Ind|Number=Sing|Person=3|Tense=Past|VerbForm=Fin\\t16\\taux\\t_\\t_\\n10\\talso\\talso\\tCCONJ\\tKOUS\\t_\\t15\\tdet\\t_\\t_\\n11\\tin\\tin\\tADP\\tAPPR\\t_\\t13\\tcase\\t_\\t_\\n12\\tersten\\terst\\tADJ\\tORD\\tCase=Dat|Degree=Pos|NumType=Ord\\t13\\tamod\\t_\\t_\\n13\\tAuto\\tAuto\\tNOUN\\tNN\\tCase=Acc|Gender=Neut|Number=Sing\\t14\\tnmod\\t_\\t_\\n14\\terstes\\terst\\tADJ\\tORD\\tCase=Nom|Degree=Pos|NumType=Ord\\t15\\tamod\\t_\\t_\\n15\\tAuto\\tAuto\\tNOUN\\tNN\\tCase=Acc|Gender=Neut|Number=Sing\\t16\\tobj\\t_\\t_\\n16\\treingefahren\\treinfahren\\tVERB\\tVVPP\\tVerbForm=Part\\t0\\troot\\t_\\t_\\n\\n1\\tdas\\td\\tDET\\tART\\tCase=Nom|Definite=Def|Gender=Neut|Number=Sing|PronType=Art\\t3\\tdet\\t_\\t_\\n2\\terste\\terst\\tADJ\\tORD\\tCase=Nom|Degree=Pos|Gender=Neut|NumType=Ord|Number=Sing\\t3\\tamod\\t_\\t_\\n3\\tAuto\\tAuto\\tNOUN\\tNN\\tCase=Nom|Gender=Neut|Number=Sing\\t5\\tnsubj\\t_\\t_\\n4\\twar\\tsein\\tAUX\\tVAFIN\\tMood=Ind|Number=Sing|Person=3|Tense=Past|VerbForm=Fin\\t5\\taux\\t_\\t_\\n5\\tblau\\tblau\\tADJ\\tADJD\\tDegree=Pos|Number=Sing\\t0\\troot\\t_\\t_\\n6\\tund\\tund\\tCCONJ\\tKON\\t_\\t11\\tcc\\t_\\t_\\n7\\tdas\\td\\tDET\\tART\\tCase=Nom|Definite=Def|Gender=Neut|Number=Sing|PronType=Art\\t8\\tdet\\t_\\t_\\n8\\thinter\\thinter\\tNOUN\\tNN\\tCase=Nom|Gender=Neut|Number=Sing\\t11\\tnsubj\\t_\\t_\\n9\\twar\\tsein\\tAUX\\tVAFIN\\tMood=Ind|Number=Sing|Person=3|Tense=Past|VerbForm=Fin\\t11\\taux\\t_\\t_\\n10\\tentweder\\tentweder\\tCCONJ\\tKON\\t_\\t11\\tcc\\t_\\t_\\n11\\tsilber\\tsilber\\tADJ\\tADJD\\tDegree=Pos|Number=Sing\\t5\\tconj\\t_\\t_\\n12\\toder\\toder\\tCCONJ\\tKON\\t_\\t13\\tcc\\t_\\t_\\n13\\tvielleicht\\tvielleicht\\tADV\\tADV\\t_\\t11\\tconj\\t_\\t_\\n14\\tweiß\\tweiß\\tADJ\\tADJD\\tDegree=Pos|Number=Sing\\t11\\tconj\\t_\\t_\\n15\\toder\\toder\\tCCONJ\\tKON\\t_\\t16\\tcc\\t_\\t_\\n16\\tso\\tso\\tCCONJ\\tSEDM\\t_\\t14\\tconj\\t_\\t_\\n17\\tdazwischen\\tdazwischen\\tADV\\tADV\\t_\\t11\\tconj\\t_\\t_\\n\\n1\\täh\\täh\\tINTJ\\tNGHES\\tDegree=Pos\\t0\\troot\\t_\\t_\\n2\\tund\\tund\\tCCONJ\\tKON\\t_\\t5\\tcc\\t_\\t_\\n3\\tder\\td\\tDET\\tART\\tCase=Nom|Definite=Def|Gender=Masc|Number=Sing|PronType=Art\\t4\\tdet\\t_\\t_\\n4\\tHund\\tHund\\tNOUN\\tNN\\tCase=Nom|Gender=Masc|Number=Sing\\t5\\tnsubj\\t_\\t_\\n5\\tgehörte\\tgehören\\tVERB\\tVVFIN\\tMood=Ind|Number=Sing|Person=3|Tense=Past|VerbForm=Fin\\t1\\tconj\\t_\\t_\\n6\\tzu\\tzu\\tADP\\tAPPR\\t_\\t8\\tcase\\t_\\t_\\n7\\teiner\\tein\\tDET\\tART\\tCase=Dat|Definite=Ind|Gender=Fem|Number=Sing|PronType=Art\\t8\\tdet\\t_\\t_\\n8\\tFrau\\tFrau\\tNOUN\\tNN\\tCase=Dat|Gender=Fem|Number=Sing\\t5\\tobl\\t_\\t_\\n\\n1\\tund\\tund\\tCCONJ\\tKON\\t_\\t6\\tcc\\t_\\t_\\n2\\tdie\\td\\tPRON\\tPDS\\tCase=Nom|Gender=Fem|Number=Sing|Person=3|PronType=Dem\\t3\\tdet\\t_\\t_\\n3\\thatte\\thaben\\tAUX\\tVAFIN\\tMood=Ind|Number=Sing|Person=3|Tense=Past|VerbForm=Fin\\t6\\taux\\t_\\t_\\n4\\twar\\tsein\\tAUX\\tVAFIN\\tMood=Ind|Number=Sing|Person=3|Tense=Past|VerbForm=Fin\\t6\\taux\\t_\\t_\\n5\\tgerade\\tgerade\\tADV\\tADV\\t_\\t6\\tadvmod\\t_\\t_\\n6\\teinkaufen\\teinkaufen\\tVERB\\tVVINF\\tTense=Past|VerbForm=Inf\\t0\\troot\\t_\\t_\\n7\\tund\\tund\\tCCONJ\\tKON\\t_\\t11\\tcc\\t_\\t_\\n8\\tdabei\\tdabei\\tADV\\tADV\\t_\\t11\\tadvmod\\t_\\t_\\n9\\tim\\tin\\tADP\\tAPPRART\\tCase=Dat\\t11\\tcase\\t_\\t_\\n10\\tAuto\\tAuto\\tNOUN\\tNN\\tCase=Dat|Gender=Neut|Number=Sing\\t11\\tnmod\\t_\\t_\\n11\\täh\\täh\\tINTJ\\tNGHES\\t_\\t6\\tconj\\t_\\t_\\n12\\tmit\\tmit\\tADP\\tAPPR\\t_\\t14\\tcase\\t_\\t_\\n13\\tihre\\tihr\\tDET\\tPPOSAT\\tCase=Dat|Gender=Fem|Gender[psor]=Fem|Number=Sing|Person=3|Poss=Yes|PronType=Prs\\t14\\tdet:poss\\t_\\t_\\n14\\tEinkäufe\\tEinkauf\\tNOUN\\tNN\\tCase=Dat|Gender=Fem|Number=Plur\\t11\\tobl\\t_\\t_\\n\\n1\\tund\\tund\\tCCONJ\\tKON\\t_\\t7\\tcc\\t_\\t_\\n2\\tja\\tja\\tINTJ\\tNGIRR\\t_\\t7\\tadvmod\\t_\\t_\\n3\\tes\\tes\\tPRON\\tPPER\\tCase=Nom|Gender=Neut|Number=Sing|Person=3|PronType=Prs\\t7\\tnsubj\\t_\\t_\\n4\\tgeht\\tgehen\\tVERB\\tVVFIN\\tMood=Ind|Number=Sing|Person=3|Tense=Pres|VerbForm=Fin\\t7\\tcop\\t_\\t_\\n5\\täh\\täh\\tINTJ\\tNGHES\\t_\\t7\\tpunct\\t_\\t_\\n6\\tallen\\tall\\tPRON\\tPIS\\tCase=Dat|PronType=Tot\\t7\\tiobj\\t_\\t_\\n7\\tokay\\tokay\\tADJ\\tADJD\\t_\\t0\\troot\\t_\\t_\\n\\n1\\tniemand\\tniemand\\tPRON\\tPIS\\tCase=Nom|PronType=Neg\\t6\\tdep\\t_\\t_\\n2\\täh\\täh\\tINTJ\\tNGHES\\t_\\t6\\tpunct\\t_\\t_\\n3\\tich\\tich\\tPRON\\tPPER\\tCase=Nom|Gender=Fem|Number=Sing|Person=1|PronType=Prs\\t6\\tnsubj\\t_\\t_\\n4\\tkonnte\\tkönnen\\tAUX\\tVMFIN\\tMood=Ind|Number=Sing|Person=1|Tense=Past|VerbForm=Fin\\t6\\taux\\t_\\t_\\n5\\tnicht\\tnicht\\tINTJ\\tPTKNEG\\t_\\t6\\tadvmod\\t_\\t_\\n6\\tsehen\\tsehen\\tVERB\\tVVINF\\tTense=Past|VerbForm=Inf\\t0\\troot\\t_\\t_\\n7\\tdass\\tdass\\tCCONJ\\tKOUS\\t_\\t10\\tcc\\t_\\t_\\n8\\tirgendjemand\\tirgendjemand\\tPRON\\tPIS\\tCase=Nom|Number=Sing|PronType=Ind\\t10\\tiobj\\t_\\t_\\n9\\tsich\\ter|es|sie\\tPRON\\tPRF\\tPerson=3|PronType=Prs\\t10\\tobj\\t_\\t_\\n10\\tverletzt\\tverletzen\\tVERB\\tVVPP\\tTense=Past|VerbForm=Part\\t6\\tacl\\t_\\t_\\n11\\that\\thaben\\tAUX\\tVAFIN\\tMood=Ind|Number=Sing|Person=3|Tense=Past|VerbForm=Fin\\t10\\taux\\t_\\t_\\n\\n1\\tund\\tund\\tCCONJ\\tKON\\t_\\t6\\tcc\\t_\\t_\\n2\\tdie\\td\\tPRON\\tPDS\\tCase=Nom|Number=Plur|Person=3|PronType=Dem\\t6\\tnsubj\\t_\\t_\\n3\\thaben\\thaben\\tAUX\\tVAFIN\\tMood=Ind|Number=Plur|Person=3|Tense=Past|VerbForm=Fin\\t6\\taux\\t_\\t_\\n4\\tdie\\td\\tDET\\tART\\tCase=Acc|Definite=Def|Gender=Fem|Number=Sing|PronType=Art\\t5\\tdet\\t_\\t_\\n5\\tPolizei\\tPolizei\\tNOUN\\tNN\\tCase=Acc|Gender=Fem|Number=Sing\\t6\\tobj\\t_\\t_\\n6\\täh\\täh\\tINTJ\\tNGHES\\t_\\t7\\tconj\\t_\\t_\\n7\\tangerufen\\tanrufen\\tVERB\\tVVPP\\tTense=Past|VerbForm=Inf\\t0\\troot\\t_\\t_\\n\\n'), ('DEbi24FT_fwD', '1\\t\\ufeffSehr\\t\\ufeffSehr\\tADV\\tADV\\t_\\t3\\tadvmod\\t_\\t_\\n2\\tgeehrte\\tgeehrt\\tADJ\\tADJA\\t_\\t3\\tamod\\t_\\t_\\n3\\tDamen\\tDame\\tNOUN\\tNN\\t_\\t0\\troot\\t_\\t_\\n4\\tund\\tund\\tCCONJ\\tKON\\t_\\t5\\tcc\\t_\\t_\\n5\\tHerren\\tHerr\\tNOUN\\tNN\\t_\\t3\\tconj\\t_\\t_\\n6\\t,\\t,\\tPUNCT\\t$,\\t_\\t3\\tpunct\\t_\\t_\\n\\n1\\thiermit\\thiermit\\tADV\\tADV\\tPronType=Int,Rel\\t2\\tadvmod\\t_\\t_\\n2\\tmöchte\\tmögen\\tVERB\\tVVFIN\\tMood=Sub|Number=Sing|Person=3|Tense=Past|VerbForm=Fin\\t0\\troot\\t_\\t_\\n3\\tich\\tich\\tPRON\\tPPER\\tCase=Nom|Number=Sing|Person=1|PronType=Prs\\t2\\tnsubj\\t_\\t_\\n4\\tIhnen\\tSie\\tPRON\\tPPER\\tCase=Dat|Person=2|PronType=Prs\\t11\\tiobj\\t_\\t_\\n5\\tmeinen\\tmein\\tDET\\tPPOSAT\\tCase=Acc|Gender=Masc|Number=Sing|VerbForm=Fin\\t6\\tdet\\t_\\t_\\n6\\tAugenzeugenbericht\\tAugenzeugenbericht\\tNOUN\\tNN\\tCase=Acc|Number=Sing\\t11\\tobj\\t_\\t_\\n7\\tfür\\tfür\\tVERB\\tVVFIN\\t_\\t11\\tcop\\t_\\t_\\n8\\tden\\td\\tDET\\tART\\tCase=Acc|Definite=Def|Gender=Masc|Number=Sing|PronType=Art\\t9\\tdet\\t_\\t_\\n9\\tFall\\tFall\\tNOUN\\tNN\\tCase=Acc|Gender=Masc|Number=Sing\\t11\\tobj\\t_\\t_\\n10\\tF16\\tF16\\tPROPN\\tNE\\t_\\t9\\tappos\\t_\\t_\\n11\\tschildern\\tschildern\\tVERB\\tVVINF\\tVerbForm=Inf\\t2\\txcomp\\t_\\t_\\n12\\t.\\t.\\tPUNCT\\t$.\\t_\\t2\\tpunct\\t_\\t_\\n\\n1\\tIch\\tich\\tPRON\\tPPER\\tCase=Nom|Number=Sing|Person=1|PronType=Prs\\t2\\tnsubj\\t_\\t_\\n2\\tbefand\\tbefinden\\tVERB\\tVVFIN\\tNumber=Sing|Person=3|VerbForm=Fin\\t0\\troot\\t_\\t_\\n3\\tmich\\tich\\tPRON\\tPRF\\tCase=Acc|Number=Sing|Person=1|PronType=Prs\\t2\\tobj\\t_\\t_\\n4\\tauf\\tauf\\tADP\\tAPPR\\t_\\t6\\tcase\\t_\\t_\\n5\\teinem\\tein\\tDET\\tART\\tCase=Dat|Definite=Ind|Gender=Masc,Neut|Number=Sing|PronType=Art\\t6\\tdet\\t_\\t_\\n6\\tParkplatz\\tParkplatz\\tNOUN\\tNN\\tCase=Dat|Gender=Masc,Neut|Number=Sing\\t2\\tobl\\t_\\t_\\n\\n1\\tund\\tund\\tCCONJ\\tKON\\t_\\t2\\tcc\\t_\\t_\\n2\\tsah\\tsehen\\tVERB\\tVVFIN\\tVerbForm=Fin\\t0\\troot\\t_\\t_\\n3\\tvor\\tvor\\tADP\\tAPPR\\t_\\t4\\tcase\\t_\\t_\\n4\\tmir\\tich\\tPRON\\tPPER\\tCase=Dat|Number=Sing|Person=1|PronType=Prs\\t2\\tobl\\t_\\t_\\n5\\t,\\t,\\tPUNCT\\t$,\\t_\\t2\\tpunct\\t_\\t_\\n6\\twie\\twie\\tSCONJ\\tKOKOM\\t_\\t51\\tmark\\t_\\t_\\n7\\teine\\tein\\tDET\\tART\\tDefinite=Ind|PronType=Art\\t8\\tdet\\t_\\t_\\n8\\tFrau\\tFrau\\tNOUN\\tNN\\t_\\t51\\tcompound\\t_\\t_\\n9\\tmit\\tmit\\tADP\\tAPPR\\t_\\t11\\tcase\\t_\\t_\\n10\\teinem\\tein\\tDET\\tART\\tCase=Dat|Definite=Ind|Gender=Masc,Neut|Number=Sing|PronType=Art\\t11\\tdet\\t_\\t_\\n11\\tKinderwagen\\tKinderwagen\\tNOUN\\tNN\\tCase=Dat|Number=Plur\\t8\\tnmod\\t_\\t_\\n12\\tund\\tund\\tCCONJ\\tKON\\t_\\t16\\tcc\\t_\\t_\\n13\\teiner\\tein\\tDET\\tART\\tDefinite=Ind|PronType=Art\\t16\\tdet\\t_\\t_\\n14\\tweiteren\\tweit\\tADJ\\tADJA\\tDegree=Cmp\\t16\\tamod\\t_\\t_\\n15\\tmännlichen\\tmännlichen\\tADJ\\tADJA\\tDegree=Pos\\t16\\tamod\\t_\\t_\\n16\\tPerson\\tPerson\\tNOUN\\tNN\\t_\\t11\\tconj\\t_\\t_\\n17\\t,\\t,\\tPUNCT\\t$,\\t_\\t11\\tpunct\\t_\\t_\\n18\\twelcher\\twelche\\tPRON\\tPWS\\tCase=Nom|PronType=Rel\\t22\\tnsubj\\t_\\t_\\n19\\tmit\\tmit\\tADP\\tAPPR\\t_\\t21\\tcase\\t_\\t_\\n20\\teinem\\tein\\tDET\\tART\\tCase=Dat|Definite=Ind|Gender=Masc,Neut|Number=Sing|PronType=Art\\t21\\tdet\\t_\\t_\\n21\\tFußball\\tFußball\\tNOUN\\tNN\\tCase=Dat|Gender=Masc,Neut|Number=Sing\\t22\\tobl\\t_\\t_\\n22\\tspielte\\tspielen\\tVERB\\tVVFIN\\tNumber=Sing|Person=3|VerbForm=Fin\\t11\\tacl\\t_\\t_\\n23\\t,\\t,\\tPUNCT\\t$,\\t_\\t29\\tpunct\\t_\\t_\\n24\\tvor\\tvor\\tADP\\tAPPR\\t_\\t25\\tcase\\t_\\t_\\n25\\tmir\\tich\\tPRON\\tPPER\\tCase=Dat|Number=Sing|Person=1|PronType=Prs\\t29\\tobl\\t_\\t_\\n26\\tin\\tin\\tADP\\tAPPR\\t_\\t28\\tcase\\t_\\t_\\n27\\tdie\\td\\tDET\\tART\\tCase=Acc|Definite=Def|Gender=Fem|Number=Sing|PronType=Art\\t28\\tdet\\t_\\t_\\n28\\tStraße\\tStraße\\tNOUN\\tNN\\tCase=Acc|Gender=Fem|Number=Sing\\t29\\tobl\\t_\\t_\\n29\\teinbogen\\teinbiegen\\tVERB\\tVVPP\\tVerbForm=Part\\t22\\tconj\\t_\\t_\\n30\\tsind\\tsein\\tAUX\\tVAFIN\\tMood=Ind|Number=Plur|Person=3|Tense=Pres|VerbForm=Fin\\t29\\taux\\t_\\t_\\n31\\tund\\tund\\tCCONJ\\tKON\\t_\\t45\\tcc\\t_\\t_\\n32\\tgleichzeitig\\tgleichzeitig\\tADJ\\tADJD\\tDegree=Pos\\t45\\tadvmod\\t_\\t_\\n33\\tauf\\tauf\\tADP\\tAPPR\\t_\\t36\\tcase\\t_\\t_\\n34\\tder\\td\\tDET\\tART\\tCase=Dat|Definite=Def|Gender=Fem|Number=Sing|PronType=Art\\t36\\tdet\\t_\\t_\\n35\\tgegenüberliegenden\\tgegenüberliegenden\\tADJ\\tADJA\\tCase=Dat|Degree=Pos|Gender=Fem|Number=Sing\\t36\\tamod\\t_\\t_\\n36\\tStraße\\tStraße\\tNOUN\\tNN\\tCase=Dat|Gender=Fem|Number=Sing\\t45\\tobl\\t_\\t_\\n37\\teine\\tein\\tDET\\tART\\tCase=Nom|Definite=Ind|Gender=Fem|Number=Sing|PronType=Art\\t38\\tdet\\t_\\t_\\n38\\tFrau\\tFrau\\tNOUN\\tNN\\tCase=Nom|Gender=Fem|Number=Sing\\t45\\tnsubj\\t_\\t_\\n39\\tmit\\tmit\\tADP\\tAPPR\\t_\\t41\\tcase\\t_\\t_\\n40\\tihrem\\tihr\\tDET\\tPPOSAT\\tPerson=3|Poss=Yes|PronType=Prs\\t41\\tdet:poss\\t_\\t_\\n41\\tHund\\tHund\\tNOUN\\tNN\\tCase=Acc|Number=Sing\\t45\\tobj\\t_\\t_\\n42\\tan\\tan\\tADP\\tAPPR\\t_\\t44\\tcase\\t_\\t_\\n43\\tihrem\\tihr\\tDET\\tPPOSAT\\tPerson=3|Poss=Yes|PronType=Prs\\t44\\tdet:poss\\t_\\t_\\n44\\tAuto\\tAuto\\tNOUN\\tNN\\t_\\t41\\tnmod\\t_\\t_\\n45\\tstand\\tstehen\\tVERB\\tVVFIN\\tNumber=Sing|Person=3|VerbForm=Fin\\t29\\tconj\\t_\\t_\\n46\\tund\\tund\\tCCONJ\\tKON\\t_\\t47\\tcc\\t_\\t_\\n47\\tEinkäufe\\tEinkäufe\\tNOUN\\tNN\\t_\\t22\\tconj\\t_\\t_\\n48\\tin\\tin\\tADP\\tAPPR\\t_\\t50\\tcase\\t_\\t_\\n49\\tihren\\tihr\\tDET\\tPPOSAT\\tPerson=3|Poss=Yes|PronType=Prs\\t50\\tdet:poss\\t_\\t_\\n50\\tKofferraum\\tKofferraum\\tNOUN\\tNN\\t_\\t47\\tnmod\\t_\\t_\\n51\\tpackte\\tpacken\\tVERB\\tVVFIN\\tNumber=Sing|Person=3|VerbForm=Fin\\t2\\tadvcl\\t_\\t_\\n52\\t.\\t.\\tPUNCT\\t$.\\t_\\t2\\tpunct\\t_\\t_\\n\\n1\\tDie\\td\\tDET\\tART\\tCase=Nom|Definite=Def|Gender=Fem|Number=Sing|PronType=Art\\t3\\tdet\\t_\\t_\\n2\\tmännliche\\tmännliche\\tADJ\\tADJA\\tCase=Nom|Degree=Pos|Gender=Fem|Number=Sing\\t3\\tamod\\t_\\t_\\n3\\tPerson\\tPerson\\tNOUN\\tNN\\tCase=Nom|Gender=Fem|Number=Sing\\t23\\tnsubj\\t_\\t_\\n4\\tneben\\tneben\\tADP\\tAPPR\\t_\\t6\\tcase\\t_\\t_\\n5\\tder\\td\\tDET\\tART\\tCase=Dat|Definite=Def|Gender=Fem|Number=Sing|PronType=Art\\t6\\tdet\\t_\\t_\\n6\\tFrau\\tFrau\\tNOUN\\tNN\\tCase=Dat|Gender=Fem|Number=Sing\\t3\\tnmod\\t_\\t_\\n7\\tmit\\tmit\\tADP\\tAPPR\\t_\\t9\\tcase\\t_\\t_\\n8\\tdem\\td\\tDET\\tART\\tCase=Dat|Definite=Def|Gender=Masc,Neut|Number=Sing|PronType=Art\\t9\\tdet\\t_\\t_\\n9\\tKinderwagen\\tKinderwagen\\tNOUN\\tNN\\tCase=Dat|Number=Plur\\t6\\tnmod\\t_\\t_\\n10\\thatte\\thaben\\tAUX\\tVAFIN\\tMood=Ind|Number=Sing|Person=3|Tense=Past|VerbForm=Fin\\t23\\taux\\t_\\t_\\n11\\tden\\td\\tDET\\tART\\tCase=Acc|Definite=Def|Gender=Masc|Number=Sing|PronType=Art\\t12\\tdet\\t_\\t_\\n12\\tBall\\tBall\\tNOUN\\tNN\\tCase=Acc|Gender=Masc|Number=Sing\\t23\\tobj\\t_\\t_\\n13\\tnicht\\tnicht\\tINTJ\\tPTKNEG\\t_\\t23\\tpunct\\t_\\t_\\n14\\tmehr\\tmehr\\tADV\\tPTKMWL\\t_\\t16\\tadvmod\\t_\\t_\\n15\\tunter\\tunter\\tADP\\tAPPR\\t_\\t16\\tcase\\t_\\t_\\n16\\tKontrolle\\tKontrolle\\tNOUN\\tNN\\t_\\t23\\tobl\\t_\\t_\\n17\\t,\\t,\\tPUNCT\\t$,\\t_\\t23\\tpunct\\t_\\t_\\n18\\tsodass\\tsodass\\tCCONJ\\tKOUS\\t_\\t23\\tcc\\t_\\t_\\n19\\tdieser\\tdiese\\tDET\\tPDAT\\tCase=Nom|PronType=Dem\\t23\\tnsubj\\t_\\t_\\n20\\tauf\\tauf\\tADP\\tAPPR\\t_\\t22\\tcase\\t_\\t_\\n21\\tdie\\td\\tDET\\tART\\tCase=Acc|Definite=Def|Gender=Fem|Number=Sing|PronType=Art\\t22\\tdet\\t_\\t_\\n22\\tStraße\\tStraße\\tNOUN\\tNN\\tCase=Acc|Gender=Fem|Number=Sing\\t23\\tobl\\t_\\t_\\n23\\trollte\\trollen\\tVERB\\tVVFIN\\tNumber=Sing|Person=3|VerbForm=Fin\\t0\\troot\\t_\\t_\\n24\\t,\\t,\\tPUNCT\\t$,\\t_\\t23\\tpunct\\t_\\t_\\n25\\twährend\\twährend\\tADJ\\tADJD\\t_\\t27\\tamod\\t_\\t_\\n26\\tzwei\\tzwei\\tNUM\\tCARD\\tNumType=Card\\t27\\tnummod\\t_\\t_\\n27\\tAutos\\tAuto\\tNOUN\\tNN\\tCase=Acc|Number=Sing\\t31\\tobl\\t_\\t_\\n28\\tin\\tin\\tADP\\tAPPR\\t_\\t30\\tcase\\t_\\t_\\n29\\tdie\\td\\tDET\\tART\\tCase=Acc|Definite=Def|Gender=Fem|Number=Sing|PronType=Art\\t30\\tdet\\t_\\t_\\n30\\tStraße\\tStraße\\tNOUN\\tNN\\tCase=Acc|Gender=Fem|Number=Sing\\t31\\tobl\\t_\\t_\\n31\\teinkehrten\\teinkehren\\tVERB\\tVVFIN\\tNumber=Plur|Person=3|VerbForm=Fin\\t23\\tconj\\t_\\t_\\n32\\tund\\tund\\tCCONJ\\tKON\\t_\\t35\\tcc\\t_\\t_\\n33\\tdas\\td\\tDET\\tART\\tDefinite=Def|PronType=Art\\t35\\tdet\\t_\\t_\\n34\\tvordere\\tvorder\\tADJ\\tADJA\\tDegree=Pos\\t35\\tamod\\t_\\t_\\n35\\tAuto\\tAuto\\tNOUN\\tNN\\t_\\t31\\tconj\\t_\\t_\\n36\\teine\\tein\\tDET\\tART\\tCase=Acc|Definite=Ind|Gender=Fem|Number=Sing|PronType=Art\\t37\\tdet\\t_\\t_\\n37\\tGefahrenbremsung\\tGefahrenbremsung\\tNOUN\\tNN\\tCase=Acc|Gender=Fem|Number=Sing\\t38\\tobj\\t_\\t_\\n38\\tdurchführen\\tdurchführen\\tVERB\\tVVINF\\tVerbForm=Fin\\t31\\tconj\\t_\\t_\\n39\\tmusste\\tmüssen\\tAUX\\tVMFIN\\tMood=Ind|Number=Sing|Person=3|Tense=Past|VerbForm=Fin\\t38\\taux\\t_\\t_\\n40\\t.\\t.\\tPUNCT\\t$.\\t_\\t23\\tpunct\\t_\\t_\\n\\n1\\tEin\\tein\\tDET\\tART\\tCase=Nom|Definite=Ind|Gender=Masc,Neut|Number=Sing|PronType=Art\\t3\\tdet\\t_\\t_\\n2\\tkleiner\\tklein\\tADJ\\tADJA\\tCase=Nom|Degree=Cmp,Pos|Gender=Masc,Neut|Number=Sing\\t3\\tamod\\t_\\t_\\n3\\tUnfall\\tUnfall\\tNOUN\\tNN\\tCase=Dat|Gender=Masc,Neut|Number=Sing\\t4\\tnsubj\\t_\\t_\\n4\\tentstand\\tentstehen\\tVERB\\tVVFIN\\tNumber=Sing|Person=3|VerbForm=Fin\\t0\\troot\\t_\\t_\\n5\\tsomit\\tsomit\\tADV\\tADV\\t_\\t4\\tadvmod\\t_\\t_\\n6\\tzwischen\\tzwischen\\tADP\\tAPPR\\t_\\t9\\tcase\\t_\\t_\\n7\\tden\\td\\tDET\\tART\\tCase=Dat|Definite=Def|Number=Plur|PronType=Art\\t9\\tdet\\t_\\t_\\n8\\tbeiden\\tbeide\\tPRON\\tPIDAT\\tCase=Dat|NumType=Card|Number=Plur|PronType=Tot\\t9\\tamod\\t_\\t_\\n9\\tAutos\\tAuto\\tNOUN\\tNN\\tCase=Dat|Number=Plur\\t4\\tobl\\t_\\t_\\n10\\t,\\t,\\tPUNCT\\t$,\\t_\\t4\\tpunct\\t_\\t_\\n11\\tworauf\\tworauf\\tADV\\tPWAV\\t_\\t14\\tadvmod\\t_\\t_\\n12\\tdie\\td\\tDET\\tART\\tCase=Nom|Definite=Def|Gender=Fem|Number=Sing|PronType=Art\\t13\\tdet\\t_\\t_\\n13\\tFahrer\\tFahrer\\tNOUN\\tNN\\tCase=Nom|Gender=Fem|Number=Sing\\t14\\tnsubj\\t_\\t_\\n14\\tausgestiegen\\taussteigen\\tVERB\\tVVPP\\tNumber=Plur|Person=3|VerbForm=Fin\\t4\\tparataxis\\t_\\t_\\n15\\tsind\\tsein\\tAUX\\tVAFIN\\tMood=Ind|Number=Sing|Person=3|Tense=Pres|VerbForm=Fin\\t14\\taux\\t_\\t_\\n16\\tund\\tund\\tCCONJ\\tKON\\t_\\t19\\tcc\\t_\\t_\\n17\\tdie\\td\\tDET\\tART\\tCase=Nom|Definite=Def|Gender=Fem|Number=Sing|PronType=Art\\t18\\tdet\\t_\\t_\\n18\\tPolzei\\tPolzei\\tNOUN\\tNN\\tCase=Nom|Gender=Fem|Number=Sing\\t19\\tnsubj\\t_\\t_\\n19\\talamierten\\talamieren\\tVERB\\tVVFIN\\tNumber=Plur|Person=3|VerbForm=Fin\\t14\\tconj\\t_\\t_\\n20\\t.\\t.\\tPUNCT\\t$.\\t_\\t4\\tpunct\\t_\\t_\\n\\n1\\tNachdem\\tnachdem\\tCCONJ\\tKOUS\\t_\\t13\\tdep\\t_\\t_\\n2\\tdie\\td\\tDET\\tART\\tCase=Nom|Definite=Def|Gender=Fem|Number=Sing|PronType=Art\\t4\\tdet\\t_\\t_\\n3\\tmännliche\\tmännliche\\tADJ\\tADJA\\tCase=Nom|Degree=Pos|Gender=Fem|Number=Sing\\t4\\tamod\\t_\\t_\\n4\\tPerson\\tPerson\\tNOUN\\tNN\\tCase=Nom|Gender=Fem|Number=Sing\\t1\\tnsubj\\t_\\t_\\n5\\tmit\\tmit\\tADP\\tAPPR\\t_\\t7\\tcase\\t_\\t_\\n6\\tdem\\td\\tDET\\tART\\tCase=Dat|Definite=Def|Gender=Masc,Neut|Number=Sing|PronType=Art\\t7\\tdet\\t_\\t_\\n7\\tBall\\tBall\\tNOUN\\tNN\\tCase=Dat|Gender=Masc,Neut|Number=Sing\\t4\\tnmod\\t_\\t_\\n8\\tder\\td\\tDET\\tART\\tDefinite=Def|PronType=Art\\t9\\tdet\\t_\\t_\\n9\\tFrau\\tFrau\\tNOUN\\tNN\\t_\\t7\\tnmod\\t_\\t_\\n10\\tmit\\tmit\\tADP\\tAPPR\\t_\\t12\\tcase\\t_\\t_\\n11\\tdem\\td\\tDET\\tART\\tCase=Dat|Definite=Def|Gender=Masc,Neut|Number=Sing|PronType=Art\\t12\\tdet\\t_\\t_\\n12\\tHund\\tHund\\tNOUN\\tNN\\tCase=Dat|Gender=Masc,Neut|Number=Sing\\t13\\tobl\\t_\\t_\\n13\\thalf\\thelfen\\tVERB\\tVVFIN\\tPerson=3|VerbForm=Fin\\t0\\troot\\t_\\t_\\n14\\t,\\t,\\tPUNCT\\t$,\\t_\\t13\\tpunct\\t_\\t_\\n15\\tdie\\td\\tDET\\tART\\tCase=Acc|Definite=Def|Number=Plur|PronType=Art\\t16\\tdet\\t_\\t_\\n16\\tEinkäufe\\tEinkäufe\\tNOUN\\tNN\\tCase=Acc|Number=Plur\\t22\\tobj\\t_\\t_\\n17\\twieder\\twieder\\tADV\\tADV\\t_\\t22\\tadvmod\\t_\\t_\\n18\\tin\\tin\\tADP\\tAPPR\\t_\\t20\\tcase\\t_\\t_\\n19\\tdie\\td\\tDET\\tART\\tCase=Acc|Definite=Def|Number=Plur|PronType=Art\\t20\\tdet\\t_\\t_\\n20\\tTüte\\tTüte\\tNOUN\\tNN\\tCase=Acc|Number=Plur\\t22\\tobl\\t_\\t_\\n21\\tzu\\tzu\\tPART\\tPTKZU\\t_\\t22\\tmark\\t_\\t_\\n22\\tpacken\\tpacken\\tVERB\\tVVINF\\tVerbForm=Inf\\t13\\txcomp\\t_\\t_\\n23\\t,\\t,\\tPUNCT\\t$,\\t_\\t13\\tpunct\\t_\\t_\\n24\\tdie\\tdie\\tPRON\\tPRELS\\tCase=Nom|PronType=Rel\\t29\\tnsubj\\t_\\t_\\n25\\tihr\\tihr\\tPRON\\tPPER\\tCase=Nom|Number=Plur|Person=2|PronType=Prs\\t29\\tobj\\t_\\t_\\n26\\tauf\\tauf\\tADP\\tAPPR\\t_\\t28\\tcase\\t_\\t_\\n27\\tden\\td\\tDET\\tART\\tCase=Acc|Definite=Def|Gender=Masc|Number=Sing|PronType=Art\\t28\\tdet\\t_\\t_\\n28\\tBoden\\tBoden\\tNOUN\\tNN\\tCase=Acc|Gender=Masc|Number=Sing\\t29\\tobl\\t_\\t_\\n29\\tfiel\\tfallen\\tVERB\\tVVFIN\\tNumber=Sing|Person=3|VerbForm=Fin\\t13\\tacl\\t_\\t_\\n30\\t,\\t,\\tPUNCT\\t$,\\t_\\t13\\tpunct\\t_\\t_\\n31\\tda\\tda\\tADV\\tADV\\t_\\t36\\tadvmod\\t_\\t_\\n32\\tder\\td\\tDET\\tART\\tCase=Nom|Definite=Def|Gender=Masc|Number=Sing|PronType=Art\\t33\\tdet\\t_\\t_\\n33\\tHund\\tHund\\tNOUN\\tNN\\tCase=Nom|Gender=Masc|Number=Sing\\t36\\tnsubj\\t_\\t_\\n34\\tsich\\ter|es|sie\\tPRON\\tPRF\\tCase=Acc|Person=3|PronType=Prs\\t36\\tobj\\t_\\t_\\n35\\tzuvor\\tzuvor\\tADV\\tADV\\t_\\t36\\tadvmod\\t_\\t_\\n36\\terschreckte\\terschrecken\\tVERB\\tVVFIN\\t_\\t13\\tconj\\t_\\t_\\n37\\tund\\tund\\tCCONJ\\tKON\\t_\\t38\\tcc\\t_\\t_\\n38\\tbellte\\tbellen\\tVERB\\tVVFIN\\tVerbForm=Fin\\t43\\tconj\\t_\\t_\\n39\\taufgrund\\taufgrund\\tADP\\tAPPR\\t_\\t41\\tcase\\t_\\t_\\n40\\tdes\\td\\tDET\\tART\\tDefinite=Def|PronType=Art\\t41\\tdet\\t_\\t_\\n41\\tBalls\\tBall\\tNOUN\\tNN\\t_\\t43\\tobl\\t_\\t_\\n42\\t,\\t,\\tPROPN\\tNE\\t_\\t43\\tdep\\t_\\t_\\n43\\tlief\\tlaufen\\tVERB\\tVVFIN\\tNumber=Sing|Person=3|VerbForm=Fin\\t36\\tconj\\t_\\t_\\n44\\ter\\ter\\tPRON\\tPPER\\tCase=Nom|Gender=Masc|Number=Sing|Person=3|PronType=Prs\\t43\\tnsubj\\t_\\t_\\n45\\tzu\\tzu\\tADP\\tAPPR\\t_\\t48\\tcase\\t_\\t_\\n46\\tden\\td\\tDET\\tART\\tCase=Dat|Definite=Def|Number=Plur|PronType=Art\\t48\\tdet\\t_\\t_\\n47\\tbetroffenen\\tbetroffen\\tADJ\\tADJA\\tCase=Dat|Degree=Pos|Number=Plur\\t48\\tamod\\t_\\t_\\n48\\tAutofahrern\\tAutofahrer\\tNOUN\\tNN\\tCase=Dat|Number=Plur\\t43\\tobl\\t_\\t_\\n\\n1\\tund\\tund\\tCCONJ\\tKON\\t_\\t2\\tcc\\t_\\t_\\n2\\tunterhielt\\tunterhalten\\tVERB\\tVVFIN\\tVerbForm=Fin\\t0\\troot\\t_\\t_\\n3\\tsich\\ter|es|sie\\tPRON\\tPRF\\tCase=Acc|Person=3|PronType=Prs\\t2\\tobj\\t_\\t_\\n4\\tmit\\tmit\\tADP\\tAPPR\\t_\\t5\\tcase\\t_\\t_\\n5\\tihnen\\tsie\\tPRON\\tPPER\\tCase=Dat|Number=Plur|Person=3|PronType=Prs\\t2\\tobl\\t_\\t_\\n6\\t.\\t.\\tPUNCT\\t$.\\t_\\t2\\tpunct\\t_\\t_\\n\\n1\\tDie\\td\\tDET\\tART\\tCase=Nom|Definite=Def|Gender=Fem|Number=Sing|PronType=Art\\t2\\tdet\\t_\\t_\\n2\\tFrau\\tFrau\\tNOUN\\tNN\\tCase=Nom|Gender=Fem|Number=Sing\\t10\\tnsubj\\t_\\t_\\n3\\tmit\\tmit\\tADP\\tAPPR\\t_\\t5\\tcase\\t_\\t_\\n4\\tdem\\td\\tDET\\tART\\tCase=Dat|Definite=Def|Gender=Masc,Neut|Number=Sing|PronType=Art\\t5\\tdet\\t_\\t_\\n5\\tKinderwagen\\tKinderwagen\\tNOUN\\tNN\\tCase=Dat|Number=Plur\\t2\\tnmod\\t_\\t_\\n6\\tblieb\\tbleiben\\tVERB\\tVVFIN\\tNumber=Sing|Person=3|VerbForm=Fin\\t10\\tcop\\t_\\t_\\n7\\tdie\\td\\tDET\\tART\\tCase=Nom|Definite=Def|Gender=Fem|Number=Sing|PronType=Art\\t9\\tdet\\t_\\t_\\n8\\tganze\\tganz\\tADJ\\tADJA\\tCase=Nom|Degree=Pos|Gender=Fem|Number=Sing\\t9\\tamod\\t_\\t_\\n9\\tZeit\\tZeit\\tNOUN\\tNN\\tCase=Nom|Gender=Fem|Number=Sing\\t10\\tnsubj\\t_\\t_\\n10\\tim\\tim\\tADP\\tAPPRART\\t_\\t0\\troot\\t_\\t_\\n11\\tHintergrund\\tHintergrund\\tNOUN\\tNN\\tCase=Acc|Number=Sing\\t10\\tobj\\t_\\t_\\n12\\t.\\t.\\tPUNCT\\t$.\\t_\\t10\\tpunct\\t_\\t_\\n\\n1\\tmit\\tmit\\tADP\\tAPPR\\t_\\t3\\tcase\\t_\\t_\\n2\\tfreundlichen\\tfreundlich\\tADJ\\tADJA\\tDegree=Pos\\t3\\tamod\\t_\\t_\\n3\\tGrüßen\\tGrüßen\\tNOUN\\tNN\\t_\\t0\\troot\\t_\\t_\\n\\n1\\tDEbi24FT\\tDEbi24FT\\tPROPN\\tNE\\t_\\t0\\troot\\t_\\t_\\n\\n'), ('DEbi64MR_isD', '1\\thi\\thi\\tINTJ\\tNGIRR\\t_\\t0\\troot\\t_\\t_\\n2\\tdu\\tdu\\tPRON\\tPPER\\t_\\t1\\tdep\\t_\\t_\\n\\n1\\tich\\tich\\tPRON\\tPPER\\tCase=Nom|Number=Sing|Person=1|PronType=Prs\\t6\\tnsubj\\t_\\t_\\n2\\thab\\thaben\\tAUX\\tVAFIN\\t_\\t6\\taux\\t_\\t_\\n3\\tgerade\\tgerade\\tADV\\tADV\\t_\\t6\\tadvmod\\t_\\t_\\n4\\teinen\\tein\\tDET\\tART\\tCase=Acc|Definite=Ind|Gender=Masc|Number=Sing|PronType=Art\\t5\\tdet\\t_\\t_\\n5\\tUnfall\\tUnfall\\tNOUN\\tNN\\tCase=Acc|Gender=Masc|Number=Sing\\t6\\tobj\\t_\\t_\\n6\\tgesehen\\tsehen\\tVERB\\tVVPP\\tVerbForm=Part\\t0\\troot\\t_\\t_\\n\\n1\\tund\\tund\\tCCONJ\\tKON\\t_\\t6\\tcc\\t_\\t_\\n2\\tzwar\\tzwar\\tADV\\tADV\\t_\\t6\\tadvmod\\t_\\t_\\n3\\twar\\tsein\\tAUX\\tVAFIN\\tMood=Ind|Number=Sing|Person=1|Tense=Past|VerbForm=Fin\\t6\\tcop\\t_\\t_\\n4\\tich\\tich\\tPRON\\tPPER\\tCase=Nom|Number=Sing|Person=1|PronType=Prs\\t6\\tnsubj\\t_\\t_\\n5\\tbeim\\tbei\\tADP\\tAPPRART\\t_\\t6\\tcase\\t_\\t_\\n6\\tAldi\\tAldi\\tPROPN\\tNE\\t_\\t0\\troot\\t_\\t_\\n\\n1\\tund\\tund\\tCCONJ\\tKON\\t_\\t5\\tcc\\t_\\t_\\n2\\tdann\\tdann\\tADV\\tADV\\t_\\t5\\tadvmod\\t_\\t_\\n3\\tbin\\tsein\\tAUX\\tVAFIN\\tMood=Ind|Number=Sing|Person=1|Tense=Pres|VerbForm=Fin\\t5\\taux\\t_\\t_\\n4\\tich\\tich\\tPRON\\tPPER\\tCase=Nom|Number=Sing|Person=1|PronType=Prs\\t5\\tnsubj\\t_\\t_\\n5\\trausgekommen\\trauskommen\\tVERB\\tVVPP\\tVerbForm=Inf\\t0\\troot\\t_\\t_\\n\\n1\\tund\\tund\\tCCONJ\\tKON\\t_\\t5\\tcc\\t_\\t_\\n2\\tda\\tda\\tADV\\tADV\\t_\\t5\\tadvmod\\t_\\t_\\n3\\tist\\tsein\\tAUX\\tVAFIN\\tMood=Ind|Number=Sing|Person=3|Tense=Pres|VerbForm=Fin\\t5\\tcop\\t_\\t_\\n4\\tein\\tein\\tDET\\tART\\tDefinite=Ind|PronType=Art\\t5\\tdet\\t_\\t_\\n5\\tAuto\\tAuto\\tNOUN\\tNN\\t_\\t8\\tdep\\t_\\t_\\n6\\tins\\tin\\tADP\\tAPPRART\\tCase=Nom|Gender=Fem|Number=Sing\\t7\\tamod\\t_\\t_\\n7\\tandere\\tander\\tNOUN\\tPIDS\\tCase=Nom|Gender=Fem|Number=Sing|PronType=Ind\\t5\\tnmod\\t_\\t_\\n8\\treingefahren\\treinfahren\\tVERB\\tVVPP\\tVerbForm=Fin\\t0\\troot\\t_\\t_\\n\\n1\\talso\\talso\\tCCONJ\\tSEDM\\t_\\t7\\tcc\\t_\\t_\\n2\\tein\\tein\\tDET\\tART\\tDefinite=Ind|PronType=Art\\t3\\tdet\\t_\\t_\\n3\\tJunge\\tJunge\\tINTJ\\tNGIRR\\t_\\t7\\tnsubj\\t_\\t_\\n4\\that\\thaben\\tAUX\\tVAFIN\\tMood=Ind|Number=Sing|Person=3|Tense=Pres|VerbForm=Fin\\t7\\taux\\t_\\t_\\n5\\tein\\tein\\tDET\\tART\\tCase=Acc|Definite=Ind|Gender=Masc|Number=Sing|PronType=Art\\t6\\tdet\\t_\\t_\\n6\\tBall\\tBall\\tNOUN\\tNN\\tCase=Acc|Gender=Masc|Number=Sing\\t7\\tobj\\t_\\t_\\n7\\tfallenlassen\\tfallenlassen\\tVERB\\tVVFIN\\tNumber=Plur|Person=3|VerbForm=Fin\\t0\\troot\\t_\\t_\\n\\n1\\tdieser\\tdiese\\tDET\\tPDAT\\tCase=Nom|Gender=Masc|Number=Sing|PronType=Dem\\t2\\tdet\\t_\\t_\\n2\\tBall\\tBall\\tNOUN\\tNN\\tCase=Nom|Gender=Masc|Number=Sing\\t8\\tnsubj\\t_\\t_\\n3\\tist\\tsein\\tAUX\\tVAFIN\\tMood=Ind|Number=Sing|Person=3|Tense=Pres|VerbForm=Fin\\t8\\taux\\t_\\t_\\n4\\tdann\\tdann\\tADV\\tADV\\t_\\t8\\tadvmod\\t_\\t_\\n5\\tauf\\tauf\\tADP\\tAPPR\\t_\\t7\\tcase\\t_\\t_\\n6\\tdie\\td\\tDET\\tART\\tCase=Acc|Definite=Def|Gender=Fem|Number=Sing|PronType=Art\\t7\\tdet\\t_\\t_\\n7\\tStraße\\tStraße\\tNOUN\\tNN\\tCase=Acc|Gender=Fem|Number=Sing\\t8\\tobl\\t_\\t_\\n8\\tgerollt\\trollen\\tVERB\\tVVPP\\tDegree=Pos\\t0\\troot\\t_\\t_\\n\\n1\\tso\\tso\\tADV\\tPTKIFG\\t_\\t4\\tadvmod\\t_\\t_\\n2\\tein\\tein\\tDET\\tART\\tDefinite=Ind|PronType=Art\\t4\\tdet\\t_\\t_\\n3\\tanderer\\tander\\tPRON\\tPIDAT\\tDegree=Cmp,Pos\\t4\\tdet\\t_\\t_\\n4\\tHund\\tHund\\tNOUN\\tNN\\t_\\t8\\tnsubj\\t_\\t_\\n5\\tist\\tsein\\tAUX\\tVAFIN\\tMood=Ind|Number=Sing|Person=3|Tense=Pres|VerbForm=Fin\\t8\\taux\\t_\\t_\\n6\\tdem\\td\\tDET\\tART\\tCase=Dat|Definite=Def|Gender=Masc,Neut|Number=Sing|PronType=Art\\t7\\tdet\\t_\\t_\\n7\\tBall\\tBall\\tNOUN\\tNN\\tCase=Dat|Gender=Masc,Neut|Number=Sing\\t8\\tiobj\\t_\\t_\\n8\\thinterhergerannt\\thinterherrennen\\tVERB\\tVVPP\\t_\\t0\\troot\\t_\\t_\\n\\n1\\tund\\tund\\tCCONJ\\tKON\\t_\\t8\\tcc\\t_\\t_\\n2\\tdas\\td\\tDET\\tART\\tCase=Nom|Definite=Def|Gender=Neut|Number=Sing|PronType=Art\\t4\\tdet\\t_\\t_\\n3\\terste\\terste\\tADJ\\tORD\\tCase=Nom|Degree=Pos|Gender=Neut|NumType=Ord|Number=Sing\\t4\\tamod\\t_\\t_\\n4\\tAuto\\tAuto\\tNOUN\\tNN\\tCase=Nom|Gender=Neut|Number=Sing\\t8\\tnsubj\\t_\\t_\\n5\\täh\\täh\\tINTJ\\tNGHES\\t_\\t8\\tmark\\t_\\t_\\n6\\tmusste\\tmüssen\\tAUX\\tVMFIN\\tMood=Ind|Number=Sing|Person=3|Tense=Past|VerbForm=Fin\\t8\\taux\\t_\\t_\\n7\\tdann\\tdann\\tADV\\tADV\\t_\\t8\\tadvmod\\t_\\t_\\n8\\tbremsen\\tbremsen\\tVERB\\tVVINF\\tVerbForm=Inf\\t0\\troot\\t_\\t_\\n9\\tum\\tum\\tADP\\tAPPR\\t_\\t14\\tmark\\t_\\t_\\n10\\tden\\td\\tDET\\tART\\tCase=Acc|Definite=Def|Gender=Masc|Number=Sing|PronType=Art\\t11\\tdet\\t_\\t_\\n11\\tHund\\tHund\\tNOUN\\tNN\\tCase=Acc|Gender=Masc|Number=Sing\\t14\\tobj\\t_\\t_\\n12\\tnicht\\tnicht\\tINTJ\\tPTKNEG\\t_\\t14\\tadvmod\\t_\\t_\\n13\\tzu\\tzu\\tPART\\tPTKZU\\t_\\t14\\tmark\\t_\\t_\\n14\\tüberfahren\\tüberfahren\\tVERB\\tVVINF\\tVerbForm=Inf\\t8\\tadvcl\\t_\\t_\\n\\n1\\tdas\\td\\tDET\\tART\\tCase=Nom|Definite=Def|Gender=Neut|Number=Sing|PronType=Art\\t3\\tdet\\t_\\t_\\n2\\tzweite\\tzweite\\tADJ\\tORD\\tCase=Nom|Degree=Pos|Gender=Neut|NumType=Ord|Number=Sing\\t3\\tamod\\t_\\t_\\n3\\tAuto\\tAuto\\tNOUN\\tNN\\tCase=Nom|Gender=Neut|Number=Sing\\t12\\tnsubj\\t_\\t_\\n4\\that\\thaben\\tAUX\\tVAFIN\\tMood=Ind|Number=Sing|Person=3|Tense=Pres|VerbForm=Fin\\t12\\taux\\t_\\t_\\n5\\tes\\tes\\tPRON\\tPPER\\tCase=Acc,Nom|Gender=Neut|Number=Sing|Person=3|PronType=Prs\\t12\\tnsubj\\t_\\t_\\n6\\taber\\taber\\tADV\\tPTKMA\\t_\\t12\\tadvmod\\t_\\t_\\n7\\tirgendwie\\tirgendwie\\tADV\\tADV\\t_\\t12\\tadvmod\\t_\\t_\\n8\\tnicht\\tnicht\\tINTJ\\tPTKNEG\\t_\\t12\\tadvmod\\t_\\t_\\n9\\tso\\tso\\tADV\\tPTKIFG\\t_\\t10\\tadvmod\\t_\\t_\\n10\\tschnell\\tschnell\\tADJ\\tADJD\\tDegree=Pos\\t12\\tadvmod\\t_\\t_\\n11\\täh\\täh\\tINTJ\\tNGHES\\tDegree=Pos\\t12\\tadvmod\\t_\\t_\\n12\\tgesehen\\tsehen\\tVERB\\tVVPP\\t_\\t0\\troot\\t_\\t_\\n\\n1\\tund\\tund\\tCCONJ\\tKON\\t_\\t3\\tcc\\t_\\t_\\n2\\tdeswegen\\tdeswegen\\tADV\\tADV\\t_\\t3\\tadvmod\\t_\\t_\\n3\\tnaja\\tnaja\\tINTJ\\tNGIRR\\t_\\t9\\tconj\\t_\\t_\\n4\\tkonnte\\tkönnen\\tAUX\\tVMFIN\\tMood=Ind|Number=Sing|Person=3|Tense=Past|VerbForm=Fin\\t9\\taux\\t_\\t_\\n5\\tder\\td\\tPRON\\tPDS\\tCase=Nom|Definite=Def|Gender=Masc|Number=Sing|PronType=Art\\t9\\tnsubj\\t_\\t_\\n6\\thalt\\thalt\\tADV\\tPTKMA\\tCase=Nom|Gender=Masc|Number=Sing\\t9\\tnsubj\\t_\\t_\\n7\\tnicht\\tnicht\\tINTJ\\tPTKNEG\\t_\\t9\\tadvmod\\t_\\t_\\n8\\tmehr\\tmehr\\tADV\\tPTKMWL\\t_\\t9\\tadvmod\\t_\\t_\\n9\\tbremsen\\tbremsen\\tVERB\\tVVINF\\tVerbForm=Inf\\t0\\troot\\t_\\t_\\n\\n1\\tund\\tund\\tCCONJ\\tKON\\t_\\t5\\tcc\\t_\\t_\\n2\\tist\\tsein\\tAUX\\tVAFIN\\tMood=Ind|Tense=Pres|VerbForm=Fin\\t5\\tcop\\t_\\t_\\n3\\tins\\tin\\tADP\\tAPPRART\\t_\\t5\\tcase\\t_\\t_\\n4\\terste\\terste\\tADJ\\tORD\\tDegree=Pos|NumType=Ord\\t5\\tamod\\t_\\t_\\n5\\tAuto\\tAuto\\tNOUN\\tNN\\t_\\t6\\tobl\\t_\\t_\\n6\\treingefahren\\treinfahren\\tVERB\\tVVPP\\tVerbForm=Fin\\t0\\troot\\t_\\t_\\n\\n')]"
      ]
     },
     "execution_count": 476,
     "metadata": {},
     "output_type": "execute_result"
    }
   ],
   "source": [
    "files = glob.glob('RUEG_corpus_0.3.0/conll/RUEG/DE/BILINGUAL/*.txt', recursive = True)\n",
    "de_bi_texts = []\n",
    "for file in files:\n",
    "    f = open(file)\n",
    "    s = f.read()\n",
    "    de_bi_texts.append(((file.split(\"BILINGUAL/\",1)[1].strip('.txt')), s))\n",
    "    f.close()\n",
    "de_bi_texts[:3]\n",
    "## important to note that everything is tab seperated"
   ]
  },
  {
   "cell_type": "code",
   "execution_count": 477,
   "id": "fc8a95ff",
   "metadata": {},
   "outputs": [],
   "source": [
    "files = glob.glob('RUEG_corpus_0.3.0/conll/RUEG/DE/MONOLINGUAL/*.txt', recursive = True)\n",
    "de_mono_texts = []\n",
    "for file in files:\n",
    "    f = open(file)\n",
    "    s = f.read()\n",
    "    de_mono_texts.append(((file.split(\"MONOLINGUAL/\",1)[1].strip('.txt')), s))\n",
    "    f.close()"
   ]
  },
  {
   "cell_type": "code",
   "execution_count": 478,
   "id": "b04e58b4",
   "metadata": {},
   "outputs": [
    {
     "data": {
      "text/plain": [
       "443"
      ]
     },
     "execution_count": 478,
     "metadata": {},
     "output_type": "execute_result"
    }
   ],
   "source": [
    "files = glob.glob('RUEG_corpus_0.3.0/conll/RUEG/EN/BILINGUAL/*.txt', recursive = True)\n",
    "en_bi_texts = []\n",
    "for file in files:\n",
    "    f = open(file)\n",
    "    s = f.read()\n",
    "    file = file.split(\"BILINGUAL/\",1)[1].strip('.txt')\n",
    "    if file != 'USbi77FG_fwE':          ## Same thing, this text file has no POS marking so it will be discluded\n",
    "        en_bi_texts.append((file, s))\n",
    "    f.close()\n",
    "len(en_bi_texts)"
   ]
  },
  {
   "cell_type": "code",
   "execution_count": 479,
   "id": "cf58d3d5",
   "metadata": {},
   "outputs": [],
   "source": [
    "files = glob.glob('RUEG_corpus_0.3.0/conll/RUEG/EN/MONOLINGUAL/*.txt', recursive = True)\n",
    "en_mono_texts = []\n",
    "for file in files:\n",
    "    f = open(file)\n",
    "    s = f.read()\n",
    "    en_mono_texts.append(((file.split(\"MONOLINGUAL/\",1)[1].strip('.txt')), s))\n",
    "    f.close()"
   ]
  },
  {
   "cell_type": "code",
   "execution_count": 480,
   "id": "50043f50",
   "metadata": {},
   "outputs": [
    {
     "data": {
      "text/html": [
       "<div>\n",
       "<style scoped>\n",
       "    .dataframe tbody tr th:only-of-type {\n",
       "        vertical-align: middle;\n",
       "    }\n",
       "\n",
       "    .dataframe tbody tr th {\n",
       "        vertical-align: top;\n",
       "    }\n",
       "\n",
       "    .dataframe thead th {\n",
       "        text-align: right;\n",
       "    }\n",
       "</style>\n",
       "<table border=\"1\" class=\"dataframe\">\n",
       "  <thead>\n",
       "    <tr style=\"text-align: right;\">\n",
       "      <th></th>\n",
       "      <th>Raw_ConLL</th>\n",
       "    </tr>\n",
       "    <tr>\n",
       "      <th>Filename</th>\n",
       "      <th></th>\n",
       "    </tr>\n",
       "  </thead>\n",
       "  <tbody>\n",
       "    <tr>\n",
       "      <th>USbi50FD_fsD</th>\n",
       "      <td>1\\täh\\täh\\tINTJ\\tNGHES\\t_\\t0\\troot\\t_\\t_\\n2\\th...</td>\n",
       "    </tr>\n",
       "    <tr>\n",
       "      <th>DEbi24FT_fwD</th>\n",
       "      <td>1\\t﻿Sehr\\t﻿Sehr\\tADV\\tADV\\t_\\t3\\tadvmod\\t_\\t_\\...</td>\n",
       "    </tr>\n",
       "    <tr>\n",
       "      <th>DEbi64MR_isD</th>\n",
       "      <td>1\\thi\\thi\\tINTJ\\tNGIRR\\t_\\t0\\troot\\t_\\t_\\n2\\td...</td>\n",
       "    </tr>\n",
       "  </tbody>\n",
       "</table>\n",
       "</div>"
      ],
      "text/plain": [
       "                                                      Raw_ConLL\n",
       "Filename                                                       \n",
       "USbi50FD_fsD  1\\täh\\täh\\tINTJ\\tNGHES\\t_\\t0\\troot\\t_\\t_\\n2\\th...\n",
       "DEbi24FT_fwD  1\\t﻿Sehr\\t﻿Sehr\\tADV\\tADV\\t_\\t3\\tadvmod\\t_\\t_\\...\n",
       "DEbi64MR_isD  1\\thi\\thi\\tINTJ\\tNGIRR\\t_\\t0\\troot\\t_\\t_\\n2\\td..."
      ]
     },
     "execution_count": 480,
     "metadata": {},
     "output_type": "execute_result"
    }
   ],
   "source": [
    "debi_text_df = pd.DataFrame(data = de_bi_texts)\n",
    "debi_text_df.columns = ['Filename', 'Raw_ConLL']\n",
    "debi_text_df = debi_text_df.set_index('Filename')\n",
    "debi_text_df[:3]"
   ]
  },
  {
   "cell_type": "code",
   "execution_count": 481,
   "id": "5f0aa49c",
   "metadata": {},
   "outputs": [
    {
     "data": {
      "text/html": [
       "<div>\n",
       "<style scoped>\n",
       "    .dataframe tbody tr th:only-of-type {\n",
       "        vertical-align: middle;\n",
       "    }\n",
       "\n",
       "    .dataframe tbody tr th {\n",
       "        vertical-align: top;\n",
       "    }\n",
       "\n",
       "    .dataframe thead th {\n",
       "        text-align: right;\n",
       "    }\n",
       "</style>\n",
       "<table border=\"1\" class=\"dataframe\">\n",
       "  <thead>\n",
       "    <tr style=\"text-align: right;\">\n",
       "      <th></th>\n",
       "      <th>Raw_ConLL</th>\n",
       "    </tr>\n",
       "    <tr>\n",
       "      <th>Filename</th>\n",
       "      <th></th>\n",
       "    </tr>\n",
       "  </thead>\n",
       "  <tbody>\n",
       "    <tr>\n",
       "      <th>DEmo47MD_isD</th>\n",
       "      <td>1\\thi\\thi\\tINTJ\\tNGIRR\\t_\\t2\\tpunct\\t_\\t_\\n2\\t...</td>\n",
       "    </tr>\n",
       "    <tr>\n",
       "      <th>DEmo45FD_iwD</th>\n",
       "      <td>1\\tIch\\tich\\tPRON\\tPPER\\tCase=Nom|Number=Sing|...</td>\n",
       "    </tr>\n",
       "    <tr>\n",
       "      <th>DEmo22FD_fwD</th>\n",
       "      <td>1\\t﻿Zeugenaussage\\tZeugenaussage\\tNOUN\\tNN\\tCa...</td>\n",
       "    </tr>\n",
       "  </tbody>\n",
       "</table>\n",
       "</div>"
      ],
      "text/plain": [
       "                                                      Raw_ConLL\n",
       "Filename                                                       \n",
       "DEmo47MD_isD  1\\thi\\thi\\tINTJ\\tNGIRR\\t_\\t2\\tpunct\\t_\\t_\\n2\\t...\n",
       "DEmo45FD_iwD  1\\tIch\\tich\\tPRON\\tPPER\\tCase=Nom|Number=Sing|...\n",
       "DEmo22FD_fwD  1\\t﻿Zeugenaussage\\tZeugenaussage\\tNOUN\\tNN\\tCa..."
      ]
     },
     "execution_count": 481,
     "metadata": {},
     "output_type": "execute_result"
    }
   ],
   "source": [
    "demono_text_df = pd.DataFrame(data = de_mono_texts)\n",
    "demono_text_df.columns = ['Filename', 'Raw_ConLL']\n",
    "demono_text_df = demono_text_df.set_index('Filename')\n",
    "demono_text_df[:3]"
   ]
  },
  {
   "cell_type": "code",
   "execution_count": 482,
   "id": "dde5470e",
   "metadata": {},
   "outputs": [
    {
     "data": {
      "text/html": [
       "<div>\n",
       "<style scoped>\n",
       "    .dataframe tbody tr th:only-of-type {\n",
       "        vertical-align: middle;\n",
       "    }\n",
       "\n",
       "    .dataframe tbody tr th {\n",
       "        vertical-align: top;\n",
       "    }\n",
       "\n",
       "    .dataframe thead th {\n",
       "        text-align: right;\n",
       "    }\n",
       "</style>\n",
       "<table border=\"1\" class=\"dataframe\">\n",
       "  <thead>\n",
       "    <tr style=\"text-align: right;\">\n",
       "      <th></th>\n",
       "      <th>Raw_ConLL</th>\n",
       "    </tr>\n",
       "    <tr>\n",
       "      <th>Filename</th>\n",
       "      <th></th>\n",
       "    </tr>\n",
       "  </thead>\n",
       "  <tbody>\n",
       "    <tr>\n",
       "      <th>USbi01FG_iwE</th>\n",
       "      <td>1\\they\\tHey\\tINTJ\\tITJ\\t_\\t2\\tdiscourse\\t_\\t_\\...</td>\n",
       "    </tr>\n",
       "    <tr>\n",
       "      <th>USbi13FR_fsE</th>\n",
       "      <td>1\\thello\\thello\\tINTJ\\tITJ\\t_\\t0\\troot\\t_\\t_\\n...</td>\n",
       "    </tr>\n",
       "    <tr>\n",
       "      <th>USbi08FR_fwE</th>\n",
       "      <td>1\\t﻿I\\ti\\tPROPN\\tPNP\\tNumber=Sing|Person=1|Pro...</td>\n",
       "    </tr>\n",
       "  </tbody>\n",
       "</table>\n",
       "</div>"
      ],
      "text/plain": [
       "                                                      Raw_ConLL\n",
       "Filename                                                       \n",
       "USbi01FG_iwE  1\\they\\tHey\\tINTJ\\tITJ\\t_\\t2\\tdiscourse\\t_\\t_\\...\n",
       "USbi13FR_fsE  1\\thello\\thello\\tINTJ\\tITJ\\t_\\t0\\troot\\t_\\t_\\n...\n",
       "USbi08FR_fwE  1\\t﻿I\\ti\\tPROPN\\tPNP\\tNumber=Sing|Person=1|Pro..."
      ]
     },
     "execution_count": 482,
     "metadata": {},
     "output_type": "execute_result"
    }
   ],
   "source": [
    "enbi_text_df = pd.DataFrame(data = en_bi_texts)\n",
    "enbi_text_df.columns = ['Filename', 'Raw_ConLL']\n",
    "enbi_text_df = enbi_text_df.set_index('Filename')\n",
    "enbi_text_df[:3]"
   ]
  },
  {
   "cell_type": "code",
   "execution_count": 483,
   "id": "f500bc55",
   "metadata": {},
   "outputs": [
    {
     "data": {
      "text/html": [
       "<div>\n",
       "<style scoped>\n",
       "    .dataframe tbody tr th:only-of-type {\n",
       "        vertical-align: middle;\n",
       "    }\n",
       "\n",
       "    .dataframe tbody tr th {\n",
       "        vertical-align: top;\n",
       "    }\n",
       "\n",
       "    .dataframe thead th {\n",
       "        text-align: right;\n",
       "    }\n",
       "</style>\n",
       "<table border=\"1\" class=\"dataframe\">\n",
       "  <thead>\n",
       "    <tr style=\"text-align: right;\">\n",
       "      <th></th>\n",
       "      <th>Raw_ConLL</th>\n",
       "    </tr>\n",
       "    <tr>\n",
       "      <th>Filename</th>\n",
       "      <th></th>\n",
       "    </tr>\n",
       "  </thead>\n",
       "  <tbody>\n",
       "    <tr>\n",
       "      <th>USmo70ME_isE</th>\n",
       "      <td>1\\tso\\tso\\tINTJ\\tITJ\\t_\\t11\\tdiscourse\\t_\\t_\\n...</td>\n",
       "    </tr>\n",
       "    <tr>\n",
       "      <th>USmo66FE_iwE</th>\n",
       "      <td>1\\tHi\\thi\\tINTJ\\tITJ\\tDegree=Pos|NumType=Ord\\t...</td>\n",
       "    </tr>\n",
       "    <tr>\n",
       "      <th>USmo01FE_fwE</th>\n",
       "      <td>1\\tI\\ti\\tPROPN\\tPNP\\tNumber=Sing|Person=1|Pron...</td>\n",
       "    </tr>\n",
       "  </tbody>\n",
       "</table>\n",
       "</div>"
      ],
      "text/plain": [
       "                                                      Raw_ConLL\n",
       "Filename                                                       \n",
       "USmo70ME_isE  1\\tso\\tso\\tINTJ\\tITJ\\t_\\t11\\tdiscourse\\t_\\t_\\n...\n",
       "USmo66FE_iwE  1\\tHi\\thi\\tINTJ\\tITJ\\tDegree=Pos|NumType=Ord\\t...\n",
       "USmo01FE_fwE  1\\tI\\ti\\tPROPN\\tPNP\\tNumber=Sing|Person=1|Pron..."
      ]
     },
     "execution_count": 483,
     "metadata": {},
     "output_type": "execute_result"
    }
   ],
   "source": [
    "enmono_text_df = pd.DataFrame(data = en_mono_texts)\n",
    "enmono_text_df.columns = ['Filename', 'Raw_ConLL']\n",
    "enmono_text_df = enmono_text_df.set_index('Filename')\n",
    "enmono_text_df[:3]"
   ]
  },
  {
   "cell_type": "code",
   "execution_count": 484,
   "id": "267920cb",
   "metadata": {},
   "outputs": [
    {
     "name": "stdout",
     "output_type": "stream",
     "text": [
      "DE mono metadata Files:  240\n",
      "DE bi metadata Files:  559\n",
      "EN mono metadata Files:  64\n",
      "EN bi metadata Files:  443\n",
      "DE mono text:  256\n",
      "DE bi text:  586\n",
      "EN mono text:  64\n",
      "EN bi text:  443\n"
     ]
    }
   ],
   "source": [
    "## Let's compare the text sizes\n",
    "print('DE mono metadata Files: ', len(DE_mono_filename))\n",
    "print('DE bi metadata Files: ', len(DE_bi_filename))\n",
    "print('EN mono metadata Files: ', len(EN_mono_filename))\n",
    "print('EN bi metadata Files: ', len(EN_bi_filename))\n",
    "print('DE mono text: ', len(de_mono_texts))\n",
    "print('DE bi text: ', len(de_bi_texts))\n",
    "print('EN mono text: ', len(en_mono_texts))\n",
    "print('EN bi text: ', len(en_bi_texts))\n"
   ]
  },
  {
   "cell_type": "markdown",
   "id": "f690941d",
   "metadata": {},
   "source": [
    "As you can see, the German documents have some discrepencies as there are more conLL files than meta files, meaning that some participants likely had multiple recordings. For now, I'm going to leave these two dataframes seperate because of this."
   ]
  },
  {
   "cell_type": "markdown",
   "id": "52a52aad",
   "metadata": {},
   "source": [
    "## Manually Parsing ConLL\n",
    "I have never worked with the ConLL format, so I'm going to take just one entry and play around with it to get it how I would like before messing with the entire dataset."
   ]
  },
  {
   "cell_type": "code",
   "execution_count": 485,
   "id": "064eae7a",
   "metadata": {},
   "outputs": [
    {
     "data": {
      "text/plain": [
       "'1\\täh\\täh\\tINTJ\\tNGHES\\t_\\t0\\troot\\t_\\t_\\n2\\thello\\thello\\tX\\tFM\\t_\\t3\\tdep\\t_\\t_\\n3\\tthis\\tthis\\tX\\tFM\\tPronType=Dem\\t4\\tdep\\t_\\t_\\n4\\tis\\tbe\\tX\\tFM\\tMood=Ind|Person=3|Tense=Pres\\t1\\tdep\\t_\\t_\\n5\\tfile\\tfile\\tX\\tFM\\tNumber=Sing\\t4\\tdep\\t_\\t_\\n6\\tNummer\\tNummer\\tNOUN\\tNN\\tCase=Nom|Gender=Fem|Number=Sing\\t8\\tnsubj\\t_\\t_\\n7\\tF\\tF\\tPROPN\\tNE\\t_\\t6\\tappos\\t_\\t_\\n8\\täh\\täh\\tINTJ\\tNGHES\\t_\\t9\\tpunct\\t_\\t_\\n9\\t16\\t@card@\\tPROPN\\tNE\\tNumType=Card\\t5\\tappos\\t_\\t_\\n\\n1\\tja\\tja\\tINTJ\\tNGIRR\\t_\\t2\\tadvmod\\t_\\t_\\n2\\tokay\\tokay\\tINTJ\\tNGIRR\\t_\\t0\\troot\\t_\\t_\\n3\\täh\\täh\\tINTJ\\tNGHES\\t_\\t2\\tdep\\t_\\t_\\n\\n1\\tich\\tich\\tPRON\\tPPER\\tCase=Nom|Number=Sing|Person=1|PronType=Prs\\t6\\tnsubj\\t_\\t_\\n2\\thabe\\thaben\\tAUX\\tVAFIN\\tMood=Ind|Number=Sing|Person=1|Tense=Past|VerbForm=Fin\\t6\\taux\\t_\\t_\\n3\\tgerade\\tgerade\\tADV\\tADV\\t_\\t6\\tadvmod\\t_\\t_\\n4\\tein\\tein\\tDET\\tART\\tCase=Nom|Definite=Ind|Gender=Masc|Number=Sing|PronType=Art\\t5\\tdet\\t_\\t_\\n5\\tUnfall\\tUnfall\\tNOUN\\tNN\\tCase=Acc|Gender=Masc|Number=Sing\\t6\\tobj\\t_\\t_\\n6\\tgesehen\\tsehen\\tVERB\\tVVPP\\tTense=Past|VerbForm=Part\\t0\\troot\\t_\\t_\\n\\n1\\tund\\tund\\tCCONJ\\tKON\\t_\\t3\\tcc\\t_\\t_\\n2\\tes\\tes\\tPRON\\tPPER\\tCase=Nom|Gender=Neut|Number=Sing|Person=3|PronType=Prs\\t3\\tnsubj\\t_\\t_\\n3\\tgab\\tgeben\\tVERB\\tVVFIN\\tMood=Ind|Number=Sing|Person=3|Tense=Past|VerbForm=Fin\\t0\\troot\\t_\\t_\\n4\\tzwei\\tzwei\\tNUM\\tCARD\\tNumType=Card\\t5\\tnummod\\t_\\t_\\n5\\tAutos\\tAuto\\tNOUN\\tNN\\tCase=Acc|Gender=Neut|Number=Plur\\t3\\tobj\\t_\\t_\\n\\n1\\täh\\täh\\tINTJ\\tNGHES\\tDegree=Pos\\t0\\troot\\t_\\t_\\n2\\tund\\tund\\tCCONJ\\tKON\\t_\\t4\\tcc\\t_\\t_\\n3\\twas\\twas\\tPRON\\tPWS\\tCase=Acc|PronType=Int\\t4\\tnsubj\\t_\\t_\\n4\\tpassiert\\tpassieren\\tVERB\\tVVPP\\tTense=Past|VerbForm=Part\\t1\\tconj\\t_\\t_\\n5\\tist\\tsein\\tAUX\\tVAFIN\\tMood=Ind|Number=Sing|Person=3|Tense=Past|VerbForm=Fin\\t4\\taux:pass\\t_\\t_\\n6\\tist\\tsein\\tAUX\\tVAFIN\\tMood=Ind|Number=Sing|Person=3|Tense=Pres|VerbForm=Fin\\t4\\taux\\t_\\t_\\n7\\tdass\\tdass\\tCCONJ\\tKOUS\\t_\\t13\\tcc\\t_\\t_\\n8\\tein\\tein\\tDET\\tART\\tCase=Nom|Definite=Ind|Gender=Masc|Number=Sing|PronType=Art\\t9\\tdet\\t_\\t_\\n9\\tMann\\tMann\\tNOUN\\tNN\\tCase=Nom|Gender=Masc|Number=Sing\\t13\\tnsubj\\t_\\t_\\n10\\tmit\\tmit\\tADP\\tAPPR\\t_\\t12\\tcase\\t_\\t_\\n11\\tseinem\\tsein\\tDET\\tPPOSAT\\tCase=Dat|Gender=Masc|Gender[psor]=Masc|Number=Sing|Person=3|Poss=Yes|PronType=Prs\\t12\\tdet\\t_\\t_\\n12\\tBall\\tBall\\tNOUN\\tNN\\tCase=Dat|Gender=Masc|Number=Sing\\t13\\tobl\\t_\\t_\\n13\\tgespielt\\tspielen\\tVERB\\tVVPP\\tTense=Past|VerbForm=Part\\t4\\tccomp\\t_\\t_\\n14\\that\\thaben\\tAUX\\tVAFIN\\tMood=Ind|Number=Sing|Person=3|Tense=Past|VerbForm=Fin\\t13\\taux\\t_\\t_\\n\\n1\\ter\\ter\\tPRON\\tPPER\\tCase=Nom|Gender=Masc|Number=Sing|Person=3|PronType=Prs\\t5\\tnsubj\\t_\\t_\\n2\\twar\\tsein\\tAUX\\tVAFIN\\tMood=Ind|Number=Sing|Person=3|Tense=Past|VerbForm=Fin\\t5\\tcop\\t_\\t_\\n3\\tmit\\tmit\\tADP\\tAPPR\\t_\\t5\\tcase\\t_\\t_\\n4\\tseiner\\tsein\\tDET\\tPPOSAT\\tCase=Dat|Gender=Fem|Gender[psor]=Masc|Number=Sing|Person=3|Poss=Yes|PronType=Prs\\t5\\tdet:poss\\t_\\t_\\n5\\tFrau\\tFrau\\tNOUN\\tNN\\tCase=Dat|Gender=Fem|Number=Sing\\t0\\troot\\t_\\t_\\n\\n1\\tund\\tund\\tCCONJ\\tKON\\t_\\t6\\tcc\\t_\\t_\\n2\\tdie\\td\\tPRON\\tPDS\\tCase=Nom|Gender=Fem|PronType=Dem\\t6\\tnsubj\\t_\\t_\\n3\\thatte\\thaben\\tAUX\\tVAFIN\\tMood=Ind|Number=Sing|Person=3|Tense=Past|VerbForm=Fin\\t6\\taux\\t_\\t_\\n4\\tein\\tein\\tDET\\tART\\tCase=Acc|Definite=Ind|Gender=Neut|Number=Sing|PronType=Art\\t5\\tdet\\t_\\t_\\n5\\tKind\\tKind\\tNOUN\\tNN\\tCase=Acc|Gender=Neut|Number=Sing\\t6\\tobj\\t_\\t_\\n6\\tim\\tin\\tADP\\tAPPRART\\tCase=Acc\\t7\\tconj\\t_\\t_\\n7\\tKinderwagen\\tKinderwagen\\tNOUN\\tNN\\tCase=Acc|Gender=Masc|Number=Sing\\t0\\troot\\t_\\t_\\n\\n1\\tund\\tund\\tCCONJ\\tKON\\t_\\t2\\tcc\\t_\\t_\\n2\\täh\\täh\\tINTJ\\tNGHES\\t_\\t0\\troot\\t_\\t_\\n3\\ter\\ter\\tPRON\\tPPER\\tCase=Nom|Gender=Masc|Number=Sing|Person=3|PronType=Prs\\t7\\tnsubj\\t_\\t_\\n4\\that\\thaben\\tAUX\\tVAFIN\\tMood=Ind|Number=Sing|Person=3|Tense=Past|VerbForm=Fin\\t7\\taux\\t_\\t_\\n5\\tden\\td\\tDET\\tART\\tCase=Acc|Definite=Def|Gender=Masc|Number=Sing|PronType=Art\\t6\\tdet\\t_\\t_\\n6\\tBall\\tBall\\tNOUN\\tNN\\tCase=Acc|Gender=Masc|Number=Sing\\t7\\tobj\\t_\\t_\\n7\\tlosgelassen\\tloslassen\\tVERB\\tVVPP\\tTense=Past|VerbForm=Part\\t2\\tconj\\t_\\t_\\n\\n1\\tund\\tund\\tCCONJ\\tKON\\t_\\t8\\tcc\\t_\\t_\\n2\\tder\\td\\tDET\\tART\\tCase=Nom|Definite=Def|Gender=Masc|Number=Sing|PronType=Art\\t3\\tdet\\t_\\t_\\n3\\tBall\\tBall\\tNOUN\\tNN\\tCase=Nom|Gender=Masc|Number=Sing\\t8\\tnsubj:pass\\t_\\t_\\n4\\tist\\tsein\\tAUX\\tVAFIN\\tMood=Ind|Number=Sing|Person=3|Tense=Past|VerbForm=Fin\\t8\\taux:pass\\t_\\t_\\n5\\tauf\\tauf\\tADP\\tAPPR\\t_\\t7\\tcase\\t_\\t_\\n6\\tder\\td\\tDET\\tART\\tCase=Dat|Definite=Def|Gender=Masc|Number=Sing|PronType=Art\\t7\\tdet\\t_\\t_\\n7\\tStraße\\tStraße\\tNOUN\\tNN\\tCase=Dat|Gender=Fem|Number=Sing\\t8\\tobl\\t_\\t_\\n8\\tgerollt\\trollen\\tVERB\\tVVPP\\tVerbForm=Part\\t0\\troot\\t_\\t_\\n\\n1\\talso\\talso\\tCCONJ\\tSEDM\\t_\\t10\\tcc\\t_\\t_\\n2\\twusste\\twissen\\tAUX\\tVMFIN\\tMood=Ind|Number=Sing|Person=3|Tense=Past|VerbForm=Fin\\t10\\taux\\t_\\t_\\n3\\tdas\\td\\tDET\\tART\\tCase=Nom|Definite=Def|Gender=Neut|Number=Sing|PronType=Art\\t4\\tdet\\t_\\t_\\n4\\tAuto\\tAuto\\tNOUN\\tNN\\tCase=Nom|Gender=Neut|Number=Sing\\t10\\tnsubj\\t_\\t_\\n5\\talso\\talso\\tCCONJ\\tKOUS\\t_\\t10\\tcc\\t_\\t_\\n6\\tdas\\td\\tDET\\tART\\tCase=Nom|Definite=Def|Gender=Neut|Number=Sing|PronType=Art\\t8\\tdet\\t_\\t_\\n7\\terste\\terst\\tADJ\\tORD\\tCase=Nom|Degree=Pos|NumType=Ord|Number=Sing\\t8\\tamod\\t_\\t_\\n8\\tAuto\\tAuto\\tNOUN\\tNN\\tCase=Nom|Gender=Neut|Number=Sing\\t10\\tnsubj\\t_\\t_\\n9\\tschnell\\tschnell\\tADJ\\tADJD\\tDegree=Pos\\t10\\tadvmod\\t_\\t_\\n10\\täh\\täh\\tADJ\\tADJD\\t_\\t11\\tadvmod\\t_\\t_\\n11\\tbremsen\\tbremsen\\tVERB\\tVVINF\\tVerbForm=Part\\t0\\troot\\t_\\t_\\n\\n1\\tund\\tund\\tCCONJ\\tKON\\t_\\t16\\tcc\\t_\\t_\\n2\\tdas\\td\\tDET\\tART\\tCase=Nom|Definite=Def|Gender=Neut|Number=Sing|PronType=Art\\t3\\tdet\\t_\\t_\\n3\\tAuto\\tAuto\\tNOUN\\tNN\\tCase=Nom|Gender=Neut|Number=Sing\\t16\\tnsubj\\t_\\t_\\n4\\thinter\\thinter\\tADP\\tAPPR\\t_\\t7\\tcase\\t_\\t_\\n5\\tdieses\\tdies\\tDET\\tPDAT\\tCase=Nom|Gender=Neut|Number=Sing|PronType=Dem\\t7\\tdet\\t_\\t_\\n6\\terste\\terst\\tADJ\\tORD\\tCase=Dat|Degree=Pos|Gender=Neut|NumType=Ord|Number=Sing\\t7\\tamod\\t_\\t_\\n7\\tAuto\\tAuto\\tNOUN\\tNN\\tCase=Dat|Gender=Neut|Number=Sing\\t16\\tobl\\t_\\t_\\n8\\täh\\täh\\tINTJ\\tNGHES\\t_\\t16\\tadvmod\\t_\\t_\\n9\\tist\\tsein\\tAUX\\tVAFIN\\tMood=Ind|Number=Sing|Person=3|Tense=Past|VerbForm=Fin\\t16\\taux\\t_\\t_\\n10\\talso\\talso\\tCCONJ\\tKOUS\\t_\\t15\\tdet\\t_\\t_\\n11\\tin\\tin\\tADP\\tAPPR\\t_\\t13\\tcase\\t_\\t_\\n12\\tersten\\terst\\tADJ\\tORD\\tCase=Dat|Degree=Pos|NumType=Ord\\t13\\tamod\\t_\\t_\\n13\\tAuto\\tAuto\\tNOUN\\tNN\\tCase=Acc|Gender=Neut|Number=Sing\\t14\\tnmod\\t_\\t_\\n14\\terstes\\terst\\tADJ\\tORD\\tCase=Nom|Degree=Pos|NumType=Ord\\t15\\tamod\\t_\\t_\\n15\\tAuto\\tAuto\\tNOUN\\tNN\\tCase=Acc|Gender=Neut|Number=Sing\\t16\\tobj\\t_\\t_\\n16\\treingefahren\\treinfahren\\tVERB\\tVVPP\\tVerbForm=Part\\t0\\troot\\t_\\t_\\n\\n1\\tdas\\td\\tDET\\tART\\tCase=Nom|Definite=Def|Gender=Neut|Number=Sing|PronType=Art\\t3\\tdet\\t_\\t_\\n2\\terste\\terst\\tADJ\\tORD\\tCase=Nom|Degree=Pos|Gender=Neut|NumType=Ord|Number=Sing\\t3\\tamod\\t_\\t_\\n3\\tAuto\\tAuto\\tNOUN\\tNN\\tCase=Nom|Gender=Neut|Number=Sing\\t5\\tnsubj\\t_\\t_\\n4\\twar\\tsein\\tAUX\\tVAFIN\\tMood=Ind|Number=Sing|Person=3|Tense=Past|VerbForm=Fin\\t5\\taux\\t_\\t_\\n5\\tblau\\tblau\\tADJ\\tADJD\\tDegree=Pos|Number=Sing\\t0\\troot\\t_\\t_\\n6\\tund\\tund\\tCCONJ\\tKON\\t_\\t11\\tcc\\t_\\t_\\n7\\tdas\\td\\tDET\\tART\\tCase=Nom|Definite=Def|Gender=Neut|Number=Sing|PronType=Art\\t8\\tdet\\t_\\t_\\n8\\thinter\\thinter\\tNOUN\\tNN\\tCase=Nom|Gender=Neut|Number=Sing\\t11\\tnsubj\\t_\\t_\\n9\\twar\\tsein\\tAUX\\tVAFIN\\tMood=Ind|Number=Sing|Person=3|Tense=Past|VerbForm=Fin\\t11\\taux\\t_\\t_\\n10\\tentweder\\tentweder\\tCCONJ\\tKON\\t_\\t11\\tcc\\t_\\t_\\n11\\tsilber\\tsilber\\tADJ\\tADJD\\tDegree=Pos|Number=Sing\\t5\\tconj\\t_\\t_\\n12\\toder\\toder\\tCCONJ\\tKON\\t_\\t13\\tcc\\t_\\t_\\n13\\tvielleicht\\tvielleicht\\tADV\\tADV\\t_\\t11\\tconj\\t_\\t_\\n14\\tweiß\\tweiß\\tADJ\\tADJD\\tDegree=Pos|Number=Sing\\t11\\tconj\\t_\\t_\\n15\\toder\\toder\\tCCONJ\\tKON\\t_\\t16\\tcc\\t_\\t_\\n16\\tso\\tso\\tCCONJ\\tSEDM\\t_\\t14\\tconj\\t_\\t_\\n17\\tdazwischen\\tdazwischen\\tADV\\tADV\\t_\\t11\\tconj\\t_\\t_\\n\\n1\\täh\\täh\\tINTJ\\tNGHES\\tDegree=Pos\\t0\\troot\\t_\\t_\\n2\\tund\\tund\\tCCONJ\\tKON\\t_\\t5\\tcc\\t_\\t_\\n3\\tder\\td\\tDET\\tART\\tCase=Nom|Definite=Def|Gender=Masc|Number=Sing|PronType=Art\\t4\\tdet\\t_\\t_\\n4\\tHund\\tHund\\tNOUN\\tNN\\tCase=Nom|Gender=Masc|Number=Sing\\t5\\tnsubj\\t_\\t_\\n5\\tgehörte\\tgehören\\tVERB\\tVVFIN\\tMood=Ind|Number=Sing|Person=3|Tense=Past|VerbForm=Fin\\t1\\tconj\\t_\\t_\\n6\\tzu\\tzu\\tADP\\tAPPR\\t_\\t8\\tcase\\t_\\t_\\n7\\teiner\\tein\\tDET\\tART\\tCase=Dat|Definite=Ind|Gender=Fem|Number=Sing|PronType=Art\\t8\\tdet\\t_\\t_\\n8\\tFrau\\tFrau\\tNOUN\\tNN\\tCase=Dat|Gender=Fem|Number=Sing\\t5\\tobl\\t_\\t_\\n\\n1\\tund\\tund\\tCCONJ\\tKON\\t_\\t6\\tcc\\t_\\t_\\n2\\tdie\\td\\tPRON\\tPDS\\tCase=Nom|Gender=Fem|Number=Sing|Person=3|PronType=Dem\\t3\\tdet\\t_\\t_\\n3\\thatte\\thaben\\tAUX\\tVAFIN\\tMood=Ind|Number=Sing|Person=3|Tense=Past|VerbForm=Fin\\t6\\taux\\t_\\t_\\n4\\twar\\tsein\\tAUX\\tVAFIN\\tMood=Ind|Number=Sing|Person=3|Tense=Past|VerbForm=Fin\\t6\\taux\\t_\\t_\\n5\\tgerade\\tgerade\\tADV\\tADV\\t_\\t6\\tadvmod\\t_\\t_\\n6\\teinkaufen\\teinkaufen\\tVERB\\tVVINF\\tTense=Past|VerbForm=Inf\\t0\\troot\\t_\\t_\\n7\\tund\\tund\\tCCONJ\\tKON\\t_\\t11\\tcc\\t_\\t_\\n8\\tdabei\\tdabei\\tADV\\tADV\\t_\\t11\\tadvmod\\t_\\t_\\n9\\tim\\tin\\tADP\\tAPPRART\\tCase=Dat\\t11\\tcase\\t_\\t_\\n10\\tAuto\\tAuto\\tNOUN\\tNN\\tCase=Dat|Gender=Neut|Number=Sing\\t11\\tnmod\\t_\\t_\\n11\\täh\\täh\\tINTJ\\tNGHES\\t_\\t6\\tconj\\t_\\t_\\n12\\tmit\\tmit\\tADP\\tAPPR\\t_\\t14\\tcase\\t_\\t_\\n13\\tihre\\tihr\\tDET\\tPPOSAT\\tCase=Dat|Gender=Fem|Gender[psor]=Fem|Number=Sing|Person=3|Poss=Yes|PronType=Prs\\t14\\tdet:poss\\t_\\t_\\n14\\tEinkäufe\\tEinkauf\\tNOUN\\tNN\\tCase=Dat|Gender=Fem|Number=Plur\\t11\\tobl\\t_\\t_\\n\\n1\\tund\\tund\\tCCONJ\\tKON\\t_\\t7\\tcc\\t_\\t_\\n2\\tja\\tja\\tINTJ\\tNGIRR\\t_\\t7\\tadvmod\\t_\\t_\\n3\\tes\\tes\\tPRON\\tPPER\\tCase=Nom|Gender=Neut|Number=Sing|Person=3|PronType=Prs\\t7\\tnsubj\\t_\\t_\\n4\\tgeht\\tgehen\\tVERB\\tVVFIN\\tMood=Ind|Number=Sing|Person=3|Tense=Pres|VerbForm=Fin\\t7\\tcop\\t_\\t_\\n5\\täh\\täh\\tINTJ\\tNGHES\\t_\\t7\\tpunct\\t_\\t_\\n6\\tallen\\tall\\tPRON\\tPIS\\tCase=Dat|PronType=Tot\\t7\\tiobj\\t_\\t_\\n7\\tokay\\tokay\\tADJ\\tADJD\\t_\\t0\\troot\\t_\\t_\\n\\n1\\tniemand\\tniemand\\tPRON\\tPIS\\tCase=Nom|PronType=Neg\\t6\\tdep\\t_\\t_\\n2\\täh\\täh\\tINTJ\\tNGHES\\t_\\t6\\tpunct\\t_\\t_\\n3\\tich\\tich\\tPRON\\tPPER\\tCase=Nom|Gender=Fem|Number=Sing|Person=1|PronType=Prs\\t6\\tnsubj\\t_\\t_\\n4\\tkonnte\\tkönnen\\tAUX\\tVMFIN\\tMood=Ind|Number=Sing|Person=1|Tense=Past|VerbForm=Fin\\t6\\taux\\t_\\t_\\n5\\tnicht\\tnicht\\tINTJ\\tPTKNEG\\t_\\t6\\tadvmod\\t_\\t_\\n6\\tsehen\\tsehen\\tVERB\\tVVINF\\tTense=Past|VerbForm=Inf\\t0\\troot\\t_\\t_\\n7\\tdass\\tdass\\tCCONJ\\tKOUS\\t_\\t10\\tcc\\t_\\t_\\n8\\tirgendjemand\\tirgendjemand\\tPRON\\tPIS\\tCase=Nom|Number=Sing|PronType=Ind\\t10\\tiobj\\t_\\t_\\n9\\tsich\\ter|es|sie\\tPRON\\tPRF\\tPerson=3|PronType=Prs\\t10\\tobj\\t_\\t_\\n10\\tverletzt\\tverletzen\\tVERB\\tVVPP\\tTense=Past|VerbForm=Part\\t6\\tacl\\t_\\t_\\n11\\that\\thaben\\tAUX\\tVAFIN\\tMood=Ind|Number=Sing|Person=3|Tense=Past|VerbForm=Fin\\t10\\taux\\t_\\t_\\n\\n1\\tund\\tund\\tCCONJ\\tKON\\t_\\t6\\tcc\\t_\\t_\\n2\\tdie\\td\\tPRON\\tPDS\\tCase=Nom|Number=Plur|Person=3|PronType=Dem\\t6\\tnsubj\\t_\\t_\\n3\\thaben\\thaben\\tAUX\\tVAFIN\\tMood=Ind|Number=Plur|Person=3|Tense=Past|VerbForm=Fin\\t6\\taux\\t_\\t_\\n4\\tdie\\td\\tDET\\tART\\tCase=Acc|Definite=Def|Gender=Fem|Number=Sing|PronType=Art\\t5\\tdet\\t_\\t_\\n5\\tPolizei\\tPolizei\\tNOUN\\tNN\\tCase=Acc|Gender=Fem|Number=Sing\\t6\\tobj\\t_\\t_\\n6\\täh\\täh\\tINTJ\\tNGHES\\t_\\t7\\tconj\\t_\\t_\\n7\\tangerufen\\tanrufen\\tVERB\\tVVPP\\tTense=Past|VerbForm=Inf\\t0\\troot\\t_\\t_\\n\\n'"
      ]
     },
     "execution_count": 485,
     "metadata": {},
     "output_type": "execute_result"
    }
   ],
   "source": [
    "foo = de_bi_texts[0][1]\n",
    "foo"
   ]
  },
  {
   "cell_type": "code",
   "execution_count": 486,
   "id": "b18db9ea",
   "metadata": {},
   "outputs": [
    {
     "data": {
      "text/plain": [
       "[['1', 'äh', 'äh', 'INTJ', 'NGHES', '_', '0', 'root', '_', '_'], ['2', 'hello', 'hello', 'X', 'FM', '_', '3', 'dep', '_', '_'], ['3', 'this', 'this', 'X', 'FM', 'PronType=Dem', '4', 'dep', '_', '_'], ['4', 'is', 'be', 'X', 'FM', 'Mood=Ind|Person=3|Tense=Pres', '1', 'dep', '_', '_']]"
      ]
     },
     "execution_count": 486,
     "metadata": {},
     "output_type": "execute_result"
    }
   ],
   "source": [
    "foo = foo.replace('\\t', ' ').split('\\n')\n",
    "foo = [x.split() for x in foo]\n",
    "foo[:4]\n",
    "## ok I like this list a lot with a list in each line and I can feasibly\n",
    "## mark each conLL annotation accordingly"
   ]
  },
  {
   "cell_type": "code",
   "execution_count": 487,
   "id": "92c78497",
   "metadata": {},
   "outputs": [],
   "source": [
    "conLL_ann = []\n",
    "for lines in foo:\n",
    "    if len(lines) == 10:\n",
    "        conLL_ann.append({'id': lines[0], 'token': lines[1], 'lemma': lines[2], \n",
    "                            'pos_uni': lines[3], 'pos_lang': lines[4], 'morphology': lines[5], \n",
    "                            'head': lines[6], 'relationship': lines[7], 'misc1': lines[8],\n",
    "                            'misc2': lines[9]})"
   ]
  },
  {
   "cell_type": "code",
   "execution_count": 488,
   "id": "2b9d29e6",
   "metadata": {},
   "outputs": [
    {
     "name": "stdout",
     "output_type": "stream",
     "text": [
      "155\n",
      "['äh', 'hello', 'this', 'be', 'file', 'Nummer', 'F', 'äh', '@card@', 'ja', 'okay', 'äh', 'ich', 'haben', 'gerade', 'ein', 'Unfall', 'sehen', 'und', 'es']\n"
     ]
    }
   ],
   "source": [
    "print(len(conLL_ann))\n",
    "print([x['lemma'] for x in conLL_ann][:20])"
   ]
  },
  {
   "cell_type": "markdown",
   "id": "749fbc20",
   "metadata": {},
   "source": [
    "## Practice Spacy Parsing ConLL\n",
    "It will be better to use an actual conll parser so all the rich synatctic information about dependency trees isn't lost"
   ]
  },
  {
   "cell_type": "code",
   "execution_count": 489,
   "id": "02a06580",
   "metadata": {},
   "outputs": [],
   "source": [
    "import spacy"
   ]
  },
  {
   "cell_type": "code",
   "execution_count": 490,
   "id": "9a6f240a",
   "metadata": {},
   "outputs": [],
   "source": [
    "from spacy_conll import init_parser\n",
    "from spacy_conll.parser import ConllParser\n",
    "\n",
    "from spacy import displacy\n",
    "engconllparser = ConllParser(init_parser(\"en_core_web_sm\", \"spacy\"))"
   ]
  },
  {
   "cell_type": "code",
   "execution_count": 491,
   "id": "4532a3eb",
   "metadata": {},
   "outputs": [
    {
     "name": "stdout",
     "output_type": "stream",
     "text": [
      "1\they\tHey\tINTJ\tITJ\t_\t2\tdiscourse\t_\t_\n",
      "2\tEleni\tEleni\tNOUN\tNP0\t_\t0\troot\t_\t_\n",
      "3\t,\t,\tPUNCT\tPUN\t_\t2\tpunct\t_\t_\n",
      "\n",
      "1\tlet\tlet\tVERB\tVVB\tMood=Imp|Number=Plur|Person=2|Tense=Pres|VerbForm=Fin\t0\troot\t_\t_\n",
      "2\tme\ti\tPROPN\tPNP\tNumber=Sing|Person=1|PronType=Prs\t1\tobj\t_\t_\n",
      "3\ttell\ttell\tVERB\tVVI\tMood=Ind|Number=Sing|Person=1|Tense=Pres|VerbForm=Fin\t1\txcomp\t_\t_\n",
      "4\tyou\tyou\tPROPN\tPNP\tPerson=2|PronType=Prs\t6\tnsubj\t_\t_\n",
      "5\twhat\twhat\tDET\tDTQ\tNumber=Sing|PronType=Rel\t6\tdet\t_\t_\n",
      "6\thappened\thappen\tVERB\tVVD\tMood=Ind|Person=3|Tense=Past|VerbForm=Fin\t3\tccomp\t_\t_\n",
      "7\ttoday\ttoday\tADV\tAV0\t_\t6\tadvmod\t_\t_\n",
      "8\t!\t!\tPUNCT\tSENT\t_\t6\tpunct\t_\t_\n",
      "\n",
      "1\tI\tI\tPROPN\tPNP\tNumber=Sing|Person=1|PronType=Prs\t2\tnsubj\t_\t_\n",
      "2\tsaw\tsee\tVERB\tVVD\tMood=Ind|Person=3|Tense=Past|VerbForm=Fin\t0\troot\t_\t_\n",
      "3\ta\ta\tDET\tAT0\tDefinite=Ind|Number=Sing|PronType=Art\t6\tdet\t_\t_\n",
      "4\tminor\tminor\tADJ\tAJ0\tDegree=Pos\t6\tamod\t_\t_\n",
      "5\tcar\tcar\tNOUN\tNN1\tNumber=Sing\t6\tcompound\t_\t_\n",
      "6\taccident\taccident\tNOUN\tNN1\tNumber=Sing\t2\tobj\t_\t_\n",
      "7\twhen\twhen\tSCONJ\tCJS\t_\t11\tmark\t_\t_\n",
      "8\teither\teither\tADV\tAV0\t_\t11\tadvmod\t_\t_\n",
      "9\tthe\tthe\tDET\tAT0\tDefinite=Def|PronType=Art\t10\tdet\t_\t_\n",
      "10\tperson\tperson\tNOUN\tNN1\tNumber=Sing\t11\tnsubj\t_\t_\n",
      "11\tdriving\tdrive\tVERB\tVVG\tNumber=Sing\t2\tadvcl\t_\t_\n",
      "12\tsaw\tsaw\tVERB\tVVD\tMood=Ind|Person=3|Tense=Past|VerbForm=Fin\t11\tconj\t_\t_\n",
      "13\ta\ta\tDET\tAT0\tDefinite=Ind|Number=Sing|PronType=Art\t15\tdet\t_\t_\n",
      "14\tsoccer\tsoccer\tNOUN\tNN1\tDegree=Cmp\t15\tcompound\t_\t_\n",
      "15\tball\tball\tNOUN\tNN1\tNumber=Sing\t16\tnsubj\t_\t_\n",
      "16\troll\troll\tVERB\tVVI\tNumber=Sing\t12\tccomp\t_\t_\n",
      "17\tinto\tinto\tADP\tPRP\t_\t19\tcase\t_\t_\n",
      "18\tthe\tthe\tDET\tAT0\tDefinite=Def|PronType=Art\t19\tdet\t_\t_\n",
      "19\tstreet\tstreet\tNOUN\tNN1\tNumber=Sing\t16\tobl\t_\t_\n",
      "20\tor\tor\tCCONJ\tCJC\t_\t23\tcc\t_\t_\n",
      "21\twhen\twhen\tSCONJ\tCJS\t_\t23\tmark\t_\t_\n",
      "22\the\the\tPROPN\tPNP\tGender=Masc|Number=Sing|Person=3|PronType=Prs\t23\tnsubj\t_\t_\n",
      "23\tsaw\tsee\tVERB\tVVD\tMood=Ind|Person=3|Tense=Past|VerbForm=Fin\t16\tconj\t_\t_\n",
      "24\ta\ta\tDET\tAT0\tDefinite=Ind|Number=Sing|PronType=Art\t25\tdet\t_\t_\n",
      "25\tdog\tdog\tNOUN\tNN1\tNumber=Sing\t26\tnsubj\t_\t_\n",
      "26\tmove\tmove\tVERB\tVVI\tMood=Ind|Person=3|Tense=Past|VerbForm=Fin\t23\tccomp\t_\t_\n",
      "27\tin\tin\tADP\tPRP\t_\t28\tcase\t_\t_\n",
      "28\tfront\tfront\tADP\tPRP\tNumber=Sing\t26\tobl\t_\t_\n",
      "29\tof\tof\tADP\tPRF\t_\t31\tcase\t_\t_\n",
      "30\this\this\tDET\tDPS\tPoss=Yes|PronType=Prs\t31\tdet\t_\t_\n",
      "31\tcar\tcar\tNOUN\tNN1\tNumber=Sing\t28\tnmod\t_\t_\n",
      "32\t.\t.\tPUNCT\tSENT\t_\t16\tpunct\t_\t_\n",
      "\n",
      "1\tEveryone\teveryone\tPRON\tPNI\tNumber=Sing|Person=3|PronType=Prs\t3\tnsubj\t_\t_\n",
      "2\tis\tbe\tAUX\tVBZ\tMood=Ind|Number=Sing|Person=3|Tense=Pres|VerbForm=Fin\t3\tcop\t_\t_\n",
      "3\tfine\tfine\tADJ\tAJ0\tVerbForm=Inf\t0\troot\t_\t_\n",
      "4\tbecause\tbecause\tSCONJ\tCJS\t_\t8\tmark\t_\t_\n",
      "5\tthey\tthey\tPROPN\tPNP\tNumber=Plur|Person=3|PronType=Prs\t8\tnsubj\t_\t_\n",
      "6\twere\tbe\tAUX\tVBD\tMood=Ind|Number=Plur|Tense=Past|VerbForm=Fin\t8\tcop\t_\t_\n",
      "7\tboth\tboth\tDET\tDT0\t_\t8\tnsubj\t_\t_\n",
      "8\table\table\tADJ\tAJ0\tDegree=Pos\t3\tadvcl\t_\t_\n",
      "9\tto\tto\tPART\tTO0\t_\t10\tmark\t_\t_\n",
      "10\tget\tget\tVERB\tVVI\tVerbForm=Inf\t8\txcomp\t_\t_\n",
      "11\tout\tout\tADP\tPRP\t_\t14\tcase\t_\t_\n",
      "12\tof\tof\tADP\tPRF\t_\t14\tcase\t_\t_\n",
      "13\ttheir\ttheir\tDET\tDPS\tPoss=Yes|PronType=Prs\t14\tdet\t_\t_\n",
      "14\tcars\tcar\tNOUN\tNN2\tNumber=Plur\t10\tobl\t_\t_\n",
      "15\tto\tto\tPART\tTO0\t_\t16\tmark\t_\t_\n",
      "16\tassess\tassess\tVERB\tVVI\tVerbForm=Inf\t10\txcomp\t_\t_\n",
      "17\tthe\tthe\tDET\tAT0\tDefinite=Def|PronType=Art\t18\tdet\t_\t_\n",
      "18\tdamage\tdamage\tNOUN\tNN1\tNumber=Sing\t16\tobj\t_\t_\n",
      "\n",
      "1\tand\tand\tCCONJ\tCJC\t_\t3\tcc\t_\t_\n",
      "2\tthe\tthe\tDET\tAT0\tDefinite=Def|PronType=Art\t3\tdet\t_\t_\n",
      "3\tman\tman\tNOUN\tNN1\tGender=Masc|Number=Sing\t0\troot\t_\t_\n",
      "4\twho\twho\tPRON\tPNQ\tPronType=Rel\t5\tnsubj\t_\t_\n",
      "5\tkicked\tkick\tVERB\tVVD\tMood=Ind|Person=3|Tense=Past|VerbForm=Fin\t3\tacl:relcl\t_\t_\n",
      "6\tthe\tthe\tDET\tAT0\tDefinite=Def|PronType=Art\t8\tdet\t_\t_\n",
      "7\tsoccer\tsoccer\tNOUN\tNN1\tDegree=Cmp\t8\tcompound\t_\t_\n",
      "8\tball\tball\tNOUN\tNN1\tNumber=Sing\t5\tobj\t_\t_\n",
      "9\talso\talso\tADV\tAV0\t_\t10\tadvmod\t_\t_\n",
      "10\tchecked\tcheck\tVERB\tVVD\tTense=Past|VerbForm=Part\t8\tacl\t_\t_\n",
      "11\ton\ton\tADP\tAVP\t_\t12\tcase\t_\t_\n",
      "12\tthem\tthey\tPROPN\tPNP\tNumber=Plur|Person=3|PronType=Prs\t10\tobl\t_\t_\n",
      "13\t.\t.\tPUNCT\tSENT\t_\t3\tpunct\t_\t_\n",
      "\n",
      "1\tWhat\twhat\tDET\tDTQ\tPronType=Int\t2\tdet\t_\t_\n",
      "2\tI\tI\tPROPN\tPNP\tNumber=Sing|Person=1|PronType=Prs\t3\tnsubj\t_\t_\n",
      "3\tfound\tfind\tVERB\tVVD\tMood=Ind|Person=3|Tense=Past|VerbForm=Fin\t0\troot\t_\t_\n",
      "4\tmost\tmost\tADV\tAV0\t_\t5\tadvmod\t_\t_\n",
      "5\tinteresting\tinterest\tADJ\tAJ0\tDegree=Pos\t8\tnsubj\t_\t_\n",
      "6\twas\tbe\tAUX\tVBD\tMood=Ind|Number=Sing|Person=3|Tense=Past|VerbForm=Fin\t8\tcop\t_\t_\n",
      "7\tthe\tthe\tDET\tAT0\tDefinite=Def|PronType=Art\t8\tdet\t_\t_\n",
      "8\tfact\tfact\tNOUN\tNN1\tNumber=Sing\t3\tccomp\t_\t_\n",
      "9\tthat\tthat\tSCONJ\tCJT\t_\t16\tmark\t_\t_\n",
      "10\tthe\tthe\tDET\tAT0\tDefinite=Def|PronType=Art\t11\tdet\t_\t_\n",
      "11\tdriver\tdriver\tNOUN\tNN1\tNumber=Sing\t16\tnsubj\t_\t_\n",
      "12\tof\tof\tADP\tPRF\t_\t15\tcase\t_\t_\n",
      "13\tthe\tthe\tDET\tAT0\tDefinite=Def|PronType=Art\t15\tdet\t_\t_\n",
      "14\tfirst\tfirst\tADJ\tORD\tDegree=Pos|NumType=Ord\t15\tamod\t_\t_\n",
      "15\tcar\tcar\tNOUN\tNN1\tNumber=Sing\t11\tnmod\t_\t_\n",
      "16\tchecked\tcheck\tVERB\tVVD\tMood=Ind|Person=3|Tense=Past|VerbForm=Fin\t8\tacl\t_\t_\n",
      "17\tto\tto\tPART\tTO0\t_\t18\tmark\t_\t_\n",
      "18\tsee\tsee\tVERB\tVVI\tVerbForm=Inf\t16\txcomp\t_\t_\n",
      "19\tif\tif\tSCONJ\tCJS\t_\t21\tmark\t_\t_\n",
      "20\the\the\tPROPN\tPNP\tGender=Masc|Number=Sing|Person=3|PronType=Prs\t21\tnsubj\t_\t_\n",
      "21\thit\thit\tVERB\tVVD\tVerbForm=Inf\t18\tadvcl\t_\t_\n",
      "22\tanything\tanything\tPRON\tPNI\tNumber=Sing\t21\tobj\t_\t_\n",
      "23\tin\tin\tADP\tPRP\t_\t25\tcase\t_\t_\n",
      "24\tthe\tthe\tDET\tAT0\tDefinite=Def|PronType=Art\t25\tdet\t_\t_\n",
      "25\tfront\tfront\tNOUN\tNN1\tNumber=Sing\t21\tobl\t_\t_\n",
      "26\tof\tof\tADP\tPRF\t_\t28\tcase\t_\t_\n",
      "27\this\this\tDET\tDPS\tPoss=Yes|PronType=Prs\t28\tdet\t_\t_\n",
      "28\tcar\tcar\tNOUN\tNN1\tNumber=Sing\t25\tnmod\t_\t_\n",
      "29\tbecause\tbecause\tSCONJ\tCJS\t_\t30\tmark\t_\t_\n",
      "30\tassessing\tassess\tVERB\tVVG\tVerbForm=Ger\t21\tadvcl\t_\t_\n",
      "31\tthe\tthe\tDET\tAT0\tDefinite=Def|PronType=Art\t32\tdet\t_\t_\n",
      "32\tdamage\tdamage\tNOUN\tNN1\tNumber=Sing\t30\tobj\t_\t_\n",
      "33\tto\tto\tADP\tPRP\t_\t35\tcase\t_\t_\n",
      "34\tthe\tthe\tDET\tAT0\tDefinite=Def|PronType=Art\t35\tdet\t_\t_\n",
      "35\tback\tback\tNOUN\tNN1\tNumber=Sing\t30\tobl\t_\t_\n",
      "36\tof\tof\tADP\tPRF\t_\t38\tcase\t_\t_\n",
      "37\this\this\tDET\tDPS\tPoss=Yes|PronType=Prs\t38\tdet\t_\t_\n",
      "38\tcar\tcar\tNOUN\tNN1\tNumber=Sing\t35\tnmod\t_\t_\n",
      "39\t.\t.\tPUNCT\tSENT\t_\t3\tpunct\t_\t_\n",
      "\n",
      "\n"
     ]
    }
   ],
   "source": [
    "connebidemo = en_bi_texts[0][1]\n",
    "print(connebidemo)"
   ]
  },
  {
   "cell_type": "code",
   "execution_count": 492,
   "id": "3da4e2d5",
   "metadata": {},
   "outputs": [],
   "source": [
    "connebidemo = connebidemo[:(len(connebidemo)-1)]"
   ]
  },
  {
   "cell_type": "code",
   "execution_count": 493,
   "id": "79676eb3",
   "metadata": {},
   "outputs": [
    {
     "name": "stdout",
     "output_type": "stream",
     "text": [
      "   ID   FORM  LEMMA   UPOS XPOS FEATS  HEAD     DEPREL DEPS MISC\n",
      "0   1    hey    Hey   INTJ  ITJ     _     2  discourse    _    _\n",
      "1   2  Eleni  Eleni   NOUN  NP0     _     0       ROOT    _    _\n",
      "2   3      ,      ,  PUNCT  PUN     _     2      punct    _    _\n",
      "hey Hey INTJ discourse\n",
      "Eleni Eleni NOUN ROOT\n",
      ", , PUNCT punct\n",
      "\n",
      "   ID      FORM   LEMMA   UPOS  XPOS  \\\n",
      "0   1       let     let   VERB   VVB   \n",
      "1   2        me       i  PROPN   PNP   \n",
      "2   3      tell    tell   VERB   VVI   \n",
      "3   4       you     you  PROPN   PNP   \n",
      "4   5      what    what    DET   DTQ   \n",
      "5   6  happened  happen   VERB   VVD   \n",
      "6   7     today   today    ADV   AV0   \n",
      "7   8         !       !  PUNCT  SENT   \n",
      "\n",
      "                                               FEATS  HEAD  DEPREL DEPS MISC  \n",
      "0  Mood=Imp|Number=Plur|Person=2|Tense=Pres|VerbF...     0    ROOT    _    _  \n",
      "1                  Number=Sing|Person=1|PronType=Prs     1     obj    _    _  \n",
      "2  Mood=Ind|Number=Sing|Person=1|Tense=Pres|VerbF...     1   xcomp    _    _  \n",
      "3                              Person=2|PronType=Prs     6   nsubj    _    _  \n",
      "4                           Number=Sing|PronType=Rel     6     det    _    _  \n",
      "5          Mood=Ind|Person=3|Tense=Past|VerbForm=Fin     3   ccomp    _    _  \n",
      "6                                                  _     6  advmod    _    _  \n",
      "7                                                  _     6   punct    _    _  \n",
      "let let VERB ROOT\n",
      "me i PROPN obj\n",
      "tell tell VERB xcomp\n",
      "you you PROPN nsubj\n",
      "what what DET det\n",
      "happened happen VERB ccomp\n",
      "today today ADV advmod\n",
      "! ! PUNCT punct\n",
      "\n",
      "    ID      FORM     LEMMA   UPOS  XPOS  \\\n",
      "0    1         I         I  PROPN   PNP   \n",
      "1    2       saw       see   VERB   VVD   \n",
      "2    3         a         a    DET   AT0   \n",
      "3    4     minor     minor    ADJ   AJ0   \n",
      "4    5       car       car   NOUN   NN1   \n",
      "5    6  accident  accident   NOUN   NN1   \n",
      "6    7      when      when  SCONJ   CJS   \n",
      "7    8    either    either    ADV   AV0   \n",
      "8    9       the       the    DET   AT0   \n",
      "9   10    person    person   NOUN   NN1   \n",
      "10  11   driving     drive   VERB   VVG   \n",
      "11  12       saw       saw   VERB   VVD   \n",
      "12  13         a         a    DET   AT0   \n",
      "13  14    soccer    soccer   NOUN   NN1   \n",
      "14  15      ball      ball   NOUN   NN1   \n",
      "15  16      roll      roll   VERB   VVI   \n",
      "16  17      into      into    ADP   PRP   \n",
      "17  18       the       the    DET   AT0   \n",
      "18  19    street    street   NOUN   NN1   \n",
      "19  20        or        or  CCONJ   CJC   \n",
      "20  21      when      when  SCONJ   CJS   \n",
      "21  22        he        he  PROPN   PNP   \n",
      "22  23       saw       see   VERB   VVD   \n",
      "23  24         a         a    DET   AT0   \n",
      "24  25       dog       dog   NOUN   NN1   \n",
      "25  26      move      move   VERB   VVI   \n",
      "26  27        in        in    ADP   PRP   \n",
      "27  28     front     front    ADP   PRP   \n",
      "28  29        of        of    ADP   PRF   \n",
      "29  30       his       his    DET   DPS   \n",
      "30  31       car       car   NOUN   NN1   \n",
      "31  32         .         .  PUNCT  SENT   \n",
      "\n",
      "                                            FEATS  HEAD    DEPREL DEPS MISC  \n",
      "0               Number=Sing|Person=1|PronType=Prs     2     nsubj    _    _  \n",
      "1       Mood=Ind|Person=3|Tense=Past|VerbForm=Fin     0      ROOT    _    _  \n",
      "2           Definite=Ind|Number=Sing|PronType=Art     6       det    _    _  \n",
      "3                                      Degree=Pos     6      amod    _    _  \n",
      "4                                     Number=Sing     6  compound    _    _  \n",
      "5                                     Number=Sing     2       obj    _    _  \n",
      "6                                               _    11      mark    _    _  \n",
      "7                                               _    11    advmod    _    _  \n",
      "8                       Definite=Def|PronType=Art    10       det    _    _  \n",
      "9                                     Number=Sing    11     nsubj    _    _  \n",
      "10                                    Number=Sing     2     advcl    _    _  \n",
      "11      Mood=Ind|Person=3|Tense=Past|VerbForm=Fin    11      conj    _    _  \n",
      "12          Definite=Ind|Number=Sing|PronType=Art    15       det    _    _  \n",
      "13                                     Degree=Cmp    15  compound    _    _  \n",
      "14                                    Number=Sing    16     nsubj    _    _  \n",
      "15                                    Number=Sing    12     ccomp    _    _  \n",
      "16                                              _    19      case    _    _  \n",
      "17                      Definite=Def|PronType=Art    19       det    _    _  \n",
      "18                                    Number=Sing    16       obl    _    _  \n",
      "19                                              _    23        cc    _    _  \n",
      "20                                              _    23      mark    _    _  \n",
      "21  Gender=Masc|Number=Sing|Person=3|PronType=Prs    23     nsubj    _    _  \n",
      "22      Mood=Ind|Person=3|Tense=Past|VerbForm=Fin    16      conj    _    _  \n",
      "23          Definite=Ind|Number=Sing|PronType=Art    25       det    _    _  \n",
      "24                                    Number=Sing    26     nsubj    _    _  \n",
      "25      Mood=Ind|Person=3|Tense=Past|VerbForm=Fin    23     ccomp    _    _  \n",
      "26                                              _    28      case    _    _  \n",
      "27                                    Number=Sing    26       obl    _    _  \n",
      "28                                              _    31      case    _    _  \n",
      "29                          Poss=Yes|PronType=Prs    31       det    _    _  \n",
      "30                                    Number=Sing    28      nmod    _    _  \n",
      "31                                              _    16     punct    _    _  \n",
      "I I PROPN nsubj\n",
      "saw see VERB ROOT\n",
      "a a DET det\n",
      "minor minor ADJ amod\n",
      "car car NOUN compound\n",
      "accident accident NOUN obj\n",
      "when when SCONJ mark\n",
      "either either ADV advmod\n",
      "the the DET det\n",
      "person person NOUN nsubj\n",
      "driving drive VERB advcl\n",
      "saw saw VERB conj\n",
      "a a DET det\n",
      "soccer soccer NOUN compound\n",
      "ball ball NOUN nsubj\n",
      "roll roll VERB ccomp\n",
      "into into ADP case\n",
      "the the DET det\n",
      "street street NOUN obl\n",
      "or or CCONJ cc\n",
      "when when SCONJ mark\n",
      "he he PROPN nsubj\n",
      "saw see VERB conj\n",
      "a a DET det\n",
      "dog dog NOUN nsubj\n",
      "move move VERB ccomp\n",
      "in in ADP case\n",
      "front front ADP obl\n",
      "of of ADP case\n",
      "his his DET det\n",
      "car car NOUN nmod\n",
      ". . PUNCT punct\n",
      "\n",
      "    ID      FORM     LEMMA   UPOS XPOS  \\\n",
      "0    1  Everyone  everyone   PRON  PNI   \n",
      "1    2        is        be    AUX  VBZ   \n",
      "2    3      fine      fine    ADJ  AJ0   \n",
      "3    4   because   because  SCONJ  CJS   \n",
      "4    5      they      they  PROPN  PNP   \n",
      "5    6      were        be    AUX  VBD   \n",
      "6    7      both      both    DET  DT0   \n",
      "7    8      able      able    ADJ  AJ0   \n",
      "8    9        to        to   PART  TO0   \n",
      "9   10       get       get   VERB  VVI   \n",
      "10  11       out       out    ADP  PRP   \n",
      "11  12        of        of    ADP  PRF   \n",
      "12  13     their     their    DET  DPS   \n",
      "13  14      cars       car   NOUN  NN2   \n",
      "14  15        to        to   PART  TO0   \n",
      "15  16    assess    assess   VERB  VVI   \n",
      "16  17       the       the    DET  AT0   \n",
      "17  18    damage    damage   NOUN  NN1   \n",
      "\n",
      "                                                FEATS  HEAD DEPREL DEPS MISC  \n",
      "0                   Number=Sing|Person=3|PronType=Prs     3  nsubj    _    _  \n",
      "1   Mood=Ind|Number=Sing|Person=3|Tense=Pres|VerbF...     3    cop    _    _  \n",
      "2                                        VerbForm=Inf     0   ROOT    _    _  \n",
      "3                                                   _     8   mark    _    _  \n",
      "4                   Number=Plur|Person=3|PronType=Prs     8  nsubj    _    _  \n",
      "5        Mood=Ind|Number=Plur|Tense=Past|VerbForm=Fin     8    cop    _    _  \n",
      "6                                                   _     8  nsubj    _    _  \n",
      "7                                          Degree=Pos     3  advcl    _    _  \n",
      "8                                                   _    10   mark    _    _  \n",
      "9                                        VerbForm=Inf     8  xcomp    _    _  \n",
      "10                                                  _    14   case    _    _  \n",
      "11                                                  _    14   case    _    _  \n",
      "12                              Poss=Yes|PronType=Prs    14    det    _    _  \n",
      "13                                        Number=Plur    10    obl    _    _  \n",
      "14                                                  _    16   mark    _    _  \n",
      "15                                       VerbForm=Inf    10  xcomp    _    _  \n",
      "16                          Definite=Def|PronType=Art    18    det    _    _  \n",
      "17                                        Number=Sing    16    obj    _    _  \n",
      "Everyone everyone PRON nsubj\n",
      "is be AUX cop\n",
      "fine fine ADJ ROOT\n",
      "because because SCONJ mark\n",
      "they they PROPN nsubj\n",
      "were be AUX cop\n",
      "both both DET nsubj\n",
      "able able ADJ advcl\n",
      "to to PART mark\n",
      "get get VERB xcomp\n",
      "out out ADP case\n",
      "of of ADP case\n",
      "their their DET det\n",
      "cars car NOUN obl\n",
      "to to PART mark\n",
      "assess assess VERB xcomp\n",
      "the the DET det\n",
      "damage damage NOUN obj\n",
      "\n",
      "    ID     FORM   LEMMA   UPOS  XPOS  \\\n",
      "0    1      and     and  CCONJ   CJC   \n",
      "1    2      the     the    DET   AT0   \n",
      "2    3      man     man   NOUN   NN1   \n",
      "3    4      who     who   PRON   PNQ   \n",
      "4    5   kicked    kick   VERB   VVD   \n",
      "5    6      the     the    DET   AT0   \n",
      "6    7   soccer  soccer   NOUN   NN1   \n",
      "7    8     ball    ball   NOUN   NN1   \n",
      "8    9     also    also    ADV   AV0   \n",
      "9   10  checked   check   VERB   VVD   \n",
      "10  11       on      on    ADP   AVP   \n",
      "11  12     them    they  PROPN   PNP   \n",
      "12  13        .       .  PUNCT  SENT   \n",
      "\n",
      "                                        FEATS  HEAD     DEPREL DEPS MISC  \n",
      "0                                           _     3         cc    _    _  \n",
      "1                   Definite=Def|PronType=Art     3        det    _    _  \n",
      "2                     Gender=Masc|Number=Sing     0       ROOT    _    _  \n",
      "3                                PronType=Rel     5      nsubj    _    _  \n",
      "4   Mood=Ind|Person=3|Tense=Past|VerbForm=Fin     3  acl:relcl    _    _  \n",
      "5                   Definite=Def|PronType=Art     8        det    _    _  \n",
      "6                                  Degree=Cmp     8   compound    _    _  \n",
      "7                                 Number=Sing     5        obj    _    _  \n",
      "8                                           _    10     advmod    _    _  \n",
      "9                    Tense=Past|VerbForm=Part     8        acl    _    _  \n",
      "10                                          _    12       case    _    _  \n",
      "11          Number=Plur|Person=3|PronType=Prs    10        obl    _    _  \n",
      "12                                          _     3      punct    _    _  \n",
      "and and CCONJ cc\n",
      "the the DET det\n",
      "man man NOUN ROOT\n",
      "who who PRON nsubj\n",
      "kicked kick VERB acl:relcl\n",
      "the the DET det\n",
      "soccer soccer NOUN compound\n",
      "ball ball NOUN obj\n",
      "also also ADV advmod\n",
      "checked check VERB acl\n",
      "on on ADP case\n",
      "them they PROPN obl\n",
      ". . PUNCT punct\n",
      "\n",
      "    ID         FORM     LEMMA   UPOS  XPOS  \\\n",
      "0    1         What      what    DET   DTQ   \n",
      "1    2            I         I  PROPN   PNP   \n",
      "2    3        found      find   VERB   VVD   \n",
      "3    4         most      most    ADV   AV0   \n",
      "4    5  interesting  interest    ADJ   AJ0   \n",
      "5    6          was        be    AUX   VBD   \n",
      "6    7          the       the    DET   AT0   \n",
      "7    8         fact      fact   NOUN   NN1   \n",
      "8    9         that      that  SCONJ   CJT   \n",
      "9   10          the       the    DET   AT0   \n",
      "10  11       driver    driver   NOUN   NN1   \n",
      "11  12           of        of    ADP   PRF   \n",
      "12  13          the       the    DET   AT0   \n",
      "13  14        first     first    ADJ   ORD   \n",
      "14  15          car       car   NOUN   NN1   \n",
      "15  16      checked     check   VERB   VVD   \n",
      "16  17           to        to   PART   TO0   \n",
      "17  18          see       see   VERB   VVI   \n",
      "18  19           if        if  SCONJ   CJS   \n",
      "19  20           he        he  PROPN   PNP   \n",
      "20  21          hit       hit   VERB   VVD   \n",
      "21  22     anything  anything   PRON   PNI   \n",
      "22  23           in        in    ADP   PRP   \n",
      "23  24          the       the    DET   AT0   \n",
      "24  25        front     front   NOUN   NN1   \n",
      "25  26           of        of    ADP   PRF   \n",
      "26  27          his       his    DET   DPS   \n",
      "27  28          car       car   NOUN   NN1   \n",
      "28  29      because   because  SCONJ   CJS   \n",
      "29  30    assessing    assess   VERB   VVG   \n",
      "30  31          the       the    DET   AT0   \n",
      "31  32       damage    damage   NOUN   NN1   \n",
      "32  33           to        to    ADP   PRP   \n",
      "33  34          the       the    DET   AT0   \n",
      "34  35         back      back   NOUN   NN1   \n",
      "35  36           of        of    ADP   PRF   \n",
      "36  37          his       his    DET   DPS   \n",
      "37  38          car       car   NOUN   NN1   \n",
      "38  39            .         .  PUNCT  SENT   \n",
      "\n",
      "                                                FEATS  HEAD  DEPREL DEPS MISC  \n",
      "0                                        PronType=Int     2     det    _    _  \n",
      "1                   Number=Sing|Person=1|PronType=Prs     3   nsubj    _    _  \n",
      "2           Mood=Ind|Person=3|Tense=Past|VerbForm=Fin     0    ROOT    _    _  \n",
      "3                                                   _     5  advmod    _    _  \n",
      "4                                          Degree=Pos     8   nsubj    _    _  \n",
      "5   Mood=Ind|Number=Sing|Person=3|Tense=Past|VerbF...     8     cop    _    _  \n",
      "6                           Definite=Def|PronType=Art     8     det    _    _  \n",
      "7                                         Number=Sing     3   ccomp    _    _  \n",
      "8                                                   _    16    mark    _    _  \n",
      "9                           Definite=Def|PronType=Art    11     det    _    _  \n",
      "10                                        Number=Sing    16   nsubj    _    _  \n",
      "11                                                  _    15    case    _    _  \n",
      "12                          Definite=Def|PronType=Art    15     det    _    _  \n",
      "13                             Degree=Pos|NumType=Ord    15    amod    _    _  \n",
      "14                                        Number=Sing    11    nmod    _    _  \n",
      "15          Mood=Ind|Person=3|Tense=Past|VerbForm=Fin     8     acl    _    _  \n",
      "16                                                  _    18    mark    _    _  \n",
      "17                                       VerbForm=Inf    16   xcomp    _    _  \n",
      "18                                                  _    21    mark    _    _  \n",
      "19      Gender=Masc|Number=Sing|Person=3|PronType=Prs    21   nsubj    _    _  \n",
      "20                                       VerbForm=Inf    18   advcl    _    _  \n",
      "21                                        Number=Sing    21     obj    _    _  \n",
      "22                                                  _    25    case    _    _  \n",
      "23                          Definite=Def|PronType=Art    25     det    _    _  \n",
      "24                                        Number=Sing    21     obl    _    _  \n",
      "25                                                  _    28    case    _    _  \n",
      "26                              Poss=Yes|PronType=Prs    28     det    _    _  \n",
      "27                                        Number=Sing    25    nmod    _    _  \n",
      "28                                                  _    30    mark    _    _  \n",
      "29                                       VerbForm=Ger    21   advcl    _    _  \n",
      "30                          Definite=Def|PronType=Art    32     det    _    _  \n",
      "31                                        Number=Sing    30     obj    _    _  \n",
      "32                                                  _    35    case    _    _  \n",
      "33                          Definite=Def|PronType=Art    35     det    _    _  \n",
      "34                                        Number=Sing    30     obl    _    _  \n",
      "35                                                  _    38    case    _    _  \n",
      "36                              Poss=Yes|PronType=Prs    38     det    _    _  \n",
      "37                                        Number=Sing    35    nmod    _    _  \n",
      "38                                                  _     3   punct    _    _  \n",
      "What what DET det\n",
      "I I PROPN nsubj\n",
      "found find VERB ROOT\n",
      "most most ADV advmod\n",
      "interesting interest ADJ nsubj\n",
      "was be AUX cop\n",
      "the the DET det\n",
      "fact fact NOUN ccomp\n",
      "that that SCONJ mark\n",
      "the the DET det\n",
      "driver driver NOUN nsubj\n",
      "of of ADP case\n",
      "the the DET det\n",
      "first first ADJ amod\n",
      "car car NOUN nmod\n",
      "checked check VERB acl\n",
      "to to PART mark\n",
      "see see VERB xcomp\n",
      "if if SCONJ mark\n",
      "he he PROPN nsubj\n",
      "hit hit VERB advcl\n",
      "anything anything PRON obj\n",
      "in in ADP case\n",
      "the the DET det\n",
      "front front NOUN obl\n",
      "of of ADP case\n",
      "his his DET det\n",
      "car car NOUN nmod\n",
      "because because SCONJ mark\n",
      "assessing assess VERB advcl\n",
      "the the DET det\n",
      "damage damage NOUN obj\n",
      "to to ADP case\n",
      "the the DET det\n",
      "back back NOUN obl\n",
      "of of ADP case\n",
      "his his DET det\n",
      "car car NOUN nmod\n",
      ". . PUNCT punct\n",
      "\n"
     ]
    }
   ],
   "source": [
    "nlp = init_parser(\"en_core_web_sm\", \"spacy\", include_headers=False)\n",
    "parser = ConllParser(nlp)\n",
    "connebidemo2 = parser.parse_conll_text_as_spacy(connebidemo)\n",
    "for sent_id, sent in enumerate(connebidemo2.sents, 1):\n",
    "        print(sent._.conll_pd)\n",
    "        #displacy.render(sent, style='dep', options={\"compact\":True})  #renders the sentences into trees, just takes up\n",
    "                                                                       #a LOT of screen space   \n",
    "        for word in sent:\n",
    "            print(word, word.lemma_, word.pos_, word.dep_)\n",
    "        print()"
   ]
  },
  {
   "cell_type": "code",
   "execution_count": 494,
   "id": "9f354863",
   "metadata": {},
   "outputs": [
    {
     "data": {
      "text/plain": [
       "'1\\they\\tHey\\tINTJ\\tITJ\\t_\\t2\\tdiscourse\\t_\\t_\\n2\\tEleni\\tEleni\\tNOUN\\tNP0\\t_\\t0\\tROOT\\t_\\t_\\n3\\t,\\t,\\tPUNCT\\tPUN\\t_\\t2\\tpunct\\t_\\t_\\n\\n1\\tlet\\tlet\\tVERB\\tVVB\\tMood=Imp|Number=Plur|Person=2|Tense=Pres|VerbForm=Fin\\t0\\tROOT\\t_\\t_\\n2\\tme\\ti\\tPROPN\\tPNP\\tNumber=Sing|Person=1|PronType=Prs\\t1\\tobj\\t_\\t_\\n3\\ttell\\ttell\\tVERB\\tVVI\\tMood=Ind|Number=Sing|Person=1|Tense=Pres|VerbForm=Fin\\t1\\txcomp\\t_\\t_\\n4\\tyou\\tyou\\tPROPN\\tPNP\\tPerson=2|PronType=Prs\\t6\\tnsubj\\t_\\t_\\n5\\twhat\\twhat\\tDET\\tDTQ\\tNumber=Sing|PronType=Rel\\t6\\tdet\\t_\\t_\\n6\\thappened\\thappen\\tVERB\\tVVD\\tMood=Ind|Person=3|Tense=Past|VerbForm=Fin\\t3\\tccomp\\t_\\t_\\n7\\ttoday\\ttoday\\tADV\\tAV0\\t_\\t6\\tadvmod\\t_\\t_\\n8\\t!\\t!\\tPUNCT\\tSENT\\t_\\t6\\tpunct\\t_\\t_\\n\\n1\\tI\\tI\\tPROPN\\tPNP\\tNumber=Sing|Person=1|PronType=Prs\\t2\\tnsubj\\t_\\t_\\n2\\tsaw\\tsee\\tVERB\\tVVD\\tMood=Ind|Person=3|Tense=Past|VerbForm=Fin\\t0\\tROOT\\t_\\t_\\n3\\ta\\ta\\tDET\\tAT0\\tDefinite=Ind|Number=Sing|PronType=Art\\t6\\tdet\\t_\\t_\\n4\\tminor\\tminor\\tADJ\\tAJ0\\tDegree=Pos\\t6\\tamod\\t_\\t_\\n5\\tcar\\tcar\\tNOUN\\tNN1\\tNumber=Sing\\t6\\tcompound\\t_\\t_\\n6\\taccident\\taccident\\tNOUN\\tNN1\\tNumber=Sing\\t2\\tobj\\t_\\t_\\n7\\twhen\\twhen\\tSCONJ\\tCJS\\t_\\t11\\tmark\\t_\\t_\\n8\\teither\\teither\\tADV\\tAV0\\t_\\t11\\tadvmod\\t_\\t_\\n9\\tthe\\tthe\\tDET\\tAT0\\tDefinite=Def|PronType=Art\\t10\\tdet\\t_\\t_\\n10\\tperson\\tperson\\tNOUN\\tNN1\\tNumber=Sing\\t11\\tnsubj\\t_\\t_\\n11\\tdriving\\tdrive\\tVERB\\tVVG\\tNumber=Sing\\t2\\tadvcl\\t_\\t_\\n12\\tsaw\\tsaw\\tVERB\\tVVD\\tMood=Ind|Person=3|Tense=Past|VerbForm=Fin\\t11\\tconj\\t_\\t_\\n13\\ta\\ta\\tDET\\tAT0\\tDefinite=Ind|Number=Sing|PronType=Art\\t15\\tdet\\t_\\t_\\n14\\tsoccer\\tsoccer\\tNOUN\\tNN1\\tDegree=Cmp\\t15\\tcompound\\t_\\t_\\n15\\tball\\tball\\tNOUN\\tNN1\\tNumber=Sing\\t16\\tnsubj\\t_\\t_\\n16\\troll\\troll\\tVERB\\tVVI\\tNumber=Sing\\t12\\tccomp\\t_\\t_\\n17\\tinto\\tinto\\tADP\\tPRP\\t_\\t19\\tcase\\t_\\t_\\n18\\tthe\\tthe\\tDET\\tAT0\\tDefinite=Def|PronType=Art\\t19\\tdet\\t_\\t_\\n19\\tstreet\\tstreet\\tNOUN\\tNN1\\tNumber=Sing\\t16\\tobl\\t_\\t_\\n20\\tor\\tor\\tCCONJ\\tCJC\\t_\\t23\\tcc\\t_\\t_\\n21\\twhen\\twhen\\tSCONJ\\tCJS\\t_\\t23\\tmark\\t_\\t_\\n22\\the\\the\\tPROPN\\tPNP\\tGender=Masc|Number=Sing|Person=3|PronType=Prs\\t23\\tnsubj\\t_\\t_\\n23\\tsaw\\tsee\\tVERB\\tVVD\\tMood=Ind|Person=3|Tense=Past|VerbForm=Fin\\t16\\tconj\\t_\\t_\\n24\\ta\\ta\\tDET\\tAT0\\tDefinite=Ind|Number=Sing|PronType=Art\\t25\\tdet\\t_\\t_\\n25\\tdog\\tdog\\tNOUN\\tNN1\\tNumber=Sing\\t26\\tnsubj\\t_\\t_\\n26\\tmove\\tmove\\tVERB\\tVVI\\tMood=Ind|Person=3|Tense=Past|VerbForm=Fin\\t23\\tccomp\\t_\\t_\\n27\\tin\\tin\\tADP\\tPRP\\t_\\t28\\tcase\\t_\\t_\\n28\\tfront\\tfront\\tADP\\tPRP\\tNumber=Sing\\t26\\tobl\\t_\\t_\\n29\\tof\\tof\\tADP\\tPRF\\t_\\t31\\tcase\\t_\\t_\\n30\\this\\this\\tDET\\tDPS\\tPoss=Yes|PronType=Prs\\t31\\tdet\\t_\\t_\\n31\\tcar\\tcar\\tNOUN\\tNN1\\tNumber=Sing\\t28\\tnmod\\t_\\t_\\n32\\t.\\t.\\tPUNCT\\tSENT\\t_\\t16\\tpunct\\t_\\t_\\n\\n1\\tEveryone\\teveryone\\tPRON\\tPNI\\tNumber=Sing|Person=3|PronType=Prs\\t3\\tnsubj\\t_\\t_\\n2\\tis\\tbe\\tAUX\\tVBZ\\tMood=Ind|Number=Sing|Person=3|Tense=Pres|VerbForm=Fin\\t3\\tcop\\t_\\t_\\n3\\tfine\\tfine\\tADJ\\tAJ0\\tVerbForm=Inf\\t0\\tROOT\\t_\\t_\\n4\\tbecause\\tbecause\\tSCONJ\\tCJS\\t_\\t8\\tmark\\t_\\t_\\n5\\tthey\\tthey\\tPROPN\\tPNP\\tNumber=Plur|Person=3|PronType=Prs\\t8\\tnsubj\\t_\\t_\\n6\\twere\\tbe\\tAUX\\tVBD\\tMood=Ind|Number=Plur|Tense=Past|VerbForm=Fin\\t8\\tcop\\t_\\t_\\n7\\tboth\\tboth\\tDET\\tDT0\\t_\\t8\\tnsubj\\t_\\t_\\n8\\table\\table\\tADJ\\tAJ0\\tDegree=Pos\\t3\\tadvcl\\t_\\t_\\n9\\tto\\tto\\tPART\\tTO0\\t_\\t10\\tmark\\t_\\t_\\n10\\tget\\tget\\tVERB\\tVVI\\tVerbForm=Inf\\t8\\txcomp\\t_\\t_\\n11\\tout\\tout\\tADP\\tPRP\\t_\\t14\\tcase\\t_\\t_\\n12\\tof\\tof\\tADP\\tPRF\\t_\\t14\\tcase\\t_\\t_\\n13\\ttheir\\ttheir\\tDET\\tDPS\\tPoss=Yes|PronType=Prs\\t14\\tdet\\t_\\t_\\n14\\tcars\\tcar\\tNOUN\\tNN2\\tNumber=Plur\\t10\\tobl\\t_\\t_\\n15\\tto\\tto\\tPART\\tTO0\\t_\\t16\\tmark\\t_\\t_\\n16\\tassess\\tassess\\tVERB\\tVVI\\tVerbForm=Inf\\t10\\txcomp\\t_\\t_\\n17\\tthe\\tthe\\tDET\\tAT0\\tDefinite=Def|PronType=Art\\t18\\tdet\\t_\\t_\\n18\\tdamage\\tdamage\\tNOUN\\tNN1\\tNumber=Sing\\t16\\tobj\\t_\\t_\\n\\n1\\tand\\tand\\tCCONJ\\tCJC\\t_\\t3\\tcc\\t_\\t_\\n2\\tthe\\tthe\\tDET\\tAT0\\tDefinite=Def|PronType=Art\\t3\\tdet\\t_\\t_\\n3\\tman\\tman\\tNOUN\\tNN1\\tGender=Masc|Number=Sing\\t0\\tROOT\\t_\\t_\\n4\\twho\\twho\\tPRON\\tPNQ\\tPronType=Rel\\t5\\tnsubj\\t_\\t_\\n5\\tkicked\\tkick\\tVERB\\tVVD\\tMood=Ind|Person=3|Tense=Past|VerbForm=Fin\\t3\\tacl:relcl\\t_\\t_\\n6\\tthe\\tthe\\tDET\\tAT0\\tDefinite=Def|PronType=Art\\t8\\tdet\\t_\\t_\\n7\\tsoccer\\tsoccer\\tNOUN\\tNN1\\tDegree=Cmp\\t8\\tcompound\\t_\\t_\\n8\\tball\\tball\\tNOUN\\tNN1\\tNumber=Sing\\t5\\tobj\\t_\\t_\\n9\\talso\\talso\\tADV\\tAV0\\t_\\t10\\tadvmod\\t_\\t_\\n10\\tchecked\\tcheck\\tVERB\\tVVD\\tTense=Past|VerbForm=Part\\t8\\tacl\\t_\\t_\\n11\\ton\\ton\\tADP\\tAVP\\t_\\t12\\tcase\\t_\\t_\\n12\\tthem\\tthey\\tPROPN\\tPNP\\tNumber=Plur|Person=3|PronType=Prs\\t10\\tobl\\t_\\t_\\n13\\t.\\t.\\tPUNCT\\tSENT\\t_\\t3\\tpunct\\t_\\t_\\n\\n1\\tWhat\\twhat\\tDET\\tDTQ\\tPronType=Int\\t2\\tdet\\t_\\t_\\n2\\tI\\tI\\tPROPN\\tPNP\\tNumber=Sing|Person=1|PronType=Prs\\t3\\tnsubj\\t_\\t_\\n3\\tfound\\tfind\\tVERB\\tVVD\\tMood=Ind|Person=3|Tense=Past|VerbForm=Fin\\t0\\tROOT\\t_\\t_\\n4\\tmost\\tmost\\tADV\\tAV0\\t_\\t5\\tadvmod\\t_\\t_\\n5\\tinteresting\\tinterest\\tADJ\\tAJ0\\tDegree=Pos\\t8\\tnsubj\\t_\\t_\\n6\\twas\\tbe\\tAUX\\tVBD\\tMood=Ind|Number=Sing|Person=3|Tense=Past|VerbForm=Fin\\t8\\tcop\\t_\\t_\\n7\\tthe\\tthe\\tDET\\tAT0\\tDefinite=Def|PronType=Art\\t8\\tdet\\t_\\t_\\n8\\tfact\\tfact\\tNOUN\\tNN1\\tNumber=Sing\\t3\\tccomp\\t_\\t_\\n9\\tthat\\tthat\\tSCONJ\\tCJT\\t_\\t16\\tmark\\t_\\t_\\n10\\tthe\\tthe\\tDET\\tAT0\\tDefinite=Def|PronType=Art\\t11\\tdet\\t_\\t_\\n11\\tdriver\\tdriver\\tNOUN\\tNN1\\tNumber=Sing\\t16\\tnsubj\\t_\\t_\\n12\\tof\\tof\\tADP\\tPRF\\t_\\t15\\tcase\\t_\\t_\\n13\\tthe\\tthe\\tDET\\tAT0\\tDefinite=Def|PronType=Art\\t15\\tdet\\t_\\t_\\n14\\tfirst\\tfirst\\tADJ\\tORD\\tDegree=Pos|NumType=Ord\\t15\\tamod\\t_\\t_\\n15\\tcar\\tcar\\tNOUN\\tNN1\\tNumber=Sing\\t11\\tnmod\\t_\\t_\\n16\\tchecked\\tcheck\\tVERB\\tVVD\\tMood=Ind|Person=3|Tense=Past|VerbForm=Fin\\t8\\tacl\\t_\\t_\\n17\\tto\\tto\\tPART\\tTO0\\t_\\t18\\tmark\\t_\\t_\\n18\\tsee\\tsee\\tVERB\\tVVI\\tVerbForm=Inf\\t16\\txcomp\\t_\\t_\\n19\\tif\\tif\\tSCONJ\\tCJS\\t_\\t21\\tmark\\t_\\t_\\n20\\the\\the\\tPROPN\\tPNP\\tGender=Masc|Number=Sing|Person=3|PronType=Prs\\t21\\tnsubj\\t_\\t_\\n21\\thit\\thit\\tVERB\\tVVD\\tVerbForm=Inf\\t18\\tadvcl\\t_\\t_\\n22\\tanything\\tanything\\tPRON\\tPNI\\tNumber=Sing\\t21\\tobj\\t_\\t_\\n23\\tin\\tin\\tADP\\tPRP\\t_\\t25\\tcase\\t_\\t_\\n24\\tthe\\tthe\\tDET\\tAT0\\tDefinite=Def|PronType=Art\\t25\\tdet\\t_\\t_\\n25\\tfront\\tfront\\tNOUN\\tNN1\\tNumber=Sing\\t21\\tobl\\t_\\t_\\n26\\tof\\tof\\tADP\\tPRF\\t_\\t28\\tcase\\t_\\t_\\n27\\this\\this\\tDET\\tDPS\\tPoss=Yes|PronType=Prs\\t28\\tdet\\t_\\t_\\n28\\tcar\\tcar\\tNOUN\\tNN1\\tNumber=Sing\\t25\\tnmod\\t_\\t_\\n29\\tbecause\\tbecause\\tSCONJ\\tCJS\\t_\\t30\\tmark\\t_\\t_\\n30\\tassessing\\tassess\\tVERB\\tVVG\\tVerbForm=Ger\\t21\\tadvcl\\t_\\t_\\n31\\tthe\\tthe\\tDET\\tAT0\\tDefinite=Def|PronType=Art\\t32\\tdet\\t_\\t_\\n32\\tdamage\\tdamage\\tNOUN\\tNN1\\tNumber=Sing\\t30\\tobj\\t_\\t_\\n33\\tto\\tto\\tADP\\tPRP\\t_\\t35\\tcase\\t_\\t_\\n34\\tthe\\tthe\\tDET\\tAT0\\tDefinite=Def|PronType=Art\\t35\\tdet\\t_\\t_\\n35\\tback\\tback\\tNOUN\\tNN1\\tNumber=Sing\\t30\\tobl\\t_\\t_\\n36\\tof\\tof\\tADP\\tPRF\\t_\\t38\\tcase\\t_\\t_\\n37\\this\\this\\tDET\\tDPS\\tPoss=Yes|PronType=Prs\\t38\\tdet\\t_\\t_\\n38\\tcar\\tcar\\tNOUN\\tNN1\\tNumber=Sing\\t35\\tnmod\\t_\\t_\\n39\\t.\\t.\\tPUNCT\\tSENT\\t_\\t3\\tpunct\\t_\\t_\\n'"
      ]
     },
     "execution_count": 494,
     "metadata": {},
     "output_type": "execute_result"
    }
   ],
   "source": [
    "connebidemo2._.conll_str\n"
   ]
  },
  {
   "cell_type": "code",
   "execution_count": 495,
   "id": "a34c484a",
   "metadata": {},
   "outputs": [
    {
     "data": {
      "text/plain": [
       "'root\\t_\\t_\\n\\n'"
      ]
     },
     "execution_count": 495,
     "metadata": {},
     "output_type": "execute_result"
    }
   ],
   "source": [
    "## trying it on the german, but we need a different (german) pipeline for this\n",
    "conndbidemo = de_bi_texts[0][1]\n",
    "conndbidemo[-10:]\n",
    "## sooo pesky"
   ]
  },
  {
   "cell_type": "code",
   "execution_count": 496,
   "id": "a3adac23",
   "metadata": {},
   "outputs": [
    {
     "name": "stdout",
     "output_type": "stream",
     "text": [
      "   ID    FORM   LEMMA   UPOS   XPOS                            FEATS  HEAD  \\\n",
      "0   1      äh      äh   INTJ  NGHES                                _     0   \n",
      "1   2   hello   hello      X     FM                                _     3   \n",
      "2   3    this    this      X     FM                     PronType=Dem     4   \n",
      "3   4      is      be      X     FM     Mood=Ind|Person=3|Tense=Pres     1   \n",
      "4   5    file    file      X     FM                      Number=Sing     4   \n",
      "5   6  Nummer  Nummer   NOUN     NN  Case=Nom|Gender=Fem|Number=Sing     8   \n",
      "6   7       F       F  PROPN     NE                                _     6   \n",
      "7   8      äh      äh   INTJ  NGHES                                _     9   \n",
      "8   9      16  @card@  PROPN     NE                     NumType=Card     5   \n",
      "\n",
      "  DEPREL DEPS MISC  \n",
      "0   ROOT    _    _  \n",
      "1    dep    _    _  \n",
      "2    dep    _    _  \n",
      "3    dep    _    _  \n",
      "4    dep    _    _  \n",
      "5  nsubj    _    _  \n",
      "6  appos    _    _  \n",
      "7  punct    _    _  \n",
      "8  appos    _    _  \n",
      "äh äh INTJ ROOT\n",
      "hello hello X dep\n",
      "this this X dep\n",
      "is be X dep\n",
      "file file X dep\n",
      "Nummer Nummer NOUN nsubj\n",
      "F F PROPN appos\n",
      "äh äh INTJ punct\n",
      "16 @card@ PROPN appos\n",
      "\n",
      "   ID  FORM LEMMA  UPOS   XPOS FEATS  HEAD  DEPREL DEPS MISC\n",
      "0   1    ja    ja  INTJ  NGIRR     _     2  advmod    _    _\n",
      "1   2  okay  okay  INTJ  NGIRR     _     0    ROOT    _    _\n",
      "2   3    äh    äh  INTJ  NGHES     _     2     dep    _    _\n",
      "ja ja INTJ advmod\n",
      "okay okay INTJ ROOT\n",
      "äh äh INTJ dep\n",
      "\n",
      "   ID     FORM   LEMMA  UPOS   XPOS  \\\n",
      "0   1      ich     ich  PRON   PPER   \n",
      "1   2     habe   haben   AUX  VAFIN   \n",
      "2   3   gerade  gerade   ADV    ADV   \n",
      "3   4      ein     ein   DET    ART   \n",
      "4   5   Unfall  Unfall  NOUN     NN   \n",
      "5   6  gesehen   sehen  VERB   VVPP   \n",
      "\n",
      "                                               FEATS  HEAD  DEPREL DEPS MISC  \n",
      "0         Case=Nom|Number=Sing|Person=1|PronType=Prs     6   nsubj    _    _  \n",
      "1  Mood=Ind|Number=Sing|Person=1|Tense=Past|VerbF...     6     aux    _    _  \n",
      "2                                                  _     6  advmod    _    _  \n",
      "3  Case=Nom|Definite=Ind|Gender=Masc|Number=Sing|...     5     det    _    _  \n",
      "4                   Case=Acc|Gender=Masc|Number=Sing     6     obj    _    _  \n",
      "5                           Tense=Past|VerbForm=Part     0    ROOT    _    _  \n",
      "ich ich PRON nsubj\n",
      "habe haben AUX aux\n",
      "gerade gerade ADV advmod\n",
      "ein ein DET det\n",
      "Unfall Unfall NOUN obj\n",
      "gesehen sehen VERB ROOT\n",
      "\n",
      "   ID   FORM  LEMMA   UPOS   XPOS  \\\n",
      "0   1    und    und  CCONJ    KON   \n",
      "1   2     es     es   PRON   PPER   \n",
      "2   3    gab  geben   VERB  VVFIN   \n",
      "3   4   zwei   zwei    NUM   CARD   \n",
      "4   5  Autos   Auto   NOUN     NN   \n",
      "\n",
      "                                               FEATS  HEAD  DEPREL DEPS MISC  \n",
      "0                                                  _     3      cc    _    _  \n",
      "1  Case=Nom|Gender=Neut|Number=Sing|Person=3|Pron...     3   nsubj    _    _  \n",
      "2  Mood=Ind|Number=Sing|Person=3|Tense=Past|VerbF...     0    ROOT    _    _  \n",
      "3                                       NumType=Card     5  nummod    _    _  \n",
      "4                   Case=Acc|Gender=Neut|Number=Plur     3     obj    _    _  \n",
      "und und CCONJ cc\n",
      "es es PRON nsubj\n",
      "gab geben VERB ROOT\n",
      "zwei zwei NUM nummod\n",
      "Autos Auto NOUN obj\n",
      "\n",
      "    ID      FORM      LEMMA   UPOS    XPOS  \\\n",
      "0    1        äh         äh   INTJ   NGHES   \n",
      "1    2       und        und  CCONJ     KON   \n",
      "2    3       was        was   PRON     PWS   \n",
      "3    4  passiert  passieren   VERB    VVPP   \n",
      "4    5       ist       sein    AUX   VAFIN   \n",
      "5    6       ist       sein    AUX   VAFIN   \n",
      "6    7      dass       dass  CCONJ    KOUS   \n",
      "7    8       ein        ein    DET     ART   \n",
      "8    9      Mann       Mann   NOUN      NN   \n",
      "9   10       mit        mit    ADP    APPR   \n",
      "10  11    seinem       sein    DET  PPOSAT   \n",
      "11  12      Ball       Ball   NOUN      NN   \n",
      "12  13  gespielt    spielen   VERB    VVPP   \n",
      "13  14       hat      haben    AUX   VAFIN   \n",
      "\n",
      "                                                FEATS  HEAD    DEPREL DEPS  \\\n",
      "0                                          Degree=Pos     0      ROOT    _   \n",
      "1                                                   _     4        cc    _   \n",
      "2                               Case=Acc|PronType=Int     4     nsubj    _   \n",
      "3                            Tense=Past|VerbForm=Part     1      conj    _   \n",
      "4   Mood=Ind|Number=Sing|Person=3|Tense=Past|VerbF...     4  aux:pass    _   \n",
      "5   Mood=Ind|Number=Sing|Person=3|Tense=Pres|VerbF...     4       aux    _   \n",
      "6                                                   _    13        cc    _   \n",
      "7   Case=Nom|Definite=Ind|Gender=Masc|Number=Sing|...     9       det    _   \n",
      "8                    Case=Nom|Gender=Masc|Number=Sing    13     nsubj    _   \n",
      "9                                                   _    12      case    _   \n",
      "10  Case=Dat|Gender=Masc|Gender[psor]=Masc|Number=...    12       det    _   \n",
      "11                   Case=Dat|Gender=Masc|Number=Sing    13       obl    _   \n",
      "12                           Tense=Past|VerbForm=Part     4     ccomp    _   \n",
      "13  Mood=Ind|Number=Sing|Person=3|Tense=Past|VerbF...    13       aux    _   \n",
      "\n",
      "   MISC  \n",
      "0     _  \n",
      "1     _  \n",
      "2     _  \n",
      "3     _  \n",
      "4     _  \n",
      "5     _  \n",
      "6     _  \n",
      "7     _  \n",
      "8     _  \n",
      "9     _  \n",
      "10    _  \n",
      "11    _  \n",
      "12    _  \n",
      "13    _  \n",
      "äh äh INTJ ROOT\n",
      "und und CCONJ cc\n",
      "was was PRON nsubj\n",
      "passiert passieren VERB conj\n",
      "ist sein AUX aux:pass\n",
      "ist sein AUX aux\n",
      "dass dass CCONJ cc\n",
      "ein ein DET det\n",
      "Mann Mann NOUN nsubj\n",
      "mit mit ADP case\n",
      "seinem sein DET det\n",
      "Ball Ball NOUN obl\n",
      "gespielt spielen VERB ccomp\n",
      "hat haben AUX aux\n",
      "\n",
      "   ID    FORM LEMMA  UPOS    XPOS  \\\n",
      "0   1      er    er  PRON    PPER   \n",
      "1   2     war  sein   AUX   VAFIN   \n",
      "2   3     mit   mit   ADP    APPR   \n",
      "3   4  seiner  sein   DET  PPOSAT   \n",
      "4   5    Frau  Frau  NOUN      NN   \n",
      "\n",
      "                                               FEATS  HEAD    DEPREL DEPS MISC  \n",
      "0  Case=Nom|Gender=Masc|Number=Sing|Person=3|Pron...     5     nsubj    _    _  \n",
      "1  Mood=Ind|Number=Sing|Person=3|Tense=Past|VerbF...     5       cop    _    _  \n",
      "2                                                  _     5      case    _    _  \n",
      "3  Case=Dat|Gender=Fem|Gender[psor]=Masc|Number=S...     5  det:poss    _    _  \n",
      "4                    Case=Dat|Gender=Fem|Number=Sing     0      ROOT    _    _  \n",
      "er er PRON nsubj\n",
      "war sein AUX cop\n",
      "mit mit ADP case\n",
      "seiner sein DET det:poss\n",
      "Frau Frau NOUN ROOT\n",
      "\n",
      "   ID         FORM        LEMMA   UPOS     XPOS  \\\n",
      "0   1          und          und  CCONJ      KON   \n",
      "1   2          die            d   PRON      PDS   \n",
      "2   3        hatte        haben    AUX    VAFIN   \n",
      "3   4          ein          ein    DET      ART   \n",
      "4   5         Kind         Kind   NOUN       NN   \n",
      "5   6           im           in    ADP  APPRART   \n",
      "6   7  Kinderwagen  Kinderwagen   NOUN       NN   \n",
      "\n",
      "                                               FEATS  HEAD DEPREL DEPS MISC  \n",
      "0                                                  _     6     cc    _    _  \n",
      "1                   Case=Nom|Gender=Fem|PronType=Dem     6  nsubj    _    _  \n",
      "2  Mood=Ind|Number=Sing|Person=3|Tense=Past|VerbF...     6    aux    _    _  \n",
      "3  Case=Acc|Definite=Ind|Gender=Neut|Number=Sing|...     5    det    _    _  \n",
      "4                   Case=Acc|Gender=Neut|Number=Sing     6    obj    _    _  \n",
      "5                                           Case=Acc     7   conj    _    _  \n",
      "6                   Case=Acc|Gender=Masc|Number=Sing     0   ROOT    _    _  \n",
      "und und CCONJ cc\n",
      "die d PRON nsubj\n",
      "hatte haben AUX aux\n",
      "ein ein DET det\n",
      "Kind Kind NOUN obj\n",
      "im in ADP conj\n",
      "Kinderwagen Kinderwagen NOUN ROOT\n",
      "\n",
      "   ID         FORM      LEMMA   UPOS   XPOS  \\\n",
      "0   1          und        und  CCONJ    KON   \n",
      "1   2           äh         äh   INTJ  NGHES   \n",
      "2   3           er         er   PRON   PPER   \n",
      "3   4          hat      haben    AUX  VAFIN   \n",
      "4   5          den          d    DET    ART   \n",
      "5   6         Ball       Ball   NOUN     NN   \n",
      "6   7  losgelassen  loslassen   VERB   VVPP   \n",
      "\n",
      "                                               FEATS  HEAD DEPREL DEPS MISC  \n",
      "0                                                  _     2     cc    _    _  \n",
      "1                                                  _     0   ROOT    _    _  \n",
      "2  Case=Nom|Gender=Masc|Number=Sing|Person=3|Pron...     7  nsubj    _    _  \n",
      "3  Mood=Ind|Number=Sing|Person=3|Tense=Past|VerbF...     7    aux    _    _  \n",
      "4  Case=Acc|Definite=Def|Gender=Masc|Number=Sing|...     6    det    _    _  \n",
      "5                   Case=Acc|Gender=Masc|Number=Sing     7    obj    _    _  \n",
      "6                           Tense=Past|VerbForm=Part     2   conj    _    _  \n",
      "und und CCONJ cc\n",
      "äh äh INTJ ROOT\n",
      "er er PRON nsubj\n",
      "hat haben AUX aux\n",
      "den d DET det\n",
      "Ball Ball NOUN obj\n",
      "losgelassen loslassen VERB conj\n",
      "\n",
      "   ID     FORM   LEMMA   UPOS   XPOS  \\\n",
      "0   1      und     und  CCONJ    KON   \n",
      "1   2      der       d    DET    ART   \n",
      "2   3     Ball    Ball   NOUN     NN   \n",
      "3   4      ist    sein    AUX  VAFIN   \n",
      "4   5      auf     auf    ADP   APPR   \n",
      "5   6      der       d    DET    ART   \n",
      "6   7   Straße  Straße   NOUN     NN   \n",
      "7   8  gerollt  rollen   VERB   VVPP   \n",
      "\n",
      "                                               FEATS  HEAD      DEPREL DEPS  \\\n",
      "0                                                  _     8          cc    _   \n",
      "1  Case=Nom|Definite=Def|Gender=Masc|Number=Sing|...     3         det    _   \n",
      "2                   Case=Nom|Gender=Masc|Number=Sing     8  nsubj:pass    _   \n",
      "3  Mood=Ind|Number=Sing|Person=3|Tense=Past|VerbF...     8    aux:pass    _   \n",
      "4                                                  _     7        case    _   \n",
      "5  Case=Dat|Definite=Def|Gender=Masc|Number=Sing|...     7         det    _   \n",
      "6                    Case=Dat|Gender=Fem|Number=Sing     8         obl    _   \n",
      "7                                      VerbForm=Part     0        ROOT    _   \n",
      "\n",
      "  MISC  \n",
      "0    _  \n",
      "1    _  \n",
      "2    _  \n",
      "3    _  \n",
      "4    _  \n",
      "5    _  \n",
      "6    _  \n",
      "7    _  \n",
      "und und CCONJ cc\n",
      "der d DET det\n",
      "Ball Ball NOUN nsubj:pass\n",
      "ist sein AUX aux:pass\n",
      "auf auf ADP case\n",
      "der d DET det\n",
      "Straße Straße NOUN obl\n",
      "gerollt rollen VERB ROOT\n",
      "\n",
      "    ID     FORM    LEMMA   UPOS   XPOS  \\\n",
      "0    1     also     also  CCONJ   SEDM   \n",
      "1    2   wusste   wissen    AUX  VMFIN   \n",
      "2    3      das        d    DET    ART   \n",
      "3    4     Auto     Auto   NOUN     NN   \n",
      "4    5     also     also  CCONJ   KOUS   \n",
      "5    6      das        d    DET    ART   \n",
      "6    7    erste     erst    ADJ    ORD   \n",
      "7    8     Auto     Auto   NOUN     NN   \n",
      "8    9  schnell  schnell    ADJ   ADJD   \n",
      "9   10       äh       äh    ADJ   ADJD   \n",
      "10  11  bremsen  bremsen   VERB  VVINF   \n",
      "\n",
      "                                                FEATS  HEAD  DEPREL DEPS MISC  \n",
      "0                                                   _    10      cc    _    _  \n",
      "1   Mood=Ind|Number=Sing|Person=3|Tense=Past|VerbF...    10     aux    _    _  \n",
      "2   Case=Nom|Definite=Def|Gender=Neut|Number=Sing|...     4     det    _    _  \n",
      "3                    Case=Nom|Gender=Neut|Number=Sing    10   nsubj    _    _  \n",
      "4                                                   _    10      cc    _    _  \n",
      "5   Case=Nom|Definite=Def|Gender=Neut|Number=Sing|...     8     det    _    _  \n",
      "6         Case=Nom|Degree=Pos|NumType=Ord|Number=Sing     8    amod    _    _  \n",
      "7                    Case=Nom|Gender=Neut|Number=Sing    10   nsubj    _    _  \n",
      "8                                          Degree=Pos    10  advmod    _    _  \n",
      "9                                                   _    11  advmod    _    _  \n",
      "10                                      VerbForm=Part     0    ROOT    _    _  \n",
      "also also CCONJ cc\n",
      "wusste wissen AUX aux\n",
      "das d DET det\n",
      "Auto Auto NOUN nsubj\n",
      "also also CCONJ cc\n",
      "das d DET det\n",
      "erste erst ADJ amod\n",
      "Auto Auto NOUN nsubj\n",
      "schnell schnell ADJ advmod\n",
      "äh äh ADJ advmod\n",
      "bremsen bremsen VERB ROOT\n",
      "\n",
      "    ID          FORM       LEMMA   UPOS   XPOS  \\\n",
      "0    1           und         und  CCONJ    KON   \n",
      "1    2           das           d    DET    ART   \n",
      "2    3          Auto        Auto   NOUN     NN   \n",
      "3    4        hinter      hinter    ADP   APPR   \n",
      "4    5        dieses        dies    DET   PDAT   \n",
      "5    6         erste        erst    ADJ    ORD   \n",
      "6    7          Auto        Auto   NOUN     NN   \n",
      "7    8            äh          äh   INTJ  NGHES   \n",
      "8    9           ist        sein    AUX  VAFIN   \n",
      "9   10          also        also  CCONJ   KOUS   \n",
      "10  11            in          in    ADP   APPR   \n",
      "11  12        ersten        erst    ADJ    ORD   \n",
      "12  13          Auto        Auto   NOUN     NN   \n",
      "13  14        erstes        erst    ADJ    ORD   \n",
      "14  15          Auto        Auto   NOUN     NN   \n",
      "15  16  reingefahren  reinfahren   VERB   VVPP   \n",
      "\n",
      "                                                FEATS  HEAD  DEPREL DEPS MISC  \n",
      "0                                                   _    16      cc    _    _  \n",
      "1   Case=Nom|Definite=Def|Gender=Neut|Number=Sing|...     3     det    _    _  \n",
      "2                    Case=Nom|Gender=Neut|Number=Sing    16   nsubj    _    _  \n",
      "3                                                   _     7    case    _    _  \n",
      "4       Case=Nom|Gender=Neut|Number=Sing|PronType=Dem     7     det    _    _  \n",
      "5   Case=Dat|Degree=Pos|Gender=Neut|NumType=Ord|Nu...     7    amod    _    _  \n",
      "6                    Case=Dat|Gender=Neut|Number=Sing    16     obl    _    _  \n",
      "7                                                   _    16  advmod    _    _  \n",
      "8   Mood=Ind|Number=Sing|Person=3|Tense=Past|VerbF...    16     aux    _    _  \n",
      "9                                                   _    15     det    _    _  \n",
      "10                                                  _    13    case    _    _  \n",
      "11                    Case=Dat|Degree=Pos|NumType=Ord    13    amod    _    _  \n",
      "12                   Case=Acc|Gender=Neut|Number=Sing    14    nmod    _    _  \n",
      "13                    Case=Nom|Degree=Pos|NumType=Ord    15    amod    _    _  \n",
      "14                   Case=Acc|Gender=Neut|Number=Sing    16     obj    _    _  \n",
      "15                                      VerbForm=Part     0    ROOT    _    _  \n",
      "und und CCONJ cc\n",
      "das d DET det\n",
      "Auto Auto NOUN nsubj\n",
      "hinter hinter ADP case\n",
      "dieses dies DET det\n",
      "erste erst ADJ amod\n",
      "Auto Auto NOUN obl\n",
      "äh äh INTJ advmod\n",
      "ist sein AUX aux\n",
      "also also CCONJ det\n",
      "in in ADP case\n",
      "ersten erst ADJ amod\n",
      "Auto Auto NOUN nmod\n",
      "erstes erst ADJ amod\n",
      "Auto Auto NOUN obj\n",
      "reingefahren reinfahren VERB ROOT\n",
      "\n",
      "    ID        FORM       LEMMA   UPOS   XPOS  \\\n",
      "0    1         das           d    DET    ART   \n",
      "1    2       erste        erst    ADJ    ORD   \n",
      "2    3        Auto        Auto   NOUN     NN   \n",
      "3    4         war        sein    AUX  VAFIN   \n",
      "4    5        blau        blau    ADJ   ADJD   \n",
      "5    6         und         und  CCONJ    KON   \n",
      "6    7         das           d    DET    ART   \n",
      "7    8      hinter      hinter   NOUN     NN   \n",
      "8    9         war        sein    AUX  VAFIN   \n",
      "9   10    entweder    entweder  CCONJ    KON   \n",
      "10  11      silber      silber    ADJ   ADJD   \n",
      "11  12        oder        oder  CCONJ    KON   \n",
      "12  13  vielleicht  vielleicht    ADV    ADV   \n",
      "13  14        weiß        weiß    ADJ   ADJD   \n",
      "14  15        oder        oder  CCONJ    KON   \n",
      "15  16          so          so  CCONJ   SEDM   \n",
      "16  17  dazwischen  dazwischen    ADV    ADV   \n",
      "\n",
      "                                                FEATS  HEAD DEPREL DEPS MISC  \n",
      "0   Case=Nom|Definite=Def|Gender=Neut|Number=Sing|...     3    det    _    _  \n",
      "1   Case=Nom|Degree=Pos|Gender=Neut|NumType=Ord|Nu...     3   amod    _    _  \n",
      "2                    Case=Nom|Gender=Neut|Number=Sing     5  nsubj    _    _  \n",
      "3   Mood=Ind|Number=Sing|Person=3|Tense=Past|VerbF...     5    aux    _    _  \n",
      "4                              Degree=Pos|Number=Sing     0   ROOT    _    _  \n",
      "5                                                   _    11     cc    _    _  \n",
      "6   Case=Nom|Definite=Def|Gender=Neut|Number=Sing|...     8    det    _    _  \n",
      "7                    Case=Nom|Gender=Neut|Number=Sing    11  nsubj    _    _  \n",
      "8   Mood=Ind|Number=Sing|Person=3|Tense=Past|VerbF...    11    aux    _    _  \n",
      "9                                                   _    11     cc    _    _  \n",
      "10                             Degree=Pos|Number=Sing     5   conj    _    _  \n",
      "11                                                  _    13     cc    _    _  \n",
      "12                                                  _    11   conj    _    _  \n",
      "13                             Degree=Pos|Number=Sing    11   conj    _    _  \n",
      "14                                                  _    16     cc    _    _  \n",
      "15                                                  _    14   conj    _    _  \n",
      "16                                                  _    11   conj    _    _  \n",
      "das d DET det\n",
      "erste erst ADJ amod\n",
      "Auto Auto NOUN nsubj\n",
      "war sein AUX aux\n",
      "blau blau ADJ ROOT\n",
      "und und CCONJ cc\n",
      "das d DET det\n",
      "hinter hinter NOUN nsubj\n",
      "war sein AUX aux\n",
      "entweder entweder CCONJ cc\n",
      "silber silber ADJ conj\n",
      "oder oder CCONJ cc\n",
      "vielleicht vielleicht ADV conj\n",
      "weiß weiß ADJ conj\n",
      "oder oder CCONJ cc\n",
      "so so CCONJ conj\n",
      "dazwischen dazwischen ADV conj\n",
      "\n",
      "   ID     FORM    LEMMA   UPOS   XPOS  \\\n",
      "0   1       äh       äh   INTJ  NGHES   \n",
      "1   2      und      und  CCONJ    KON   \n",
      "2   3      der        d    DET    ART   \n",
      "3   4     Hund     Hund   NOUN     NN   \n",
      "4   5  gehörte  gehören   VERB  VVFIN   \n",
      "5   6       zu       zu    ADP   APPR   \n",
      "6   7    einer      ein    DET    ART   \n",
      "7   8     Frau     Frau   NOUN     NN   \n",
      "\n",
      "                                               FEATS  HEAD DEPREL DEPS MISC  \n",
      "0                                         Degree=Pos     0   ROOT    _    _  \n",
      "1                                                  _     5     cc    _    _  \n",
      "2  Case=Nom|Definite=Def|Gender=Masc|Number=Sing|...     4    det    _    _  \n",
      "3                   Case=Nom|Gender=Masc|Number=Sing     5  nsubj    _    _  \n",
      "4  Mood=Ind|Number=Sing|Person=3|Tense=Past|VerbF...     1   conj    _    _  \n",
      "5                                                  _     8   case    _    _  \n",
      "6  Case=Dat|Definite=Ind|Gender=Fem|Number=Sing|P...     8    det    _    _  \n",
      "7                    Case=Dat|Gender=Fem|Number=Sing     5    obl    _    _  \n",
      "äh äh INTJ ROOT\n",
      "und und CCONJ cc\n",
      "der d DET det\n",
      "Hund Hund NOUN nsubj\n",
      "gehörte gehören VERB conj\n",
      "zu zu ADP case\n",
      "einer ein DET det\n",
      "Frau Frau NOUN obl\n",
      "\n",
      "    ID       FORM      LEMMA   UPOS     XPOS  \\\n",
      "0    1        und        und  CCONJ      KON   \n",
      "1    2        die          d   PRON      PDS   \n",
      "2    3      hatte      haben    AUX    VAFIN   \n",
      "3    4        war       sein    AUX    VAFIN   \n",
      "4    5     gerade     gerade    ADV      ADV   \n",
      "5    6  einkaufen  einkaufen   VERB    VVINF   \n",
      "6    7        und        und  CCONJ      KON   \n",
      "7    8      dabei      dabei    ADV      ADV   \n",
      "8    9         im         in    ADP  APPRART   \n",
      "9   10       Auto       Auto   NOUN       NN   \n",
      "10  11         äh         äh   INTJ    NGHES   \n",
      "11  12        mit        mit    ADP     APPR   \n",
      "12  13       ihre        ihr    DET   PPOSAT   \n",
      "13  14   Einkäufe    Einkauf   NOUN       NN   \n",
      "\n",
      "                                                FEATS  HEAD    DEPREL DEPS  \\\n",
      "0                                                   _     6        cc    _   \n",
      "1   Case=Nom|Gender=Fem|Number=Sing|Person=3|PronT...     3       det    _   \n",
      "2   Mood=Ind|Number=Sing|Person=3|Tense=Past|VerbF...     6       aux    _   \n",
      "3   Mood=Ind|Number=Sing|Person=3|Tense=Past|VerbF...     6       aux    _   \n",
      "4                                                   _     6    advmod    _   \n",
      "5                             Tense=Past|VerbForm=Inf     0      ROOT    _   \n",
      "6                                                   _    11        cc    _   \n",
      "7                                                   _    11    advmod    _   \n",
      "8                                            Case=Dat    11      case    _   \n",
      "9                    Case=Dat|Gender=Neut|Number=Sing    11      nmod    _   \n",
      "10                                                  _     6      conj    _   \n",
      "11                                                  _    14      case    _   \n",
      "12  Case=Dat|Gender=Fem|Gender[psor]=Fem|Number=Si...    14  det:poss    _   \n",
      "13                    Case=Dat|Gender=Fem|Number=Plur    11       obl    _   \n",
      "\n",
      "   MISC  \n",
      "0     _  \n",
      "1     _  \n",
      "2     _  \n",
      "3     _  \n",
      "4     _  \n",
      "5     _  \n",
      "6     _  \n",
      "7     _  \n",
      "8     _  \n",
      "9     _  \n",
      "10    _  \n",
      "11    _  \n",
      "12    _  \n",
      "13    _  \n",
      "und und CCONJ cc\n",
      "die d PRON det\n",
      "hatte haben AUX aux\n",
      "war sein AUX aux\n",
      "gerade gerade ADV advmod\n",
      "einkaufen einkaufen VERB ROOT\n",
      "und und CCONJ cc\n",
      "dabei dabei ADV advmod\n",
      "im in ADP case\n",
      "Auto Auto NOUN nmod\n",
      "äh äh INTJ conj\n",
      "mit mit ADP case\n",
      "ihre ihr DET det:poss\n",
      "Einkäufe Einkauf NOUN obl\n",
      "\n",
      "   ID   FORM  LEMMA   UPOS   XPOS  \\\n",
      "0   1    und    und  CCONJ    KON   \n",
      "1   2     ja     ja   INTJ  NGIRR   \n",
      "2   3     es     es   PRON   PPER   \n",
      "3   4   geht  gehen   VERB  VVFIN   \n",
      "4   5     äh     äh   INTJ  NGHES   \n",
      "5   6  allen    all   PRON    PIS   \n",
      "6   7   okay   okay    ADJ   ADJD   \n",
      "\n",
      "                                               FEATS  HEAD  DEPREL DEPS MISC  \n",
      "0                                                  _     7      cc    _    _  \n",
      "1                                                  _     7  advmod    _    _  \n",
      "2  Case=Nom|Gender=Neut|Number=Sing|Person=3|Pron...     7   nsubj    _    _  \n",
      "3  Mood=Ind|Number=Sing|Person=3|Tense=Pres|VerbF...     7     cop    _    _  \n",
      "4                                                  _     7   punct    _    _  \n",
      "5                              Case=Dat|PronType=Tot     7    iobj    _    _  \n",
      "6                                                  _     0    ROOT    _    _  \n",
      "und und CCONJ cc\n",
      "ja ja INTJ advmod\n",
      "es es PRON nsubj\n",
      "geht gehen VERB cop\n",
      "äh äh INTJ punct\n",
      "allen all PRON iobj\n",
      "okay okay ADJ ROOT\n",
      "\n",
      "    ID          FORM         LEMMA   UPOS    XPOS  \\\n",
      "0    1       niemand       niemand   PRON     PIS   \n",
      "1    2            äh            äh   INTJ   NGHES   \n",
      "2    3           ich           ich   PRON    PPER   \n",
      "3    4        konnte        können    AUX   VMFIN   \n",
      "4    5         nicht         nicht   INTJ  PTKNEG   \n",
      "5    6         sehen         sehen   VERB   VVINF   \n",
      "6    7          dass          dass  CCONJ    KOUS   \n",
      "7    8  irgendjemand  irgendjemand   PRON     PIS   \n",
      "8    9          sich     er|es|sie   PRON     PRF   \n",
      "9   10      verletzt     verletzen   VERB    VVPP   \n",
      "10  11           hat         haben    AUX   VAFIN   \n",
      "\n",
      "                                                FEATS  HEAD  DEPREL DEPS MISC  \n",
      "0                               Case=Nom|PronType=Neg     6     dep    _    _  \n",
      "1                                                   _     6   punct    _    _  \n",
      "2   Case=Nom|Gender=Fem|Number=Sing|Person=1|PronT...     6   nsubj    _    _  \n",
      "3   Mood=Ind|Number=Sing|Person=1|Tense=Past|VerbF...     6     aux    _    _  \n",
      "4                                                   _     6  advmod    _    _  \n",
      "5                             Tense=Past|VerbForm=Inf     0    ROOT    _    _  \n",
      "6                                                   _    10      cc    _    _  \n",
      "7                   Case=Nom|Number=Sing|PronType=Ind    10    iobj    _    _  \n",
      "8                               Person=3|PronType=Prs    10     obj    _    _  \n",
      "9                            Tense=Past|VerbForm=Part     6     acl    _    _  \n",
      "10  Mood=Ind|Number=Sing|Person=3|Tense=Past|VerbF...    10     aux    _    _  \n",
      "niemand niemand PRON dep\n",
      "äh äh INTJ punct\n",
      "ich ich PRON nsubj\n",
      "konnte können AUX aux\n",
      "nicht nicht INTJ advmod\n",
      "sehen sehen VERB ROOT\n",
      "dass dass CCONJ cc\n",
      "irgendjemand irgendjemand PRON iobj\n",
      "sich er|es|sie PRON obj\n",
      "verletzt verletzen VERB acl\n",
      "hat haben AUX aux\n",
      "\n",
      "   ID       FORM    LEMMA   UPOS   XPOS  \\\n",
      "0   1        und      und  CCONJ    KON   \n",
      "1   2        die        d   PRON    PDS   \n",
      "2   3      haben    haben    AUX  VAFIN   \n",
      "3   4        die        d    DET    ART   \n",
      "4   5    Polizei  Polizei   NOUN     NN   \n",
      "5   6         äh       äh   INTJ  NGHES   \n",
      "6   7  angerufen  anrufen   VERB   VVPP   \n",
      "\n",
      "                                               FEATS  HEAD DEPREL DEPS MISC  \n",
      "0                                                  _     6     cc    _    _  \n",
      "1         Case=Nom|Number=Plur|Person=3|PronType=Dem     6  nsubj    _    _  \n",
      "2  Mood=Ind|Number=Plur|Person=3|Tense=Past|VerbF...     6    aux    _    _  \n",
      "3  Case=Acc|Definite=Def|Gender=Fem|Number=Sing|P...     5    det    _    _  \n",
      "4                    Case=Acc|Gender=Fem|Number=Sing     6    obj    _    _  \n",
      "5                                                  _     7   conj    _    _  \n",
      "6                            Tense=Past|VerbForm=Inf     0   ROOT    _    _  \n",
      "und und CCONJ cc\n",
      "die d PRON nsubj\n",
      "haben haben AUX aux\n",
      "die d DET det\n",
      "Polizei Polizei NOUN obj\n",
      "äh äh INTJ conj\n",
      "angerufen anrufen VERB ROOT\n",
      "\n"
     ]
    }
   ],
   "source": [
    "conndbidemo = conndbidemo[:(len(conndbidemo)-1)]\n",
    "dnlp = init_parser(\"de_core_news_sm\", \"spacy\", include_headers=False)\n",
    "dparser = ConllParser(dnlp)\n",
    "conndbidemo2 = dparser.parse_conll_text_as_spacy(conndbidemo)\n",
    "for sent_id, sent in enumerate(conndbidemo2.sents, 1):\n",
    "        print(sent._.conll_pd)\n",
    "        for word in sent:\n",
    "            print(word, word.lemma_, word.pos_, word.dep_)\n",
    "        print()"
   ]
  },
  {
   "cell_type": "code",
   "execution_count": 497,
   "id": "5187ce2a",
   "metadata": {},
   "outputs": [
    {
     "data": {
      "text/plain": [
       "'1\\täh\\täh\\tINTJ\\tNGHES\\t_\\t0\\tROOT\\t_\\t_\\n2\\thello\\thello\\tX\\tFM\\t_\\t3\\tdep\\t_\\t_\\n3\\tthis\\tthis\\tX\\tFM\\tPronType=Dem\\t4\\tdep\\t_\\t_\\n4\\tis\\tbe\\tX\\tFM\\tMood=Ind|Person=3|Tense=Pres\\t1\\tdep\\t_\\t_\\n5\\tfile\\tfile\\tX\\tFM\\tNumber=Sing\\t4\\tdep\\t_\\t_\\n6\\tNummer\\tNummer\\tNOUN\\tNN\\tCase=Nom|Gender=Fem|Number=Sing\\t8\\tnsubj\\t_\\t_\\n7\\tF\\tF\\tPROPN\\tNE\\t_\\t6\\tappos\\t_\\t_\\n8\\täh\\täh\\tINTJ\\tNGHES\\t_\\t9\\tpunct\\t_\\t_\\n9\\t16\\t@card@\\tPROPN\\tNE\\tNumType=Card\\t5\\tappos\\t_\\t_\\n\\n1\\tja\\tja\\tINTJ\\tNGIRR\\t_\\t2\\tadvmod\\t_\\t_\\n2\\tokay\\tokay\\tINTJ\\tNGIRR\\t_\\t0\\tROOT\\t_\\t_\\n3\\täh\\täh\\tINTJ\\tNGHES\\t_\\t2\\tdep\\t_\\t_\\n\\n1\\tich\\tich\\tPRON\\tPPER\\tCase=Nom|Number=Sing|Person=1|PronType=Prs\\t6\\tnsubj\\t_\\t_\\n2\\thabe\\thaben\\tAUX\\tVAFIN\\tMood=Ind|Number=Sing|Person=1|Tense=Past|VerbForm=Fin\\t6\\taux\\t_\\t_\\n3\\tgerade\\tgerade\\tADV\\tADV\\t_\\t6\\tadvmod\\t_\\t_\\n4\\tein\\tein\\tDET\\tART\\tCase=Nom|Definite=Ind|Gender=Masc|Number=Sing|PronType=Art\\t5\\tdet\\t_\\t_\\n5\\tUnfall\\tUnfall\\tNOUN\\tNN\\tCase=Acc|Gender=Masc|Number=Sing\\t6\\tobj\\t_\\t_\\n6\\tgesehen\\tsehen\\tVERB\\tVVPP\\tTense=Past|VerbForm=Part\\t0\\tROOT\\t_\\t_\\n\\n1\\tund\\tund\\tCCONJ\\tKON\\t_\\t3\\tcc\\t_\\t_\\n2\\tes\\tes\\tPRON\\tPPER\\tCase=Nom|Gender=Neut|Number=Sing|Person=3|PronType=Prs\\t3\\tnsubj\\t_\\t_\\n3\\tgab\\tgeben\\tVERB\\tVVFIN\\tMood=Ind|Number=Sing|Person=3|Tense=Past|VerbForm=Fin\\t0\\tROOT\\t_\\t_\\n4\\tzwei\\tzwei\\tNUM\\tCARD\\tNumType=Card\\t5\\tnummod\\t_\\t_\\n5\\tAutos\\tAuto\\tNOUN\\tNN\\tCase=Acc|Gender=Neut|Number=Plur\\t3\\tobj\\t_\\t_\\n\\n1\\täh\\täh\\tINTJ\\tNGHES\\tDegree=Pos\\t0\\tROOT\\t_\\t_\\n2\\tund\\tund\\tCCONJ\\tKON\\t_\\t4\\tcc\\t_\\t_\\n3\\twas\\twas\\tPRON\\tPWS\\tCase=Acc|PronType=Int\\t4\\tnsubj\\t_\\t_\\n4\\tpassiert\\tpassieren\\tVERB\\tVVPP\\tTense=Past|VerbForm=Part\\t1\\tconj\\t_\\t_\\n5\\tist\\tsein\\tAUX\\tVAFIN\\tMood=Ind|Number=Sing|Person=3|Tense=Past|VerbForm=Fin\\t4\\taux:pass\\t_\\t_\\n6\\tist\\tsein\\tAUX\\tVAFIN\\tMood=Ind|Number=Sing|Person=3|Tense=Pres|VerbForm=Fin\\t4\\taux\\t_\\t_\\n7\\tdass\\tdass\\tCCONJ\\tKOUS\\t_\\t13\\tcc\\t_\\t_\\n8\\tein\\tein\\tDET\\tART\\tCase=Nom|Definite=Ind|Gender=Masc|Number=Sing|PronType=Art\\t9\\tdet\\t_\\t_\\n9\\tMann\\tMann\\tNOUN\\tNN\\tCase=Nom|Gender=Masc|Number=Sing\\t13\\tnsubj\\t_\\t_\\n10\\tmit\\tmit\\tADP\\tAPPR\\t_\\t12\\tcase\\t_\\t_\\n11\\tseinem\\tsein\\tDET\\tPPOSAT\\tCase=Dat|Gender=Masc|Gender[psor]=Masc|Number=Sing|Person=3|Poss=Yes|PronType=Prs\\t12\\tdet\\t_\\t_\\n12\\tBall\\tBall\\tNOUN\\tNN\\tCase=Dat|Gender=Masc|Number=Sing\\t13\\tobl\\t_\\t_\\n13\\tgespielt\\tspielen\\tVERB\\tVVPP\\tTense=Past|VerbForm=Part\\t4\\tccomp\\t_\\t_\\n14\\that\\thaben\\tAUX\\tVAFIN\\tMood=Ind|Number=Sing|Person=3|Tense=Past|VerbForm=Fin\\t13\\taux\\t_\\t_\\n\\n1\\ter\\ter\\tPRON\\tPPER\\tCase=Nom|Gender=Masc|Number=Sing|Person=3|PronType=Prs\\t5\\tnsubj\\t_\\t_\\n2\\twar\\tsein\\tAUX\\tVAFIN\\tMood=Ind|Number=Sing|Person=3|Tense=Past|VerbForm=Fin\\t5\\tcop\\t_\\t_\\n3\\tmit\\tmit\\tADP\\tAPPR\\t_\\t5\\tcase\\t_\\t_\\n4\\tseiner\\tsein\\tDET\\tPPOSAT\\tCase=Dat|Gender=Fem|Gender[psor]=Masc|Number=Sing|Person=3|Poss=Yes|PronType=Prs\\t5\\tdet:poss\\t_\\t_\\n5\\tFrau\\tFrau\\tNOUN\\tNN\\tCase=Dat|Gender=Fem|Number=Sing\\t0\\tROOT\\t_\\t_\\n\\n1\\tund\\tund\\tCCONJ\\tKON\\t_\\t6\\tcc\\t_\\t_\\n2\\tdie\\td\\tPRON\\tPDS\\tCase=Nom|Gender=Fem|PronType=Dem\\t6\\tnsubj\\t_\\t_\\n3\\thatte\\thaben\\tAUX\\tVAFIN\\tMood=Ind|Number=Sing|Person=3|Tense=Past|VerbForm=Fin\\t6\\taux\\t_\\t_\\n4\\tein\\tein\\tDET\\tART\\tCase=Acc|Definite=Ind|Gender=Neut|Number=Sing|PronType=Art\\t5\\tdet\\t_\\t_\\n5\\tKind\\tKind\\tNOUN\\tNN\\tCase=Acc|Gender=Neut|Number=Sing\\t6\\tobj\\t_\\t_\\n6\\tim\\tin\\tADP\\tAPPRART\\tCase=Acc\\t7\\tconj\\t_\\t_\\n7\\tKinderwagen\\tKinderwagen\\tNOUN\\tNN\\tCase=Acc|Gender=Masc|Number=Sing\\t0\\tROOT\\t_\\t_\\n\\n1\\tund\\tund\\tCCONJ\\tKON\\t_\\t2\\tcc\\t_\\t_\\n2\\täh\\täh\\tINTJ\\tNGHES\\t_\\t0\\tROOT\\t_\\t_\\n3\\ter\\ter\\tPRON\\tPPER\\tCase=Nom|Gender=Masc|Number=Sing|Person=3|PronType=Prs\\t7\\tnsubj\\t_\\t_\\n4\\that\\thaben\\tAUX\\tVAFIN\\tMood=Ind|Number=Sing|Person=3|Tense=Past|VerbForm=Fin\\t7\\taux\\t_\\t_\\n5\\tden\\td\\tDET\\tART\\tCase=Acc|Definite=Def|Gender=Masc|Number=Sing|PronType=Art\\t6\\tdet\\t_\\t_\\n6\\tBall\\tBall\\tNOUN\\tNN\\tCase=Acc|Gender=Masc|Number=Sing\\t7\\tobj\\t_\\t_\\n7\\tlosgelassen\\tloslassen\\tVERB\\tVVPP\\tTense=Past|VerbForm=Part\\t2\\tconj\\t_\\t_\\n\\n1\\tund\\tund\\tCCONJ\\tKON\\t_\\t8\\tcc\\t_\\t_\\n2\\tder\\td\\tDET\\tART\\tCase=Nom|Definite=Def|Gender=Masc|Number=Sing|PronType=Art\\t3\\tdet\\t_\\t_\\n3\\tBall\\tBall\\tNOUN\\tNN\\tCase=Nom|Gender=Masc|Number=Sing\\t8\\tnsubj:pass\\t_\\t_\\n4\\tist\\tsein\\tAUX\\tVAFIN\\tMood=Ind|Number=Sing|Person=3|Tense=Past|VerbForm=Fin\\t8\\taux:pass\\t_\\t_\\n5\\tauf\\tauf\\tADP\\tAPPR\\t_\\t7\\tcase\\t_\\t_\\n6\\tder\\td\\tDET\\tART\\tCase=Dat|Definite=Def|Gender=Masc|Number=Sing|PronType=Art\\t7\\tdet\\t_\\t_\\n7\\tStraße\\tStraße\\tNOUN\\tNN\\tCase=Dat|Gender=Fem|Number=Sing\\t8\\tobl\\t_\\t_\\n8\\tgerollt\\trollen\\tVERB\\tVVPP\\tVerbForm=Part\\t0\\tROOT\\t_\\t_\\n\\n1\\talso\\talso\\tCCONJ\\tSEDM\\t_\\t10\\tcc\\t_\\t_\\n2\\twusste\\twissen\\tAUX\\tVMFIN\\tMood=Ind|Number=Sing|Person=3|Tense=Past|VerbForm=Fin\\t10\\taux\\t_\\t_\\n3\\tdas\\td\\tDET\\tART\\tCase=Nom|Definite=Def|Gender=Neut|Number=Sing|PronType=Art\\t4\\tdet\\t_\\t_\\n4\\tAuto\\tAuto\\tNOUN\\tNN\\tCase=Nom|Gender=Neut|Number=Sing\\t10\\tnsubj\\t_\\t_\\n5\\talso\\talso\\tCCONJ\\tKOUS\\t_\\t10\\tcc\\t_\\t_\\n6\\tdas\\td\\tDET\\tART\\tCase=Nom|Definite=Def|Gender=Neut|Number=Sing|PronType=Art\\t8\\tdet\\t_\\t_\\n7\\terste\\terst\\tADJ\\tORD\\tCase=Nom|Degree=Pos|NumType=Ord|Number=Sing\\t8\\tamod\\t_\\t_\\n8\\tAuto\\tAuto\\tNOUN\\tNN\\tCase=Nom|Gender=Neut|Number=Sing\\t10\\tnsubj\\t_\\t_\\n9\\tschnell\\tschnell\\tADJ\\tADJD\\tDegree=Pos\\t10\\tadvmod\\t_\\t_\\n10\\täh\\täh\\tADJ\\tADJD\\t_\\t11\\tadvmod\\t_\\t_\\n11\\tbremsen\\tbremsen\\tVERB\\tVVINF\\tVerbForm=Part\\t0\\tROOT\\t_\\t_\\n\\n1\\tund\\tund\\tCCONJ\\tKON\\t_\\t16\\tcc\\t_\\t_\\n2\\tdas\\td\\tDET\\tART\\tCase=Nom|Definite=Def|Gender=Neut|Number=Sing|PronType=Art\\t3\\tdet\\t_\\t_\\n3\\tAuto\\tAuto\\tNOUN\\tNN\\tCase=Nom|Gender=Neut|Number=Sing\\t16\\tnsubj\\t_\\t_\\n4\\thinter\\thinter\\tADP\\tAPPR\\t_\\t7\\tcase\\t_\\t_\\n5\\tdieses\\tdies\\tDET\\tPDAT\\tCase=Nom|Gender=Neut|Number=Sing|PronType=Dem\\t7\\tdet\\t_\\t_\\n6\\terste\\terst\\tADJ\\tORD\\tCase=Dat|Degree=Pos|Gender=Neut|NumType=Ord|Number=Sing\\t7\\tamod\\t_\\t_\\n7\\tAuto\\tAuto\\tNOUN\\tNN\\tCase=Dat|Gender=Neut|Number=Sing\\t16\\tobl\\t_\\t_\\n8\\täh\\täh\\tINTJ\\tNGHES\\t_\\t16\\tadvmod\\t_\\t_\\n9\\tist\\tsein\\tAUX\\tVAFIN\\tMood=Ind|Number=Sing|Person=3|Tense=Past|VerbForm=Fin\\t16\\taux\\t_\\t_\\n10\\talso\\talso\\tCCONJ\\tKOUS\\t_\\t15\\tdet\\t_\\t_\\n11\\tin\\tin\\tADP\\tAPPR\\t_\\t13\\tcase\\t_\\t_\\n12\\tersten\\terst\\tADJ\\tORD\\tCase=Dat|Degree=Pos|NumType=Ord\\t13\\tamod\\t_\\t_\\n13\\tAuto\\tAuto\\tNOUN\\tNN\\tCase=Acc|Gender=Neut|Number=Sing\\t14\\tnmod\\t_\\t_\\n14\\terstes\\terst\\tADJ\\tORD\\tCase=Nom|Degree=Pos|NumType=Ord\\t15\\tamod\\t_\\t_\\n15\\tAuto\\tAuto\\tNOUN\\tNN\\tCase=Acc|Gender=Neut|Number=Sing\\t16\\tobj\\t_\\t_\\n16\\treingefahren\\treinfahren\\tVERB\\tVVPP\\tVerbForm=Part\\t0\\tROOT\\t_\\t_\\n\\n1\\tdas\\td\\tDET\\tART\\tCase=Nom|Definite=Def|Gender=Neut|Number=Sing|PronType=Art\\t3\\tdet\\t_\\t_\\n2\\terste\\terst\\tADJ\\tORD\\tCase=Nom|Degree=Pos|Gender=Neut|NumType=Ord|Number=Sing\\t3\\tamod\\t_\\t_\\n3\\tAuto\\tAuto\\tNOUN\\tNN\\tCase=Nom|Gender=Neut|Number=Sing\\t5\\tnsubj\\t_\\t_\\n4\\twar\\tsein\\tAUX\\tVAFIN\\tMood=Ind|Number=Sing|Person=3|Tense=Past|VerbForm=Fin\\t5\\taux\\t_\\t_\\n5\\tblau\\tblau\\tADJ\\tADJD\\tDegree=Pos|Number=Sing\\t0\\tROOT\\t_\\t_\\n6\\tund\\tund\\tCCONJ\\tKON\\t_\\t11\\tcc\\t_\\t_\\n7\\tdas\\td\\tDET\\tART\\tCase=Nom|Definite=Def|Gender=Neut|Number=Sing|PronType=Art\\t8\\tdet\\t_\\t_\\n8\\thinter\\thinter\\tNOUN\\tNN\\tCase=Nom|Gender=Neut|Number=Sing\\t11\\tnsubj\\t_\\t_\\n9\\twar\\tsein\\tAUX\\tVAFIN\\tMood=Ind|Number=Sing|Person=3|Tense=Past|VerbForm=Fin\\t11\\taux\\t_\\t_\\n10\\tentweder\\tentweder\\tCCONJ\\tKON\\t_\\t11\\tcc\\t_\\t_\\n11\\tsilber\\tsilber\\tADJ\\tADJD\\tDegree=Pos|Number=Sing\\t5\\tconj\\t_\\t_\\n12\\toder\\toder\\tCCONJ\\tKON\\t_\\t13\\tcc\\t_\\t_\\n13\\tvielleicht\\tvielleicht\\tADV\\tADV\\t_\\t11\\tconj\\t_\\t_\\n14\\tweiß\\tweiß\\tADJ\\tADJD\\tDegree=Pos|Number=Sing\\t11\\tconj\\t_\\t_\\n15\\toder\\toder\\tCCONJ\\tKON\\t_\\t16\\tcc\\t_\\t_\\n16\\tso\\tso\\tCCONJ\\tSEDM\\t_\\t14\\tconj\\t_\\t_\\n17\\tdazwischen\\tdazwischen\\tADV\\tADV\\t_\\t11\\tconj\\t_\\t_\\n\\n1\\täh\\täh\\tINTJ\\tNGHES\\tDegree=Pos\\t0\\tROOT\\t_\\t_\\n2\\tund\\tund\\tCCONJ\\tKON\\t_\\t5\\tcc\\t_\\t_\\n3\\tder\\td\\tDET\\tART\\tCase=Nom|Definite=Def|Gender=Masc|Number=Sing|PronType=Art\\t4\\tdet\\t_\\t_\\n4\\tHund\\tHund\\tNOUN\\tNN\\tCase=Nom|Gender=Masc|Number=Sing\\t5\\tnsubj\\t_\\t_\\n5\\tgehörte\\tgehören\\tVERB\\tVVFIN\\tMood=Ind|Number=Sing|Person=3|Tense=Past|VerbForm=Fin\\t1\\tconj\\t_\\t_\\n6\\tzu\\tzu\\tADP\\tAPPR\\t_\\t8\\tcase\\t_\\t_\\n7\\teiner\\tein\\tDET\\tART\\tCase=Dat|Definite=Ind|Gender=Fem|Number=Sing|PronType=Art\\t8\\tdet\\t_\\t_\\n8\\tFrau\\tFrau\\tNOUN\\tNN\\tCase=Dat|Gender=Fem|Number=Sing\\t5\\tobl\\t_\\t_\\n\\n1\\tund\\tund\\tCCONJ\\tKON\\t_\\t6\\tcc\\t_\\t_\\n2\\tdie\\td\\tPRON\\tPDS\\tCase=Nom|Gender=Fem|Number=Sing|Person=3|PronType=Dem\\t3\\tdet\\t_\\t_\\n3\\thatte\\thaben\\tAUX\\tVAFIN\\tMood=Ind|Number=Sing|Person=3|Tense=Past|VerbForm=Fin\\t6\\taux\\t_\\t_\\n4\\twar\\tsein\\tAUX\\tVAFIN\\tMood=Ind|Number=Sing|Person=3|Tense=Past|VerbForm=Fin\\t6\\taux\\t_\\t_\\n5\\tgerade\\tgerade\\tADV\\tADV\\t_\\t6\\tadvmod\\t_\\t_\\n6\\teinkaufen\\teinkaufen\\tVERB\\tVVINF\\tTense=Past|VerbForm=Inf\\t0\\tROOT\\t_\\t_\\n7\\tund\\tund\\tCCONJ\\tKON\\t_\\t11\\tcc\\t_\\t_\\n8\\tdabei\\tdabei\\tADV\\tADV\\t_\\t11\\tadvmod\\t_\\t_\\n9\\tim\\tin\\tADP\\tAPPRART\\tCase=Dat\\t11\\tcase\\t_\\t_\\n10\\tAuto\\tAuto\\tNOUN\\tNN\\tCase=Dat|Gender=Neut|Number=Sing\\t11\\tnmod\\t_\\t_\\n11\\täh\\täh\\tINTJ\\tNGHES\\t_\\t6\\tconj\\t_\\t_\\n12\\tmit\\tmit\\tADP\\tAPPR\\t_\\t14\\tcase\\t_\\t_\\n13\\tihre\\tihr\\tDET\\tPPOSAT\\tCase=Dat|Gender=Fem|Gender[psor]=Fem|Number=Sing|Person=3|Poss=Yes|PronType=Prs\\t14\\tdet:poss\\t_\\t_\\n14\\tEinkäufe\\tEinkauf\\tNOUN\\tNN\\tCase=Dat|Gender=Fem|Number=Plur\\t11\\tobl\\t_\\t_\\n\\n1\\tund\\tund\\tCCONJ\\tKON\\t_\\t7\\tcc\\t_\\t_\\n2\\tja\\tja\\tINTJ\\tNGIRR\\t_\\t7\\tadvmod\\t_\\t_\\n3\\tes\\tes\\tPRON\\tPPER\\tCase=Nom|Gender=Neut|Number=Sing|Person=3|PronType=Prs\\t7\\tnsubj\\t_\\t_\\n4\\tgeht\\tgehen\\tVERB\\tVVFIN\\tMood=Ind|Number=Sing|Person=3|Tense=Pres|VerbForm=Fin\\t7\\tcop\\t_\\t_\\n5\\täh\\täh\\tINTJ\\tNGHES\\t_\\t7\\tpunct\\t_\\t_\\n6\\tallen\\tall\\tPRON\\tPIS\\tCase=Dat|PronType=Tot\\t7\\tiobj\\t_\\t_\\n7\\tokay\\tokay\\tADJ\\tADJD\\t_\\t0\\tROOT\\t_\\t_\\n\\n1\\tniemand\\tniemand\\tPRON\\tPIS\\tCase=Nom|PronType=Neg\\t6\\tdep\\t_\\t_\\n2\\täh\\täh\\tINTJ\\tNGHES\\t_\\t6\\tpunct\\t_\\t_\\n3\\tich\\tich\\tPRON\\tPPER\\tCase=Nom|Gender=Fem|Number=Sing|Person=1|PronType=Prs\\t6\\tnsubj\\t_\\t_\\n4\\tkonnte\\tkönnen\\tAUX\\tVMFIN\\tMood=Ind|Number=Sing|Person=1|Tense=Past|VerbForm=Fin\\t6\\taux\\t_\\t_\\n5\\tnicht\\tnicht\\tINTJ\\tPTKNEG\\t_\\t6\\tadvmod\\t_\\t_\\n6\\tsehen\\tsehen\\tVERB\\tVVINF\\tTense=Past|VerbForm=Inf\\t0\\tROOT\\t_\\t_\\n7\\tdass\\tdass\\tCCONJ\\tKOUS\\t_\\t10\\tcc\\t_\\t_\\n8\\tirgendjemand\\tirgendjemand\\tPRON\\tPIS\\tCase=Nom|Number=Sing|PronType=Ind\\t10\\tiobj\\t_\\t_\\n9\\tsich\\ter|es|sie\\tPRON\\tPRF\\tPerson=3|PronType=Prs\\t10\\tobj\\t_\\t_\\n10\\tverletzt\\tverletzen\\tVERB\\tVVPP\\tTense=Past|VerbForm=Part\\t6\\tacl\\t_\\t_\\n11\\that\\thaben\\tAUX\\tVAFIN\\tMood=Ind|Number=Sing|Person=3|Tense=Past|VerbForm=Fin\\t10\\taux\\t_\\t_\\n\\n1\\tund\\tund\\tCCONJ\\tKON\\t_\\t6\\tcc\\t_\\t_\\n2\\tdie\\td\\tPRON\\tPDS\\tCase=Nom|Number=Plur|Person=3|PronType=Dem\\t6\\tnsubj\\t_\\t_\\n3\\thaben\\thaben\\tAUX\\tVAFIN\\tMood=Ind|Number=Plur|Person=3|Tense=Past|VerbForm=Fin\\t6\\taux\\t_\\t_\\n4\\tdie\\td\\tDET\\tART\\tCase=Acc|Definite=Def|Gender=Fem|Number=Sing|PronType=Art\\t5\\tdet\\t_\\t_\\n5\\tPolizei\\tPolizei\\tNOUN\\tNN\\tCase=Acc|Gender=Fem|Number=Sing\\t6\\tobj\\t_\\t_\\n6\\täh\\täh\\tINTJ\\tNGHES\\t_\\t7\\tconj\\t_\\t_\\n7\\tangerufen\\tanrufen\\tVERB\\tVVPP\\tTense=Past|VerbForm=Inf\\t0\\tROOT\\t_\\t_\\n'"
      ]
     },
     "execution_count": 497,
     "metadata": {},
     "output_type": "execute_result"
    }
   ],
   "source": [
    "conndbidemo2._.conll_str"
   ]
  },
  {
   "cell_type": "markdown",
   "id": "aaf574db",
   "metadata": {},
   "source": [
    "### Pause\n",
    "Firstly, I want to thank Na-Rae for helping with the spacy_conll things. The spacy_conll library is a little tempermental and rages against an extra newline character at the end of a text. What is not pictured is the hours I and Na-Rae spent trying to figure out what wasn't working until she figured it out. \n",
    "\n",
    "Secondly, I know that my first bit of parsing by hand is redundant and will not be used, but it gave some useful information about the documents regardless, because there are some irregular documents in here that I'm sure spacy_conll will throw a fit about. \n",
    "\n",
    "All this being said, it's finally time to work on spacy-parsing all the texts."
   ]
  },
  {
   "cell_type": "markdown",
   "id": "4f3bc809",
   "metadata": {},
   "source": [
    "## Attempted Spacy Parsing ConLL"
   ]
  },
  {
   "cell_type": "code",
   "execution_count": 498,
   "id": "77ba010f",
   "metadata": {},
   "outputs": [],
   "source": [
    "## English Spacy Parser \n",
    "nlp = init_parser(\"en_core_web_sm\", \"spacy\", include_headers=False)\n",
    "parser = ConllParser(nlp)\n",
    "def parseEnTexts(constr, conlist):\n",
    "    while constr[-2:] == '\\n\\n':      # this should also cover cases where the end could be \\n\\n\\n\n",
    "        constr = constr[:(len(constr)-1)]\n",
    "    constr2 = parser.parse_conll_text_as_spacy(constr)\n",
    "    for sent_id, sent in enumerate(constr2.sents, 1):\n",
    "        conlist.append(sent._.conll_str)"
   ]
  },
  {
   "cell_type": "code",
   "execution_count": 499,
   "id": "7cb4fe4f",
   "metadata": {},
   "outputs": [],
   "source": [
    "## German Spacy Parser\n",
    "dnlp = init_parser(\"de_core_news_sm\", \"spacy\", include_headers=False)\n",
    "dparser = ConllParser(dnlp)\n",
    "def parseDeTexts(constr, conlist):\n",
    "    while constr[-2:] == '\\n\\n':\n",
    "        constr = constr[:(len(constr)-1)]\n",
    "    constr2 = dparser.parse_conll_text_as_spacy(constr)\n",
    "    for sent_id, sent in enumerate(constr2.sents, 1):\n",
    "        conlist.append(sent._.conll_str)"
   ]
  },
  {
   "cell_type": "code",
   "execution_count": 500,
   "id": "725f8674",
   "metadata": {},
   "outputs": [
    {
     "data": {
      "text/plain": [
       "[('USbi01FG_iwE', '1\\they\\tHey\\tINTJ\\tITJ\\t_\\t2\\tdiscourse\\t_\\t_\\n2\\tEleni\\tEleni\\tNOUN\\tNP0\\t_\\t0\\troot\\t_\\t_\\n3\\t,\\t,\\tPUNCT\\tPUN\\t_\\t2\\tpunct\\t_\\t_\\n\\n1\\tlet\\tlet\\tVERB\\tVVB\\tMood=Imp|Number=Plur|Person=2|Tense=Pres|VerbForm=Fin\\t0\\troot\\t_\\t_\\n2\\tme\\ti\\tPROPN\\tPNP\\tNumber=Sing|Person=1|PronType=Prs\\t1\\tobj\\t_\\t_\\n3\\ttell\\ttell\\tVERB\\tVVI\\tMood=Ind|Number=Sing|Person=1|Tense=Pres|VerbForm=Fin\\t1\\txcomp\\t_\\t_\\n4\\tyou\\tyou\\tPROPN\\tPNP\\tPerson=2|PronType=Prs\\t6\\tnsubj\\t_\\t_\\n5\\twhat\\twhat\\tDET\\tDTQ\\tNumber=Sing|PronType=Rel\\t6\\tdet\\t_\\t_\\n6\\thappened\\thappen\\tVERB\\tVVD\\tMood=Ind|Person=3|Tense=Past|VerbForm=Fin\\t3\\tccomp\\t_\\t_\\n7\\ttoday\\ttoday\\tADV\\tAV0\\t_\\t6\\tadvmod\\t_\\t_\\n8\\t!\\t!\\tPUNCT\\tSENT\\t_\\t6\\tpunct\\t_\\t_\\n\\n1\\tI\\tI\\tPROPN\\tPNP\\tNumber=Sing|Person=1|PronType=Prs\\t2\\tnsubj\\t_\\t_\\n2\\tsaw\\tsee\\tVERB\\tVVD\\tMood=Ind|Person=3|Tense=Past|VerbForm=Fin\\t0\\troot\\t_\\t_\\n3\\ta\\ta\\tDET\\tAT0\\tDefinite=Ind|Number=Sing|PronType=Art\\t6\\tdet\\t_\\t_\\n4\\tminor\\tminor\\tADJ\\tAJ0\\tDegree=Pos\\t6\\tamod\\t_\\t_\\n5\\tcar\\tcar\\tNOUN\\tNN1\\tNumber=Sing\\t6\\tcompound\\t_\\t_\\n6\\taccident\\taccident\\tNOUN\\tNN1\\tNumber=Sing\\t2\\tobj\\t_\\t_\\n7\\twhen\\twhen\\tSCONJ\\tCJS\\t_\\t11\\tmark\\t_\\t_\\n8\\teither\\teither\\tADV\\tAV0\\t_\\t11\\tadvmod\\t_\\t_\\n9\\tthe\\tthe\\tDET\\tAT0\\tDefinite=Def|PronType=Art\\t10\\tdet\\t_\\t_\\n10\\tperson\\tperson\\tNOUN\\tNN1\\tNumber=Sing\\t11\\tnsubj\\t_\\t_\\n11\\tdriving\\tdrive\\tVERB\\tVVG\\tNumber=Sing\\t2\\tadvcl\\t_\\t_\\n12\\tsaw\\tsaw\\tVERB\\tVVD\\tMood=Ind|Person=3|Tense=Past|VerbForm=Fin\\t11\\tconj\\t_\\t_\\n13\\ta\\ta\\tDET\\tAT0\\tDefinite=Ind|Number=Sing|PronType=Art\\t15\\tdet\\t_\\t_\\n14\\tsoccer\\tsoccer\\tNOUN\\tNN1\\tDegree=Cmp\\t15\\tcompound\\t_\\t_\\n15\\tball\\tball\\tNOUN\\tNN1\\tNumber=Sing\\t16\\tnsubj\\t_\\t_\\n16\\troll\\troll\\tVERB\\tVVI\\tNumber=Sing\\t12\\tccomp\\t_\\t_\\n17\\tinto\\tinto\\tADP\\tPRP\\t_\\t19\\tcase\\t_\\t_\\n18\\tthe\\tthe\\tDET\\tAT0\\tDefinite=Def|PronType=Art\\t19\\tdet\\t_\\t_\\n19\\tstreet\\tstreet\\tNOUN\\tNN1\\tNumber=Sing\\t16\\tobl\\t_\\t_\\n20\\tor\\tor\\tCCONJ\\tCJC\\t_\\t23\\tcc\\t_\\t_\\n21\\twhen\\twhen\\tSCONJ\\tCJS\\t_\\t23\\tmark\\t_\\t_\\n22\\the\\the\\tPROPN\\tPNP\\tGender=Masc|Number=Sing|Person=3|PronType=Prs\\t23\\tnsubj\\t_\\t_\\n23\\tsaw\\tsee\\tVERB\\tVVD\\tMood=Ind|Person=3|Tense=Past|VerbForm=Fin\\t16\\tconj\\t_\\t_\\n24\\ta\\ta\\tDET\\tAT0\\tDefinite=Ind|Number=Sing|PronType=Art\\t25\\tdet\\t_\\t_\\n25\\tdog\\tdog\\tNOUN\\tNN1\\tNumber=Sing\\t26\\tnsubj\\t_\\t_\\n26\\tmove\\tmove\\tVERB\\tVVI\\tMood=Ind|Person=3|Tense=Past|VerbForm=Fin\\t23\\tccomp\\t_\\t_\\n27\\tin\\tin\\tADP\\tPRP\\t_\\t28\\tcase\\t_\\t_\\n28\\tfront\\tfront\\tADP\\tPRP\\tNumber=Sing\\t26\\tobl\\t_\\t_\\n29\\tof\\tof\\tADP\\tPRF\\t_\\t31\\tcase\\t_\\t_\\n30\\this\\this\\tDET\\tDPS\\tPoss=Yes|PronType=Prs\\t31\\tdet\\t_\\t_\\n31\\tcar\\tcar\\tNOUN\\tNN1\\tNumber=Sing\\t28\\tnmod\\t_\\t_\\n32\\t.\\t.\\tPUNCT\\tSENT\\t_\\t16\\tpunct\\t_\\t_\\n\\n1\\tEveryone\\teveryone\\tPRON\\tPNI\\tNumber=Sing|Person=3|PronType=Prs\\t3\\tnsubj\\t_\\t_\\n2\\tis\\tbe\\tAUX\\tVBZ\\tMood=Ind|Number=Sing|Person=3|Tense=Pres|VerbForm=Fin\\t3\\tcop\\t_\\t_\\n3\\tfine\\tfine\\tADJ\\tAJ0\\tVerbForm=Inf\\t0\\troot\\t_\\t_\\n4\\tbecause\\tbecause\\tSCONJ\\tCJS\\t_\\t8\\tmark\\t_\\t_\\n5\\tthey\\tthey\\tPROPN\\tPNP\\tNumber=Plur|Person=3|PronType=Prs\\t8\\tnsubj\\t_\\t_\\n6\\twere\\tbe\\tAUX\\tVBD\\tMood=Ind|Number=Plur|Tense=Past|VerbForm=Fin\\t8\\tcop\\t_\\t_\\n7\\tboth\\tboth\\tDET\\tDT0\\t_\\t8\\tnsubj\\t_\\t_\\n8\\table\\table\\tADJ\\tAJ0\\tDegree=Pos\\t3\\tadvcl\\t_\\t_\\n9\\tto\\tto\\tPART\\tTO0\\t_\\t10\\tmark\\t_\\t_\\n10\\tget\\tget\\tVERB\\tVVI\\tVerbForm=Inf\\t8\\txcomp\\t_\\t_\\n11\\tout\\tout\\tADP\\tPRP\\t_\\t14\\tcase\\t_\\t_\\n12\\tof\\tof\\tADP\\tPRF\\t_\\t14\\tcase\\t_\\t_\\n13\\ttheir\\ttheir\\tDET\\tDPS\\tPoss=Yes|PronType=Prs\\t14\\tdet\\t_\\t_\\n14\\tcars\\tcar\\tNOUN\\tNN2\\tNumber=Plur\\t10\\tobl\\t_\\t_\\n15\\tto\\tto\\tPART\\tTO0\\t_\\t16\\tmark\\t_\\t_\\n16\\tassess\\tassess\\tVERB\\tVVI\\tVerbForm=Inf\\t10\\txcomp\\t_\\t_\\n17\\tthe\\tthe\\tDET\\tAT0\\tDefinite=Def|PronType=Art\\t18\\tdet\\t_\\t_\\n18\\tdamage\\tdamage\\tNOUN\\tNN1\\tNumber=Sing\\t16\\tobj\\t_\\t_\\n\\n1\\tand\\tand\\tCCONJ\\tCJC\\t_\\t3\\tcc\\t_\\t_\\n2\\tthe\\tthe\\tDET\\tAT0\\tDefinite=Def|PronType=Art\\t3\\tdet\\t_\\t_\\n3\\tman\\tman\\tNOUN\\tNN1\\tGender=Masc|Number=Sing\\t0\\troot\\t_\\t_\\n4\\twho\\twho\\tPRON\\tPNQ\\tPronType=Rel\\t5\\tnsubj\\t_\\t_\\n5\\tkicked\\tkick\\tVERB\\tVVD\\tMood=Ind|Person=3|Tense=Past|VerbForm=Fin\\t3\\tacl:relcl\\t_\\t_\\n6\\tthe\\tthe\\tDET\\tAT0\\tDefinite=Def|PronType=Art\\t8\\tdet\\t_\\t_\\n7\\tsoccer\\tsoccer\\tNOUN\\tNN1\\tDegree=Cmp\\t8\\tcompound\\t_\\t_\\n8\\tball\\tball\\tNOUN\\tNN1\\tNumber=Sing\\t5\\tobj\\t_\\t_\\n9\\talso\\talso\\tADV\\tAV0\\t_\\t10\\tadvmod\\t_\\t_\\n10\\tchecked\\tcheck\\tVERB\\tVVD\\tTense=Past|VerbForm=Part\\t8\\tacl\\t_\\t_\\n11\\ton\\ton\\tADP\\tAVP\\t_\\t12\\tcase\\t_\\t_\\n12\\tthem\\tthey\\tPROPN\\tPNP\\tNumber=Plur|Person=3|PronType=Prs\\t10\\tobl\\t_\\t_\\n13\\t.\\t.\\tPUNCT\\tSENT\\t_\\t3\\tpunct\\t_\\t_\\n\\n1\\tWhat\\twhat\\tDET\\tDTQ\\tPronType=Int\\t2\\tdet\\t_\\t_\\n2\\tI\\tI\\tPROPN\\tPNP\\tNumber=Sing|Person=1|PronType=Prs\\t3\\tnsubj\\t_\\t_\\n3\\tfound\\tfind\\tVERB\\tVVD\\tMood=Ind|Person=3|Tense=Past|VerbForm=Fin\\t0\\troot\\t_\\t_\\n4\\tmost\\tmost\\tADV\\tAV0\\t_\\t5\\tadvmod\\t_\\t_\\n5\\tinteresting\\tinterest\\tADJ\\tAJ0\\tDegree=Pos\\t8\\tnsubj\\t_\\t_\\n6\\twas\\tbe\\tAUX\\tVBD\\tMood=Ind|Number=Sing|Person=3|Tense=Past|VerbForm=Fin\\t8\\tcop\\t_\\t_\\n7\\tthe\\tthe\\tDET\\tAT0\\tDefinite=Def|PronType=Art\\t8\\tdet\\t_\\t_\\n8\\tfact\\tfact\\tNOUN\\tNN1\\tNumber=Sing\\t3\\tccomp\\t_\\t_\\n9\\tthat\\tthat\\tSCONJ\\tCJT\\t_\\t16\\tmark\\t_\\t_\\n10\\tthe\\tthe\\tDET\\tAT0\\tDefinite=Def|PronType=Art\\t11\\tdet\\t_\\t_\\n11\\tdriver\\tdriver\\tNOUN\\tNN1\\tNumber=Sing\\t16\\tnsubj\\t_\\t_\\n12\\tof\\tof\\tADP\\tPRF\\t_\\t15\\tcase\\t_\\t_\\n13\\tthe\\tthe\\tDET\\tAT0\\tDefinite=Def|PronType=Art\\t15\\tdet\\t_\\t_\\n14\\tfirst\\tfirst\\tADJ\\tORD\\tDegree=Pos|NumType=Ord\\t15\\tamod\\t_\\t_\\n15\\tcar\\tcar\\tNOUN\\tNN1\\tNumber=Sing\\t11\\tnmod\\t_\\t_\\n16\\tchecked\\tcheck\\tVERB\\tVVD\\tMood=Ind|Person=3|Tense=Past|VerbForm=Fin\\t8\\tacl\\t_\\t_\\n17\\tto\\tto\\tPART\\tTO0\\t_\\t18\\tmark\\t_\\t_\\n18\\tsee\\tsee\\tVERB\\tVVI\\tVerbForm=Inf\\t16\\txcomp\\t_\\t_\\n19\\tif\\tif\\tSCONJ\\tCJS\\t_\\t21\\tmark\\t_\\t_\\n20\\the\\the\\tPROPN\\tPNP\\tGender=Masc|Number=Sing|Person=3|PronType=Prs\\t21\\tnsubj\\t_\\t_\\n21\\thit\\thit\\tVERB\\tVVD\\tVerbForm=Inf\\t18\\tadvcl\\t_\\t_\\n22\\tanything\\tanything\\tPRON\\tPNI\\tNumber=Sing\\t21\\tobj\\t_\\t_\\n23\\tin\\tin\\tADP\\tPRP\\t_\\t25\\tcase\\t_\\t_\\n24\\tthe\\tthe\\tDET\\tAT0\\tDefinite=Def|PronType=Art\\t25\\tdet\\t_\\t_\\n25\\tfront\\tfront\\tNOUN\\tNN1\\tNumber=Sing\\t21\\tobl\\t_\\t_\\n26\\tof\\tof\\tADP\\tPRF\\t_\\t28\\tcase\\t_\\t_\\n27\\this\\this\\tDET\\tDPS\\tPoss=Yes|PronType=Prs\\t28\\tdet\\t_\\t_\\n28\\tcar\\tcar\\tNOUN\\tNN1\\tNumber=Sing\\t25\\tnmod\\t_\\t_\\n29\\tbecause\\tbecause\\tSCONJ\\tCJS\\t_\\t30\\tmark\\t_\\t_\\n30\\tassessing\\tassess\\tVERB\\tVVG\\tVerbForm=Ger\\t21\\tadvcl\\t_\\t_\\n31\\tthe\\tthe\\tDET\\tAT0\\tDefinite=Def|PronType=Art\\t32\\tdet\\t_\\t_\\n32\\tdamage\\tdamage\\tNOUN\\tNN1\\tNumber=Sing\\t30\\tobj\\t_\\t_\\n33\\tto\\tto\\tADP\\tPRP\\t_\\t35\\tcase\\t_\\t_\\n34\\tthe\\tthe\\tDET\\tAT0\\tDefinite=Def|PronType=Art\\t35\\tdet\\t_\\t_\\n35\\tback\\tback\\tNOUN\\tNN1\\tNumber=Sing\\t30\\tobl\\t_\\t_\\n36\\tof\\tof\\tADP\\tPRF\\t_\\t38\\tcase\\t_\\t_\\n37\\this\\this\\tDET\\tDPS\\tPoss=Yes|PronType=Prs\\t38\\tdet\\t_\\t_\\n38\\tcar\\tcar\\tNOUN\\tNN1\\tNumber=Sing\\t35\\tnmod\\t_\\t_\\n39\\t.\\t.\\tPUNCT\\tSENT\\t_\\t3\\tpunct\\t_\\t_\\n\\n'), ('USbi13FR_fsE', '1\\thello\\thello\\tINTJ\\tITJ\\t_\\t0\\troot\\t_\\t_\\n\\n1\\tI\\ti\\tPROPN\\tPNP\\tNumber=Sing|Person=1|PronType=Prs\\t3\\tnsubj\\t_\\t_\\n2\\tam\\tbe\\tAUX\\tVBB\\tMood=Ind|Number=Sing|Person=1|Tense=Pres|VerbForm=Fin\\t3\\taux\\t_\\t_\\n3\\tcalling\\tcall\\tVERB\\tVVG\\tVerbForm=Ger\\t0\\troot\\t_\\t_\\n4\\ton\\ton\\tADP\\tPRP\\t_\\t5\\tcase\\t_\\t_\\n5\\tbehalf\\tbehalf\\tNOUN\\tNN1\\tNumber=Sing\\t3\\tobl\\t_\\t_\\n6\\tof\\tof\\tADP\\tPRF\\t_\\t9\\tcase\\t_\\t_\\n7\\tcase\\tcase\\tNOUN\\tNN1\\tNumber=Sing\\t9\\tcompound\\t_\\t_\\n8\\tnumber\\tnumber\\tNOUN\\tNN1\\tNumber=Sing\\t9\\tcompound\\t_\\t_\\n9\\tF16\\tF16\\tNOUN\\tNP0\\tNumType=Card\\t5\\tnmod\\t_\\t_\\n\\n1\\tI\\ti\\tPROPN\\tPNP\\tNumber=Sing|Person=1|PronType=Prs\\t4\\tnsubj\\t_\\t_\\n2\\twas\\tbe\\tAUX\\tVBD\\tMood=Ind|Number=Sing|Person=3|Tense=Past|VerbForm=Fin\\t4\\tcop\\t_\\t_\\n3\\ta\\ta\\tDET\\tAT0\\tDefinite=Ind|Number=Sing|PronType=Art\\t4\\tdet\\t_\\t_\\n4\\twitness\\twitness\\tNOUN\\tNN1\\tNumber=Sing\\t0\\troot\\t_\\t_\\n5\\tto\\tto\\tADP\\tPRP\\t_\\t7\\tcase\\t_\\t_\\n6\\tan\\tan\\tDET\\tAT0\\tDefinite=Ind|Number=Sing|PronType=Art\\t7\\tdet\\t_\\t_\\n7\\taccident\\taccident\\tNOUN\\tNN1\\tNumber=Sing\\t4\\tnmod\\t_\\t_\\n8\\tthat\\tthat\\tSCONJ\\tCJT\\tPronType=Rel\\t9\\tmark\\t_\\t_\\n9\\thappened\\thappen\\tVERB\\tVVD\\tMood=Ind|Person=3|Tense=Past|VerbForm=Fin\\t4\\tacl:relcl\\t_\\t_\\n10\\tduring\\tduring\\tADP\\tPRP\\t_\\t13\\tcase\\t_\\t_\\n11\\tthe\\tthe\\tDET\\tAT0\\tDefinite=Def|PronType=Art\\t13\\tdet\\t_\\t_\\n12\\tday\\tday\\tNOUN\\tNN1\\tDegree=Pos\\t13\\tcompound\\t_\\t_\\n13\\ttime\\ttime\\tNOUN\\tNN1\\tNumber=Sing\\t9\\tobl\\t_\\t_\\n14\\ttoday\\ttoday\\tADV\\tAV0\\t_\\t9\\tadvmod\\t_\\t_\\n\\n1\\tI\\ti\\tPROPN\\tPNP\\tNumber=Sing|Person=1|PronType=Prs\\t3\\tnsubj\\t_\\t_\\n2\\twas\\tbe\\tAUX\\tVBD\\tMood=Ind|Number=Sing|Person=3|Tense=Past|VerbForm=Fin\\t3\\taux\\t_\\t_\\n3\\twalking\\twalk\\tVERB\\tVVG\\tVerbForm=Ger\\t0\\troot\\t_\\t_\\n4\\talong\\talong\\tADP\\tPRP\\t_\\t6\\tcase\\t_\\t_\\n5\\tthe\\tthe\\tDET\\tAT0\\tDefinite=Def|PronType=Art\\t6\\tdet\\t_\\t_\\n6\\tstreet\\tstreet\\tNOUN\\tNN1\\tNumber=Sing\\t3\\tobl\\t_\\t_\\n7\\twhile\\twhile\\tSCONJ\\tCJS\\t_\\t15\\tmark\\t_\\t_\\n8\\ta\\ta\\tDET\\tAT0\\tDefinite=Ind|Number=Sing|PronType=Art\\t9\\tdet\\t_\\t_\\n9\\tman\\tman\\tNOUN\\tNN1\\tGender=Masc|Number=Sing\\t15\\tnsubj\\t_\\t_\\n10\\tand\\tand\\tCCONJ\\tCJC\\t_\\t12\\tcc\\t_\\t_\\n11\\ta\\ta\\tDET\\tAT0\\tDefinite=Ind|Number=Sing|PronType=Art\\t12\\tdet\\t_\\t_\\n12\\twoman\\twoman\\tNOUN\\tNN1\\tNumber=Sing\\t9\\tconj\\t_\\t_\\n13\\twere\\tbe\\tAUX\\tVBD\\tMood=Ind|Number=Plur|Tense=Past|VerbForm=Fin\\t15\\taux\\t_\\t_\\n14\\talso\\talso\\tADV\\tAV0\\t_\\t15\\tadvmod\\t_\\t_\\n15\\twalking\\twalk\\tVERB\\tVVG\\tVerbForm=Ger\\t3\\tadvcl\\t_\\t_\\n16\\tnearby\\tnearby\\tADV\\tAV0\\t_\\t15\\tadvmod\\t_\\t_\\n\\n1\\tand\\tand\\tCCONJ\\tCJC\\t_\\t5\\tcc\\t_\\t_\\n2\\tthe\\tthe\\tDET\\tAT0\\tDefinite=Def|PronType=Art\\t3\\tdet\\t_\\t_\\n3\\tman\\tman\\tNOUN\\tNN1\\tGender=Masc|Number=Sing\\t5\\tnsubj\\t_\\t_\\n4\\twas\\tbe\\tAUX\\tVBD\\tMood=Ind|Number=Sing|Person=3|Tense=Past|VerbForm=Fin\\t5\\taux\\t_\\t_\\n5\\tholding\\thold\\tVERB\\tVVG\\tVerbForm=Ger\\t0\\troot\\t_\\t_\\n6\\ta\\ta\\tDET\\tAT0\\tDefinite=Ind|Number=Sing|PronType=Art\\t8\\tdet\\t_\\t_\\n7\\tsports\\tsport\\tNOUN\\tNN2\\tNumber=Plur\\t8\\tcompound\\t_\\t_\\n8\\tball\\tball\\tNOUN\\tNN1\\tMood=Ind|Number=Plur|Tense=Pres|VerbForm=Fin\\t5\\tobj\\t_\\t_\\n9\\tthat\\tthat\\tSCONJ\\tCJT\\t_\\t12\\tmark\\t_\\t_\\n10\\the\\the\\tPROPN\\tPNP\\tGender=Masc|Number=Sing|Person=3|PronType=Prs\\t12\\tnsubj\\t_\\t_\\n11\\tsuddenly\\tsuddenly\\tADV\\tAV0\\t_\\t12\\tadvmod\\t_\\t_\\n12\\tdropped\\tdrop\\tVERB\\tVVD\\tTense=Past|VerbForm=Part\\t8\\tacl\\t_\\t_\\n13\\tby\\tby\\tADP\\tAVP\\t_\\t14\\tcase\\t_\\t_\\n14\\taccidentally\\taccidentally\\tADV\\tAV0\\t_\\t12\\tobl\\t_\\t_\\n\\n1\\tthis\\tthis\\tDET\\tDT0\\tNumber=Sing|PronType=Dem\\t2\\tdet\\t_\\t_\\n2\\tball\\tball\\tNOUN\\tNN1\\tNumber=Sing\\t3\\tnsubj\\t_\\t_\\n3\\trolled\\troll\\tVERB\\tVVD\\tMood=Ind|Person=3|Tense=Past|VerbForm=Fin\\t0\\troot\\t_\\t_\\n4\\tout\\tout\\tADP\\tAVP\\t_\\t3\\tcompound:prt\\t_\\t_\\n5\\tin\\tin\\tADP\\tPRP\\t_\\t8\\tcase\\t_\\t_\\n6\\tacross\\tacross\\tADP\\tPRP\\t_\\t8\\tcase\\t_\\t_\\n7\\tthe\\tthe\\tDET\\tAT0\\tDefinite=Def|PronType=Art\\t8\\tdet\\t_\\t_\\n8\\tstreet\\tstreet\\tNOUN\\tNN1\\tNumber=Sing\\t3\\tobl\\t_\\t_\\n9\\ttowards\\ttowards\\tADP\\tPRP\\t_\\t11\\tcase\\t_\\t_\\n10\\ta\\ta\\tDET\\tAT0\\tDefinite=Ind|Number=Sing|PronType=Art\\t11\\tdet\\t_\\t_\\n11\\twoman\\twoman\\tNOUN\\tNN1\\tNumber=Sing\\t3\\tobl\\t_\\t_\\n12\\twith\\twith\\tADP\\tPRP\\t_\\t14\\tcase\\t_\\t_\\n13\\ta\\ta\\tDET\\tAT0\\tDefinite=Ind|Number=Sing|PronType=Art\\t14\\tdet\\t_\\t_\\n14\\tdog\\tdog\\tNOUN\\tNN1\\tNumber=Sing\\t11\\tnmod\\t_\\t_\\n\\n1\\tthe\\tthe\\tDET\\tAT0\\tDefinite=Def|PronType=Art\\t2\\tdet\\t_\\t_\\n2\\twoman\\twoman\\tNOUN\\tNN1\\tNumber=Sing\\t4\\tnsubj\\t_\\t_\\n3\\twas\\tbe\\tAUX\\tVBD\\tMood=Ind|Number=Sing|Person=3|Tense=Past|VerbForm=Fin\\t4\\tcop\\t_\\t_\\n4\\tpreoccupied\\tpreoccupied\\tADJ\\tAJ0\\tTense=Past|VerbForm=Part\\t0\\troot\\t_\\t_\\n5\\twith\\twith\\tADP\\tPRP\\t_\\t6\\tmark\\t_\\t_\\n6\\tunpacking\\tunpack\\tVERB\\tVVG\\tVerbForm=Ger\\t4\\tadvcl\\t_\\t_\\n7\\ther\\tshe\\tDET\\tDPS\\tPoss=Yes|PronType=Prs\\t8\\tdet\\t_\\t_\\n8\\tgroceries\\tgrocery\\tNOUN\\tNN2\\tNumber=Plur\\t6\\tobj\\t_\\t_\\n9\\tfrom\\tfrom\\tADP\\tPRP\\t_\\t11\\tcase\\t_\\t_\\n10\\tthe\\tthe\\tDET\\tAT0\\tDefinite=Def|PronType=Art\\t11\\tdet\\t_\\t_\\n11\\ttrunk\\ttrunk\\tNOUN\\tNN1\\tNumber=Sing\\t6\\tobl\\t_\\t_\\n12\\tof\\tof\\tADP\\tPRF\\t_\\t14\\tcase\\t_\\t_\\n13\\tthe\\tthe\\tDET\\tAT0\\tDefinite=Def|PronType=Art\\t14\\tdet\\t_\\t_\\n14\\tcar\\tcar\\tNOUN\\tNN1\\tNumber=Sing\\t11\\tnmod\\t_\\t_\\n\\n1\\tand\\tand\\tCCONJ\\tCJC\\t_\\t5\\tcc\\t_\\t_\\n2\\tso\\tso\\tINTJ\\tITJ\\t_\\t5\\tdiscourse\\t_\\t_\\n3\\tthe\\tthe\\tDET\\tAT0\\tDefinite=Def|PronType=Art\\t4\\tdet\\t_\\t_\\n4\\tdog\\tdog\\tNOUN\\tNN1\\tNumber=Sing\\t5\\tnsubj\\t_\\t_\\n5\\tsaw\\tsee\\tVERB\\tVVD\\tMood=Ind|Person=3|Tense=Past|VerbForm=Fin\\t0\\troot\\t_\\t_\\n6\\tthe\\tthe\\tDET\\tAT0\\tDefinite=Def|PronType=Art\\t7\\tdet\\t_\\t_\\n7\\tball\\tball\\tNOUN\\tNN1\\tNumber=Sing\\t5\\tobj\\t_\\t_\\n\\n1\\tand\\tand\\tCCONJ\\tCJC\\t_\\t2\\tcc\\t_\\t_\\n2\\tchased\\tchase\\tVERB\\tVVD\\tMood=Ind|Person=3|Tense=Past|VerbForm=Fin\\t0\\troot\\t_\\t_\\n3\\tafter\\tafter\\tADP\\tPRP\\t_\\t4\\tcase\\t_\\t_\\n4\\tit\\tit\\tPROPN\\tPNP\\tNumber=Sing|Person=3|PronType=Prs\\t2\\tobl\\t_\\t_\\n5\\tinto\\tinto\\tADP\\tPRP\\t_\\t7\\tcase\\t_\\t_\\n6\\tthe\\tthe\\tDET\\tAT0\\tDefinite=Def|PronType=Art\\t7\\tdet\\t_\\t_\\n7\\tstreet\\tstreet\\tNOUN\\tNN1\\tNumber=Sing\\t2\\tobl\\t_\\t_\\n\\n1\\tat\\tat\\tADP\\tPRP\\t_\\t3\\tcase\\t_\\t_\\n2\\tthis\\tthis\\tDET\\tDT0\\tNumber=Sing|PronType=Dem\\t3\\tdet\\t_\\t_\\n3\\ttime\\ttime\\tNOUN\\tNN1\\tNumber=Sing\\t8\\tobl\\t_\\t_\\n4\\tthere\\tthere\\tADV\\tEX0\\t_\\t8\\tadvmod\\t_\\t_\\n5\\twas\\tbe\\tAUX\\tVBD\\tMood=Ind|Number=Sing|Person=3|Tense=Past|VerbForm=Fin\\t8\\tcop\\t_\\t_\\n6\\ta\\ta\\tDET\\tAT0\\tDefinite=Ind|Number=Sing|PronType=Art\\t8\\tdet\\t_\\t_\\n7\\tblue\\tblue\\tADJ\\tAJ0\\tDegree=Pos\\t8\\tamod\\t_\\t_\\n8\\tcar\\tcar\\tNOUN\\tNN1\\tNumber=Sing\\t0\\troot\\t_\\t_\\n9\\tthat\\tthat\\tSCONJ\\tCJT\\tPronType=Rel\\t11\\tmark\\t_\\t_\\n10\\twas\\tbe\\tAUX\\tVBD\\tMood=Ind|Number=Sing|Person=3|Tense=Past|VerbForm=Fin\\t11\\taux\\t_\\t_\\n11\\tcoming\\tcome\\tVERB\\tVVG\\tVerbForm=Ger\\t8\\tacl:relcl\\t_\\t_\\n12\\tdown\\tdown\\tADP\\tPRP\\t_\\t14\\tcase\\t_\\t_\\n13\\tthe\\tthe\\tDET\\tAT0\\tDefinite=Def|PronType=Art\\t14\\tdet\\t_\\t_\\n14\\tstreet\\tstreet\\tNOUN\\tNN1\\tNumber=Sing\\t11\\tobl\\t_\\t_\\n\\n1\\tand\\tand\\tCCONJ\\tCJC\\t_\\t3\\tcc\\t_\\t_\\n2\\tthe\\tthe\\tDET\\tAT0\\tDefinite=Def|PronType=Art\\t3\\tdet\\t_\\t_\\n3\\tdriver\\tdriver\\tNOUN\\tNN1\\tNumber=Sing\\t10\\tnsubj\\t_\\t_\\n4\\tof\\tof\\tADP\\tPRF\\t_\\t7\\tcase\\t_\\t_\\n5\\tthe\\tthe\\tDET\\tAT0\\tDefinite=Def|PronType=Art\\t7\\tdet\\t_\\t_\\n6\\tblue\\tblue\\tADJ\\tAJ0\\tNumber=Sing\\t7\\tamod\\t_\\t_\\n7\\tcar\\tcar\\tNOUN\\tNN1\\tNumber=Sing\\t3\\tnmod\\t_\\t_\\n8\\tmust\\tmust\\tAUX\\tVM0\\tMood=Ind|Person=3|Tense=Pres|VerbForm=Fin\\t10\\taux\\t_\\t_\\n9\\thave\\thave\\tAUX\\tVHI\\tVerbForm=Inf\\t10\\taux\\t_\\t_\\n10\\tnoticed\\tnotice\\tVERB\\tVVN\\tTense=Past|VerbForm=Part\\t0\\troot\\t_\\t_\\n11\\tthe\\tthe\\tDET\\tAT0\\tDefinite=Def|PronType=Art\\t12\\tdet\\t_\\t_\\n12\\tdog\\tdog\\tNOUN\\tNN1\\tNumber=Sing\\t10\\tobj\\t_\\t_\\n13\\tor\\tor\\tCCONJ\\tCJC\\t_\\t15\\tcc\\t_\\t_\\n14\\tthe\\tthe\\tDET\\tAT0\\tDefinite=Def|PronType=Art\\t15\\tdet\\t_\\t_\\n15\\tball\\tball\\tNOUN\\tNN1\\tNumber=Sing\\t12\\tconj\\t_\\t_\\n16\\tbecause\\tbecause\\tSCONJ\\tCJS\\t_\\t19\\tmark\\t_\\t_\\n17\\the\\the\\tPROPN\\tPNP\\tGender=Masc|Number=Sing|Person=3|PronType=Prs\\t19\\tnsubj\\t_\\t_\\n18\\tsuddenly\\tsuddenly\\tADV\\tAV0\\t_\\t19\\tadvmod\\t_\\t_\\n19\\tstopped\\tstop\\tVERB\\tVVD\\tMood=Ind|Person=3|Tense=Past|VerbForm=Fin\\t10\\tadvcl\\t_\\t_\\n20\\this\\the\\tDET\\tDPS\\tPoss=Yes|PronType=Prs\\t21\\tdet\\t_\\t_\\n21\\tcar\\tcar\\tNOUN\\tNN1\\tNumber=Sing\\t19\\tobj\\t_\\t_\\n\\n1\\thowever\\thowever\\tADV\\tAV0\\t_\\t6\\tadvmod\\t_\\t_\\n2\\tthere\\tthere\\tADV\\tEX0\\t_\\t6\\tadvmod\\t_\\t_\\n3\\twas\\tbe\\tAUX\\tVBD\\tMood=Ind|Number=Sing|Person=3|Tense=Past|VerbForm=Fin\\t6\\tcop\\t_\\t_\\n4\\ta\\ta\\tDET\\tAT0\\tDefinite=Ind|Number=Sing|PronType=Art\\t6\\tdet\\t_\\t_\\n5\\twhite\\twhite\\tADJ\\tAJ0\\tDegree=Pos\\t6\\tamod\\t_\\t_\\n6\\tcar\\tcar\\tNOUN\\tNN1\\tNumber=Sing\\t0\\troot\\t_\\t_\\n7\\tthat\\tthat\\tSCONJ\\tCJT\\tPronType=Rel\\t19\\tmark\\t_\\t_\\n8\\twas\\tbe\\tAUX\\tVBD\\tMood=Ind|Number=Sing|Person=3|Tense=Past|VerbForm=Fin\\t9\\taux\\t_\\t_\\n9\\tcoming\\tcome\\tVERB\\tVVG\\tVerbForm=Ger\\t19\\tcsubj\\t_\\t_\\n10\\tdown\\tdown\\tADP\\tPRP\\t_\\t12\\tcase\\t_\\t_\\n11\\tthe\\tthe\\tDET\\tAT0\\tDefinite=Def|PronType=Art\\t12\\tdet\\t_\\t_\\n12\\tstreet\\tstreet\\tNOUN\\tNN1\\tNumber=Sing\\t9\\tobl\\t_\\t_\\n13\\tthat\\tthat\\tSCONJ\\tCJT\\tPronType=Rel\\t19\\tobl\\t_\\t_\\n14\\twas\\tbe\\tAUX\\tVBD\\tMood=Ind|Number=Sing|Person=3|Tense=Past|VerbForm=Fin\\t19\\tcop\\t_\\t_\\n15\\tdirectly\\tdirectly\\tADV\\tAV0\\t_\\t19\\tadvmod\\t_\\t_\\n16\\tbehind\\tbehind\\tADP\\tPRP\\tVerbForm=Inf\\t19\\tcase\\t_\\t_\\n17\\tthe\\tthe\\tDET\\tAT0\\tDefinite=Def|PronType=Art\\t19\\tdet\\t_\\t_\\n18\\tblue\\tblue\\tADJ\\tAJ0\\tNumber=Sing\\t19\\tamod\\t_\\t_\\n19\\tcar\\tcar\\tNOUN\\tNN1\\tNumber=Sing\\t6\\tacl:relcl\\t_\\t_\\n\\n1\\tthe\\tthe\\tDET\\tAT0\\tDefinite=Def|PronType=Art\\t2\\tdet\\t_\\t_\\n2\\tdriver\\tdriver\\tNOUN\\tNN1\\tNumber=Sing\\t9\\tnsubj\\t_\\t_\\n3\\tof\\tof\\tADP\\tPRF\\t_\\t6\\tcase\\t_\\t_\\n4\\tthe\\tthe\\tDET\\tAT0\\tDefinite=Def|PronType=Art\\t6\\tdet\\t_\\t_\\n5\\twhite\\twhite\\tADJ\\tAJ0\\tDegree=Pos\\t6\\tamod\\t_\\t_\\n6\\tcar\\tcar\\tNOUN\\tNN1\\tNumber=Sing\\t2\\tnmod\\t_\\t_\\n7\\talso\\talso\\tADV\\tAV0\\t_\\t9\\tadvmod\\t_\\t_\\n8\\tabruptly\\tabruptly\\tADV\\tAV0\\t_\\t9\\tadvmod\\t_\\t_\\n9\\tstopped\\tstop\\tVERB\\tVVD\\tMood=Ind|Person=3|Tense=Past|VerbForm=Fin\\t0\\troot\\t_\\t_\\n10\\this\\the\\tDET\\tDPS\\tPoss=Yes|PronType=Prs\\t11\\tdet\\t_\\t_\\n11\\tcar\\tcar\\tNOUN\\tNN1\\tNumber=Sing\\t9\\tobj\\t_\\t_\\n\\n1\\tbut\\tbut\\tCCONJ\\tCJC\\t_\\t6\\tcc\\t_\\t_\\n2\\tbecause\\tbecause\\tSCONJ\\tCJS\\t_\\t6\\tcase\\t_\\t_\\n3\\tof\\tof\\tADP\\tPRF\\t_\\t2\\tfixed\\t_\\t_\\n4\\tthe\\tthe\\tDET\\tAT0\\tDefinite=Def|PronType=Art\\t6\\tdet\\t_\\t_\\n5\\tclose\\tclose\\tADJ\\tAJ0\\tDegree=Pos\\t6\\tamod\\t_\\t_\\n6\\tproximity\\tproximity\\tNOUN\\tNN1\\tNumber=Sing\\t0\\troot\\t_\\t_\\n7\\tof\\tof\\tADP\\tPRF\\t_\\t10\\tcase\\t_\\t_\\n8\\tthe\\tthe\\tDET\\tAT0\\tDefinite=Def|PronType=Art\\t10\\tdet\\t_\\t_\\n9\\ttwo\\ttwo\\tNUM\\tCRD\\tNumType=Card\\t10\\tnummod\\t_\\t_\\n10\\tcars\\tcar\\tNOUN\\tNN2\\tNumber=Plur\\t6\\tnmod\\t_\\t_\\n11\\the\\the\\tPROPN\\tPNP\\tGender=Masc|Number=Sing|Person=3|PronType=Prs\\t12\\tnsubj\\t_\\t_\\n12\\tended\\tend\\tVERB\\tVVD\\tMood=Ind|Person=3|Tense=Past|VerbForm=Fin\\t10\\tacl:relcl\\t_\\t_\\n13\\tup\\tup\\tADP\\tAVP\\t_\\t12\\tcompound:prt\\t_\\t_\\n14\\tbumping\\tbump\\tVERB\\tVVG\\tVerbForm=Ger\\t12\\txcomp\\t_\\t_\\n15\\tinto\\tinto\\tADP\\tPRP\\t_\\t18\\tcase\\t_\\t_\\n16\\tthe\\tthe\\tDET\\tAT0\\tDefinite=Def|PronType=Art\\t18\\tdet\\t_\\t_\\n17\\tback\\tback\\tADJ\\tAJ0\\tDegree=Pos\\t18\\tamod\\t_\\t_\\n18\\tend\\tend\\tNOUN\\tNN1\\tNumber=Sing\\t14\\tobl\\t_\\t_\\n19\\tof\\tof\\tADP\\tPRF\\t_\\t22\\tcase\\t_\\t_\\n20\\tthe\\tthe\\tDET\\tAT0\\tDefinite=Def|PronType=Art\\t22\\tdet\\t_\\t_\\n21\\tblue\\tblue\\tADJ\\tAJ0\\tNumber=Sing\\t22\\tamod\\t_\\t_\\n22\\tcar\\tcar\\tNOUN\\tNN1\\tNumber=Sing\\t18\\tnmod\\t_\\t_\\n\\n1\\tthe\\tthe\\tDET\\tAT0\\tDefinite=Def|PronType=Art\\t2\\tdet\\t_\\t_\\n2\\tcar\\tcar\\tNOUN\\tNN1\\tNumber=Sing\\t0\\troot\\t_\\t_\\n3\\tthe\\tthe\\tDET\\tAT0\\tDefinite=Def|PronType=Art\\t5\\tdet\\t_\\t_\\n4\\tblue\\tblue\\tADJ\\tAJ0\\tDegree=Pos\\t5\\tamod\\t_\\t_\\n5\\tcar\\tcar\\tNOUN\\tNN1\\tNumber=Sing\\t6\\tnsubj\\t_\\t_\\n6\\tappeared\\tappear\\tVERB\\tVVD\\tMood=Ind|Person=3|Tense=Past|VerbForm=Fin\\t2\\tacl:relcl\\t_\\t_\\n7\\tto\\tto\\tPART\\tTO0\\t_\\t9\\tmark\\t_\\t_\\n8\\tbe\\tbe\\tAUX\\tVBI\\tVerbForm=Inf\\t9\\taux:pass\\t_\\t_\\n9\\tdamaged\\tdamage\\tVERB\\tVVN\\tTense=Past|VerbForm=Part\\t6\\txcomp\\t_\\t_\\n\\n1\\tbut\\tbut\\tCCONJ\\tCJC\\t_\\t4\\tcc\\t_\\t_\\n2\\tno\\tno\\tDET\\tAT0\\tPronType=Ind\\t3\\tdet\\t_\\t_\\n3\\tperson\\tperson\\tNOUN\\tNN1\\tNumber=Sing\\t4\\tnsubj\\t_\\t_\\n4\\tappeared\\tappear\\tVERB\\tVVD\\tMood=Ind|Person=3|Tense=Past|VerbForm=Fin\\t0\\troot\\t_\\t_\\n5\\tto\\tto\\tPART\\tTO0\\t_\\t7\\tmark\\t_\\t_\\n6\\tbe\\tbe\\tAUX\\tVBI\\tVerbForm=Inf\\t7\\taux:pass\\t_\\t_\\n7\\tinjured\\tinjure\\tVERB\\tVVN\\tTense=Past|VerbForm=Part\\t4\\txcomp\\t_\\t_\\n\\n1\\tand\\tand\\tCCONJ\\tCJC\\t_\\t3\\tcc\\t_\\t_\\n2\\tthe\\tthe\\tDET\\tAT0\\tDefinite=Def|PronType=Art\\t3\\tdet\\t_\\t_\\n3\\tdrivers\\tdriver\\tNOUN\\tNN2\\tNumber=Plur\\t0\\troot\\t_\\t_\\n4\\tof\\tof\\tADP\\tPRF\\t_\\t6\\tcase\\t_\\t_\\n5\\tthe\\tthe\\tDET\\tAT0\\tDefinite=Def|PronType=Art\\t6\\tdet\\t_\\t_\\n6\\tcar\\tcar\\tNOUN\\tNN1\\tNumber=Sing\\t3\\tnmod\\t_\\t_\\n7\\tof\\tof\\tADP\\tPRF\\t_\\t10\\tcase\\t_\\t_\\n8\\tthe\\tthe\\tDET\\tAT0\\tDefinite=Def|PronType=Art\\t10\\tdet\\t_\\t_\\n9\\ttwo\\ttwo\\tNUM\\tCRD\\tNumType=Card\\t10\\tnummod\\t_\\t_\\n10\\tcars\\tcar\\tNOUN\\tNN2\\tNumber=Plur\\t3\\tnmod\\t_\\t_\\n11\\tcalled\\tcall\\tVERB\\tVVD\\tTense=Past|VerbForm=Part\\t10\\tacl\\t_\\t_\\n12\\t911\\t911\\tNOUN\\tNP0\\tNumType=Card\\t11\\txcomp\\t_\\t_\\n\\n'), ('USbi08FR_fwE', '1\\t\\ufeffI\\ti\\tPROPN\\tPNP\\tNumber=Sing|Person=1|PronType=Prs\\t3\\tnsubj\\t_\\t_\\n2\\twas\\tbe\\tAUX\\tVBD\\tMood=Ind|Number=Sing|Person=3|Tense=Past|VerbForm=Fin\\t3\\taux\\t_\\t_\\n3\\twalking\\twalk\\tVERB\\tVVG\\tVerbForm=Ger\\t0\\troot\\t_\\t_\\n4\\tdown\\tdown\\tADP\\tPRP\\t_\\t6\\tcase\\t_\\t_\\n5\\tthe\\tthe\\tDET\\tAT0\\tDefinite=Def|PronType=Art\\t6\\tdet\\t_\\t_\\n6\\tstreet\\tstreet\\tNOUN\\tNN1\\tNumber=Sing\\t3\\tobl\\t_\\t_\\n\\n1\\tand\\tand\\tCCONJ\\tCJC\\t_\\t7\\tcc\\t_\\t_\\n2\\ta\\ta\\tDET\\tAT0\\tDefinite=Ind|Number=Sing|PronType=Art\\t3\\tdet\\t_\\t_\\n3\\tman\\tman\\tNOUN\\tNN1\\tGender=Masc|Number=Sing\\t7\\tnsubj\\t_\\t_\\n4\\tand\\tand\\tCCONJ\\tCJC\\t_\\t5\\tcc\\t_\\t_\\n5\\twoman\\twoman\\tNOUN\\tNN1\\tNumber=Sing\\t3\\tconj\\t_\\t_\\n6\\twere\\tbe\\tAUX\\tVBD\\tMood=Ind|Number=Plur|Tense=Past|VerbForm=Fin\\t7\\taux\\t_\\t_\\n7\\twalking\\twalk\\tVERB\\tVVG\\tVerbForm=Ger\\t0\\troot\\t_\\t_\\n8\\ttowards\\ttowards\\tADP\\tPRP\\t_\\t9\\tcase\\t_\\t_\\n9\\tme\\ti\\tPROPN\\tPNP\\tNumber=Sing|Person=1|PronType=Prs\\t7\\tobl\\t_\\t_\\n10\\twith\\twith\\tADP\\tPRP\\t_\\t13\\tcase\\t_\\t_\\n11\\ta\\ta\\tDET\\tAT0\\tDefinite=Ind|Number=Sing|PronType=Art\\t13\\tdet\\t_\\t_\\n12\\tbaby\\tbaby\\tNOUN\\tNN1\\tDegree=Pos\\t13\\tcompound\\t_\\t_\\n13\\tcarriage\\tcarriage\\tNOUN\\tNN1\\tNumber=Sing\\t7\\tobl\\t_\\t_\\n14\\t.\\t.\\tPUNCT\\tSENT\\t_\\t7\\tpunct\\t_\\t_\\n\\n1\\tThe\\tthe\\tDET\\tAT0\\tDefinite=Def|PronType=Art\\t2\\tdet\\t_\\t_\\n2\\tman\\tman\\tNOUN\\tNN1\\tGender=Masc|Number=Sing\\t4\\tnsubj\\t_\\t_\\n3\\twas\\tbe\\tAUX\\tVBD\\tMood=Ind|Number=Sing|Person=3|Tense=Past|VerbForm=Fin\\t4\\taux\\t_\\t_\\n4\\tbouncing\\tbounce\\tVERB\\tVVG\\tVerbForm=Ger\\t0\\troot\\t_\\t_\\n5\\ta\\ta\\tDET\\tAT0\\tDefinite=Ind|Number=Sing|PronType=Art\\t6\\tdet\\t_\\t_\\n6\\tball\\tball\\tNOUN\\tNN1\\tNumber=Sing\\t4\\tobj\\t_\\t_\\n\\n1\\tand\\tand\\tCCONJ\\tCJC\\t_\\t13\\tcc\\t_\\t_\\n2\\twhen\\twhen\\tSCONJ\\tCJS\\t_\\t5\\tmark\\t_\\t_\\n3\\tthe\\tthe\\tDET\\tAT0\\tDefinite=Def|PronType=Art\\t4\\tdet\\t_\\t_\\n4\\tcouple\\tcouple\\tNOUN\\tNN1\\tNumber=Sing\\t5\\tnsubj\\t_\\t_\\n5\\tturned\\tturn\\tVERB\\tVVD\\tMood=Ind|Person=3|Tense=Past|VerbForm=Fin\\t13\\tadvcl\\t_\\t_\\n6\\tto\\tto\\tPART\\tTO0\\t_\\t7\\tmark\\t_\\t_\\n7\\tcross\\tcross\\tVERB\\tVVI\\tVerbForm=Inf\\t5\\txcomp\\t_\\t_\\n8\\tthe\\tthe\\tDET\\tAT0\\tDefinite=Def|PronType=Art\\t9\\tdet\\t_\\t_\\n9\\tstreet\\tstreet\\tNOUN\\tNN1\\tNumber=Sing\\t7\\tobj\\t_\\t_\\n10\\t,\\t,\\tPUNCT\\tPUN\\t_\\t13\\tpunct\\t_\\t_\\n11\\tthe\\tthe\\tDET\\tAT0\\tDefinite=Def|PronType=Art\\t12\\tdet\\t_\\t_\\n12\\tman\\tman\\tNOUN\\tNN1\\tGender=Masc|Number=Sing\\t13\\tnsubj\\t_\\t_\\n13\\tdropped\\tdrop\\tVERB\\tVVD\\tMood=Ind|Person=3|Tense=Past|VerbForm=Fin\\t0\\troot\\t_\\t_\\n14\\tthe\\tthe\\tDET\\tAT0\\tDefinite=Def|PronType=Art\\t15\\tdet\\t_\\t_\\n15\\tball\\tball\\tNOUN\\tNN1\\tNumber=Sing\\t13\\tobj\\t_\\t_\\n\\n1\\tand\\tand\\tCCONJ\\tCJC\\t_\\t3\\tcc\\t_\\t_\\n2\\tit\\tit\\tPROPN\\tPNP\\tNumber=Sing|Person=3|PronType=Prs\\t3\\tnsubj\\t_\\t_\\n3\\trolled\\troll\\tVERB\\tVVD\\tMood=Ind|Person=3|Tense=Past|VerbForm=Fin\\t0\\troot\\t_\\t_\\n4\\tinto\\tinto\\tADP\\tPRP\\t_\\t6\\tcase\\t_\\t_\\n5\\tthe\\tthe\\tDET\\tAT0\\tDefinite=Def|PronType=Art\\t6\\tdet\\t_\\t_\\n6\\tstreet\\tstreet\\tNOUN\\tNN1\\tNumber=Sing\\t3\\tobl\\t_\\t_\\n7\\t.\\t.\\tPUNCT\\tSENT\\t_\\t3\\tpunct\\t_\\t_\\n\\n1\\tOn\\ton\\tADP\\tPRP\\t_\\t4\\tcase\\t_\\t_\\n2\\tthe\\tthe\\tDET\\tAT0\\tDefinite=Def|PronType=Art\\t4\\tdet\\t_\\t_\\n3\\tother\\tother\\tADJ\\tAJ0\\tDegree=Pos\\t4\\tamod\\t_\\t_\\n4\\tside\\tside\\tNOUN\\tNN1\\tNumber=Sing\\t13\\tobl\\t_\\t_\\n5\\tof\\tof\\tADP\\tPRF\\t_\\t7\\tcase\\t_\\t_\\n6\\tthe\\tthe\\tDET\\tAT0\\tDefinite=Def|PronType=Art\\t7\\tdet\\t_\\t_\\n7\\tstreet\\tstreet\\tNOUN\\tNN1\\tNumber=Sing\\t4\\tnmod\\t_\\t_\\n8\\t,\\t,\\tPUNCT\\tPUN\\t_\\t13\\tpunct\\t_\\t_\\n9\\tthere\\tthere\\tADV\\tEX0\\t_\\t13\\tadvmod\\t_\\t_\\n10\\twas\\tbe\\tAUX\\tVBD\\tMood=Ind|Number=Sing|Person=3|Tense=Past|VerbForm=Fin\\t13\\tcop\\t_\\t_\\n11\\ta\\ta\\tDET\\tAT0\\tDefinite=Ind|Number=Sing|PronType=Art\\t12\\tdet\\t_\\t_\\n12\\twoman\\twoman\\tNOUN\\tNN1\\tNumber=Sing\\t13\\tnsubj\\t_\\t_\\n13\\tunloading\\tunload\\tVERB\\tVVG\\tNumber=Sing|Tense=Pres|VerbForm=Part\\t0\\troot\\t_\\t_\\n14\\ther\\tshe\\tDET\\tDPS\\tPoss=Yes|PronType=Prs\\t15\\tdet\\t_\\t_\\n15\\tgroceries\\tgrocery\\tNOUN\\tNN2\\tNumber=Plur\\t13\\tobj\\t_\\t_\\n16\\tfrom\\tfrom\\tADP\\tPRP\\t_\\t18\\tcase\\t_\\t_\\n17\\ther\\tshe\\tDET\\tDPS\\tPoss=Yes|PronType=Prs\\t18\\tdet\\t_\\t_\\n18\\tcar\\tcar\\tNOUN\\tNN1\\tNumber=Sing\\t13\\tobl\\t_\\t_\\n\\n1\\tand\\tand\\tCCONJ\\tCJC\\t_\\t2\\tcc\\t_\\t_\\n2\\tholding\\thold\\tVERB\\tVVG\\tVerbForm=Ger\\t0\\troot\\t_\\t_\\n3\\ther\\tshe\\tDET\\tDPS\\tPoss=Yes|PronType=Prs\\t4\\tdet\\t_\\t_\\n4\\tdog\\tdog\\tNOUN\\tNN1\\tNumber=Sing\\t2\\tobj\\t_\\t_\\n5\\tby\\tby\\tADP\\tPRP\\t_\\t7\\tcase\\t_\\t_\\n6\\this\\the\\tDET\\tDPS\\tPoss=Yes|PronType=Prs\\t7\\tdet\\t_\\t_\\n7\\tleash\\tleash\\tNOUN\\tNN1\\tNumber=Sing\\t2\\tobl\\t_\\t_\\n8\\t.\\t.\\tPUNCT\\tSENT\\t_\\t2\\tpunct\\t_\\t_\\n\\n1\\tThe\\tthe\\tDET\\tAT0\\tDefinite=Def|PronType=Art\\t2\\tdet\\t_\\t_\\n2\\tdog\\tdog\\tNOUN\\tNN1\\tNumber=Sing\\t3\\tnsubj\\t_\\t_\\n3\\tran\\trun\\tVERB\\tVVD\\tMood=Ind|Person=3|Tense=Past|VerbForm=Fin\\t0\\troot\\t_\\t_\\n4\\tinto\\tinto\\tADP\\tPRP\\t_\\t6\\tcase\\t_\\t_\\n5\\tthe\\tthe\\tDET\\tAT0\\tDefinite=Def|PronType=Art\\t6\\tdet\\t_\\t_\\n6\\tstreet\\tstreet\\tNOUN\\tNN1\\tNumber=Sing\\t3\\tobl\\t_\\t_\\n7\\tafter\\tafter\\tADP\\tPRP\\t_\\t9\\tcase\\t_\\t_\\n8\\tthe\\tthe\\tDET\\tAT0\\tDefinite=Def|PronType=Art\\t9\\tdet\\t_\\t_\\n9\\tball\\tball\\tNOUN\\tNN1\\tNumber=Sing|Person=3|PronType=Prs\\t3\\tobl\\t_\\t_\\n\\n1\\tand\\tand\\tCCONJ\\tCJC\\t_\\t2\\tcc\\t_\\t_\\n2\\tpulled\\tpull\\tVERB\\tVVD\\tMood=Ind|Person=3|Tense=Past|VerbForm=Fin\\t0\\troot\\t_\\t_\\n3\\tthe\\tthe\\tDET\\tAT0\\tDefinite=Def|PronType=Art\\t4\\tdet\\t_\\t_\\n4\\twoman\\twoman\\tNOUN\\tNN1\\tNumber=Sing\\t2\\tobj\\t_\\t_\\n5\\t(\\t(\\tPUNCT\\tPUL\\t_\\t9\\tpunct\\t_\\t_\\n6\\tsince\\tsince\\tSCONJ\\tCJS\\t_\\t9\\tmark\\t_\\t_\\n7\\tshe\\tshe\\tPROPN\\tPNP\\tGender=Fem|Number=Sing|Person=3|PronType=Prs\\t9\\tnsubj\\t_\\t_\\n8\\twas\\tbe\\tAUX\\tVBD\\tMood=Ind|Number=Sing|Person=3|Tense=Past|VerbForm=Fin\\t9\\taux\\t_\\t_\\n9\\tholding\\thold\\tVERB\\tVVG\\tVerbForm=Ger\\t2\\tadvcl\\t_\\t_\\n10\\tthe\\tthe\\tDET\\tAT0\\tDefinite=Def|PronType=Art\\t11\\tdet\\t_\\t_\\n11\\tleash\\tleash\\tNOUN\\tNN1\\tNumber=Sing\\t9\\tobj\\t_\\t_\\n12\\t)\\t)\\tPUNCT\\tPUR\\t_\\t9\\tpunct\\t_\\t_\\n13\\t,\\t,\\tPUNCT\\tPUN\\t_\\t9\\tpunct\\t_\\t_\\n14\\twhich\\twhich\\tDET\\tDTQ\\tPronType=Rel\\t15\\tnsubj\\t_\\t_\\n15\\tcaused\\tcause\\tVERB\\tVVD\\tMood=Ind|Person=3|Tense=Past|VerbForm=Fin\\t9\\tacl:relcl\\t_\\t_\\n16\\ther\\tshe\\tPROPN\\tPNP\\tPerson=3|PronType=Prs\\t15\\tobj\\t_\\t_\\n17\\tto\\tto\\tPART\\tTO0\\t_\\t18\\tmark\\t_\\t_\\n18\\tdrop\\tdrop\\tVERB\\tVVI\\tVerbForm=Inf\\t15\\txcomp\\t_\\t_\\n19\\ther\\tshe\\tDET\\tDPS\\tPoss=Yes|PronType=Prs\\t20\\tdet\\t_\\t_\\n20\\tgroceries\\tgrocery\\tNOUN\\tNN2\\tNumber=Plur\\t18\\tobj\\t_\\t_\\n21\\twhich\\twhich\\tDET\\tDTQ\\tPronType=Rel\\t22\\tnsubj\\t_\\t_\\n22\\trolled\\troll\\tVERB\\tVVD\\tMood=Ind|Person=3|Tense=Past|VerbForm=Fin\\t20\\tacl:relcl\\t_\\t_\\n23\\tinto\\tinto\\tADP\\tPRP\\t_\\t25\\tcase\\t_\\t_\\n24\\tthe\\tthe\\tDET\\tAT0\\tDefinite=Def|PronType=Art\\t25\\tdet\\t_\\t_\\n25\\tstreet\\tstreet\\tNOUN\\tNN1\\tNumber=Sing\\t22\\tobl\\t_\\t_\\n26\\t.\\t.\\tPUNCT\\tSENT\\t_\\t2\\tpunct\\t_\\t_\\n\\n1\\tAt\\tat\\tADP\\tPRP\\t_\\t4\\tcase\\t_\\t_\\n2\\tthe\\tthe\\tDET\\tAT0\\tDefinite=Def|PronType=Art\\t4\\tdet\\t_\\t_\\n3\\tsame\\tsame\\tADJ\\tAJ0\\tDegree=Pos\\t4\\tamod\\t_\\t_\\n4\\ttime\\ttime\\tNOUN\\tNN1\\tNumber=Sing\\t9\\tobl\\t_\\t_\\n5\\t,\\t,\\tPUNCT\\tPUN\\t_\\t9\\tpunct\\t_\\t_\\n6\\ttwo\\ttwo\\tNUM\\tCRD\\tNumType=Card\\t7\\tnummod\\t_\\t_\\n7\\tcars\\tcar\\tNOUN\\tNN2\\tNumber=Plur\\t9\\tnsubj\\t_\\t_\\n8\\twere\\tbe\\tAUX\\tVBD\\tMood=Ind|Number=Plur|Tense=Past|VerbForm=Fin\\t9\\taux\\t_\\t_\\n9\\tcoming\\tcome\\tVERB\\tVVG\\tVerbForm=Ger\\t0\\troot\\t_\\t_\\n10\\tdown\\tdown\\tADP\\tPRP\\t_\\t12\\tcase\\t_\\t_\\n11\\tthe\\tthe\\tDET\\tAT0\\tDefinite=Def|PronType=Art\\t12\\tdet\\t_\\t_\\n12\\tstreet\\tstreet\\tNOUN\\tNN1\\tNumber=Sing\\t9\\tobl\\t_\\t_\\n13\\t,\\t,\\tPUNCT\\tPUN\\t_\\t9\\tpunct\\t_\\t_\\n14\\ta\\ta\\tDET\\tAT0\\tDefinite=Ind|Number=Sing|PronType=Art\\t16\\tdet\\t_\\t_\\n15\\tblue\\tblue\\tADJ\\tAJ0\\tNumber=Sing\\t16\\tamod\\t_\\t_\\n16\\tone\\tone\\tPRON\\tPNI\\tNumType=Card\\t9\\tobl:npmod\\t_\\t_\\n17\\tand\\tand\\tCCONJ\\tCJC\\t_\\t20\\tcc\\t_\\t_\\n18\\ta\\ta\\tDET\\tAT0\\tDefinite=Ind|Number=Sing|PronType=Art\\t20\\tdet\\t_\\t_\\n19\\twhite\\twhite\\tADJ\\tAJ0\\tDegree=Pos\\t20\\tamod\\t_\\t_\\n20\\tone\\tone\\tPRON\\tPNI\\tNumType=Card\\t16\\tconj\\t_\\t_\\n21\\tbehind\\tbehind\\tADP\\tPRP\\tNumber=Sing\\t22\\tcase\\t_\\t_\\n22\\tit\\tit\\tPROPN\\tPNP\\tNumber=Sing|Person=3|PronType=Prs\\t20\\tnmod\\t_\\t_\\n23\\t.\\t.\\tPUNCT\\tSENT\\t_\\t9\\tpunct\\t_\\t_\\n\\n1\\tThe\\tthe\\tDET\\tAT0\\tDefinite=Def|PronType=Art\\t2\\tdet\\t_\\t_\\n2\\tblue\\tblue\\tADJ\\tAJ0\\tNumber=Sing\\t0\\troot\\t_\\t_\\n3\\tone\\tone\\tPRON\\tPNI\\tNumber=Sing|Person=3|PronType=Prs\\t4\\tnsubj\\t_\\t_\\n4\\tbraked\\tbrake\\tVERB\\tVVD\\tMood=Ind|Person=3|Tense=Past|VerbForm=Fin\\t2\\tacl:relcl\\t_\\t_\\n5\\tsharply\\tsharply\\tADV\\tAV0\\t_\\t7\\tadvmod\\t_\\t_\\n6\\tto\\tto\\tPART\\tTO0\\t_\\t7\\tmark\\t_\\t_\\n7\\tavoid\\tavoid\\tVERB\\tVVI\\tVerbForm=Inf\\t4\\txcomp\\t_\\t_\\n8\\thitting\\thit\\tVERB\\tVVG\\tVerbForm=Ger\\t7\\txcomp\\t_\\t_\\n9\\tthe\\tthe\\tDET\\tAT0\\tDefinite=Def|PronType=Art\\t10\\tdet\\t_\\t_\\n10\\tdog\\tdog\\tNOUN\\tNN1\\tNumber=Sing\\t8\\tobj\\t_\\t_\\n11\\tand\\tand\\tCCONJ\\tCJC\\t_\\t12\\tcc\\t_\\t_\\n12\\twoman\\twoman\\tNOUN\\tNN1\\tNumber=Sing\\t10\\tconj\\t_\\t_\\n\\n1\\tand\\tand\\tCCONJ\\tCJC\\t_\\t5\\tcc\\t_\\t_\\n2\\tthe\\tthe\\tDET\\tAT0\\tDefinite=Def|PronType=Art\\t4\\tdet\\t_\\t_\\n3\\twhite\\twhite\\tADJ\\tAJ0\\tDegree=Pos\\t4\\tamod\\t_\\t_\\n4\\tcar\\tcar\\tNOUN\\tNN1\\tNumber=Sing\\t5\\tnsubj\\t_\\t_\\n5\\trear-ended\\trear-end\\tVERB\\tVVD\\tMood=Ind|Person=3|Tense=Past|VerbForm=Fin\\t0\\troot\\t_\\t_\\n6\\tit\\tit\\tPROPN\\tPNP\\tNumber=Sing|Person=3|PronType=Prs\\t5\\tobj\\t_\\t_\\n7\\t.\\t.\\tPUNCT\\tSENT\\t_\\t5\\tpunct\\t_\\t_\\n\\n1\\tThe\\tthe\\tDET\\tAT0\\tDefinite=Def|PronType=Art\\t2\\tdet\\t_\\t_\\n2\\tdrivers\\tdriver\\tNOUN\\tNN2\\tNumber=Plur\\t6\\tnsubj\\t_\\t_\\n3\\tof\\tof\\tADP\\tPRF\\t_\\t5\\tcase\\t_\\t_\\n4\\tboth\\tboth\\tDET\\tDT0\\tPronType=Ind\\t5\\tdet\\t_\\t_\\n5\\tcars\\tcar\\tNOUN\\tNN2\\tNumber=Plur\\t2\\tnmod\\t_\\t_\\n6\\tstepped\\tstep\\tVERB\\tVVD\\tMood=Ind|Person=3|Tense=Past|VerbForm=Fin\\t0\\troot\\t_\\t_\\n7\\tout\\tout\\tADP\\tPRP\\t_\\t10\\tcase\\t_\\t_\\n8\\tof\\tof\\tADP\\tPRF\\t_\\t10\\tcase\\t_\\t_\\n9\\ttheir\\tthey\\tDET\\tDPS\\tPoss=Yes|PronType=Prs\\t10\\tdet\\t_\\t_\\n10\\tcars\\tcar\\tNOUN\\tNN2\\tNumber=Plur\\t6\\tobl\\t_\\t_\\n\\n1\\tand\\tand\\tCCONJ\\tCJC\\t_\\t3\\tcc\\t_\\t_\\n2\\tthe\\tthe\\tDET\\tAT0\\tDefinite=Def|PronType=Art\\t3\\tdet\\t_\\t_\\n3\\tdriver\\tdriver\\tNOUN\\tNN1\\tNumber=Sing\\t0\\troot\\t_\\t_\\n4\\tof\\tof\\tADP\\tPRF\\t_\\t7\\tcase\\t_\\t_\\n5\\tthe\\tthe\\tDET\\tAT0\\tDefinite=Def|PronType=Art\\t7\\tdet\\t_\\t_\\n6\\tblue\\tblue\\tADJ\\tAJ0\\tNumber=Sing\\t7\\tamod\\t_\\t_\\n7\\tcar\\tcar\\tNOUN\\tNN1\\tNumber=Sing\\t3\\tnmod\\t_\\t_\\n8\\tcalled\\tcall\\tVERB\\tVVD\\tTense=Past|VerbForm=Part\\t3\\tacl\\t_\\t_\\n9\\tthe\\tthe\\tDET\\tAT0\\tDefinite=Def|PronType=Art\\t10\\tdet\\t_\\t_\\n10\\tpolice\\tpolice\\tNOUN\\tNN0\\tNumber=Sing\\t8\\tobj\\t_\\t_\\n11\\t.\\t.\\tPUNCT\\tSENT\\t_\\t3\\tpunct\\t_\\t_\\n\\n1\\tThe\\tthe\\tDET\\tAT0\\tDefinite=Def|PronType=Art\\t2\\tdet\\t_\\t_\\n2\\tman\\tman\\tNOUN\\tNN1\\tGender=Masc|Number=Sing\\t8\\tnsubj\\t_\\t_\\n3\\twho\\twho\\tPRON\\tPNQ\\tPronType=Rel\\t5\\tnsubj\\t_\\t_\\n4\\thad\\thave\\tAUX\\tVHD\\tMood=Ind|Person=3|Tense=Past|VerbForm=Fin\\t5\\taux\\t_\\t_\\n5\\tdropped\\tdrop\\tVERB\\tVVN\\tTense=Past|VerbForm=Part\\t2\\tacl:relcl\\t_\\t_\\n6\\tthe\\tthe\\tDET\\tAT0\\tDefinite=Def|PronType=Art\\t7\\tdet\\t_\\t_\\n7\\tball\\tball\\tNOUN\\tNN1\\tNumber=Sing\\t5\\tobj\\t_\\t_\\n8\\thelped\\thelp\\tVERB\\tVVD\\tMood=Ind|Person=3|Tense=Past|VerbForm=Fin\\t0\\troot\\t_\\t_\\n9\\tthe\\tthe\\tDET\\tAT0\\tDefinite=Def|PronType=Art\\t10\\tdet\\t_\\t_\\n10\\twoman\\twoman\\tNOUN\\tNN1\\tDegree=Pos\\t11\\tnsubj\\t_\\t_\\n11\\tpick\\tpick\\tVERB\\tVVI\\tNumber=Sing\\t8\\tccomp\\t_\\t_\\n12\\tup\\tup\\tADP\\tAVP\\t_\\t11\\tcompound:prt\\t_\\t_\\n13\\ther\\tshe\\tDET\\tDPS\\tPoss=Yes|PronType=Prs\\t14\\tdet\\t_\\t_\\n14\\tgroceries\\tgrocery\\tNOUN\\tNN2\\tNumber=Plur\\t11\\tobj\\t_\\t_\\n\\n1\\tand\\tand\\tCCONJ\\tCJC\\t_\\t3\\tcc\\t_\\t_\\n2\\tthen\\tthen\\tADV\\tAV0\\t_\\t3\\tadvmod\\t_\\t_\\n3\\twent\\tgo\\tVERB\\tVVD\\tMood=Ind|Person=3|Tense=Past|VerbForm=Fin\\t0\\troot\\t_\\t_\\n4\\tover\\tover\\tADP\\tPRP\\t_\\t3\\tcompound:prt\\t_\\t_\\n5\\tto\\tto\\tADP\\tPRP\\t_\\t8\\tcase\\t_\\t_\\n6\\tthe\\tthe\\tDET\\tAT0\\tDefinite=Def|PronType=Art\\t8\\tdet\\t_\\t_\\n7\\ttwo\\ttwo\\tNUM\\tCRD\\tNumType=Card\\t8\\tnummod\\t_\\t_\\n8\\tdrivers\\tdriver\\tNOUN\\tNN2\\tNumber=Plur\\t3\\tobl\\t_\\t_\\n9\\t.\\t.\\tPUNCT\\tSENT\\t_\\t3\\tpunct\\t_\\t_\\n\\n')]"
      ]
     },
     "execution_count": 500,
     "metadata": {},
     "output_type": "execute_result"
    }
   ],
   "source": [
    "en_bi_texts[:3]"
   ]
  },
  {
   "cell_type": "code",
   "execution_count": 501,
   "id": "98ef1d30",
   "metadata": {},
   "outputs": [],
   "source": [
    "en_bi_texts = [x[1] for x in en_bi_texts]\n",
    "en_mono_texts = [x[1] for x in en_mono_texts]\n",
    "de_bi_texts = [x[1] for x in de_bi_texts]\n",
    "de_mono_texts = [x[1] for x in de_mono_texts]"
   ]
  },
  {
   "cell_type": "code",
   "execution_count": 502,
   "id": "86e9b170",
   "metadata": {},
   "outputs": [],
   "source": [
    "# ebi_con_str = []\n",
    "# [parseEnTexts(x, ebi_con_str) for x in en_bi_texts]"
   ]
  },
  {
   "cell_type": "markdown",
   "id": "70a1efe9",
   "metadata": {},
   "source": [
    "This causes and error that says:\n",
    "\n",
    "`pos` value \"_\" is not a valid Universal Dependencies tag. Non-UD tags should use the `tag` property.\n",
    "\n",
    "That's definitely a problem, but let's see what other corpora have problems before we go onto cleaning the conLL"
   ]
  },
  {
   "cell_type": "code",
   "execution_count": 503,
   "id": "d3730d51",
   "metadata": {},
   "outputs": [
    {
     "data": {
      "text/plain": [
       "['1\\tso\\tso\\tINTJ\\tITJ\\t_\\t11\\tdiscourse\\t_\\t_\\n2\\tI\\ti\\tPROPN\\tPNP\\tNumber=Sing|Person=1|PronType=Prs\\t11\\tnsubj\\t_\\t_\\n3\\tjust\\tjust\\tADV\\tAV0\\t_\\t11\\tadvmod\\t_\\t_\\n4\\tso\\tso\\tINTJ\\tITJ\\t_\\t11\\tdiscourse\\t_\\t_\\n5\\tI\\ti\\tPROPN\\tPNP\\tNumber=Sing|Person=1|PronType=Prs\\t11\\tnsubj\\t_\\t_\\n6\\twas\\tbe\\tAUX\\tVBD\\tMood=Ind|Number=Sing|Person=3|Tense=Past|VerbForm=Fin\\t11\\tcop\\t_\\t_\\n7\\tjust\\tjust\\tADV\\tAV0\\tDegree=Pos\\t11\\tadvmod\\t_\\t_\\n8\\tin\\tin\\tADP\\tPRP\\t_\\t11\\tcase\\t_\\t_\\n9\\ta\\ta\\tDET\\tAT0\\tDefinite=Ind|Number=Sing|PronType=Art\\t11\\tdet\\t_\\t_\\n10\\tparking\\tparking\\tNOUN\\tNN1\\tNumber=Sing\\t11\\tcompound\\t_\\t_\\n11\\tlot\\tlot\\tNOUN\\tNN1\\t_\\t0\\troot\\t_\\t_\\n\\n1\\tand\\tand\\tCCONJ\\tCJC\\t_\\t3\\tcc\\t_\\t_\\n2\\tI\\ti\\tPROPN\\tPNP\\tNumber=Sing|Person=1|PronType=Prs\\t3\\tnsubj\\t_\\t_\\n3\\tsaw\\tsee\\tVERB\\tVVD\\tMood=Ind|Person=3|Tense=Past|VerbForm=Fin\\t0\\troot\\t_\\t_\\n4\\tI\\ti\\tPROPN\\tPNP\\tNumber=Sing|Person=1|PronType=Prs\\t5\\tnsubj\\t_\\t_\\n5\\tsaw\\tsee\\tVERB\\tVVD\\tMood=Ind|Person=3|Tense=Past|VerbForm=Fin\\t3\\tccomp\\t_\\t_\\n6\\tprobably\\tprobably\\tADV\\tAV0\\t_\\t7\\tadvmod\\t_\\t_\\n7\\tone\\tone\\tNUM\\tCRD\\tNumType=Card\\t5\\tobj\\t_\\t_\\n8\\tof\\tof\\tADP\\tPRF\\t_\\t11\\tcase\\t_\\t_\\n9\\tthe\\tthe\\tDET\\tAT0\\tDefinite=Def|PronType=Art\\t11\\tdet\\t_\\t_\\n10\\tstupidest\\tstupid\\tADJ\\tAJS\\tDegree=Sup\\t11\\tamod\\t_\\t_\\n11\\taccidents\\taccident\\tNOUN\\tNN2\\tNumber=Plur\\t7\\tnmod\\t_\\t_\\n12\\tI\\ti\\tPROPN\\tPNP\\tNumber=Sing|Person=1|PronType=Prs\\t15\\tnsubj\\t_\\t_\\n13\\thave\\thave\\tAUX\\tVHB\\tMood=Ind|Number=Plur|Tense=Pres|VerbForm=Fin\\t15\\taux\\t_\\t_\\n14\\tever\\tever\\tADV\\tAV0\\t_\\t15\\tadvmod\\t_\\t_\\n15\\tseen\\tsee\\tVERB\\tVVN\\tTense=Past|VerbForm=Part\\t11\\tacl:relcl\\t_\\t_\\n\\n1\\tthis\\tthis\\tDET\\tDT0\\tNumber=Sing|PronType=Dem\\t3\\tdet\\t_\\t_\\n2\\tthis\\tthis\\tDET\\tDT0\\tNumber=Sing|PronType=Dem\\t3\\tdet\\t_\\t_\\n3\\tcouple\\tcouple\\tNOUN\\tNN1\\tNumber=Sing\\t8\\tobl:tmod\\t_\\t_\\n4\\tthis\\tthis\\tDET\\tDT0\\tNumber=Sing|PronType=Dem\\t5\\tdet\\t_\\t_\\n5\\tcouple\\tcouple\\tNOUN\\tNN1\\tMood=Ind|Number=Plur|Tense=Pres|VerbForm=Fin\\t8\\tobl:tmod\\t_\\t_\\n6\\ttheir\\tthey\\tDET\\tDPS\\tPoss=Yes|PronType=Prs\\t7\\tdet\\t_\\t_\\n7\\tdog\\tdog\\tNOUN\\tNN1\\tNumber=Sing\\t8\\tnsubj\\t_\\t_\\n8\\tran\\trun\\tVERB\\tVVD\\tNumber=Sing\\t0\\troot\\t_\\t_\\n9\\tinto\\tinto\\tADP\\tPRP\\t_\\t11\\tcase\\t_\\t_\\n10\\tthe\\tthe\\tDET\\tAT0\\tDefinite=Def|PronType=Art\\t11\\tdet\\t_\\t_\\n11\\tstreet\\tstreet\\tNOUN\\tNN1\\tNumber=Sing\\t8\\tobl\\t_\\t_\\n12\\tand\\tand\\tCCONJ\\tCJC\\t_\\t18\\tcc\\t_\\t_\\n13\\twhile\\twhile\\tSCONJ\\tCJS\\t_\\t18\\tmark\\t_\\t_\\n14\\tthere\\tthere\\tADV\\tEX0\\t_\\t18\\texpl\\t_\\t_\\n15\\twere\\tbe\\tAUX\\tVBD\\tMood=Ind|Number=Plur|Tense=Past|VerbForm=Fin\\t18\\tcop\\t_\\t_\\n16\\ttwo\\ttwo\\tNUM\\tCRD\\tNumType=Card\\t17\\tnummod\\t_\\t_\\n17\\tcars\\tcar\\tNOUN\\tNN2\\tNumber=Plur\\t18\\tnsubj\\t_\\t_\\n18\\tpulling\\tpull\\tVERB\\tVVG\\tNumber=Sing|Tense=Pres|VerbForm=Part\\t8\\tconj\\t_\\t_\\n19\\tinto\\tinto\\tADP\\tPRP\\t_\\t21\\tcase\\t_\\t_\\n20\\tthe\\tthe\\tDET\\tAT0\\tDefinite=Def|PronType=Art\\t21\\tdet\\t_\\t_\\n21\\tlot\\tlot\\tNOUN\\tNN1\\tNumber=Sing\\t18\\tobl\\t_\\t_\\n\\n1\\tand\\tand\\tCCONJ\\tCJC\\t_\\t8\\tcc\\t_\\t_\\n2\\tone\\tone\\tPRON\\tPNI\\tNumber=Plur|PronType=Ind\\t8\\tnsubj\\t_\\t_\\n3\\twas\\tbe\\tAUX\\tVBD\\tMood=Ind|Number=Sing|Person=3|Tense=Past|VerbForm=Fin\\t4\\taux\\t_\\t_\\n4\\tgoing\\tgo\\tVERB\\tVVG\\tVerbForm=Ger\\t8\\tcsubj\\t_\\t_\\n5\\tso\\tso\\tADV\\tAV0\\t_\\t6\\tadvmod\\t_\\t_\\n6\\tfast\\tfast\\tADV\\tAV0\\tDegree=Sup\\t4\\tadvmod\\t_\\t_\\n7\\the\\the\\tPROPN\\tPNP\\tGender=Masc|Number=Sing|Person=3|PronType=Prs\\t8\\tnsubj\\t_\\t_\\n8\\tbumped\\tbump\\tVERB\\tVVD\\tMood=Ind|Person=3|Tense=Past|VerbForm=Fin\\t0\\troot\\t_\\t_\\n9\\tinto\\tinto\\tADP\\tPRP\\t_\\t12\\tcase\\t_\\t_\\n10\\tthe\\tthe\\tDET\\tAT0\\tDefinite=Def|PronType=Art\\t12\\tdet\\t_\\t_\\n11\\tother\\tother\\tADJ\\tAJ0\\tDegree=Pos\\t12\\tamod\\t_\\t_\\n12\\tone\\tone\\tPRON\\tPNI\\tNumType=Card\\t8\\tobl\\t_\\t_\\n13\\twhen\\twhen\\tSCONJ\\tCJS\\t_\\t16\\tmark\\t_\\t_\\n14\\tthe\\tthe\\tDET\\tAT0\\tDefinite=Def|PronType=Art\\t15\\tdet\\t_\\t_\\n15\\tfirst\\tfirst\\tADJ\\tORD\\tDegree=Pos|NumType=Ord\\t16\\tnsubj\\t_\\t_\\n16\\tstopped\\tstop\\tVERB\\tVVD\\tMood=Ind|Person=3|Tense=Past|VerbForm=Fin\\t8\\tadvcl\\t_\\t_\\n\\n', '1\\tHi\\thi\\tINTJ\\tITJ\\tDegree=Pos|NumType=Ord\\t0\\troot\\t_\\t_\\n2\\tPhin\\tphin\\tNOUN\\tNP0\\t_\\t1\\tvocative\\t_\\t_\\n3\\t!\\t!\\tPUNCT\\tSENT\\t_\\t1\\tpunct\\t_\\t_\\n\\n1\\tOh\\toh\\tINTJ\\tITJ\\t_\\t3\\tdiscourse\\t_\\t_\\n2\\tmy\\ti\\tDET\\tDPS\\tNumber=Sing|Poss=Yes|PronType=Prs\\t3\\tdet\\t_\\t_\\n3\\tgosh\\tgosh\\tINTJ\\tITJ\\tNumber=Sing\\t0\\troot\\t_\\t_\\n\\n1\\tI\\ti\\tPROPN\\tPNP\\tNumber=Sing|Person=1|PronType=Prs\\t3\\tnsubj\\t_\\t_\\n2\\tjust\\tjust\\tADV\\tAV0\\t_\\t3\\tadvmod\\t_\\t_\\n3\\tsaw\\tsee\\tVERB\\tVVD\\tMood=Ind|Person=3|Tense=Past|VerbForm=Fin\\t0\\troot\\t_\\t_\\n4\\ta\\ta\\tDET\\tAT0\\tDefinite=Ind|Number=Sing|PronType=Art\\t6\\tdet\\t_\\t_\\n5\\tcar\\tcar\\tNOUN\\tNN1\\tDegree=Pos\\t6\\tcompound\\t_\\t_\\n6\\taccident\\taccident\\tNOUN\\tNN1\\tNumber=Sing\\t3\\tobj\\t_\\t_\\n7\\t.\\t.\\tPUNCT\\tSENT\\t_\\t3\\tpunct\\t_\\t_\\n\\n1\\tThis\\tthis\\tDET\\tDT0\\tNumber=Sing|PronType=Dem\\t2\\tdet\\t_\\t_\\n2\\tball\\tball\\tNOUN\\tNN1\\tNumber=Sing\\t3\\tnsubj\\t_\\t_\\n3\\trolled\\troll\\tVERB\\tVVD\\tMood=Ind|Person=3|Tense=Past|VerbForm=Fin\\t0\\troot\\t_\\t_\\n4\\tinto\\tinto\\tADP\\tPRP\\t_\\t6\\tcase\\t_\\t_\\n5\\tthe\\tthe\\tDET\\tAT0\\tDefinite=Def|PronType=Art\\t6\\tdet\\t_\\t_\\n6\\troad\\troad\\tNOUN\\tNN1\\tNumber=Sing\\t3\\tobl\\t_\\t_\\n\\n1\\tand\\tand\\tCCONJ\\tCJC\\t_\\t4\\tcc\\t_\\t_\\n2\\ta\\ta\\tDET\\tAT0\\tDefinite=Ind|Number=Sing|PronType=Art\\t3\\tdet\\t_\\t_\\n3\\tdog\\tdog\\tNOUN\\tNN1\\tNumber=Sing\\t4\\tnsubj\\t_\\t_\\n4\\twent\\tgo\\tVERB\\tVVD\\tMood=Ind|Person=3|Tense=Past|VerbForm=Fin\\t0\\troot\\t_\\t_\\n5\\tafter\\tafter\\tADP\\tPRP\\t_\\t6\\tcase\\t_\\t_\\n6\\tit\\tit\\tPROPN\\tPNP\\tNumber=Sing|Person=3|PronType=Prs\\t4\\tobl\\t_\\t_\\n7\\t,\\t,\\tPUNCT\\tPUN\\t_\\t4\\tpunct\\t_\\t_\\n\\n1\\tthen\\tthen\\tADV\\tAV0\\t_\\t4\\tadvmod\\t_\\t_\\n2\\tthe\\tthe\\tDET\\tAT0\\tDefinite=Def|PronType=Art\\t3\\tdet\\t_\\t_\\n3\\tcar\\tcar\\tNOUN\\tNN1\\tNumber=Sing\\t4\\tnsubj\\t_\\t_\\n4\\tcoming\\tcome\\tVERB\\tVVG\\tNumber=Sing|Tense=Pres|VerbForm=Part\\t0\\troot\\t_\\t_\\n5\\tby\\tby\\tADP\\tAVP\\t_\\t6\\tcase\\t_\\t_\\n6\\tput\\tput\\tVERB\\tVVD\\tNumber=Sing\\t9\\tobl\\t_\\t_\\n7\\ton\\ton\\tADP\\tPRP\\t_\\t9\\tcase\\t_\\t_\\n8\\tits\\tit\\tDET\\tDPS\\tNumber=Sing|Poss=Yes|PronType=Prs\\t9\\tdet\\t_\\t_\\n9\\tbrakes\\tbrake\\tNOUN\\tNN2\\tNumber=Plur\\t4\\tobl\\t_\\t_\\n10\\treally\\treally\\tADV\\tAV0\\t_\\t11\\tadvmod\\t_\\t_\\n11\\tabruptly\\tabruptly\\tADV\\tAV0\\t_\\t9\\tadvmod\\t_\\t_\\n\\n1\\tand\\tand\\tCCONJ\\tCJC\\t_\\t7\\tcc\\t_\\t_\\n2\\tthe\\tthe\\tDET\\tAT0\\tDefinite=Def|PronType=Art\\t3\\tdet\\t_\\t_\\n3\\tone\\tone\\tPRON\\tPNI\\tNumType=Card\\t7\\tnsubj\\t_\\t_\\n4\\tbehind\\tbehind\\tADP\\tPRP\\tNumber=Sing\\t5\\tcase\\t_\\t_\\n5\\tit\\tit\\tPROPN\\tPNP\\tNumber=Sing|Person=3|PronType=Prs\\t3\\tnmod\\t_\\t_\\n6\\ttotally\\ttotally\\tADV\\tAV0\\t_\\t7\\tadvmod\\t_\\t_\\n7\\tgot\\tget\\tVERB\\tVVD\\t_\\t0\\troot\\t_\\t_\\n8\\tcrunched\\tcrunch\\tVERB\\tVVN\\tTense=Past|VerbForm=Part\\t7\\txcomp\\t_\\t_\\n9\\t.\\t.\\tPUNCT\\tSENT\\t_\\t7\\tpunct\\t_\\t_\\n\\n1\\tMaybe\\tmaybe\\tADV\\tAV0\\t_\\t4\\tadvmod\\t_\\t_\\n2\\tthey\\tthey\\tPROPN\\tPNP\\tNumber=Plur|Person=3|PronType=Prs\\t4\\tnsubj\\t_\\t_\\n3\\tboth\\tboth\\tDET\\tDT0\\tPronType=Ind\\t4\\tdet\\t_\\t_\\n4\\tgot\\tget\\tVERB\\tVVD\\t_\\t0\\troot\\t_\\t_\\n5\\tcrunched\\tcrunch\\tVERB\\tVVN\\tTense=Past|VerbForm=Part\\t4\\txcomp\\t_\\t_\\n6\\t.\\t.\\tPUNCT\\tSENT\\t_\\t4\\tpunct\\t_\\t_\\n\\n1\\tAnyway\\tanyway\\tADV\\tAV0\\t_\\t4\\tadvmod\\t_\\t_\\n2\\t,\\t,\\tPUNCT\\tPUN\\t_\\t4\\tpunct\\t_\\t_\\n3\\tjust\\tjust\\tADV\\tAV0\\t_\\t4\\tadvmod\\t_\\t_\\n4\\twanted\\twant\\tVERB\\tVVD\\tMood=Ind|Person=3|Tense=Past|VerbForm=Fin\\t0\\troot\\t_\\t_\\n5\\tto\\tto\\tPART\\tTO0\\t_\\t6\\tmark\\t_\\t_\\n6\\ttell\\ttell\\tVERB\\tVVI\\tVerbForm=Inf\\t4\\txcomp\\t_\\t_\\n7\\tyou\\tyou\\tPROPN\\tPNP\\tPerson=2|PronType=Prs\\t6\\tobj\\t_\\t_\\n8\\tabout\\tabout\\tADP\\tPRP\\t_\\t9\\tcase\\t_\\t_\\n9\\tit\\tit\\tPROPN\\tPNP\\tNumber=Sing|Person=3|PronType=Prs\\t6\\tobl\\t_\\t_\\n10\\t.\\t.\\tPUNCT\\tSENT\\t_\\t4\\tpunct\\t_\\t_\\n\\n1\\tGood\\tgood\\tADJ\\tAJ0\\tMood=Ind|Person=3|Tense=Past|VerbForm=Fin\\t2\\tamod\\t_\\t_\\n2\\tthing\\tthing\\tNOUN\\tNN1\\tNumber=Sing\\t0\\troot\\t_\\t_\\n3\\tit\\tit\\tPROPN\\tPNP\\tNumber=Sing|Person=3|PronType=Prs\\t7\\tnsubj\\t_\\t_\\n4\\twas\\tbe\\tAUX\\tVBD\\tMood=Ind|Number=Sing|Person=3|Tense=Past|VerbForm=Fin\\t7\\tcop\\t_\\t_\\n5\\tnot\\tnot\\tPART\\tXX0\\t_\\t7\\tadvmod\\t_\\t_\\n6\\tyour\\tyou\\tDET\\tDPS\\tPoss=Yes|PronType=Prs\\t7\\tdet\\t_\\t_\\n7\\tcar\\tcar\\tNOUN\\tNN1\\tNumber=Sing\\t2\\tacl:relcl\\t_\\t_\\n8\\t!\\t!\\tPUNCT\\tSENT\\t_\\t2\\tpunct\\t_\\t_\\n\\n', \"1\\tI\\ti\\tPROPN\\tPNP\\tNumber=Sing|Person=1|PronType=Prs\\t3\\tnsubj\\t_\\t_\\n2\\twas\\tbe\\tAUX\\tVBD\\tMood=Ind|Number=Sing|Person=3|Tense=Past|VerbForm=Fin\\t3\\taux\\t_\\t_\\n3\\tstanding\\tstand\\tVERB\\tVVG\\tVerbForm=Ger\\t0\\troot\\t_\\t_\\n4\\tin\\tin\\tADP\\tPRP\\t_\\t7\\tcase\\t_\\t_\\n5\\ta\\ta\\tDET\\tAT0\\tDefinite=Ind|Number=Sing|PronType=Art\\t7\\tdet\\t_\\t_\\n6\\tparking\\tparking\\tNOUN\\tNN1\\tNumber=Sing\\t7\\tcompound\\t_\\t_\\n7\\tlot\\tlot\\tNOUN\\tNN1\\tNumber=Sing\\t3\\tobl\\t_\\t_\\n8\\t.\\t.\\tPUNCT\\tSENT\\t_\\t3\\tpunct\\t_\\t_\\n\\n1\\tThere\\tthere\\tADV\\tEX0\\t_\\t4\\tadvmod\\t_\\t_\\n2\\twas\\tbe\\tAUX\\tVBD\\tMood=Ind|Number=Sing|Person=3|Tense=Past|VerbForm=Fin\\t4\\tcop\\t_\\t_\\n3\\ta\\ta\\tDET\\tAT0\\tDefinite=Ind|Number=Sing|PronType=Art\\t4\\tdet\\t_\\t_\\n4\\twoman\\twoman\\tNOUN\\tNN1\\tNumber=Sing\\t0\\troot\\t_\\t_\\n5\\twith\\twith\\tADP\\tPRP\\t_\\t7\\tcase\\t_\\t_\\n6\\ta\\ta\\tDET\\tAT0\\tDefinite=Ind|Number=Sing|PronType=Art\\t7\\tdet\\t_\\t_\\n7\\tdog\\tdog\\tNOUN\\tNN1\\tNumber=Sing\\t4\\tnmod\\t_\\t_\\n8\\tloading\\tload\\tVERB\\tVVG\\tNumber=Sing|Tense=Pres|VerbForm=Part\\t4\\tacl\\t_\\t_\\n9\\ther\\ther\\tDET\\tDPS\\tPoss=Yes|PronType=Prs\\t10\\tdet\\t_\\t_\\n10\\tcar\\tcar\\tNOUN\\tNN1\\tNumber=Sing\\t8\\tobj\\t_\\t_\\n11\\twith\\twith\\tADP\\tPRP\\t_\\t12\\tcase\\t_\\t_\\n12\\tgroceries\\tgrocery\\tNOUN\\tNN2\\tNumber=Plur\\t8\\tobl\\t_\\t_\\n13\\ton\\ton\\tADP\\tPRP\\t_\\t15\\tcase\\t_\\t_\\n14\\tone\\tone\\tNUM\\tCRD\\tNumType=Card\\t15\\tnummod\\t_\\t_\\n15\\tside\\tside\\tNOUN\\tNN1\\tMood=Ind|Number=Sing|Person=1|Tense=Pres|VerbForm=Fin\\t12\\tnmod\\t_\\t_\\n\\n1\\tand\\tand\\tCCONJ\\tCJC\\t_\\t6\\tcc\\t_\\t_\\n2\\ta\\ta\\tDET\\tAT0\\tDefinite=Ind|Number=Sing|PronType=Art\\t3\\tdet\\t_\\t_\\n3\\tman\\tman\\tNOUN\\tNN1\\tGender=Masc|Number=Sing\\t6\\tnsubj\\t_\\t_\\n4\\tand\\tand\\tCCONJ\\tCJC\\t_\\t5\\tcc\\t_\\t_\\n5\\twoman\\twoman\\tNOUN\\tNN1\\tNumber=Sing\\t3\\tconj\\t_\\t_\\n6\\twalking\\twalk\\tVERB\\tVVG\\tNumber=Sing|Tense=Pres|VerbForm=Part\\t0\\troot\\t_\\t_\\n7\\twith\\twith\\tADP\\tPRP\\t_\\t9\\tcase\\t_\\t_\\n8\\ta\\ta\\tDET\\tAT0\\tDefinite=Ind|Number=Sing|PronType=Art\\t9\\tdet\\t_\\t_\\n9\\tstroller\\tstroller\\tNOUN\\tNN1\\tDegree=Cmp\\t6\\tobl\\t_\\t_\\n\\n1\\tand\\tand\\tCCONJ\\tCJC\\t_\\t3\\tcc\\t_\\t_\\n2\\ta\\ta\\tDET\\tAT0\\tDefinite=Ind|Number=Sing|PronType=Art\\t3\\tdet\\t_\\t_\\n3\\tball\\tball\\tNOUN\\tNN1\\tNumber=Sing\\t0\\troot\\t_\\t_\\n4\\ton\\ton\\tADP\\tPRP\\t_\\t6\\tcase\\t_\\t_\\n5\\tthe\\tthe\\tDET\\tAT0\\tDefinite=Def|PronType=Art\\t6\\tdet\\t_\\t_\\n6\\tother\\tother\\tADJ\\tAJ0\\tNumber=Sing|PronType=Ind\\t3\\tnmod\\t_\\t_\\n7\\t.\\t.\\tPUNCT\\tSENT\\t_\\t3\\tpunct\\t_\\t_\\n\\n1\\tRight\\tright\\tADV\\tAV0\\t_\\t8\\tadvmod\\t_\\t_\\n2\\tas\\tas\\tSCONJ\\tCJS\\t_\\t8\\tmark\\t_\\t_\\n3\\ttwo\\ttwo\\tNUM\\tCRD\\tNumType=Card\\t4\\tnummod\\t_\\t_\\n4\\tcars\\tcar\\tNOUN\\tNN2\\tNumber=Plur\\t8\\tnsubj\\t_\\t_\\n5\\twere\\tbe\\tAUX\\tVBD\\tMood=Ind|Number=Plur|Tense=Past|VerbForm=Fin\\t8\\tcop\\t_\\t_\\n6\\tabout\\tabout\\tADP\\tAVP\\tTense=Past|VerbForm=Part\\t8\\tadvmod\\t_\\t_\\n7\\tto\\tto\\tPART\\tTO0\\t_\\t8\\tmark\\t_\\t_\\n8\\tdrive\\tdrive\\tVERB\\tVVI\\tVerbForm=Inf\\t15\\tadvcl\\t_\\t_\\n9\\tthrough\\tthrough\\tADP\\tPRP\\t_\\t12\\tcase\\t_\\t_\\n10\\tthe\\tthe\\tDET\\tAT0\\tDefinite=Def|PronType=Art\\t12\\tdet\\t_\\t_\\n11\\tparking\\tparking\\tNOUN\\tNN1\\tNumber=Sing\\t12\\tcompound\\t_\\t_\\n12\\tlot\\tlot\\tNOUN\\tNN1\\tNumber=Sing\\t8\\tobl\\t_\\t_\\n13\\t,\\t,\\tPUNCT\\tPUN\\t_\\t15\\tpunct\\t_\\t_\\n14\\tthe\\tthe\\tDET\\tAT0\\tDefinite=Def|PronType=Art\\t15\\tdet\\t_\\t_\\n15\\tman\\tman\\tNOUN\\tNN1\\tGender=Masc|Number=Sing\\t0\\troot\\t_\\t_\\n16\\tlet\\tlet\\tVERB\\tVVD\\tTense=Past|VerbForm=Part\\t15\\tacl\\t_\\t_\\n17\\this\\this\\tDET\\tDPS\\tPoss=Yes|PronType=Prs\\t18\\tdet\\t_\\t_\\n18\\tball\\tball\\tNOUN\\tNN1\\tNumber=Sing\\t16\\tobj\\t_\\t_\\n19\\troll\\troll\\tVERB\\tVVI\\tNumber=Sing\\t16\\txcomp\\t_\\t_\\n20\\tinto\\tinto\\tADP\\tPRP\\t_\\t22\\tcase\\t_\\t_\\n21\\tthe\\tthe\\tDET\\tAT0\\tDefinite=Def|PronType=Art\\t22\\tdet\\t_\\t_\\n22\\tstreet\\tstreet\\tNOUN\\tNN1\\tNumber=Sing\\t19\\tobl\\t_\\t_\\n23\\t,\\t,\\tPUNCT\\tPUN\\t_\\t15\\tpunct\\t_\\t_\\n\\n1\\tand\\tand\\tCCONJ\\tCJC\\t_\\t4\\tcc\\t_\\t_\\n2\\tthe\\tthe\\tDET\\tAT0\\tDefinite=Def|PronType=Art\\t3\\tdet\\t_\\t_\\n3\\tdog\\tdog\\tNOUN\\tNN1\\tNumber=Sing\\t4\\tnsubj\\t_\\t_\\n4\\tran\\trun\\tVERB\\tVVD\\tMood=Ind|Person=3|Tense=Past|VerbForm=Fin\\t0\\troot\\t_\\t_\\n5\\tinto\\tinto\\tADP\\tPRP\\t_\\t7\\tcase\\t_\\t_\\n6\\tthe\\tthe\\tDET\\tAT0\\tDefinite=Def|PronType=Art\\t7\\tdet\\t_\\t_\\n7\\tstreet\\tstreet\\tNOUN\\tNN1\\tNumber=Sing\\t4\\tobl\\t_\\t_\\n8\\tto\\tto\\tPART\\tTO0\\t_\\t9\\tmark\\t_\\t_\\n9\\tchase\\tchase\\tVERB\\tVVI\\tVerbForm=Inf\\t4\\tadvcl\\t_\\t_\\n10\\tit\\tit\\tPROPN\\tPNP\\tNumber=Sing|Person=3|PronType=Prs\\t9\\tobj\\t_\\t_\\n11\\t.\\t.\\tPUNCT\\tSENT\\t_\\t4\\tpunct\\t_\\t_\\n\\n1\\tThe\\tthe\\tDET\\tAT0\\tDefinite=Def|PronType=Art\\t2\\tdet\\t_\\t_\\n2\\tcars\\tcar\\tNOUN\\tNN2\\tNumber=Plur\\t4\\tnsubj\\t_\\t_\\n3\\tboth\\tboth\\tADV\\tAV0\\t_\\t4\\tadvmod\\t_\\t_\\n4\\tstopped\\tstop\\tVERB\\tVVD\\tMood=Ind|Person=3|Tense=Past|VerbForm=Fin\\t0\\troot\\t_\\t_\\n5\\tabruptly\\tabruptly\\tADV\\tAV0\\t_\\t7\\tadvmod\\t_\\t_\\n6\\tto\\tto\\tPART\\tTO0\\t_\\t7\\tmark\\t_\\t_\\n7\\tavoid\\tavoid\\tVERB\\tVVI\\tVerbForm=Inf\\t4\\tadvcl\\t_\\t_\\n8\\thitting\\thit\\tVERB\\tVVG\\tVerbForm=Ger\\t7\\txcomp\\t_\\t_\\n9\\tthe\\tthe\\tDET\\tAT0\\tDefinite=Def|PronType=Art\\t10\\tdet\\t_\\t_\\n10\\tdog\\tdog\\tNOUN\\tNN1\\tNumber=Sing\\t8\\tobj\\t_\\t_\\n11\\t,\\t,\\tPUNCT\\tPUN\\t_\\t4\\tpunct\\t_\\t_\\n\\n1\\tand\\tand\\tCCONJ\\tCJC\\t_\\t5\\tcc\\t_\\t_\\n2\\tthe\\tthe\\tDET\\tAT0\\tDefinite=Def|PronType=Art\\t4\\tdet\\t_\\t_\\n3\\tsecond\\tsecond\\tADJ\\tORD\\tDegree=Pos|NumType=Ord\\t4\\tamod\\t_\\t_\\n4\\tcar\\tcar\\tNOUN\\tNN1\\tNumber=Sing\\t5\\tnsubj\\t_\\t_\\n5\\thit\\thit\\tVERB\\tVVD\\tTense=Past|VerbForm=Part\\t0\\troot\\t_\\t_\\n6\\tthe\\tthe\\tDET\\tAT0\\tDefinite=Def|PronType=Art\\t8\\tdet\\t_\\t_\\n7\\tfirst\\tfirst\\tADJ\\tORD\\tDegree=Pos|NumType=Ord\\t8\\tamod\\t_\\t_\\n8\\tcar\\tcar\\tNOUN\\tNN1\\tNumber=Sing\\t10\\tnmod:poss\\t_\\t_\\n9\\t's\\t's\\tPART\\tPOS\\t_\\t8\\tcase\\t_\\t_\\n10\\tbender\\tbender\\tNOUN\\tNN1\\tNumber=Sing\\t5\\tobj\\t_\\t_\\n11\\t.\\t.\\tPUNCT\\tSENT\\t_\\t5\\tpunct\\t_\\t_\\n\\n1\\tThe\\tthe\\tDET\\tAT0\\tDefinite=Def|PronType=Art\\t2\\tdet\\t_\\t_\\n2\\tman\\tman\\tNOUN\\tNN1\\tGender=Masc|Number=Sing\\t3\\tnsubj\\t_\\t_\\n3\\tran\\trun\\tVERB\\tVVD\\tMood=Ind|Person=3|Tense=Past|VerbForm=Fin\\t0\\troot\\t_\\t_\\n4\\tto\\tto\\tPART\\tTO0\\t_\\t5\\tmark\\t_\\t_\\n5\\tget\\tget\\tVERB\\tVVI\\tVerbForm=Inf\\t3\\txcomp\\t_\\t_\\n6\\this\\the\\tDET\\tDPS\\tPoss=Yes|PronType=Prs\\t7\\tdet\\t_\\t_\\n7\\tball\\tball\\tNOUN\\tNN1\\tNumber=Sing\\t5\\tobj\\t_\\t_\\n8\\tback\\tback\\tADP\\tAVP\\t_\\t5\\tcompound:prt\\t_\\t_\\n\\n1\\tand\\tand\\tCCONJ\\tCJC\\t_\\t2\\tcc\\t_\\t_\\n2\\thelp\\thelp\\tVERB\\tVVI\\tVerbForm=Inf\\t0\\troot\\t_\\t_\\n3\\tto\\tto\\tPART\\tTO0\\t_\\t6\\tmark\\t_\\t_\\n4\\tthe\\tthe\\tDET\\tAT0\\tDefinite=Def|PronType=Art\\t5\\tdet\\t_\\t_\\n5\\twoman\\twoman\\tNOUN\\tNN1\\tDegree=Pos\\t6\\tnsubj\\t_\\t_\\n6\\tpick\\tpick\\tVERB\\tVVI\\tNumber=Sing\\t2\\txcomp\\t_\\t_\\n7\\tup\\tup\\tADP\\tAVP\\t_\\t6\\tcompound:prt\\t_\\t_\\n8\\ther\\ther\\tDET\\tDPS\\tPoss=Yes|PronType=Prs\\t9\\tdet\\t_\\t_\\n9\\tgroceries\\tgrocery\\tNOUN\\tNN2\\tNumber=Plur\\t6\\tobj\\t_\\t_\\n10\\t,\\t,\\tPUNCT\\tPUN\\t_\\t2\\tpunct\\t_\\t_\\n\\n1\\tand\\tand\\tCCONJ\\tCJC\\t_\\t5\\tcc\\t_\\t_\\n2\\tthe\\tthe\\tDET\\tAT0\\tDefinite=Def|PronType=Art\\t5\\tdet\\t_\\t_\\n3\\ttwo\\ttwo\\tNUM\\tCRD\\tNumType=Card\\t5\\tnummod\\t_\\t_\\n4\\tcar\\tcar\\tNOUN\\tNN1\\tDegree=Pos\\t5\\tcompound\\t_\\t_\\n5\\tdrivers\\tdriver\\tNOUN\\tNN2\\tNumber=Plur\\t0\\troot\\t_\\t_\\n6\\t,\\t,\\tPUNCT\\tPUN\\t_\\t5\\tpunct\\t_\\t_\\n7\\tboth\\tboth\\tDET\\tDT0\\t_\\t8\\tdet\\t_\\t_\\n8\\tmen\\tman\\tNOUN\\tNN2\\tGender=Masc|Number=Plur\\t5\\tparataxis\\t_\\t_\\n9\\t,\\t,\\tPUNCT\\tPUN\\t_\\t10\\tpunct\\t_\\t_\\n10\\tgot\\tget\\tVERB\\tVVD\\t_\\t8\\tconj\\t_\\t_\\n11\\tout\\tout\\tADP\\tAVP\\t_\\t10\\tcompound:prt\\t_\\t_\\n12\\tto\\tto\\tPART\\tTO0\\t_\\t13\\tmark\\t_\\t_\\n13\\tcheck\\tcheck\\tVERB\\tVVI\\tVerbForm=Inf\\t10\\txcomp\\t_\\t_\\n14\\tthe\\tthe\\tDET\\tAT0\\tDefinite=Def|PronType=Art\\t15\\tdet\\t_\\t_\\n15\\tdamage\\tdamage\\tNOUN\\tNN1\\tNumber=Sing\\t13\\tobj\\t_\\t_\\n16\\t.\\t.\\tPUNCT\\tSENT\\t_\\t5\\tpunct\\t_\\t_\\n\\n1\\tOne\\tone\\tNUM\\tCRD\\tNumType=Card\\t6\\tnsubj\\t_\\t_\\n2\\tof\\tof\\tADP\\tPRF\\t_\\t4\\tcase\\t_\\t_\\n3\\tthe\\tthe\\tDET\\tAT0\\tDefinite=Def|PronType=Art\\t4\\tdet\\t_\\t_\\n4\\tdrivers\\tdriver\\tNOUN\\tNN2\\tNumber=Plur\\t1\\tnmod\\t_\\t_\\n5\\tthen\\tthen\\tADV\\tAV0\\t_\\t6\\tadvmod\\t_\\t_\\n6\\tcalled\\tcall\\tVERB\\tVVD\\tTense=Past|VerbForm=Part\\t0\\troot\\t_\\t_\\n7\\t911.\\t911\\tNOUN\\tNP0\\tNumType=Card\\t6\\txcomp\\t_\\t_\\n\\n\"]"
      ]
     },
     "execution_count": 503,
     "metadata": {},
     "output_type": "execute_result"
    }
   ],
   "source": [
    "en_mono_texts[:3]"
   ]
  },
  {
   "cell_type": "code",
   "execution_count": 504,
   "id": "f3d38105",
   "metadata": {},
   "outputs": [
    {
     "data": {
      "text/plain": [
       "['1\\tso\\tso\\tINTJ\\tITJ\\t_\\t11\\tdiscourse\\t_\\t_\\n2\\tI\\ti\\tPROPN\\tPNP\\tNumber=Sing|Person=1|PronType=Prs\\t11\\tnsubj\\t_\\t_\\n3\\tjust\\tjust\\tADV\\tAV0\\t_\\t11\\tadvmod\\t_\\t_\\n4\\tso\\tso\\tINTJ\\tITJ\\t_\\t11\\tdiscourse\\t_\\t_\\n5\\tI\\ti\\tPROPN\\tPNP\\tNumber=Sing|Person=1|PronType=Prs\\t11\\tnsubj\\t_\\t_\\n6\\twas\\tbe\\tAUX\\tVBD\\tMood=Ind|Number=Sing|Person=3|Tense=Past|VerbForm=Fin\\t11\\tcop\\t_\\t_\\n7\\tjust\\tjust\\tADV\\tAV0\\tDegree=Pos\\t11\\tadvmod\\t_\\t_\\n8\\tin\\tin\\tADP\\tPRP\\t_\\t11\\tcase\\t_\\t_\\n9\\ta\\ta\\tDET\\tAT0\\tDefinite=Ind|Number=Sing|PronType=Art\\t11\\tdet\\t_\\t_\\n10\\tparking\\tparking\\tNOUN\\tNN1\\tNumber=Sing\\t11\\tcompound\\t_\\t_\\n11\\tlot\\tlot\\tNOUN\\tNN1\\t_\\t0\\tROOT\\t_\\t_\\n', '1\\tand\\tand\\tCCONJ\\tCJC\\t_\\t3\\tcc\\t_\\t_\\n2\\tI\\ti\\tPROPN\\tPNP\\tNumber=Sing|Person=1|PronType=Prs\\t3\\tnsubj\\t_\\t_\\n3\\tsaw\\tsee\\tVERB\\tVVD\\tMood=Ind|Person=3|Tense=Past|VerbForm=Fin\\t0\\tROOT\\t_\\t_\\n4\\tI\\ti\\tPROPN\\tPNP\\tNumber=Sing|Person=1|PronType=Prs\\t5\\tnsubj\\t_\\t_\\n5\\tsaw\\tsee\\tVERB\\tVVD\\tMood=Ind|Person=3|Tense=Past|VerbForm=Fin\\t3\\tccomp\\t_\\t_\\n6\\tprobably\\tprobably\\tADV\\tAV0\\t_\\t7\\tadvmod\\t_\\t_\\n7\\tone\\tone\\tNUM\\tCRD\\tNumType=Card\\t5\\tobj\\t_\\t_\\n8\\tof\\tof\\tADP\\tPRF\\t_\\t11\\tcase\\t_\\t_\\n9\\tthe\\tthe\\tDET\\tAT0\\tDefinite=Def|PronType=Art\\t11\\tdet\\t_\\t_\\n10\\tstupidest\\tstupid\\tADJ\\tAJS\\tDegree=Sup\\t11\\tamod\\t_\\t_\\n11\\taccidents\\taccident\\tNOUN\\tNN2\\tNumber=Plur\\t7\\tnmod\\t_\\t_\\n12\\tI\\ti\\tPROPN\\tPNP\\tNumber=Sing|Person=1|PronType=Prs\\t15\\tnsubj\\t_\\t_\\n13\\thave\\thave\\tAUX\\tVHB\\tMood=Ind|Number=Plur|Tense=Pres|VerbForm=Fin\\t15\\taux\\t_\\t_\\n14\\tever\\tever\\tADV\\tAV0\\t_\\t15\\tadvmod\\t_\\t_\\n15\\tseen\\tsee\\tVERB\\tVVN\\tTense=Past|VerbForm=Part\\t11\\tacl:relcl\\t_\\t_\\n', '1\\tthis\\tthis\\tDET\\tDT0\\tNumber=Sing|PronType=Dem\\t3\\tdet\\t_\\t_\\n2\\tthis\\tthis\\tDET\\tDT0\\tNumber=Sing|PronType=Dem\\t3\\tdet\\t_\\t_\\n3\\tcouple\\tcouple\\tNOUN\\tNN1\\tNumber=Sing\\t8\\tobl:tmod\\t_\\t_\\n4\\tthis\\tthis\\tDET\\tDT0\\tNumber=Sing|PronType=Dem\\t5\\tdet\\t_\\t_\\n5\\tcouple\\tcouple\\tNOUN\\tNN1\\tMood=Ind|Number=Plur|Tense=Pres|VerbForm=Fin\\t8\\tobl:tmod\\t_\\t_\\n6\\ttheir\\tthey\\tDET\\tDPS\\tPoss=Yes|PronType=Prs\\t7\\tdet\\t_\\t_\\n7\\tdog\\tdog\\tNOUN\\tNN1\\tNumber=Sing\\t8\\tnsubj\\t_\\t_\\n8\\tran\\trun\\tVERB\\tVVD\\tNumber=Sing\\t0\\tROOT\\t_\\t_\\n9\\tinto\\tinto\\tADP\\tPRP\\t_\\t11\\tcase\\t_\\t_\\n10\\tthe\\tthe\\tDET\\tAT0\\tDefinite=Def|PronType=Art\\t11\\tdet\\t_\\t_\\n11\\tstreet\\tstreet\\tNOUN\\tNN1\\tNumber=Sing\\t8\\tobl\\t_\\t_\\n12\\tand\\tand\\tCCONJ\\tCJC\\t_\\t18\\tcc\\t_\\t_\\n13\\twhile\\twhile\\tSCONJ\\tCJS\\t_\\t18\\tmark\\t_\\t_\\n14\\tthere\\tthere\\tADV\\tEX0\\t_\\t18\\texpl\\t_\\t_\\n15\\twere\\tbe\\tAUX\\tVBD\\tMood=Ind|Number=Plur|Tense=Past|VerbForm=Fin\\t18\\tcop\\t_\\t_\\n16\\ttwo\\ttwo\\tNUM\\tCRD\\tNumType=Card\\t17\\tnummod\\t_\\t_\\n17\\tcars\\tcar\\tNOUN\\tNN2\\tNumber=Plur\\t18\\tnsubj\\t_\\t_\\n18\\tpulling\\tpull\\tVERB\\tVVG\\tNumber=Sing|Tense=Pres|VerbForm=Part\\t8\\tconj\\t_\\t_\\n19\\tinto\\tinto\\tADP\\tPRP\\t_\\t21\\tcase\\t_\\t_\\n20\\tthe\\tthe\\tDET\\tAT0\\tDefinite=Def|PronType=Art\\t21\\tdet\\t_\\t_\\n21\\tlot\\tlot\\tNOUN\\tNN1\\tNumber=Sing\\t18\\tobl\\t_\\t_\\n', '1\\tand\\tand\\tCCONJ\\tCJC\\t_\\t8\\tcc\\t_\\t_\\n2\\tone\\tone\\tPRON\\tPNI\\tNumber=Plur|PronType=Ind\\t8\\tnsubj\\t_\\t_\\n3\\twas\\tbe\\tAUX\\tVBD\\tMood=Ind|Number=Sing|Person=3|Tense=Past|VerbForm=Fin\\t4\\taux\\t_\\t_\\n4\\tgoing\\tgo\\tVERB\\tVVG\\tVerbForm=Ger\\t8\\tcsubj\\t_\\t_\\n5\\tso\\tso\\tADV\\tAV0\\t_\\t6\\tadvmod\\t_\\t_\\n6\\tfast\\tfast\\tADV\\tAV0\\tDegree=Sup\\t4\\tadvmod\\t_\\t_\\n7\\the\\the\\tPROPN\\tPNP\\tGender=Masc|Number=Sing|Person=3|PronType=Prs\\t8\\tnsubj\\t_\\t_\\n8\\tbumped\\tbump\\tVERB\\tVVD\\tMood=Ind|Person=3|Tense=Past|VerbForm=Fin\\t0\\tROOT\\t_\\t_\\n9\\tinto\\tinto\\tADP\\tPRP\\t_\\t12\\tcase\\t_\\t_\\n10\\tthe\\tthe\\tDET\\tAT0\\tDefinite=Def|PronType=Art\\t12\\tdet\\t_\\t_\\n11\\tother\\tother\\tADJ\\tAJ0\\tDegree=Pos\\t12\\tamod\\t_\\t_\\n12\\tone\\tone\\tPRON\\tPNI\\tNumType=Card\\t8\\tobl\\t_\\t_\\n13\\twhen\\twhen\\tSCONJ\\tCJS\\t_\\t16\\tmark\\t_\\t_\\n14\\tthe\\tthe\\tDET\\tAT0\\tDefinite=Def|PronType=Art\\t15\\tdet\\t_\\t_\\n15\\tfirst\\tfirst\\tADJ\\tORD\\tDegree=Pos|NumType=Ord\\t16\\tnsubj\\t_\\t_\\n16\\tstopped\\tstop\\tVERB\\tVVD\\tMood=Ind|Person=3|Tense=Past|VerbForm=Fin\\t8\\tadvcl\\t_\\t_\\n']"
      ]
     },
     "execution_count": 504,
     "metadata": {},
     "output_type": "execute_result"
    }
   ],
   "source": [
    "testlist = []\n",
    "parseEnTexts(en_mono_texts[0], testlist)\n",
    "testlist"
   ]
  },
  {
   "cell_type": "code",
   "execution_count": 505,
   "id": "6a170fa0",
   "metadata": {},
   "outputs": [
    {
     "data": {
      "text/plain": [
       "[None, None, None, None, None, None, None, None, None, None, None, None, None, None, None, None, None, None, None, None, None, None, None, None, None, None, None, None, None, None, None, None, None, None, None, None, None, None, None, None, None, None, None, None, None, None, None, None, None, None, None, None, None, None, None, None, None, None, None, None, None, None, None, None]"
      ]
     },
     "execution_count": 505,
     "metadata": {},
     "output_type": "execute_result"
    }
   ],
   "source": [
    "emo_con_str = []\n",
    "[parseEnTexts(x, emo_con_str) for x in en_mono_texts]\n",
    "\n",
    "## shows up as none, but that's not really an issue"
   ]
  },
  {
   "cell_type": "code",
   "execution_count": 506,
   "id": "1fa81e8c",
   "metadata": {},
   "outputs": [
    {
     "data": {
      "text/plain": [
       "'1\\tso\\tso\\tINTJ\\tITJ\\t_\\t11\\tdiscourse\\t_\\t_\\n2\\tI\\ti\\tPROPN\\tPNP\\tNumber=Sing|Person=1|PronType=Prs\\t11\\tnsubj\\t_\\t_\\n3\\tjust\\tjust\\tADV\\tAV0\\t_\\t11\\tadvmod\\t_\\t_\\n4\\tso\\tso\\tINTJ\\tITJ\\t_\\t11\\tdiscourse\\t_\\t_\\n5\\tI\\ti\\tPROPN\\tPNP\\tNumber=Sing|Person=1|PronType=Prs\\t11\\tnsubj\\t_\\t_\\n6\\twas\\tbe\\tAUX\\tVBD\\tMood=Ind|Number=Sing|Person=3|Tense=Past|VerbForm=Fin\\t11\\tcop\\t_\\t_\\n7\\tjust\\tjust\\tADV\\tAV0\\tDegree=Pos\\t11\\tadvmod\\t_\\t_\\n8\\tin\\tin\\tADP\\tPRP\\t_\\t11\\tcase\\t_\\t_\\n9\\ta\\ta\\tDET\\tAT0\\tDefinite=Ind|Number=Sing|PronType=Art\\t11\\tdet\\t_\\t_\\n10\\tparking\\tparking\\tNOUN\\tNN1\\tNumber=Sing\\t11\\tcompound\\t_\\t_\\n11\\tlot\\tlot\\tNOUN\\tNN1\\t_\\t0\\tROOT\\t_\\t_\\n'"
      ]
     },
     "execution_count": 506,
     "metadata": {},
     "output_type": "execute_result"
    }
   ],
   "source": [
    "## just one sentence as opposed to the whole text\n",
    "emo_con_str[0]"
   ]
  },
  {
   "cell_type": "code",
   "execution_count": 507,
   "id": "1ad1d0ba",
   "metadata": {},
   "outputs": [
    {
     "name": "stdout",
     "output_type": "stream",
     "text": [
      "1\tso\tso\tINTJ\tITJ\t_\t11\tdiscourse\t_\t_\n",
      "2\tI\ti\tPROPN\tPNP\tNumber=Sing|Person=1|PronType=Prs\t11\tnsubj\t_\t_\n",
      "3\tjust\tjust\tADV\tAV0\t_\t11\tadvmod\t_\t_\n",
      "4\tso\tso\tINTJ\tITJ\t_\t11\tdiscourse\t_\t_\n",
      "5\tI\ti\tPROPN\tPNP\tNumber=Sing|Person=1|PronType=Prs\t11\tnsubj\t_\t_\n",
      "6\twas\tbe\tAUX\tVBD\tMood=Ind|Number=Sing|Person=3|Tense=Past|VerbForm=Fin\t11\tcop\t_\t_\n",
      "7\tjust\tjust\tADV\tAV0\tDegree=Pos\t11\tadvmod\t_\t_\n",
      "8\tin\tin\tADP\tPRP\t_\t11\tcase\t_\t_\n",
      "9\ta\ta\tDET\tAT0\tDefinite=Ind|Number=Sing|PronType=Art\t11\tdet\t_\t_\n",
      "10\tparking\tparking\tNOUN\tNN1\tNumber=Sing\t11\tcompound\t_\t_\n",
      "11\tlot\tlot\tNOUN\tNN1\t_\t0\tROOT\t_\t_\n",
      "\n"
     ]
    }
   ],
   "source": [
    "print(emo_con_str[0])"
   ]
  },
  {
   "cell_type": "markdown",
   "id": "14deb032",
   "metadata": {},
   "source": [
    "Looks like we will not need to do cleaning for the english monolingual data! That's great so let's move forward to the German Data"
   ]
  },
  {
   "cell_type": "code",
   "execution_count": 508,
   "id": "bb80332f",
   "metadata": {},
   "outputs": [
    {
     "data": {
      "text/plain": [
       "'1\\täh\\täh\\tINTJ\\tNGHES\\t_\\t0\\troot\\t_\\t_\\n2\\thello\\thello\\tX\\tFM\\t_\\t3\\tdep\\t_\\t_\\n3\\tthis\\tthis\\tX\\tFM\\tPronType=Dem\\t4\\tdep\\t_\\t_\\n4\\tis\\tbe\\tX\\tFM\\tMood=Ind|Person=3|Tense=Pres\\t1\\tdep\\t_\\t_\\n5\\tfile\\tfile\\tX\\tFM\\tNumber=Sing\\t4\\tdep\\t_\\t_\\n6\\tNummer\\tNummer\\tNOUN\\tNN\\tCase=Nom|Gender=Fem|Number=Sing\\t8\\tnsubj\\t_\\t_\\n7\\tF\\tF\\tPROPN\\tNE\\t_\\t6\\tappos\\t_\\t_\\n8\\täh\\täh\\tINTJ\\tNGHES\\t_\\t9\\tpunct\\t_\\t_\\n9\\t16\\t@card@\\tPROPN\\tNE\\tNumType=Card\\t5\\tappos\\t_\\t_\\n\\n1\\tja\\tja\\tINTJ\\tNGIRR\\t_\\t2\\tadvmod\\t_\\t_\\n2\\tokay\\tokay\\tINTJ\\tNGIRR\\t_\\t0\\troot\\t_\\t_\\n3\\täh\\täh\\tINTJ\\tNGHES\\t_\\t2\\tdep\\t_\\t_\\n\\n1\\tich\\tich\\tPRON\\tPPER\\tCase=Nom|Number=Sing|Person=1|PronType=Prs\\t6\\tnsubj\\t_\\t_\\n2\\thabe\\thaben\\tAUX\\tVAFIN\\tMood=Ind|Number=Sing|Person=1|Tense=Past|VerbForm=Fin\\t6\\taux\\t_\\t_\\n3\\tgerade\\tgerade\\tADV\\tADV\\t_\\t6\\tadvmod\\t_\\t_\\n4\\tein\\tein\\tDET\\tART\\tCase=Nom|Definite=Ind|Gender=Masc|Number=Sing|PronType=Art\\t5\\tdet\\t_\\t_\\n5\\tUnfall\\tUnfall\\tNOUN\\tNN\\tCase=Acc|Gender=Masc|Number=Sing\\t6\\tobj\\t_\\t_\\n6\\tgesehen\\tsehen\\tVERB\\tVVPP\\tTense=Past|VerbForm=Part\\t0\\troot\\t_\\t_\\n\\n1\\tund\\tund\\tCCONJ\\tKON\\t_\\t3\\tcc\\t_\\t_\\n2\\tes\\tes\\tPRON\\tPPER\\tCase=Nom|Gender=Neut|Number=Sing|Person=3|PronType=Prs\\t3\\tnsubj\\t_\\t_\\n3\\tgab\\tgeben\\tVERB\\tVVFIN\\tMood=Ind|Number=Sing|Person=3|Tense=Past|VerbForm=Fin\\t0\\troot\\t_\\t_\\n4\\tzwei\\tzwei\\tNUM\\tCARD\\tNumType=Card\\t5\\tnummod\\t_\\t_\\n5\\tAutos\\tAuto\\tNOUN\\tNN\\tCase=Acc|Gender=Neut|Number=Plur\\t3\\tobj\\t_\\t_\\n\\n1\\täh\\täh\\tINTJ\\tNGHES\\tDegree=Pos\\t0\\troot\\t_\\t_\\n2\\tund\\tund\\tCCONJ\\tKON\\t_\\t4\\tcc\\t_\\t_\\n3\\twas\\twas\\tPRON\\tPWS\\tCase=Acc|PronType=Int\\t4\\tnsubj\\t_\\t_\\n4\\tpassiert\\tpassieren\\tVERB\\tVVPP\\tTense=Past|VerbForm=Part\\t1\\tconj\\t_\\t_\\n5\\tist\\tsein\\tAUX\\tVAFIN\\tMood=Ind|Number=Sing|Person=3|Tense=Past|VerbForm=Fin\\t4\\taux:pass\\t_\\t_\\n6\\tist\\tsein\\tAUX\\tVAFIN\\tMood=Ind|Number=Sing|Person=3|Tense=Pres|VerbForm=Fin\\t4\\taux\\t_\\t_\\n7\\tdass\\tdass\\tCCONJ\\tKOUS\\t_\\t13\\tcc\\t_\\t_\\n8\\tein\\tein\\tDET\\tART\\tCase=Nom|Definite=Ind|Gender=Masc|Number=Sing|PronType=Art\\t9\\tdet\\t_\\t_\\n9\\tMann\\tMann\\tNOUN\\tNN\\tCase=Nom|Gender=Masc|Number=Sing\\t13\\tnsubj\\t_\\t_\\n10\\tmit\\tmit\\tADP\\tAPPR\\t_\\t12\\tcase\\t_\\t_\\n11\\tseinem\\tsein\\tDET\\tPPOSAT\\tCase=Dat|Gender=Masc|Gender[psor]=Masc|Number=Sing|Person=3|Poss=Yes|PronType=Prs\\t12\\tdet\\t_\\t_\\n12\\tBall\\tBall\\tNOUN\\tNN\\tCase=Dat|Gender=Masc|Number=Sing\\t13\\tobl\\t_\\t_\\n13\\tgespielt\\tspielen\\tVERB\\tVVPP\\tTense=Past|VerbForm=Part\\t4\\tccomp\\t_\\t_\\n14\\that\\thaben\\tAUX\\tVAFIN\\tMood=Ind|Number=Sing|Person=3|Tense=Past|VerbForm=Fin\\t13\\taux\\t_\\t_\\n\\n1\\ter\\ter\\tPRON\\tPPER\\tCase=Nom|Gender=Masc|Number=Sing|Person=3|PronType=Prs\\t5\\tnsubj\\t_\\t_\\n2\\twar\\tsein\\tAUX\\tVAFIN\\tMood=Ind|Number=Sing|Person=3|Tense=Past|VerbForm=Fin\\t5\\tcop\\t_\\t_\\n3\\tmit\\tmit\\tADP\\tAPPR\\t_\\t5\\tcase\\t_\\t_\\n4\\tseiner\\tsein\\tDET\\tPPOSAT\\tCase=Dat|Gender=Fem|Gender[psor]=Masc|Number=Sing|Person=3|Poss=Yes|PronType=Prs\\t5\\tdet:poss\\t_\\t_\\n5\\tFrau\\tFrau\\tNOUN\\tNN\\tCase=Dat|Gender=Fem|Number=Sing\\t0\\troot\\t_\\t_\\n\\n1\\tund\\tund\\tCCONJ\\tKON\\t_\\t6\\tcc\\t_\\t_\\n2\\tdie\\td\\tPRON\\tPDS\\tCase=Nom|Gender=Fem|PronType=Dem\\t6\\tnsubj\\t_\\t_\\n3\\thatte\\thaben\\tAUX\\tVAFIN\\tMood=Ind|Number=Sing|Person=3|Tense=Past|VerbForm=Fin\\t6\\taux\\t_\\t_\\n4\\tein\\tein\\tDET\\tART\\tCase=Acc|Definite=Ind|Gender=Neut|Number=Sing|PronType=Art\\t5\\tdet\\t_\\t_\\n5\\tKind\\tKind\\tNOUN\\tNN\\tCase=Acc|Gender=Neut|Number=Sing\\t6\\tobj\\t_\\t_\\n6\\tim\\tin\\tADP\\tAPPRART\\tCase=Acc\\t7\\tconj\\t_\\t_\\n7\\tKinderwagen\\tKinderwagen\\tNOUN\\tNN\\tCase=Acc|Gender=Masc|Number=Sing\\t0\\troot\\t_\\t_\\n\\n1\\tund\\tund\\tCCONJ\\tKON\\t_\\t2\\tcc\\t_\\t_\\n2\\täh\\täh\\tINTJ\\tNGHES\\t_\\t0\\troot\\t_\\t_\\n3\\ter\\ter\\tPRON\\tPPER\\tCase=Nom|Gender=Masc|Number=Sing|Person=3|PronType=Prs\\t7\\tnsubj\\t_\\t_\\n4\\that\\thaben\\tAUX\\tVAFIN\\tMood=Ind|Number=Sing|Person=3|Tense=Past|VerbForm=Fin\\t7\\taux\\t_\\t_\\n5\\tden\\td\\tDET\\tART\\tCase=Acc|Definite=Def|Gender=Masc|Number=Sing|PronType=Art\\t6\\tdet\\t_\\t_\\n6\\tBall\\tBall\\tNOUN\\tNN\\tCase=Acc|Gender=Masc|Number=Sing\\t7\\tobj\\t_\\t_\\n7\\tlosgelassen\\tloslassen\\tVERB\\tVVPP\\tTense=Past|VerbForm=Part\\t2\\tconj\\t_\\t_\\n\\n1\\tund\\tund\\tCCONJ\\tKON\\t_\\t8\\tcc\\t_\\t_\\n2\\tder\\td\\tDET\\tART\\tCase=Nom|Definite=Def|Gender=Masc|Number=Sing|PronType=Art\\t3\\tdet\\t_\\t_\\n3\\tBall\\tBall\\tNOUN\\tNN\\tCase=Nom|Gender=Masc|Number=Sing\\t8\\tnsubj:pass\\t_\\t_\\n4\\tist\\tsein\\tAUX\\tVAFIN\\tMood=Ind|Number=Sing|Person=3|Tense=Past|VerbForm=Fin\\t8\\taux:pass\\t_\\t_\\n5\\tauf\\tauf\\tADP\\tAPPR\\t_\\t7\\tcase\\t_\\t_\\n6\\tder\\td\\tDET\\tART\\tCase=Dat|Definite=Def|Gender=Masc|Number=Sing|PronType=Art\\t7\\tdet\\t_\\t_\\n7\\tStraße\\tStraße\\tNOUN\\tNN\\tCase=Dat|Gender=Fem|Number=Sing\\t8\\tobl\\t_\\t_\\n8\\tgerollt\\trollen\\tVERB\\tVVPP\\tVerbForm=Part\\t0\\troot\\t_\\t_\\n\\n1\\talso\\talso\\tCCONJ\\tSEDM\\t_\\t10\\tcc\\t_\\t_\\n2\\twusste\\twissen\\tAUX\\tVMFIN\\tMood=Ind|Number=Sing|Person=3|Tense=Past|VerbForm=Fin\\t10\\taux\\t_\\t_\\n3\\tdas\\td\\tDET\\tART\\tCase=Nom|Definite=Def|Gender=Neut|Number=Sing|PronType=Art\\t4\\tdet\\t_\\t_\\n4\\tAuto\\tAuto\\tNOUN\\tNN\\tCase=Nom|Gender=Neut|Number=Sing\\t10\\tnsubj\\t_\\t_\\n5\\talso\\talso\\tCCONJ\\tKOUS\\t_\\t10\\tcc\\t_\\t_\\n6\\tdas\\td\\tDET\\tART\\tCase=Nom|Definite=Def|Gender=Neut|Number=Sing|PronType=Art\\t8\\tdet\\t_\\t_\\n7\\terste\\terst\\tADJ\\tORD\\tCase=Nom|Degree=Pos|NumType=Ord|Number=Sing\\t8\\tamod\\t_\\t_\\n8\\tAuto\\tAuto\\tNOUN\\tNN\\tCase=Nom|Gender=Neut|Number=Sing\\t10\\tnsubj\\t_\\t_\\n9\\tschnell\\tschnell\\tADJ\\tADJD\\tDegree=Pos\\t10\\tadvmod\\t_\\t_\\n10\\täh\\täh\\tADJ\\tADJD\\t_\\t11\\tadvmod\\t_\\t_\\n11\\tbremsen\\tbremsen\\tVERB\\tVVINF\\tVerbForm=Part\\t0\\troot\\t_\\t_\\n\\n1\\tund\\tund\\tCCONJ\\tKON\\t_\\t16\\tcc\\t_\\t_\\n2\\tdas\\td\\tDET\\tART\\tCase=Nom|Definite=Def|Gender=Neut|Number=Sing|PronType=Art\\t3\\tdet\\t_\\t_\\n3\\tAuto\\tAuto\\tNOUN\\tNN\\tCase=Nom|Gender=Neut|Number=Sing\\t16\\tnsubj\\t_\\t_\\n4\\thinter\\thinter\\tADP\\tAPPR\\t_\\t7\\tcase\\t_\\t_\\n5\\tdieses\\tdies\\tDET\\tPDAT\\tCase=Nom|Gender=Neut|Number=Sing|PronType=Dem\\t7\\tdet\\t_\\t_\\n6\\terste\\terst\\tADJ\\tORD\\tCase=Dat|Degree=Pos|Gender=Neut|NumType=Ord|Number=Sing\\t7\\tamod\\t_\\t_\\n7\\tAuto\\tAuto\\tNOUN\\tNN\\tCase=Dat|Gender=Neut|Number=Sing\\t16\\tobl\\t_\\t_\\n8\\täh\\täh\\tINTJ\\tNGHES\\t_\\t16\\tadvmod\\t_\\t_\\n9\\tist\\tsein\\tAUX\\tVAFIN\\tMood=Ind|Number=Sing|Person=3|Tense=Past|VerbForm=Fin\\t16\\taux\\t_\\t_\\n10\\talso\\talso\\tCCONJ\\tKOUS\\t_\\t15\\tdet\\t_\\t_\\n11\\tin\\tin\\tADP\\tAPPR\\t_\\t13\\tcase\\t_\\t_\\n12\\tersten\\terst\\tADJ\\tORD\\tCase=Dat|Degree=Pos|NumType=Ord\\t13\\tamod\\t_\\t_\\n13\\tAuto\\tAuto\\tNOUN\\tNN\\tCase=Acc|Gender=Neut|Number=Sing\\t14\\tnmod\\t_\\t_\\n14\\terstes\\terst\\tADJ\\tORD\\tCase=Nom|Degree=Pos|NumType=Ord\\t15\\tamod\\t_\\t_\\n15\\tAuto\\tAuto\\tNOUN\\tNN\\tCase=Acc|Gender=Neut|Number=Sing\\t16\\tobj\\t_\\t_\\n16\\treingefahren\\treinfahren\\tVERB\\tVVPP\\tVerbForm=Part\\t0\\troot\\t_\\t_\\n\\n1\\tdas\\td\\tDET\\tART\\tCase=Nom|Definite=Def|Gender=Neut|Number=Sing|PronType=Art\\t3\\tdet\\t_\\t_\\n2\\terste\\terst\\tADJ\\tORD\\tCase=Nom|Degree=Pos|Gender=Neut|NumType=Ord|Number=Sing\\t3\\tamod\\t_\\t_\\n3\\tAuto\\tAuto\\tNOUN\\tNN\\tCase=Nom|Gender=Neut|Number=Sing\\t5\\tnsubj\\t_\\t_\\n4\\twar\\tsein\\tAUX\\tVAFIN\\tMood=Ind|Number=Sing|Person=3|Tense=Past|VerbForm=Fin\\t5\\taux\\t_\\t_\\n5\\tblau\\tblau\\tADJ\\tADJD\\tDegree=Pos|Number=Sing\\t0\\troot\\t_\\t_\\n6\\tund\\tund\\tCCONJ\\tKON\\t_\\t11\\tcc\\t_\\t_\\n7\\tdas\\td\\tDET\\tART\\tCase=Nom|Definite=Def|Gender=Neut|Number=Sing|PronType=Art\\t8\\tdet\\t_\\t_\\n8\\thinter\\thinter\\tNOUN\\tNN\\tCase=Nom|Gender=Neut|Number=Sing\\t11\\tnsubj\\t_\\t_\\n9\\twar\\tsein\\tAUX\\tVAFIN\\tMood=Ind|Number=Sing|Person=3|Tense=Past|VerbForm=Fin\\t11\\taux\\t_\\t_\\n10\\tentweder\\tentweder\\tCCONJ\\tKON\\t_\\t11\\tcc\\t_\\t_\\n11\\tsilber\\tsilber\\tADJ\\tADJD\\tDegree=Pos|Number=Sing\\t5\\tconj\\t_\\t_\\n12\\toder\\toder\\tCCONJ\\tKON\\t_\\t13\\tcc\\t_\\t_\\n13\\tvielleicht\\tvielleicht\\tADV\\tADV\\t_\\t11\\tconj\\t_\\t_\\n14\\tweiß\\tweiß\\tADJ\\tADJD\\tDegree=Pos|Number=Sing\\t11\\tconj\\t_\\t_\\n15\\toder\\toder\\tCCONJ\\tKON\\t_\\t16\\tcc\\t_\\t_\\n16\\tso\\tso\\tCCONJ\\tSEDM\\t_\\t14\\tconj\\t_\\t_\\n17\\tdazwischen\\tdazwischen\\tADV\\tADV\\t_\\t11\\tconj\\t_\\t_\\n\\n1\\täh\\täh\\tINTJ\\tNGHES\\tDegree=Pos\\t0\\troot\\t_\\t_\\n2\\tund\\tund\\tCCONJ\\tKON\\t_\\t5\\tcc\\t_\\t_\\n3\\tder\\td\\tDET\\tART\\tCase=Nom|Definite=Def|Gender=Masc|Number=Sing|PronType=Art\\t4\\tdet\\t_\\t_\\n4\\tHund\\tHund\\tNOUN\\tNN\\tCase=Nom|Gender=Masc|Number=Sing\\t5\\tnsubj\\t_\\t_\\n5\\tgehörte\\tgehören\\tVERB\\tVVFIN\\tMood=Ind|Number=Sing|Person=3|Tense=Past|VerbForm=Fin\\t1\\tconj\\t_\\t_\\n6\\tzu\\tzu\\tADP\\tAPPR\\t_\\t8\\tcase\\t_\\t_\\n7\\teiner\\tein\\tDET\\tART\\tCase=Dat|Definite=Ind|Gender=Fem|Number=Sing|PronType=Art\\t8\\tdet\\t_\\t_\\n8\\tFrau\\tFrau\\tNOUN\\tNN\\tCase=Dat|Gender=Fem|Number=Sing\\t5\\tobl\\t_\\t_\\n\\n1\\tund\\tund\\tCCONJ\\tKON\\t_\\t6\\tcc\\t_\\t_\\n2\\tdie\\td\\tPRON\\tPDS\\tCase=Nom|Gender=Fem|Number=Sing|Person=3|PronType=Dem\\t3\\tdet\\t_\\t_\\n3\\thatte\\thaben\\tAUX\\tVAFIN\\tMood=Ind|Number=Sing|Person=3|Tense=Past|VerbForm=Fin\\t6\\taux\\t_\\t_\\n4\\twar\\tsein\\tAUX\\tVAFIN\\tMood=Ind|Number=Sing|Person=3|Tense=Past|VerbForm=Fin\\t6\\taux\\t_\\t_\\n5\\tgerade\\tgerade\\tADV\\tADV\\t_\\t6\\tadvmod\\t_\\t_\\n6\\teinkaufen\\teinkaufen\\tVERB\\tVVINF\\tTense=Past|VerbForm=Inf\\t0\\troot\\t_\\t_\\n7\\tund\\tund\\tCCONJ\\tKON\\t_\\t11\\tcc\\t_\\t_\\n8\\tdabei\\tdabei\\tADV\\tADV\\t_\\t11\\tadvmod\\t_\\t_\\n9\\tim\\tin\\tADP\\tAPPRART\\tCase=Dat\\t11\\tcase\\t_\\t_\\n10\\tAuto\\tAuto\\tNOUN\\tNN\\tCase=Dat|Gender=Neut|Number=Sing\\t11\\tnmod\\t_\\t_\\n11\\täh\\täh\\tINTJ\\tNGHES\\t_\\t6\\tconj\\t_\\t_\\n12\\tmit\\tmit\\tADP\\tAPPR\\t_\\t14\\tcase\\t_\\t_\\n13\\tihre\\tihr\\tDET\\tPPOSAT\\tCase=Dat|Gender=Fem|Gender[psor]=Fem|Number=Sing|Person=3|Poss=Yes|PronType=Prs\\t14\\tdet:poss\\t_\\t_\\n14\\tEinkäufe\\tEinkauf\\tNOUN\\tNN\\tCase=Dat|Gender=Fem|Number=Plur\\t11\\tobl\\t_\\t_\\n\\n1\\tund\\tund\\tCCONJ\\tKON\\t_\\t7\\tcc\\t_\\t_\\n2\\tja\\tja\\tINTJ\\tNGIRR\\t_\\t7\\tadvmod\\t_\\t_\\n3\\tes\\tes\\tPRON\\tPPER\\tCase=Nom|Gender=Neut|Number=Sing|Person=3|PronType=Prs\\t7\\tnsubj\\t_\\t_\\n4\\tgeht\\tgehen\\tVERB\\tVVFIN\\tMood=Ind|Number=Sing|Person=3|Tense=Pres|VerbForm=Fin\\t7\\tcop\\t_\\t_\\n5\\täh\\täh\\tINTJ\\tNGHES\\t_\\t7\\tpunct\\t_\\t_\\n6\\tallen\\tall\\tPRON\\tPIS\\tCase=Dat|PronType=Tot\\t7\\tiobj\\t_\\t_\\n7\\tokay\\tokay\\tADJ\\tADJD\\t_\\t0\\troot\\t_\\t_\\n\\n1\\tniemand\\tniemand\\tPRON\\tPIS\\tCase=Nom|PronType=Neg\\t6\\tdep\\t_\\t_\\n2\\täh\\täh\\tINTJ\\tNGHES\\t_\\t6\\tpunct\\t_\\t_\\n3\\tich\\tich\\tPRON\\tPPER\\tCase=Nom|Gender=Fem|Number=Sing|Person=1|PronType=Prs\\t6\\tnsubj\\t_\\t_\\n4\\tkonnte\\tkönnen\\tAUX\\tVMFIN\\tMood=Ind|Number=Sing|Person=1|Tense=Past|VerbForm=Fin\\t6\\taux\\t_\\t_\\n5\\tnicht\\tnicht\\tINTJ\\tPTKNEG\\t_\\t6\\tadvmod\\t_\\t_\\n6\\tsehen\\tsehen\\tVERB\\tVVINF\\tTense=Past|VerbForm=Inf\\t0\\troot\\t_\\t_\\n7\\tdass\\tdass\\tCCONJ\\tKOUS\\t_\\t10\\tcc\\t_\\t_\\n8\\tirgendjemand\\tirgendjemand\\tPRON\\tPIS\\tCase=Nom|Number=Sing|PronType=Ind\\t10\\tiobj\\t_\\t_\\n9\\tsich\\ter|es|sie\\tPRON\\tPRF\\tPerson=3|PronType=Prs\\t10\\tobj\\t_\\t_\\n10\\tverletzt\\tverletzen\\tVERB\\tVVPP\\tTense=Past|VerbForm=Part\\t6\\tacl\\t_\\t_\\n11\\that\\thaben\\tAUX\\tVAFIN\\tMood=Ind|Number=Sing|Person=3|Tense=Past|VerbForm=Fin\\t10\\taux\\t_\\t_\\n\\n1\\tund\\tund\\tCCONJ\\tKON\\t_\\t6\\tcc\\t_\\t_\\n2\\tdie\\td\\tPRON\\tPDS\\tCase=Nom|Number=Plur|Person=3|PronType=Dem\\t6\\tnsubj\\t_\\t_\\n3\\thaben\\thaben\\tAUX\\tVAFIN\\tMood=Ind|Number=Plur|Person=3|Tense=Past|VerbForm=Fin\\t6\\taux\\t_\\t_\\n4\\tdie\\td\\tDET\\tART\\tCase=Acc|Definite=Def|Gender=Fem|Number=Sing|PronType=Art\\t5\\tdet\\t_\\t_\\n5\\tPolizei\\tPolizei\\tNOUN\\tNN\\tCase=Acc|Gender=Fem|Number=Sing\\t6\\tobj\\t_\\t_\\n6\\täh\\täh\\tINTJ\\tNGHES\\t_\\t7\\tconj\\t_\\t_\\n7\\tangerufen\\tanrufen\\tVERB\\tVVPP\\tTense=Past|VerbForm=Inf\\t0\\troot\\t_\\t_\\n\\n'"
      ]
     },
     "execution_count": 508,
     "metadata": {},
     "output_type": "execute_result"
    }
   ],
   "source": [
    "de_bi_texts[0]"
   ]
  },
  {
   "cell_type": "code",
   "execution_count": 509,
   "id": "e7b9d247",
   "metadata": {},
   "outputs": [],
   "source": [
    "#debi_con_str = []\n",
    "#[parseDeTexts(x, debi_con_str) for x in de_bi_texts]\n",
    "\n",
    "\n",
    "## same issue as before with the English monolingual data"
   ]
  },
  {
   "cell_type": "code",
   "execution_count": 510,
   "id": "d9a44cef",
   "metadata": {},
   "outputs": [],
   "source": [
    "#demo_con_str = []\n",
    "#[parseDeTexts(x, demo_con_str) for x in de_mono_texts]\n",
    "\n",
    "## again, same issues. Onto cleaning"
   ]
  },
  {
   "cell_type": "markdown",
   "id": "852f6bf3",
   "metadata": {},
   "source": [
    "## Data Cleaning\n",
    "\n",
    "As we saw with the manual parsing and with the fact that many of these texts have an extra newline character, we're going to have to clean up some documents before creating the corpora to use for analysis later\n",
    "\n",
    "Here were the problem sets that need cleaning:\n",
    "- English Bilingual\n",
    "- German Bilingual\n",
    "- German Monolingual\n",
    "\n",
    "Now we got a hint of what was wrong in the earlier manual parsing, so now it's time to find the actual errors and fix them"
   ]
  },
  {
   "cell_type": "code",
   "execution_count": 511,
   "id": "26ce9beb",
   "metadata": {},
   "outputs": [
    {
     "data": {
      "text/plain": [
       "['1\\they\\tHey\\tINTJ\\tITJ\\t_\\t2\\tdiscourse\\t_\\t_\\n2\\tEleni\\tEleni\\tNOUN\\tNP0\\t_\\t0\\troot\\t_\\t_\\n3\\t,\\t,\\tPUNCT\\tPUN\\t_\\t2\\tpunct\\t_\\t_\\n\\n1\\tlet\\tlet\\tVERB\\tVVB\\tMood=Imp|Number=Plur|Person=2|Tense=Pres|VerbForm=Fin\\t0\\troot\\t_\\t_\\n2\\tme\\ti\\tPROPN\\tPNP\\tNumber=Sing|Person=1|PronType=Prs\\t1\\tobj\\t_\\t_\\n3\\ttell\\ttell\\tVERB\\tVVI\\tMood=Ind|Number=Sing|Person=1|Tense=Pres|VerbForm=Fin\\t1\\txcomp\\t_\\t_\\n4\\tyou\\tyou\\tPROPN\\tPNP\\tPerson=2|PronType=Prs\\t6\\tnsubj\\t_\\t_\\n5\\twhat\\twhat\\tDET\\tDTQ\\tNumber=Sing|PronType=Rel\\t6\\tdet\\t_\\t_\\n6\\thappened\\thappen\\tVERB\\tVVD\\tMood=Ind|Person=3|Tense=Past|VerbForm=Fin\\t3\\tccomp\\t_\\t_\\n7\\ttoday\\ttoday\\tADV\\tAV0\\t_\\t6\\tadvmod\\t_\\t_\\n8\\t!\\t!\\tPUNCT\\tSENT\\t_\\t6\\tpunct\\t_\\t_\\n\\n1\\tI\\tI\\tPROPN\\tPNP\\tNumber=Sing|Person=1|PronType=Prs\\t2\\tnsubj\\t_\\t_\\n2\\tsaw\\tsee\\tVERB\\tVVD\\tMood=Ind|Person=3|Tense=Past|VerbForm=Fin\\t0\\troot\\t_\\t_\\n3\\ta\\ta\\tDET\\tAT0\\tDefinite=Ind|Number=Sing|PronType=Art\\t6\\tdet\\t_\\t_\\n4\\tminor\\tminor\\tADJ\\tAJ0\\tDegree=Pos\\t6\\tamod\\t_\\t_\\n5\\tcar\\tcar\\tNOUN\\tNN1\\tNumber=Sing\\t6\\tcompound\\t_\\t_\\n6\\taccident\\taccident\\tNOUN\\tNN1\\tNumber=Sing\\t2\\tobj\\t_\\t_\\n7\\twhen\\twhen\\tSCONJ\\tCJS\\t_\\t11\\tmark\\t_\\t_\\n8\\teither\\teither\\tADV\\tAV0\\t_\\t11\\tadvmod\\t_\\t_\\n9\\tthe\\tthe\\tDET\\tAT0\\tDefinite=Def|PronType=Art\\t10\\tdet\\t_\\t_\\n10\\tperson\\tperson\\tNOUN\\tNN1\\tNumber=Sing\\t11\\tnsubj\\t_\\t_\\n11\\tdriving\\tdrive\\tVERB\\tVVG\\tNumber=Sing\\t2\\tadvcl\\t_\\t_\\n12\\tsaw\\tsaw\\tVERB\\tVVD\\tMood=Ind|Person=3|Tense=Past|VerbForm=Fin\\t11\\tconj\\t_\\t_\\n13\\ta\\ta\\tDET\\tAT0\\tDefinite=Ind|Number=Sing|PronType=Art\\t15\\tdet\\t_\\t_\\n14\\tsoccer\\tsoccer\\tNOUN\\tNN1\\tDegree=Cmp\\t15\\tcompound\\t_\\t_\\n15\\tball\\tball\\tNOUN\\tNN1\\tNumber=Sing\\t16\\tnsubj\\t_\\t_\\n16\\troll\\troll\\tVERB\\tVVI\\tNumber=Sing\\t12\\tccomp\\t_\\t_\\n17\\tinto\\tinto\\tADP\\tPRP\\t_\\t19\\tcase\\t_\\t_\\n18\\tthe\\tthe\\tDET\\tAT0\\tDefinite=Def|PronType=Art\\t19\\tdet\\t_\\t_\\n19\\tstreet\\tstreet\\tNOUN\\tNN1\\tNumber=Sing\\t16\\tobl\\t_\\t_\\n20\\tor\\tor\\tCCONJ\\tCJC\\t_\\t23\\tcc\\t_\\t_\\n21\\twhen\\twhen\\tSCONJ\\tCJS\\t_\\t23\\tmark\\t_\\t_\\n22\\the\\the\\tPROPN\\tPNP\\tGender=Masc|Number=Sing|Person=3|PronType=Prs\\t23\\tnsubj\\t_\\t_\\n23\\tsaw\\tsee\\tVERB\\tVVD\\tMood=Ind|Person=3|Tense=Past|VerbForm=Fin\\t16\\tconj\\t_\\t_\\n24\\ta\\ta\\tDET\\tAT0\\tDefinite=Ind|Number=Sing|PronType=Art\\t25\\tdet\\t_\\t_\\n25\\tdog\\tdog\\tNOUN\\tNN1\\tNumber=Sing\\t26\\tnsubj\\t_\\t_\\n26\\tmove\\tmove\\tVERB\\tVVI\\tMood=Ind|Person=3|Tense=Past|VerbForm=Fin\\t23\\tccomp\\t_\\t_\\n27\\tin\\tin\\tADP\\tPRP\\t_\\t28\\tcase\\t_\\t_\\n28\\tfront\\tfront\\tADP\\tPRP\\tNumber=Sing\\t26\\tobl\\t_\\t_\\n29\\tof\\tof\\tADP\\tPRF\\t_\\t31\\tcase\\t_\\t_\\n30\\this\\this\\tDET\\tDPS\\tPoss=Yes|PronType=Prs\\t31\\tdet\\t_\\t_\\n31\\tcar\\tcar\\tNOUN\\tNN1\\tNumber=Sing\\t28\\tnmod\\t_\\t_\\n32\\t.\\t.\\tPUNCT\\tSENT\\t_\\t16\\tpunct\\t_\\t_\\n\\n1\\tEveryone\\teveryone\\tPRON\\tPNI\\tNumber=Sing|Person=3|PronType=Prs\\t3\\tnsubj\\t_\\t_\\n2\\tis\\tbe\\tAUX\\tVBZ\\tMood=Ind|Number=Sing|Person=3|Tense=Pres|VerbForm=Fin\\t3\\tcop\\t_\\t_\\n3\\tfine\\tfine\\tADJ\\tAJ0\\tVerbForm=Inf\\t0\\troot\\t_\\t_\\n4\\tbecause\\tbecause\\tSCONJ\\tCJS\\t_\\t8\\tmark\\t_\\t_\\n5\\tthey\\tthey\\tPROPN\\tPNP\\tNumber=Plur|Person=3|PronType=Prs\\t8\\tnsubj\\t_\\t_\\n6\\twere\\tbe\\tAUX\\tVBD\\tMood=Ind|Number=Plur|Tense=Past|VerbForm=Fin\\t8\\tcop\\t_\\t_\\n7\\tboth\\tboth\\tDET\\tDT0\\t_\\t8\\tnsubj\\t_\\t_\\n8\\table\\table\\tADJ\\tAJ0\\tDegree=Pos\\t3\\tadvcl\\t_\\t_\\n9\\tto\\tto\\tPART\\tTO0\\t_\\t10\\tmark\\t_\\t_\\n10\\tget\\tget\\tVERB\\tVVI\\tVerbForm=Inf\\t8\\txcomp\\t_\\t_\\n11\\tout\\tout\\tADP\\tPRP\\t_\\t14\\tcase\\t_\\t_\\n12\\tof\\tof\\tADP\\tPRF\\t_\\t14\\tcase\\t_\\t_\\n13\\ttheir\\ttheir\\tDET\\tDPS\\tPoss=Yes|PronType=Prs\\t14\\tdet\\t_\\t_\\n14\\tcars\\tcar\\tNOUN\\tNN2\\tNumber=Plur\\t10\\tobl\\t_\\t_\\n15\\tto\\tto\\tPART\\tTO0\\t_\\t16\\tmark\\t_\\t_\\n16\\tassess\\tassess\\tVERB\\tVVI\\tVerbForm=Inf\\t10\\txcomp\\t_\\t_\\n17\\tthe\\tthe\\tDET\\tAT0\\tDefinite=Def|PronType=Art\\t18\\tdet\\t_\\t_\\n18\\tdamage\\tdamage\\tNOUN\\tNN1\\tNumber=Sing\\t16\\tobj\\t_\\t_\\n\\n1\\tand\\tand\\tCCONJ\\tCJC\\t_\\t3\\tcc\\t_\\t_\\n2\\tthe\\tthe\\tDET\\tAT0\\tDefinite=Def|PronType=Art\\t3\\tdet\\t_\\t_\\n3\\tman\\tman\\tNOUN\\tNN1\\tGender=Masc|Number=Sing\\t0\\troot\\t_\\t_\\n4\\twho\\twho\\tPRON\\tPNQ\\tPronType=Rel\\t5\\tnsubj\\t_\\t_\\n5\\tkicked\\tkick\\tVERB\\tVVD\\tMood=Ind|Person=3|Tense=Past|VerbForm=Fin\\t3\\tacl:relcl\\t_\\t_\\n6\\tthe\\tthe\\tDET\\tAT0\\tDefinite=Def|PronType=Art\\t8\\tdet\\t_\\t_\\n7\\tsoccer\\tsoccer\\tNOUN\\tNN1\\tDegree=Cmp\\t8\\tcompound\\t_\\t_\\n8\\tball\\tball\\tNOUN\\tNN1\\tNumber=Sing\\t5\\tobj\\t_\\t_\\n9\\talso\\talso\\tADV\\tAV0\\t_\\t10\\tadvmod\\t_\\t_\\n10\\tchecked\\tcheck\\tVERB\\tVVD\\tTense=Past|VerbForm=Part\\t8\\tacl\\t_\\t_\\n11\\ton\\ton\\tADP\\tAVP\\t_\\t12\\tcase\\t_\\t_\\n12\\tthem\\tthey\\tPROPN\\tPNP\\tNumber=Plur|Person=3|PronType=Prs\\t10\\tobl\\t_\\t_\\n13\\t.\\t.\\tPUNCT\\tSENT\\t_\\t3\\tpunct\\t_\\t_\\n\\n1\\tWhat\\twhat\\tDET\\tDTQ\\tPronType=Int\\t2\\tdet\\t_\\t_\\n2\\tI\\tI\\tPROPN\\tPNP\\tNumber=Sing|Person=1|PronType=Prs\\t3\\tnsubj\\t_\\t_\\n3\\tfound\\tfind\\tVERB\\tVVD\\tMood=Ind|Person=3|Tense=Past|VerbForm=Fin\\t0\\troot\\t_\\t_\\n4\\tmost\\tmost\\tADV\\tAV0\\t_\\t5\\tadvmod\\t_\\t_\\n5\\tinteresting\\tinterest\\tADJ\\tAJ0\\tDegree=Pos\\t8\\tnsubj\\t_\\t_\\n6\\twas\\tbe\\tAUX\\tVBD\\tMood=Ind|Number=Sing|Person=3|Tense=Past|VerbForm=Fin\\t8\\tcop\\t_\\t_\\n7\\tthe\\tthe\\tDET\\tAT0\\tDefinite=Def|PronType=Art\\t8\\tdet\\t_\\t_\\n8\\tfact\\tfact\\tNOUN\\tNN1\\tNumber=Sing\\t3\\tccomp\\t_\\t_\\n9\\tthat\\tthat\\tSCONJ\\tCJT\\t_\\t16\\tmark\\t_\\t_\\n10\\tthe\\tthe\\tDET\\tAT0\\tDefinite=Def|PronType=Art\\t11\\tdet\\t_\\t_\\n11\\tdriver\\tdriver\\tNOUN\\tNN1\\tNumber=Sing\\t16\\tnsubj\\t_\\t_\\n12\\tof\\tof\\tADP\\tPRF\\t_\\t15\\tcase\\t_\\t_\\n13\\tthe\\tthe\\tDET\\tAT0\\tDefinite=Def|PronType=Art\\t15\\tdet\\t_\\t_\\n14\\tfirst\\tfirst\\tADJ\\tORD\\tDegree=Pos|NumType=Ord\\t15\\tamod\\t_\\t_\\n15\\tcar\\tcar\\tNOUN\\tNN1\\tNumber=Sing\\t11\\tnmod\\t_\\t_\\n16\\tchecked\\tcheck\\tVERB\\tVVD\\tMood=Ind|Person=3|Tense=Past|VerbForm=Fin\\t8\\tacl\\t_\\t_\\n17\\tto\\tto\\tPART\\tTO0\\t_\\t18\\tmark\\t_\\t_\\n18\\tsee\\tsee\\tVERB\\tVVI\\tVerbForm=Inf\\t16\\txcomp\\t_\\t_\\n19\\tif\\tif\\tSCONJ\\tCJS\\t_\\t21\\tmark\\t_\\t_\\n20\\the\\the\\tPROPN\\tPNP\\tGender=Masc|Number=Sing|Person=3|PronType=Prs\\t21\\tnsubj\\t_\\t_\\n21\\thit\\thit\\tVERB\\tVVD\\tVerbForm=Inf\\t18\\tadvcl\\t_\\t_\\n22\\tanything\\tanything\\tPRON\\tPNI\\tNumber=Sing\\t21\\tobj\\t_\\t_\\n23\\tin\\tin\\tADP\\tPRP\\t_\\t25\\tcase\\t_\\t_\\n24\\tthe\\tthe\\tDET\\tAT0\\tDefinite=Def|PronType=Art\\t25\\tdet\\t_\\t_\\n25\\tfront\\tfront\\tNOUN\\tNN1\\tNumber=Sing\\t21\\tobl\\t_\\t_\\n26\\tof\\tof\\tADP\\tPRF\\t_\\t28\\tcase\\t_\\t_\\n27\\this\\this\\tDET\\tDPS\\tPoss=Yes|PronType=Prs\\t28\\tdet\\t_\\t_\\n28\\tcar\\tcar\\tNOUN\\tNN1\\tNumber=Sing\\t25\\tnmod\\t_\\t_\\n29\\tbecause\\tbecause\\tSCONJ\\tCJS\\t_\\t30\\tmark\\t_\\t_\\n30\\tassessing\\tassess\\tVERB\\tVVG\\tVerbForm=Ger\\t21\\tadvcl\\t_\\t_\\n31\\tthe\\tthe\\tDET\\tAT0\\tDefinite=Def|PronType=Art\\t32\\tdet\\t_\\t_\\n32\\tdamage\\tdamage\\tNOUN\\tNN1\\tNumber=Sing\\t30\\tobj\\t_\\t_\\n33\\tto\\tto\\tADP\\tPRP\\t_\\t35\\tcase\\t_\\t_\\n34\\tthe\\tthe\\tDET\\tAT0\\tDefinite=Def|PronType=Art\\t35\\tdet\\t_\\t_\\n35\\tback\\tback\\tNOUN\\tNN1\\tNumber=Sing\\t30\\tobl\\t_\\t_\\n36\\tof\\tof\\tADP\\tPRF\\t_\\t38\\tcase\\t_\\t_\\n37\\this\\this\\tDET\\tDPS\\tPoss=Yes|PronType=Prs\\t38\\tdet\\t_\\t_\\n38\\tcar\\tcar\\tNOUN\\tNN1\\tNumber=Sing\\t35\\tnmod\\t_\\t_\\n39\\t.\\t.\\tPUNCT\\tSENT\\t_\\t3\\tpunct\\t_\\t_\\n\\n', '1\\thello\\thello\\tINTJ\\tITJ\\t_\\t0\\troot\\t_\\t_\\n\\n1\\tI\\ti\\tPROPN\\tPNP\\tNumber=Sing|Person=1|PronType=Prs\\t3\\tnsubj\\t_\\t_\\n2\\tam\\tbe\\tAUX\\tVBB\\tMood=Ind|Number=Sing|Person=1|Tense=Pres|VerbForm=Fin\\t3\\taux\\t_\\t_\\n3\\tcalling\\tcall\\tVERB\\tVVG\\tVerbForm=Ger\\t0\\troot\\t_\\t_\\n4\\ton\\ton\\tADP\\tPRP\\t_\\t5\\tcase\\t_\\t_\\n5\\tbehalf\\tbehalf\\tNOUN\\tNN1\\tNumber=Sing\\t3\\tobl\\t_\\t_\\n6\\tof\\tof\\tADP\\tPRF\\t_\\t9\\tcase\\t_\\t_\\n7\\tcase\\tcase\\tNOUN\\tNN1\\tNumber=Sing\\t9\\tcompound\\t_\\t_\\n8\\tnumber\\tnumber\\tNOUN\\tNN1\\tNumber=Sing\\t9\\tcompound\\t_\\t_\\n9\\tF16\\tF16\\tNOUN\\tNP0\\tNumType=Card\\t5\\tnmod\\t_\\t_\\n\\n1\\tI\\ti\\tPROPN\\tPNP\\tNumber=Sing|Person=1|PronType=Prs\\t4\\tnsubj\\t_\\t_\\n2\\twas\\tbe\\tAUX\\tVBD\\tMood=Ind|Number=Sing|Person=3|Tense=Past|VerbForm=Fin\\t4\\tcop\\t_\\t_\\n3\\ta\\ta\\tDET\\tAT0\\tDefinite=Ind|Number=Sing|PronType=Art\\t4\\tdet\\t_\\t_\\n4\\twitness\\twitness\\tNOUN\\tNN1\\tNumber=Sing\\t0\\troot\\t_\\t_\\n5\\tto\\tto\\tADP\\tPRP\\t_\\t7\\tcase\\t_\\t_\\n6\\tan\\tan\\tDET\\tAT0\\tDefinite=Ind|Number=Sing|PronType=Art\\t7\\tdet\\t_\\t_\\n7\\taccident\\taccident\\tNOUN\\tNN1\\tNumber=Sing\\t4\\tnmod\\t_\\t_\\n8\\tthat\\tthat\\tSCONJ\\tCJT\\tPronType=Rel\\t9\\tmark\\t_\\t_\\n9\\thappened\\thappen\\tVERB\\tVVD\\tMood=Ind|Person=3|Tense=Past|VerbForm=Fin\\t4\\tacl:relcl\\t_\\t_\\n10\\tduring\\tduring\\tADP\\tPRP\\t_\\t13\\tcase\\t_\\t_\\n11\\tthe\\tthe\\tDET\\tAT0\\tDefinite=Def|PronType=Art\\t13\\tdet\\t_\\t_\\n12\\tday\\tday\\tNOUN\\tNN1\\tDegree=Pos\\t13\\tcompound\\t_\\t_\\n13\\ttime\\ttime\\tNOUN\\tNN1\\tNumber=Sing\\t9\\tobl\\t_\\t_\\n14\\ttoday\\ttoday\\tADV\\tAV0\\t_\\t9\\tadvmod\\t_\\t_\\n\\n1\\tI\\ti\\tPROPN\\tPNP\\tNumber=Sing|Person=1|PronType=Prs\\t3\\tnsubj\\t_\\t_\\n2\\twas\\tbe\\tAUX\\tVBD\\tMood=Ind|Number=Sing|Person=3|Tense=Past|VerbForm=Fin\\t3\\taux\\t_\\t_\\n3\\twalking\\twalk\\tVERB\\tVVG\\tVerbForm=Ger\\t0\\troot\\t_\\t_\\n4\\talong\\talong\\tADP\\tPRP\\t_\\t6\\tcase\\t_\\t_\\n5\\tthe\\tthe\\tDET\\tAT0\\tDefinite=Def|PronType=Art\\t6\\tdet\\t_\\t_\\n6\\tstreet\\tstreet\\tNOUN\\tNN1\\tNumber=Sing\\t3\\tobl\\t_\\t_\\n7\\twhile\\twhile\\tSCONJ\\tCJS\\t_\\t15\\tmark\\t_\\t_\\n8\\ta\\ta\\tDET\\tAT0\\tDefinite=Ind|Number=Sing|PronType=Art\\t9\\tdet\\t_\\t_\\n9\\tman\\tman\\tNOUN\\tNN1\\tGender=Masc|Number=Sing\\t15\\tnsubj\\t_\\t_\\n10\\tand\\tand\\tCCONJ\\tCJC\\t_\\t12\\tcc\\t_\\t_\\n11\\ta\\ta\\tDET\\tAT0\\tDefinite=Ind|Number=Sing|PronType=Art\\t12\\tdet\\t_\\t_\\n12\\twoman\\twoman\\tNOUN\\tNN1\\tNumber=Sing\\t9\\tconj\\t_\\t_\\n13\\twere\\tbe\\tAUX\\tVBD\\tMood=Ind|Number=Plur|Tense=Past|VerbForm=Fin\\t15\\taux\\t_\\t_\\n14\\talso\\talso\\tADV\\tAV0\\t_\\t15\\tadvmod\\t_\\t_\\n15\\twalking\\twalk\\tVERB\\tVVG\\tVerbForm=Ger\\t3\\tadvcl\\t_\\t_\\n16\\tnearby\\tnearby\\tADV\\tAV0\\t_\\t15\\tadvmod\\t_\\t_\\n\\n1\\tand\\tand\\tCCONJ\\tCJC\\t_\\t5\\tcc\\t_\\t_\\n2\\tthe\\tthe\\tDET\\tAT0\\tDefinite=Def|PronType=Art\\t3\\tdet\\t_\\t_\\n3\\tman\\tman\\tNOUN\\tNN1\\tGender=Masc|Number=Sing\\t5\\tnsubj\\t_\\t_\\n4\\twas\\tbe\\tAUX\\tVBD\\tMood=Ind|Number=Sing|Person=3|Tense=Past|VerbForm=Fin\\t5\\taux\\t_\\t_\\n5\\tholding\\thold\\tVERB\\tVVG\\tVerbForm=Ger\\t0\\troot\\t_\\t_\\n6\\ta\\ta\\tDET\\tAT0\\tDefinite=Ind|Number=Sing|PronType=Art\\t8\\tdet\\t_\\t_\\n7\\tsports\\tsport\\tNOUN\\tNN2\\tNumber=Plur\\t8\\tcompound\\t_\\t_\\n8\\tball\\tball\\tNOUN\\tNN1\\tMood=Ind|Number=Plur|Tense=Pres|VerbForm=Fin\\t5\\tobj\\t_\\t_\\n9\\tthat\\tthat\\tSCONJ\\tCJT\\t_\\t12\\tmark\\t_\\t_\\n10\\the\\the\\tPROPN\\tPNP\\tGender=Masc|Number=Sing|Person=3|PronType=Prs\\t12\\tnsubj\\t_\\t_\\n11\\tsuddenly\\tsuddenly\\tADV\\tAV0\\t_\\t12\\tadvmod\\t_\\t_\\n12\\tdropped\\tdrop\\tVERB\\tVVD\\tTense=Past|VerbForm=Part\\t8\\tacl\\t_\\t_\\n13\\tby\\tby\\tADP\\tAVP\\t_\\t14\\tcase\\t_\\t_\\n14\\taccidentally\\taccidentally\\tADV\\tAV0\\t_\\t12\\tobl\\t_\\t_\\n\\n1\\tthis\\tthis\\tDET\\tDT0\\tNumber=Sing|PronType=Dem\\t2\\tdet\\t_\\t_\\n2\\tball\\tball\\tNOUN\\tNN1\\tNumber=Sing\\t3\\tnsubj\\t_\\t_\\n3\\trolled\\troll\\tVERB\\tVVD\\tMood=Ind|Person=3|Tense=Past|VerbForm=Fin\\t0\\troot\\t_\\t_\\n4\\tout\\tout\\tADP\\tAVP\\t_\\t3\\tcompound:prt\\t_\\t_\\n5\\tin\\tin\\tADP\\tPRP\\t_\\t8\\tcase\\t_\\t_\\n6\\tacross\\tacross\\tADP\\tPRP\\t_\\t8\\tcase\\t_\\t_\\n7\\tthe\\tthe\\tDET\\tAT0\\tDefinite=Def|PronType=Art\\t8\\tdet\\t_\\t_\\n8\\tstreet\\tstreet\\tNOUN\\tNN1\\tNumber=Sing\\t3\\tobl\\t_\\t_\\n9\\ttowards\\ttowards\\tADP\\tPRP\\t_\\t11\\tcase\\t_\\t_\\n10\\ta\\ta\\tDET\\tAT0\\tDefinite=Ind|Number=Sing|PronType=Art\\t11\\tdet\\t_\\t_\\n11\\twoman\\twoman\\tNOUN\\tNN1\\tNumber=Sing\\t3\\tobl\\t_\\t_\\n12\\twith\\twith\\tADP\\tPRP\\t_\\t14\\tcase\\t_\\t_\\n13\\ta\\ta\\tDET\\tAT0\\tDefinite=Ind|Number=Sing|PronType=Art\\t14\\tdet\\t_\\t_\\n14\\tdog\\tdog\\tNOUN\\tNN1\\tNumber=Sing\\t11\\tnmod\\t_\\t_\\n\\n1\\tthe\\tthe\\tDET\\tAT0\\tDefinite=Def|PronType=Art\\t2\\tdet\\t_\\t_\\n2\\twoman\\twoman\\tNOUN\\tNN1\\tNumber=Sing\\t4\\tnsubj\\t_\\t_\\n3\\twas\\tbe\\tAUX\\tVBD\\tMood=Ind|Number=Sing|Person=3|Tense=Past|VerbForm=Fin\\t4\\tcop\\t_\\t_\\n4\\tpreoccupied\\tpreoccupied\\tADJ\\tAJ0\\tTense=Past|VerbForm=Part\\t0\\troot\\t_\\t_\\n5\\twith\\twith\\tADP\\tPRP\\t_\\t6\\tmark\\t_\\t_\\n6\\tunpacking\\tunpack\\tVERB\\tVVG\\tVerbForm=Ger\\t4\\tadvcl\\t_\\t_\\n7\\ther\\tshe\\tDET\\tDPS\\tPoss=Yes|PronType=Prs\\t8\\tdet\\t_\\t_\\n8\\tgroceries\\tgrocery\\tNOUN\\tNN2\\tNumber=Plur\\t6\\tobj\\t_\\t_\\n9\\tfrom\\tfrom\\tADP\\tPRP\\t_\\t11\\tcase\\t_\\t_\\n10\\tthe\\tthe\\tDET\\tAT0\\tDefinite=Def|PronType=Art\\t11\\tdet\\t_\\t_\\n11\\ttrunk\\ttrunk\\tNOUN\\tNN1\\tNumber=Sing\\t6\\tobl\\t_\\t_\\n12\\tof\\tof\\tADP\\tPRF\\t_\\t14\\tcase\\t_\\t_\\n13\\tthe\\tthe\\tDET\\tAT0\\tDefinite=Def|PronType=Art\\t14\\tdet\\t_\\t_\\n14\\tcar\\tcar\\tNOUN\\tNN1\\tNumber=Sing\\t11\\tnmod\\t_\\t_\\n\\n1\\tand\\tand\\tCCONJ\\tCJC\\t_\\t5\\tcc\\t_\\t_\\n2\\tso\\tso\\tINTJ\\tITJ\\t_\\t5\\tdiscourse\\t_\\t_\\n3\\tthe\\tthe\\tDET\\tAT0\\tDefinite=Def|PronType=Art\\t4\\tdet\\t_\\t_\\n4\\tdog\\tdog\\tNOUN\\tNN1\\tNumber=Sing\\t5\\tnsubj\\t_\\t_\\n5\\tsaw\\tsee\\tVERB\\tVVD\\tMood=Ind|Person=3|Tense=Past|VerbForm=Fin\\t0\\troot\\t_\\t_\\n6\\tthe\\tthe\\tDET\\tAT0\\tDefinite=Def|PronType=Art\\t7\\tdet\\t_\\t_\\n7\\tball\\tball\\tNOUN\\tNN1\\tNumber=Sing\\t5\\tobj\\t_\\t_\\n\\n1\\tand\\tand\\tCCONJ\\tCJC\\t_\\t2\\tcc\\t_\\t_\\n2\\tchased\\tchase\\tVERB\\tVVD\\tMood=Ind|Person=3|Tense=Past|VerbForm=Fin\\t0\\troot\\t_\\t_\\n3\\tafter\\tafter\\tADP\\tPRP\\t_\\t4\\tcase\\t_\\t_\\n4\\tit\\tit\\tPROPN\\tPNP\\tNumber=Sing|Person=3|PronType=Prs\\t2\\tobl\\t_\\t_\\n5\\tinto\\tinto\\tADP\\tPRP\\t_\\t7\\tcase\\t_\\t_\\n6\\tthe\\tthe\\tDET\\tAT0\\tDefinite=Def|PronType=Art\\t7\\tdet\\t_\\t_\\n7\\tstreet\\tstreet\\tNOUN\\tNN1\\tNumber=Sing\\t2\\tobl\\t_\\t_\\n\\n1\\tat\\tat\\tADP\\tPRP\\t_\\t3\\tcase\\t_\\t_\\n2\\tthis\\tthis\\tDET\\tDT0\\tNumber=Sing|PronType=Dem\\t3\\tdet\\t_\\t_\\n3\\ttime\\ttime\\tNOUN\\tNN1\\tNumber=Sing\\t8\\tobl\\t_\\t_\\n4\\tthere\\tthere\\tADV\\tEX0\\t_\\t8\\tadvmod\\t_\\t_\\n5\\twas\\tbe\\tAUX\\tVBD\\tMood=Ind|Number=Sing|Person=3|Tense=Past|VerbForm=Fin\\t8\\tcop\\t_\\t_\\n6\\ta\\ta\\tDET\\tAT0\\tDefinite=Ind|Number=Sing|PronType=Art\\t8\\tdet\\t_\\t_\\n7\\tblue\\tblue\\tADJ\\tAJ0\\tDegree=Pos\\t8\\tamod\\t_\\t_\\n8\\tcar\\tcar\\tNOUN\\tNN1\\tNumber=Sing\\t0\\troot\\t_\\t_\\n9\\tthat\\tthat\\tSCONJ\\tCJT\\tPronType=Rel\\t11\\tmark\\t_\\t_\\n10\\twas\\tbe\\tAUX\\tVBD\\tMood=Ind|Number=Sing|Person=3|Tense=Past|VerbForm=Fin\\t11\\taux\\t_\\t_\\n11\\tcoming\\tcome\\tVERB\\tVVG\\tVerbForm=Ger\\t8\\tacl:relcl\\t_\\t_\\n12\\tdown\\tdown\\tADP\\tPRP\\t_\\t14\\tcase\\t_\\t_\\n13\\tthe\\tthe\\tDET\\tAT0\\tDefinite=Def|PronType=Art\\t14\\tdet\\t_\\t_\\n14\\tstreet\\tstreet\\tNOUN\\tNN1\\tNumber=Sing\\t11\\tobl\\t_\\t_\\n\\n1\\tand\\tand\\tCCONJ\\tCJC\\t_\\t3\\tcc\\t_\\t_\\n2\\tthe\\tthe\\tDET\\tAT0\\tDefinite=Def|PronType=Art\\t3\\tdet\\t_\\t_\\n3\\tdriver\\tdriver\\tNOUN\\tNN1\\tNumber=Sing\\t10\\tnsubj\\t_\\t_\\n4\\tof\\tof\\tADP\\tPRF\\t_\\t7\\tcase\\t_\\t_\\n5\\tthe\\tthe\\tDET\\tAT0\\tDefinite=Def|PronType=Art\\t7\\tdet\\t_\\t_\\n6\\tblue\\tblue\\tADJ\\tAJ0\\tNumber=Sing\\t7\\tamod\\t_\\t_\\n7\\tcar\\tcar\\tNOUN\\tNN1\\tNumber=Sing\\t3\\tnmod\\t_\\t_\\n8\\tmust\\tmust\\tAUX\\tVM0\\tMood=Ind|Person=3|Tense=Pres|VerbForm=Fin\\t10\\taux\\t_\\t_\\n9\\thave\\thave\\tAUX\\tVHI\\tVerbForm=Inf\\t10\\taux\\t_\\t_\\n10\\tnoticed\\tnotice\\tVERB\\tVVN\\tTense=Past|VerbForm=Part\\t0\\troot\\t_\\t_\\n11\\tthe\\tthe\\tDET\\tAT0\\tDefinite=Def|PronType=Art\\t12\\tdet\\t_\\t_\\n12\\tdog\\tdog\\tNOUN\\tNN1\\tNumber=Sing\\t10\\tobj\\t_\\t_\\n13\\tor\\tor\\tCCONJ\\tCJC\\t_\\t15\\tcc\\t_\\t_\\n14\\tthe\\tthe\\tDET\\tAT0\\tDefinite=Def|PronType=Art\\t15\\tdet\\t_\\t_\\n15\\tball\\tball\\tNOUN\\tNN1\\tNumber=Sing\\t12\\tconj\\t_\\t_\\n16\\tbecause\\tbecause\\tSCONJ\\tCJS\\t_\\t19\\tmark\\t_\\t_\\n17\\the\\the\\tPROPN\\tPNP\\tGender=Masc|Number=Sing|Person=3|PronType=Prs\\t19\\tnsubj\\t_\\t_\\n18\\tsuddenly\\tsuddenly\\tADV\\tAV0\\t_\\t19\\tadvmod\\t_\\t_\\n19\\tstopped\\tstop\\tVERB\\tVVD\\tMood=Ind|Person=3|Tense=Past|VerbForm=Fin\\t10\\tadvcl\\t_\\t_\\n20\\this\\the\\tDET\\tDPS\\tPoss=Yes|PronType=Prs\\t21\\tdet\\t_\\t_\\n21\\tcar\\tcar\\tNOUN\\tNN1\\tNumber=Sing\\t19\\tobj\\t_\\t_\\n\\n1\\thowever\\thowever\\tADV\\tAV0\\t_\\t6\\tadvmod\\t_\\t_\\n2\\tthere\\tthere\\tADV\\tEX0\\t_\\t6\\tadvmod\\t_\\t_\\n3\\twas\\tbe\\tAUX\\tVBD\\tMood=Ind|Number=Sing|Person=3|Tense=Past|VerbForm=Fin\\t6\\tcop\\t_\\t_\\n4\\ta\\ta\\tDET\\tAT0\\tDefinite=Ind|Number=Sing|PronType=Art\\t6\\tdet\\t_\\t_\\n5\\twhite\\twhite\\tADJ\\tAJ0\\tDegree=Pos\\t6\\tamod\\t_\\t_\\n6\\tcar\\tcar\\tNOUN\\tNN1\\tNumber=Sing\\t0\\troot\\t_\\t_\\n7\\tthat\\tthat\\tSCONJ\\tCJT\\tPronType=Rel\\t19\\tmark\\t_\\t_\\n8\\twas\\tbe\\tAUX\\tVBD\\tMood=Ind|Number=Sing|Person=3|Tense=Past|VerbForm=Fin\\t9\\taux\\t_\\t_\\n9\\tcoming\\tcome\\tVERB\\tVVG\\tVerbForm=Ger\\t19\\tcsubj\\t_\\t_\\n10\\tdown\\tdown\\tADP\\tPRP\\t_\\t12\\tcase\\t_\\t_\\n11\\tthe\\tthe\\tDET\\tAT0\\tDefinite=Def|PronType=Art\\t12\\tdet\\t_\\t_\\n12\\tstreet\\tstreet\\tNOUN\\tNN1\\tNumber=Sing\\t9\\tobl\\t_\\t_\\n13\\tthat\\tthat\\tSCONJ\\tCJT\\tPronType=Rel\\t19\\tobl\\t_\\t_\\n14\\twas\\tbe\\tAUX\\tVBD\\tMood=Ind|Number=Sing|Person=3|Tense=Past|VerbForm=Fin\\t19\\tcop\\t_\\t_\\n15\\tdirectly\\tdirectly\\tADV\\tAV0\\t_\\t19\\tadvmod\\t_\\t_\\n16\\tbehind\\tbehind\\tADP\\tPRP\\tVerbForm=Inf\\t19\\tcase\\t_\\t_\\n17\\tthe\\tthe\\tDET\\tAT0\\tDefinite=Def|PronType=Art\\t19\\tdet\\t_\\t_\\n18\\tblue\\tblue\\tADJ\\tAJ0\\tNumber=Sing\\t19\\tamod\\t_\\t_\\n19\\tcar\\tcar\\tNOUN\\tNN1\\tNumber=Sing\\t6\\tacl:relcl\\t_\\t_\\n\\n1\\tthe\\tthe\\tDET\\tAT0\\tDefinite=Def|PronType=Art\\t2\\tdet\\t_\\t_\\n2\\tdriver\\tdriver\\tNOUN\\tNN1\\tNumber=Sing\\t9\\tnsubj\\t_\\t_\\n3\\tof\\tof\\tADP\\tPRF\\t_\\t6\\tcase\\t_\\t_\\n4\\tthe\\tthe\\tDET\\tAT0\\tDefinite=Def|PronType=Art\\t6\\tdet\\t_\\t_\\n5\\twhite\\twhite\\tADJ\\tAJ0\\tDegree=Pos\\t6\\tamod\\t_\\t_\\n6\\tcar\\tcar\\tNOUN\\tNN1\\tNumber=Sing\\t2\\tnmod\\t_\\t_\\n7\\talso\\talso\\tADV\\tAV0\\t_\\t9\\tadvmod\\t_\\t_\\n8\\tabruptly\\tabruptly\\tADV\\tAV0\\t_\\t9\\tadvmod\\t_\\t_\\n9\\tstopped\\tstop\\tVERB\\tVVD\\tMood=Ind|Person=3|Tense=Past|VerbForm=Fin\\t0\\troot\\t_\\t_\\n10\\this\\the\\tDET\\tDPS\\tPoss=Yes|PronType=Prs\\t11\\tdet\\t_\\t_\\n11\\tcar\\tcar\\tNOUN\\tNN1\\tNumber=Sing\\t9\\tobj\\t_\\t_\\n\\n1\\tbut\\tbut\\tCCONJ\\tCJC\\t_\\t6\\tcc\\t_\\t_\\n2\\tbecause\\tbecause\\tSCONJ\\tCJS\\t_\\t6\\tcase\\t_\\t_\\n3\\tof\\tof\\tADP\\tPRF\\t_\\t2\\tfixed\\t_\\t_\\n4\\tthe\\tthe\\tDET\\tAT0\\tDefinite=Def|PronType=Art\\t6\\tdet\\t_\\t_\\n5\\tclose\\tclose\\tADJ\\tAJ0\\tDegree=Pos\\t6\\tamod\\t_\\t_\\n6\\tproximity\\tproximity\\tNOUN\\tNN1\\tNumber=Sing\\t0\\troot\\t_\\t_\\n7\\tof\\tof\\tADP\\tPRF\\t_\\t10\\tcase\\t_\\t_\\n8\\tthe\\tthe\\tDET\\tAT0\\tDefinite=Def|PronType=Art\\t10\\tdet\\t_\\t_\\n9\\ttwo\\ttwo\\tNUM\\tCRD\\tNumType=Card\\t10\\tnummod\\t_\\t_\\n10\\tcars\\tcar\\tNOUN\\tNN2\\tNumber=Plur\\t6\\tnmod\\t_\\t_\\n11\\the\\the\\tPROPN\\tPNP\\tGender=Masc|Number=Sing|Person=3|PronType=Prs\\t12\\tnsubj\\t_\\t_\\n12\\tended\\tend\\tVERB\\tVVD\\tMood=Ind|Person=3|Tense=Past|VerbForm=Fin\\t10\\tacl:relcl\\t_\\t_\\n13\\tup\\tup\\tADP\\tAVP\\t_\\t12\\tcompound:prt\\t_\\t_\\n14\\tbumping\\tbump\\tVERB\\tVVG\\tVerbForm=Ger\\t12\\txcomp\\t_\\t_\\n15\\tinto\\tinto\\tADP\\tPRP\\t_\\t18\\tcase\\t_\\t_\\n16\\tthe\\tthe\\tDET\\tAT0\\tDefinite=Def|PronType=Art\\t18\\tdet\\t_\\t_\\n17\\tback\\tback\\tADJ\\tAJ0\\tDegree=Pos\\t18\\tamod\\t_\\t_\\n18\\tend\\tend\\tNOUN\\tNN1\\tNumber=Sing\\t14\\tobl\\t_\\t_\\n19\\tof\\tof\\tADP\\tPRF\\t_\\t22\\tcase\\t_\\t_\\n20\\tthe\\tthe\\tDET\\tAT0\\tDefinite=Def|PronType=Art\\t22\\tdet\\t_\\t_\\n21\\tblue\\tblue\\tADJ\\tAJ0\\tNumber=Sing\\t22\\tamod\\t_\\t_\\n22\\tcar\\tcar\\tNOUN\\tNN1\\tNumber=Sing\\t18\\tnmod\\t_\\t_\\n\\n1\\tthe\\tthe\\tDET\\tAT0\\tDefinite=Def|PronType=Art\\t2\\tdet\\t_\\t_\\n2\\tcar\\tcar\\tNOUN\\tNN1\\tNumber=Sing\\t0\\troot\\t_\\t_\\n3\\tthe\\tthe\\tDET\\tAT0\\tDefinite=Def|PronType=Art\\t5\\tdet\\t_\\t_\\n4\\tblue\\tblue\\tADJ\\tAJ0\\tDegree=Pos\\t5\\tamod\\t_\\t_\\n5\\tcar\\tcar\\tNOUN\\tNN1\\tNumber=Sing\\t6\\tnsubj\\t_\\t_\\n6\\tappeared\\tappear\\tVERB\\tVVD\\tMood=Ind|Person=3|Tense=Past|VerbForm=Fin\\t2\\tacl:relcl\\t_\\t_\\n7\\tto\\tto\\tPART\\tTO0\\t_\\t9\\tmark\\t_\\t_\\n8\\tbe\\tbe\\tAUX\\tVBI\\tVerbForm=Inf\\t9\\taux:pass\\t_\\t_\\n9\\tdamaged\\tdamage\\tVERB\\tVVN\\tTense=Past|VerbForm=Part\\t6\\txcomp\\t_\\t_\\n\\n1\\tbut\\tbut\\tCCONJ\\tCJC\\t_\\t4\\tcc\\t_\\t_\\n2\\tno\\tno\\tDET\\tAT0\\tPronType=Ind\\t3\\tdet\\t_\\t_\\n3\\tperson\\tperson\\tNOUN\\tNN1\\tNumber=Sing\\t4\\tnsubj\\t_\\t_\\n4\\tappeared\\tappear\\tVERB\\tVVD\\tMood=Ind|Person=3|Tense=Past|VerbForm=Fin\\t0\\troot\\t_\\t_\\n5\\tto\\tto\\tPART\\tTO0\\t_\\t7\\tmark\\t_\\t_\\n6\\tbe\\tbe\\tAUX\\tVBI\\tVerbForm=Inf\\t7\\taux:pass\\t_\\t_\\n7\\tinjured\\tinjure\\tVERB\\tVVN\\tTense=Past|VerbForm=Part\\t4\\txcomp\\t_\\t_\\n\\n1\\tand\\tand\\tCCONJ\\tCJC\\t_\\t3\\tcc\\t_\\t_\\n2\\tthe\\tthe\\tDET\\tAT0\\tDefinite=Def|PronType=Art\\t3\\tdet\\t_\\t_\\n3\\tdrivers\\tdriver\\tNOUN\\tNN2\\tNumber=Plur\\t0\\troot\\t_\\t_\\n4\\tof\\tof\\tADP\\tPRF\\t_\\t6\\tcase\\t_\\t_\\n5\\tthe\\tthe\\tDET\\tAT0\\tDefinite=Def|PronType=Art\\t6\\tdet\\t_\\t_\\n6\\tcar\\tcar\\tNOUN\\tNN1\\tNumber=Sing\\t3\\tnmod\\t_\\t_\\n7\\tof\\tof\\tADP\\tPRF\\t_\\t10\\tcase\\t_\\t_\\n8\\tthe\\tthe\\tDET\\tAT0\\tDefinite=Def|PronType=Art\\t10\\tdet\\t_\\t_\\n9\\ttwo\\ttwo\\tNUM\\tCRD\\tNumType=Card\\t10\\tnummod\\t_\\t_\\n10\\tcars\\tcar\\tNOUN\\tNN2\\tNumber=Plur\\t3\\tnmod\\t_\\t_\\n11\\tcalled\\tcall\\tVERB\\tVVD\\tTense=Past|VerbForm=Part\\t10\\tacl\\t_\\t_\\n12\\t911\\t911\\tNOUN\\tNP0\\tNumType=Card\\t11\\txcomp\\t_\\t_\\n\\n', '1\\t\\ufeffI\\ti\\tPROPN\\tPNP\\tNumber=Sing|Person=1|PronType=Prs\\t3\\tnsubj\\t_\\t_\\n2\\twas\\tbe\\tAUX\\tVBD\\tMood=Ind|Number=Sing|Person=3|Tense=Past|VerbForm=Fin\\t3\\taux\\t_\\t_\\n3\\twalking\\twalk\\tVERB\\tVVG\\tVerbForm=Ger\\t0\\troot\\t_\\t_\\n4\\tdown\\tdown\\tADP\\tPRP\\t_\\t6\\tcase\\t_\\t_\\n5\\tthe\\tthe\\tDET\\tAT0\\tDefinite=Def|PronType=Art\\t6\\tdet\\t_\\t_\\n6\\tstreet\\tstreet\\tNOUN\\tNN1\\tNumber=Sing\\t3\\tobl\\t_\\t_\\n\\n1\\tand\\tand\\tCCONJ\\tCJC\\t_\\t7\\tcc\\t_\\t_\\n2\\ta\\ta\\tDET\\tAT0\\tDefinite=Ind|Number=Sing|PronType=Art\\t3\\tdet\\t_\\t_\\n3\\tman\\tman\\tNOUN\\tNN1\\tGender=Masc|Number=Sing\\t7\\tnsubj\\t_\\t_\\n4\\tand\\tand\\tCCONJ\\tCJC\\t_\\t5\\tcc\\t_\\t_\\n5\\twoman\\twoman\\tNOUN\\tNN1\\tNumber=Sing\\t3\\tconj\\t_\\t_\\n6\\twere\\tbe\\tAUX\\tVBD\\tMood=Ind|Number=Plur|Tense=Past|VerbForm=Fin\\t7\\taux\\t_\\t_\\n7\\twalking\\twalk\\tVERB\\tVVG\\tVerbForm=Ger\\t0\\troot\\t_\\t_\\n8\\ttowards\\ttowards\\tADP\\tPRP\\t_\\t9\\tcase\\t_\\t_\\n9\\tme\\ti\\tPROPN\\tPNP\\tNumber=Sing|Person=1|PronType=Prs\\t7\\tobl\\t_\\t_\\n10\\twith\\twith\\tADP\\tPRP\\t_\\t13\\tcase\\t_\\t_\\n11\\ta\\ta\\tDET\\tAT0\\tDefinite=Ind|Number=Sing|PronType=Art\\t13\\tdet\\t_\\t_\\n12\\tbaby\\tbaby\\tNOUN\\tNN1\\tDegree=Pos\\t13\\tcompound\\t_\\t_\\n13\\tcarriage\\tcarriage\\tNOUN\\tNN1\\tNumber=Sing\\t7\\tobl\\t_\\t_\\n14\\t.\\t.\\tPUNCT\\tSENT\\t_\\t7\\tpunct\\t_\\t_\\n\\n1\\tThe\\tthe\\tDET\\tAT0\\tDefinite=Def|PronType=Art\\t2\\tdet\\t_\\t_\\n2\\tman\\tman\\tNOUN\\tNN1\\tGender=Masc|Number=Sing\\t4\\tnsubj\\t_\\t_\\n3\\twas\\tbe\\tAUX\\tVBD\\tMood=Ind|Number=Sing|Person=3|Tense=Past|VerbForm=Fin\\t4\\taux\\t_\\t_\\n4\\tbouncing\\tbounce\\tVERB\\tVVG\\tVerbForm=Ger\\t0\\troot\\t_\\t_\\n5\\ta\\ta\\tDET\\tAT0\\tDefinite=Ind|Number=Sing|PronType=Art\\t6\\tdet\\t_\\t_\\n6\\tball\\tball\\tNOUN\\tNN1\\tNumber=Sing\\t4\\tobj\\t_\\t_\\n\\n1\\tand\\tand\\tCCONJ\\tCJC\\t_\\t13\\tcc\\t_\\t_\\n2\\twhen\\twhen\\tSCONJ\\tCJS\\t_\\t5\\tmark\\t_\\t_\\n3\\tthe\\tthe\\tDET\\tAT0\\tDefinite=Def|PronType=Art\\t4\\tdet\\t_\\t_\\n4\\tcouple\\tcouple\\tNOUN\\tNN1\\tNumber=Sing\\t5\\tnsubj\\t_\\t_\\n5\\tturned\\tturn\\tVERB\\tVVD\\tMood=Ind|Person=3|Tense=Past|VerbForm=Fin\\t13\\tadvcl\\t_\\t_\\n6\\tto\\tto\\tPART\\tTO0\\t_\\t7\\tmark\\t_\\t_\\n7\\tcross\\tcross\\tVERB\\tVVI\\tVerbForm=Inf\\t5\\txcomp\\t_\\t_\\n8\\tthe\\tthe\\tDET\\tAT0\\tDefinite=Def|PronType=Art\\t9\\tdet\\t_\\t_\\n9\\tstreet\\tstreet\\tNOUN\\tNN1\\tNumber=Sing\\t7\\tobj\\t_\\t_\\n10\\t,\\t,\\tPUNCT\\tPUN\\t_\\t13\\tpunct\\t_\\t_\\n11\\tthe\\tthe\\tDET\\tAT0\\tDefinite=Def|PronType=Art\\t12\\tdet\\t_\\t_\\n12\\tman\\tman\\tNOUN\\tNN1\\tGender=Masc|Number=Sing\\t13\\tnsubj\\t_\\t_\\n13\\tdropped\\tdrop\\tVERB\\tVVD\\tMood=Ind|Person=3|Tense=Past|VerbForm=Fin\\t0\\troot\\t_\\t_\\n14\\tthe\\tthe\\tDET\\tAT0\\tDefinite=Def|PronType=Art\\t15\\tdet\\t_\\t_\\n15\\tball\\tball\\tNOUN\\tNN1\\tNumber=Sing\\t13\\tobj\\t_\\t_\\n\\n1\\tand\\tand\\tCCONJ\\tCJC\\t_\\t3\\tcc\\t_\\t_\\n2\\tit\\tit\\tPROPN\\tPNP\\tNumber=Sing|Person=3|PronType=Prs\\t3\\tnsubj\\t_\\t_\\n3\\trolled\\troll\\tVERB\\tVVD\\tMood=Ind|Person=3|Tense=Past|VerbForm=Fin\\t0\\troot\\t_\\t_\\n4\\tinto\\tinto\\tADP\\tPRP\\t_\\t6\\tcase\\t_\\t_\\n5\\tthe\\tthe\\tDET\\tAT0\\tDefinite=Def|PronType=Art\\t6\\tdet\\t_\\t_\\n6\\tstreet\\tstreet\\tNOUN\\tNN1\\tNumber=Sing\\t3\\tobl\\t_\\t_\\n7\\t.\\t.\\tPUNCT\\tSENT\\t_\\t3\\tpunct\\t_\\t_\\n\\n1\\tOn\\ton\\tADP\\tPRP\\t_\\t4\\tcase\\t_\\t_\\n2\\tthe\\tthe\\tDET\\tAT0\\tDefinite=Def|PronType=Art\\t4\\tdet\\t_\\t_\\n3\\tother\\tother\\tADJ\\tAJ0\\tDegree=Pos\\t4\\tamod\\t_\\t_\\n4\\tside\\tside\\tNOUN\\tNN1\\tNumber=Sing\\t13\\tobl\\t_\\t_\\n5\\tof\\tof\\tADP\\tPRF\\t_\\t7\\tcase\\t_\\t_\\n6\\tthe\\tthe\\tDET\\tAT0\\tDefinite=Def|PronType=Art\\t7\\tdet\\t_\\t_\\n7\\tstreet\\tstreet\\tNOUN\\tNN1\\tNumber=Sing\\t4\\tnmod\\t_\\t_\\n8\\t,\\t,\\tPUNCT\\tPUN\\t_\\t13\\tpunct\\t_\\t_\\n9\\tthere\\tthere\\tADV\\tEX0\\t_\\t13\\tadvmod\\t_\\t_\\n10\\twas\\tbe\\tAUX\\tVBD\\tMood=Ind|Number=Sing|Person=3|Tense=Past|VerbForm=Fin\\t13\\tcop\\t_\\t_\\n11\\ta\\ta\\tDET\\tAT0\\tDefinite=Ind|Number=Sing|PronType=Art\\t12\\tdet\\t_\\t_\\n12\\twoman\\twoman\\tNOUN\\tNN1\\tNumber=Sing\\t13\\tnsubj\\t_\\t_\\n13\\tunloading\\tunload\\tVERB\\tVVG\\tNumber=Sing|Tense=Pres|VerbForm=Part\\t0\\troot\\t_\\t_\\n14\\ther\\tshe\\tDET\\tDPS\\tPoss=Yes|PronType=Prs\\t15\\tdet\\t_\\t_\\n15\\tgroceries\\tgrocery\\tNOUN\\tNN2\\tNumber=Plur\\t13\\tobj\\t_\\t_\\n16\\tfrom\\tfrom\\tADP\\tPRP\\t_\\t18\\tcase\\t_\\t_\\n17\\ther\\tshe\\tDET\\tDPS\\tPoss=Yes|PronType=Prs\\t18\\tdet\\t_\\t_\\n18\\tcar\\tcar\\tNOUN\\tNN1\\tNumber=Sing\\t13\\tobl\\t_\\t_\\n\\n1\\tand\\tand\\tCCONJ\\tCJC\\t_\\t2\\tcc\\t_\\t_\\n2\\tholding\\thold\\tVERB\\tVVG\\tVerbForm=Ger\\t0\\troot\\t_\\t_\\n3\\ther\\tshe\\tDET\\tDPS\\tPoss=Yes|PronType=Prs\\t4\\tdet\\t_\\t_\\n4\\tdog\\tdog\\tNOUN\\tNN1\\tNumber=Sing\\t2\\tobj\\t_\\t_\\n5\\tby\\tby\\tADP\\tPRP\\t_\\t7\\tcase\\t_\\t_\\n6\\this\\the\\tDET\\tDPS\\tPoss=Yes|PronType=Prs\\t7\\tdet\\t_\\t_\\n7\\tleash\\tleash\\tNOUN\\tNN1\\tNumber=Sing\\t2\\tobl\\t_\\t_\\n8\\t.\\t.\\tPUNCT\\tSENT\\t_\\t2\\tpunct\\t_\\t_\\n\\n1\\tThe\\tthe\\tDET\\tAT0\\tDefinite=Def|PronType=Art\\t2\\tdet\\t_\\t_\\n2\\tdog\\tdog\\tNOUN\\tNN1\\tNumber=Sing\\t3\\tnsubj\\t_\\t_\\n3\\tran\\trun\\tVERB\\tVVD\\tMood=Ind|Person=3|Tense=Past|VerbForm=Fin\\t0\\troot\\t_\\t_\\n4\\tinto\\tinto\\tADP\\tPRP\\t_\\t6\\tcase\\t_\\t_\\n5\\tthe\\tthe\\tDET\\tAT0\\tDefinite=Def|PronType=Art\\t6\\tdet\\t_\\t_\\n6\\tstreet\\tstreet\\tNOUN\\tNN1\\tNumber=Sing\\t3\\tobl\\t_\\t_\\n7\\tafter\\tafter\\tADP\\tPRP\\t_\\t9\\tcase\\t_\\t_\\n8\\tthe\\tthe\\tDET\\tAT0\\tDefinite=Def|PronType=Art\\t9\\tdet\\t_\\t_\\n9\\tball\\tball\\tNOUN\\tNN1\\tNumber=Sing|Person=3|PronType=Prs\\t3\\tobl\\t_\\t_\\n\\n1\\tand\\tand\\tCCONJ\\tCJC\\t_\\t2\\tcc\\t_\\t_\\n2\\tpulled\\tpull\\tVERB\\tVVD\\tMood=Ind|Person=3|Tense=Past|VerbForm=Fin\\t0\\troot\\t_\\t_\\n3\\tthe\\tthe\\tDET\\tAT0\\tDefinite=Def|PronType=Art\\t4\\tdet\\t_\\t_\\n4\\twoman\\twoman\\tNOUN\\tNN1\\tNumber=Sing\\t2\\tobj\\t_\\t_\\n5\\t(\\t(\\tPUNCT\\tPUL\\t_\\t9\\tpunct\\t_\\t_\\n6\\tsince\\tsince\\tSCONJ\\tCJS\\t_\\t9\\tmark\\t_\\t_\\n7\\tshe\\tshe\\tPROPN\\tPNP\\tGender=Fem|Number=Sing|Person=3|PronType=Prs\\t9\\tnsubj\\t_\\t_\\n8\\twas\\tbe\\tAUX\\tVBD\\tMood=Ind|Number=Sing|Person=3|Tense=Past|VerbForm=Fin\\t9\\taux\\t_\\t_\\n9\\tholding\\thold\\tVERB\\tVVG\\tVerbForm=Ger\\t2\\tadvcl\\t_\\t_\\n10\\tthe\\tthe\\tDET\\tAT0\\tDefinite=Def|PronType=Art\\t11\\tdet\\t_\\t_\\n11\\tleash\\tleash\\tNOUN\\tNN1\\tNumber=Sing\\t9\\tobj\\t_\\t_\\n12\\t)\\t)\\tPUNCT\\tPUR\\t_\\t9\\tpunct\\t_\\t_\\n13\\t,\\t,\\tPUNCT\\tPUN\\t_\\t9\\tpunct\\t_\\t_\\n14\\twhich\\twhich\\tDET\\tDTQ\\tPronType=Rel\\t15\\tnsubj\\t_\\t_\\n15\\tcaused\\tcause\\tVERB\\tVVD\\tMood=Ind|Person=3|Tense=Past|VerbForm=Fin\\t9\\tacl:relcl\\t_\\t_\\n16\\ther\\tshe\\tPROPN\\tPNP\\tPerson=3|PronType=Prs\\t15\\tobj\\t_\\t_\\n17\\tto\\tto\\tPART\\tTO0\\t_\\t18\\tmark\\t_\\t_\\n18\\tdrop\\tdrop\\tVERB\\tVVI\\tVerbForm=Inf\\t15\\txcomp\\t_\\t_\\n19\\ther\\tshe\\tDET\\tDPS\\tPoss=Yes|PronType=Prs\\t20\\tdet\\t_\\t_\\n20\\tgroceries\\tgrocery\\tNOUN\\tNN2\\tNumber=Plur\\t18\\tobj\\t_\\t_\\n21\\twhich\\twhich\\tDET\\tDTQ\\tPronType=Rel\\t22\\tnsubj\\t_\\t_\\n22\\trolled\\troll\\tVERB\\tVVD\\tMood=Ind|Person=3|Tense=Past|VerbForm=Fin\\t20\\tacl:relcl\\t_\\t_\\n23\\tinto\\tinto\\tADP\\tPRP\\t_\\t25\\tcase\\t_\\t_\\n24\\tthe\\tthe\\tDET\\tAT0\\tDefinite=Def|PronType=Art\\t25\\tdet\\t_\\t_\\n25\\tstreet\\tstreet\\tNOUN\\tNN1\\tNumber=Sing\\t22\\tobl\\t_\\t_\\n26\\t.\\t.\\tPUNCT\\tSENT\\t_\\t2\\tpunct\\t_\\t_\\n\\n1\\tAt\\tat\\tADP\\tPRP\\t_\\t4\\tcase\\t_\\t_\\n2\\tthe\\tthe\\tDET\\tAT0\\tDefinite=Def|PronType=Art\\t4\\tdet\\t_\\t_\\n3\\tsame\\tsame\\tADJ\\tAJ0\\tDegree=Pos\\t4\\tamod\\t_\\t_\\n4\\ttime\\ttime\\tNOUN\\tNN1\\tNumber=Sing\\t9\\tobl\\t_\\t_\\n5\\t,\\t,\\tPUNCT\\tPUN\\t_\\t9\\tpunct\\t_\\t_\\n6\\ttwo\\ttwo\\tNUM\\tCRD\\tNumType=Card\\t7\\tnummod\\t_\\t_\\n7\\tcars\\tcar\\tNOUN\\tNN2\\tNumber=Plur\\t9\\tnsubj\\t_\\t_\\n8\\twere\\tbe\\tAUX\\tVBD\\tMood=Ind|Number=Plur|Tense=Past|VerbForm=Fin\\t9\\taux\\t_\\t_\\n9\\tcoming\\tcome\\tVERB\\tVVG\\tVerbForm=Ger\\t0\\troot\\t_\\t_\\n10\\tdown\\tdown\\tADP\\tPRP\\t_\\t12\\tcase\\t_\\t_\\n11\\tthe\\tthe\\tDET\\tAT0\\tDefinite=Def|PronType=Art\\t12\\tdet\\t_\\t_\\n12\\tstreet\\tstreet\\tNOUN\\tNN1\\tNumber=Sing\\t9\\tobl\\t_\\t_\\n13\\t,\\t,\\tPUNCT\\tPUN\\t_\\t9\\tpunct\\t_\\t_\\n14\\ta\\ta\\tDET\\tAT0\\tDefinite=Ind|Number=Sing|PronType=Art\\t16\\tdet\\t_\\t_\\n15\\tblue\\tblue\\tADJ\\tAJ0\\tNumber=Sing\\t16\\tamod\\t_\\t_\\n16\\tone\\tone\\tPRON\\tPNI\\tNumType=Card\\t9\\tobl:npmod\\t_\\t_\\n17\\tand\\tand\\tCCONJ\\tCJC\\t_\\t20\\tcc\\t_\\t_\\n18\\ta\\ta\\tDET\\tAT0\\tDefinite=Ind|Number=Sing|PronType=Art\\t20\\tdet\\t_\\t_\\n19\\twhite\\twhite\\tADJ\\tAJ0\\tDegree=Pos\\t20\\tamod\\t_\\t_\\n20\\tone\\tone\\tPRON\\tPNI\\tNumType=Card\\t16\\tconj\\t_\\t_\\n21\\tbehind\\tbehind\\tADP\\tPRP\\tNumber=Sing\\t22\\tcase\\t_\\t_\\n22\\tit\\tit\\tPROPN\\tPNP\\tNumber=Sing|Person=3|PronType=Prs\\t20\\tnmod\\t_\\t_\\n23\\t.\\t.\\tPUNCT\\tSENT\\t_\\t9\\tpunct\\t_\\t_\\n\\n1\\tThe\\tthe\\tDET\\tAT0\\tDefinite=Def|PronType=Art\\t2\\tdet\\t_\\t_\\n2\\tblue\\tblue\\tADJ\\tAJ0\\tNumber=Sing\\t0\\troot\\t_\\t_\\n3\\tone\\tone\\tPRON\\tPNI\\tNumber=Sing|Person=3|PronType=Prs\\t4\\tnsubj\\t_\\t_\\n4\\tbraked\\tbrake\\tVERB\\tVVD\\tMood=Ind|Person=3|Tense=Past|VerbForm=Fin\\t2\\tacl:relcl\\t_\\t_\\n5\\tsharply\\tsharply\\tADV\\tAV0\\t_\\t7\\tadvmod\\t_\\t_\\n6\\tto\\tto\\tPART\\tTO0\\t_\\t7\\tmark\\t_\\t_\\n7\\tavoid\\tavoid\\tVERB\\tVVI\\tVerbForm=Inf\\t4\\txcomp\\t_\\t_\\n8\\thitting\\thit\\tVERB\\tVVG\\tVerbForm=Ger\\t7\\txcomp\\t_\\t_\\n9\\tthe\\tthe\\tDET\\tAT0\\tDefinite=Def|PronType=Art\\t10\\tdet\\t_\\t_\\n10\\tdog\\tdog\\tNOUN\\tNN1\\tNumber=Sing\\t8\\tobj\\t_\\t_\\n11\\tand\\tand\\tCCONJ\\tCJC\\t_\\t12\\tcc\\t_\\t_\\n12\\twoman\\twoman\\tNOUN\\tNN1\\tNumber=Sing\\t10\\tconj\\t_\\t_\\n\\n1\\tand\\tand\\tCCONJ\\tCJC\\t_\\t5\\tcc\\t_\\t_\\n2\\tthe\\tthe\\tDET\\tAT0\\tDefinite=Def|PronType=Art\\t4\\tdet\\t_\\t_\\n3\\twhite\\twhite\\tADJ\\tAJ0\\tDegree=Pos\\t4\\tamod\\t_\\t_\\n4\\tcar\\tcar\\tNOUN\\tNN1\\tNumber=Sing\\t5\\tnsubj\\t_\\t_\\n5\\trear-ended\\trear-end\\tVERB\\tVVD\\tMood=Ind|Person=3|Tense=Past|VerbForm=Fin\\t0\\troot\\t_\\t_\\n6\\tit\\tit\\tPROPN\\tPNP\\tNumber=Sing|Person=3|PronType=Prs\\t5\\tobj\\t_\\t_\\n7\\t.\\t.\\tPUNCT\\tSENT\\t_\\t5\\tpunct\\t_\\t_\\n\\n1\\tThe\\tthe\\tDET\\tAT0\\tDefinite=Def|PronType=Art\\t2\\tdet\\t_\\t_\\n2\\tdrivers\\tdriver\\tNOUN\\tNN2\\tNumber=Plur\\t6\\tnsubj\\t_\\t_\\n3\\tof\\tof\\tADP\\tPRF\\t_\\t5\\tcase\\t_\\t_\\n4\\tboth\\tboth\\tDET\\tDT0\\tPronType=Ind\\t5\\tdet\\t_\\t_\\n5\\tcars\\tcar\\tNOUN\\tNN2\\tNumber=Plur\\t2\\tnmod\\t_\\t_\\n6\\tstepped\\tstep\\tVERB\\tVVD\\tMood=Ind|Person=3|Tense=Past|VerbForm=Fin\\t0\\troot\\t_\\t_\\n7\\tout\\tout\\tADP\\tPRP\\t_\\t10\\tcase\\t_\\t_\\n8\\tof\\tof\\tADP\\tPRF\\t_\\t10\\tcase\\t_\\t_\\n9\\ttheir\\tthey\\tDET\\tDPS\\tPoss=Yes|PronType=Prs\\t10\\tdet\\t_\\t_\\n10\\tcars\\tcar\\tNOUN\\tNN2\\tNumber=Plur\\t6\\tobl\\t_\\t_\\n\\n1\\tand\\tand\\tCCONJ\\tCJC\\t_\\t3\\tcc\\t_\\t_\\n2\\tthe\\tthe\\tDET\\tAT0\\tDefinite=Def|PronType=Art\\t3\\tdet\\t_\\t_\\n3\\tdriver\\tdriver\\tNOUN\\tNN1\\tNumber=Sing\\t0\\troot\\t_\\t_\\n4\\tof\\tof\\tADP\\tPRF\\t_\\t7\\tcase\\t_\\t_\\n5\\tthe\\tthe\\tDET\\tAT0\\tDefinite=Def|PronType=Art\\t7\\tdet\\t_\\t_\\n6\\tblue\\tblue\\tADJ\\tAJ0\\tNumber=Sing\\t7\\tamod\\t_\\t_\\n7\\tcar\\tcar\\tNOUN\\tNN1\\tNumber=Sing\\t3\\tnmod\\t_\\t_\\n8\\tcalled\\tcall\\tVERB\\tVVD\\tTense=Past|VerbForm=Part\\t3\\tacl\\t_\\t_\\n9\\tthe\\tthe\\tDET\\tAT0\\tDefinite=Def|PronType=Art\\t10\\tdet\\t_\\t_\\n10\\tpolice\\tpolice\\tNOUN\\tNN0\\tNumber=Sing\\t8\\tobj\\t_\\t_\\n11\\t.\\t.\\tPUNCT\\tSENT\\t_\\t3\\tpunct\\t_\\t_\\n\\n1\\tThe\\tthe\\tDET\\tAT0\\tDefinite=Def|PronType=Art\\t2\\tdet\\t_\\t_\\n2\\tman\\tman\\tNOUN\\tNN1\\tGender=Masc|Number=Sing\\t8\\tnsubj\\t_\\t_\\n3\\twho\\twho\\tPRON\\tPNQ\\tPronType=Rel\\t5\\tnsubj\\t_\\t_\\n4\\thad\\thave\\tAUX\\tVHD\\tMood=Ind|Person=3|Tense=Past|VerbForm=Fin\\t5\\taux\\t_\\t_\\n5\\tdropped\\tdrop\\tVERB\\tVVN\\tTense=Past|VerbForm=Part\\t2\\tacl:relcl\\t_\\t_\\n6\\tthe\\tthe\\tDET\\tAT0\\tDefinite=Def|PronType=Art\\t7\\tdet\\t_\\t_\\n7\\tball\\tball\\tNOUN\\tNN1\\tNumber=Sing\\t5\\tobj\\t_\\t_\\n8\\thelped\\thelp\\tVERB\\tVVD\\tMood=Ind|Person=3|Tense=Past|VerbForm=Fin\\t0\\troot\\t_\\t_\\n9\\tthe\\tthe\\tDET\\tAT0\\tDefinite=Def|PronType=Art\\t10\\tdet\\t_\\t_\\n10\\twoman\\twoman\\tNOUN\\tNN1\\tDegree=Pos\\t11\\tnsubj\\t_\\t_\\n11\\tpick\\tpick\\tVERB\\tVVI\\tNumber=Sing\\t8\\tccomp\\t_\\t_\\n12\\tup\\tup\\tADP\\tAVP\\t_\\t11\\tcompound:prt\\t_\\t_\\n13\\ther\\tshe\\tDET\\tDPS\\tPoss=Yes|PronType=Prs\\t14\\tdet\\t_\\t_\\n14\\tgroceries\\tgrocery\\tNOUN\\tNN2\\tNumber=Plur\\t11\\tobj\\t_\\t_\\n\\n1\\tand\\tand\\tCCONJ\\tCJC\\t_\\t3\\tcc\\t_\\t_\\n2\\tthen\\tthen\\tADV\\tAV0\\t_\\t3\\tadvmod\\t_\\t_\\n3\\twent\\tgo\\tVERB\\tVVD\\tMood=Ind|Person=3|Tense=Past|VerbForm=Fin\\t0\\troot\\t_\\t_\\n4\\tover\\tover\\tADP\\tPRP\\t_\\t3\\tcompound:prt\\t_\\t_\\n5\\tto\\tto\\tADP\\tPRP\\t_\\t8\\tcase\\t_\\t_\\n6\\tthe\\tthe\\tDET\\tAT0\\tDefinite=Def|PronType=Art\\t8\\tdet\\t_\\t_\\n7\\ttwo\\ttwo\\tNUM\\tCRD\\tNumType=Card\\t8\\tnummod\\t_\\t_\\n8\\tdrivers\\tdriver\\tNOUN\\tNN2\\tNumber=Plur\\t3\\tobl\\t_\\t_\\n9\\t.\\t.\\tPUNCT\\tSENT\\t_\\t3\\tpunct\\t_\\t_\\n\\n']"
      ]
     },
     "execution_count": 511,
     "metadata": {},
     "output_type": "execute_result"
    }
   ],
   "source": [
    "en_bi_texts[:3]"
   ]
  },
  {
   "cell_type": "code",
   "execution_count": 512,
   "id": "b2155f6f",
   "metadata": {},
   "outputs": [
    {
     "data": {
      "text/plain": [
       "[None, None, None, None, None, None, None, None, None, None, None, None, None, None, None, None, None, None, None, None, None, None, None, None, None, None, None, None, None, None, None, None, None, None, None, None, None, None, None, None, None, None, None, None, None, None, None, None, None, None, None, None, None, None, None, None, None, None, None, None, None, None, None, None, None, None, None, None, None, None, None, None, None, None, None, None, None, None, None, None, None, None, None, None, None, None, None, None, None, None, None, None, None, None, None, None, None, None, None, None, None, None, None, None, None, None, None, None, None, None, None, None, None, None, None, None, None, None, None, None, None, None, None, None, None, None, None, None, None, None, None, None, None, None, None, None, None, None, None, None, None, None, None, None, None, None, None, None, None, None, None, None, None, None, None, None, None, None, None, None, None, None, None, None, None, None, None, None, None, None, None, None, None, None, None, None, None, None, None, None, None, None, None, None, None, None, None, None, None, None, None, None, None, None, None, None, None, None, None, None, None, None, None, None, None, None, None, None, None, None, None, None, None, None, None, None, None, None, None, None, None, None, None, None, None, None, None, None, None, None, None, None, None, None, None, None, None, None, None, None, None, None, None, None, None, None, None, None, None, None, None, None, None, None, None, None, None, None, None, None, None, None, None, None, None, None, None, None, None, None, None, None, None, None, None, None, None, None, None, None, None, None, None, None, None, None, None, None, None, None, None, None, None, None, None, None, None, None, None, None, None, None, None, None, None, None, None, None, None, None, None, None, None, None, None, None, None, None, None, None, None, None, None, None, None, None, None, None, None, None, None, None, None, None, None, None, None, None, None, None, None, None, None, None, None, None, None, None, None, None, None, None, None, None, None, None, None, None, None, None, None, None, None, None, None, None, None, None, None, None, None, None, None, None, None, None, None, None, None, None, None, None, None, None, None, None, None, None, None, None, None, None, None, None, None, None, None, None, None, None, None, None, None, None, None, None, None, None, None, None, None, None, None, None, None, None, None, None, None, None, None, None, None, None, None, None, None, None, None, None, None, None, None, None, None, None, None, None, None, None, None, None, None]"
      ]
     },
     "execution_count": 512,
     "metadata": {},
     "output_type": "execute_result"
    }
   ],
   "source": [
    "enbi_con_str = []\n",
    "[parseDeTexts(x, enbi_con_str) for x in en_bi_texts]\n",
    "#used to produce error"
   ]
  },
  {
   "cell_type": "code",
   "execution_count": 513,
   "id": "aaa806a9",
   "metadata": {},
   "outputs": [
    {
     "data": {
      "text/plain": [
       "5365"
      ]
     },
     "execution_count": 513,
     "metadata": {},
     "output_type": "execute_result"
    }
   ],
   "source": [
    "len(enbi_con_str)\n",
    "## so line 4716 was the breaking point - the POS for the whole file was all _ so it was discluded"
   ]
  },
  {
   "cell_type": "markdown",
   "id": "8f849d91",
   "metadata": {},
   "source": [
    "After some investigating, I have found the file who is to blame: USbi77FG_fwE.txt\n",
    "For some reason, it has no POS markings. I believe this is the only file to be messed up like this. For this reason, when I read in the corpus for now on I will be excluding this file, and all subsequent files (metadata, audio, ect)"
   ]
  },
  {
   "cell_type": "code",
   "execution_count": 514,
   "id": "0b6c8bc6",
   "metadata": {},
   "outputs": [
    {
     "ename": "ValueError",
     "evalue": "[E1021] `pos` value \"_\" is not a valid Universal Dependencies tag. Non-UD tags should use the `tag` property.",
     "output_type": "error",
     "traceback": [
      "\u001b[0;31m---------------------------------------------------------------------------\u001b[0m",
      "\u001b[0;31mValueError\u001b[0m                                Traceback (most recent call last)",
      "Cell \u001b[0;32mIn[514], line 2\u001b[0m\n\u001b[1;32m      1\u001b[0m debi_con_str \u001b[38;5;241m=\u001b[39m []\n\u001b[0;32m----> 2\u001b[0m [parseDeTexts(x, debi_con_str) \u001b[38;5;28;01mfor\u001b[39;00m x \u001b[38;5;129;01min\u001b[39;00m de_bi_texts]\n",
      "Cell \u001b[0;32mIn[499], line 7\u001b[0m, in \u001b[0;36mparseDeTexts\u001b[0;34m(constr, conlist)\u001b[0m\n\u001b[1;32m      5\u001b[0m \u001b[38;5;28;01mwhile\u001b[39;00m constr[\u001b[38;5;241m-\u001b[39m\u001b[38;5;241m2\u001b[39m:] \u001b[38;5;241m==\u001b[39m \u001b[38;5;124m'\u001b[39m\u001b[38;5;130;01m\\n\u001b[39;00m\u001b[38;5;130;01m\\n\u001b[39;00m\u001b[38;5;124m'\u001b[39m:\n\u001b[1;32m      6\u001b[0m     constr \u001b[38;5;241m=\u001b[39m constr[:(\u001b[38;5;28mlen\u001b[39m(constr)\u001b[38;5;241m-\u001b[39m\u001b[38;5;241m1\u001b[39m)]\n\u001b[0;32m----> 7\u001b[0m constr2 \u001b[38;5;241m=\u001b[39m dparser\u001b[38;5;241m.\u001b[39mparse_conll_text_as_spacy(constr)\n\u001b[1;32m      8\u001b[0m \u001b[38;5;28;01mfor\u001b[39;00m sent_id, sent \u001b[38;5;129;01min\u001b[39;00m \u001b[38;5;28menumerate\u001b[39m(constr2\u001b[38;5;241m.\u001b[39msents, \u001b[38;5;241m1\u001b[39m):\n\u001b[1;32m      9\u001b[0m     conlist\u001b[38;5;241m.\u001b[39mappend(sent\u001b[38;5;241m.\u001b[39m_\u001b[38;5;241m.\u001b[39mconll_str)\n",
      "File \u001b[0;32m/opt/anaconda3/lib/python3.12/site-packages/spacy_conll/parser.py:225\u001b[0m, in \u001b[0;36mConllParser.parse_conll_text_as_spacy\u001b[0;34m(self, text, ner_tag_pattern, ner_map)\u001b[0m\n\u001b[1;32m    222\u001b[0m     deps_graphs\u001b[38;5;241m.\u001b[39mappend(deps_graph)\n\u001b[1;32m    223\u001b[0m     miscs\u001b[38;5;241m.\u001b[39mappend(misc)\n\u001b[0;32m--> 225\u001b[0m doc \u001b[38;5;241m=\u001b[39m Doc(\n\u001b[1;32m    226\u001b[0m     \u001b[38;5;28mself\u001b[39m\u001b[38;5;241m.\u001b[39mnlp\u001b[38;5;241m.\u001b[39mvocab,\n\u001b[1;32m    227\u001b[0m     words\u001b[38;5;241m=\u001b[39mwords,\n\u001b[1;32m    228\u001b[0m     spaces\u001b[38;5;241m=\u001b[39mspaces,\n\u001b[1;32m    229\u001b[0m     tags\u001b[38;5;241m=\u001b[39mtags,\n\u001b[1;32m    230\u001b[0m     pos\u001b[38;5;241m=\u001b[39mposes,\n\u001b[1;32m    231\u001b[0m     morphs\u001b[38;5;241m=\u001b[39mmorphs,\n\u001b[1;32m    232\u001b[0m     lemmas\u001b[38;5;241m=\u001b[39mlemmas,\n\u001b[1;32m    233\u001b[0m     heads\u001b[38;5;241m=\u001b[39mheads,\n\u001b[1;32m    234\u001b[0m     deps\u001b[38;5;241m=\u001b[39mdeps,\n\u001b[1;32m    235\u001b[0m )\n\u001b[1;32m    237\u001b[0m \u001b[38;5;66;03m# Set custom Token extensions\u001b[39;00m\n\u001b[1;32m    238\u001b[0m \u001b[38;5;28;01mfor\u001b[39;00m i \u001b[38;5;129;01min\u001b[39;00m \u001b[38;5;28mrange\u001b[39m(\u001b[38;5;28mlen\u001b[39m(doc)):\n",
      "File \u001b[0;32m/opt/anaconda3/lib/python3.12/site-packages/spacy/tokens/doc.pyx:322\u001b[0m, in \u001b[0;36mspacy.tokens.doc.Doc.__init__\u001b[0;34m()\u001b[0m\n",
      "\u001b[0;31mValueError\u001b[0m: [E1021] `pos` value \"_\" is not a valid Universal Dependencies tag. Non-UD tags should use the `tag` property."
     ]
    }
   ],
   "source": [
    "debi_con_str = []\n",
    "[parseDeTexts(x, debi_con_str) for x in de_bi_texts]"
   ]
  },
  {
   "cell_type": "code",
   "execution_count": 515,
   "id": "b9f2d333",
   "metadata": {},
   "outputs": [
    {
     "data": {
      "text/plain": [
       "80"
      ]
     },
     "execution_count": 515,
     "metadata": {},
     "output_type": "execute_result"
    }
   ],
   "source": [
    "len(debi_con_str)\n",
    "## so line 80 is the issue"
   ]
  },
  {
   "cell_type": "code",
   "execution_count": 523,
   "id": "2c09165e",
   "metadata": {},
   "outputs": [
    {
     "data": {
      "text/plain": [
       "9017"
      ]
     },
     "execution_count": 523,
     "metadata": {},
     "output_type": "execute_result"
    }
   ],
   "source": [
    "debi_strs = []\n",
    "for x in de_bi_texts:\n",
    "    while x[-2:] == '\\n\\n':\n",
    "        x = x[:(len(x)-1)]\n",
    "    x = x.split('\\n\\n')\n",
    "    for y in x:\n",
    "        debi_strs.append(y)\n",
    "len(debi_strs)"
   ]
  },
  {
   "cell_type": "code",
   "execution_count": 535,
   "id": "61857a2b",
   "metadata": {},
   "outputs": [
    {
     "name": "stdout",
     "output_type": "stream",
     "text": [
      "1\tja\tja\tINTJ\tNGIRR\t_\t7\tadvmod\t_\t_\n",
      "2\tschönen\tschöne\tADJ\tADJA\tDegree=Pos\t4\tamod\t_\t_\n",
      "3\tguten\tgute\tADJ\tADJA\tDegree=Pos\t4\tamod\t_\t_\n",
      "4\tTag\tTag\tNOUN\tNN\t_\t7\tnmod\t_\t_\n",
      "5\tDEbi17MR\tDEbi17MR\tPROPN\tNE\t_\t4\tappos\t_\t_\n",
      "6\tmein\tmein\tDET\tPPOSAT\tPerson=1|Poss=Yes|PronType=Prs\t7\tdet:poss\t_\t_\n",
      "7\tName\tName\tNOUN\tNN\t_\t0\troot\t_\t_\n"
     ]
    }
   ],
   "source": [
    "#print(debi_strs[79])\n",
    "print(debi_strs[80])\n",
    "#print(debi_strs[81])\n",
    "## not appearing that this error is so easy as a text with POS missing (which is a good thing!)\n",
    "## but more investigation is reguired!"
   ]
  },
  {
   "cell_type": "code",
   "execution_count": 525,
   "id": "29e6776d",
   "metadata": {},
   "outputs": [
    {
     "ename": "ValueError",
     "evalue": "[E1021] `pos` value \"_\" is not a valid Universal Dependencies tag. Non-UD tags should use the `tag` property.",
     "output_type": "error",
     "traceback": [
      "\u001b[0;31m---------------------------------------------------------------------------\u001b[0m",
      "\u001b[0;31mValueError\u001b[0m                                Traceback (most recent call last)",
      "Cell \u001b[0;32mIn[525], line 2\u001b[0m\n\u001b[1;32m      1\u001b[0m demo_con_str \u001b[38;5;241m=\u001b[39m []\n\u001b[0;32m----> 2\u001b[0m [parseDeTexts(x, demo_con_str) \u001b[38;5;28;01mfor\u001b[39;00m x \u001b[38;5;129;01min\u001b[39;00m de_mono_texts]\n",
      "Cell \u001b[0;32mIn[499], line 7\u001b[0m, in \u001b[0;36mparseDeTexts\u001b[0;34m(constr, conlist)\u001b[0m\n\u001b[1;32m      5\u001b[0m \u001b[38;5;28;01mwhile\u001b[39;00m constr[\u001b[38;5;241m-\u001b[39m\u001b[38;5;241m2\u001b[39m:] \u001b[38;5;241m==\u001b[39m \u001b[38;5;124m'\u001b[39m\u001b[38;5;130;01m\\n\u001b[39;00m\u001b[38;5;130;01m\\n\u001b[39;00m\u001b[38;5;124m'\u001b[39m:\n\u001b[1;32m      6\u001b[0m     constr \u001b[38;5;241m=\u001b[39m constr[:(\u001b[38;5;28mlen\u001b[39m(constr)\u001b[38;5;241m-\u001b[39m\u001b[38;5;241m1\u001b[39m)]\n\u001b[0;32m----> 7\u001b[0m constr2 \u001b[38;5;241m=\u001b[39m dparser\u001b[38;5;241m.\u001b[39mparse_conll_text_as_spacy(constr)\n\u001b[1;32m      8\u001b[0m \u001b[38;5;28;01mfor\u001b[39;00m sent_id, sent \u001b[38;5;129;01min\u001b[39;00m \u001b[38;5;28menumerate\u001b[39m(constr2\u001b[38;5;241m.\u001b[39msents, \u001b[38;5;241m1\u001b[39m):\n\u001b[1;32m      9\u001b[0m     conlist\u001b[38;5;241m.\u001b[39mappend(sent\u001b[38;5;241m.\u001b[39m_\u001b[38;5;241m.\u001b[39mconll_str)\n",
      "File \u001b[0;32m/opt/anaconda3/lib/python3.12/site-packages/spacy_conll/parser.py:225\u001b[0m, in \u001b[0;36mConllParser.parse_conll_text_as_spacy\u001b[0;34m(self, text, ner_tag_pattern, ner_map)\u001b[0m\n\u001b[1;32m    222\u001b[0m     deps_graphs\u001b[38;5;241m.\u001b[39mappend(deps_graph)\n\u001b[1;32m    223\u001b[0m     miscs\u001b[38;5;241m.\u001b[39mappend(misc)\n\u001b[0;32m--> 225\u001b[0m doc \u001b[38;5;241m=\u001b[39m Doc(\n\u001b[1;32m    226\u001b[0m     \u001b[38;5;28mself\u001b[39m\u001b[38;5;241m.\u001b[39mnlp\u001b[38;5;241m.\u001b[39mvocab,\n\u001b[1;32m    227\u001b[0m     words\u001b[38;5;241m=\u001b[39mwords,\n\u001b[1;32m    228\u001b[0m     spaces\u001b[38;5;241m=\u001b[39mspaces,\n\u001b[1;32m    229\u001b[0m     tags\u001b[38;5;241m=\u001b[39mtags,\n\u001b[1;32m    230\u001b[0m     pos\u001b[38;5;241m=\u001b[39mposes,\n\u001b[1;32m    231\u001b[0m     morphs\u001b[38;5;241m=\u001b[39mmorphs,\n\u001b[1;32m    232\u001b[0m     lemmas\u001b[38;5;241m=\u001b[39mlemmas,\n\u001b[1;32m    233\u001b[0m     heads\u001b[38;5;241m=\u001b[39mheads,\n\u001b[1;32m    234\u001b[0m     deps\u001b[38;5;241m=\u001b[39mdeps,\n\u001b[1;32m    235\u001b[0m )\n\u001b[1;32m    237\u001b[0m \u001b[38;5;66;03m# Set custom Token extensions\u001b[39;00m\n\u001b[1;32m    238\u001b[0m \u001b[38;5;28;01mfor\u001b[39;00m i \u001b[38;5;129;01min\u001b[39;00m \u001b[38;5;28mrange\u001b[39m(\u001b[38;5;28mlen\u001b[39m(doc)):\n",
      "File \u001b[0;32m/opt/anaconda3/lib/python3.12/site-packages/spacy/tokens/doc.pyx:322\u001b[0m, in \u001b[0;36mspacy.tokens.doc.Doc.__init__\u001b[0;34m()\u001b[0m\n",
      "\u001b[0;31mValueError\u001b[0m: [E1021] `pos` value \"_\" is not a valid Universal Dependencies tag. Non-UD tags should use the `tag` property."
     ]
    }
   ],
   "source": [
    "demo_con_str = []\n",
    "[parseDeTexts(x, demo_con_str) for x in de_mono_texts]"
   ]
  },
  {
   "cell_type": "code",
   "execution_count": 526,
   "id": "5318396e",
   "metadata": {},
   "outputs": [
    {
     "data": {
      "text/plain": [
       "994"
      ]
     },
     "execution_count": 526,
     "metadata": {},
     "output_type": "execute_result"
    }
   ],
   "source": [
    "len(demo_con_str)"
   ]
  },
  {
   "cell_type": "code",
   "execution_count": 527,
   "id": "ed3faf47",
   "metadata": {},
   "outputs": [
    {
     "data": {
      "text/plain": [
       "4135"
      ]
     },
     "execution_count": 527,
     "metadata": {},
     "output_type": "execute_result"
    }
   ],
   "source": [
    "demo_strs = []\n",
    "for x in de_mono_texts:\n",
    "    while x[-2:] == '\\n\\n':\n",
    "        x = x[:(len(x)-1)]\n",
    "    x = x.split('\\n\\n')\n",
    "    for y in x:\n",
    "        demo_strs.append(y)\n",
    "len(demo_strs)"
   ]
  },
  {
   "cell_type": "code",
   "execution_count": 528,
   "id": "6ffda383",
   "metadata": {},
   "outputs": [
    {
     "name": "stdout",
     "output_type": "stream",
     "text": [
      "1\tund\tund\tCCONJ\tKON\t_\t6\tcc\t_\t_\n",
      "2\tdas\td\tPRON\tPDS\tCase=Nom|PronType=Dem\t6\tnsubj\t_\t_\n",
      "3\twar\tsein\tAUX\tVAFIN\tMood=Ind|Person=3|Tense=Past|VerbForm=Fin\t6\taux\t_\t_\n",
      "4\tes\tes\tPRON\tPPER\tCase=Acc|Gender=Neut|Number=Sing|Person=3|PronType=Prs\t6\tobj\t_\t_\n",
      "5\tauch\tauch\tADV\tPTKIFG\t_\t6\tadvmod\t_\t_\n",
      "6\tschon\tschon\tADV\tPTKMWL\t_\t0\troot\t_\t_\n",
      "1\tvielen\tviel\tDET\tPIAT\tDegree=Pos\t2\tdet\t_\t_\n",
      "2\tDank\tDank\tNOUN\tNN\t_\t0\troot\t_\t_\n",
      "\n",
      "1\thallo\thallo\tINTJ\tNGIRR\t_\t2\tpunct\t_\t_\n",
      "2\tToni\tToni\tPROPN\tNE\t_\t0\troot\t_\t_\n",
      "1\tich\tich\tPRON\tPPER\tCase=Nom|Number=Sing|Person=1|PronType=Prs\t4\tnsubj\t_\t_\n",
      "2\twar\tsein\tAUX\tVAFIN\tMood=Ind|Number=Sing|Person=1|Tense=Past|VerbForm=Fin\t4\taux\t_\t_\n",
      "3\tgerade\tgerade\tADV\tADV\t_\t4\tadvmod\t_\t_\n",
      "4\täh\täh\tINTJ\tNGHES\tDegree=Pos\t0\troot\t_\t_\n",
      "5\tauf\tauf\tADP\tAPPR\t_\t7\tcase\t_\t_\n",
      "6\teinem\tein\tDET\tART\tCase=Dat|Definite=Ind|Gender=Masc,Neut|Number=Sing|PronType=Art\t7\tdet\t_\t_\n",
      "7\tParkplatz\tParkplatz\tNOUN\tNN\tCase=Dat|Gender=Masc,Neut|Number=Sing\t4\tobl\t_\t_\n"
     ]
    }
   ],
   "source": [
    "print(demo_strs[992])\n",
    "print(demo_strs[993])\n",
    "print(demo_strs[994])\n",
    "print(demo_strs[995])\n",
    "## (the \\n looks pesky but it's likely a document break, which should be fine)"
   ]
  },
  {
   "cell_type": "markdown",
   "id": "f7923366",
   "metadata": {},
   "source": [
    "## Corpora Creation for Later Exploration\n",
    "We finally have all our sentences parsed. Let's do one final look before pickling them to use in the exploration of the data"
   ]
  },
  {
   "cell_type": "code",
   "execution_count": null,
   "id": "0d2e9e2b",
   "metadata": {},
   "outputs": [],
   "source": [
    "print(len(emo_con_str))\n",
    "print(emo_con_str[0])"
   ]
  },
  {
   "cell_type": "code",
   "execution_count": null,
   "id": "030d9bec",
   "metadata": {},
   "outputs": [],
   "source": [
    "print(len(enbi_con_str))\n",
    "print(enbi_con_str[0])"
   ]
  },
  {
   "cell_type": "code",
   "execution_count": null,
   "id": "aab1fb58",
   "metadata": {},
   "outputs": [],
   "source": []
  }
 ],
 "metadata": {
  "kernelspec": {
   "display_name": "base",
   "language": "python",
   "name": "python3"
  },
  "language_info": {
   "codemirror_mode": {
    "name": "ipython",
    "version": 3
   },
   "file_extension": ".py",
   "mimetype": "text/x-python",
   "name": "python",
   "nbconvert_exporter": "python",
   "pygments_lexer": "ipython3",
   "version": "3.12.2"
  }
 },
 "nbformat": 4,
 "nbformat_minor": 5
}
