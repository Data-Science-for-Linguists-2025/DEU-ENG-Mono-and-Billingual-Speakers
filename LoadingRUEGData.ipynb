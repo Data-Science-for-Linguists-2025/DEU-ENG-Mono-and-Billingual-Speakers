{
 "cells": [
  {
   "cell_type": "markdown",
   "id": "44687fec",
   "metadata": {},
   "source": [
    "# Loading in the RUEG Corpus\n",
    "Goals\n",
    "- Create a Data Frame for easy MetaData Use Later on\n",
    "- Extract the pure text from the ConLL format\n",
    "- Extract POS Tuples from the ConLL format\n",
    "\n",
    "## Table of Contents\n",
    "1. [Loading in the Data]()\n",
    "\n",
    "    A. [Reading in Metadata]()\n",
    "\n",
    "    B. [Basic Metrics of Metadata]()\n",
    "\n",
    "    C. [Reading in the Texts]()\n",
    "2. [Manually Parsing ConLL]()\n",
    "3. [Stanza Parsing]()\n",
    "4. [Corpora Creation for Later Exploration]()\n",
    "\n"
   ]
  },
  {
   "cell_type": "markdown",
   "id": "eb22f892",
   "metadata": {},
   "source": [
    "## Loading in the Data\n",
    "I'm going to start with four seperate dataframes\n",
    "\n",
    "What to be included in DataFrame:\n",
    "- speaker ID\n",
    "- langauge\n",
    "- bilingual/monolingual\n",
    "- formality\n",
    "- mode\n",
    "- languages\n",
    "- age group\n",
    "- gender"
   ]
  },
  {
   "cell_type": "code",
   "execution_count": 1,
   "id": "13d434a7",
   "metadata": {},
   "outputs": [
    {
     "name": "stdout",
     "output_type": "stream",
     "text": [
      "Pretty printing has been turned OFF\n"
     ]
    }
   ],
   "source": [
    "%pprint"
   ]
  },
  {
   "cell_type": "code",
   "execution_count": 2,
   "id": "7a852619",
   "metadata": {},
   "outputs": [],
   "source": [
    "import glob\n",
    "files = glob.glob('RUEG_corpus_0.3.0/exmaralda/RUEG/DE/BILINGUAL/*.meta', recursive = True)\n",
    "DE_bi_filenickname= []\n",
    "DE_bi_filename = []\n",
    "for f in files:\n",
    "    DE_bi_filename.append(f.split(\"BILINGUAL/\",1)[1].strip('.meta'))"
   ]
  },
  {
   "cell_type": "code",
   "execution_count": 3,
   "id": "164f4083",
   "metadata": {},
   "outputs": [],
   "source": [
    "files = glob.glob('RUEG_corpus_0.3.0/exmaralda/RUEG/DE/MONOLINGUAL/*.meta', recursive = True)\n",
    "DE_mono_filename= []\n",
    "for f in files:\n",
    "    DE_mono_filename.append(f.split(\"MONOLINGUAL/\",1)[1].strip('.meta'))"
   ]
  },
  {
   "cell_type": "code",
   "execution_count": 4,
   "id": "171dca04",
   "metadata": {},
   "outputs": [],
   "source": [
    "files = glob.glob('RUEG_corpus_0.3.0/exmaralda/RUEG/EN/BILINGUAL/*.meta', recursive = True)\n",
    "EN_bi_filename= []\n",
    "for f in files:\n",
    "    f = (f.split(\"BILINGUAL/\",1)[1].strip('.meta'))\n",
    "    if f != 'USbi77FG_fwE':     ## this is because I found that this file has no POS markings on it which I cannot use\n",
    "        EN_bi_filename.append(f)"
   ]
  },
  {
   "cell_type": "code",
   "execution_count": 5,
   "id": "57d5f856",
   "metadata": {},
   "outputs": [],
   "source": [
    "files = glob.glob('RUEG_corpus_0.3.0/exmaralda/RUEG/EN/MONOLINGUAL/*.meta', recursive = True)\n",
    "EN_mono_filename= []\n",
    "for f in files:\n",
    "    EN_mono_filename.append(f.split(\"MONOLINGUAL/\",1)[1].strip('.meta'))"
   ]
  },
  {
   "cell_type": "code",
   "execution_count": 6,
   "id": "69acb27f",
   "metadata": {},
   "outputs": [
    {
     "name": "stdout",
     "output_type": "stream",
     "text": [
      "DE mono Files:  240\n",
      "DE bi Files:  559\n",
      "EN mono Files:  64\n",
      "EN bi Files:  443\n"
     ]
    }
   ],
   "source": [
    "## Getting Some Basic Stats on What We're Looking at\n",
    "print('DE mono Files: ', len(DE_mono_filename))\n",
    "print('DE bi Files: ', len(DE_bi_filename))\n",
    "print('EN mono Files: ', len(EN_mono_filename))\n",
    "print('EN bi Files: ', len(EN_bi_filename))\n"
   ]
  },
  {
   "cell_type": "markdown",
   "id": "b28eaeee",
   "metadata": {},
   "source": [
    "### Reading in Metadata \n",
    "\n",
    "Some things to keep in mind:\n",
    "- way fewer monolingual speakers in comparison to bilingual speakers\n",
    "- some bilingual speakers are going to overlap as they are will appear in both languages as bilingual (probably accounts for this disparity in numbers)"
   ]
  },
  {
   "cell_type": "code",
   "execution_count": 7,
   "id": "2f8da09b",
   "metadata": {},
   "outputs": [],
   "source": [
    "import pandas as pd\n",
    "de_mono_df = pd.DataFrame(DE_mono_filename, index = DE_mono_filename)\n",
    "de_bi_df = pd.DataFrame(DE_bi_filename, index = DE_bi_filename)\n",
    "en_mono_df = pd.DataFrame(EN_mono_filename, index = EN_mono_filename)\n",
    "en_bi_df = pd.DataFrame(EN_bi_filename, index = EN_bi_filename)\n",
    "de_mono_df.columns = ['Filename']\n",
    "de_bi_df.columns = ['Filename']\n",
    "en_mono_df.columns = ['Filename']\n",
    "en_bi_df.columns = ['Filename']"
   ]
  },
  {
   "cell_type": "code",
   "execution_count": 8,
   "id": "7f020fd1",
   "metadata": {},
   "outputs": [],
   "source": [
    "de_mono_df['Mono/Bilingual'] = 'Monolingual'\n",
    "de_bi_df['Mono/Bilingual'] = 'Bilingual'\n",
    "en_mono_df['Mono/Bilingual'] = 'Monolingual'\n",
    "en_bi_df['Mono/Bilingual'] = 'Bilingual'\n",
    "de_mono_df['Language_of_Data'] = 'German'\n",
    "de_bi_df['Language_of_Data'] = 'German'\n",
    "en_mono_df['Language_of_Data'] = 'English'\n",
    "en_bi_df['Language_of_Data'] = 'English'"
   ]
  },
  {
   "cell_type": "code",
   "execution_count": 9,
   "id": "2379c4b9",
   "metadata": {},
   "outputs": [
    {
     "data": {
      "text/html": [
       "<div>\n",
       "<style scoped>\n",
       "    .dataframe tbody tr th:only-of-type {\n",
       "        vertical-align: middle;\n",
       "    }\n",
       "\n",
       "    .dataframe tbody tr th {\n",
       "        vertical-align: top;\n",
       "    }\n",
       "\n",
       "    .dataframe thead th {\n",
       "        text-align: right;\n",
       "    }\n",
       "</style>\n",
       "<table border=\"1\" class=\"dataframe\">\n",
       "  <thead>\n",
       "    <tr style=\"text-align: right;\">\n",
       "      <th></th>\n",
       "      <th>Filename</th>\n",
       "      <th>Mono/Bilingual</th>\n",
       "      <th>Language_of_Data</th>\n",
       "      <th>Mode</th>\n",
       "      <th>Formality</th>\n",
       "      <th>Gender</th>\n",
       "      <th>Heritage_Language</th>\n",
       "      <th>Age_Group</th>\n",
       "      <th>Country_of_Data</th>\n",
       "    </tr>\n",
       "  </thead>\n",
       "  <tbody>\n",
       "    <tr>\n",
       "      <th>DEmo17MD_fsD</th>\n",
       "      <td>DEmo17MD_fsD</td>\n",
       "      <td>Monolingual</td>\n",
       "      <td>German</td>\n",
       "      <td>s</td>\n",
       "      <td>f</td>\n",
       "      <td>M</td>\n",
       "      <td>D</td>\n",
       "      <td>adult</td>\n",
       "      <td>DE</td>\n",
       "    </tr>\n",
       "    <tr>\n",
       "      <th>DEmo20FD_fwD</th>\n",
       "      <td>DEmo20FD_fwD</td>\n",
       "      <td>Monolingual</td>\n",
       "      <td>German</td>\n",
       "      <td>w</td>\n",
       "      <td>f</td>\n",
       "      <td>F</td>\n",
       "      <td>D</td>\n",
       "      <td>adult</td>\n",
       "      <td>DE</td>\n",
       "    </tr>\n",
       "    <tr>\n",
       "      <th>DEmo71FD_isD</th>\n",
       "      <td>DEmo71FD_isD</td>\n",
       "      <td>Monolingual</td>\n",
       "      <td>German</td>\n",
       "      <td>s</td>\n",
       "      <td>i</td>\n",
       "      <td>F</td>\n",
       "      <td>D</td>\n",
       "      <td>adolescent</td>\n",
       "      <td>DE</td>\n",
       "    </tr>\n",
       "  </tbody>\n",
       "</table>\n",
       "</div>"
      ],
      "text/plain": [
       "                  Filename Mono/Bilingual Language_of_Data Mode Formality  \\\n",
       "DEmo17MD_fsD  DEmo17MD_fsD    Monolingual           German    s         f   \n",
       "DEmo20FD_fwD  DEmo20FD_fwD    Monolingual           German    w         f   \n",
       "DEmo71FD_isD  DEmo71FD_isD    Monolingual           German    s         i   \n",
       "\n",
       "             Gender Heritage_Language   Age_Group Country_of_Data  \n",
       "DEmo17MD_fsD      M                 D       adult              DE  \n",
       "DEmo20FD_fwD      F                 D       adult              DE  \n",
       "DEmo71FD_isD      F                 D  adolescent              DE  "
      ]
     },
     "execution_count": 9,
     "metadata": {},
     "output_type": "execute_result"
    }
   ],
   "source": [
    "## much easier to combine them all now and .loc them late rwhen needed\n",
    "rueg_all_df = pd.concat([de_mono_df, de_bi_df, en_mono_df, en_bi_df])\n",
    "\n",
    "rueg_all_df['Mode'] = rueg_all_df.Filename.map(lambda x: x[-2])\n",
    "rueg_all_df['Formality'] = rueg_all_df.Filename.map(lambda x: x[-3])\n",
    "rueg_all_df['Gender'] = rueg_all_df.Filename.map(lambda x: x[-6])\n",
    "rueg_all_df['Heritage_Language'] = rueg_all_df.Filename.map(lambda x: x[-5])\n",
    "rueg_all_df['Age_Group'] = rueg_all_df.Filename.map(lambda x: x[-8:-6])\n",
    "rueg_all_df['Age_Group'] = rueg_all_df.Age_Group.map(lambda x: 'adolescent' if int(x) >= 49 else 'adult')\n",
    "rueg_all_df['Country_of_Data'] = rueg_all_df.Filename.map(lambda x: x[0:2])\n",
    "rueg_all_df.head(3)\n",
    "\n",
    "## ideally I fully write out spoken/written and the age group"
   ]
  },
  {
   "cell_type": "code",
   "execution_count": 10,
   "id": "53e0d966",
   "metadata": {},
   "outputs": [
    {
     "name": "stdout",
     "output_type": "stream",
     "text": [
      "{'F', 'M'}\n",
      "{'f', 'i'}\n",
      "{'s', 'w'}\n",
      "{'T', 'R', 'D', 'G', 'E'}\n",
      "<class 'pandas.core.frame.DataFrame'>\n",
      "Index: 1306 entries, DEmo17MD_fsD to USbi04FD_fsE\n",
      "Data columns (total 9 columns):\n",
      " #   Column             Non-Null Count  Dtype \n",
      "---  ------             --------------  ----- \n",
      " 0   Filename           1306 non-null   object\n",
      " 1   Mono/Bilingual     1306 non-null   object\n",
      " 2   Language_of_Data   1306 non-null   object\n",
      " 3   Mode               1306 non-null   object\n",
      " 4   Formality          1306 non-null   object\n",
      " 5   Gender             1306 non-null   object\n",
      " 6   Heritage_Language  1306 non-null   object\n",
      " 7   Age_Group          1306 non-null   object\n",
      " 8   Country_of_Data    1306 non-null   object\n",
      "dtypes: object(9)\n",
      "memory usage: 102.0+ KB\n"
     ]
    }
   ],
   "source": [
    "## making sure nothing is null before i edit the dataframe more\n",
    "print(set(rueg_all_df['Gender'].tolist()))\n",
    "print(set(rueg_all_df['Formality'].tolist()))\n",
    "print(set(rueg_all_df['Mode'].tolist()))\n",
    "print(set(rueg_all_df['Heritage_Language'].tolist()))\n",
    "rueg_all_df.info()"
   ]
  },
  {
   "cell_type": "code",
   "execution_count": 11,
   "id": "e6c862bc",
   "metadata": {},
   "outputs": [
    {
     "data": {
      "text/html": [
       "<div>\n",
       "<style scoped>\n",
       "    .dataframe tbody tr th:only-of-type {\n",
       "        vertical-align: middle;\n",
       "    }\n",
       "\n",
       "    .dataframe tbody tr th {\n",
       "        vertical-align: top;\n",
       "    }\n",
       "\n",
       "    .dataframe thead th {\n",
       "        text-align: right;\n",
       "    }\n",
       "</style>\n",
       "<table border=\"1\" class=\"dataframe\">\n",
       "  <thead>\n",
       "    <tr style=\"text-align: right;\">\n",
       "      <th></th>\n",
       "      <th>Filename</th>\n",
       "      <th>Mono/Bilingual</th>\n",
       "      <th>Language_of_Data</th>\n",
       "      <th>Mode</th>\n",
       "      <th>Formality</th>\n",
       "      <th>Gender</th>\n",
       "      <th>Heritage_Language</th>\n",
       "      <th>Age_Group</th>\n",
       "      <th>Country_of_Data</th>\n",
       "    </tr>\n",
       "  </thead>\n",
       "  <tbody>\n",
       "    <tr>\n",
       "      <th>DEmo17MD_fsD</th>\n",
       "      <td>DEmo17MD_fsD</td>\n",
       "      <td>Monolingual</td>\n",
       "      <td>German</td>\n",
       "      <td>spoken</td>\n",
       "      <td>formal</td>\n",
       "      <td>male</td>\n",
       "      <td>D</td>\n",
       "      <td>adult</td>\n",
       "      <td>Germany</td>\n",
       "    </tr>\n",
       "    <tr>\n",
       "      <th>DEmo20FD_fwD</th>\n",
       "      <td>DEmo20FD_fwD</td>\n",
       "      <td>Monolingual</td>\n",
       "      <td>German</td>\n",
       "      <td>written</td>\n",
       "      <td>formal</td>\n",
       "      <td>female</td>\n",
       "      <td>D</td>\n",
       "      <td>adult</td>\n",
       "      <td>Germany</td>\n",
       "    </tr>\n",
       "  </tbody>\n",
       "</table>\n",
       "</div>"
      ],
      "text/plain": [
       "                  Filename Mono/Bilingual Language_of_Data     Mode Formality  \\\n",
       "DEmo17MD_fsD  DEmo17MD_fsD    Monolingual           German   spoken    formal   \n",
       "DEmo20FD_fwD  DEmo20FD_fwD    Monolingual           German  written    formal   \n",
       "\n",
       "              Gender Heritage_Language Age_Group Country_of_Data  \n",
       "DEmo17MD_fsD    male                 D     adult         Germany  \n",
       "DEmo20FD_fwD  female                 D     adult         Germany  "
      ]
     },
     "execution_count": 11,
     "metadata": {},
     "output_type": "execute_result"
    }
   ],
   "source": [
    "rueg_all_df['Mode'] = rueg_all_df.Mode.map(lambda x: 'spoken' if x == 's' else 'written')\n",
    "rueg_all_df['Formality'] = rueg_all_df.Formality.map(lambda x: 'informal' if x == 'i' else 'formal')\n",
    "rueg_all_df['Gender'] = rueg_all_df.Gender.map(lambda x: 'female' if x == 'F' else 'male')\n",
    "rueg_all_df['Country_of_Data'] = rueg_all_df.Country_of_Data.map(lambda x: 'United States' if x == 'US' or x == 'Us' else 'Germany')\n",
    "rueg_all_df.head(2)"
   ]
  },
  {
   "cell_type": "code",
   "execution_count": 12,
   "id": "a3d3030c",
   "metadata": {},
   "outputs": [
    {
     "name": "stdout",
     "output_type": "stream",
     "text": [
      "<class 'pandas.core.frame.DataFrame'>\n",
      "Index: 1306 entries, DEmo17MD_fsD to USbi04FD_fsE\n",
      "Data columns (total 9 columns):\n",
      " #   Column             Non-Null Count  Dtype \n",
      "---  ------             --------------  ----- \n",
      " 0   Filename           1306 non-null   object\n",
      " 1   Mono/Bilingual     1306 non-null   object\n",
      " 2   Language_of_Data   1306 non-null   object\n",
      " 3   Mode               1306 non-null   object\n",
      " 4   Formality          1306 non-null   object\n",
      " 5   Gender             1306 non-null   object\n",
      " 6   Heritage_Language  1306 non-null   object\n",
      " 7   Age_Group          1306 non-null   object\n",
      " 8   Country_of_Data    1306 non-null   object\n",
      "dtypes: object(9)\n",
      "memory usage: 102.0+ KB\n"
     ]
    }
   ],
   "source": [
    "rueg_all_df.info()"
   ]
  },
  {
   "cell_type": "markdown",
   "id": "a5751774",
   "metadata": {},
   "source": [
    "### Basic metrics of the Metadata\n",
    "Exploring the basic metrics of data we have and what it consists of\n",
    "- find out what is defined as a 'heritage speaker'"
   ]
  },
  {
   "cell_type": "code",
   "execution_count": 13,
   "id": "f3716e9d",
   "metadata": {},
   "outputs": [
    {
     "name": "stdout",
     "output_type": "stream",
     "text": [
      "There are 653 spoken data files\n",
      "There are 653 written data files\n",
      "There are 654 informal data files\n",
      "There are 652 formal data files\n",
      "There are 1002 bilingual data files\n",
      "There are 304 monolingual data files\n",
      "There are 799 German data files\n",
      "There are 507 English data files\n",
      "There are 595 adult data files\n",
      "There are 711 adolescent data files\n",
      "There are 327 German heritage language data files\n",
      "There are 64 English heritage language data files\n",
      "There are 260 Turkish heritage language data files\n",
      "There are 267 Greek heritage language data files\n",
      "There are 388 Russian heritage language data files\n"
     ]
    }
   ],
   "source": [
    "print('There are', len(rueg_all_df.loc[(rueg_all_df['Mode'] == 'spoken')]), 'spoken data files')\n",
    "print('There are', len(rueg_all_df.loc[(rueg_all_df['Mode'] == 'written')]), 'written data files')\n",
    "print('There are', len(rueg_all_df.loc[(rueg_all_df['Formality'] == 'informal')]), 'informal data files')\n",
    "print('There are', len(rueg_all_df.loc[(rueg_all_df['Formality'] == 'formal')]), 'formal data files')\n",
    "print('There are', len(rueg_all_df.loc[(rueg_all_df['Mono/Bilingual'] == 'Bilingual')]), 'bilingual data files')\n",
    "print('There are', len(rueg_all_df.loc[(rueg_all_df['Mono/Bilingual'] == 'Monolingual')]), 'monolingual data files')\n",
    "print('There are', len(rueg_all_df.loc[(rueg_all_df['Language_of_Data'] == 'German')]), 'German data files')\n",
    "print('There are', len(rueg_all_df.loc[(rueg_all_df['Language_of_Data'] == 'English')]), 'English data files')\n",
    "print('There are', len(rueg_all_df.loc[(rueg_all_df['Age_Group'] == 'adult')]), 'adult data files')\n",
    "print('There are', len(rueg_all_df.loc[(rueg_all_df['Age_Group'] == 'adolescent')]), 'adolescent data files')\n",
    "\n",
    "print('There are', len(rueg_all_df.loc[(rueg_all_df['Heritage_Language'] == 'D')]), 'German heritage language data files')\n",
    "print('There are', len(rueg_all_df.loc[(rueg_all_df['Heritage_Language'] == 'E')]), 'English heritage language data files')\n",
    "print('There are', len(rueg_all_df.loc[(rueg_all_df['Heritage_Language'] == 'T')]), 'Turkish heritage language data files')\n",
    "print('There are', len(rueg_all_df.loc[(rueg_all_df['Heritage_Language'] == 'G')]), 'Greek heritage language data files')\n",
    "print('There are', len(rueg_all_df.loc[(rueg_all_df['Heritage_Language'] == 'R')]), 'Russian heritage language data files')\n",
    "\n"
   ]
  },
  {
   "cell_type": "markdown",
   "id": "6f38d1b5",
   "metadata": {},
   "source": [
    "### Reading in the Texts\n",
    "The data format being read in right now is the CoNLL format, and for now I'm just going to enter the entire text file (with POS, lemma, ect annotations)"
   ]
  },
  {
   "cell_type": "code",
   "execution_count": 14,
   "id": "b1b5f7a6",
   "metadata": {},
   "outputs": [
    {
     "data": {
      "text/plain": [
       "['RUEG_corpus_0.3.0/conll/RUEG/DE/BILINGUAL/USbi50FD_fsD.txt', 'RUEG_corpus_0.3.0/conll/RUEG/DE/BILINGUAL/DEbi24FT_fwD.txt', 'RUEG_corpus_0.3.0/conll/RUEG/DE/BILINGUAL/DEbi64MR_isD.txt']"
      ]
     },
     "execution_count": 14,
     "metadata": {},
     "output_type": "execute_result"
    }
   ],
   "source": [
    "files = glob.glob('RUEG_corpus_0.3.0/conll/RUEG/DE/BILINGUAL/*.txt', recursive = True)\n",
    "de_bi_texts = []\n",
    "DE_bi_files = []\n",
    "for file in files:\n",
    "    f = open(file)\n",
    "    s = f.read()\n",
    "    f1 = file.split(\"BILINGUAL/\",1)[1].strip('.txt')\n",
    "    de_bi_texts.append((f1, s))\n",
    "    f.close()\n",
    "    DE_bi_files.append(file)\n",
    "de_bi_texts[:3]\n",
    "DE_bi_files[:3]\n",
    "## important to note that everything is tab seperated"
   ]
  },
  {
   "cell_type": "code",
   "execution_count": 15,
   "id": "fc8a95ff",
   "metadata": {},
   "outputs": [],
   "source": [
    "files = glob.glob('RUEG_corpus_0.3.0/conll/RUEG/DE/MONOLINGUAL/*.txt', recursive = True)\n",
    "de_mono_texts = []\n",
    "DE_mono_files = []\n",
    "for file in files:\n",
    "    f = open(file)\n",
    "    s = f.read()\n",
    "    f1 = file.split(\"MONOLINGUAL/\",1)[1].strip('.txt')\n",
    "    de_mono_texts.append((f1, s))\n",
    "    f.close()\n",
    "    DE_mono_files.append(file)"
   ]
  },
  {
   "cell_type": "code",
   "execution_count": 16,
   "id": "b04e58b4",
   "metadata": {},
   "outputs": [],
   "source": [
    "files = glob.glob('RUEG_corpus_0.3.0/conll/RUEG/EN/BILINGUAL/*.txt', recursive = True)\n",
    "en_bi_texts = []\n",
    "EN_bi_files = []\n",
    "for file in files:\n",
    "    f = open(file)\n",
    "    s = f.read()\n",
    "    f1 = file.split(\"BILINGUAL/\",1)[1].strip('.txt')\n",
    "    if f1 != 'USbi77FG':     ## Same thing, this text file has no POS marking so it will be discluded\n",
    "        en_bi_texts.append((f1, s))\n",
    "    f.close()\n",
    "    EN_bi_files.append(file)"
   ]
  },
  {
   "cell_type": "code",
   "execution_count": 17,
   "id": "cf58d3d5",
   "metadata": {},
   "outputs": [],
   "source": [
    "files = glob.glob('RUEG_corpus_0.3.0/conll/RUEG/EN/MONOLINGUAL/*.txt', recursive = True)\n",
    "en_mono_texts = []\n",
    "EN_mono_files = []\n",
    "for file in files:\n",
    "    f = open(file)\n",
    "    s = f.read()\n",
    "    f1 = file.split(\"MONOLINGUAL/\",1)[1].strip('.txt')\n",
    "    en_mono_texts.append((f1, s))\n",
    "    f.close()\n",
    "    EN_mono_files.append(file)"
   ]
  },
  {
   "cell_type": "code",
   "execution_count": 18,
   "id": "267920cb",
   "metadata": {},
   "outputs": [
    {
     "name": "stdout",
     "output_type": "stream",
     "text": [
      "DE mono metadata Files:  240\n",
      "DE bi metadata Files:  559\n",
      "EN mono metadata Files:  64\n",
      "EN bi metadata Files:  443\n",
      "DE mono text:  256\n",
      "DE bi text:  586\n",
      "EN mono text:  64\n",
      "EN bi text:  444\n"
     ]
    }
   ],
   "source": [
    "## Let's compare the text sizes\n",
    "print('DE mono metadata Files: ', len(DE_mono_filename))\n",
    "print('DE bi metadata Files: ', len(DE_bi_filename))\n",
    "print('EN mono metadata Files: ', len(EN_mono_filename))\n",
    "print('EN bi metadata Files: ', len(EN_bi_filename))\n",
    "print('DE mono text: ', len(de_mono_texts))\n",
    "print('DE bi text: ', len(de_bi_texts))\n",
    "print('EN mono text: ', len(en_mono_texts))\n",
    "print('EN bi text: ', len(en_bi_texts))\n"
   ]
  },
  {
   "cell_type": "markdown",
   "id": "f690941d",
   "metadata": {},
   "source": [
    "As you can see, the German documents have some discrepencies as there are more conLL files than meta files, meaning that some participants likely had multiple recordings. For now, I'm going to leave these two dataframes seperate because of this."
   ]
  },
  {
   "cell_type": "markdown",
   "id": "52a52aad",
   "metadata": {},
   "source": [
    "## Manually Parsing ConLL\n",
    "I have never worked with the ConLL format, so I'm going to take just one entry and play around with it to get it how I would like before messing with the entire dataset."
   ]
  },
  {
   "cell_type": "code",
   "execution_count": 19,
   "id": "064eae7a",
   "metadata": {},
   "outputs": [
    {
     "data": {
      "text/plain": [
       "'1\\täh\\täh\\tINTJ\\tNGHES\\t_\\t0\\troot\\t_\\t_\\n2\\thello\\thello\\tX\\tFM\\t_\\t3\\tdep\\t_\\t_\\n3\\tthis\\tthis\\tX\\tFM\\tPronType=Dem\\t4\\tdep\\t_\\t_\\n4\\tis\\tbe\\tX\\tFM\\tMood=Ind|Person=3|Tense=Pres\\t1\\tdep\\t_\\t_\\n5\\tfile\\tfile\\tX\\tFM\\tNumber=Sing\\t4\\tdep\\t_\\t_\\n6\\tNummer\\tNummer\\tNOUN\\tNN\\tCase=Nom|Gender=Fem|Number=Sing\\t8\\tnsubj\\t_\\t_\\n7\\tF\\tF\\tPROPN\\tNE\\t_\\t6\\tappos\\t_\\t_\\n8\\täh\\täh\\tINTJ\\tNGHES\\t_\\t9\\tpunct\\t_\\t_\\n9\\t16\\t@card@\\tPROPN\\tNE\\tNumType=Card\\t5\\tappos\\t_\\t_\\n\\n1\\tja\\tja\\tINTJ\\tNGIRR\\t_\\t2\\tadvmod\\t_\\t_\\n2\\tokay\\tokay\\tINTJ\\tNGIRR\\t_\\t0\\troot\\t_\\t_\\n3\\täh\\täh\\tINTJ\\tNGHES\\t_\\t2\\tdep\\t_\\t_\\n\\n1\\tich\\tich\\tPRON\\tPPER\\tCase=Nom|Number=Sing|Person=1|PronType=Prs\\t6\\tnsubj\\t_\\t_\\n2\\thabe\\thaben\\tAUX\\tVAFIN\\tMood=Ind|Number=Sing|Person=1|Tense=Past|VerbForm=Fin\\t6\\taux\\t_\\t_\\n3\\tgerade\\tgerade\\tADV\\tADV\\t_\\t6\\tadvmod\\t_\\t_\\n4\\tein\\tein\\tDET\\tART\\tCase=Nom|Definite=Ind|Gender=Masc|Number=Sing|PronType=Art\\t5\\tdet\\t_\\t_\\n5\\tUnfall\\tUnfall\\tNOUN\\tNN\\tCase=Acc|Gender=Masc|Number=Sing\\t6\\tobj\\t_\\t_\\n6\\tgesehen\\tsehen\\tVERB\\tVVPP\\tTense=Past|VerbForm=Part\\t0\\troot\\t_\\t_\\n\\n1\\tund\\tund\\tCCONJ\\tKON\\t_\\t3\\tcc\\t_\\t_\\n2\\tes\\tes\\tPRON\\tPPER\\tCase=Nom|Gender=Neut|Number=Sing|Person=3|PronType=Prs\\t3\\tnsubj\\t_\\t_\\n3\\tgab\\tgeben\\tVERB\\tVVFIN\\tMood=Ind|Number=Sing|Person=3|Tense=Past|VerbForm=Fin\\t0\\troot\\t_\\t_\\n4\\tzwei\\tzwei\\tNUM\\tCARD\\tNumType=Card\\t5\\tnummod\\t_\\t_\\n5\\tAutos\\tAuto\\tNOUN\\tNN\\tCase=Acc|Gender=Neut|Number=Plur\\t3\\tobj\\t_\\t_\\n\\n1\\täh\\täh\\tINTJ\\tNGHES\\tDegree=Pos\\t0\\troot\\t_\\t_\\n2\\tund\\tund\\tCCONJ\\tKON\\t_\\t4\\tcc\\t_\\t_\\n3\\twas\\twas\\tPRON\\tPWS\\tCase=Acc|PronType=Int\\t4\\tnsubj\\t_\\t_\\n4\\tpassiert\\tpassieren\\tVERB\\tVVPP\\tTense=Past|VerbForm=Part\\t1\\tconj\\t_\\t_\\n5\\tist\\tsein\\tAUX\\tVAFIN\\tMood=Ind|Number=Sing|Person=3|Tense=Past|VerbForm=Fin\\t4\\taux:pass\\t_\\t_\\n6\\tist\\tsein\\tAUX\\tVAFIN\\tMood=Ind|Number=Sing|Person=3|Tense=Pres|VerbForm=Fin\\t4\\taux\\t_\\t_\\n7\\tdass\\tdass\\tCCONJ\\tKOUS\\t_\\t13\\tcc\\t_\\t_\\n8\\tein\\tein\\tDET\\tART\\tCase=Nom|Definite=Ind|Gender=Masc|Number=Sing|PronType=Art\\t9\\tdet\\t_\\t_\\n9\\tMann\\tMann\\tNOUN\\tNN\\tCase=Nom|Gender=Masc|Number=Sing\\t13\\tnsubj\\t_\\t_\\n10\\tmit\\tmit\\tADP\\tAPPR\\t_\\t12\\tcase\\t_\\t_\\n11\\tseinem\\tsein\\tDET\\tPPOSAT\\tCase=Dat|Gender=Masc|Gender[psor]=Masc|Number=Sing|Person=3|Poss=Yes|PronType=Prs\\t12\\tdet\\t_\\t_\\n12\\tBall\\tBall\\tNOUN\\tNN\\tCase=Dat|Gender=Masc|Number=Sing\\t13\\tobl\\t_\\t_\\n13\\tgespielt\\tspielen\\tVERB\\tVVPP\\tTense=Past|VerbForm=Part\\t4\\tccomp\\t_\\t_\\n14\\that\\thaben\\tAUX\\tVAFIN\\tMood=Ind|Number=Sing|Person=3|Tense=Past|VerbForm=Fin\\t13\\taux\\t_\\t_\\n\\n1\\ter\\ter\\tPRON\\tPPER\\tCase=Nom|Gender=Masc|Number=Sing|Person=3|PronType=Prs\\t5\\tnsubj\\t_\\t_\\n2\\twar\\tsein\\tAUX\\tVAFIN\\tMood=Ind|Number=Sing|Person=3|Tense=Past|VerbForm=Fin\\t5\\tcop\\t_\\t_\\n3\\tmit\\tmit\\tADP\\tAPPR\\t_\\t5\\tcase\\t_\\t_\\n4\\tseiner\\tsein\\tDET\\tPPOSAT\\tCase=Dat|Gender=Fem|Gender[psor]=Masc|Number=Sing|Person=3|Poss=Yes|PronType=Prs\\t5\\tdet:poss\\t_\\t_\\n5\\tFrau\\tFrau\\tNOUN\\tNN\\tCase=Dat|Gender=Fem|Number=Sing\\t0\\troot\\t_\\t_\\n\\n1\\tund\\tund\\tCCONJ\\tKON\\t_\\t6\\tcc\\t_\\t_\\n2\\tdie\\td\\tPRON\\tPDS\\tCase=Nom|Gender=Fem|PronType=Dem\\t6\\tnsubj\\t_\\t_\\n3\\thatte\\thaben\\tAUX\\tVAFIN\\tMood=Ind|Number=Sing|Person=3|Tense=Past|VerbForm=Fin\\t6\\taux\\t_\\t_\\n4\\tein\\tein\\tDET\\tART\\tCase=Acc|Definite=Ind|Gender=Neut|Number=Sing|PronType=Art\\t5\\tdet\\t_\\t_\\n5\\tKind\\tKind\\tNOUN\\tNN\\tCase=Acc|Gender=Neut|Number=Sing\\t6\\tobj\\t_\\t_\\n6\\tim\\tin\\tADP\\tAPPRART\\tCase=Acc\\t7\\tconj\\t_\\t_\\n7\\tKinderwagen\\tKinderwagen\\tNOUN\\tNN\\tCase=Acc|Gender=Masc|Number=Sing\\t0\\troot\\t_\\t_\\n\\n1\\tund\\tund\\tCCONJ\\tKON\\t_\\t2\\tcc\\t_\\t_\\n2\\täh\\täh\\tINTJ\\tNGHES\\t_\\t0\\troot\\t_\\t_\\n3\\ter\\ter\\tPRON\\tPPER\\tCase=Nom|Gender=Masc|Number=Sing|Person=3|PronType=Prs\\t7\\tnsubj\\t_\\t_\\n4\\that\\thaben\\tAUX\\tVAFIN\\tMood=Ind|Number=Sing|Person=3|Tense=Past|VerbForm=Fin\\t7\\taux\\t_\\t_\\n5\\tden\\td\\tDET\\tART\\tCase=Acc|Definite=Def|Gender=Masc|Number=Sing|PronType=Art\\t6\\tdet\\t_\\t_\\n6\\tBall\\tBall\\tNOUN\\tNN\\tCase=Acc|Gender=Masc|Number=Sing\\t7\\tobj\\t_\\t_\\n7\\tlosgelassen\\tloslassen\\tVERB\\tVVPP\\tTense=Past|VerbForm=Part\\t2\\tconj\\t_\\t_\\n\\n1\\tund\\tund\\tCCONJ\\tKON\\t_\\t8\\tcc\\t_\\t_\\n2\\tder\\td\\tDET\\tART\\tCase=Nom|Definite=Def|Gender=Masc|Number=Sing|PronType=Art\\t3\\tdet\\t_\\t_\\n3\\tBall\\tBall\\tNOUN\\tNN\\tCase=Nom|Gender=Masc|Number=Sing\\t8\\tnsubj:pass\\t_\\t_\\n4\\tist\\tsein\\tAUX\\tVAFIN\\tMood=Ind|Number=Sing|Person=3|Tense=Past|VerbForm=Fin\\t8\\taux:pass\\t_\\t_\\n5\\tauf\\tauf\\tADP\\tAPPR\\t_\\t7\\tcase\\t_\\t_\\n6\\tder\\td\\tDET\\tART\\tCase=Dat|Definite=Def|Gender=Masc|Number=Sing|PronType=Art\\t7\\tdet\\t_\\t_\\n7\\tStraße\\tStraße\\tNOUN\\tNN\\tCase=Dat|Gender=Fem|Number=Sing\\t8\\tobl\\t_\\t_\\n8\\tgerollt\\trollen\\tVERB\\tVVPP\\tVerbForm=Part\\t0\\troot\\t_\\t_\\n\\n1\\talso\\talso\\tCCONJ\\tSEDM\\t_\\t10\\tcc\\t_\\t_\\n2\\twusste\\twissen\\tAUX\\tVMFIN\\tMood=Ind|Number=Sing|Person=3|Tense=Past|VerbForm=Fin\\t10\\taux\\t_\\t_\\n3\\tdas\\td\\tDET\\tART\\tCase=Nom|Definite=Def|Gender=Neut|Number=Sing|PronType=Art\\t4\\tdet\\t_\\t_\\n4\\tAuto\\tAuto\\tNOUN\\tNN\\tCase=Nom|Gender=Neut|Number=Sing\\t10\\tnsubj\\t_\\t_\\n5\\talso\\talso\\tCCONJ\\tKOUS\\t_\\t10\\tcc\\t_\\t_\\n6\\tdas\\td\\tDET\\tART\\tCase=Nom|Definite=Def|Gender=Neut|Number=Sing|PronType=Art\\t8\\tdet\\t_\\t_\\n7\\terste\\terst\\tADJ\\tORD\\tCase=Nom|Degree=Pos|NumType=Ord|Number=Sing\\t8\\tamod\\t_\\t_\\n8\\tAuto\\tAuto\\tNOUN\\tNN\\tCase=Nom|Gender=Neut|Number=Sing\\t10\\tnsubj\\t_\\t_\\n9\\tschnell\\tschnell\\tADJ\\tADJD\\tDegree=Pos\\t10\\tadvmod\\t_\\t_\\n10\\täh\\täh\\tADJ\\tADJD\\t_\\t11\\tadvmod\\t_\\t_\\n11\\tbremsen\\tbremsen\\tVERB\\tVVINF\\tVerbForm=Part\\t0\\troot\\t_\\t_\\n\\n1\\tund\\tund\\tCCONJ\\tKON\\t_\\t16\\tcc\\t_\\t_\\n2\\tdas\\td\\tDET\\tART\\tCase=Nom|Definite=Def|Gender=Neut|Number=Sing|PronType=Art\\t3\\tdet\\t_\\t_\\n3\\tAuto\\tAuto\\tNOUN\\tNN\\tCase=Nom|Gender=Neut|Number=Sing\\t16\\tnsubj\\t_\\t_\\n4\\thinter\\thinter\\tADP\\tAPPR\\t_\\t7\\tcase\\t_\\t_\\n5\\tdieses\\tdies\\tDET\\tPDAT\\tCase=Nom|Gender=Neut|Number=Sing|PronType=Dem\\t7\\tdet\\t_\\t_\\n6\\terste\\terst\\tADJ\\tORD\\tCase=Dat|Degree=Pos|Gender=Neut|NumType=Ord|Number=Sing\\t7\\tamod\\t_\\t_\\n7\\tAuto\\tAuto\\tNOUN\\tNN\\tCase=Dat|Gender=Neut|Number=Sing\\t16\\tobl\\t_\\t_\\n8\\täh\\täh\\tINTJ\\tNGHES\\t_\\t16\\tadvmod\\t_\\t_\\n9\\tist\\tsein\\tAUX\\tVAFIN\\tMood=Ind|Number=Sing|Person=3|Tense=Past|VerbForm=Fin\\t16\\taux\\t_\\t_\\n10\\talso\\talso\\tCCONJ\\tKOUS\\t_\\t15\\tdet\\t_\\t_\\n11\\tin\\tin\\tADP\\tAPPR\\t_\\t13\\tcase\\t_\\t_\\n12\\tersten\\terst\\tADJ\\tORD\\tCase=Dat|Degree=Pos|NumType=Ord\\t13\\tamod\\t_\\t_\\n13\\tAuto\\tAuto\\tNOUN\\tNN\\tCase=Acc|Gender=Neut|Number=Sing\\t14\\tnmod\\t_\\t_\\n14\\terstes\\terst\\tADJ\\tORD\\tCase=Nom|Degree=Pos|NumType=Ord\\t15\\tamod\\t_\\t_\\n15\\tAuto\\tAuto\\tNOUN\\tNN\\tCase=Acc|Gender=Neut|Number=Sing\\t16\\tobj\\t_\\t_\\n16\\treingefahren\\treinfahren\\tVERB\\tVVPP\\tVerbForm=Part\\t0\\troot\\t_\\t_\\n\\n1\\tdas\\td\\tDET\\tART\\tCase=Nom|Definite=Def|Gender=Neut|Number=Sing|PronType=Art\\t3\\tdet\\t_\\t_\\n2\\terste\\terst\\tADJ\\tORD\\tCase=Nom|Degree=Pos|Gender=Neut|NumType=Ord|Number=Sing\\t3\\tamod\\t_\\t_\\n3\\tAuto\\tAuto\\tNOUN\\tNN\\tCase=Nom|Gender=Neut|Number=Sing\\t5\\tnsubj\\t_\\t_\\n4\\twar\\tsein\\tAUX\\tVAFIN\\tMood=Ind|Number=Sing|Person=3|Tense=Past|VerbForm=Fin\\t5\\taux\\t_\\t_\\n5\\tblau\\tblau\\tADJ\\tADJD\\tDegree=Pos|Number=Sing\\t0\\troot\\t_\\t_\\n6\\tund\\tund\\tCCONJ\\tKON\\t_\\t11\\tcc\\t_\\t_\\n7\\tdas\\td\\tDET\\tART\\tCase=Nom|Definite=Def|Gender=Neut|Number=Sing|PronType=Art\\t8\\tdet\\t_\\t_\\n8\\thinter\\thinter\\tNOUN\\tNN\\tCase=Nom|Gender=Neut|Number=Sing\\t11\\tnsubj\\t_\\t_\\n9\\twar\\tsein\\tAUX\\tVAFIN\\tMood=Ind|Number=Sing|Person=3|Tense=Past|VerbForm=Fin\\t11\\taux\\t_\\t_\\n10\\tentweder\\tentweder\\tCCONJ\\tKON\\t_\\t11\\tcc\\t_\\t_\\n11\\tsilber\\tsilber\\tADJ\\tADJD\\tDegree=Pos|Number=Sing\\t5\\tconj\\t_\\t_\\n12\\toder\\toder\\tCCONJ\\tKON\\t_\\t13\\tcc\\t_\\t_\\n13\\tvielleicht\\tvielleicht\\tADV\\tADV\\t_\\t11\\tconj\\t_\\t_\\n14\\tweiß\\tweiß\\tADJ\\tADJD\\tDegree=Pos|Number=Sing\\t11\\tconj\\t_\\t_\\n15\\toder\\toder\\tCCONJ\\tKON\\t_\\t16\\tcc\\t_\\t_\\n16\\tso\\tso\\tCCONJ\\tSEDM\\t_\\t14\\tconj\\t_\\t_\\n17\\tdazwischen\\tdazwischen\\tADV\\tADV\\t_\\t11\\tconj\\t_\\t_\\n\\n1\\täh\\täh\\tINTJ\\tNGHES\\tDegree=Pos\\t0\\troot\\t_\\t_\\n2\\tund\\tund\\tCCONJ\\tKON\\t_\\t5\\tcc\\t_\\t_\\n3\\tder\\td\\tDET\\tART\\tCase=Nom|Definite=Def|Gender=Masc|Number=Sing|PronType=Art\\t4\\tdet\\t_\\t_\\n4\\tHund\\tHund\\tNOUN\\tNN\\tCase=Nom|Gender=Masc|Number=Sing\\t5\\tnsubj\\t_\\t_\\n5\\tgehörte\\tgehören\\tVERB\\tVVFIN\\tMood=Ind|Number=Sing|Person=3|Tense=Past|VerbForm=Fin\\t1\\tconj\\t_\\t_\\n6\\tzu\\tzu\\tADP\\tAPPR\\t_\\t8\\tcase\\t_\\t_\\n7\\teiner\\tein\\tDET\\tART\\tCase=Dat|Definite=Ind|Gender=Fem|Number=Sing|PronType=Art\\t8\\tdet\\t_\\t_\\n8\\tFrau\\tFrau\\tNOUN\\tNN\\tCase=Dat|Gender=Fem|Number=Sing\\t5\\tobl\\t_\\t_\\n\\n1\\tund\\tund\\tCCONJ\\tKON\\t_\\t6\\tcc\\t_\\t_\\n2\\tdie\\td\\tPRON\\tPDS\\tCase=Nom|Gender=Fem|Number=Sing|Person=3|PronType=Dem\\t3\\tdet\\t_\\t_\\n3\\thatte\\thaben\\tAUX\\tVAFIN\\tMood=Ind|Number=Sing|Person=3|Tense=Past|VerbForm=Fin\\t6\\taux\\t_\\t_\\n4\\twar\\tsein\\tAUX\\tVAFIN\\tMood=Ind|Number=Sing|Person=3|Tense=Past|VerbForm=Fin\\t6\\taux\\t_\\t_\\n5\\tgerade\\tgerade\\tADV\\tADV\\t_\\t6\\tadvmod\\t_\\t_\\n6\\teinkaufen\\teinkaufen\\tVERB\\tVVINF\\tTense=Past|VerbForm=Inf\\t0\\troot\\t_\\t_\\n7\\tund\\tund\\tCCONJ\\tKON\\t_\\t11\\tcc\\t_\\t_\\n8\\tdabei\\tdabei\\tADV\\tADV\\t_\\t11\\tadvmod\\t_\\t_\\n9\\tim\\tin\\tADP\\tAPPRART\\tCase=Dat\\t11\\tcase\\t_\\t_\\n10\\tAuto\\tAuto\\tNOUN\\tNN\\tCase=Dat|Gender=Neut|Number=Sing\\t11\\tnmod\\t_\\t_\\n11\\täh\\täh\\tINTJ\\tNGHES\\t_\\t6\\tconj\\t_\\t_\\n12\\tmit\\tmit\\tADP\\tAPPR\\t_\\t14\\tcase\\t_\\t_\\n13\\tihre\\tihr\\tDET\\tPPOSAT\\tCase=Dat|Gender=Fem|Gender[psor]=Fem|Number=Sing|Person=3|Poss=Yes|PronType=Prs\\t14\\tdet:poss\\t_\\t_\\n14\\tEinkäufe\\tEinkauf\\tNOUN\\tNN\\tCase=Dat|Gender=Fem|Number=Plur\\t11\\tobl\\t_\\t_\\n\\n1\\tund\\tund\\tCCONJ\\tKON\\t_\\t7\\tcc\\t_\\t_\\n2\\tja\\tja\\tINTJ\\tNGIRR\\t_\\t7\\tadvmod\\t_\\t_\\n3\\tes\\tes\\tPRON\\tPPER\\tCase=Nom|Gender=Neut|Number=Sing|Person=3|PronType=Prs\\t7\\tnsubj\\t_\\t_\\n4\\tgeht\\tgehen\\tVERB\\tVVFIN\\tMood=Ind|Number=Sing|Person=3|Tense=Pres|VerbForm=Fin\\t7\\tcop\\t_\\t_\\n5\\täh\\täh\\tINTJ\\tNGHES\\t_\\t7\\tpunct\\t_\\t_\\n6\\tallen\\tall\\tPRON\\tPIS\\tCase=Dat|PronType=Tot\\t7\\tiobj\\t_\\t_\\n7\\tokay\\tokay\\tADJ\\tADJD\\t_\\t0\\troot\\t_\\t_\\n\\n1\\tniemand\\tniemand\\tPRON\\tPIS\\tCase=Nom|PronType=Neg\\t6\\tdep\\t_\\t_\\n2\\täh\\täh\\tINTJ\\tNGHES\\t_\\t6\\tpunct\\t_\\t_\\n3\\tich\\tich\\tPRON\\tPPER\\tCase=Nom|Gender=Fem|Number=Sing|Person=1|PronType=Prs\\t6\\tnsubj\\t_\\t_\\n4\\tkonnte\\tkönnen\\tAUX\\tVMFIN\\tMood=Ind|Number=Sing|Person=1|Tense=Past|VerbForm=Fin\\t6\\taux\\t_\\t_\\n5\\tnicht\\tnicht\\tINTJ\\tPTKNEG\\t_\\t6\\tadvmod\\t_\\t_\\n6\\tsehen\\tsehen\\tVERB\\tVVINF\\tTense=Past|VerbForm=Inf\\t0\\troot\\t_\\t_\\n7\\tdass\\tdass\\tCCONJ\\tKOUS\\t_\\t10\\tcc\\t_\\t_\\n8\\tirgendjemand\\tirgendjemand\\tPRON\\tPIS\\tCase=Nom|Number=Sing|PronType=Ind\\t10\\tiobj\\t_\\t_\\n9\\tsich\\ter|es|sie\\tPRON\\tPRF\\tPerson=3|PronType=Prs\\t10\\tobj\\t_\\t_\\n10\\tverletzt\\tverletzen\\tVERB\\tVVPP\\tTense=Past|VerbForm=Part\\t6\\tacl\\t_\\t_\\n11\\that\\thaben\\tAUX\\tVAFIN\\tMood=Ind|Number=Sing|Person=3|Tense=Past|VerbForm=Fin\\t10\\taux\\t_\\t_\\n\\n1\\tund\\tund\\tCCONJ\\tKON\\t_\\t6\\tcc\\t_\\t_\\n2\\tdie\\td\\tPRON\\tPDS\\tCase=Nom|Number=Plur|Person=3|PronType=Dem\\t6\\tnsubj\\t_\\t_\\n3\\thaben\\thaben\\tAUX\\tVAFIN\\tMood=Ind|Number=Plur|Person=3|Tense=Past|VerbForm=Fin\\t6\\taux\\t_\\t_\\n4\\tdie\\td\\tDET\\tART\\tCase=Acc|Definite=Def|Gender=Fem|Number=Sing|PronType=Art\\t5\\tdet\\t_\\t_\\n5\\tPolizei\\tPolizei\\tNOUN\\tNN\\tCase=Acc|Gender=Fem|Number=Sing\\t6\\tobj\\t_\\t_\\n6\\täh\\täh\\tINTJ\\tNGHES\\t_\\t7\\tconj\\t_\\t_\\n7\\tangerufen\\tanrufen\\tVERB\\tVVPP\\tTense=Past|VerbForm=Inf\\t0\\troot\\t_\\t_\\n\\n'"
      ]
     },
     "execution_count": 19,
     "metadata": {},
     "output_type": "execute_result"
    }
   ],
   "source": [
    "foo = de_bi_texts[0][1]\n",
    "foo"
   ]
  },
  {
   "cell_type": "code",
   "execution_count": 20,
   "id": "b18db9ea",
   "metadata": {},
   "outputs": [
    {
     "data": {
      "text/plain": [
       "[['1', 'äh', 'äh', 'INTJ', 'NGHES', '_', '0', 'root', '_', '_'], ['2', 'hello', 'hello', 'X', 'FM', '_', '3', 'dep', '_', '_'], ['3', 'this', 'this', 'X', 'FM', 'PronType=Dem', '4', 'dep', '_', '_'], ['4', 'is', 'be', 'X', 'FM', 'Mood=Ind|Person=3|Tense=Pres', '1', 'dep', '_', '_']]"
      ]
     },
     "execution_count": 20,
     "metadata": {},
     "output_type": "execute_result"
    }
   ],
   "source": [
    "foo = foo.replace('\\t', ' ').split('\\n')\n",
    "foo = [x.split() for x in foo]\n",
    "foo[:4]\n",
    "## ok I like this list a lot with a list in each line and I can feasibly\n",
    "## mark each conLL annotation accordingly"
   ]
  },
  {
   "cell_type": "code",
   "execution_count": 21,
   "id": "92c78497",
   "metadata": {},
   "outputs": [],
   "source": [
    "conLL_ann = []\n",
    "for lines in foo:\n",
    "    if len(lines) == 10:\n",
    "        conLL_ann.append({'id': lines[0], 'token': lines[1], 'lemma': lines[2], \n",
    "                            'pos_uni': lines[3], 'pos_lang': lines[4], 'morphology': lines[5], \n",
    "                            'head': lines[6], 'relationship': lines[7], 'misc1': lines[8],\n",
    "                            'misc2': lines[9]})"
   ]
  },
  {
   "cell_type": "code",
   "execution_count": 22,
   "id": "2b9d29e6",
   "metadata": {},
   "outputs": [
    {
     "name": "stdout",
     "output_type": "stream",
     "text": [
      "155\n",
      "['äh', 'hello', 'this', 'be', 'file', 'Nummer', 'F', 'äh', '@card@', 'ja', 'okay', 'äh', 'ich', 'haben', 'gerade', 'ein', 'Unfall', 'sehen', 'und', 'es']\n"
     ]
    }
   ],
   "source": [
    "print(len(conLL_ann))\n",
    "print([x['lemma'] for x in conLL_ann][:20])"
   ]
  },
  {
   "cell_type": "markdown",
   "id": "45cd6fc1",
   "metadata": {},
   "source": [
    "## Stanza Parsing"
   ]
  },
  {
   "cell_type": "markdown",
   "id": "8a625078",
   "metadata": {},
   "source": [
    "### POS Extraction"
   ]
  },
  {
   "cell_type": "code",
   "execution_count": 23,
   "id": "7861690d",
   "metadata": {},
   "outputs": [],
   "source": [
    "import stanza\n",
    "from stanza.utils.conll import CoNLL\n",
    "from stanza.models.common.doc import Document"
   ]
  },
  {
   "cell_type": "code",
   "execution_count": 24,
   "id": "7f6da96d",
   "metadata": {},
   "outputs": [],
   "source": [
    "file = DE_bi_files[0]\n",
    "doc = CoNLL.conll2doc(file)"
   ]
  },
  {
   "cell_type": "markdown",
   "id": "d2d4b008",
   "metadata": {},
   "source": [
    "This very helpful bit of code originates [here](https://github.com/StabiBerlin/Stanza-Conllu-2Corpus/blob/main/stanza-conllu-2-pos-lat.ipynb)"
   ]
  },
  {
   "cell_type": "code",
   "execution_count": 25,
   "id": "a0371502",
   "metadata": {},
   "outputs": [],
   "source": [
    "def convert_conllu_to_pos(input_path, pos_list):\n",
    "\n",
    "    with open(input_path, 'r', encoding='utf-8') as file:\n",
    "        lines = file.readlines()\n",
    "    \n",
    "    pos_text = \"\"\n",
    "    sentence = list([tuple()])\n",
    "    \n",
    "    for line in lines:\n",
    "        line = line.strip()\n",
    "        if line and not line.startswith(\"#\"):\n",
    "            columns = line.split(\"\\t\")\n",
    "            if len(columns) > 3:\n",
    "                word_text = columns[1]  # Token\n",
    "                upos = columns[3]  # Universal POS Tag\n",
    "\n",
    "                extension = tuple([word_text, upos])\n",
    "                sentence.append(extension)\n",
    "        else:\n",
    "            if sentence:\n",
    "                pos_text = sentence\n",
    "                sentence = []\n",
    "    \n",
    "    pos_list.append(pos_text)"
   ]
  },
  {
   "cell_type": "code",
   "execution_count": 26,
   "id": "76d1f0aa",
   "metadata": {},
   "outputs": [
    {
     "name": "stdout",
     "output_type": "stream",
     "text": [
      "[[('und', 'CCONJ'), ('die', 'PRON'), ('haben', 'AUX'), ('die', 'DET'), ('Polizei', 'NOUN'), ('äh', 'INTJ'), ('angerufen', 'VERB')], [('DEbi24FT', 'PROPN')], [('und', 'CCONJ'), ('ist', 'AUX'), ('ins', 'ADP'), ('erste', 'ADJ'), ('Auto', 'NOUN'), ('reingefahren', 'VERB')], [('und', 'CCONJ'), ('das', 'DET'), ('vordere', 'ADJ'), ('Auto', 'NOUN'), ('muss', 'AUX'), ('wegen', 'ADP'), ('des', 'DET'), ('rollenden', 'ADJ'), ('Balls', 'NOUN'), ('und', 'CCONJ'), ('dem', 'DET'), ('Hund', 'NOUN'), ('so', 'ADV'), ('stark', 'ADJ'), ('bremsen', 'VERB'), (',', 'PUNCT'), ('dass', 'CCONJ'), ('das', 'DET'), ('hintere', 'ADJ'), ('Auto', 'NOUN'), ('auffährt', 'VERB'), ('und', 'CCONJ'), ('einen', 'DET'), ('Unfall', 'NOUN'), ('verursacht', 'VERB'), ('.', 'PUNCT')], [('Der', 'DET'), ('Man', 'NOUN'), ('rief', 'VERB'), ('die', 'DET'), ('Polizei', 'NOUN'), ('an', 'ADV'), ('.', 'PUNCT')], [('Ich', 'PRON'), ('wurde', 'AUX'), ('nun', 'ADV'), ('als', 'SCONJ'), ('Zeuge', 'NOUN'), ('von', 'ADP'), ('der', 'DET'), ('Polizei', 'NOUN'), ('beauftragt', 'VERB'), (',', 'PROPN'), ('einen', 'DET'), ('Bericht', 'NOUN'), ('über', 'NOUN'), ('diesen', 'DET'), ('Unfall', 'NOUN'), ('zu', 'PART'), ('schreiben', 'VERB'), ('(', 'PROPN'), ('s.o.', 'PROPN'), (')', 'PROPN'), ('.', 'PUNCT')], [('vielen', 'DET'), ('Dank', 'NOUN'), ('tschüß', 'INTJ')], [('bis', 'ADP'), ('bald', 'ADV'), ('tschüss', 'INTJ')], [('ja', 'ADV'), ('krass', 'ADJ'), ('oder', 'CCONJ')], [('und', 'CCONJ'), ('irgendein', 'DET'), ('Hund', 'NOUN'), ('darauf', 'ADV'), ('reagiert', 'VERB'), ('hat', 'AUX'), ('und', 'CCONJ'), ('bellen', 'VERB'), ('musste', 'AUX')], [('Deswegen', 'ADV'), ('fuhr', 'VERB'), ('ein', 'DET'), ('hinter', 'ADP'), ('dem', 'DET'), ('blauen', 'ADJ'), ('Wagen', 'NOUN'), ('fahrender', 'ADJ'), ('weißer', 'ADJ'), ('Wagen', 'NOUN'), ('in', 'ADP'), ('den', 'DET'), ('weißen', 'ADJ'), ('Wagen', 'NOUN'), ('hinein', 'ADV'), ('.', 'PUNCT')], [(':D', 'SYM')], [('und', 'CCONJ'), ('gucken', 'VERB'), ('halt', 'ADV'), ('wer', 'PRON'), ('jetzt', 'ADV'), ('Schuld', 'NOUN'), ('an', 'ADP'), ('der', 'DET'), ('Sache', 'NOUN'), ('ist', 'AUX')], [('und', 'CCONJ'), ('der', 'DET'), ('Mann', 'NOUN'), ('im', 'ADP'), ('blauem', 'ADJ'), ('Auto', 'NOUN'), ('rief', 'VERB'), ('die', 'DET'), ('110', 'NOUN'), ('an', 'ADV'), ('.', 'PUNCT')], [('Aber', 'NOUN'), ('ich', 'PRON'), ('glaube', 'VERB'), (',', 'PUNCT'), ('es', 'PRON'), ('ist', 'AUX'), ('nichts', 'PRON'), ('passiert', 'VERB'), ('..', 'PUNCT'), ('die', 'DET')], [('Durch', 'ADP'), ('diese', 'DET'), ('Bremsung', 'NOUN'), ('prallte', 'VERB'), ('ihm', 'PRON'), ('ein', 'DET'), ('Auto', 'NOUN'), ('von', 'ADP'), ('hinten', 'ADV'), ('rein', 'ADV'), ('.', 'PUNCT')], [('Anschließend', 'ADV'), ('alarmierten', 'VERB'), ('sie', 'PRON'), ('die', 'DET'), ('Polizei', 'NOUN'), ('.', 'PUNCT')], [('also', 'CCONJ'), ('bin', 'AUX'), ('ich', 'PRON'), ('dann', 'ADV'), ('gegangen', 'VERB'), ('.', 'PUNCT')], [('äh', 'VERB'), ('die', 'PRON'), ('mich', 'PRON'), ('dann', 'ADV'), ('beauftragt', 'VERB'), ('hat', 'AUX'), ('hier', 'ADV'), ('diesen', 'DET'), ('Bericht', 'NOUN'), ('abzugeben', 'VERB')], [('Der', 'DET'), ('Passant', 'NOUN'), (',', 'PUNCT'), ('der', 'PRON'), ('den', 'DET'), ('Ball', 'NOUN'), ('gehalten', 'VERB'), ('hatte', 'AUX'), (',', 'PUNCT'), ('half', 'VERB'), ('der', 'DET'), ('Frau', 'NOUN'), ('mit', 'ADP'), ('dem', 'DET'), ('Hund', 'NOUN'), ('dabei', 'ADV'), (',', 'PUNCT'), ('die', 'DET'), ('Lebensmittel', 'NOUN'), ('und', 'CCONJ'), ('Einkäufe', 'NOUN'), ('von', 'ADP'), ('der', 'DET'), ('Straße', 'NOUN'), ('aufzusammeln', 'VERB'), ('.', 'PUNCT')], [('nicht', 'INTJ'), ('aufgepasst', 'VERB'), ('wer', 'PRON'), ('was', 'PRON'), ('er', 'PRON'), ('mit', 'ADP'), ('seinem', 'DET'), ('Ball', 'NOUN'), ('da', 'ADV'), ('macht', 'VERB'), ('ja', 'INTJ')], [('Mal', 'ADV'), ('schauen', 'VERB'), ('wie', 'ADV'), ('die', 'PRON'), ('das', 'PRON'), ('jetzt', 'ADV'), ('mit', 'ADP'), ('der', 'DET'), ('Polizei', 'NOUN'), ('regeln', 'VERB')], [('und', 'CCONJ'), ('der', 'DET'), ('zweite', 'ADJ'), ('Auto', 'NOUN'), ('ist', 'AUX'), ('in', 'ADP'), ('den', 'DET'), ('ersten', 'ADJ'), ('Auto', 'NOUN'), ('reingefahren', 'VERB')], [('na', 'INTJ'), ('ja', 'INTJ'), ('ich', 'PRON'), ('weiß', 'VERB'), ('noch', 'ADV'), ('wie', 'ADV'), ('es', 'PRON'), ('bei', 'ADP'), ('mir', 'PRON'), ('war', 'AUX')], [('ja', 'INTJ'), ('und', 'CCONJ'), ('generell', 'ADV'), ('ist', 'AUX'), ('dann', 'ADV'), ('äh', 'INTJ'), ('ist', 'AUX'), ('dann', 'ADV'), ('ein', 'DET'), ('äh', 'INTJ'), ('ist', 'AUX'), ('war', 'AUX'), ('es', 'PRON'), ('dann', 'ADV'), ('auch', 'ADV'), ('noch', 'ADV'), ('so', 'ADV'), ('dass', 'CCONJ'), ('zwei', 'NUM'), ('Autos', 'NOUN'), ('gefahren', 'VERB'), ('sind', 'AUX'), ('eins', 'PRON'), ('vorne', 'ADV'), ('eins', 'PRON'), ('hinten', 'ADV'), ('und', 'CCONJ'), ('das', 'DET'), ('hintere', 'ADJ'), ('in', 'ADP'), ('äh', 'INTJ'), ('das', 'DET'), ('andere', 'DET'), ('vordere', 'ADJ'), ('Auto', 'NOUN'), ('reingefahren', 'VERB'), ('ist', 'AUX')], [('und', 'CCONJ'), ('der', 'DET'), ('weiße', 'ADJ'), ('Volkswagen', 'PROPN'), ('ist', 'AUX'), ('hinten', 'ADV'), ('raufgefahren', 'VERB')], [('und', 'CCONJ'), ('ja', 'INTJ')], [('Durch', 'ADP'), ('die', 'DET'), ('Notbremsung', 'NOUN'), ('musste', 'AUX'), ('ein', 'DET'), ('zweites', 'ADJ'), ('Auto', 'NOUN'), ('ebenfalls', 'ADV'), ('bremsen', 'VERB'), (',', 'PUNCT'), ('welches', 'PRON'), ('dem', 'DET'), ('ersten', 'ADJ'), ('Fahrzeug', 'NOUN'), ('hinterherfuhr', 'VERB'), (',', 'PUNCT'), ('sodass', 'CCONJ'), ('es', 'PRON'), ('zu', 'ADP'), ('einen', 'DET'), ('meiner', 'DET'), ('Meinung', 'NOUN'), ('nach', 'ADP'), ('kleinen', 'ADJ'), ('Unfall', 'NOUN'), ('kam', 'VERB'), ('.', 'PUNCT')], [('und', 'CCONJ'), ('es', 'PRON'), ('kam', 'VERB'), ('zum', 'ADP'), ('Unfall', 'NOUN'), ('.', 'PUNCT')], [('und', 'CCONJ'), ('dann', 'ADV'), ('alarmiert', 'VERB'), ('ein', 'DET'), ('Autofahrer', 'NOUN'), ('die', 'DET'), ('Polizei', 'NOUN'), ('um', 'ADP'), ('den', 'DET'), ('Sachschaden', 'NOUN'), ('der', 'DET'), ('Polizei', 'NOUN'), ('zu', 'PART'), ('zeigen', 'VERB')], [('und', 'CCONJ'), ('der', 'DET'), ('Mann', 'NOUN'), ('im', 'ADP'), ('blauem', 'ADJ'), ('Auto', 'NOUN'), ('rief', 'VERB'), ('die', 'DET'), ('110', 'NUM'), ('an', 'ADV'), ('.', 'PUNCT')], [('und', 'CCONJ'), ('der', 'DET'), ('Fahrer', 'NOUN'), ('des', 'DET'), ('blauen', 'ADJ'), ('Wagens', 'NOUN'), ('alamierte', 'VERB'), ('Sie', 'PRON'), ('dann', 'ADV')], [('Dann', 'ADV'), ('wurde', 'AUX'), ('von', 'ADP'), ('einem', 'DET'), ('Unfallbeteiligten', 'NOUN'), ('die', 'DET'), ('Polizei', 'NOUN'), ('gerufen', 'VERB'), ('.', 'PUNCT')], [('und', 'CCONJ'), ('äh', 'INTJ'), ('riefen', 'VERB'), ('die', 'DET'), ('Polizei', 'NOUN')], [('ja', 'INTJ'), ('und', 'CCONJ'), ('dann', 'ADV'), ('rief', 'VERB'), ('man', 'PRON'), ('die', 'DET'), ('Polizei', 'NOUN'), ('an', 'ADV')], [('Mit', 'ADP'), ('freundlichen', 'ADJ'), ('Grüßen', 'NOUN'), ('DEbi15MR', 'PROPN')], [('und', 'CCONJ'), ('der', 'DET'), ('zweite', 'ADJ'), ('Wagen', 'NOUN'), ('fuhr', 'VERB'), ('dem', 'DET'), ('ersten', 'ADJ'), ('Wagen', 'NOUN'), ('äh', 'VERB'), ('drauf', 'ADV')], [('und', 'CCONJ'), ('ja', 'INTJ'), ('einfach', 'ADV'), ('Sciencefictionfilm', 'NOUN')], [('tschüss', 'INTJ')], [('(', 'PUNCT'), ('Bei', 'ADP'), ('diesem', 'DET'), ('Unfall', 'NOUN'), ('sind', 'AUX'), ('keine', 'DET'), ('Hunde', 'NOUN'), ('zu', 'ADP'), ('Schaden', 'NOUN'), ('gekommen', 'VERB'), (')', 'PUNCT')], [('😂', 'PROPN')], [('😱', 'SYM')], [('auf', 'ADP'), ('Wiederhören', 'NOUN')], [('aber', 'CCONJ'), ('ein', 'DET'), ('anderer', 'PRON'), ('Fahrer', 'NOUN'), ('kollidierte', 'VERB'), ('leicht', 'ADJ'), ('das', 'DET'), ('Fahrzeug', 'NOUN'), ('des', 'DET'), ('vorderen', 'ADJ'), ('Fahrers', 'NOUN'), ('.', 'PUNCT')], [('und', 'CCONJ'), ('das', 'PRON'), ('war', 'AUX'), ('alles', 'PRON')], [('Außer', 'ADP'), ('vielleicht', 'ADV'), ('das', 'DET'), ('Auto', 'NOUN'), ('.', 'PUNCT')], [('und', 'CCONJ'), ('na', 'INTJ'), ('ja', 'INTJ'), ('wir', 'PRON'), ('hören', 'VERB'), ('uns', 'PRON')], [('Herr', 'NOUN'), ('DEbi01MR', 'PROPN')], [('ja', 'INTJ')], [('an', 'ADP'), ('mehr', 'PRON'), ('kann', 'AUX'), ('ich', 'PRON'), ('mich', 'PRON'), ('nicht', 'INTJ'), ('mehr', 'ADV'), ('erinnern', 'VERB')], [('Darauf', 'ADV'), ('wurde', 'AUX'), ('die', 'DET'), ('Polizei', 'NOUN'), ('alarmiert', 'VERB'), ('.', 'PUNCT')], [('Weil', 'CCONJ'), ('ich', 'PRON'), ('alles', 'PRON'), ('gesehen', 'VERB'), ('habe', 'AUX'), (',', 'PUNCT'), ('wollte', 'AUX'), ('ich', 'PRON'), ('dann', 'ADV'), ('auch', 'ADV'), ('noch', 'ADV'), ('auf', 'ADP'), ('die', 'DET'), ('Polizei', 'NOUN'), ('warten', 'VERB'), ('...', 'PUNCT')], [('Die', 'DET'), ('Leute', 'NOUN'), ('waren', 'AUX'), ('alle', 'PRON'), ('ok', 'ADJ'), ('.', 'PUNCT')], [('So', 'ADV'), ('kam', 'VERB'), ('es', 'PRON'), ('zu', 'ADP'), ('dem', 'DET'), ('Unfall', 'NOUN'), ('.', 'PUNCT')], [('tschüss', 'INTJ')], [('hahaha', 'INTJ')], [('und', 'CCONJ'), ('war', 'AUX'), ('dann', 'ADV'), ('halt', 'ADV'), ('ein', 'DET'), ('riesen', 'ADJ'), ('Unfall', 'NOUN')], [('dementsprechend', 'ADJ'), ('folgte', 'VERB'), ('danach', 'ADV'), ('ein', 'DET'), ('Auffahrunfall', 'NOUN')], [('und', 'CCONJ'), ('haben', 'AUX'), ('anschließend', 'ADV'), ('die', 'DET'), ('Polizei', 'NOUN'), ('gerufen', 'VERB')], [('🙂', 'SYM')], [('<3', 'PROPN')], [('Fallen', 'VERB'), ('lassen', 'VERB'), ('*', 'PUNCT')], [('war', 'AUX'), ('schon', 'ADV'), ('lustig', 'ADJ'), ('.', 'PUNCT')], [('Der', 'DET'), ('eine', 'NOUN'), ('rief', 'VERB'), ('dann', 'ADV'), ('die', 'DET'), ('Polizei', 'NOUN'), ('.', 'PUNCT')], [('und', 'CCONJ'), ('kann', 'AUX'), ('auch', 'ADV'), ('gegebenfalls', 'ADV'), ('benötigte', 'ADJ'), ('Details', 'NOUN'), ('liefern', 'VERB')], [('und', 'CCONJ'), ('äh', 'INTJ'), ('ja', 'INTJ')], [('vielen', 'DET'), ('Dank', 'NOUN')], [('und', 'CCONJ'), ('das', 'DET'), ('zweite', 'ADJ'), ('Auto', 'NOUN'), ('das', 'PRON'), ('dahinter', 'ADV'), ('war', 'AUX'), ('ist', 'AUX'), ('dann', 'ADV'), ('hinten', 'ADV'), ('reingekracht', 'VERB')], [('danach', 'ADV'), ('daraufhin', 'ADV'), ('ruft', 'VERB'), ('der', 'DET'), ('eine', 'DET'), ('Mann', 'NOUN'), ('die', 'DET'), ('Nummer', 'NOUN'), ('eins', 'NUM'), ('eins', 'NUM'), ('null', 'NUM')], [('und', 'CCONJ'), ('fuhr', 'VERB'), ('in', 'ADP'), ('das', 'DET'), ('weiße', 'ADJ'), ('Auto', 'NOUN'), ('von', 'ADP'), ('hinten', 'ADV'), ('rein', 'ADV'), ('.', 'PUNCT')], [('😬', 'SYM')], [('sondern', 'CCONJ'), ('haben', 'AUX'), ('aber', 'ADV'), ('einfach', 'ADV'), ('gleich', 'ADV'), ('die', 'DET'), ('Polizei', 'NOUN'), ('gerufen', 'VERB')], [('🤣', 'PROPN')], [('also', 'CCONJ'), ('bin', 'AUX'), ('ich', 'PRON'), ('dann', 'ADV'), ('gegangen', 'VERB')], [('und', 'CCONJ'), ('dann', 'ADV'), ('kam', 'VERB'), ('halt', 'ADV'), ('der', 'DET'), ('Zusammenprall', 'NOUN'), ('der', 'DET'), ('zwei', 'NUM'), ('Autos', 'NOUN'), ('weil', 'CCONJ'), ('das', 'DET'), ('erste', 'ADJ'), ('daraufhin', 'ADV'), ('eine', 'DET'), ('Notbremse', 'NOUN'), ('gezogen', 'VERB'), ('hat', 'AUX')], [('und', 'CCONJ'), ('dadurch', 'ADV'), ('ist', 'AUX'), ('der', 'DET'), ('hintere', 'ADJ'), ('Fahrer', 'NOUN'), ('ihm', 'PRON'), ('ins', 'ADP'), ('Auto', 'NOUN'), ('geknallt', 'VERB')], [('ich', 'PRON'), ('hoffe', 'VERB'), ('ich', 'PRON'), ('konnte', 'AUX'), ('ihnen', 'PRON'), ('helfen', 'VERB')], [('genau', 'INTJ'), ('joa', 'INTJ'), ('das', 'PRON'), ('war', 'AUX'), ('es', 'PRON')], [('Dadurch', 'ADV'), ('kam', 'VERB'), ('es', 'PRON'), ('dazu', 'ADV'), (',', 'PUNCT'), ('dass', 'CCONJ'), ('der', 'DET'), ('zweite', 'ADJ'), ('Fahrer', 'NOUN'), ('auf', 'ADP'), ('das', 'DET'), ('Auto', 'NOUN'), ('des', 'DET'), ('ersten', 'ADJ'), ('Fahrers', 'NOUN'), ('auffuhr', 'VERB'), ('.', 'PUNCT')], [('😅', 'PROPN')], [('Schuld', 'ADJ'), ('ist', 'AUX'), ('aber', 'ADV'), ('offiziell', 'ADJ'), ('(', 'PUNCT'), ('bei', 'ADP'), ('der', 'DET'), ('Polizei', 'NOUN'), (')', 'PUNCT'), ('der', 'DET'), ('Fahrer', 'NOUN'), ('des', 'DET'), ('hinteren', 'ADJ'), ('Autos', 'NOUN'), ('.', 'PUNCT')], [('und', 'CCONJ'), ('fuhr', 'VERB'), ('auf', 'ADP'), ('den', 'DET'), ('vorderen', 'ADJ'), ('auf', 'ADP'), ('.', 'PUNCT')], [('so', 'ADV'), ('der', 'DET'), ('weiß(e)', 'ADJ'), ('Auto', 'NOUN'), ('hatte', 'AUX'), ('in', 'ADP'), ('ein', 'DET'), ('gefahren', 'VERB')], [(':D', 'ADJ')], [('total', 'ADV'), ('unnötig', 'ADJ'), ('oder', 'CCONJ')], [('ja', 'INTJ')], [('Währenddessen', 'ADV'), ('packten', 'VERB'), ('die', 'DET'), ('Personen', 'NOUN'), ('ihre', 'DET'), ('auf', 'ADP'), ('dem', 'DET'), ('Boden', 'NOUN'), ('liegenden', 'ADJ'), ('Einkäufe', 'NOUN'), ('wieder', 'ADV'), ('ein', 'ADV'), ('.', 'PUNCT')], [('es', '_'), ('geht', '_'), ('allen', '_'), ('gut', '_')], [('und', 'CCONJ'), ('der', 'DET'), ('Hintere', 'NOUN'), ('fährt', 'VERB'), ('ihm', 'PRON'), ('voll', 'ADV'), ('drauf', 'ADV')], [('ja', 'ADV')], [('Mit', 'ADP'), ('freundlichen', 'ADJ'), ('Grüßen', 'NOUN'), (',', 'PUNCT'), ('DEbi64MR', 'PROPN')], [('weil', 'CCONJ'), ('ich', 'PRON'), ('wüsste', 'VERB'), ('jetzt', 'ADV'), ('echt', 'ADV'), ('nicht', 'INTJ'), ('wer', 'PRON'), ('hier', 'ADV'), ('schuldtragend', 'ADJ'), ('ist', 'AUX')], [('das', 'PRON'), ('war', 'AUX'), ('es', 'PRON')], [('bis', 'ADP'), ('dann', 'ADV'), ('Dicker', 'NOUN'), ('!', 'PUNCT')], [('Während', 'NOUN'), ('die', 'DET'), ('Polizei', 'NOUN'), ('gerufen', 'VERB'), ('wurde', 'AUX'), ('half', 'VERB'), ('der', 'DET'), ('Mann', 'NOUN'), ('der', 'DET'), ('den', 'DET'), ('Ball', 'NOUN'), ('fallen', 'VERB'), ('lassen', 'VERB'), ('hat', 'AUX'), (',', 'PROPN'), ('der', 'DET'), ('Frau', 'NOUN'), ('ihre', 'DET'), ('Einkäufe', 'NOUN'), ('wieder', 'ADV'), ('einzuräumen', 'VERB'), ('.', 'PUNCT')], [('Der', 'DET'), ('Mann', 'NOUN'), (',', 'PUNCT'), ('der', 'PRON'), ('das', 'DET'), ('blaue', 'ADJ'), ('Auto', 'NOUN'), ('fuhr', 'VERB'), (',', 'PUNCT'), ('ruft', 'VERB'), ('die', 'DET'), ('Polizei', 'NOUN'), ('.', 'PUNCT')], [('und', 'CCONJ'), ('haben', 'AUX'), ('die', 'DET'), ('Polizei', 'NOUN'), ('gerufen', 'VERB')], [('und', 'CCONJ'), ('hat', 'AUX'), ('zusammen', 'ADV'), ('mit', 'ADP'), ('dem', 'DET'), ('Besitzer', 'NOUN'), ('des', 'DET'), ('anderen', 'PRON'), ('Wagens', 'NOUN'), ('die', 'DET'), ('Polizei', 'NOUN'), ('angerufen', 'VERB')], [('und', 'CCONJ'), ('so', 'ADV'), ('hat', 'AUX'), ('es', 'PRON'), ('ist', 'AUX'), ('ein', 'DET'), ('Unfall', 'NOUN'), ('passiert', 'VERB')], [('und', 'CCONJ'), ('weitere', 'ADJ'), ('Fragen', 'NOUN'), ('stellen', 'VERB')], [('DEbi13FR', 'PROPN')], [('und', 'CCONJ'), ('dann', 'ADV'), ('klären', 'VERB'), ('die', 'PRON'), ('das', 'PRON')], [('Dankeschön', 'NOUN')], [('Das', 'DET'), ('zweite', 'ADJ'), ('Auto', 'NOUN'), ('hatte', 'AUX'), ('leider', 'ADV'), ('nichts', 'PRON'), ('davon', 'ADV'), ('mitbekommen', 'VERB'), ('und', 'CCONJ'), ('ist', 'AUX'), ('voll', 'ADV'), ('in', 'ADP'), ('das', 'DET'), ('vordere', 'ADJ'), ('Auto', 'NOUN'), ('reingefahren', 'VERB'), ('.', 'PUNCT')], [('ja', 'INTJ'), ('wie', 'ADV'), ('gesagt', 'VERB'), ('bei', 'ADP'), ('bei', 'ADP'), ('Rückfragen', 'NOUN'), ('können', 'VERB'), ('sich', 'PRON'), ('gerne', 'ADV'), ('nochmal', 'ADJ'), ('melden', 'VERB')], [('und', 'CCONJ'), ('riefen', 'VERB'), ('anschließend', 'ADV'), ('die', 'DET'), ('Polizei', 'NOUN'), ('.', 'PUNCT')], [('Die', 'PRON'), ('haben', 'AUX'), ('mies', 'ADJ'), ('Angst', 'NOUN'), ('bekommen', 'VERB'), ('.', 'PUNCT')], [('tschüss', 'INTJ')], [('also', 'CCONJ'), ('das', 'DET'), ('Auto', 'NOUN'), ('wurde', 'AUX'), ('bestimmt', 'ADV'), ('hinten', 'ADV'), ('bisschen', 'NOUN'), ('kaputt', 'ADV'), ('gemacht', 'VERB')], [('und', 'CCONJ'), ('weil', 'CCONJ'), ('das', 'DET'), ('blaue', 'ADJ'), ('Golf', 'PROPN'), ('anhalten', 'VERB'), ('musste', 'AUX'), ('ist', 'AUX'), ('dann', 'ADV'), ('das', 'DET'), ('andere', 'PRON'), ('Auto', 'NOUN'), ('hinten', 'ADV'), ('eingeprallt', 'VERB')], [('😳', 'SYM')], [('vielen', 'DET'), ('Dank', 'NOUN')], [(';D', 'SYM')], [('und', 'CCONJ'), ('ein', 'DET'), ('anderes', 'NOUN'), ('ist', 'AUX'), ('hinten', 'ADV'), ('reingefahren', 'VERB')], [('und', 'CCONJ'), ('der', 'PRON'), ('hinter', 'ADP'), ('ihm', 'PRON'), ('auf', 'ADP'), ('ihn', 'PRON'), ('raufgefahren', 'VERB'), ('ist', 'AUX'), ('.', 'PUNCT')], [('ja', 'INTJ'), ('so', 'ADV'), ('war', 'AUX'), ('es', 'PRON')], [('Daraufhin', 'ADV'), ('ruft', 'VERB'), ('der', 'DET'), ('eine', 'NOUN'), ('der', 'DET'), ('Fahrer', 'NOUN'), ('die', 'DET'), ('Nummer', 'NOUN'), ('110', 'X'), ('an', 'ADV'), ('.', 'PUNCT')], [('Die', 'DET'), ('Frau', 'NOUN'), ('mit', 'ADP'), ('dem', 'DET'), ('Kinderwagen', 'NOUN'), ('hat', 'AUX'), ('nichts', 'PRON'), ('gemacht', 'VERB'), ('.', 'PUNCT')], [('und', 'CCONJ'), ('hat', 'AUX'), ('da', 'ADV'), ('äh', 'INTJ'), ('mit', 'ADP'), ('ihnen', 'PRON'), ('geredet', 'VERB'), ('wobei', 'ADV'), ('die', 'DET'), ('Männer', 'NOUN'), ('vorher', 'ADV'), ('die', 'DET'), ('Polizei', 'NOUN'), ('gerufen', 'VERB'), ('hatten', 'AUX')], [('Und', 'CCONJ'), ('dann', 'ADV'), ('wird', 'AUX'), ('die', 'DET'), ('Polizei', 'NOUN'), ('angerufen', 'VERB')], [('Danach', 'ADV'), ('alarmierte', 'VERB'), ('ein', 'DET'), ('Autofahrer', 'NOUN'), ('die', 'DET'), ('Polizei', 'NOUN'), (',', 'PUNCT'), ('um', 'SCONJ'), ('den', 'DET'), ('Sachschaden', 'NOUN'), ('zu', 'PART'), ('zeigen', 'VERB'), ('.', 'PUNCT')], [('mir', 'PRON'), ('geht', 'VERB'), ('es', 'PRON'), ('gut', 'ADJ')], [('aber', 'CCONJ'), ('es', 'PRON'), ('hat', 'AUX'), ('ordentlich', 'ADJ'), ('gekracht', 'VERB'), ('sage', 'VERB'), ('ich', 'PRON'), ('dir', 'PRON'), ('.', 'PUNCT')], [('Unfall', 'ADJ'), ('hahaha', 'INTJ')], [('bis', 'ADP'), ('später', 'ADV')], [('und', 'CCONJ'), ('ja', 'INTJ')], [('anstatt', 'ADP'), ('sich', 'PRON'), ('zu', 'PART'), ('entschuldigen', 'VERB'), (',', 'PUNCT'), ('dass', 'CCONJ'), ('es', 'PRON'), ('wegen', 'ADP'), ('ihr', 'PRON'), ('passiert', 'VERB'), ('ist', 'AUX'), (',', 'PUNCT'), ('bleibt', 'VERB'), ('sie', 'PRON'), ('ruhig', 'ADJ'), ('und', 'CCONJ'), ('egoistisch', 'ADJ'), ('.', 'PUNCT')], [('vielen', 'DET'), ('Dank', 'NOUN')], [('also', 'CCONJ'), ('alles', 'PRON'), ('gut', 'ADJ')], [('In', 'ADP'), ('dem', 'DET'), ('Moment', 'NOUN'), ('bremste', 'VERB'), ('der', 'DET'), ('vordere', 'ADJ'), ('PKW', 'NOUN'), (',', 'PUNCT'), ('worauf', 'ADV'), ('der', 'DET'), ('hintere', 'ADJ'), ('in', 'ADP'), ('den', 'DET'), ('vorderen', 'ADJ'), ('reinfuhr', 'NOUN'), ('.', 'PUNCT')], [('und', 'CCONJ'), ('dann', 'ADV'), ('bin', 'AUX'), ('ich', 'PRON'), ('gegangen', 'VERB')], [('schönen', 'ADJ'), ('Tag', 'NOUN'), ('noch', 'ADV')], [('der', 'DET'), ('Mann', 'NOUN'), ('im', 'ADP'), ('vorderen', 'ADJ'), ('Auto', 'NOUN'), ('rief', 'VERB'), ('direkt', 'ADJ'), ('die', 'DET'), ('Polizei', 'NOUN')], [('das', 'PRON'), ('war', 'AUX'), ('es', 'PRON')], [('Bis', 'ADP'), ('bald', 'ADV'), ('!', 'PUNCT')], [('aber', 'CCONJ'), ('ein', 'DET'), ('silber', 'ADJ'), ('Auto', 'NOUN'), ('hat', 'AUX'), ('gegen', 'ADP'), ('das', 'DET'), ('blauen', 'ADJ'), ('Auto', 'NOUN'), ('geknallt', 'VERB'), ('wenn', 'CCONJ'), ('es', 'PRON'), ('ganz', 'ADV'), ('schnell', 'ADJ'), ('gebremst', 'VERB'), ('hatte', 'AUX'), ('.', 'PUNCT')], [('okay', 'INTJ'), ('dann', 'ADV'), ('sehen', 'VERB'), ('wir', 'PRON'), ('uns', 'PRON'), ('heute', 'ADV'), ('Abend', 'NOUN'), ('noch', 'ADV'), ('mal', 'ADV')], [('und', 'CCONJ'), ('fragte', 'VERB'), ('ob', 'CCONJ'), ('alles', 'PRON'), ('in', 'ADP'), ('Ordnung', 'NOUN'), ('sei', 'AUX'), ('.', 'PUNCT')], [('äh', 'INTJ'), ('außer', 'ADP'), ('eventuell', 'ADV'), ('das', 'DET'), ('zweite', 'ADJ'), ('Fahrzeug', 'NOUN')], [('dankeschön', 'INTJ'), ('tschüß', 'INTJ')], [('Später', 'ADV'), ('haben', 'AUX'), ('sie', 'PRON'), ('die', 'DET'), ('Polizei', 'NOUN'), ('angerufen', 'VERB'), ('.', 'PUNCT')], [('und', 'CCONJ'), ('der', 'PRON'), ('Junge', 'INTJ'), ('hat', 'AUX'), ('der', 'DET'), ('Frau', 'NOUN'), ('geholfen', 'VERB'), ('äh', 'INTJ'), ('die', 'DET'), ('Sachen', 'NOUN'), ('wieder', 'ADV'), ('reinzupacken', 'VERB'), ('die', 'PRON'), ('sie', 'PRON'), ('auf', 'ADP'), ('die', 'DET'), ('Straße', 'NOUN'), ('äh', 'INTJ'), ('geworfen', 'VERB'), ('hat', 'AUX')], [('tschau', 'INTJ')], [('die', 'DET'), ('Autos', 'NOUN'), ('haben', 'AUX'), ('so', 'ADV'), ('voll', 'ADV'), ('schnell', 'ADJ'), ('gebremst', 'VERB'), ('und', 'CCONJ'), ('sind', 'AUX'), ('dann', 'ADV'), ('zusammengeschtoßen', 'VERB')], [('aber', 'CCONJ'), ('es', 'PRON'), ('war', 'AUX'), ('wirklich', 'ADV'), ('komisch', 'ADJ')], [('🤗', 'PROPN')], [('und', 'CCONJ'), ('durch', 'ADP'), ('ihn', 'PRON'), ('wurde', 'AUX'), ('ein', 'DET'), ('Unfall', 'NOUN'), ('verursacht', 'VERB'), ('worden', 'AUX'), ('.', 'PUNCT')], [('und', 'CCONJ'), ('es', 'PRON'), ('war', 'AUX'), ('jetzt', 'ADV'), ('kein', 'DET'), ('großer', 'ADJ'), ('Unfall', 'NOUN')], [('aber', 'CCONJ'), ('wenn', 'CCONJ'), ('man', 'PRON'), ('sowas', 'PRON'), ('sieht', 'VERB'), ('ist', 'AUX'), ('ja', 'ADV'), ('klar', 'ADJ'), ('ne', 'PART')], [('also', 'CCONJ'), ('äh', 'INTJ'), ('das', 'PRON'), ('war', 'AUX'), ('so', 'ADV'), ('die', 'DET'), ('wichtigste', 'ADJ'), ('Info', 'NOUN')], [('sonst', 'ADV'), ('würde', 'VERB'), ('er', 'PRON'), ('die', 'PRON'), ('überfahren', 'VERB')], [('was', 'PRON'), ('für', 'ADP'), ('ein', 'DET'), ('schräger', 'ADJ'), ('Tag', 'NOUN'), ('ne', 'PART')], [('Daraufhin', 'ADV'), ('fuhr', 'VERB'), ('das', 'DET'), ('zweite', 'ADJ'), ('Auto', 'NOUN'), ('in', 'ADP'), ('das', 'DET'), ('erste', 'ADJ'), ('hinein', 'ADV'), ('.', 'PUNCT')], [('und', 'CCONJ'), ('ging', 'VERB'), ('dann', 'ADV'), ('später', 'ADJ'), ('zu', 'ADP'), ('der', 'DET'), ('Unfallstelle', 'NOUN'), ('.', 'PUNCT')], [('ich', 'PRON'), ('bin', 'AUX'), ('Zeuge', 'NOUN')], [('und', 'CCONJ'), ('schaute', 'VERB'), ('ob', 'CCONJ'), ('alles', 'PRON'), ('in', 'ADP'), ('Ordnung', 'NOUN'), ('wäre', 'VERB'), ('.', 'PUNCT')], [('schon', 'ADV'), ('bereits', 'ADV'), ('da', 'ADV'), ('hatte', 'AUX'), ('der', 'DET'), ('Mann', 'NOUN'), ('im', 'ADP'), ('Auto', 'NOUN'), ('die', 'DET'), ('Polizei', 'NOUN'), ('gerufen', 'VERB'), ('.', 'PUNCT')], [('Das', 'PRON'), ('war', 'AUX'), ('jetzt', 'ADV'), ('total', 'ADV'), ('unverständlich', 'ADJ'), (',', 'PROPN'), ('aber', 'CCONJ'), ('ich', 'PRON'), ('erzähle', 'VERB'), ('dir', 'PRON'), ('das', 'PRON'), ('einfach', 'ADV'), ('später', 'ADJ'), ('😘', 'SYM'), ('😘', 'SYM'), ('😘', 'SYM')], [('und', 'CCONJ'), ('hat', 'AUX'), ('den', 'PRON'), ('halt', 'ADV'), ('hat', 'AUX'), ('dann', 'ADV'), ('irgendwie', 'ADV'), ('auch', 'ADV'), ('mit', 'ADP'), ('denen', 'PRON'), ('geredet', 'VERB'), ('oder', 'CCONJ'), ('so', 'ADV')], [('aber', 'CCONJ'), ('ja', 'INTJ'), ('zum', 'ADP'), ('Glück', 'NOUN'), ('ist', 'AUX'), ('auf', 'ADP'), ('jeden', 'PRON'), ('Fall', 'NOUN'), ('nichs', 'PRON'), ('passiert', 'VERB')], [('jedoch', 'ADV'), ('hat', 'AUX'), ('er', 'PRON'), ('so', 'ADV'), ('ruckartig', 'ADJ'), ('gebremst', 'VERB'), ('weshalb', 'ADV'), ('das', 'DET'), ('zweite', 'ADJ'), ('Auto', 'NOUN'), ('ihm', 'PRON'), ('dann', 'ADV'), ('hinten', 'ADV'), ('reinfuhr', 'VERB')], [('also', 'CCONJ'), ('und', 'CCONJ'), ('es', 'PRON'), ('ist', 'AUX'), ('auch', 'ADV'), ('keiner', 'PRON'), ('um', 'ADP'), ('Leben', 'NOUN'), ('gekommen', 'VERB')], [('und', '_'), ('dann', '_'), ('hat', '_'), ('er', '_'), ('die', '_'), ('Polizei', '_'), ('angerufen', '_'), ('.', '_')], [('und', 'CCONJ'), ('haben', 'AUX'), ('mit', 'ADP'), ('sich', 'PRON'), ('miteinander', 'ADV'), ('gesprochen', 'VERB')], [('Bis', 'ADP'), ('später', 'ADJ')], [('tschüss', 'ADJ')], [('😅', 'PROPN')], [('aber', 'CCONJ'), ('sie', 'PRON'), ('hat', 'AUX'), ('die', 'DET'), ('Polizei', 'NOUN'), ('angerufen', 'VERB'), ('.', 'PUNCT')], [('voll', 'ADV'), ('das', 'DET'), ('Theater', 'NOUN')], [('danke', 'INTJ')], [('das', 'PRON'), ('ist', 'AUX'), ('voll', 'ADV'), ('in', 'ADP'), ('das', 'DET'), ('vordere', 'ADJ'), ('reingefahren', 'VERB')], [('bis', 'CCONJ'), ('dann', 'ADV'), ('tschüss', 'INTJ')], [('Ist', 'AUX'), ('schon', 'ADV'), ('witzig', 'ADJ'), (',', 'PUNCT'), ('was', 'PRON'), ('für', 'VERB'), ('eine', 'DET'), ('Kettenreaktion', 'NOUN'), ('ausgelöst', 'VERB'), ('werden', 'AUX'), ('musste', 'AUX'), (',', 'PUNCT'), ('damit', 'CCONJ'), ('es', 'PRON'), ('zu', 'ADP'), ('so', 'ADV'), ('einem', 'DET'), ('komischen', 'ADJ'), ('Unfall', 'NOUN'), ('kommt', 'VERB'), ('.', 'PUNCT')], [('und', 'CCONJ'), ('ein', 'DET'), ('anderes', 'NOUN'), ('fuhr', 'VERB'), ('ihm', 'PRON'), ('hinten', 'ADV'), ('drauf', 'ADV'), ('.', 'PUNCT')], [('die', 'DET'), ('Polizei', 'NOUN'), ('wurde', 'AUX'), ('auch', 'ADV'), ('direkt', 'ADJ'), ('alarmiert', 'VERB')], [('işte', 'X'), ('böyle', 'X')], [('und', 'CCONJ'), ('äh', 'INTJ'), ('es', 'PRON'), ('war', 'AUX'), ('nur', 'ADV'), ('ein', 'DET'), ('kleines', 'ADJ'), ('äh', 'INTJ'), ('keine', 'PRON'), ('verletzt', 'ADJ'), ('oder', 'CCONJ'), ('sowas', 'PRON'), ('ja', 'INTJ')], [('tschüss', 'INTJ')], [('und', 'CCONJ'), ('der', 'DET'), ('hintere', 'ADJ'), ('ist', 'AUX'), ('dann', 'ADV'), ('halt', 'ADV'), ('dem', 'DET'), ('vorderem', 'ADJ'), ('Auto', 'NOUN'), ('nach', 'ADP'), ('hinten', 'ADV'), ('gecrasht', 'VERB')], [('und', 'CCONJ'), ('die', 'PRON'), ('haben', 'AUX'), ('sie', 'PRON'), ('und', 'CCONJ'), ('sie', 'PRON'), ('haben', 'AUX'), ('dann', 'ADV'), ('die', 'DET'), ('Polizei', 'NOUN'), ('gerufen', 'VERB')], [('es', 'PRON'), ('ja', 'ADV'), ('war', 'AUX'), ('heftig', 'ADJ')], [('dann', 'ADV'), ('die', 'PRON'), ('haben', 'AUX'), ('Polizei', 'NOUN'), ('gerufen', 'VERB')], [('äh', 'INTJ'), ('alles', 'PRON'), ('dann', 'ADV'), ('danke', 'INTJ')], [('und', 'CCONJ'), ('ja', 'INTJ')], [('und', 'CCONJ'), ('das', 'DET'), ('Auto', 'NOUN'), ('hinter', 'ADP'), ('ihn', 'PRON'), ('fährt', 'VERB'), ('in', 'ADP'), ('ihn', 'PRON'), ('rein', 'ADV')], [('Danach', 'ADV'), ('half', 'VERB'), ('der', 'DET'), ('junge', 'ADJ'), ('Mann', 'NOUN'), ('mit', 'ADP'), ('dem', 'DET'), ('Ball', 'NOUN'), ('der', 'DET'), ('Frau', 'NOUN'), (',', 'PUNCT'), ('ihre', 'PRON'), ('auf', 'ADP'), ('den', 'DET'), ('Boden', 'NOUN'), ('gefallenen', 'ADJ'), ('Einkäufe', 'NOUN'), ('wieder', 'ADV'), ('in', 'ADP'), ('die', 'DET'), ('Tüte', 'NOUN'), ('einzuräumen', 'VERB'), (',', 'PUNCT'), ('während', 'ADJ'), ('sie', 'PRON'), ('zeitgleich', 'ADJ'), ('ihr', 'DET'), ('Tier', 'NOUN'), ('streichelte', 'VERB'), ('.', 'PUNCT')], [('Die', 'DET'), ('110', 'NUM'), ('wurde', 'AUX'), ('daraufhin', 'ADV'), ('gewählt', 'VERB'), ('.', 'PUNCT')], [('der', 'PRON'), ('von', 'ADP'), ('einem', 'DET'), ('anderen', 'PRON'), ('Mann', 'NOUN'), ('jedoch', 'CCONJ'), ('der', 'PRON'), ('deswegen', 'ADV'), ('wahrscheinlich', 'ADV'), ('auch', 'ADV'), ('die', 'DET'), ('ähm', 'INTJ'), ('den', 'DET'), ('Unfall', 'NOUN'), ('verursacht', 'VERB'), ('hat', 'AUX')], [('und', 'CCONJ'), ('dann', 'ADV'), ('sage', 'VERB'), ('ich', 'PRON'), ('dir', 'PRON'), ('nochmal', 'ADV'), ('Bescheid', 'NOUN'), ('später', 'ADJ')], [('und', 'CCONJ'), ('ist', 'AUX'), ('dadurch', 'ADV'), ('aufgefahren', 'VERB')], [('DEbi63FR', 'PROPN')], [('Es', 'PRON'), ('gibt', 'VERB'), ('keine', 'DET'), ('Verletzten', 'NOUN'), ('oder', 'CCONJ'), ('größeren', 'ADJ'), ('Sachschaden', 'NOUN'), ('.', 'PUNCT')], [('😅', 'SYM')], [('und', 'CCONJ'), ('deswegen', 'ADV'), ('ist', 'AUX'), ('das', 'DET'), ('blaue', 'ADJ'), ('Auto', 'NOUN'), ('in', 'ADP'), ('das', 'DET'), ('weiße', 'ADJ'), ('Auto', 'NOUN'), ('reingefahren', 'VERB'), ('.', 'PUNCT')], [('schönen', 'ADJ'), ('Tag', 'NOUN')], [('♥️✌️', 'SYM')], [('Denn', 'CCONJ'), ('schließlich', 'ADJ'), ('ist', 'AUX'), ('keiner', 'PRON'), ('verletzt', 'ADJ'), ('.', 'PUNCT')], [('ein', 'DET'), ('Glück', 'NOUN'), ('hatte', 'AUX'), ('der', 'DET'), ('Fahrer', 'NOUN'), ('Zeit', 'NOUN'), ('zu', 'PART'), ('bremsen', 'VERB'), ('.', 'PUNCT')], [('ich', 'PRON'), ('bringe', 'VERB'), ('dann', 'ADV'), ('auch', 'ADV'), ('äh', 'INTJ'), ('eine', 'DET'), ('Entschuldigung', 'NOUN'), ('mit', 'ADV'), ('und', 'CCONJ'), ('so', 'ADV')], [('und', 'CCONJ'), ('riefen', 'VERB'), ('nun', 'ADV'), ('die', 'DET'), ('Polizei', 'NOUN'), ('an', 'ADV'), (',', 'PUNCT'), ('nachdem', 'CCONJ'), ('sie', 'PRON'), ('sich', 'PRON'), ('den', 'DET'), ('Schaden', 'NOUN'), ('angeschaut', 'VERB'), ('haben', 'AUX'), ('.', 'PUNCT')], [('und', 'CCONJ'), ('die', 'DET'), ('Dame', 'NOUN'), ('mit', 'ADP'), ('ihre', 'DET'), ('Einkaufstüte', 'NOUN'), ('hat', 'AUX'), ('aus', 'ADP'), ('lauter', 'DET'), ('Schock', 'NOUN'), ('fast', 'ADV'), ('ihre', 'DET'), ('ganze', 'ADJ'), ('Einkäufe', 'NOUN'), ('verloren', 'VERB'), ('!', 'PUNCT'), ('!', 'PUNCT')], [('Damit', 'ADV'), ('endet', 'VERB'), ('die', 'DET'), ('Szene', 'NOUN'), ('.', 'PUNCT')], [('ja', 'INTJ')], [('Der', 'DET'), ('Mann', 'NOUN'), ('im', 'ADP'), ('blauen', 'ADJ'), ('Auto', 'NOUN'), ('rufte', 'VERB'), ('die', 'DET'), ('Polizei', 'NOUN'), ('.', 'PUNCT')], [('Na', 'INTJ'), ('ja', 'INTJ'), (',', 'PUNCT'), ('jedenfalls', 'ADV'), ('war', 'AUX'), ('das', 'PRON'), ('gerade', 'ADV'), ('echt', 'ADV'), ('ein', 'DET'), ('bisschen', 'PRON'), ('Action', 'NOUN'), ('hier', 'ADV')], [('Mit', 'ADP'), ('freundlichen', 'ADJ'), ('Grüßen', 'NOUN'), (',', 'PUNCT'), ('XX', 'NOUN')], [('das', 'PRON'), ('war', 'AUX'), ('es', 'PRON')], [('und', 'CCONJ'), ('dann', 'ADV'), ('hab', 'AUX'), ('ich', 'PRON'), ('noch', 'ADV'), ('beobachtet', 'VERB'), ('dass', 'CCONJ'), ('äh', 'INTJ'), ('der', 'DET'), ('Mann', 'NOUN'), ('halt', 'ADV'), ('die', 'DET'), ('Polizei', 'NOUN'), ('gerufen', 'VERB'), ('hat', 'AUX')], [('äh', 'INTJ'), ('für', 'ADP'), ('weitere', 'ADJ'), ('Rückfragen', 'NOUN'), ('können', 'VERB'), ('Sie', 'PRON'), ('mich', 'PRON'), ('unter', 'ADP'), ('folgender', 'ADJ'), ('Telefonnummer', 'NOUN'), ('noch', 'ADV'), ('erreichen', 'VERB')], [('Die', 'DET'), ('Polizei', 'NOUN'), ('wurde', 'AUX'), ('ordnugnsgemäß', 'ADJ'), ('verständigt', 'VERB'), ('.', 'PUNCT')], [('shit', 'PROPN'), ('happens', 'PROPN')], [('und', 'CCONJ'), ('hat', 'AUX'), ('halt', 'ADV'), ('mit', 'ADP'), ('denen', 'PRON'), ('wahrscheinlich', 'ADV'), ('darüber', 'ADV'), ('geredet', 'VERB'), ('äh', 'INTJ'), ('dass', 'CCONJ'), ('ein', 'DET'), ('also', 'CCONJ'), ('aus', 'ADP'), ('Versehen', 'NOUN'), ('war', 'AUX'), ('oder', 'CCONJ'), ('so', 'ADV'), ('dass', 'CCONJ'), ('die', 'PRON'), ('nicht', 'INTJ'), ('die', 'DET'), ('Polizei', 'NOUN'), ('rufen', 'VERB'), ('sollen', 'AUX')], [('mit', 'ADP'), ('freundlichen', 'ADJ'), ('Grüßen', 'NOUN'), ('DEbi04MT', 'PROPN')], [('ja', 'INTJ'), ('das', 'PRON'), ('war', 'AUX'), ('echt', 'ADV'), ('krass', 'ADJ')], [('aber', 'CCONJ'), ('es', 'PRON'), ('äh', 'INTJ'), ('gab', 'VERB'), ('eben', 'ADV'), ('diesen', 'DET'), ('Sachschaden', 'NOUN')], [('auf', 'ADP'), ('Wiedersehen', 'NOUN')], [('und', 'CCONJ'), ('daraufhin', 'ADV'), ('äh', 'INTJ'), ('ist', 'AUX'), ('dann', 'ADV'), ('der', 'DET'), ('hintere', 'ADJ'), ('weiße', 'ADJ'), ('Wagen', 'NOUN'), ('in', 'ADP'), ('ihn', 'PRON'), ('reingefahren', 'VERB')], [('aber', 'CCONJ'), ('ich', 'PRON'), ('konnte', 'AUX'), ('eh', 'INTJ'), ('nicht', 'INTJ'), ('helfen', 'VERB'), ('deshalb', 'ADV'), ('bin', 'AUX'), ('ich', 'PRON'), ('weitergegangen', 'VERB'), ('.', 'PUNCT'), ('.', 'PUNCT')], [('und', 'CCONJ'), ('die', 'DET'), ('Polizei', 'NOUN'), ('gerufen', 'VERB')], [('Die', 'DET'), ('Polizei', 'NOUN'), ('wurde', 'AUX'), ('von', 'ADP'), ('den', 'DET'), ('Beteiligten', 'NOUN'), ('selbst', 'ADV'), ('gerufen', 'VERB'), ('.', 'PUNCT')], [('und', 'CCONJ'), ('äh', 'VERB'), ('das', 'DET'), ('Auto', 'NOUN'), ('bleibt', 'VERB'), ('stehen', 'VERB'), ('wo', 'ADV'), ('wo', 'ADV'), ('dann', 'ADV'), ('beide', 'DET'), ('Autos', 'NOUN'), ('Unfall', 'NOUN'), ('machen', 'VERB')], [('Beide', 'DET'), ('Unfallbeteiligten', 'NOUN'), ('stiegen', 'VERB'), ('aus', 'ADP'), ('den', 'DET'), ('Autos', 'NOUN'), (',', 'PUNCT'), ('um', 'ADP'), ('den', 'DET'), ('Schaden', 'NOUN'), ('der', 'DET'), ('Polizei', 'NOUN'), ('telefonisch', 'ADJ'), ('zu', 'PART'), ('übermitteln', 'VERB'), ('.', 'PUNCT')], [('und', 'CCONJ'), ('äh', 'VERB'), ('hinter', 'ADP'), ('dem', 'DET'), ('hinter', 'ADP'), ('besagtem', 'ADJ'), ('Auto', 'NOUN'), ('war', 'AUX'), ('ein', 'DET'), ('weiteres', 'ADJ'), ('Auto', 'NOUN'), ('wodurch', 'ADV'), ('es', 'PRON'), ('zu', 'ADP'), ('einem', 'DET'), ('Auffahrunfall', 'NOUN'), ('kam', 'VERB')], [('und', 'CCONJ'), ('das', 'PRON'), ('war', 'VERB'), ('es', 'PRON')], [('es', 'PRON'), ('Auto', 'NOUN'), ('was', 'PRON'), ('auf', 'ADP'), ('der', 'DET'), ('Straße', 'NOUN'), ('fuhr', 'VERB'), ('äh', 'INTJ'), ('musste', 'AUX'), ('deshalb', 'ADV'), ('abrupt', 'ADJ'), ('anhalten', 'VERB'), ('äh', 'INTJ'), ('woraufhin', 'ADV'), ('das', 'DET'), ('zweite', 'ADJ'), ('Auto', 'NOUN'), ('was', 'PRON'), ('hinter', 'ADV'), ('äh', 'INTJ'), ('dem', 'DET'), ('vorderen', 'ADJ'), ('Auto', 'NOUN'), ('was', 'PRON'), ('anhielt', 'VERB'), ('äh', 'INTJ'), ('fuhr', 'VERB'), ('äh', 'INTJ'), ('auch', 'ADV'), ('abrupt', 'ADJ'), ('anhalten', 'VERB'), ('musste', 'AUX'), ('und', 'CCONJ'), ('äh', 'INTJ'), ('auf', 'ADP'), ('das', 'DET'), ('erste', 'ADJ'), ('Auto', 'NOUN'), ('rauffuhr', 'VERB')], [('Hättest', 'AUX'), ('du', 'PRON'), ('geholfen', 'VERB'), ('?', 'PUNCT')], [('aber', 'CCONJ'), ('eigentlich', 'ADV'), ('war', 'AUX'), ('es', 'PRON'), ('nicht', 'INTJ'), ('so', 'ADV'), ('schlimm', 'ADJ'), ('.', 'PUNCT')], [('Dieser', 'DET'), ('Zustand', 'NOUN'), ('führte', 'VERB'), ('zu', 'ADP'), ('einer', 'DET'), ('Notbremsung', 'NOUN'), ('des', 'DET'), ('blauen', 'ADJ'), ('Autos', 'NOUN'), (',', 'PUNCT'), ('welches', 'PRON'), ('dann', 'ADV'), ('zu', 'ADP'), ('einem', 'DET'), ('Auffahrunfall', 'NOUN'), ('des', 'DET'), ('weißen', 'ADJ'), ('Autos', 'NOUN'), ('führte', 'VERB'), ('.', 'PUNCT')], [('die', 'DET'), ('Polizei', 'NOUN'), ('wurde', 'AUX'), ('auch', 'ADV'), ('gerufen', 'VERB'), ('.', 'PUNCT')], [('Erschrocken', 'VERB'), ('vom', 'ADP'), ('Aufprall', 'NOUN'), ('fiel', 'VERB'), ('einer', 'DET'), ('Frau', 'NOUN'), (',', 'PROPN'), ('die', 'PRON'), ('direkt', 'ADJ'), ('vor', 'ADP'), ('dem', 'DET'), ('Unfallort', 'NOUN'), ('ihre', 'DET'), ('Einkäufe', 'NOUN'), ('einräumte', 'VERB'), (',', 'PROPN'), ('ihre', 'DET'), ('Tasche', 'NOUN'), ('auf', 'ADP'), ('den', 'DET'), ('Boden', 'NOUN'), ('.', 'PUNCT')], [('und', 'CCONJ'), ('sie', 'PRON'), ('haben', 'AUX'), ('dann', 'ADV'), ('die', 'DET'), ('Bullen', 'NOUN'), ('gerufen', 'VERB'), ('...', 'PUNCT')], [('und', 'CCONJ'), ('der', 'DET'), ('hinteren', 'ADJ'), ('Auto', 'NOUN'), ('hat', 'AUX'), ('den', 'DET'), ('vorderen', 'ADJ'), ('Auto', 'NOUN'), ('von', 'ADP'), ('hinten', 'ADV'), ('angefahren', 'VERB'), ('.', 'PUNCT')], [('und', 'CCONJ'), ('daher', 'ADV'), ('ist', 'AUX'), ('das', 'DET'), ('zweite', 'ADJ'), ('Fahrzeug', 'NOUN'), ('quasi', 'ADV'), ('auf', 'ADP'), ('das', 'DET'), ('erste', 'ADJ'), ('Fahrzeug', 'NOUN'), ('raufgefahren', 'VERB')], [('tschüss', 'INTJ')], [('Es', 'PRON'), ('wurde', 'AUX'), ('keiner', 'PRON'), ('verletzt', 'VERB'), ('.', 'PUNCT')], [('💪', 'SYM')], [('der', 'DET'), ('Mann', 'NOUN'), ('mit', 'ADP'), ('dem', 'DET'), ('blauen', 'ADJ'), ('VW', 'PROPN'), ('rief', 'VERB'), ('dann', 'ADV'), ('per', 'ADP'), ('Handy', 'NOUN'), ('die', 'DET'), ('Polizei', 'NOUN'), ('.', 'PUNCT')], [('und', 'CCONJ'), ('der', 'DET'), ('Familienvater', 'NOUN'), ('hat', 'AUX'), ('der', 'DET'), ('Hundebesitzerin', 'NOUN'), ('geholfen', 'VERB'), (',', 'PUNCT'), ('ihre', 'DET'), ('Einkäufe', 'NOUN'), ('aufzusammeln', 'VERB'), ('.', 'PUNCT')], [('ja', 'ADV')], [('wollte', 'AUX'), ('ich', 'PRON'), ('dir', 'PRON'), ('einfach', 'ADV'), ('nur', 'ADV'), ('mal', 'ADV'), ('berichten', 'VERB')], [('genau', 'INTJ'), ('das', 'PRON'), ('war', 'AUX'), ('es', 'PRON')], [('Das', 'DET'), ('vordere', 'ADJ'), ('Auto', 'NOUN'), ('musste', 'AUX'), ('stark', 'ADJ'), ('bremsen', 'VERB'), ('da', 'CCONJ'), ('der', 'PRON'), ('sonst', 'ADV'), ('auf', 'ADP'), ('den', 'DET'), ('Fußball', 'NOUN'), ('herauf', 'ADV'), ('fahren', 'VERB'), ('würde', 'VERB'), ('.', 'PUNCT')], [('Diese', 'PRON'), ('hatten', 'AUX'), ('bereits', 'ADV'), ('in', 'ADP'), ('dieser', 'DET'), ('Zeit', 'NOUN'), ('die', 'DET'), ('Polizei', 'NOUN'), ('gerufen', 'VERB'), ('.', 'PUNCT')], [('aber', 'CCONJ'), ('wollte', 'AUX'), ('dir', 'PRON'), ('mal', 'ADV'), ('berichten', 'VERB')], [('Beide', 'DET'), ('Autofahrer', 'NOUN'), ('stiegen', 'VERB'), ('direkt', 'ADJ'), ('aus', 'ADV'), ('und', 'CCONJ'), ('riefen', 'VERB'), ('die', 'DET'), ('Polizei', 'NOUN'), (',', 'PUNCT'), ('um', 'ADP'), ('den', 'DET'), ('Unfall', 'NOUN'), ('zu', 'PART'), ('berichten', 'VERB'), ('.', 'PUNCT')], [('😃', 'SYM')], [('auf', 'ADP'), ('Wiederhören', 'NOUN')], [('und', '_'), ('äh', '_'), ('dann', 'ADV'), ('hat', '_'), ('er', '_'), ('der', '_'), ('Polizei', '_'), ('angerufen', '_')], [('und', 'CCONJ'), ('ruften', 'VERB'), ('die', 'DET'), ('110', 'NOUN'), ('.', 'PUNCT')], [('Es', 'PRON'), ('ist', 'AUX'), ('aber', 'ADV'), ('nichts', 'PRON'), ('weiter', 'ADV'), ('passiert', 'VERB'), ('.', 'PUNCT')], [('vielen', 'ADJ'), ('Dank', 'NOUN'), ('und', 'CCONJ'), ('ein', 'DET'), ('schönen', 'ADJ'), ('Tag', 'NOUN'), ('noch', 'ADV')], [('und', 'CCONJ'), ('haben', 'AUX'), ('miteinander', 'ADV'), ('gesprochen', 'VERB'), ('.', 'PUNCT')], [('also', 'CCONJ'), ('das', 'PRON'), ('habe', 'AUX'), ('ich', 'PRON'), ('beobachten', 'VERB'), ('können', 'VERB')], [('Alle', 'DET'), ('Personen', 'NOUN'), ('sind', 'AUX'), ('in', 'ADP'), ('dieser', 'DET'), ('Situation', 'NOUN'), ('unversehrt', 'ADJ'), ('davongekommen', 'VERB'), ('.', 'PUNCT')], [('äh', 'INTJ'), ('dann', 'ADV'), ('=s', '_'), ('haben', 'AUX'), ('sie', 'PRON'), ('die', 'DET'), ('Polizei', 'NOUN')], [('aber', 'CCONJ'), ('ich', 'PRON'), ('wollte', 'AUX'), ('es', 'PRON'), ('dir', 'PRON'), ('mitteilen', 'VERB')], [('äh', 'INTJ'), ('es', 'PRON'), ('es', 'PRON'), ('ist', 'AUX'), ('aber', 'ADV'), ('keiner', 'PRON'), ('verletzt', 'ADJ'), ('worden', 'AUX')], [('dankeschön', 'INTJ'), ('und', 'CCONJ'), ('auf', 'ADP'), ('Wiederhören', 'NOUN')], [('und', 'CCONJ'), ('die', 'DET'), ('beiden', 'NOUN'), ('Männer', 'NOUN'), ('die', 'PRON'), ('den', 'DET'), ('Unfall', 'NOUN'), ('verursacht', 'VERB'), ('haben', 'AUX'), (',', 'PUNCT'), ('haben', 'AUX'), ('die', 'DET'), ('Polizei', 'NOUN'), ('gerufen', 'VERB')], [('äh', 'INTJ'), ('und', 'CCONJ'), ('der', 'DET'), ('Mann', 'NOUN'), ('im', 'ADP'), ('blauen', 'ADJ'), ('Auto', 'NOUN'), ('hat', 'AUX'), ('dann', 'ADV'), ('die', 'DET'), ('Polizei', 'NOUN'), ('angerufen', 'VERB')], [('In', 'ADP'), ('diesen', 'DET'), ('Moment', 'NOUN'), ('kamen', 'VERB'), ('zwei', 'NUM'), ('Autos', 'NOUN'), ('hintereinander', 'ADV'), ('und', 'CCONJ'), ('der', 'DET'), ('Vordere', 'NOUN'), ('bremste', 'VERB'), ('auf', 'ADP'), ('einmal', 'ADV'), (',', 'PUNCT'), ('weswegen', 'ADV'), ('der', 'DET'), ('Hintere', 'NOUN'), ('nicht', 'INTJ'), ('rechtzeitig', 'ADJ'), ('bremsen', 'VERB'), ('konnte', 'AUX'), ('und', 'CCONJ'), ('sie', 'PRON'), ('deswegen', 'ADV'), ('zusammenknallten', 'VERB'), ('.', 'PUNCT')], [('😅', 'SYM')], [('genau', 'INTJ'), ('also', 'CCONJ'), ('ich', 'PRON'), ('war', 'AUX'), ('irgendwie', 'ADV'), ('voll', 'ADV'), ('schockiert', 'ADJ'), ('dass', 'CCONJ'), ('ich', 'PRON'), ('das', 'PRON'), ('so', 'ADV'), ('miterlebt', 'VERB'), ('habe', 'AUX')], [('aber', 'CCONJ'), ('hat', 'AUX'), ('eben', 'ADV'), ('diesen', 'DET'), ('Auffahrunfall', 'NOUN'), ('verursacht', 'VERB')], [('und', 'CCONJ'), ('ja', 'INTJ'), ('das', 'PRON'), ('wollt', 'AUX'), ('ich', 'PRON'), ('mal', 'ADV'), ('mit', 'ADP'), ('dir', 'PRON'), ('teilen', 'VERB')], [('...', 'PUNCT')], [('na', 'INTJ'), ('gut', 'ADJ'), ('wir', 'PRON'), ('sehen', 'VERB'), ('uns', 'PRON'), ('später', 'ADJ')], [('und', 'CCONJ'), ('versuchte', 'VERB'), ('dann', 'ADV'), ('mit', 'ADP'), ('den', 'DET'), ('Männern', 'NOUN'), ('die', 'PRON'), ('aus', 'ADP'), ('den', 'DET'), ('Autos', 'NOUN'), ('austiegen', 'VERB'), ('zu', 'PART'), ('reden', 'VERB'), (',', 'PROPN'), ('weil', 'CCONJ'), ('diese', 'DET'), ('die', 'DET'), ('Polizei', 'NOUN'), ('anrufen', 'VERB'), ('wollten', 'AUX'), ('.', 'PUNCT')], [('und', 'CCONJ'), ('dann', 'ADV'), ('hat', 'AUX'), ('es', 'PRON'), ('geknallt', 'VERB'), (':/', 'SYM')], [('daraufhin', 'ADV'), ('prallte', 'VERB'), ('ein', 'DET'), ('anderes', 'PRON'), ('Auto', 'NOUN'), ('hinten', 'ADV'), ('bei', 'ADP'), ('ihn', 'PRON'), ('ein', 'ADV')], [('Und', 'CCONJ'), ('nein', 'INTJ'), ('es', 'PRON'), ('wurde', 'AUX'), ('keiner', 'PRON'), ('verletzt', 'VERB'), ('.', 'PUNCT')], [('die', 'DET'), ('zwei', 'NUM'), ('Fahrer', 'NOUN'), ('äh', 'INTJ'), ('haben', 'AUX'), ('daraufhin', 'ADV'), ('sofort', 'ADV'), ('die', 'DET'), ('Polizei', 'NOUN'), ('kontaktiert', 'VERB')], [('Der', 'DET'), ('Besitzer', 'NOUN'), ('des', 'DET'), ('beschädigten', 'ADJ'), ('Autos', 'NOUN'), ('hat', 'AUX'), ('die', 'DET'), ('Polizei', 'NOUN'), ('angerufen', 'VERB'), ('und', 'CCONJ'), ('sah', 'VERB'), ('richtig', 'ADV'), ('sauer', 'INTJ'), ('aus', 'ADV'), ('.', 'PUNCT')], [('und', 'CCONJ'), ('ja', 'INTJ')], [('Der', 'DET'), ('Mann', 'NOUN'), ('aus', 'ADP'), ('dem', 'DET'), ('blauen', 'ADJ'), ('Auto', 'NOUN'), ('hat', 'AUX'), ('daraufhin', 'ADV'), ('die', 'DET'), ('Polizei', 'NOUN'), ('informiert', 'VERB'), ('.', 'PUNCT')], [('also', 'CCONJ'), ('ich', 'PRON'), ('stand', 'VERB'), ('direkt', 'ADJ'), ('davor', 'ADV')], [('und', 'CCONJ'), ('hinter', 'ADV'), ('ihm', 'PRON'), ('ist', 'AUX'), ('der', 'DET'), ('Fahrer', 'NOUN'), ('halt', 'ADV'), ('in', 'ADP'), ('ihn', 'PRON'), ('in', 'ADP'), ('ihn', 'PRON'), ('reingerannt', 'VERB')], [('Bis', 'ADP'), ('dann', 'ADV'), ('.', 'PUNCT')], [('Einer', 'DET'), ('der', 'DET'), ('beiden', 'NOUN'), ('Männer', 'NOUN'), ('rief', 'VERB'), ('daraufhin', 'ADV'), ('die', 'DET'), ('Polizei', 'NOUN'), ('.', 'PUNCT')], [('und', 'CCONJ'), ('äh', 'INTJ'), ('dabei', 'ADV'), ('wurde', 'AUX'), ('auch', 'ADV'), ('niemand', 'PRON'), ('verletzt', 'VERB')], [('die', 'PRON'), ('haben', 'AUX'), ('aber', 'ADV'), ('gleich', 'ADV'), ('die', 'DET'), ('Polizei', 'NOUN'), ('gerufen', 'VERB'), ('.', 'PUNCT')], [('meine', 'DET'), ('Handynummer', 'NOUN'), ('lautet', 'VERB'), ('{', 'PUNCT'), ('phone', 'PROPN'), ('number', 'PROPN'), ('}', 'PUNCT'), ('.', 'PUNCT')], [('also', 'CCONJ'), ('du', 'PRON'), ('hast', 'AUX'), ('etwas', 'PRON'), ('verpasst', 'VERB')], [('Das', 'DET'), ('hintere', 'ADJ'), ('ist', 'AUX'), ('dann', 'ADV'), ('in', 'ADP'), ('das', 'DET'), ('vordere', 'ADJ'), ('hineingefahren', 'VERB')], [('und', 'CCONJ'), ('rufe', 'VERB'), ('Sie', 'PRON'), ('an', 'ADV')], [('aber', 'CCONJ'), ('echt', 'ADV'), ('schon', 'ADV'), ('äh', 'INTJ'), ('äh', 'INTJ'), ('eine', 'DET'), ('krasse', 'ADJ'), ('Sache', 'NOUN')], [('und', 'CCONJ'), ('die', 'PRON'), ('haben', 'AUX'), ('danach', 'ADV'), ('die', 'DET'), ('Polizei', 'NOUN'), ('gerufen', 'VERB')], [('Aber', 'CCONJ'), ('keiner', 'PRON'), ('ist', 'AUX'), ('zum', 'ADP'), ('Glück', 'PROPN'), ('verletzt', 'ADJ'), ('.', 'PUNCT')], [('damit', 'ADV'), ('waren', 'AUX'), ('die', 'DET'), ('Geschehnisse', 'NOUN'), ('auch', 'ADV'), ('schon', 'ADV'), ('Geschichte', 'NOUN')], [('mal', 'ADV'), ('gucken', 'VERB')], [('woraufhin', 'ADV'), ('sie', 'PRON'), ('dann', 'ADV'), ('auch', 'ADV'), ('sofort', 'ADV'), ('die', 'DET'), ('Polizei', 'NOUN'), ('verständigten', 'VERB')], [('und', 'CCONJ'), ('danach', 'ADV'), ('hat', 'AUX'), ('er', 'PRON'), ('nochmal', 'ADV'), ('nachgeschaut', 'VERB'), ('wie', 'ADV'), ('es', 'PRON'), ('bei', 'ADP'), ('den', 'DET'), ('beiden', 'NOUN'), ('halt', 'ADV'), ('aussah', 'VERB'), ('die', 'PRON'), ('halt', 'ADV'), ('zusammen', 'ADV'), ('ein', 'DET'), ('Unfall', 'NOUN'), ('gebaut', 'VERB'), ('haben', 'AUX')], [('Die', 'DET'), ('Frau', 'NOUN'), ('mit', 'ADP'), ('dem', 'DET'), ('Kinderwagen', 'NOUN'), ('stand', 'VERB'), ('die', 'DET'), ('ganze', 'ADJ'), ('Zeit', 'NOUN'), ('über', 'NOUN'), ('auf', 'ADP'), ('der', 'DET'), ('linken', 'ADJ'), ('Straßenseite', 'NOUN'), ('.', 'PUNCT')], [('und', 'CCONJ'), ('das', 'DET'), ('hintere', 'ADJ'), ('Auto', 'NOUN'), ('ist', 'AUX'), ('dem', 'DET'), ('vorderem', 'ADJ'), ('reingefahren', 'VERB')], [('und', 'CCONJ'), ('deswegen', 'ADV'), ('musste', 'AUX'), ('ich', 'PRON'), ('danach', 'ADV'), ('auch', 'ADV'), ('zur', 'ADP'), ('Polizei', 'NOUN'), ('und', 'CCONJ'), ('denen', 'PRON'), ('das', 'PRON'), ('auch', 'ADV'), ('weitererzählen', 'VERB')], [('genau', 'CCONJ')], [('Daraufhin', 'ADV'), ('ruft', 'VERB'), ('der', 'DET'), ('eine', 'NOUN'), ('die', 'DET'), ('Nummer', 'NOUN'), ('110', 'PRON')], [('In', 'ADP'), ('diesem', 'DET'), ('Moment', 'NOUN'), ('geschah', 'VERB'), ('der', 'DET'), ('Unfall', 'NOUN'), (',', 'PUNCT'), ('als', 'CCONJ'), ('der', 'DET'), ('Mann', 'NOUN'), ('im', 'ADP'), ('blauen', 'ADJ'), ('Auto', 'NOUN'), ('auf', 'ADP'), ('die', 'DET'), ('Vollbremse', 'NOUN'), ('trat', 'VERB'), ('.', 'PUNCT')], [('Am', 'ADP'), ('Ende', 'NOUN'), ('rufen', 'VERB'), ('sie', 'PRON'), ('die', 'DET'), ('Notrufnummer', 'NOUN'), ('an', 'ADV'), ('.', 'PUNCT')], [('das', 'DET'), ('Auto', 'NOUN'), ('hinter', 'ADP'), ('ihm', 'PRON'), ('ist', 'AUX'), ('voll', 'ADV'), ('in', 'ADP'), ('sein', 'DET'), ('Auto', 'NOUN'), ('reingefahren', 'VERB'), ('.', 'PUNCT')], [('Mit', 'ADP'), ('freundlichen', 'ADJ'), ('Grüßen', 'NOUN'), (',', 'PUNCT'), ('DEbi55MR', 'PROPN')], [('wollte', 'AUX'), ('ich', 'PRON'), ('euch', 'PRON'), ('nur', 'ADV'), ('mal', 'ADV'), ('kurz', 'ADJ'), ('erzählen', 'VERB')], [('voll', 'ADV'), ('krass', 'ADJ')], [('und', 'CCONJ'), ('ja', 'INTJ'), ('das', 'PRON'), ('war', 'AUX'), ('schon', 'ADV'), ('krass', 'ADJ'), ('ja', 'INTJ')], [('aber', 'CCONJ'), ('jo', 'INTJ'), ('äh', 'VERB'), ('bist', 'AUX'), ('heute', 'ADV'), ('Abend', 'NOUN'), ('dabei', 'ADV')], [('äh', 'INTJ'), ('ich', 'PRON'), ('hoffe', 'VERB'), ('bei', 'ADP'), ('dir', 'PRON'), ('ist', 'AUX'), ('alles', 'PRON'), ('okay', 'ADJ')], [('und', 'CCONJ'), ('der', 'DET'), ('Mann', 'NOUN'), ('der', 'PRON'), ('den', 'DET'), ('Ball', 'NOUN'), ('fallen', 'VERB'), ('ließ', 'VERB'), ('ging', 'VERB'), ('zur', 'ADP'), ('Frau', 'NOUN'), ('deren', 'PRON'), ('Einkaufstüten', 'NOUN'), ('vom', 'ADP'), ('Schreck', 'NOUN'), ('aus', 'ADP'), ('den', 'DET'), ('Händen', 'NOUN'), ('gefallen', 'VERB'), ('waren', 'AUX')], [('Durch', 'ADP'), ('diese', 'DET'), ('Bremsung', 'NOUN'), ('folgte', 'VERB'), ('ein', 'DET'), ('Auffahrunfall', 'NOUN'), ('.', 'PUNCT')], [('😂', 'SYM')], [('und', 'CCONJ'), ('halt', 'ADV'), ('ja', 'INTJ'), ('was', 'PRON'), ('machst', 'VERB'), ('du', 'PRON'), ('denn', 'ADV'), ('noch', 'ADV'), ('so', 'ADV')], [('äh', 'INTJ'), ('aber', 'CCONJ'), ('ich', 'PRON'), ('wollte', 'AUX'), ('nur', 'ADV'), ('äh', 'INTJ'), ('etwas', 'PRON'), ('sagen', 'VERB'), ('weil', 'CCONJ'), ('ich', 'PRON'), ('das', 'PRON'), ('beobachtet', 'VERB'), ('hat', 'AUX'), ('habe', 'AUX')], [('Die', 'DET'), ('Autofahrer', 'NOUN'), ('stiegen', 'VERB'), ('aus', 'ADV'), ('und', 'CCONJ'), ('alamierten', 'VERB'), ('die', 'DET'), ('Polizei', 'NOUN'), ('.', 'PUNCT')], [('und', 'CCONJ'), ('so', 'ADV'), ('kam', 'VERB'), ('es', 'PRON'), ('zum', 'ADP'), ('Unfall', 'NOUN')], [('und', 'CCONJ'), ('das', 'DET'), ('hintere', 'ADJ'), ('Auto', 'NOUN'), ('ist', 'AUX'), ('in', 'ADP'), ('das', 'DET'), ('Vordere', 'NOUN'), ('reingefahren', 'VERB')], [('Später', 'ADV'), ('haben', 'AUX'), ('die', 'DET'), ('Männer', 'NOUN'), ('die', 'DET'), ('Polizei', 'NOUN'), ('gerufen', 'VERB'), ('.', 'PUNCT')], [('bis', 'ADP'), ('dann', 'ADV'), ('tschau', 'INTJ')], [('😶', 'SYM')], [('ich', 'PRON'), ('weiß', 'VERB'), ('nicht', 'INTJ'), ('ob', 'CCONJ'), ('ich', 'PRON'), ('Ihnen', 'PRON'), ('jetzt', 'ADV'), ('behilflich', 'ADJ'), ('sein', 'AUX'), ('konnte', 'AUX')], [('und', 'CCONJ'), ('ein', 'DET'), ('Auto', 'NOUN'), ('hinter', 'ADP'), ('es', 'PRON'), ('had', 'X'), ('gegen', 'ADP'), ('das', 'DET'), ('Auto', 'NOUN'), ('geknallt', 'VERB'), ('.', 'PUNCT')], [('keiner', 'PRON'), ('ist', 'AUX'), ('zu', 'ADP'), ('Schaden', 'NOUN'), ('gekommen', 'VERB'), ('außer', 'ADP'), ('eventuell', 'ADV'), ('das', 'DET'), ('erste', 'ADJ'), ('Fahrzeug', 'NOUN')], [('und', 'CCONJ'), ('der', 'DET'), ('Mann', 'NOUN'), ('der', 'PRON'), ('im', 'ADP'), ('vorderen', 'ADJ'), ('Auto', 'NOUN'), ('war', 'AUX'), ('hat', 'AUX'), ('die', 'DET'), ('Polizei', 'NOUN'), ('angerufen', 'VERB')], [('Der', 'DET'), ('Fahrer', 'NOUN'), ('des', 'DET'), ('ersten', 'ADJ'), ('Fahrzeugs', 'NOUN'), ('rief', 'VERB'), ('die', 'DET'), ('Polizei', 'NOUN'), ('.', 'PUNCT')], [('das', 'PRON'), ('war', 'AUX'), ('es', 'PRON')], [('bis', 'ADP'), ('später', 'ADJ')], [('toll', 'ADJ'), ('ne', 'PART')], [('😝', 'SYM')], [('und', 'CCONJ'), ('das', 'DET'), ('hintere', 'ADJ'), ('Auto', 'NOUN'), ('fuhr', 'VERB'), ('gegen', 'ADP'), ('das', 'DET'), ('vordere', 'ADJ'), ('Auto', 'NOUN'), ('.', 'PUNCT')], [('und', 'CCONJ'), ('Wiederhören', 'NOUN')], [('aber', 'CCONJ'), ('alles', 'PRON'), ('in', 'ADP'), ('allem', 'PRON'), ('war', 'AUX'), ('es', 'PRON'), ('danach', 'ADV'), ('zu', 'ADP'), ('Ende', 'NOUN')], [('Aber', 'CCONJ'), ('weil', 'CCONJ'), ('alles', 'PRON'), ('plötzlich', 'ADJ'), ('geschieh', 'VERB'), (',', 'PUNCT'), ('konnte', 'AUX'), ('leider', 'ADV'), ('keiner', 'PRON'), ('passend', 'ADJ'), ('reagieren', 'VERB'), ('.', 'PUNCT')], [('und', 'CCONJ'), ('riefen', 'VERB'), ('die', 'DET'), ('Polizei', 'NOUN'), ('.', 'PUNCT')], [('Dann', 'ADV'), ('rief', 'VERB'), ('einer', 'PRON'), ('der', 'DET'), ('beiden', 'PRON'), ('Beschädigten', 'NOUN'), ('die', 'DET'), ('Polizei', 'NOUN'), ('an', 'ADV'), ('.', 'PUNCT')], [('wiederhören', 'INTJ')], [('Der', 'DET'), ('Fahrer', 'NOUN'), ('des', 'DET'), ('blauen', 'ADJ'), ('Autos', 'NOUN'), ('alamierte', 'VERB'), ('Sie', 'PRON'), ('darauf', 'ADV'), ('hin', 'ADV'), ('.', 'PUNCT')], [('und', 'CCONJ'), ('wir', 'PRON'), ('standen', 'VERB'), ('dabei', 'ADV')], [('um', 'ADP'), ('den', 'DET'), ('Sachschaden', 'NOUN'), ('zu', 'PART'), ('zeigen', 'VERB'), ('.', 'PUNCT')], [('und', 'CCONJ'), ('durch', 'ADP'), ('den', 'DET'), ('Hund', 'NOUN'), ('und', 'CCONJ'), ('den', 'DET'), ('Ball', 'NOUN'), ('wurden', 'AUX'), ('das', 'PRON'), ('halt', 'ADV'), ('wurde', 'AUX'), ('das', 'PRON'), ('halt', 'ADV'), ('verhindert', 'VERB'), ('sodass', 'CCONJ'), ('der', 'DET'), ('erste', 'ADJ'), ('Wagen', 'NOUN'), ('bremsen', 'VERB'), ('musste', 'AUX'), ('sodass', 'CCONJ'), ('der', 'DET'), ('zweite', 'ADJ'), ('Wagen', 'NOUN'), ('auch', 'ADV'), ('bremsen', 'VERB'), ('musste', 'AUX'), ('und', 'CCONJ'), ('es', 'PRON'), ('wie', 'ADV'), ('sie', 'PRON'), ('bereits', 'ADV'), ('wissen', 'VERB'), ('zu', 'ADP'), ('einem', 'DET'), ('Unfall', 'NOUN'), ('kam', 'VERB')], [('ein', 'DET'), ('schönen', 'ADJ'), ('tag', 'ADJ'), ('noch', 'ADV')], [('und', 'CCONJ'), ('die', 'DET'), ('zwei', 'NUM'), ('PKW-Führer', 'NOUN'), ('haben', 'AUX'), ('die', 'DET'), ('Polizei', 'NOUN'), ('angerufen', 'VERB'), ('.', 'PUNCT')], [('und', 'CCONJ'), ('der', 'DET'), ('andere', 'PRON'), ('Auto', 'NOUN'), ('hatte', 'AUX'), ('in', 'ADP'), ('ihn', 'PRON'), ('gefahren', 'VERB')], [('Zum', 'ADP'), ('Unfall', 'NOUN'), ('kam', 'VERB'), ('es', 'PRON'), ('wegen', 'ADP'), ('unzureichenden', 'ADJ'), ('Abstand', 'NOUN'), (',', 'PUNCT'), ('welches', 'ADV'), ('das', 'DET'), ('hintere', 'ADJ'), ('gegenüber', 'ADP'), ('dem', 'DET'), ('vorderen', 'ADJ'), ('PKW', 'NOUN'), ('gehalten', 'VERB'), ('hat', 'AUX'), ('.', 'PUNCT')], [('Auto', 'NOUN'), ('fährt', 'VERB'), ('auf', 'ADV')], [('und', 'CCONJ'), ('der', 'DET'), ('hintere', 'ADJ'), ('Auto', 'NOUN'), ('ist', 'AUX'), ('ins', 'ADP'), ('Auto', 'NOUN'), ('eins', 'NUM'), ('Auto', 'NOUN'), ('reingefahren', 'VERB'), ('.', 'PUNCT')], [('dann', 'ADV'), ('ist', 'AUX'), ('das', 'DET'), ('zweite', 'ADJ'), ('Auto', 'NOUN'), ('auf', 'ADP'), ('ihn', 'PRON'), ('aufgefahren', 'VERB')], [('äh', 'INTJ'), ('der', 'DET'), ('Mann', 'NOUN'), ('der', 'PRON'), ('zuvor', 'ADV'), ('den', 'DET'), ('Ball', 'NOUN'), ('verloren', 'VERB'), ('hatte', 'AUX'), ('half', 'VERB'), ('der', 'DET'), ('Frau', 'NOUN'), ('mit', 'ADP'), ('dem', 'DET'), ('Hund', 'NOUN'), ('die', 'PRON'), ('äh', 'INTJ'), ('die', 'DET'), ('Einkäufe', 'NOUN'), ('wieder', 'ADV'), ('aufn', 'ADP'), ('Boden', 'NOUN'), ('aufzusammeln', 'VERB')], [('aber', 'CCONJ'), ('es', 'PRON'), ('ist', 'AUX'), ('schon', 'ADV'), ('dumm', 'ADJ'), ('was', 'PRON'), ('so', 'ADV'), ('passieren', 'VERB'), ('kann', 'AUX'), ('hintereinanderweg', 'ADV')], [('genau', 'INTJ')], [('und', 'CCONJ'), ('aus', 'ADP'), ('dem', 'DET'), ('Grund', 'NOUN'), ('wollte', 'AUX'), ('ich', 'PRON'), ('das', 'PRON'), ('jetzt', 'ADV'), ('melden', 'VERB')], [('und', 'CCONJ'), ('dann', 'ADV'), ('haben', 'AUX'), ('sie', 'PRON'), ('die', 'DET'), ('Polizei', 'NOUN'), ('angerufen', 'VERB')], [('Einer', 'DET'), ('der', 'DET'), ('beiden', 'PRON'), ('Fahrer', 'NOUN'), ('hat', 'AUX'), ('dann', 'ADV'), ('die', 'DET'), ('Polizei', 'NOUN'), ('gerufen', 'VERB'), ('.', 'PUNCT')], [('ich', 'PRON'), ('denke', 'VERB'), ('da', 'ADV'), ('war', 'AUX'), ('alles', 'PRON'), ('in', 'ADP'), ('Ordnung', 'NOUN')], [('und', 'CCONJ'), ('der', 'DET'), ('Mann', 'NOUN'), ('der', 'PRON'), ('äh', 'INTJ'), ('gegen', 'ADP'), ('das', 'DET'), ('Auto', 'NOUN'), ('gefahren', 'VERB'), ('ist', 'AUX'), ('äh', 'INTJ'), ('hat', 'AUX'), ('die', 'DET'), ('eins', 'NUM'), ('eins', 'NUM'), ('null', 'NUM'), ('angerufen', 'VERB')], [('und', 'CCONJ'), ('gucken', 'VERB'), ('wie', 'CCONJ'), ('die', 'PRON'), ('mit', 'ADP'), ('der', 'DET'), ('Situation', 'NOUN'), ('umgehen.', 'VERB'), ('.', 'PUNCT')], [('und', 'CCONJ'), ('ja', 'INTJ'), ('ist', 'AUX'), ('ins', 'ADP'), ('blaue', 'ADJ'), ('reingekracht', 'VERB')], [('ich', 'PRON'), ('äh', 'INTJ'), ('bin', 'AUX'), ('dann', 'ADV'), ('vom', 'ADP'), ('Parkplatz', 'NOUN'), ('weggerannt', 'VERB'), ('weil', 'CCONJ'), ('kein', 'DET'), ('Bock', 'NOUN'), ('der', 'DET'), ('Polizei', 'NOUN'), ('irgendwas', 'PRON'), ('zu', 'PART'), ('erzählen', 'VERB')], [('und', 'CCONJ'), ('somit', 'ADV'), ('haben', 'AUX'), ('die', 'PRON'), ('sich', 'PRON'), ('halt', 'ADV'), ('gestoßen', 'VERB')], [('...', 'PROPN')], [('👯\\u200d♀', 'SYM')], [('und', 'CCONJ'), ('die', 'DET'), ('Polizei', 'NOUN'), ('wurde', 'AUX'), ('gerufen', 'VERB'), ('.', 'PUNCT')], [('und', 'CCONJ'), ('tschüss', 'VERB')], [('und', 'CCONJ'), ('der', 'DET'), ('Mann', 'NOUN'), ('hat', 'AUX'), ('dann', 'ADV'), ('auch', 'ADV'), ('die', 'DET'), ('Polizei', 'NOUN'), ('angerufen', 'VERB')], [('und', 'CCONJ'), ('danach', 'ADV'), ('aus', 'ADP'), ('sie', 'PRON'), ('kontaktiert', 'VERB'), ('haben', 'AUX')], [('und', 'CCONJ'), ('fuhr', 'VERB'), ('ins', 'ADP'), ('erste', 'ADJ'), ('Auto', 'NOUN'), ('hinten', 'ADV'), ('rein', 'ADV')], [('schön', 'ADJ'), ('Tag', 'NOUN'), ('noch', 'ADV')], [('und', 'CCONJ'), ('jemand', 'PRON'), ('hat', 'AUX'), ('die', 'DET'), ('Polizei', 'NOUN'), ('angerufen', 'VERB'), ('.', 'PUNCT')], [('😂', 'SYM')], [('dawai', 'X'), ('hau', 'VERB'), ('rein', 'ADV')], [('ich', 'PRON'), ('warte', 'VERB'), ('bis', 'ADP'), ('die', 'DET'), ('Polizei', 'NOUN'), ('kommt', 'VERB'), ('.', 'PUNCT')], [('es', '_'), ('hat', '_'), ('mir', '_'), ('nur', '_'), ('ein', '_'), ('bisschen', '_'), ('erschrocken', '_')], [('Der', 'DET'), ('Auffahrunfall', 'NOUN'), ('war', 'AUX'), ('wegen', 'ADP'), ('der', 'DET'), ('geringen', 'ADJ'), ('Geschwindigkeit', 'NOUN'), ('auf', 'ADP'), ('dem', 'DET'), ('Parkplatz', 'NOUN'), ('nicht', 'INTJ'), ('sehr', 'ADV'), ('schlimm', 'ADJ'), (',', 'PUNCT'), ('aber', 'CCONJ'), ('trotzdem', 'ADV'), ('kann', 'AUX'), ('es', 'PRON'), ('sein', 'AUX'), (',', 'PUNCT'), ('dass', 'CCONJ'), ('an', 'ADP'), ('beiden', 'PRON'), ('Autos', 'NOUN'), ('ein', 'DET'), ('Schaden', 'NOUN'), ('entstanden', 'VERB'), ('ist', 'AUX'), ('.', 'PUNCT')], [('Der', 'DET'), ('Junge', 'NOUN'), ('hat', 'AUX'), ('der', 'DET'), ('Frau', 'NOUN'), ('mit', 'ADP'), ('dem', 'DET'), ('Hund', 'NOUN'), ('geholfen', 'VERB'), ('die', 'DET'), ('gefallenen', 'ADJ'), ('Sachen', 'NOUN'), ('zu', 'PART'), ('packen', 'VERB'), ('und', 'CCONJ'), ('der', 'DET'), ('Autofahrer', 'NOUN'), ('hat', 'AUX'), ('die', 'DET'), ('Polizei', 'NOUN'), ('angerufen', 'VERB'), ('.', 'PUNCT')], [('und', 'CCONJ'), ('ja', 'INTJ'), ('das', 'PRON'), ('war', 'AUX'), ('es', 'PRON')], [('und', 'CCONJ'), ('die', 'DET'), ('Polizei', 'NOUN'), ('wurde', 'AUX'), ('vom', 'ADP'), ('Fahrzeughalter', 'NOUN'), ('des', 'DET'), ('ersten', 'ADJ'), ('Wagens', 'NOUN'), ('benachrichtigt', 'VERB'), ('.', 'PUNCT')], [('und', 'CCONJ'), ('hat', 'AUX'), ('gegen', 'ADP'), ('den', 'DET'), ('blauen', 'ADJ'), ('Auto', 'NOUN'), ('geknallt', 'VERB')], [('DEbi01MR', 'NE'), ('.', '$.')], [('meine', 'DET'), ('Aussage', 'NOUN')], [('Mit', 'ADP'), ('freundlichen', 'ADJ'), ('Grüße', 'NOUN'), ('DEbi11FG', 'PROPN')], [('bis', 'ADP'), ('dahin', 'ADV'), ('tschüss', 'INTJ')], [('und', 'CCONJ'), ('das', 'PRON'), ('war', 'AUX'), ('dann', 'ADV'), ('auch', 'ADV'), ('alles', 'PRON'), ('was', 'CCONJ'), ('ich', 'PRON'), ('mitbekommen', 'VERB'), ('habe', 'AUX')], [('danach', 'ADV'), ('ruften', 'VERB'), ('die', 'DET'), ('Polizei', 'NOUN'), ('.', 'PUNCT')], [('Zeuge', 'NOUN'), (':', 'PUNCT'), ('DEbi72MR', 'PROPN')], [('nicht', 'INTJ'), ('wie', 'SCONJ'), ('sie', 'PRON')], [('und', 'CCONJ'), ('dann', 'ADV'), ('bin', 'AUX'), ('ich', 'PRON'), ('weggegangen', 'VERB')], [('und', 'CCONJ'), ('der', 'DET'), ('zweite', 'ADJ'), ('in', 'ADP'), ('ihn', 'PRON'), ('hineinfuhr', 'VERB')], [('Glaube', 'VERB'), ('die', 'PRON'), ('haben', 'AUX'), ('auch', 'ADV'), ('schon', 'ADV'), ('die', 'DET'), ('Polizei', 'NOUN'), ('gerufen', 'VERB'), ('.', 'PUNCT')], [('und', 'CCONJ'), ('hat', 'AUX'), ('es', 'PRON'), ('somit', 'ADV'), ('beschädigt', 'VERB'), ('.', 'PUNCT')], [(':-)', 'SYM')], [('und', 'CCONJ'), ('dann', 'ADV'), ('haben', 'AUX'), ('die', 'PRON'), ('einfach', 'ADV'), ('die', 'DET'), ('Polizei', 'NOUN'), ('gerufen', 'VERB')], [('richtig', 'ADV'), ('dumm', 'ADJ'), ('von', 'ADP'), ('dem', 'DET'), ('Mann', 'NOUN')], [('DEbi01MG', 'PROPN')], [('und', 'CCONJ'), ('ein', 'DET'), ('Autofahrer', 'NOUN'), ('alarmierte', 'VERB'), ('dann', 'ADV'), ('die', 'DET'), ('Polizei', 'NOUN')], [('danach', 'ADV'), ('kam', 'VERB'), ('die', 'DET'), ('Polizei', 'NOUN')], [('und', 'CCONJ'), ('sie', 'PRON'), ('unterhielten', 'VERB'), ('sich', 'PRON'), ('.', 'PUNCT')], [('und', 'CCONJ'), ('der', 'DET'), ('Mann', 'NOUN'), ('mit', 'ADP'), ('der', 'DET'), ('Cap', 'NOUN'), ('der', 'PRON'), ('hat', 'AUX'), ('der', 'DET'), ('Frau', 'NOUN'), ('geholfen', 'VERB'), ('ihre', 'DET'), ('Einkaufstaschen', 'NOUN'), ('wieder', 'ADV'), ('aufzuheben', 'VERB')], [('der', 'DET'), ('eine', 'DET'), ('Mann', 'NOUN'), ('ruft', 'VERB'), ('die', 'DET'), ('eins', 'NUM'), ('eins', 'NUM'), ('die', 'DET'), ('Nummer', 'NOUN'), ('eins', 'NUM'), ('eins', 'NUM'), ('null', 'NUM')], [('sehr', 'ADV'), ('schade', 'ADJ'), ('aber', 'CCONJ'), ('zum', 'ADP'), ('Glück', 'NOUN'), ('ist', 'AUX'), ('dem', 'DET'), ('Hund', 'NOUN'), ('nichts', 'PRON'), ('passiert', 'VERB')], [('und', '_'), ('äh', '_'), ('die', '_'), ('rufen', '_'), ('jetzt', '_'), ('die', '_'), ('Polizei', '_'), ('an', '_')], [('mal', 'ADV'), ('sehen', 'VERB'), ('wer', 'PRON'), ('Schuld', 'NOUN'), ('war', 'AUX')], [('aber', 'CCONJ'), ('so', 'ADV'), ('viel', 'PRON'), ('ist', 'AUX'), ('dann', 'ADV'), ('auch', 'ADV'), ('nicht', 'INTJ'), ('passiert', 'VERB')], [('Mit', 'ADP'), ('freundlichen', 'ADJ'), ('Grüßen', 'NOUN'), (',', 'PUNCT')], [('und', 'CCONJ'), ('dann', 'ADV'), ('haben', 'AUX'), ('wir', 'PRON'), ('halt', 'ADV'), ('die', 'DET'), ('Polizei', 'NOUN'), ('gerufen', 'VERB')], [('Keine', 'DET'), ('Verletzten', 'NOUN'), ('nur', 'ADV'), ('der', 'DET'), ('Autounfall', 'NOUN'), ('.', 'PUNCT')], [('und', 'CCONJ'), ('es', 'PRON'), ('kam', 'VERB'), ('zum', 'ADP'), ('Unfall', 'NOUN'), ('.', 'PUNCT')], [('DEbi24FR', 'PROPN')], [('yani', 'X'), ('keine', 'DET'), ('Ahnung', 'NOUN')], [('und', 'CCONJ'), ('riefen', 'VERB'), ('anschließend', 'ADV'), ('die', 'DET'), ('Polizei', 'NOUN')], [('Dennoch', 'ADJ'), ('waren', 'AUX'), ('alle', 'DET'), ('Beteiligten', 'NOUN'), ('sichtlich', 'ADJ'), ('geschockt', 'ADJ'), ('von', 'ADP'), ('der', 'DET'), ('Situation', 'NOUN'), ('.', 'PUNCT')], [('ja', 'INTJ'), ('so', 'ADV'), ('ist', 'AUX'), ('das', 'DET'), ('Unfall', 'NOUN'), ('passiert', 'VERB')], [('Es', 'PRON'), ('sieht', 'VERB'), ('so', 'ADV'), ('aus', 'ADV'), ('dass', 'CCONJ'), ('keiner', 'PRON'), ('verletzt', 'ADJ'), ('wurde', 'AUX'), ('.', 'PUNCT')], [('😂', 'SYM')], [('äh', 'INTJ'), ('genau', 'INTJ'), ('auf', 'ADP'), ('Wiederhören', 'NOUN')], [('Mit', 'ADP'), ('freundlichen', 'ADJ'), ('Grüßen', 'NOUN'), ('Debi08FR', 'PROPN')], [('und', 'CCONJ'), ('zwar', 'ADV'), ('haben', 'AUX'), ('sich', 'PRON'), ('zwei', 'NUM'), ('Autos', 'NOUN'), ('gestoßen', 'VERB'), ('weil', 'CCONJ'), ('ein', 'DET'), ('Mann', 'NOUN'), ('sein', 'DET'), ('Ball', 'NOUN'), ('fallen', 'VERB'), ('gelassen', 'VERB'), ('hat', 'AUX'), ('und', 'CCONJ'), ('irgendein', 'DET'), ('Hund', 'NOUN'), ('gebellt', 'VERB'), ('hat', 'AUX')], [('Einer', 'DET'), ('der', 'DET'), ('Autofahrer', 'NOUN'), ('nutzte', 'VERB'), ('sein', 'DET'), ('Handy', 'NOUN'), (',', 'PUNCT'), ('um', 'ADP'), ('die', 'DET'), ('Polizei', 'NOUN'), ('zu', 'PART'), ('verständigen', 'VERB'), ('.', 'PUNCT')], [('und', 'CCONJ'), ('weil', 'CCONJ'), ('es', 'PRON'), ('halt', 'ADV'), ('gebremst', 'VERB'), ('hat', 'AUX'), ('ist', 'AUX'), ('ein', 'DET'), ('weißes', 'ADJ'), ('Auto', 'NOUN'), ('ins', 'ADP'), ('blaue', 'ADJ'), ('reingefahren', 'VERB')], [('oh', 'INTJ')], [('tschüss', 'VERB')], [('ja', 'ADV'), ('so', 'ADV')], [('Der', 'DET'), ('Autofahrer', 'NOUN'), ('rief', 'VERB'), ('die', 'DET'), ('Polizei', 'NOUN'), ('danach', 'ADV'), ('direkt', 'ADV'), ('an', 'ADV'), ('.', 'PUNCT')], [('Wir', 'NOUN'), ('sehen', 'VERB'), ('uns', 'PRON'), ('ja', 'ADV'), ('wahrscheinlich', 'ADV'), ('morgen', 'ADV')], [('sie', 'PRON'), ('hatte', 'AUX'), ('einige', 'DET'), ('Sachen', 'NOUN'), ('fallen', 'VERB'), ('lassen', 'VERB')], [('und', 'CCONJ'), ('der', 'DET'), ('Junge', 'INTJ'), ('mit', 'ADP'), ('dem', 'DET'), ('Ball', 'NOUN'), ('hat', 'AUX'), ('der', 'DET'), ('Frau', 'NOUN'), ('aber', 'CCONJ'), ('noch', 'ADV'), ('geholfen', 'VERB'), ('die', 'DET'), ('Sachen', 'NOUN'), ('aufzuräumen', 'VERB')], [('und', 'CCONJ'), ('das', 'DET'), ('Auto', 'NOUN'), ('das', 'PRON'), ('gerade', 'ADV'), ('auf', 'ADP'), ('den', 'DET'), ('Parkplatz', 'NOUN'), ('fährt', 'VERB'), ('muss', 'AUX'), ('so', 'ADV'), ('mies', 'ADJ'), ('wegen', 'ADP'), ('dem', 'DET'), ('Köter', 'NOUN'), ('bremsen', 'VERB'), ('dass', 'CCONJ'), ('das', 'DET'), ('hintere', 'ADJ'), ('Auto', 'NOUN'), ('voll', 'ADJ'), ('drauffährt', 'VERB'), ('.', 'PUNCT')], [('ja', 'INTJ')], [('😂', 'PROPN')], [('aber', 'ADV'), ('es', 'PRON'), ('kam', 'VERB'), ('trotzdem', 'ADV'), ('zu', 'ADP'), ('einem', 'DET'), ('Autounfall', 'NOUN'), (',', 'PUNCT'), ('da', 'ADV'), ('zwei', 'NUM'), ('sich', 'PRON'), ('nähernde', 'ADJ'), ('Autos', 'NOUN'), ('bremsen', 'VERB'), ('mussten', 'AUX'), ('und', 'CCONJ'), ('der', 'DET'), ('hintere', 'ADJ'), ('Wagen', 'NOUN'), ('leicht', 'ADJ'), ('auf', 'ADP'), ('den', 'DET'), ('vorderen', 'ADJ'), ('gekommen', 'VERB'), ('ist', 'AUX')], [('aber', 'CCONJ'), ('alle', 'DET'), ('Leute', 'NOUN'), ('bist', 'AUX'), ('mal', 'ADV'), ('okay', 'ADJ')], [('tschüssi', 'INTJ')], [('tschüss', 'INTJ')], [('und', 'CCONJ'), ('ist', 'AUX'), ('wahrscheinlich', 'ADV'), ('auch', 'ADV'), ('jetzt', 'ADV'), ('am', 'ADP'), ('Unfall', 'NOUN'), ('schuld', 'ADJ'), ('obwohl', 'CCONJ'), ('es', 'PRON'), ('keinen', 'DET'), ('Unfall', 'NOUN'), ('gegeben', 'VERB'), ('hätte', 'AUX'), ('wenn', 'CCONJ'), ('der', 'DET'), ('Mann', 'NOUN'), ('mit', 'ADP'), ('dem', 'DET'), ('Ball', 'NOUN'), ('nicht', 'INTJ'), ('gespielt', 'VERB'), ('hätte', 'AUX')], [('und', 'CCONJ'), ('der', 'DET'), ('zweite', 'ADJ'), ('Auto', 'NOUN'), ('hinter', 'ADP'), ('ihm', 'PRON'), ('äh', 'VERB'), ('ist', 'AUX'), ('in', 'ADP'), ('den', 'DET'), ('ersten', 'ADJ'), ('Auto', 'NOUN'), ('reingefahren', 'VERB')], [('DEbi53FR', 'PROPN')], [('und', 'CCONJ'), ('ja', 'INTJ'), ('also', 'CCONJ'), ('das', 'PRON'), ('habe', 'AUX'), ('ich', 'PRON'), ('gesehen', 'VERB')], [('aber', 'CCONJ'), ('würde', 'AUX'), ('voll', 'ADV'), ('zu', 'ADP'), ('dir', 'PRON'), ('passen', 'VERB'), ('!', 'PUNCT')], [('sowas', 'PRON'), ('siehst', 'VERB'), ('du', 'PRON'), ('auch', 'ADV'), ('nicht', 'INTJ'), ('alle', 'DET'), ('Tage', 'NOUN')], [('dann', 'ADV'), ('bin', 'AUX'), ('ich', 'PRON'), ('gegangen', 'VERB'), ('.', 'PUNCT')], [('dabei', 'ADV'), ('ist', 'AUX'), ('ihm', 'PRON'), ('der', 'DET'), ('hintere', 'ADJ'), ('Wagen', 'NOUN'), ('dann', 'ADV'), ('ins', 'ADP'), ('Auto', 'NOUN'), ('gefahren', 'VERB'), ('.', 'PUNCT')], [('Der', 'DET'), ('Fahrer', 'NOUN'), ('im', 'ADP'), ('vorderen', 'ADJ'), ('Auto', 'NOUN'), ('zog', 'VERB'), ('die', 'DET'), ('Notbremse', 'NOUN'), (',', 'PUNCT'), ('wodurch', 'ADV'), ('dann', 'ADV'), ('der', 'DET'), ('Prall', 'NOUN'), ('zustande', 'ADV'), ('kam', 'VERB'), ('.', 'PUNCT')], [('und', 'CCONJ'), ('die', 'DET'), ('anderen', 'NOUN'), ('haben', 'AUX'), ('die', 'DET'), ('Polizei', 'NOUN'), ('gerufen', 'VERB')], [('ja', 'INTJ'), ('und', 'CCONJ'), ('das', 'PRON'), ('war', 'AUX'), ('ganz', 'ADV'), ('schön', 'ADJ'), ('aufregend', 'ADJ')], [('Das', 'PRON'), ('alles', 'PRON'), ('führte', 'VERB'), ('dazu', 'ADV'), ('dass', 'CCONJ'), (',', 'PUNCT'), ('das', 'DET'), ('blaue', 'ADJ'), ('Auto', 'NOUN'), ('eine', 'DET'), ('Vollbremse', 'NOUN'), ('machte', 'VERB'), ('und', 'CCONJ'), ('somit', 'ADV'), ('das', 'DET'), ('weiße', 'ADJ'), ('Auto', 'NOUN'), ('hinter', 'ADP'), ('ihn', 'PRON'), ('in', 'ADP'), ('das', 'DET'), ('blaue', 'ADJ'), ('Auto', 'NOUN'), ('reinfuhr', 'VERB'), ('.', 'PUNCT')], [('Er', 'PRON'), ('hatte', 'AUX'), ('mit', 'ADP'), ('dem', 'DET'), ('Ball', 'NOUN'), ('gespielt', 'VERB'), ('während', 'CCONJ'), ('er', 'PRON'), ('die', 'DET'), ('Straße', 'NOUN'), ('überquerte', 'VERB'), ('.', 'PUNCT')], [('😐', 'PROPN')], [('Als', 'CCONJ'), ('der', 'DET'), ('Ball', 'NOUN'), ('vor', 'ADP'), ('das', 'DET'), ('erste', 'ADJ'), ('Auto', 'NOUN'), ('rollte', 'VERB'), (',', 'PUNCT'), ('und', 'CCONJ'), ('der', 'DET'), ('Fahrer', 'NOUN'), ('scharf', 'ADJ'), ('bremste', 'VERB'), (',', 'PUNCT'), ('konnte', 'AUX'), ('der', 'DET'), ('zweite', 'ADJ'), ('nicht', 'INTJ'), ('rechtzeitig', 'ADJ'), ('anhalten', 'VERB'), ('und', 'CCONJ'), ('fuhr', 'VERB'), ('ihm', 'PRON'), ('auf', 'ADV'), ('.', 'PUNCT')], [('tschüss', 'INTJ')], [('I', 'X'), ('do', 'X'), ('not', 'X'), ('know', 'X'), ('was', 'PRON'), ('dann', 'ADV'), ('passiert', 'VERB'), ('ist', 'AUX'), ('.', 'PUNCT')], [('Der', 'DET'), ('blaue', 'ADJ'), ('PKW', 'NOUN'), ('machte', 'VERB'), ('eine', 'DET'), ('Vollbremsung', 'NOUN'), (',', 'PUNCT'), ('wodurch', 'ADV'), ('der', 'DET'), ('nachfolgende', 'NOUN'), (',', 'PUNCT'), ('weiße', 'ADJ'), ('PKW', 'NOUN'), ('aufgrund', 'ADP'), ('des', 'DET'), ('geringen', 'ADJ'), ('Abstandes', 'NOUN'), ('auffuhr', 'VERB'), ('.', 'PUNCT')], [('und', 'CCONJ'), ('der', 'PRON'), ('hinter', 'ADP'), ('das', 'DET'), ('hintere', 'ADJ'), ('Auto', 'NOUN'), ('ist', 'AUX'), ('dann', 'ADV'), ('einfach', 'ADV'), ('auf', 'ADP'), ('das', 'PRON'), ('auf', 'ADP'), ('das', 'DET'), ('Auto', 'NOUN'), ('daraufgefahren', 'ADV')], [('und', 'CCONJ'), ('die', 'DET'), ('Polizei', 'NOUN'), ('wurde', 'AUX'), ('auch', 'ADV'), ('schon', 'ADV'), ('äh', 'ADJ'), ('ordnungsgemäß', 'ADJ'), ('verständigt', 'VERB')], [('und', 'CCONJ'), ('haben', 'AUX'), ('dann', 'ADV'), ('die', 'DET'), ('Polizei', 'NOUN'), ('angerufen', 'VERB'), ('.', 'PUNCT')], [('Der', 'DET'), ('Fahrer', 'NOUN'), ('rief', 'VERB'), ('die', 'DET'), ('Polizei', 'NOUN'), ('an', 'ADV'), ('.', 'PUNCT')], [('ja', 'INTJ'), ('vielen', 'ADJ'), ('Dank', 'NOUN'), ('und', 'CCONJ'), ('einen', 'DET'), ('schönen', 'ADJ'), ('Tag', 'NOUN')], [('ja', 'INTJ'), ('und', 'CCONJ'), ('der', 'DET'), ('Mann', 'NOUN'), ('im', 'ADP'), ('blauen', 'ADJ'), ('Auto', 'NOUN'), ('hat', 'AUX'), ('dann', 'ADV'), ('die', 'DET'), ('Polizei', 'NOUN'), ('angerufen', 'VERB')], [('und', 'CCONJ'), ('die', 'DET'), ('Autofahrer', 'NOUN'), ('riefen', 'VERB'), ('die', 'DET'), ('Polizei', 'NOUN'), ('.', 'PUNCT')], [('äh', 'INTJ'), ('so', 'ADV'), ('viel', 'PRON'), ('dazu', 'ADV')], [('und', 'CCONJ'), ('äh', 'INTJ'), ('äh', 'INTJ'), ('sie', 'PRON'), ('rufen', 'VERB'), ('jetzt', 'ADV'), ('grade', 'ADV'), ('die', 'DET'), ('Polizei', 'NOUN'), ('an', 'ADV')], [('und', 'CCONJ'), ('dann', 'ADV'), ('hat', 'AUX'), ('einer', 'PRON'), ('der', 'DET'), ('Fahrer', 'NOUN'), ('ich', 'PRON'), ('glaube', 'VERB'), ('ersterer', 'DET'), ('die', 'DET'), ('Polizei', 'NOUN'), ('gerufen', 'VERB')], [('🙃', 'SYM')], [('und', 'CCONJ'), ('daraufhin', 'ADV'), ('die', 'DET'), ('Polizei', 'NOUN'), ('alarmiert', 'VERB')], [('was', 'PRON'), ('auch', 'ADV'), ('immer', 'ADV')], [('das', 'PRON'), ('war', 'AUX'), ('sehr', 'ADV'), ('interessant', 'ADJ')], [('äh', 'INTJ'), ('versucht', 'VERB'), ('hat', 'AUX'), ('die', 'DET'), ('ganze', 'ADJ'), ('Lage', 'NOUN'), ('etwas', 'ADV'), ('zu', 'PART'), ('beruhigen', 'VERB')], [('und', 'CCONJ'), ('riefen', 'VERB'), ('die', 'DET'), ('Polizei', 'NOUN'), ('.', 'PUNCT')], [('ja', 'INTJ')], [('aber', 'CCONJ'), ('sag', 'VERB'), ('mir', 'PRON'), ('mal', 'ADV'), ('bitte', 'INTJ'), ('Bescheid', 'NOUN'), ('falls', 'CCONJ'), ('wir', 'PRON'), ('einen', 'DET'), ('Brief', 'NOUN'), ('bekommen', 'VERB'), ('oder', 'CCONJ'), ('ich', 'PRON'), ('einen', 'DET'), ('Brief', 'NOUN'), ('bekomme', 'VERB'), ('damit', 'CCONJ'), ('ich', 'PRON'), ('auch', 'ADV'), ('sofort', 'ADV'), ('darauf', 'ADV'), ('reagieren', 'VERB'), ('kann', 'AUX')], [('äh', 'INTJ'), ('und', 'CCONJ'), ('keine', 'DET'), ('Aufruhr', 'NOUN'), ('sage', 'VERB'), ('ich', 'PRON'), ('mal', 'ADV')], [('und', 'CCONJ'), ('der', 'DET'), ('junge', 'ADJ'), ('Mann', 'NOUN'), ('der', 'PRON'), ('der', 'DET'), ('Frau', 'NOUN'), ('geholfen', 'VERB'), ('hatte', 'AUX'), ('die', 'DET'), ('Lebensmittel', 'NOUN'), ('von', 'ADP'), ('der', 'DET'), ('Straße', 'NOUN'), ('wieder', 'ADV'), ('in', 'ADP'), ('die', 'DET'), ('Tüte', 'NOUN'), ('zu', 'PART'), ('packen', 'VERB'), ('rannte', 'VERB'), ('daraufhin', 'ADV'), ('äh', 'INTJ'), ('zu', 'ADP'), ('dem', 'DET'), ('Autounfall', 'NOUN'), ('um', 'ADP'), ('sich', 'PRON'), ('zu', 'PART'), ('erkundigen', 'VERB'), ('ob', 'CCONJ'), ('es', 'PRON'), ('den', 'DET'), ('Personen', 'NOUN'), ('im', 'ADP'), ('Auto', 'NOUN'), ('gut', 'ADJ'), ('ginge', 'VERB'), ('und', 'CCONJ'), ('was', 'PRON'), ('beschädigt', 'VERB'), ('sei', 'AUX')], [('Der', 'DET'), ('Fahrer', 'NOUN'), ('des', 'DET'), ('zweite', 'ADJ'), ('weißen', 'ADJ'), ('Autos', 'NOUN'), ('konnte', 'AUX'), ('nicht', 'INTJ'), ('schnell', 'ADJ'), ('genug', 'ADV'), ('bremsen', 'VERB'), (',', 'PUNCT'), ('sodass', 'CCONJ'), ('es', 'PRON'), ('dem', 'DET'), ('blauen', 'ADJ'), ('Auto', 'NOUN'), ('auffuhr', 'VERB'), ('.', 'PUNCT')], [('Ich', 'PRON'), ('schreibe', 'VERB'), ('dir', 'PRON'), ('später', 'ADV'), ('nochmal', 'ADV')], [('und', 'CCONJ'), ('hat', 'AUX'), ('geguckt', 'VERB'), ('was', 'PRON'), ('geschehen', 'VERB'), ('ist', 'AUX'), ('.', 'PUNCT')], [('also', 'CCONJ'), ('ja', 'ADV'), ('nichts', 'DET'), ('Schlimmes', 'NOUN')], [('Der', 'DET'), ('Autofahrer', 'NOUN'), ('des', 'DET'), ('blauen', 'ADJ'), ('Wagens', 'NOUN'), ('musste', 'AUX'), ('also', 'ADV'), ('wegen', 'ADP'), ('des', 'DET'), ('unerwarteten', 'ADJ'), ('Hundes', 'NOUN'), ('und', 'CCONJ'), ('des', 'DET'), ('Balles', 'NOUN'), ('auf', 'ADP'), ('der', 'DET'), ('Straße', 'NOUN'), ('ganz', 'ADV'), ('abrupt', 'ADJ'), ('halten', 'VERB'), ('.', 'PUNCT')], [('und', 'CCONJ'), ('den', 'DET'), ('Notruf', 'NOUN'), ('gewählt', 'VERB')], [('du', 'PRON'), ('hast', 'AUX'), ('hier', 'ADV'), ('echt', 'ADV'), ('was', 'PRON'), ('verpasst', 'VERB')], [('Aber', 'CCONJ'), ('Gott', 'NOUN'), ('sei', 'AUX'), ('Dank', 'NOUN'), ('ist', 'AUX'), ('nichts', 'DET'), ('Schlimmeres', 'NOUN'), ('passiert', 'VERB'), ('.', 'PUNCT')], [('dem', 'PRON'), ('der', 'DET'), ('Ball', 'NOUN'), ('gehört', 'VERB'), ('ging', 'VERB'), ('da', 'ADV'), ('auch', 'ADV'), ('dahin', 'ADV')], [('und', 'CCONJ'), ('sie', 'PRON'), ('riefen', 'VERB'), ('die', 'DET'), ('Polizei', 'NOUN'), ('.', 'PUNCT')], [('🙈', 'PROPN')], [('und', 'CCONJ'), ('der', 'DET'), ('hinterer', 'ADJ'), ('Fahrer', 'NOUN'), ('hat', 'AUX'), ('den', 'DET'), ('vorderen', 'ADJ'), ('Fahrer', 'NOUN'), ('angefahren', 'VERB'), ('ohne', 'ADP'), ('es', 'PRON'), ('zu', 'PART'), ('wollen', 'AUX'), ('.', 'PUNCT')], [('Zum', 'ADP'), ('Schluss', 'NOUN'), ('konnte', 'AUX'), ('ich', 'PRON'), ('erkennen', 'VERB'), (',', 'PUNCT'), ('wie', 'CCONJ'), ('der', 'DET'), ('eine', 'PRON'), ('Mann', 'NOUN'), ('die', 'DET'), ('Polizei', 'NOUN'), ('gerufen', 'VERB'), ('hat', 'AUX'), ('.', 'PUNCT')], [('und', 'CCONJ'), ('die', 'DET'), ('Polizei', 'NOUN'), ('wurde', 'AUX'), ('direkt', 'ADJ'), ('informiert', 'VERB'), ('.', 'PUNCT')], [('bei', 'ADP'), ('meinem', 'DET'), ('Glück', 'NOUN'), ('jedes', 'PRON'), ('Mal', 'NOUN')], [('und', 'CCONJ'), ('ein', 'DET'), ('anderes', 'PRON'), ('Auto', 'NOUN'), ('hat', 'AUX'), ('in', 'ADP'), ('das', 'DET'), ('ersten', 'ADJ'), ('Auto', 'NOUN'), ('reingefahren', 'VERB'), ('.', 'PUNCT')], [('genau', 'INTJ')], [('und', 'CCONJ'), ('dann', 'ADV'), ('ist', 'AUX'), ('halt', 'ADV'), ('so', 'ADV'), ('ein', 'DET'), ('dämlicher', 'ADJ'), ('Unfall', 'NOUN'), ('passiert', 'VERB')], [('😘', 'SYM')], [('das', 'PRON'), ('ist', 'AUX'), ('dann', 'ADV'), ('gegen', 'ADP'), ('das', 'DET'), ('erste', 'ADJ'), ('Auto', 'NOUN'), ('gefahren', 'VERB')], [('und', 'CCONJ'), ('das', 'PRON'), ('äh', 'VERB'), ('nur', 'ADV'), ('wegen', 'ADP'), ('wegen', 'ADP'), ('dem', 'DET'), ('Typen', 'NOUN'), ('der', 'PRON'), ('mit', 'ADP'), ('dem', 'DET'), ('Ball', 'NOUN'), ('gespielt', 'VERB'), ('hat', 'AUX'), ('der', 'PRON'), ('wegen', 'ADP'), ('dem', 'DET'), ('äh', 'ADJ'), ('der', 'DET'), ('Ball', 'NOUN'), ('überhaupt', 'PROPN'), ('die', 'DET'), ('Straße', 'NOUN'), ('runtergerollt', 'VERB'), ('ist', 'AUX'), ('wegen', 'ADP'), ('dem', 'DET'), ('der', 'DET'), ('Hund', 'NOUN'), ('überhaupt', 'PROPN'), ('äh', 'VERB'), ('auf', 'ADP'), ('die', 'DET'), ('Straße', 'NOUN'), ('gesprungen', 'VERB'), ('ist', 'AUX'), ('und', 'CCONJ'), ('äh', 'VERB'), ('deshalb', 'ADV'), ('auch', 'ADV'), ('das', 'DET'), ('Auto', 'NOUN'), ('davor', 'ADV'), ('bremsen', 'VERB'), ('musste', 'AUX')], [('🙄', 'SYM')], [('aber', 'CCONJ'), ('sie', 'PRON'), ('haben', 'AUX'), ('die', 'DET'), ('Polizei', 'NOUN'), ('angerufen', 'VERB')], [('keine', 'DET'), ('Ahnung', 'NOUN')], [('Immerhin', 'ADV'), ('sind', 'AUX'), ('alle', 'DET'), ('Personen', 'NOUN'), ('unversehrt', 'ADJ'), ('geblieben', 'VERB'), ('.', 'PUNCT')], [('und', 'CCONJ'), ('haben', 'AUX'), ('miteinander', 'ADV'), ('gesprochen', 'VERB'), ('.', 'PUNCT')], [('tschüss', 'INTJ'), ('schönen', 'ADJ'), ('Tag', 'NOUN'), ('dir', 'PRON')], [('Die', 'DET'), ('Schuld', 'NOUN'), ('an', 'ADP'), ('dem', 'DET'), ('Unfall', 'NOUN'), ('tragen', 'VERB'), ('der', 'DET'), ('Junge', 'NOUN'), ('und', 'CCONJ'), ('die', 'DET'), ('Frau', 'NOUN'), ('mit', 'ADP'), ('dem', 'DET'), ('Hund', 'NOUN'), (',', 'PUNCT'), ('da', 'CCONJ'), ('sie', 'PRON'), ('beide', 'PRON'), ('besser', 'ADJ'), ('auspassen', 'VERB'), ('hätten', 'AUX'), ('müssen', 'AUX'), ('.', 'PUNCT')], [('und', 'CCONJ'), ('die', 'DET'), ('Polizei', 'NOUN'), ('haben', 'AUX'), ('sie', 'PRON'), ('auch', 'ADV'), ('gleich', 'ADV'), ('angerufen', 'VERB'), ('.', 'PUNCT')], [('und', '_'), ('dann', '_'), ('hat', '_'), ('er', '_'), ('äh', '_'), ('die', '_'), ('Polizei', '_'), ('angerufen', '_')], [('sah', 'VERB'), ('so', 'ADV'), ('aus', 'ADV'), ('als', 'CCONJ'), ('wär', 'VERB'), ('der', 'DET'), ('Hund', 'NOUN'), ('losgerannt', 'VERB'), ('weil', 'CCONJ'), ('so', 'ADV'), ('ein', 'DET'), ('Typ', 'NOUN'), ('seinen', 'DET'), ('Ball', 'NOUN'), ('nicht', 'INTJ'), ('unter', 'ADP'), ('Kontrolle', 'NOUN'), ('hatte', 'AUX'), ('😒', 'SYM')], [('Die', 'DET'), ('Mutter', 'NOUN'), ('des', 'DET'), ('Kindes', 'NOUN'), ('hat', 'AUX'), ('dem', 'DET'), ('Ganzen', 'NOUN'), ('nur', 'ADV'), ('zugesehen', 'VERB'), ('.', 'PUNCT')], [('und', 'CCONJ'), ('dann', 'ADV'), ('äh', 'INTJ'), ('haben', 'AUX'), ('sie', 'PRON'), ('die', 'DET'), ('Polizei', 'NOUN'), ('gerufen', 'VERB')], [('schönen', 'ADJ'), ('Tag', 'NOUN'), ('noch', 'ADV')], [('ja', 'INTJ')], [('äh', 'INTJ'), ('der', 'DET'), ('junge', 'ADJ'), ('Herr', 'NOUN'), ('dem', 'PRON'), ('der', 'DET'), ('Ball', 'NOUN'), ('aus', 'ADP'), ('der', 'DET'), ('Hand', 'NOUN'), ('gefallen', 'VERB'), ('ist', 'AUX'), ('half', 'VERB'), ('daraufhin', 'ADV'), ('der', 'DET'), ('Frau', 'NOUN'), ('ihre', 'DET'), ('Einkäufe', 'NOUN'), ('wieder', 'ADV'), ('aufzuheben', 'VERB'), ('die', 'PRON'), ('ihr', 'PRON'), ('infolgedessen', 'ADV'), ('aus', 'ADP'), ('der', 'DET'), ('Hand', 'NOUN'), ('gefallen', 'VERB'), ('sind', 'AUX')], [('Was', 'PRON'), ('für', 'ADP'), ('ein', 'DET'), ('Tag', 'NOUN'), ('!', 'PUNCT')], [('✌️', 'SYM')], [('und', 'CCONJ'), ('äh', 'INTJ'), ('ja', 'INTJ'), ('ist', 'AUX'), ('dann', 'ADV'), ('später', 'ADJ'), ('auch', 'ADV'), ('zur', 'ADP'), ('Unfallstelle', 'NOUN'), ('gegangen', 'VERB')], [('Am', 'ADP'), ('Ende', 'NOUN'), ('wurde', 'AUX'), ('die', 'DET'), ('Polizei', 'NOUN'), ('angerufen', 'VERB'), ('.', 'PUNCT')], [('keinen', 'PRON'), ('von', 'ADP'), ('denen', 'PRON'), ('ist', 'AUX'), ('etwas', 'PRON'), ('passiert', 'VERB')], [('aber', 'CCONJ'), ('ich', 'PRON'), ('denke', 'VERB'), (',', 'PUNCT'), ('dass', 'CCONJ'), ('der', 'DET'), ('Fahrer', 'NOUN'), ('im', 'ADP'), ('blauen', 'ADJ'), ('Auto', 'NOUN'), ('nichts', 'PRON'), ('dafür', 'VERB'), ('kann', 'AUX')], [('es', 'PRON'), ('könnte', 'VERB'), ('sein', 'AUX'), ('dass', 'CCONJ'), ('ich', 'PRON'), ('als', 'SCONJ'), ('Zeugin', 'NOUN'), ('aussagen', 'VERB'), ('muss', 'AUX')], [('und', 'CCONJ'), ('ja', 'INTJ'), ('tschüss', 'VERB')], [('bis', 'ADP'), ('dann', 'ADV')], [('Nachdem', 'CCONJ'), ('schaute', 'VERB'), ('es', 'PRON'), ('bei', 'ADP'), ('den', 'DET'), ('beiden', 'PRON'), ('Autofahrern', 'NOUN'), ('nach', 'ADV'), ('welche', 'PRON'), ('die', 'DET'), ('Polizei', 'NOUN'), ('riefen', 'VERB'), ('.', 'PUNCT')], [('und', 'CCONJ'), ('äh', 'INTJ'), ('ja', 'ADV'), ('stand', 'VERB'), ('nur', 'ADV'), ('da', 'ADV')], [('keiner', 'PRON'), ('war', 'AUX'), ('aber', 'ADV'), ('verletzt', 'ADJ'), ('zum', 'ADP'), ('Glück', 'NOUN'), ('!', 'PUNCT')], [('Der', 'DET'), ('Junge', 'NOUN'), ('mit', 'ADP'), ('dem', 'DET'), ('Ball', 'NOUN'), ('half', 'VERB'), ('der', 'DET'), ('Frau', 'NOUN'), (',', 'PUNCT'), ('woraufhin', 'ADV'), ('er', 'PRON'), ('später', 'ADV'), ('zu', 'ADP'), ('den', 'DET'), ('beiden', 'PRON'), ('Autofahrern', 'NOUN'), ('lief', 'VERB'), (',', 'PUNCT'), ('um', 'SCONJ'), ('mit', 'ADP'), ('die', 'DET'), ('Polizei', 'NOUN'), ('zu', 'PART'), ('kontaktieren', 'VERB'), ('.', 'PUNCT')], [('DEbi73MR', 'PROPN'), ('.', 'PUNCT')], [('ja', 'INTJ'), ('tschüss', 'INTJ')], [('aber', 'CCONJ'), ('er', 'PRON'), ('war', 'AUX'), ('an', 'ADP'), ('der', 'DET'), ('Leine', 'NOUN')], [('Ein', 'DET'), ('Auto', 'NOUN'), ('musste', 'AUX'), ('dann', 'ADV'), ('daraufhin', 'ADV'), ('eine', 'DET'), ('Vollbremsung', 'NOUN'), ('machen', 'VERB'), ('und', 'CCONJ'), ('ein', 'DET'), ('Anderes', 'NOUN'), ('ist', 'AUX'), ('dem', 'PRON'), ('voll', 'ADV'), ('hinten', 'ADV'), ('reingefahren', 'VERB'), ('.', 'PUNCT')], [('Nach', 'ADP'), ('dem', 'DET'), ('Verkehrsunfall', 'NOUN'), ('haben', 'AUX'), ('wir', 'PRON'), ('die', 'DET'), ('Polizei', 'NOUN'), ('benachrichtigt', 'VERB'), ('.', 'PUNCT')], [('das', 'PRON'), ('ist', 'AUX'), ('ja', 'ADV'), ('echt', 'ADV'), ('nicht', 'INTJ'), ('zu', 'PART'), ('fassen', 'VERB')], [('...', 'PUNCT')], [('die', 'DET'), ('Polizei', 'NOUN'), ('gerufen', 'VERB')], [('und', 'CCONJ'), ('haben', 'AUX'), ('dann', 'ADV'), ('die', 'DET'), ('Polizei', 'NOUN'), ('gerufen', 'VERB')], [('Die', 'DET'), ('110', 'NUM'), ('wurde', 'AUX'), ('daraufhin', 'ADV'), ('gewählt', 'VERB'), ('.', 'PUNCT')], [('ja', 'INTJ')], [('Kurz', 'ADJ'), ('darauf', 'ADV'), ('riefen', 'VERB'), ('die', 'PRON'), (',', 'PUNCT'), ('die', 'DET'), ('Polizei', 'NOUN'), ('an', 'ADV'), ('.', 'PUNCT')], [('Das', 'PRON'), ('kommt', 'VERB'), ('davon', 'ADV'), ('wenn', 'CCONJ'), ('man', 'PRON'), ('so', 'ADV'), ('schnell', 'ADJ'), ('auf', 'ADP'), ('einen', 'DET'), ('Parkplatz', 'NOUN'), ('fährt', 'VERB'), ('und', 'CCONJ'), ('der', 'DET'), ('Hintermann', 'NOUN'), ('keinen', 'DET'), ('Abstand', 'NOUN'), ('hält', 'VERB')], [('und', 'CCONJ'), ('der', 'DET'), ('Fahrer', 'NOUN'), ('vom', 'ADP'), ('blauen', 'ADJ'), ('Auto', 'NOUN'), ('hat', 'AUX'), ('dann', 'ADV'), ('die', 'DET'), ('Polizei', 'NOUN'), ('angerufen', 'VERB')], [('ja', 'INTJ'), ('also', 'CCONJ'), ('merkwürdige', 'ADJ'), ('Situation', 'NOUN'), ('mitten', 'ADV'), ('am', 'ADP'), ('Tag', 'NOUN')], [('Gleich', 'ADV'), ('darauf', 'ADV'), ('wurde', 'AUX'), ('die', 'DET'), ('Polizei', 'NOUN'), ('gerufen', 'VERB'), ('.', 'PUNCT')], [('und', 'CCONJ'), ('ja', 'INTJ'), ('voll', 'ADV'), ('krass', 'ADJ')], [('Die', 'DET'), ('beteiligten', 'ADJ'), ('Fahrer', 'NOUN'), ('riefen', 'VERB'), ('unverzüglich', 'ADJ'), ('die', 'DET'), ('Polizei', 'NOUN'), ('.', 'PUNCT')], [('mal', 'ADV'), ('schauen', 'VERB'), ('was', 'PRON'), ('passiert', 'VERB')], [('aber', 'CCONJ'), ('ich', 'PRON'), ('glaub', 'VERB'), ('die', 'PRON'), ('rufen', 'VERB'), ('jetzt', 'ADV'), ('die', 'DET'), ('Polizei', 'NOUN')], [('danach', 'ADV'), ('haben', 'AUX'), ('die', 'PRON'), ('auch', 'ADV'), ('sofort', 'ADV'), ('die', 'DET'), ('Polizei', 'NOUN'), ('angerufen', 'VERB')], [('und', 'CCONJ'), ('dann', 'ADV'), ('ist', 'AUX'), ('der', 'DET'), ('Junge', 'NOUN'), ('zu', 'ADP'), ('dem', 'DET'), ('Mann', 'NOUN'), ('gegangen', 'VERB'), ('der', 'PRON'), ('aus', 'ADP'), ('dem', 'DET'), ('ersten', 'ADJ'), ('Auto', 'NOUN'), ('gestiegen', 'VERB'), ('ist', 'AUX'), ('um', 'SCONJ'), ('mit', 'ADP'), ('ihm', 'PRON'), ('zu', 'PART'), ('reden', 'VERB'), ('weil', 'CCONJ'), ('er', 'PRON'), ('die', 'DET'), ('Polizei', 'NOUN'), ('rufen', 'VERB'), ('wollte', 'AUX')], [('Hadi', 'X'), ('bis', 'ADP'), ('später', 'ADJ'), ('Dicker', 'NOUN')], [('Also', 'CCONJ'), ('nichts', 'PRON'), ('groß', 'ADJ'), ('passiert', 'VERB'), ('.', 'PUNCT')], [('MfG', 'PROPN'), ('DEbi25FG', 'PROPN')], [('äh', 'INTJ'), ('genau', 'INTJ'), ('ich', 'PRON'), ('hoffe', 'VERB'), ('es', 'PRON'), ('ist', 'AUX'), ('nichts', 'PRON'), ('passiert', 'VERB')], [('😖', 'SYM')], [('und', 'CCONJ'), ('ja', 'INTJ')], [('und', 'CCONJ'), ('sonsten', 'ADV'), ('ansonsten', 'ADV'), ('geht', 'VERB'), ('es', 'PRON'), ('dir', 'PRON'), ('ganz', 'ADV'), ('gut', 'ADJ')], [('und', 'CCONJ'), ('sein', 'DET'), ('Hintermann', 'NOUN'), ('im', 'ADP'), ('weißen', 'ADJ'), ('Auto', 'NOUN'), ('fuhr', 'VERB'), ('ihm', 'PRON'), ('auf', 'ADV'), ('.', 'PUNCT')], [('und', 'CCONJ'), ('der', 'DET'), ('Mann', 'NOUN'), ('im', 'ADP'), ('blauen', 'ADJ'), ('Auto', 'NOUN'), ('war', 'AUX'), ('gerade', 'ADV'), ('dabei', 'ADV'), ('die', 'DET'), ('Polizei', 'NOUN'), ('anzurufen', 'VERB'), ('.', 'PUNCT')], [('ja', 'INTJ'), ('das', 'PRON'), ('war', 'AUX'), ('es', 'PRON')], [('Dabei', 'ADV'), ('sein', 'AUX'), ('war', 'AUX'), ('alles', 'PRON'), ('.', 'PUNCT')], [('Es', 'PRON'), ('scheint', 'VERB'), ('aber', 'ADV'), ('dass', 'CCONJ'), ('alle', 'PRON'), ('okay', 'ADJ'), ('sind', 'AUX'), ('.', 'PUNCT')], [('aber', 'CCONJ'), ('alle', 'PRON'), ('waren', 'AUX'), ('sicher', 'ADJ'), ('.', 'PUNCT')], [('und', 'CCONJ'), ('haben', 'AUX'), ('dann', 'ADV'), ('die', 'DET'), ('Polizei', 'NOUN'), ('angerufen', 'VERB'), ('um', 'SCONJ'), ('das', 'PRON'), ('irgendwie', 'ADV'), ('zu', 'PART'), ('klären', 'VERB')], [('Nachdem', 'ADV'), ('der', 'DET'), ('Mann', 'NOUN'), ('mit', 'ADP'), ('dem', 'DET'), ('Ball', 'NOUN'), ('der', 'DET'), ('Frau', 'NOUN'), ('mit', 'ADP'), ('den', 'DET'), ('Einkäufen', 'NOUN'), ('geholfen', 'VERB'), ('hatte', 'AUX'), (',', 'PUNCT'), ('ging', 'VERB'), ('er', 'PRON'), ('auch', 'ADV'), ('zu', 'ADP'), ('den', 'DET'), ('Autos', 'NOUN'), (',', 'PROPN'), ('die', 'PRON'), ('gerade', 'ADV'), ('den', 'DET'), ('Unfall', 'NOUN'), ('hatten', 'AUX'), ('.', 'PUNCT')], [('Eine', 'DET'), ('weitere', 'ADJ'), ('Frau', 'NOUN'), ('mit', 'ADP'), ('Hund', 'NOUN'), ('sah', 'VERB'), ('diesen', 'DET'), ('Unfall', 'NOUN'), ('ebenfalls', 'ADV'), ('.', 'PUNCT')], [('und', 'CCONJ'), ('äh', 'INTJ'), ('haben', 'AUX'), ('miteinander', 'ADV'), ('gesprochen', 'VERB')], [('und', '_'), ('die', '_'), ('Polizei', '_'), ('angerufen', '_')], [('Wiedersehen', 'NOUN')], [('und', 'CCONJ'), ('ist', 'AUX'), ('dann', 'ADV'), ('in', 'ADP'), ('ihn', 'PRON'), ('in', 'ADP'), ('das', 'DET'), ('erste', 'ADJ'), ('Auto', 'NOUN'), ('reingefahren', 'VERB')], [('Mit', 'ADP'), ('freundlichen', 'ADJ'), ('Grüßen', 'NOUN'), ('DEbi09FR', 'PROPN')], [('aber', 'CCONJ'), ('es', 'PRON'), ('ist', 'AUX'), ('zum', 'ADP'), ('Glück', 'NOUN'), ('niemandem', 'PRON'), ('was', 'PRON'), ('passiert', 'VERB')], [('auf', 'ADP'), ('Wiederhören', 'NOUN')], [('der', 'DET'), ('andere', 'PRON'), ('Fahrer', 'NOUN'), ('der', 'PRON'), ('äh', 'INTJ'), ('hinter', 'ADP'), ('ihm', 'PRON'), ('fuhr', 'VERB'), ('ist', 'AUX'), ('reingefahren', 'VERB'), ('in', 'ADP'), ('den', 'DET'), ('Heck', 'NOUN')], [('und', 'CCONJ'), ('begab', 'VERB'), ('sich', 'PRON'), ('später', 'ADJ'), ('zur', 'ADP'), ('Unfallstelle', 'NOUN'), ('.', 'PUNCT')], [('und', 'CCONJ'), ('danach', 'ADV'), ('wurde', 'AUX'), ('wegen', 'ADP'), ('dem', 'DET'), ('Unfall', 'NOUN'), ('die', 'DET'), ('Polizei', 'NOUN'), ('gerufen', 'VERB')], [('diese', 'PRON'), ('bereits', 'ADV'), ('äh', 'INTJ'), ('da', 'ADV'), ('diese', 'DET'), ('Herren', 'NOUN'), ('nein', 'INTJ'), ('in', 'ADP'), ('diesem', 'DET'), ('die', 'DET'), ('Herren', 'NOUN'), ('hatten', 'AUX'), ('bereits', 'ADV'), ('äh', 'INTJ'), ('in', 'ADP'), ('dem', 'DET'), ('Moment', 'NOUN'), ('die', 'DET'), ('Polizei', 'NOUN'), ('schon', 'ADV'), ('kontaktiert', 'VERB')], [('der', 'DET'), ('Mann', 'NOUN'), ('hatte', 'AUX'), ('dann', 'ADV'), ('voll', 'ADV'), ('Panik', 'NOUN'), ('wusste', 'VERB'), ('nichgt', 'INTJ'), ('was', 'PRON'), ('er', 'PRON'), ('machen', 'VERB'), ('.', 'PUNCT')], [('✌🏻', 'SYM')], [('und', 'CCONJ'), ('genau', 'INTJ'), ('ja', 'INTJ')], [('und', 'CCONJ'), ('ist', 'AUX'), ('dann', 'ADV'), ('zu', 'ADP'), ('den', 'DET'), ('anderen', 'PRON'), ('Männern', 'NOUN'), ('gegangen', 'VERB'), ('die', 'PRON'), ('ein', 'DET'), ('die', 'PRON'), ('das', '_'), ('äh', 'INTJ'), ('die', 'PRON'), ('die', 'DET'), ('Polizei', 'NOUN'), ('angerufen', 'VERB'), ('haben', 'AUX'), ('wegen', 'ADP'), ('dem', 'DET'), ('Unfall', 'NOUN')], [('und', 'CCONJ'), ('ja', 'INTJ'), ('so', 'ADV'), ('ist', 'AUX'), ('dies', 'DET'), ('Ganze', 'NOUN'), ('verlaufen', 'VERB')], [('ich', 'PRON'), ('meine', 'VERB'), ('mein', 'DET'), ('Gott', 'NOUN'), ('okay', 'INTJ')], [('und', 'CCONJ'), ('dabei', 'ADV'), ('ein', 'DET'), ('Schaden', 'NOUN'), ('entstanden', 'VERB'), ('sein', 'AUX'), ('kann', 'AUX'), ('.', 'PUNCT')], [('vor', 'ADP'), ('allem', 'PRON'), ('über', 'ADP'), ('die', 'DET'), ('Frau', 'NOUN'), ('mit', 'ADP'), ('dem', 'DET'), ('Kinderwagen', 'NOUN'), ('.', 'PUNCT')], [('so', 'ADV'), ('richtig', 'ADJ'), ('komisch', 'ADJ')], [('äh', 'VERB'), ('und', 'CCONJ'), ('ja', 'INTJ'), ('das', 'PRON'), ('war', 'AUX'), ('der', 'DET'), ('Unfall', 'NOUN')], [('also', 'CCONJ'), ('echt', 'ADV'), ('das', 'DET'), ('habe', 'AUX'), ('ich', 'PRON'), ('noch', 'ADV'), ('nie', 'ADV'), ('erlebt', 'VERB'), ('so', 'ADV'), ('was', 'PRON')], [('und', 'CCONJ'), ('nichts', 'PRON'), ('äh', 'INTJ'), ('nichts', 'PRON'), ('äh', 'INTJ'), ('Schlechtes', 'NOUN'), ('ist', 'AUX'), ('eigentlich', 'ADV'), ('passiert', 'VERB'), ('also', 'CCONJ'), ('schlecht', 'ADJ'), ('ja', 'INTJ')], [('und', 'CCONJ'), ('dann', 'ADV'), ('kam', 'VERB'), ('es', 'PRON'), ('vermutlich', 'ADV'), ('zu', 'ADP'), ('einem', 'DET'), ('Auffahrunfall', 'NOUN')], [('und', 'CCONJ'), ('danach', 'ADV'), ('haben', 'AUX'), ('wir', 'PRON'), ('halt', 'ADV'), ('die', 'DET'), ('Polizei', 'NOUN'), ('gerufen', 'VERB')], [('bis', 'ADP'), ('dann', 'ADV'), ('tschau', 'INTJ')], [('Das', 'DET'), ('Auto', 'NOUN'), ('musste', 'AUX'), ('sehr', 'ADV'), ('abrupt', 'ADJ'), ('bremsen', 'VERB'), ('und', 'CCONJ'), ('stehen', 'VERB'), ('bleiben', 'VERB'), (',', 'PUNCT'), ('weshalb', 'ADV'), ('das', 'DET'), ('zweite', 'ADJ'), (',', 'PUNCT'), ('welches', 'PRON'), ('ziemlich', 'ADV'), ('direkt', 'ADJ'), ('hinter', 'ADP'), ('dem', 'DET'), ('ersten', 'ADJ'), ('hinterher', 'ADV'), ('fuhr', 'VERB'), (',', 'PROPN'), ('auf', 'ADP'), ('das', 'DET'), ('erste', 'ADJ'), ('auffuhr', 'VERB'), ('.', 'PUNCT')], [('Schließlich', 'ADV'), ('wählte', 'VERB'), ('eine', 'DET'), ('der', 'DET'), ('Beteiligten', 'NOUN'), ('die', 'DET'), ('Polizei', 'NOUN'), ('.', 'PUNCT')], [('Durch', 'ADP'), ('die', 'DET'), ('Bremsung', 'NOUN'), ('des', 'DET'), ('ersten', 'ADJ'), ('Autos', 'NOUN'), ('stieß', 'VERB'), ('das', 'DET'), ('zweite', 'ADJ'), ('Auto', 'NOUN'), ('von', 'ADP'), ('hinten', 'ADV'), ('gegen', 'ADP'), ('das', 'DET'), ('erste', 'ADJ'), ('.', 'PUNCT')], [('und', 'CCONJ'), ('haben', 'AUX'), ('dann', 'ADV'), ('sofort', 'ADV'), ('auch', 'ADV'), ('die', 'DET'), ('Polizei', 'NOUN'), ('also', 'ADV'), ('Sie', 'PRON'), ('verständigt', 'VERB')], [('und', 'CCONJ'), ('zeitgleich', 'ADJ'), ('danach', 'ADV'), ('noch', 'ADV'), ('den', 'DET'), ('beiden', 'PRON'), ('Typen', 'NOUN'), ('die', 'PRON'), ('deren', 'DET'), ('Auto', 'NOUN'), ('beschädigt', 'VERB'), ('wurden', 'AUX'), ('hingegangen', 'VERB'), (',', 'PROPN'), ('geholfen', 'VERB'), ('&', 'PUNCT'), ('gemeinsam', 'ADV'), ('die', 'DET'), ('Polizei', 'NOUN'), ('gerufen', 'VERB'), ('\"', 'PROPN')], [('ja', 'INTJ'), ('freue', 'VERB'), ('mich', 'PRON'), ('auf', 'ADP'), ('Rückruf', 'NOUN')]]\n",
      "[('und', 'CCONJ'), ('die', 'PRON'), ('haben', 'AUX'), ('die', 'DET'), ('Polizei', 'NOUN'), ('äh', 'INTJ'), ('angerufen', 'VERB'), ('DEbi24FT', 'PROPN'), ('und', 'CCONJ'), ('ist', 'AUX')]\n"
     ]
    }
   ],
   "source": [
    "debi_pos = []\n",
    "flat_debi_pos = []\n",
    "for files in DE_bi_files:\n",
    "    convert_conllu_to_pos(files, debi_pos)\n",
    "    for x in debi_pos:\n",
    "        for y in x:\n",
    "            flat_debi_pos = [x for xs in debi_pos for x in xs]\n",
    "\n",
    "print(debi_pos)\n",
    "print(flat_debi_pos[:10])"
   ]
  },
  {
   "cell_type": "code",
   "execution_count": 27,
   "id": "e8230010",
   "metadata": {},
   "outputs": [],
   "source": [
    "demono_pos = []\n",
    "flat_demono_pos = []\n",
    "for files in DE_mono_files:\n",
    "    convert_conllu_to_pos(files, demono_pos)\n",
    "    for x in demono_pos:\n",
    "        for y in x:\n",
    "            flat_demono_pos = [x for xs in demono_pos for x in xs]"
   ]
  },
  {
   "cell_type": "code",
   "execution_count": 28,
   "id": "e82224f9",
   "metadata": {},
   "outputs": [],
   "source": [
    "enbi_pos = []\n",
    "flat_enbi_pos = []\n",
    "for files in EN_bi_files:\n",
    "    convert_conllu_to_pos(files, enbi_pos)\n",
    "    for x in enbi_pos:\n",
    "        for y in x:\n",
    "            flat_enbi_pos = [x for xs in enbi_pos for x in xs]"
   ]
  },
  {
   "cell_type": "code",
   "execution_count": 29,
   "id": "b8c1d5b1",
   "metadata": {},
   "outputs": [],
   "source": [
    "enmono_pos = []\n",
    "flat_enmono_pos = []\n",
    "for files in EN_mono_files:\n",
    "    convert_conllu_to_pos(files, enmono_pos)\n",
    "    for x in enmono_pos:\n",
    "        for y in x:\n",
    "            flat_enmono_pos = [x for xs in enmono_pos for x in xs]"
   ]
  },
  {
   "cell_type": "code",
   "execution_count": 30,
   "id": "bb004917",
   "metadata": {},
   "outputs": [
    {
     "name": "stdout",
     "output_type": "stream",
     "text": [
      "4773\n",
      "1761\n",
      "4385\n",
      "621\n"
     ]
    }
   ],
   "source": [
    "print(len(flat_debi_pos))\n",
    "print(len(flat_demono_pos))\n",
    "print(len(flat_enbi_pos))\n",
    "print(len(flat_enmono_pos))"
   ]
  },
  {
   "cell_type": "markdown",
   "id": "039bfb42",
   "metadata": {},
   "source": [
    "### Text Extraction"
   ]
  },
  {
   "cell_type": "code",
   "execution_count": 31,
   "id": "944b5efa",
   "metadata": {},
   "outputs": [],
   "source": [
    "def convert_conllu_to_text(input_path, text_list):\n",
    "\n",
    "    with open(input_path, 'r', encoding='utf-8') as file:\n",
    "        lines = file.readlines()\n",
    "    \n",
    "    text_text = \"\"\n",
    "    sentence = list([tuple()])\n",
    "    \n",
    "    for line in lines:\n",
    "        line = line.strip()\n",
    "        if line and not line.startswith(\"#\"):\n",
    "            columns = line.split(\"\\t\")\n",
    "            if len(columns) > 3:\n",
    "                word_text = columns[1]  # Token\n",
    "\n",
    "                sentence.append(f\"{word_text}\")\n",
    "        else:\n",
    "            if sentence:\n",
    "                text_text = sentence\n",
    "                sentence = []\n",
    "    \n",
    "    text_list.append(text_text)"
   ]
  },
  {
   "cell_type": "code",
   "execution_count": 32,
   "id": "8591d7e8",
   "metadata": {},
   "outputs": [
    {
     "name": "stdout",
     "output_type": "stream",
     "text": [
      "['und', 'die', 'haben', 'die', 'Polizei', 'äh', 'angerufen', 'DEbi24FT', 'und', 'ist']\n"
     ]
    }
   ],
   "source": [
    "debi_text = []\n",
    "flat_debi_text = []\n",
    "for files in DE_bi_files:\n",
    "    convert_conllu_to_text(files, debi_text)\n",
    "    for x in debi_text:\n",
    "        for y in x:\n",
    "            flat_debi_text = [x for xs in debi_text for x in xs]\n",
    "print(flat_debi_text[:10])"
   ]
  },
  {
   "cell_type": "code",
   "execution_count": 33,
   "id": "6394122c",
   "metadata": {},
   "outputs": [],
   "source": [
    "demono_text = []\n",
    "flat_demono_text = []\n",
    "for files in DE_mono_files:\n",
    "    convert_conllu_to_text(files, demono_text)\n",
    "    for x in demono_text:\n",
    "        for y in x:\n",
    "            flat_demono_text = [x for xs in demono_text for x in xs]"
   ]
  },
  {
   "cell_type": "code",
   "execution_count": 34,
   "id": "b139708d",
   "metadata": {},
   "outputs": [],
   "source": [
    "enbi_text = []\n",
    "flat_enbi_text = []\n",
    "for files in EN_bi_files:\n",
    "    convert_conllu_to_text(files, enbi_text)\n",
    "    for x in enbi_text:\n",
    "        for y in x:\n",
    "            flat_enbi_text = [x for xs in enbi_text for x in xs]"
   ]
  },
  {
   "cell_type": "code",
   "execution_count": 35,
   "id": "94aecc41",
   "metadata": {},
   "outputs": [],
   "source": [
    "enmono_text = []\n",
    "flat_enmono_text = []\n",
    "for files in EN_mono_files:\n",
    "    convert_conllu_to_text(files, enmono_text)\n",
    "    for x in enmono_text:\n",
    "        for y in x:\n",
    "            flat_enmono_text = [x for xs in enmono_text for x in xs]"
   ]
  },
  {
   "cell_type": "code",
   "execution_count": 36,
   "id": "06f9fd9d",
   "metadata": {},
   "outputs": [
    {
     "name": "stdout",
     "output_type": "stream",
     "text": [
      "4773\n",
      "1761\n",
      "4385\n",
      "621\n"
     ]
    }
   ],
   "source": [
    "print(len(flat_debi_text))\n",
    "print(len(flat_demono_text))\n",
    "print(len(flat_enbi_text))\n",
    "print(len(flat_enmono_text))"
   ]
  },
  {
   "cell_type": "markdown",
   "id": "f7923366",
   "metadata": {},
   "source": [
    "## Corpora Creation for Later Exploration\n",
    "We finally have all our sentences parsed with pos and tokens, let's pickle to use later"
   ]
  },
  {
   "cell_type": "code",
   "execution_count": 37,
   "id": "0d2e9e2b",
   "metadata": {},
   "outputs": [],
   "source": [
    "import pickle"
   ]
  },
  {
   "cell_type": "code",
   "execution_count": 38,
   "id": "030d9bec",
   "metadata": {},
   "outputs": [],
   "source": [
    "with open ('debi_pos.pkl', 'wb') as f:\n",
    "    pickle.dump(flat_debi_pos, f)\n",
    "with open ('demono_pos.pkl', 'wb') as f:\n",
    "    pickle.dump(flat_demono_pos, f)\n",
    "with open ('enbi_pos.pkl', 'wb') as f:\n",
    "    pickle.dump(flat_enbi_pos, f)\n",
    "with open ('enmono_pos.pkl', 'wb') as f:\n",
    "    pickle.dump(flat_enmono_pos, f)"
   ]
  },
  {
   "cell_type": "code",
   "execution_count": null,
   "id": "aab1fb58",
   "metadata": {},
   "outputs": [],
   "source": [
    "with open ('debi_text.pkl', 'wb') as f:\n",
    "    pickle.dump(flat_debi_text, f)\n",
    "with open ('demono_text.pkl', 'wb') as f:\n",
    "    pickle.dump(flat_demono_text, f)\n",
    "with open ('enbi_text.pkl', 'wb') as f:\n",
    "    pickle.dump(flat_enbi_text, f)\n",
    "with open ('enmono_text.pkl', 'wb') as f:\n",
    "    pickle.dump(flat_enmono_text, f)"
   ]
  },
  {
   "cell_type": "code",
   "execution_count": 40,
   "id": "a0d3f00c",
   "metadata": {},
   "outputs": [],
   "source": [
    "rueg_all_df.to_pickle('RUEG_meta_df.pkl')"
   ]
  }
 ],
 "metadata": {
  "kernelspec": {
   "display_name": "base",
   "language": "python",
   "name": "python3"
  },
  "language_info": {
   "codemirror_mode": {
    "name": "ipython",
    "version": 3
   },
   "file_extension": ".py",
   "mimetype": "text/x-python",
   "name": "python",
   "nbconvert_exporter": "python",
   "pygments_lexer": "ipython3",
   "version": "3.12.2"
  }
 },
 "nbformat": 4,
 "nbformat_minor": 5
}
