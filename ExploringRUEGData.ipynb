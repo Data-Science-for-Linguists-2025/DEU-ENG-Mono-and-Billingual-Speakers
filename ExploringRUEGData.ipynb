{
 "cells": [
  {
   "cell_type": "markdown",
   "id": "a745238f",
   "metadata": {},
   "source": [
    "# Exploring the RUEG Corpus\n",
    "Goals\n",
    "\n",
    "## Table of Contents\n",
    "1. [Unigram Exploration]()\n",
    "\n",
    "    A. [Loading in the Data]()\n",
    "2. [Taking in Some Basic Stats]()\n",
    "3. [Exloring with the POS]()"
   ]
  },
  {
   "cell_type": "markdown",
   "id": "cd7a501e",
   "metadata": {},
   "source": [
    "## Unigram Exploration"
   ]
  },
  {
   "cell_type": "markdown",
   "id": "dafb2ac4",
   "metadata": {},
   "source": [
    "### Loading in the Data\n",
    "Load in the pickle files created in [this](https://github.com/Data-Science-for-Linguists-2025/DEU-ENG-Mono-and-Billingual-Speakers/blob/main/LoadingRUEGData.ipynb) jupyter notebook, and poking around a bit"
   ]
  },
  {
   "cell_type": "code",
   "execution_count": 83,
   "id": "2f29328c",
   "metadata": {},
   "outputs": [
    {
     "name": "stdout",
     "output_type": "stream",
     "text": [
      "Pretty printing has been turned OFF\n"
     ]
    }
   ],
   "source": [
    "%pprint"
   ]
  },
  {
   "cell_type": "code",
   "execution_count": 170,
   "id": "8b9e98fc",
   "metadata": {},
   "outputs": [],
   "source": [
    "import pickle\n",
    "import nltk\n",
    "import sklearn\n",
    "import pandas as pd\n",
    "import numpy as np"
   ]
  },
  {
   "cell_type": "code",
   "execution_count": 85,
   "id": "90bc4349",
   "metadata": {},
   "outputs": [],
   "source": [
    "with open ('debi_pos.pkl', 'rb') as file:\n",
    "    DE_bi_pos = pickle.load(file)\n",
    "with open ('demono_pos.pkl', 'rb') as file:\n",
    "    DE_mono_pos = pickle.load(file)\n",
    "with open ('enbi_pos.pkl', 'rb') as file:\n",
    "    EN_bi_pos = pickle.load(file)\n",
    "with open ('enmono_pos.pkl', 'rb') as file:\n",
    "    EN_mono_pos = pickle.load(file)"
   ]
  },
  {
   "cell_type": "code",
   "execution_count": 86,
   "id": "64669b26",
   "metadata": {},
   "outputs": [],
   "source": [
    "with open ('debi_text.pkl', 'rb') as file:\n",
    "    DE_bi_tokens = pickle.load(file)\n",
    "with open ('demono_text.pkl', 'rb') as file:\n",
    "    DE_mono_tokens = pickle.load(file)\n",
    "with open ('enbi_text.pkl', 'rb') as file:\n",
    "    EN_bi_tokens = pickle.load(file)\n",
    "with open ('enmono_text.pkl', 'rb') as file:\n",
    "    EN_mono_tokens = pickle.load(file)"
   ]
  },
  {
   "cell_type": "code",
   "execution_count": null,
   "id": "0302e4ac",
   "metadata": {},
   "outputs": [
    {
     "name": "stdout",
     "output_type": "stream",
     "text": [
      "4773\n",
      "1761\n",
      "4385\n",
      "621\n",
      "4773\n",
      "1761\n",
      "4385\n",
      "621\n"
     ]
    }
   ],
   "source": [
    "print(len(DE_bi_pos))\n",
    "print(len(DE_mono_pos))\n",
    "print(len(EN_bi_pos))\n",
    "print(len(EN_mono_pos))\n",
    "\n",
    "print(len(DE_bi_tokens))\n",
    "print(len(DE_mono_tokens))\n",
    "print(len(EN_bi_tokens))\n",
    "print(len(EN_mono_tokens))\n",
    "\n",
    "## they are the same- good!"
   ]
  },
  {
   "cell_type": "code",
   "execution_count": 88,
   "id": "0348e849",
   "metadata": {},
   "outputs": [
    {
     "data": {
      "text/plain": [
       "[('und', 'CCONJ'), ('die', 'PRON'), ('haben', 'AUX'), ('die', 'DET'), ('Polizei', 'NOUN'), ('äh', 'INTJ'), ('angerufen', 'VERB'), ('DEbi24FT', 'PROPN'), ('und', 'CCONJ'), ('ist', 'AUX')]"
      ]
     },
     "execution_count": 88,
     "metadata": {},
     "output_type": "execute_result"
    }
   ],
   "source": [
    "DE_bi_pos[:10]"
   ]
  },
  {
   "cell_type": "code",
   "execution_count": 89,
   "id": "57c800a8",
   "metadata": {},
   "outputs": [
    {
     "data": {
      "text/plain": [
       "['und', 'die', 'haben', 'die', 'Polizei', 'äh', 'angerufen', 'DEbi24FT', 'und', 'ist']"
      ]
     },
     "execution_count": 89,
     "metadata": {},
     "output_type": "execute_result"
    }
   ],
   "source": [
    "DE_bi_tokens[:10]"
   ]
  },
  {
   "cell_type": "markdown",
   "id": "08805183",
   "metadata": {},
   "source": [
    "So, unfortunately, after investigating some POS tags, there are some non-UPOS tags included in the German sets. This is likely from some kind of incorrect parsing from the stanza parsing, or incorrectly marked in the actual text (it was automatic POS tagging, not by hand with exMaralda)\n",
    "\n",
    "For out purposes, I decided to just exlude these instances from the data here. They will not be helpful and there really isn't another solution here."
   ]
  },
  {
   "cell_type": "code",
   "execution_count": 90,
   "id": "a7572939",
   "metadata": {},
   "outputs": [
    {
     "name": "stdout",
     "output_type": "stream",
     "text": [
      "[('NOUN', 702), ('DET', 618), ('VERB', 558), ('ADV', 550), ('PRON', 448), ('AUX', 354), ('CCONJ', 341), ('ADP', 292), ('ADJ', 291), ('PUNCT', 251), ('INTJ', 175), ('PROPN', 51), ('SYM', 29), ('PART', 23), ('NUM', 22), ('SCONJ', 7)]\n"
     ]
    }
   ],
   "source": [
    "DE_bi_pos = [x for x in DE_bi_pos if x[1] not in ['NE', '_', '$.', 'X']]\n",
    "debi_postags = [x[1] for x in DE_bi_pos]\n",
    "debitagfd = nltk.FreqDist(debi_postags)\n",
    "print(debitagfd.most_common())"
   ]
  },
  {
   "cell_type": "code",
   "execution_count": 91,
   "id": "75302e52",
   "metadata": {},
   "outputs": [
    {
     "name": "stdout",
     "output_type": "stream",
     "text": [
      "[('NOUN', 251), ('DET', 210), ('ADV', 207), ('VERB', 189), ('PRON', 176), ('AUX', 127), ('CCONJ', 119), ('ADP', 115), ('ADJ', 113), ('PUNCT', 100), ('INTJ', 92), ('SYM', 20), ('PROPN', 17), ('NUM', 8), ('PART', 7), ('SCONJ', 3)]\n"
     ]
    }
   ],
   "source": [
    "DE_mono_pos = [x for x in DE_mono_pos if x[1] not in ['PPER', 'VAFIN', 'KON', 'PIAT', 'NN']]\n",
    "demono_postags = [x[1] for x in DE_mono_pos]\n",
    "demonotagfd = nltk.FreqDist(demono_postags)\n",
    "print(demonotagfd.most_common())"
   ]
  },
  {
   "cell_type": "code",
   "execution_count": 92,
   "id": "9c86e771",
   "metadata": {},
   "outputs": [
    {
     "name": "stdout",
     "output_type": "stream",
     "text": [
      "[('NOUN', 685), ('VERB', 675), ('DET', 673), ('ADP', 420), ('PROPN', 330), ('CCONJ', 268), ('AUX', 251), ('ADV', 234), ('ADJ', 212), ('PUNCT', 200), ('PART', 119), ('SCONJ', 112), ('PRON', 91), ('INTJ', 75), ('NUM', 36)]\n"
     ]
    }
   ],
   "source": [
    "EN_bi_pos = [x for x in EN_bi_pos if x[1] != '_']\n",
    "enbi_postags = [x[1] for x in EN_bi_pos]\n",
    "enbitagfd = nltk.FreqDist(enbi_postags)\n",
    "print(enbitagfd.most_common())"
   ]
  },
  {
   "cell_type": "code",
   "execution_count": 93,
   "id": "267e0538",
   "metadata": {},
   "outputs": [
    {
     "name": "stdout",
     "output_type": "stream",
     "text": [
      "[('DET', 102), ('VERB', 99), ('NOUN', 92), ('ADP', 61), ('CCONJ', 44), ('PROPN', 43), ('ADJ', 34), ('AUX', 33), ('ADV', 31), ('PUNCT', 21), ('PART', 19), ('PRON', 17), ('SCONJ', 17), ('INTJ', 7), ('NUM', 1)]\n"
     ]
    },
    {
     "data": {
      "text/plain": [
       "15"
      ]
     },
     "execution_count": 93,
     "metadata": {},
     "output_type": "execute_result"
    }
   ],
   "source": [
    "enmono_postags = [x[1] for x in EN_mono_pos]\n",
    "enmonotagfd = nltk.FreqDist(enmono_postags)\n",
    "print(enmonotagfd.most_common())\n",
    "len(set(enmono_postags))"
   ]
  },
  {
   "cell_type": "markdown",
   "id": "af272621",
   "metadata": {},
   "source": [
    "These are a little harder to compare, because we know that the sizes of the texts are pretty different. Another thing to consider is similar to the issue with TTR (it is hard to compare Type to Token Ratio when text sizes are vastly different becasue stop words will have a larger proportion in longer text). If these text sizes are so different (mostly considering the English Monolingual) it may be harder to compare. I will do the best I can, but this is crucial to keep in mind whenever comparing the four partitions.\n",
    "\n",
    "That being said, It's still fair to say that nouns, determinersa and verbs are in the top among all sets. What is interesting is the greater use of adverbs in German speakers comapred to more use of adpositions in English. At this point, it is hard to see the similarites of Bilingual speakers in comaprison to monolingual speakers, and minute differences may be difficult to see with the human eye and will require some kind of machine learning."
   ]
  },
  {
   "cell_type": "code",
   "execution_count": 94,
   "id": "c63a3aff",
   "metadata": {},
   "outputs": [
    {
     "name": "stdout",
     "output_type": "stream",
     "text": [
      "[(('und', 'CCONJ'), 221), (('.', 'PUNCT'), 175), (('die', 'DET'), 155), (('der', 'DET'), 120), (('Polizei', 'NOUN'), 118), (('Auto', 'NOUN'), 94), (('dann', 'ADV'), 81), (('ist', 'AUX'), 75), (('äh', 'INTJ'), 60), (('das', 'DET'), 60), (('es', 'PRON'), 59), ((',', 'PUNCT'), 54), (('hat', 'AUX'), 54), (('ich', 'PRON'), 52), (('dem', 'DET'), 49), (('ja', 'INTJ'), 47), (('haben', 'AUX'), 44), (('den', 'DET'), 43), (('war', 'AUX'), 41), (('ein', 'DET'), 38)]\n"
     ]
    }
   ],
   "source": [
    "debiposfd = nltk.FreqDist(DE_bi_pos)\n",
    "print(debiposfd.most_common(20))"
   ]
  },
  {
   "cell_type": "code",
   "execution_count": 95,
   "id": "37835eeb",
   "metadata": {},
   "outputs": [
    {
     "name": "stdout",
     "output_type": "stream",
     "text": [
      "[(('und', 'CCONJ'), 76), (('.', 'PUNCT'), 66), (('die', 'DET'), 37), (('der', 'DET'), 35), (('ist', 'AUX'), 31), (('dann', 'ADV'), 29), (('dem', 'DET'), 29), (('den', 'DET'), 27), (('ja', 'INTJ'), 26), (('Auto', 'NOUN'), 25), (('ich', 'PRON'), 25), ((',', 'PUNCT'), 24), (('war', 'AUX'), 23), (('das', 'PRON'), 23), (('mit', 'ADP'), 22), (('Polizei', 'NOUN'), 19), (('nicht', 'INTJ'), 19), (('es', 'PRON'), 18), (('auf', 'ADP'), 18), (('das', 'DET'), 17)]\n"
     ]
    }
   ],
   "source": [
    "demonoposfd = nltk.FreqDist(DE_mono_pos)\n",
    "print(demonoposfd.most_common(20))"
   ]
  },
  {
   "cell_type": "code",
   "execution_count": 96,
   "id": "fa0a984e",
   "metadata": {},
   "outputs": [
    {
     "name": "stdout",
     "output_type": "stream",
     "text": [
      "[(('the', 'DET'), 428), (('and', 'CCONJ'), 220), (('.', 'PUNCT'), 158), (('car', 'NOUN'), 144), (('to', 'PART'), 89), (('was', 'AUX'), 87), (('of', 'ADP'), 83), (('it', 'PROPN'), 78), (('called', 'VERB'), 72), (('they', 'PROPN'), 51), (('in', 'ADP'), 50), (('then', 'ADV'), 50), (('him', 'PROPN'), 50), (('I', 'PROPN'), 45), (('911', 'NOUN'), 45), (('behind', 'ADP'), 45), (('police', 'NOUN'), 44), (('hit', 'VERB'), 40), (('to', 'ADP'), 40), (('a', 'DET'), 39)]\n"
     ]
    }
   ],
   "source": [
    "enbiposfd = nltk.FreqDist(EN_bi_pos)\n",
    "print(enbiposfd.most_common(20))"
   ]
  },
  {
   "cell_type": "code",
   "execution_count": 111,
   "id": "6689b43f",
   "metadata": {},
   "outputs": [
    {
     "name": "stdout",
     "output_type": "stream",
     "text": [
      "[(('the', 'DET'), 62), (('and', 'CCONJ'), 39), (('car', 'NOUN'), 35), (('.', 'PUNCT'), 19), (('it', 'PROPN'), 17), (('was', 'AUX'), 16), (('to', 'PART'), 13), (('other', 'ADJ'), 11), (('one', 'PRON'), 9), (('of', 'ADP'), 9), (('rear-ended', 'VERB'), 9), (('him', 'PROPN'), 9), (('hit', 'VERB'), 9), (('into', 'ADP'), 8), (('then', 'ADV'), 8), (('they', 'PROPN'), 8), (('behind', 'ADP'), 8), (('stopped', 'VERB'), 7), (('that', 'DET'), 7), (('in', 'ADP'), 7)]\n"
     ]
    }
   ],
   "source": [
    "enmonoposfd = nltk.FreqDist(EN_mono_pos)\n",
    "print(enmonoposfd.most_common(20))"
   ]
  },
  {
   "cell_type": "markdown",
   "id": "83235af7",
   "metadata": {},
   "source": [
    "#### What are we seeing here\n",
    "Let me translate what exactly is happening here with the langauges. First, it's important to recognize that some of these recording are coming from a situation in which the participants were asked to describe a video they saw about a car crash as if they had witnessed the car crash which is why words like 'Polizei' (English: Police) and 'Auto' and 'car' are common.\n",
    "\n",
    "Secondly, when looking at the distribution of stop words, it is a little different. For one, the most common word in both German texts is 'und' (English: and) while the most common word in English is 'the'. This is likely because German has several different words for 'the' (der, die, das, den, dem, des) so the distribution is spread across these several words. The bilingual sets are pretty comparable becasue they have similar sizes, and when looking at 'und' and 'and', they have pretty similar usuage.\n",
    "\n",
    "Additionally, some of these texts are transcriptions of *spoken* audio, so the punctuation is a little tricky to analyze and not going to be of a whole lot of importance to this anyway."
   ]
  },
  {
   "cell_type": "markdown",
   "id": "8ad645cb",
   "metadata": {},
   "source": [
    "### Combing the Bilingual v Monolingual\n",
    "Let's combine the bilingual and monolingual data and just look at pos to see if that will show any greater differences."
   ]
  },
  {
   "cell_type": "code",
   "execution_count": 98,
   "id": "f490b722",
   "metadata": {},
   "outputs": [
    {
     "name": "stdout",
     "output_type": "stream",
     "text": [
      "9093\n",
      "2375\n"
     ]
    }
   ],
   "source": [
    "bilingual_uni_pos = EN_bi_pos + DE_bi_pos\n",
    "print(len(bilingual_uni_pos))\n",
    "\n",
    "monolingual_uni_pos = EN_mono_pos + DE_mono_pos\n",
    "print(len(monolingual_uni_pos))\n",
    "\n",
    "## big size discrepency to keep in mind"
   ]
  },
  {
   "cell_type": "code",
   "execution_count": 99,
   "id": "6b205d44",
   "metadata": {},
   "outputs": [
    {
     "data": {
      "text/plain": [
       "[('NOUN', 1387), ('DET', 1291), ('VERB', 1233), ('ADV', 784), ('ADP', 712), ('CCONJ', 609), ('AUX', 605), ('PRON', 539), ('ADJ', 503), ('PUNCT', 451), ('PROPN', 381), ('INTJ', 250), ('PART', 142), ('SCONJ', 119), ('NUM', 58), ('SYM', 29)]"
      ]
     },
     "execution_count": 99,
     "metadata": {},
     "output_type": "execute_result"
    }
   ],
   "source": [
    "biuni_postags = [x[1] for x in bilingual_uni_pos]\n",
    "biuni_postagsfd = nltk.FreqDist(biuni_postags)\n",
    "biuni_postagsfd.most_common(20)"
   ]
  },
  {
   "cell_type": "code",
   "execution_count": 100,
   "id": "e03ad6ec",
   "metadata": {},
   "outputs": [
    {
     "data": {
      "text/plain": [
       "[('NOUN', 343), ('DET', 312), ('VERB', 288), ('ADV', 238), ('PRON', 193), ('ADP', 176), ('CCONJ', 163), ('AUX', 160), ('ADJ', 147), ('PUNCT', 121), ('INTJ', 99), ('PROPN', 60), ('PART', 26), ('SCONJ', 20), ('SYM', 20), ('NUM', 9)]"
      ]
     },
     "execution_count": 100,
     "metadata": {},
     "output_type": "execute_result"
    }
   ],
   "source": [
    "monouni_postags = [x[1] for x in monolingual_uni_pos]\n",
    "monouni_postagsfd = nltk.FreqDist(monouni_postags)\n",
    "monouni_postagsfd.most_common(20)\n",
    "\n",
    "## with just the POS, we can compare how the first four groups are similar,\n",
    "## however pronoun usuage is clearly different and greater in the monolingual\n",
    "## speakers, but everything else is nearly identical- very cool!!"
   ]
  },
  {
   "cell_type": "code",
   "execution_count": 171,
   "id": "4a36b20b",
   "metadata": {},
   "outputs": [],
   "source": [
    "## add in machine learning for giggles because I know it's not going to be good at this stage"
   ]
  },
  {
   "cell_type": "markdown",
   "id": "bc12f157",
   "metadata": {},
   "source": [
    "## Bigram Exploration\n",
    "Unigram exploration is interesting, but it can really only do so much for us. What is (hopefully) more telling, will be the bigram and possibly trigram trends"
   ]
  },
  {
   "cell_type": "code",
   "execution_count": 101,
   "id": "a99f7a00",
   "metadata": {},
   "outputs": [],
   "source": [
    "with open ('bigram_debi_pos.pkl', 'rb') as file:\n",
    "    DE_bi_bigram_pos = pickle.load(file)\n",
    "with open ('bigram_demono_pos.pkl', 'rb') as file:\n",
    "    DE_mono_bigram_pos = pickle.load(file)\n",
    "with open ('bigram_enbi_pos.pkl', 'rb') as file:\n",
    "    EN_bi_bigram_pos = pickle.load(file)\n",
    "with open ('bigram_enmono_pos.pkl', 'rb') as file:\n",
    "    EN_mono_bigram_pos = pickle.load(file)"
   ]
  },
  {
   "cell_type": "code",
   "execution_count": 103,
   "id": "6588be66",
   "metadata": {},
   "outputs": [
    {
     "data": {
      "text/plain": [
       "[(('und', 'CCONJ'), ('die', 'PRON')), (('die', 'PRON'), ('haben', 'AUX')), (('haben', 'AUX'), ('die', 'DET')), (('die', 'DET'), ('Polizei', 'NOUN')), (('Polizei', 'NOUN'), ('äh', 'INTJ')), (('äh', 'INTJ'), ('angerufen', 'VERB')), (('und', 'CCONJ'), ('die', 'PRON')), (('die', 'PRON'), ('haben', 'AUX')), (('haben', 'AUX'), ('die', 'DET')), (('die', 'DET'), ('Polizei', 'NOUN'))]"
      ]
     },
     "execution_count": 103,
     "metadata": {},
     "output_type": "execute_result"
    }
   ],
   "source": [
    "DE_bi_bigram_pos[:10]"
   ]
  },
  {
   "cell_type": "code",
   "execution_count": 104,
   "id": "8ae20450",
   "metadata": {},
   "outputs": [
    {
     "data": {
      "text/plain": [
       "1194250"
      ]
     },
     "execution_count": 104,
     "metadata": {},
     "output_type": "execute_result"
    }
   ],
   "source": [
    "len(DE_bi_bigram_pos)"
   ]
  },
  {
   "cell_type": "code",
   "execution_count": 105,
   "id": "d4674456",
   "metadata": {},
   "outputs": [],
   "source": [
    "DE_bi_bigram_pos = [(x,y) for (x,y) in DE_bi_bigram_pos if (x[1] not in ['NE', '_', '$.', 'X']) and (y[1] not in ['NE', '_', '$.', 'X'])]"
   ]
  },
  {
   "cell_type": "code",
   "execution_count": null,
   "id": "592b66e6",
   "metadata": {},
   "outputs": [
    {
     "data": {
      "text/plain": [
       "1180238"
      ]
     },
     "execution_count": 106,
     "metadata": {},
     "output_type": "execute_result"
    }
   ],
   "source": [
    "len(DE_bi_bigram_pos)\n",
    "## yay it worked!"
   ]
  },
  {
   "cell_type": "code",
   "execution_count": 107,
   "id": "1c34c34c",
   "metadata": {},
   "outputs": [],
   "source": [
    "debi_bipostags = [(x[1], y[1]) for (x, y) in DE_bi_bigram_pos]"
   ]
  },
  {
   "cell_type": "code",
   "execution_count": 108,
   "id": "cc29160a",
   "metadata": {},
   "outputs": [
    {
     "data": {
      "text/plain": [
       "[('CCONJ', 'PRON'), ('PRON', 'AUX'), ('AUX', 'DET'), ('DET', 'NOUN'), ('NOUN', 'INTJ'), ('INTJ', 'VERB'), ('CCONJ', 'PRON'), ('PRON', 'AUX'), ('AUX', 'DET'), ('DET', 'NOUN')]"
      ]
     },
     "execution_count": 108,
     "metadata": {},
     "output_type": "execute_result"
    }
   ],
   "source": [
    "debi_bipostags[:10]"
   ]
  },
  {
   "cell_type": "code",
   "execution_count": 143,
   "id": "52e4a255",
   "metadata": {},
   "outputs": [
    {
     "data": {
      "text/plain": [
       "[('und', 'die'), ('die', 'haben'), ('haben', 'die'), ('die', 'Polizei'), ('Polizei', 'äh'), ('äh', 'angerufen'), ('und', 'die'), ('die', 'haben'), ('haben', 'die'), ('die', 'Polizei')]"
      ]
     },
     "execution_count": 143,
     "metadata": {},
     "output_type": "execute_result"
    }
   ],
   "source": [
    "debi_bitoks = [(x[0], y[0]) for (x, y) in DE_bi_bigram_pos]\n",
    "debi_bitoks[:10]"
   ]
  },
  {
   "cell_type": "code",
   "execution_count": 144,
   "id": "4ee891ef",
   "metadata": {},
   "outputs": [
    {
     "data": {
      "text/plain": [
       "[(('die', 'Polizei'), 27973), (('und', 'der'), 9930), (('Polizei', 'gerufen'), 8095), (('der', 'Mann'), 5678), (('das', 'war'), 5191), (('und', 'dann'), 4861), (('war', 'es'), 4714), (('Polizei', '.'), 4534), (('Polizei', 'angerufen'), 4486), (('und', 'das'), 4415), (('mit', 'dem'), 3805), (('und', 'die'), 3773), (('ist', 'dann'), 3756), (('und', 'ja'), 3695), (('das', 'Auto'), 3487), (('Auto', 'reingefahren'), 3406), (('gerufen', '.'), 3353), (('und', 'äh'), 3299), (('zweite', 'Auto'), 3191), (('Mann', 'im'), 3186)]"
      ]
     },
     "execution_count": 144,
     "metadata": {},
     "output_type": "execute_result"
    }
   ],
   "source": [
    "debibitokfd = nltk.FreqDist(debi_bitoks)\n",
    "debibitokfd.most_common(20)"
   ]
  },
  {
   "cell_type": "code",
   "execution_count": 168,
   "id": "63573764",
   "metadata": {},
   "outputs": [
    {
     "name": "stdout",
     "output_type": "stream",
     "text": [
      "1180238\n",
      "198093\n",
      "901501\n",
      "18023\n"
     ]
    }
   ],
   "source": [
    "DE_mono_bigram_pos = [(x,y) for (x,y) in DE_mono_bigram_pos if (x[1] not in ['PPER', 'VAFIN', 'KON', 'PIAT', 'NN']) and (y[1] not in ['PPER', 'VAFIN', 'KON', 'PIAT', 'NN'])]\n",
    "EN_bi_bigram_pos = [(x,y) for (x,y) in EN_bi_bigram_pos if (x[1] != '_') and (y[1] != '_')]\n",
    "EN_mono_bigram_pos = [(x,y) for (x,y) in EN_mono_bigram_pos]\n",
    "## pos tags extraction\n",
    "demono_bipostags = [(x[1], y[1]) for (x, y) in DE_mono_bigram_pos]\n",
    "enbi_bipostags = [(x[1], y[1]) for (x, y) in EN_bi_bigram_pos]\n",
    "enmono_bipostags = [(x[1], y[1]) for (x, y) in EN_mono_bigram_pos]\n",
    "## text extraction\n",
    "demono_bitoks = [(x[0], y[0]) for (x, y) in DE_mono_bigram_pos]\n",
    "enbi_bitoks = [(x[0], y[0]) for (x, y) in EN_bi_bigram_pos]\n",
    "enmono_bitoks = [(x[0], y[0]) for (x, y) in EN_mono_bigram_pos]\n",
    "## printing len of each bigram pos\n",
    "print(len(DE_bi_bigram_pos))\n",
    "print(len(DE_mono_bigram_pos))\n",
    "print(len(EN_bi_bigram_pos))\n",
    "print(len(EN_mono_bigram_pos))"
   ]
  },
  {
   "cell_type": "code",
   "execution_count": 115,
   "id": "54f75636",
   "metadata": {},
   "outputs": [
    {
     "data": {
      "text/plain": [
       "[((('die', 'DET'), ('Polizei', 'NOUN')), 27973), ((('und', 'CCONJ'), ('der', 'DET')), 8874), ((('Polizei', 'NOUN'), ('gerufen', 'VERB')), 8095), ((('der', 'DET'), ('Mann', 'NOUN')), 5678), ((('und', 'CCONJ'), ('dann', 'ADV')), 4861), ((('das', 'PRON'), ('war', 'AUX')), 4828), ((('Polizei', 'NOUN'), ('.', 'PUNCT')), 4534), ((('Polizei', 'NOUN'), ('angerufen', 'VERB')), 4486), ((('war', 'AUX'), ('es', 'PRON')), 4351), ((('mit', 'ADP'), ('dem', 'DET')), 3805), ((('ist', 'AUX'), ('dann', 'ADV')), 3756), ((('und', 'CCONJ'), ('ja', 'INTJ')), 3695), ((('das', 'DET'), ('Auto', 'NOUN')), 3487), ((('Auto', 'NOUN'), ('reingefahren', 'VERB')), 3406), ((('gerufen', 'VERB'), ('.', 'PUNCT')), 3353), ((('zweite', 'ADJ'), ('Auto', 'NOUN')), 3191), ((('Mann', 'NOUN'), ('im', 'ADP')), 3186), ((('in', 'ADP'), ('das', 'DET')), 3098), ((('an', 'ADV'), ('.', 'PUNCT')), 3087), ((('und', 'CCONJ'), ('das', 'DET')), 3056)]"
      ]
     },
     "execution_count": 115,
     "metadata": {},
     "output_type": "execute_result"
    }
   ],
   "source": [
    "debibiposfd = nltk.FreqDist(DE_bi_bigram_pos)\n",
    "debibiposfd.most_common(20)\n",
    "## lot's of very topical words, given the prompt the participants were given"
   ]
  },
  {
   "cell_type": "code",
   "execution_count": 117,
   "id": "485fdc36",
   "metadata": {},
   "outputs": [
    {
     "data": {
      "text/plain": [
       "[(('DET', 'NOUN'), 119603), (('NOUN', 'VERB'), 65140), (('ADJ', 'NOUN'), 48252), (('DET', 'ADJ'), 41112), (('ADP', 'DET'), 40121), (('VERB', 'PUNCT'), 32132), (('ADV', 'VERB'), 31215), (('AUX', 'ADV'), 29194), (('PRON', 'ADV'), 26520), (('ADV', 'ADV'), 25606), (('CCONJ', 'DET'), 25210), (('PRON', 'VERB'), 23776), (('PRON', 'AUX'), 23713), (('CCONJ', 'PRON'), 23328), (('ADV', 'DET'), 23170), (('AUX', 'PRON'), 22636), (('NOUN', 'AUX'), 19400), (('VERB', 'AUX'), 19363), (('NOUN', 'ADP'), 19271), (('NOUN', 'ADV'), 18892)]"
      ]
     },
     "execution_count": 117,
     "metadata": {},
     "output_type": "execute_result"
    }
   ],
   "source": [
    "debibipostagfd = nltk.FreqDist(debi_bipostags)\n",
    "debibipostagfd.most_common(20)\n",
    "## det noun makes a lot of sense, as does noun verb to be the most common"
   ]
  },
  {
   "cell_type": "code",
   "execution_count": null,
   "id": "d2c9a058",
   "metadata": {},
   "outputs": [
    {
     "name": "stdout",
     "output_type": "stream",
     "text": [
      "[((('die', 'DET'), ('Polizei', 'NOUN')), 27973), ((('und', 'CCONJ'), ('der', 'DET')), 8874), ((('Polizei', 'NOUN'), ('gerufen', 'VERB')), 8095), ((('der', 'DET'), ('Mann', 'NOUN')), 5678), ((('und', 'CCONJ'), ('dann', 'ADV')), 4861), ((('das', 'PRON'), ('war', 'AUX')), 4828), ((('Polizei', 'NOUN'), ('.', 'PUNCT')), 4534), ((('Polizei', 'NOUN'), ('angerufen', 'VERB')), 4486), ((('war', 'AUX'), ('es', 'PRON')), 4351), ((('mit', 'ADP'), ('dem', 'DET')), 3805), ((('ist', 'AUX'), ('dann', 'ADV')), 3756), ((('und', 'CCONJ'), ('ja', 'INTJ')), 3695), ((('das', 'DET'), ('Auto', 'NOUN')), 3487), ((('Auto', 'NOUN'), ('reingefahren', 'VERB')), 3406), ((('gerufen', 'VERB'), ('.', 'PUNCT')), 3353), ((('zweite', 'ADJ'), ('Auto', 'NOUN')), 3191), ((('Mann', 'NOUN'), ('im', 'ADP')), 3186), ((('in', 'ADP'), ('das', 'DET')), 3098), ((('an', 'ADV'), ('.', 'PUNCT')), 3087), ((('und', 'CCONJ'), ('das', 'DET')), 3056)]\n",
      "[(('die', 'Polizei'), 2860), (('mit', 'dem'), 1755), (('dem', 'Ball'), 1124), (('das', 'war'), 1078), (('Mann', 'mit'), 1069), (('das', 'Auto'), 1016), (('ja', 'das'), 964), (('und', 'der'), 845), (('zu', 'den'), 823), (('Der', 'Mann'), 787), (('und', 'dann'), 782), (('der', 'Frau'), 777), (('ich', 'nicht'), 722), (('Polizei', 'gerufen'), 698), (('auf', 'Wiedersehen'), 672), (('und', 'ja'), 648), (('der', 'Mann'), 642), (('dem', 'vorderen'), 636), (('Auto', 'dahinter'), 628), (('und', 'ist'), 624)]\n",
      "[(('and', 'the'), 11293), (('the', 'car'), 9298), (('of', 'the'), 9020), (('the', 'police'), 8796), (('called', '911'), 8555), (('and', 'then'), 7913), (('called', 'the'), 6325), (('the', 'blue'), 5963), (('blue', 'car'), 5637), (('car', 'behind'), 5636), (('the', 'first'), 5368), (('in', 'the'), 5209), (('to', 'the'), 4871), (('the', 'drivers'), 4604), (('that', \"'s\"), 4278), (('hit', 'the'), 4125), (('the', 'dog'), 4105), (('911', '.'), 4027), (('the', 'other'), 3752), (('into', 'the'), 3689)]\n",
      "[(('the', 'car'), 511), (('the', 'other'), 306), (('of', 'the'), 242), (('when', 'the'), 234), (('and', 'the'), 232), (('car', 'behind'), 221), (('the', 'first'), 209), (('other', 'one'), 168), (('rear-ended', 'him'), 158), (('that', \"'s\"), 152), (('into', 'it'), 148), (('in', 'front'), 138), (('then', 'went'), 128), (('the', 'ball'), 128), (('behind', 'it'), 124), (('first', 'car'), 121), (('and', 'they'), 113), (('car', 'in'), 110), (('hit', 'it'), 109), (('hit', 'the'), 108)]\n"
     ]
    }
   ],
   "source": [
    "demonobitoksfd = nltk.FreqDist(demono_bitoks)\n",
    "enbibitoksfd = nltk.FreqDist(enbi_bitoks)\n",
    "enmonobitoksfd = nltk.FreqDist(enmono_bitoks)\n",
    "biposfds = [debibiposfd, demonobitoksfd, enbibitoksfd, enmonobitoksfd]\n",
    "for x in biposfds:\n",
    "    print(x.most_common(20))\n",
    "\n",
    "## Order:\n",
    "# German Bilingual\n",
    "# German Monolingual\n",
    "# English Bilingual\n",
    "# English Monolingual"
   ]
  },
  {
   "cell_type": "code",
   "execution_count": 137,
   "id": "5d8bfc98",
   "metadata": {},
   "outputs": [
    {
     "name": "stdout",
     "output_type": "stream",
     "text": [
      "[((('die', 'DET'), ('Polizei', 'NOUN')), 27973), ((('und', 'CCONJ'), ('der', 'DET')), 8874), ((('Polizei', 'NOUN'), ('gerufen', 'VERB')), 8095), ((('der', 'DET'), ('Mann', 'NOUN')), 5678), ((('und', 'CCONJ'), ('dann', 'ADV')), 4861), ((('das', 'PRON'), ('war', 'AUX')), 4828), ((('Polizei', 'NOUN'), ('.', 'PUNCT')), 4534), ((('Polizei', 'NOUN'), ('angerufen', 'VERB')), 4486), ((('war', 'AUX'), ('es', 'PRON')), 4351), ((('mit', 'ADP'), ('dem', 'DET')), 3805), ((('ist', 'AUX'), ('dann', 'ADV')), 3756), ((('und', 'CCONJ'), ('ja', 'INTJ')), 3695), ((('das', 'DET'), ('Auto', 'NOUN')), 3487), ((('Auto', 'NOUN'), ('reingefahren', 'VERB')), 3406), ((('gerufen', 'VERB'), ('.', 'PUNCT')), 3353), ((('zweite', 'ADJ'), ('Auto', 'NOUN')), 3191), ((('Mann', 'NOUN'), ('im', 'ADP')), 3186), ((('in', 'ADP'), ('das', 'DET')), 3098), ((('an', 'ADV'), ('.', 'PUNCT')), 3087), ((('und', 'CCONJ'), ('das', 'DET')), 3056)]\n",
      "[((('die', 'DET'), ('Polizei', 'NOUN')), 2860), ((('mit', 'ADP'), ('dem', 'DET')), 1666), ((('dem', 'DET'), ('Ball', 'NOUN')), 1124), ((('das', 'PRON'), ('war', 'AUX')), 1078), ((('Mann', 'NOUN'), ('mit', 'ADP')), 1069), ((('das', 'DET'), ('Auto', 'NOUN')), 1016), ((('zu', 'ADP'), ('den', 'DET')), 823), ((('Der', 'DET'), ('Mann', 'NOUN')), 787), ((('und', 'CCONJ'), ('der', 'DET')), 785), ((('und', 'CCONJ'), ('dann', 'ADV')), 782), ((('der', 'DET'), ('Frau', 'NOUN')), 777), ((('ich', 'PRON'), ('nicht', 'INTJ')), 722), ((('Polizei', 'NOUN'), ('gerufen', 'VERB')), 698), ((('auf', 'ADP'), ('Wiedersehen', 'NOUN')), 672), ((('und', 'CCONJ'), ('ja', 'INTJ')), 648), ((('der', 'DET'), ('Mann', 'NOUN')), 642), ((('dem', 'DET'), ('vorderen', 'ADJ')), 636), ((('ja', 'INTJ'), ('das', 'PRON')), 634), ((('Auto', 'NOUN'), ('dahinter', 'ADV')), 628), ((('und', 'CCONJ'), ('ist', 'AUX')), 624)]\n",
      "[((('and', 'CCONJ'), ('the', 'DET')), 11293), ((('the', 'DET'), ('car', 'NOUN')), 9298), ((('of', 'ADP'), ('the', 'DET')), 9020), ((('the', 'DET'), ('police', 'NOUN')), 8796), ((('called', 'VERB'), ('911', 'NOUN')), 8401), ((('and', 'CCONJ'), ('then', 'ADV')), 7913), ((('called', 'VERB'), ('the', 'DET')), 6325), ((('the', 'DET'), ('blue', 'ADJ')), 5963), ((('blue', 'ADJ'), ('car', 'NOUN')), 5637), ((('the', 'DET'), ('first', 'ADJ')), 5368), ((('car', 'NOUN'), ('behind', 'ADP')), 5297), ((('in', 'ADP'), ('the', 'DET')), 5209), ((('to', 'ADP'), ('the', 'DET')), 4871), ((('the', 'DET'), ('drivers', 'NOUN')), 4604), ((('that', 'DET'), (\"'s\", 'AUX')), 4278), ((('hit', 'VERB'), ('the', 'DET')), 4125), ((('the', 'DET'), ('dog', 'NOUN')), 4105), ((('911', 'NOUN'), ('.', 'PUNCT')), 4027), ((('into', 'ADP'), ('the', 'DET')), 3689), ((('first', 'ADJ'), ('car', 'NOUN')), 3629)]\n",
      "[((('the', 'DET'), ('car', 'NOUN')), 511), ((('the', 'DET'), ('other', 'ADJ')), 261), ((('of', 'ADP'), ('the', 'DET')), 242), ((('when', 'SCONJ'), ('the', 'DET')), 234), ((('and', 'CCONJ'), ('the', 'DET')), 232), ((('car', 'NOUN'), ('behind', 'ADP')), 221), ((('the', 'DET'), ('first', 'ADJ')), 209), ((('other', 'ADJ'), ('one', 'PRON')), 168), ((('rear-ended', 'VERB'), ('him', 'PROPN')), 158), ((('that', 'DET'), (\"'s\", 'AUX')), 152), ((('into', 'ADP'), ('it', 'PROPN')), 148), ((('in', 'ADP'), ('front', 'ADP')), 138), ((('then', 'ADV'), ('went', 'VERB')), 128), ((('the', 'DET'), ('ball', 'NOUN')), 128), ((('behind', 'ADP'), ('it', 'PROPN')), 124), ((('first', 'ADJ'), ('car', 'NOUN')), 121), ((('and', 'CCONJ'), ('they', 'PROPN')), 113), ((('car', 'NOUN'), ('in', 'ADP')), 110), ((('hit', 'VERB'), ('it', 'PROPN')), 109), ((('hit', 'VERB'), ('the', 'DET')), 108)]\n"
     ]
    }
   ],
   "source": [
    "demonobiposfd = nltk.FreqDist(DE_mono_bigram_pos)\n",
    "enbibiposfd = nltk.FreqDist(EN_bi_bigram_pos)\n",
    "enmonobiposfd = nltk.FreqDist(EN_mono_bigram_pos)\n",
    "biposfds = [debibiposfd, demonobiposfd, enbibiposfd, enmonobiposfd]\n",
    "for x in biposfds:\n",
    "    print(x.most_common(20))\n",
    "        \n",
    "## Order:\n",
    "# German Bilingual\n",
    "# German Monolingual\n",
    "# English Bilingual\n",
    "# English Monolingual"
   ]
  },
  {
   "cell_type": "code",
   "execution_count": 136,
   "id": "26950a3f",
   "metadata": {},
   "outputs": [
    {
     "name": "stdout",
     "output_type": "stream",
     "text": [
      "[(('DET', 'NOUN'), 119603), (('NOUN', 'VERB'), 65140), (('ADJ', 'NOUN'), 48252), (('DET', 'ADJ'), 41112), (('ADP', 'DET'), 40121), (('VERB', 'PUNCT'), 32132), (('ADV', 'VERB'), 31215), (('AUX', 'ADV'), 29194), (('PRON', 'ADV'), 26520), (('ADV', 'ADV'), 25606), (('CCONJ', 'DET'), 25210), (('PRON', 'VERB'), 23776), (('PRON', 'AUX'), 23713), (('CCONJ', 'PRON'), 23328), (('ADV', 'DET'), 23170), (('AUX', 'PRON'), 22636), (('NOUN', 'AUX'), 19400), (('VERB', 'AUX'), 19363), (('NOUN', 'ADP'), 19271), (('NOUN', 'ADV'), 18892)]\n",
      "[(('DET', 'NOUN'), 19281), (('ADP', 'DET'), 9688), (('NOUN', 'VERB'), 9018), (('ADJ', 'NOUN'), 6068), (('DET', 'ADJ'), 5763), (('VERB', 'PUNCT'), 5635), (('PRON', 'AUX'), 5134), (('ADV', 'ADV'), 4891), (('ADV', 'VERB'), 4676), (('NOUN', 'ADP'), 4444), (('AUX', 'PRON'), 4243), (('PRON', 'ADV'), 4132), (('PRON', 'VERB'), 3572), (('CCONJ', 'DET'), 3558), (('NOUN', 'ADV'), 3389), (('VERB', 'AUX'), 3367), (('CCONJ', 'PRON'), 3301), (('VERB', 'PRON'), 3237), (('ADV', 'AUX'), 3102), (('NOUN', 'PUNCT'), 2884)]\n",
      "[(('DET', 'NOUN'), 93179), (('ADP', 'DET'), 49833), (('VERB', 'DET'), 37480), (('VERB', 'ADP'), 36547), (('NOUN', 'ADP'), 33010), (('DET', 'ADJ'), 30671), (('ADJ', 'NOUN'), 29950), (('NOUN', 'VERB'), 27154), (('PROPN', 'VERB'), 26734), (('NOUN', 'PUNCT'), 24989), (('PART', 'VERB'), 21378), (('CCONJ', 'DET'), 19647), (('AUX', 'VERB'), 18568), (('VERB', 'PROPN'), 17112), (('PROPN', 'AUX'), 16132), (('ADP', 'PROPN'), 15425), (('VERB', 'NOUN'), 13782), (('ADV', 'VERB'), 13373), (('ADP', 'ADP'), 12841), (('CCONJ', 'VERB'), 11380)]\n",
      "[(('DET', 'NOUN'), 2139), (('ADP', 'DET'), 825), (('VERB', 'DET'), 793), (('VERB', 'ADP'), 740), (('NOUN', 'ADP'), 647), (('DET', 'ADJ'), 615), (('PART', 'VERB'), 555), (('CCONJ', 'VERB'), 529), (('PROPN', 'VERB'), 439), (('ADP', 'PROPN'), 418), (('ADJ', 'NOUN'), 412), (('ADP', 'ADP'), 400), (('NOUN', 'VERB'), 348), (('ADV', 'VERB'), 340), (('SCONJ', 'DET'), 305), (('PRON', 'AUX'), 289), (('ADJ', 'PRON'), 280), (('VERB', 'PROPN'), 280), (('NOUN', 'AUX'), 280), (('AUX', 'VERB'), 279)]\n"
     ]
    }
   ],
   "source": [
    "demonobipostagfd = nltk.FreqDist(demono_bipostags)\n",
    "enbibipostagfd = nltk.FreqDist(enbi_bipostags)\n",
    "enmonobipostagfd = nltk.FreqDist(enmono_bipostags)\n",
    "bipostagfds = [debibipostagfd, demonobipostagfd, enbibipostagfd, enmonobipostagfd]\n",
    "for x in bipostagfds:\n",
    "    print(x.most_common(20))\n",
    "    \n",
    "## Order:\n",
    "# German Bilingual\n",
    "# German Monolingual\n",
    "# English Bilingual\n",
    "# English Monolingual"
   ]
  },
  {
   "cell_type": "code",
   "execution_count": 164,
   "id": "b4afff1b",
   "metadata": {},
   "outputs": [
    {
     "name": "stdout",
     "output_type": "stream",
     "text": [
      "Noun, Verb\n",
      "0.35290930761729333\n",
      "0.3193342776203966\n",
      "0.19764318831929775\n",
      "0.1419828641370869\n",
      "Adjective, Noun\n",
      "0.5896470818261804\n",
      "0.46155016353540734\n",
      "0.7200904020003847\n",
      "0.4186991869918699\n",
      "Adjective, Adjective\n",
      "0.02189852380486851\n",
      "0.03034912907887731\n",
      "0.0031256010771302176\n",
      "0.0\n",
      "Adverb, Verb\n",
      "0.20999838540405263\n",
      "0.19375155382447998\n",
      "0.26983454398708634\n",
      "0.37158469945355194\n"
     ]
    }
   ],
   "source": [
    "debibipostagcfd = nltk.ConditionalFreqDist(debi_bipostags)\n",
    "demonobipostagcfd = nltk.ConditionalFreqDist(demono_bipostags)\n",
    "enbibipostagcfd = nltk.ConditionalFreqDist(enbi_bipostags)\n",
    "enmonobipostagcfd = nltk.ConditionalFreqDist(enmono_bipostags)\n",
    "bipostagcfds = [debibipostagcfd, demonobipostagcfd, enbibipostagcfd, enmonobipostagcfd]\n",
    "\n",
    "print('Noun, Verb')\n",
    "for x in bipostagcfds:\n",
    "    print(x['NOUN'].freq('VERB'))\n",
    "print('Adjective, Noun')\n",
    "for x in bipostagcfds:\n",
    "    print(x['ADJ'].freq('NOUN'))\n",
    "print('Adjective, Adjective')\n",
    "for x in bipostagcfds:\n",
    "    print(x['ADJ'].freq('ADJ'))\n",
    "print('Adverb, Verb')\n",
    "for x in bipostagcfds:\n",
    "    print(x['ADV'].freq('VERB'))\n",
    "\n",
    "## Order:\n",
    "# German Bilingual\n",
    "# German Monolingual\n",
    "# English Bilingual\n",
    "# English Monolingual"
   ]
  },
  {
   "cell_type": "code",
   "execution_count": 166,
   "id": "ca7344ac",
   "metadata": {},
   "outputs": [
    {
     "name": "stdout",
     "output_type": "stream",
     "text": [
      "Adposition, Noun\n",
      "0.14500856373868362\n",
      "0.15211870070846142\n",
      "0.04937817427470697\n",
      "0.0\n",
      "Adposition, Determiner\n",
      "0.4908367996085148\n",
      "0.6475070177783718\n",
      "0.5092430791869769\n",
      "0.44450431034482757\n",
      "Verb, Noun\n",
      "0.0\n",
      "0.003353317752260949\n",
      "0.09656873392798335\n",
      "0.06950207468879668\n",
      "Verb, Determiner\n",
      "0.13888797957313082\n",
      "0.08982826948480846\n",
      "0.262617627892963\n",
      "0.27420470262793917\n"
     ]
    }
   ],
   "source": [
    "print('Adposition, Noun')\n",
    "for x in bipostagcfds:\n",
    "    print(x['ADP'].freq('NOUN'))\n",
    "print('Adposition, Determiner')\n",
    "for x in bipostagcfds:\n",
    "    print(x['ADP'].freq('DET'))\n",
    "print('Verb, Noun')\n",
    "for x in bipostagcfds:\n",
    "    print(x['VERB'].freq('NOUN'))\n",
    "print('Verb, Determiner')\n",
    "for x in bipostagcfds:\n",
    "    print(x['VERB'].freq('DET'))\n",
    "\n",
    "## Order:\n",
    "# German Bilingual\n",
    "# German Monolingual\n",
    "# English Bilingual\n",
    "# English Monolingual"
   ]
  },
  {
   "cell_type": "markdown",
   "id": "7b173bd2",
   "metadata": {},
   "source": [
    "#### Again, let's pause and look what's happening\n",
    "This is a lot of data to take in, but me break down what's we're seeing with these sets of bigrams. Of course, the most popular token bigrams are topical things like 'Die Polizei' (english: 'the police') or 'dem Ball' (english: 'the ball') or 'car behind' but there are also more function word combinations like 'and the' or 'of the' or 'mit dem' (english: 'with the') or 'und der' (english: 'and the'). A lot of these make some sense. \n",
    "\n",
    "As for the most popular being 'die Polizei' in German, I have some guesses. Firstly, as I stated before, 'the' in German can take many forms, so while it is very popular in english to have 'and the', in German this could be 'und die/der/das/dem/den ect' which 'waters down' so-to-say the frequency of the 'the' token in German. Because these were made-up police reports, however, 'die Polizei' (nom.) was likely used in the nominative case more frequently as it was the police doing something in these scenerios, so it doesn't suffer from this 'watering down' issue other determiners may face \n",
    "- like 'Ball' which may have been used in the accusative or dative case acting as either the patient or theme in a lot of these sentences\n",
    "\n",
    "What is interesting, is that it is looking like the Bilinguals overall used more content bigrams more frequently/consistenly as opposed to stopwords, which may make sense as grammatical rules/stopwords change a lot more in different languages, have different meanings to speakers, ect where content words have more 'reliable' and 'consistent' translations \n",
    "- ie 'Apfel' and 'Apple' are going to mean the same thing to both speakers, but where English has one words: 'because', Germans have more like 'weil', 'da', 'dann', where 'dann' can be used like 'because' but it can also be used like 'then' (as in the time indicator: x happened and *then* x happened)\n",
    "\n",
    "As for the part of speech, it's harder to see bilingual/monolingual similarities with the naked eye, which is why I implinted the condtional frequency distribution to get normalized results for targeted conditions.\n",
    "- Condition 1: Noun, Verb\n",
    "    - This is the one of the most basic ways to structure a sentence in both English and German (although German does have some more flexible word order), so I was using this to test if maybe bilingual speakers would be influenced by their other languages and use more basic or more free grammatical structures\n",
    "    - Result: The numbers inside each language are pretty similar, but each bilingual partition has more use of this structure than it's monolingual counterpart. Again, and I can never emphasize this enough, both monolingual sections are smaller than their bilingual counterparts and with bigrams, this problem only gets enhanced as it's exponential growth. Since this is a very common sentence formation, it would make sense that in larger texts this takes up more of the bigrams (similar to the TTR caveat)\n",
    "- Condition 2: Adjective, Noun\n",
    "    - This was mostly just to compare with the next test. \n",
    "- Condition 3: Adjective, Adjective\n",
    "    - This test was to compare the use of adjectives string in sentences. I wanted to comapre it with the use of (adjectives, noun) phrases because the most common places to use an adjectives are before nouns and before adjectives. \n",
    "    - Results: It does seem that the groups that used adjectives more in front of nouns, used them less in front of other adjectives, just meaning that in general these groups used less multi-adjective phrases. Although there does appear to be a potential statistical difference between (adjective, noun) usage for bilingual and monolingual speakers, that is certainly not present in the (adjective, adjective) data.\n",
    "- Condition 4: Adverb, Verb\n",
    "    - \n",
    "- Condition 5: Adposition, Noun\n",
    "    - \n",
    "- Condition 6: Adposition, Determiner\n",
    "    - \n",
    "- Condition 7: Verb, Determiner\n",
    "    - \n",
    "\n",
    "Note to self: implement statistic testing into the ones i believe to have stronger correlation\n"
   ]
  },
  {
   "cell_type": "code",
   "execution_count": null,
   "id": "18f9ef27",
   "metadata": {},
   "outputs": [],
   "source": []
  },
  {
   "cell_type": "code",
   "execution_count": null,
   "id": "5305c906",
   "metadata": {},
   "outputs": [],
   "source": []
  }
 ],
 "metadata": {
  "kernelspec": {
   "display_name": "base",
   "language": "python",
   "name": "python3"
  },
  "language_info": {
   "codemirror_mode": {
    "name": "ipython",
    "version": 3
   },
   "file_extension": ".py",
   "mimetype": "text/x-python",
   "name": "python",
   "nbconvert_exporter": "python",
   "pygments_lexer": "ipython3",
   "version": "3.12.2"
  }
 },
 "nbformat": 4,
 "nbformat_minor": 5
}
