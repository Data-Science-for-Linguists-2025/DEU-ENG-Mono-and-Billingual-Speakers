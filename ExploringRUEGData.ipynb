{
 "cells": [
  {
   "cell_type": "markdown",
   "id": "a745238f",
   "metadata": {},
   "source": [
    "# Exploring the RUEG Corpus\n",
    "Goals\n",
    "\n",
    "## Table of Contents\n",
    "1. [Unigram Exploration]()\n",
    "\n",
    "    A. [Loading in the Data]()\n",
    "2. [Taking in Some Basic Stats]()\n",
    "3. [Exloring with the POS]()"
   ]
  },
  {
   "cell_type": "markdown",
   "id": "cd7a501e",
   "metadata": {},
   "source": [
    "## Unigram Exploration"
   ]
  },
  {
   "cell_type": "markdown",
   "id": "dafb2ac4",
   "metadata": {},
   "source": [
    "### Loading in the Data\n",
    "Load in the pickle files created in [this](https://github.com/Data-Science-for-Linguists-2025/DEU-ENG-Mono-and-Billingual-Speakers/blob/main/LoadingRUEGData.ipynb) jupyter notebook, and poking around a bit"
   ]
  },
  {
   "cell_type": "code",
   "execution_count": 90,
   "id": "2f29328c",
   "metadata": {},
   "outputs": [
    {
     "name": "stdout",
     "output_type": "stream",
     "text": [
      "Pretty printing has been turned ON\n"
     ]
    }
   ],
   "source": [
    "%pprint"
   ]
  },
  {
   "cell_type": "code",
   "execution_count": 91,
   "id": "8b9e98fc",
   "metadata": {},
   "outputs": [],
   "source": [
    "import pickle\n",
    "import nltk\n",
    "import sklearn\n",
    "import pandas as pd\n",
    "import numpy as np\n",
    "import random\n",
    "import matplotlib.pyplot as plt\n",
    "import seaborn as sns "
   ]
  },
  {
   "cell_type": "code",
   "execution_count": 92,
   "id": "90bc4349",
   "metadata": {},
   "outputs": [],
   "source": [
    "with open ('debi_pos.pkl', 'rb') as file:\n",
    "    DE_bi_pos = pickle.load(file)\n",
    "with open ('demono_pos.pkl', 'rb') as file:\n",
    "    DE_mono_pos = pickle.load(file)\n",
    "with open ('enbi_pos.pkl', 'rb') as file:\n",
    "    EN_bi_pos = pickle.load(file)\n",
    "with open ('enmono_pos.pkl', 'rb') as file:\n",
    "    EN_mono_pos = pickle.load(file)"
   ]
  },
  {
   "cell_type": "code",
   "execution_count": 93,
   "id": "64669b26",
   "metadata": {},
   "outputs": [],
   "source": [
    "with open ('debi_text.pkl', 'rb') as file:\n",
    "    DE_bi_tokens = pickle.load(file)\n",
    "with open ('demono_text.pkl', 'rb') as file:\n",
    "    DE_mono_tokens = pickle.load(file)\n",
    "with open ('enbi_text.pkl', 'rb') as file:\n",
    "    EN_bi_tokens = pickle.load(file)\n",
    "with open ('enmono_text.pkl', 'rb') as file:\n",
    "    EN_mono_tokens = pickle.load(file)"
   ]
  },
  {
   "cell_type": "code",
   "execution_count": 94,
   "id": "0302e4ac",
   "metadata": {},
   "outputs": [
    {
     "name": "stdout",
     "output_type": "stream",
     "text": [
      "4773\n",
      "1761\n",
      "4385\n",
      "621\n",
      "586\n",
      "256\n",
      "444\n",
      "64\n"
     ]
    }
   ],
   "source": [
    "print(len(DE_bi_pos))\n",
    "print(len(DE_mono_pos))\n",
    "print(len(EN_bi_pos))\n",
    "print(len(EN_mono_pos))\n",
    "\n",
    "print(len(DE_bi_tokens))\n",
    "print(len(DE_mono_tokens))\n",
    "print(len(EN_bi_tokens))\n",
    "print(len(EN_mono_tokens))\n",
    "\n",
    "## they are the same- good!"
   ]
  },
  {
   "cell_type": "code",
   "execution_count": 95,
   "id": "0348e849",
   "metadata": {},
   "outputs": [
    {
     "data": {
      "text/plain": [
       "[('und', 'CCONJ'),\n",
       " ('die', 'PRON'),\n",
       " ('haben', 'AUX'),\n",
       " ('die', 'DET'),\n",
       " ('Polizei', 'NOUN'),\n",
       " ('äh', 'INTJ'),\n",
       " ('angerufen', 'VERB'),\n",
       " ('DEbi24FT', 'PROPN'),\n",
       " ('und', 'CCONJ'),\n",
       " ('ist', 'AUX')]"
      ]
     },
     "execution_count": 95,
     "metadata": {},
     "output_type": "execute_result"
    }
   ],
   "source": [
    "DE_bi_pos[:10]"
   ]
  },
  {
   "cell_type": "code",
   "execution_count": 96,
   "id": "57c800a8",
   "metadata": {},
   "outputs": [
    {
     "data": {
      "text/plain": [
       "[[('und', 'CCONJ'),\n",
       "  ('die', 'PRON'),\n",
       "  ('haben', 'AUX'),\n",
       "  ('die', 'DET'),\n",
       "  ('Polizei', 'NOUN'),\n",
       "  ('äh', 'INTJ'),\n",
       "  ('angerufen', 'VERB')],\n",
       " [('DEbi24FT', 'PROPN')],\n",
       " [('und', 'CCONJ'),\n",
       "  ('ist', 'AUX'),\n",
       "  ('ins', 'ADP'),\n",
       "  ('erste', 'ADJ'),\n",
       "  ('Auto', 'NOUN'),\n",
       "  ('reingefahren', 'VERB')],\n",
       " [('und', 'CCONJ'),\n",
       "  ('das', 'DET'),\n",
       "  ('vordere', 'ADJ'),\n",
       "  ('Auto', 'NOUN'),\n",
       "  ('muss', 'AUX'),\n",
       "  ('wegen', 'ADP'),\n",
       "  ('des', 'DET'),\n",
       "  ('rollenden', 'ADJ'),\n",
       "  ('Balls', 'NOUN'),\n",
       "  ('und', 'CCONJ'),\n",
       "  ('dem', 'DET'),\n",
       "  ('Hund', 'NOUN'),\n",
       "  ('so', 'ADV'),\n",
       "  ('stark', 'ADJ'),\n",
       "  ('bremsen', 'VERB'),\n",
       "  (',', 'PUNCT'),\n",
       "  ('dass', 'CCONJ'),\n",
       "  ('das', 'DET'),\n",
       "  ('hintere', 'ADJ'),\n",
       "  ('Auto', 'NOUN'),\n",
       "  ('auffährt', 'VERB'),\n",
       "  ('und', 'CCONJ'),\n",
       "  ('einen', 'DET'),\n",
       "  ('Unfall', 'NOUN'),\n",
       "  ('verursacht', 'VERB'),\n",
       "  ('.', 'PUNCT')],\n",
       " [('Der', 'DET'),\n",
       "  ('Man', 'NOUN'),\n",
       "  ('rief', 'VERB'),\n",
       "  ('die', 'DET'),\n",
       "  ('Polizei', 'NOUN'),\n",
       "  ('an', 'ADV'),\n",
       "  ('.', 'PUNCT')],\n",
       " [('Ich', 'PRON'),\n",
       "  ('wurde', 'AUX'),\n",
       "  ('nun', 'ADV'),\n",
       "  ('als', 'SCONJ'),\n",
       "  ('Zeuge', 'NOUN'),\n",
       "  ('von', 'ADP'),\n",
       "  ('der', 'DET'),\n",
       "  ('Polizei', 'NOUN'),\n",
       "  ('beauftragt', 'VERB'),\n",
       "  (',', 'PROPN'),\n",
       "  ('einen', 'DET'),\n",
       "  ('Bericht', 'NOUN'),\n",
       "  ('über', 'NOUN'),\n",
       "  ('diesen', 'DET'),\n",
       "  ('Unfall', 'NOUN'),\n",
       "  ('zu', 'PART'),\n",
       "  ('schreiben', 'VERB'),\n",
       "  ('(', 'PROPN'),\n",
       "  ('s.o.', 'PROPN'),\n",
       "  (')', 'PROPN'),\n",
       "  ('.', 'PUNCT')],\n",
       " [('vielen', 'DET'), ('Dank', 'NOUN'), ('tschüß', 'INTJ')],\n",
       " [('bis', 'ADP'), ('bald', 'ADV'), ('tschüss', 'INTJ')],\n",
       " [('ja', 'ADV'), ('krass', 'ADJ'), ('oder', 'CCONJ')],\n",
       " [('und', 'CCONJ'),\n",
       "  ('irgendein', 'DET'),\n",
       "  ('Hund', 'NOUN'),\n",
       "  ('darauf', 'ADV'),\n",
       "  ('reagiert', 'VERB'),\n",
       "  ('hat', 'AUX'),\n",
       "  ('und', 'CCONJ'),\n",
       "  ('bellen', 'VERB'),\n",
       "  ('musste', 'AUX')]]"
      ]
     },
     "execution_count": 96,
     "metadata": {},
     "output_type": "execute_result"
    }
   ],
   "source": [
    "DE_bi_tokens[:10]"
   ]
  },
  {
   "cell_type": "markdown",
   "id": "08805183",
   "metadata": {},
   "source": [
    "So, unfortunately, after investigating some POS tags, there are some non-UPOS tags included in the German sets. This is likely from some kind of incorrect parsing from the stanza parsing, or incorrectly marked in the actual text (it was automatic POS tagging, not by hand with exMaralda)\n",
    "\n",
    "For out purposes, I decided to just exlude these instances from the data here. They will not be helpful and there really isn't another solution here."
   ]
  },
  {
   "cell_type": "code",
   "execution_count": 97,
   "id": "a7572939",
   "metadata": {},
   "outputs": [
    {
     "name": "stdout",
     "output_type": "stream",
     "text": [
      "[('NOUN', 702), ('DET', 618), ('VERB', 558), ('ADV', 550), ('PRON', 448), ('AUX', 354), ('CCONJ', 341), ('ADP', 292), ('ADJ', 291), ('PUNCT', 251), ('INTJ', 175), ('PROPN', 51), ('SYM', 29), ('PART', 23), ('NUM', 22), ('SCONJ', 7)]\n"
     ]
    }
   ],
   "source": [
    "DE_bi_pos = [x for x in DE_bi_pos if x[1] not in ['NE', '_', '$.', 'X']]\n",
    "debi_postags = [x[1] for x in DE_bi_pos]\n",
    "debitagfd = nltk.FreqDist(debi_postags)\n",
    "print(debitagfd.most_common())"
   ]
  },
  {
   "cell_type": "code",
   "execution_count": 98,
   "id": "75302e52",
   "metadata": {},
   "outputs": [
    {
     "name": "stdout",
     "output_type": "stream",
     "text": [
      "[('NOUN', 251), ('DET', 210), ('ADV', 207), ('VERB', 189), ('PRON', 176), ('AUX', 127), ('CCONJ', 119), ('ADP', 115), ('ADJ', 113), ('PUNCT', 100), ('INTJ', 92), ('SYM', 20), ('PROPN', 17), ('NUM', 8), ('PART', 7), ('SCONJ', 3)]\n"
     ]
    }
   ],
   "source": [
    "DE_mono_pos = [x for x in DE_mono_pos if x[1] not in ['PPER', 'VAFIN', 'KON', 'PIAT', 'NN']]\n",
    "demono_postags = [x[1] for x in DE_mono_pos]\n",
    "demonotagfd = nltk.FreqDist(demono_postags)\n",
    "print(demonotagfd.most_common())"
   ]
  },
  {
   "cell_type": "code",
   "execution_count": 99,
   "id": "9c86e771",
   "metadata": {},
   "outputs": [
    {
     "name": "stdout",
     "output_type": "stream",
     "text": [
      "[('NOUN', 685), ('VERB', 675), ('DET', 673), ('ADP', 420), ('PROPN', 330), ('CCONJ', 268), ('AUX', 251), ('ADV', 234), ('ADJ', 212), ('PUNCT', 200), ('PART', 119), ('SCONJ', 112), ('PRON', 91), ('INTJ', 75), ('NUM', 36)]\n"
     ]
    }
   ],
   "source": [
    "EN_bi_pos = [x for x in EN_bi_pos if x[1] != '_']\n",
    "enbi_postags = [x[1] for x in EN_bi_pos]\n",
    "enbitagfd = nltk.FreqDist(enbi_postags)\n",
    "print(enbitagfd.most_common())"
   ]
  },
  {
   "cell_type": "code",
   "execution_count": 100,
   "id": "267e0538",
   "metadata": {},
   "outputs": [
    {
     "name": "stdout",
     "output_type": "stream",
     "text": [
      "[('DET', 102), ('VERB', 99), ('NOUN', 92), ('ADP', 61), ('CCONJ', 44), ('PROPN', 43), ('ADJ', 34), ('AUX', 33), ('ADV', 31), ('PUNCT', 21), ('PART', 19), ('PRON', 17), ('SCONJ', 17), ('INTJ', 7), ('NUM', 1)]\n"
     ]
    },
    {
     "data": {
      "text/plain": [
       "15"
      ]
     },
     "execution_count": 100,
     "metadata": {},
     "output_type": "execute_result"
    }
   ],
   "source": [
    "enmono_postags = [x[1] for x in EN_mono_pos]\n",
    "enmonotagfd = nltk.FreqDist(enmono_postags)\n",
    "print(enmonotagfd.most_common())\n",
    "len(set(enmono_postags))"
   ]
  },
  {
   "cell_type": "markdown",
   "id": "af272621",
   "metadata": {},
   "source": [
    "These are a little harder to compare, because we know that the sizes of the texts are pretty different. Another thing to consider is similar to the issue with TTR (it is hard to compare Type to Token Ratio when text sizes are vastly different becasue stop words will have a larger proportion in longer text). If these text sizes are so different (mostly considering the English Monolingual) it may be harder to compare. I will do the best I can, but this is crucial to keep in mind whenever comparing the four partitions.\n",
    "\n",
    "That being said, It's still fair to say that nouns, determinersa and verbs are in the top among all sets. What is interesting is the greater use of adverbs in German speakers comapred to more use of adpositions in English. At this point, it is hard to see the similarites of Bilingual speakers in comaprison to monolingual speakers, and minute differences may be difficult to see with the human eye and will require some kind of machine learning."
   ]
  },
  {
   "cell_type": "code",
   "execution_count": 101,
   "id": "c63a3aff",
   "metadata": {},
   "outputs": [
    {
     "name": "stdout",
     "output_type": "stream",
     "text": [
      "[(('und', 'CCONJ'), 221), (('.', 'PUNCT'), 175), (('die', 'DET'), 155), (('der', 'DET'), 120), (('Polizei', 'NOUN'), 118), (('Auto', 'NOUN'), 94), (('dann', 'ADV'), 81), (('ist', 'AUX'), 75), (('äh', 'INTJ'), 60), (('das', 'DET'), 60), (('es', 'PRON'), 59), ((',', 'PUNCT'), 54), (('hat', 'AUX'), 54), (('ich', 'PRON'), 52), (('dem', 'DET'), 49), (('ja', 'INTJ'), 47), (('haben', 'AUX'), 44), (('den', 'DET'), 43), (('war', 'AUX'), 41), (('ein', 'DET'), 38)]\n"
     ]
    }
   ],
   "source": [
    "debiposfd = nltk.FreqDist(DE_bi_pos)\n",
    "print(debiposfd.most_common(20))"
   ]
  },
  {
   "cell_type": "code",
   "execution_count": 102,
   "id": "37835eeb",
   "metadata": {},
   "outputs": [
    {
     "name": "stdout",
     "output_type": "stream",
     "text": [
      "[(('und', 'CCONJ'), 76), (('.', 'PUNCT'), 66), (('die', 'DET'), 37), (('der', 'DET'), 35), (('ist', 'AUX'), 31), (('dann', 'ADV'), 29), (('dem', 'DET'), 29), (('den', 'DET'), 27), (('ja', 'INTJ'), 26), (('Auto', 'NOUN'), 25), (('ich', 'PRON'), 25), ((',', 'PUNCT'), 24), (('war', 'AUX'), 23), (('das', 'PRON'), 23), (('mit', 'ADP'), 22), (('Polizei', 'NOUN'), 19), (('nicht', 'INTJ'), 19), (('es', 'PRON'), 18), (('auf', 'ADP'), 18), (('das', 'DET'), 17)]\n"
     ]
    }
   ],
   "source": [
    "demonoposfd = nltk.FreqDist(DE_mono_pos)\n",
    "print(demonoposfd.most_common(20))"
   ]
  },
  {
   "cell_type": "code",
   "execution_count": 103,
   "id": "fa0a984e",
   "metadata": {},
   "outputs": [
    {
     "name": "stdout",
     "output_type": "stream",
     "text": [
      "[(('the', 'DET'), 428), (('and', 'CCONJ'), 220), (('.', 'PUNCT'), 158), (('car', 'NOUN'), 144), (('to', 'PART'), 89), (('was', 'AUX'), 87), (('of', 'ADP'), 83), (('it', 'PROPN'), 78), (('called', 'VERB'), 72), (('they', 'PROPN'), 51), (('in', 'ADP'), 50), (('then', 'ADV'), 50), (('him', 'PROPN'), 50), (('I', 'PROPN'), 45), (('911', 'NOUN'), 45), (('behind', 'ADP'), 45), (('police', 'NOUN'), 44), (('hit', 'VERB'), 40), (('to', 'ADP'), 40), (('a', 'DET'), 39)]\n"
     ]
    }
   ],
   "source": [
    "enbiposfd = nltk.FreqDist(EN_bi_pos)\n",
    "print(enbiposfd.most_common(20))"
   ]
  },
  {
   "cell_type": "code",
   "execution_count": 104,
   "id": "6689b43f",
   "metadata": {},
   "outputs": [
    {
     "name": "stdout",
     "output_type": "stream",
     "text": [
      "[(('the', 'DET'), 62), (('and', 'CCONJ'), 39), (('car', 'NOUN'), 35), (('.', 'PUNCT'), 19), (('it', 'PROPN'), 17), (('was', 'AUX'), 16), (('to', 'PART'), 13), (('other', 'ADJ'), 11), (('one', 'PRON'), 9), (('of', 'ADP'), 9), (('rear-ended', 'VERB'), 9), (('him', 'PROPN'), 9), (('hit', 'VERB'), 9), (('into', 'ADP'), 8), (('then', 'ADV'), 8), (('they', 'PROPN'), 8), (('behind', 'ADP'), 8), (('stopped', 'VERB'), 7), (('that', 'DET'), 7), (('in', 'ADP'), 7)]\n"
     ]
    }
   ],
   "source": [
    "enmonoposfd = nltk.FreqDist(EN_mono_pos)\n",
    "print(enmonoposfd.most_common(20))"
   ]
  },
  {
   "cell_type": "markdown",
   "id": "83235af7",
   "metadata": {},
   "source": [
    "#### What are we seeing here\n",
    "Let me translate what exactly is happening here with the langauges. First, it's important to recognize that some of these recording are coming from a situation in which the participants were asked to describe a video they saw about a car crash as if they had witnessed the car crash which is why words like 'Polizei' (English: Police) and 'Auto' and 'car' are common.\n",
    "\n",
    "Secondly, when looking at the distribution of stop words, it is a little different. For one, the most common word in both German texts is 'und' (English: and) while the most common word in English is 'the'. This is likely because German has several different words for 'the' (der, die, das, den, dem, des) so the distribution is spread across these several words. The bilingual sets are pretty comparable becasue they have similar sizes, and when looking at 'und' and 'and', they have pretty similar usuage.\n",
    "\n",
    "Additionally, some of these texts are transcriptions of *spoken* audio, so the punctuation is a little tricky to analyze and not going to be of a whole lot of importance to this anyway."
   ]
  },
  {
   "cell_type": "markdown",
   "id": "8ad645cb",
   "metadata": {},
   "source": [
    "### Combing the Bilingual v Monolingual\n",
    "Let's combine the bilingual and monolingual data and just look at pos to see if that will show any greater differences."
   ]
  },
  {
   "cell_type": "code",
   "execution_count": 105,
   "id": "f490b722",
   "metadata": {},
   "outputs": [
    {
     "name": "stdout",
     "output_type": "stream",
     "text": [
      "9093\n",
      "2375\n"
     ]
    }
   ],
   "source": [
    "bilingual_uni_pos = EN_bi_pos + DE_bi_pos\n",
    "print(len(bilingual_uni_pos))\n",
    "\n",
    "monolingual_uni_pos = EN_mono_pos + DE_mono_pos\n",
    "print(len(monolingual_uni_pos))\n",
    "\n",
    "## big size discrepency to keep in mind"
   ]
  },
  {
   "cell_type": "code",
   "execution_count": 106,
   "id": "6b205d44",
   "metadata": {},
   "outputs": [
    {
     "data": {
      "text/plain": [
       "[('NOUN', 1387),\n",
       " ('DET', 1291),\n",
       " ('VERB', 1233),\n",
       " ('ADV', 784),\n",
       " ('ADP', 712),\n",
       " ('CCONJ', 609),\n",
       " ('AUX', 605),\n",
       " ('PRON', 539),\n",
       " ('ADJ', 503),\n",
       " ('PUNCT', 451),\n",
       " ('PROPN', 381),\n",
       " ('INTJ', 250),\n",
       " ('PART', 142),\n",
       " ('SCONJ', 119),\n",
       " ('NUM', 58),\n",
       " ('SYM', 29)]"
      ]
     },
     "execution_count": 106,
     "metadata": {},
     "output_type": "execute_result"
    }
   ],
   "source": [
    "biuni_postags = [x[1] for x in bilingual_uni_pos]\n",
    "biuni_postagsfd = nltk.FreqDist(biuni_postags)\n",
    "biuni_postagsfd.most_common(20)"
   ]
  },
  {
   "cell_type": "code",
   "execution_count": 107,
   "id": "e03ad6ec",
   "metadata": {},
   "outputs": [
    {
     "data": {
      "text/plain": [
       "[('NOUN', 343),\n",
       " ('DET', 312),\n",
       " ('VERB', 288),\n",
       " ('ADV', 238),\n",
       " ('PRON', 193),\n",
       " ('ADP', 176),\n",
       " ('CCONJ', 163),\n",
       " ('AUX', 160),\n",
       " ('ADJ', 147),\n",
       " ('PUNCT', 121),\n",
       " ('INTJ', 99),\n",
       " ('PROPN', 60),\n",
       " ('PART', 26),\n",
       " ('SCONJ', 20),\n",
       " ('SYM', 20),\n",
       " ('NUM', 9)]"
      ]
     },
     "execution_count": 107,
     "metadata": {},
     "output_type": "execute_result"
    }
   ],
   "source": [
    "monouni_postags = [x[1] for x in monolingual_uni_pos]\n",
    "monouni_postagsfd = nltk.FreqDist(monouni_postags)\n",
    "monouni_postagsfd.most_common(20)\n",
    "\n",
    "## with just the POS, we can compare how the first four groups are similar,\n",
    "## however pronoun usuage is clearly different and greater in the monolingual\n",
    "## speakers, but everything else is nearly identical- very cool!!"
   ]
  },
  {
   "cell_type": "code",
   "execution_count": 108,
   "id": "4a36b20b",
   "metadata": {},
   "outputs": [],
   "source": [
    "## add in machine learning for giggles because I know it's not going to be good at this stage"
   ]
  },
  {
   "cell_type": "markdown",
   "id": "bc12f157",
   "metadata": {},
   "source": [
    "## Bigram Exploration\n",
    "Unigram exploration is interesting, but it can really only do so much for us. What is (hopefully) more telling, will be the bigram and possibly trigram trends"
   ]
  },
  {
   "cell_type": "markdown",
   "id": "2e39202f",
   "metadata": {},
   "source": [
    "#### Loading in the Data + poking around"
   ]
  },
  {
   "cell_type": "code",
   "execution_count": 109,
   "id": "a99f7a00",
   "metadata": {},
   "outputs": [],
   "source": [
    "with open ('bigram_debi_pos.pkl', 'rb') as file:\n",
    "    DE_bi_bigram_pos = pickle.load(file)\n",
    "with open ('bigram_demono_pos.pkl', 'rb') as file:\n",
    "    DE_mono_bigram_pos = pickle.load(file)\n",
    "with open ('bigram_enbi_pos.pkl', 'rb') as file:\n",
    "    EN_bi_bigram_pos = pickle.load(file)\n",
    "with open ('bigram_enmono_pos.pkl', 'rb') as file:\n",
    "    EN_mono_bigram_pos = pickle.load(file)"
   ]
  },
  {
   "cell_type": "code",
   "execution_count": 110,
   "id": "6588be66",
   "metadata": {},
   "outputs": [
    {
     "data": {
      "text/plain": [
       "[(('und', 'CCONJ'), ('die', 'PRON')),\n",
       " (('die', 'PRON'), ('haben', 'AUX')),\n",
       " (('haben', 'AUX'), ('die', 'DET')),\n",
       " (('die', 'DET'), ('Polizei', 'NOUN')),\n",
       " (('Polizei', 'NOUN'), ('äh', 'INTJ')),\n",
       " (('äh', 'INTJ'), ('angerufen', 'VERB')),\n",
       " (('und', 'CCONJ'), ('ist', 'AUX')),\n",
       " (('ist', 'AUX'), ('ins', 'ADP')),\n",
       " (('ins', 'ADP'), ('erste', 'ADJ')),\n",
       " (('erste', 'ADJ'), ('Auto', 'NOUN'))]"
      ]
     },
     "execution_count": 110,
     "metadata": {},
     "output_type": "execute_result"
    }
   ],
   "source": [
    "DE_bi_bigram_pos[:10]"
   ]
  },
  {
   "cell_type": "code",
   "execution_count": 111,
   "id": "8ae20450",
   "metadata": {},
   "outputs": [
    {
     "data": {
      "text/plain": [
       "4187"
      ]
     },
     "execution_count": 111,
     "metadata": {},
     "output_type": "execute_result"
    }
   ],
   "source": [
    "len(DE_bi_bigram_pos)"
   ]
  },
  {
   "cell_type": "code",
   "execution_count": 112,
   "id": "d4674456",
   "metadata": {},
   "outputs": [],
   "source": [
    "DE_bi_bigram_pos = [(x,y) for (x,y) in DE_bi_bigram_pos if (x[1] not in ['NE', '_', '$.', 'X']) and (y[1] not in ['NE', '_', '$.', 'X'])]"
   ]
  },
  {
   "cell_type": "code",
   "execution_count": 113,
   "id": "592b66e6",
   "metadata": {},
   "outputs": [
    {
     "data": {
      "text/plain": [
       "4130"
      ]
     },
     "execution_count": 113,
     "metadata": {},
     "output_type": "execute_result"
    }
   ],
   "source": [
    "len(DE_bi_bigram_pos)\n",
    "## yay it worked!"
   ]
  },
  {
   "cell_type": "code",
   "execution_count": 114,
   "id": "1c34c34c",
   "metadata": {},
   "outputs": [],
   "source": [
    "debi_bipostags = [(x[1], y[1]) for (x, y) in DE_bi_bigram_pos]"
   ]
  },
  {
   "cell_type": "code",
   "execution_count": 115,
   "id": "cc29160a",
   "metadata": {},
   "outputs": [
    {
     "data": {
      "text/plain": [
       "[('CCONJ', 'PRON'),\n",
       " ('PRON', 'AUX'),\n",
       " ('AUX', 'DET'),\n",
       " ('DET', 'NOUN'),\n",
       " ('NOUN', 'INTJ'),\n",
       " ('INTJ', 'VERB'),\n",
       " ('CCONJ', 'AUX'),\n",
       " ('AUX', 'ADP'),\n",
       " ('ADP', 'ADJ'),\n",
       " ('ADJ', 'NOUN')]"
      ]
     },
     "execution_count": 115,
     "metadata": {},
     "output_type": "execute_result"
    }
   ],
   "source": [
    "debi_bipostags[:10]"
   ]
  },
  {
   "cell_type": "code",
   "execution_count": 116,
   "id": "52e4a255",
   "metadata": {},
   "outputs": [
    {
     "data": {
      "text/plain": [
       "[('und', 'die'),\n",
       " ('die', 'haben'),\n",
       " ('haben', 'die'),\n",
       " ('die', 'Polizei'),\n",
       " ('Polizei', 'äh'),\n",
       " ('äh', 'angerufen'),\n",
       " ('und', 'ist'),\n",
       " ('ist', 'ins'),\n",
       " ('ins', 'erste'),\n",
       " ('erste', 'Auto')]"
      ]
     },
     "execution_count": 116,
     "metadata": {},
     "output_type": "execute_result"
    }
   ],
   "source": [
    "debi_bitoks = [(x[0], y[0]) for (x, y) in DE_bi_bigram_pos]\n",
    "debi_bitoks[:10]"
   ]
  },
  {
   "cell_type": "code",
   "execution_count": 117,
   "id": "4ee891ef",
   "metadata": {},
   "outputs": [
    {
     "data": {
      "text/plain": [
       "[(('die', 'Polizei'), 108),\n",
       " (('und', 'der'), 34),\n",
       " (('Polizei', 'gerufen'), 30),\n",
       " (('der', 'Mann'), 20),\n",
       " (('Polizei', 'angerufen'), 20),\n",
       " (('und', 'dann'), 17),\n",
       " (('das', 'war'), 17),\n",
       " (('Polizei', '.'), 16),\n",
       " (('mit', 'dem'), 16),\n",
       " (('und', 'die'), 15),\n",
       " (('und', 'ja'), 15),\n",
       " (('und', 'das'), 13),\n",
       " (('ist', 'dann'), 13),\n",
       " (('war', 'es'), 13),\n",
       " (('der', 'Frau'), 12),\n",
       " (('und', 'äh'), 12),\n",
       " (('dann', 'die'), 12),\n",
       " (('gerufen', '.'), 11),\n",
       " (('das', 'Auto'), 11),\n",
       " (('blauen', 'Auto'), 11)]"
      ]
     },
     "execution_count": 117,
     "metadata": {},
     "output_type": "execute_result"
    }
   ],
   "source": [
    "debibitokfd = nltk.FreqDist(debi_bitoks)\n",
    "debibitokfd.most_common(20)"
   ]
  },
  {
   "cell_type": "code",
   "execution_count": 118,
   "id": "63573764",
   "metadata": {},
   "outputs": [
    {
     "name": "stdout",
     "output_type": "stream",
     "text": [
      "4130\n",
      "1499\n",
      "3938\n",
      "557\n"
     ]
    }
   ],
   "source": [
    "DE_mono_bigram_pos = [(x,y) for (x,y) in DE_mono_bigram_pos if (x[1] not in ['PPER', 'VAFIN', 'KON', 'PIAT', 'NN']) and (y[1] not in ['PPER', 'VAFIN', 'KON', 'PIAT', 'NN'])]\n",
    "EN_bi_bigram_pos = [(x,y) for (x,y) in EN_bi_bigram_pos if (x[1] != '_') and (y[1] != '_')]\n",
    "EN_mono_bigram_pos = [(x,y) for (x,y) in EN_mono_bigram_pos]\n",
    "## pos tags extraction\n",
    "demono_bipostags = [(x[1], y[1]) for (x, y) in DE_mono_bigram_pos]\n",
    "enbi_bipostags = [(x[1], y[1]) for (x, y) in EN_bi_bigram_pos]\n",
    "enmono_bipostags = [(x[1], y[1]) for (x, y) in EN_mono_bigram_pos]\n",
    "## text extraction\n",
    "demono_bitoks = [(x[0], y[0]) for (x, y) in DE_mono_bigram_pos]\n",
    "enbi_bitoks = [(x[0], y[0]) for (x, y) in EN_bi_bigram_pos]\n",
    "enmono_bitoks = [(x[0], y[0]) for (x, y) in EN_mono_bigram_pos]\n",
    "## printing len of each bigram pos\n",
    "print(len(DE_bi_bigram_pos))\n",
    "print(len(DE_mono_bigram_pos))\n",
    "print(len(EN_bi_bigram_pos))\n",
    "print(len(EN_mono_bigram_pos))"
   ]
  },
  {
   "cell_type": "code",
   "execution_count": 119,
   "id": "54f75636",
   "metadata": {},
   "outputs": [
    {
     "data": {
      "text/plain": [
       "[((('die', 'DET'), ('Polizei', 'NOUN')), 108),\n",
       " ((('und', 'CCONJ'), ('der', 'DET')), 31),\n",
       " ((('Polizei', 'NOUN'), ('gerufen', 'VERB')), 30),\n",
       " ((('der', 'DET'), ('Mann', 'NOUN')), 20),\n",
       " ((('Polizei', 'NOUN'), ('angerufen', 'VERB')), 20),\n",
       " ((('und', 'CCONJ'), ('dann', 'ADV')), 17),\n",
       " ((('Polizei', 'NOUN'), ('.', 'PUNCT')), 16),\n",
       " ((('mit', 'ADP'), ('dem', 'DET')), 16),\n",
       " ((('das', 'PRON'), ('war', 'AUX')), 16),\n",
       " ((('und', 'CCONJ'), ('ja', 'INTJ')), 15),\n",
       " ((('ist', 'AUX'), ('dann', 'ADV')), 13),\n",
       " ((('der', 'DET'), ('Frau', 'NOUN')), 12),\n",
       " ((('war', 'AUX'), ('es', 'PRON')), 12),\n",
       " ((('und', 'CCONJ'), ('die', 'DET')), 12),\n",
       " ((('gerufen', 'VERB'), ('.', 'PUNCT')), 11),\n",
       " ((('das', 'DET'), ('Auto', 'NOUN')), 11),\n",
       " ((('dann', 'ADV'), ('die', 'DET')), 11),\n",
       " ((('blauen', 'ADJ'), ('Auto', 'NOUN')), 11),\n",
       " ((('Auto', 'NOUN'), ('reingefahren', 'VERB')), 10),\n",
       " ((('in', 'ADP'), ('das', 'DET')), 10)]"
      ]
     },
     "execution_count": 119,
     "metadata": {},
     "output_type": "execute_result"
    }
   ],
   "source": [
    "debibiposfd = nltk.FreqDist(DE_bi_bigram_pos)\n",
    "debibiposfd.most_common(20)\n",
    "## lot's of very topical words, given the prompt the participants were given"
   ]
  },
  {
   "cell_type": "code",
   "execution_count": 120,
   "id": "485fdc36",
   "metadata": {},
   "outputs": [
    {
     "data": {
      "text/plain": [
       "[(('DET', 'NOUN'), 439),\n",
       " (('NOUN', 'VERB'), 236),\n",
       " (('ADJ', 'NOUN'), 154),\n",
       " (('ADP', 'DET'), 149),\n",
       " (('DET', 'ADJ'), 131),\n",
       " (('VERB', 'PUNCT'), 112),\n",
       " (('AUX', 'ADV'), 100),\n",
       " (('ADV', 'VERB'), 97),\n",
       " (('PRON', 'ADV'), 92),\n",
       " (('ADV', 'ADV'), 91),\n",
       " (('PRON', 'VERB'), 90),\n",
       " (('CCONJ', 'DET'), 88),\n",
       " (('ADV', 'DET'), 85),\n",
       " (('CCONJ', 'PRON'), 84),\n",
       " (('PRON', 'AUX'), 77),\n",
       " (('NOUN', 'AUX'), 75),\n",
       " (('AUX', 'PRON'), 75),\n",
       " (('VERB', 'AUX'), 74),\n",
       " (('NOUN', 'ADP'), 68),\n",
       " (('NOUN', 'ADV'), 62)]"
      ]
     },
     "execution_count": 120,
     "metadata": {},
     "output_type": "execute_result"
    }
   ],
   "source": [
    "debibipostagfd = nltk.FreqDist(debi_bipostags)\n",
    "debibipostagfd.most_common(20)\n",
    "## det noun makes a lot of sense, as does noun verb to be the most common"
   ]
  },
  {
   "cell_type": "code",
   "execution_count": 121,
   "id": "d2c9a058",
   "metadata": {},
   "outputs": [
    {
     "name": "stdout",
     "output_type": "stream",
     "text": [
      "[((('die', 'DET'), ('Polizei', 'NOUN')), 108), ((('und', 'CCONJ'), ('der', 'DET')), 31), ((('Polizei', 'NOUN'), ('gerufen', 'VERB')), 30), ((('der', 'DET'), ('Mann', 'NOUN')), 20), ((('Polizei', 'NOUN'), ('angerufen', 'VERB')), 20), ((('und', 'CCONJ'), ('dann', 'ADV')), 17), ((('Polizei', 'NOUN'), ('.', 'PUNCT')), 16), ((('mit', 'ADP'), ('dem', 'DET')), 16), ((('das', 'PRON'), ('war', 'AUX')), 16), ((('und', 'CCONJ'), ('ja', 'INTJ')), 15), ((('ist', 'AUX'), ('dann', 'ADV')), 13), ((('der', 'DET'), ('Frau', 'NOUN')), 12), ((('war', 'AUX'), ('es', 'PRON')), 12), ((('und', 'CCONJ'), ('die', 'DET')), 12), ((('gerufen', 'VERB'), ('.', 'PUNCT')), 11), ((('das', 'DET'), ('Auto', 'NOUN')), 11), ((('dann', 'ADV'), ('die', 'DET')), 11), ((('blauen', 'ADJ'), ('Auto', 'NOUN')), 11), ((('Auto', 'NOUN'), ('reingefahren', 'VERB')), 10), ((('in', 'ADP'), ('das', 'DET')), 10)]\n",
      "[(('die', 'Polizei'), 19), (('mit', 'dem'), 13), (('das', 'war'), 9), (('ja', 'das'), 8), (('das', 'Auto'), 7), (('der', 'Frau'), 7), (('und', 'dann'), 6), (('Mann', 'mit'), 6), (('dem', 'Ball'), 6), (('und', 'der'), 6), (('zu', 'den'), 6), (('Polizei', 'gerufen'), 5), (('der', 'Mann'), 5), (('und', 'ist'), 5), (('auf', '.'), 5), (('äh', 'ja'), 5), (('und', 'ja'), 5), (('freundlichen', 'Grüßen'), 5), (('schönen', 'Tag'), 5), (('und', 'das'), 4)]\n",
      "[(('and', 'the'), 49), (('the', 'car'), 43), (('the', 'police'), 42), (('of', 'the'), 39), (('called', '911'), 36), (('and', 'then'), 35), (('called', 'the'), 30), (('car', 'behind'), 27), (('the', 'first'), 26), (('the', 'blue'), 24), (('blue', 'car'), 22), (('in', 'the'), 21), (('to', 'the'), 20), (('first', 'car'), 19), (('hit', 'the'), 19), (('the', 'dog'), 19), (('they', 'called'), 19), (('the', 'drivers'), 18), (('that', \"'s\"), 18), (('the', 'two'), 17)]\n",
      "[(('the', 'car'), 17), (('the', 'other'), 9), (('and', 'the'), 9), (('of', 'the'), 7), (('car', 'behind'), 7), (('when', 'the'), 6), (('the', 'first'), 6), (('into', 'it'), 5), (('that', \"'s\"), 5), (('the', 'damage'), 5), (('other', 'one'), 4), (('in', 'front'), 4), (('rear-ended', 'him'), 4), (('and', 'then'), 4), (('first', 'car'), 4), (('another', 'car'), 4), (('the', 'ball'), 4), (('looking', 'at'), 4), (('at', 'the'), 4), (('then', 'went'), 3)]\n"
     ]
    }
   ],
   "source": [
    "demonobitoksfd = nltk.FreqDist(demono_bitoks)\n",
    "enbibitoksfd = nltk.FreqDist(enbi_bitoks)\n",
    "enmonobitoksfd = nltk.FreqDist(enmono_bitoks)\n",
    "biposfds = [debibiposfd, demonobitoksfd, enbibitoksfd, enmonobitoksfd]\n",
    "for x in biposfds:\n",
    "    print(x.most_common(20))\n",
    "\n",
    "## Order:\n",
    "# German Bilingual\n",
    "# German Monolingual\n",
    "# English Bilingual\n",
    "# English Monolingual"
   ]
  },
  {
   "cell_type": "code",
   "execution_count": 122,
   "id": "5d8bfc98",
   "metadata": {},
   "outputs": [
    {
     "name": "stdout",
     "output_type": "stream",
     "text": [
      "[((('die', 'DET'), ('Polizei', 'NOUN')), 108), ((('und', 'CCONJ'), ('der', 'DET')), 31), ((('Polizei', 'NOUN'), ('gerufen', 'VERB')), 30), ((('der', 'DET'), ('Mann', 'NOUN')), 20), ((('Polizei', 'NOUN'), ('angerufen', 'VERB')), 20), ((('und', 'CCONJ'), ('dann', 'ADV')), 17), ((('Polizei', 'NOUN'), ('.', 'PUNCT')), 16), ((('mit', 'ADP'), ('dem', 'DET')), 16), ((('das', 'PRON'), ('war', 'AUX')), 16), ((('und', 'CCONJ'), ('ja', 'INTJ')), 15), ((('ist', 'AUX'), ('dann', 'ADV')), 13), ((('der', 'DET'), ('Frau', 'NOUN')), 12), ((('war', 'AUX'), ('es', 'PRON')), 12), ((('und', 'CCONJ'), ('die', 'DET')), 12), ((('gerufen', 'VERB'), ('.', 'PUNCT')), 11), ((('das', 'DET'), ('Auto', 'NOUN')), 11), ((('dann', 'ADV'), ('die', 'DET')), 11), ((('blauen', 'ADJ'), ('Auto', 'NOUN')), 11), ((('Auto', 'NOUN'), ('reingefahren', 'VERB')), 10), ((('in', 'ADP'), ('das', 'DET')), 10)]\n",
      "[((('die', 'DET'), ('Polizei', 'NOUN')), 19), ((('mit', 'ADP'), ('dem', 'DET')), 12), ((('das', 'PRON'), ('war', 'AUX')), 9), ((('das', 'DET'), ('Auto', 'NOUN')), 7), ((('der', 'DET'), ('Frau', 'NOUN')), 7), ((('und', 'CCONJ'), ('dann', 'ADV')), 6), ((('Mann', 'NOUN'), ('mit', 'ADP')), 6), ((('dem', 'DET'), ('Ball', 'NOUN')), 6), ((('zu', 'ADP'), ('den', 'DET')), 6), ((('Polizei', 'NOUN'), ('gerufen', 'VERB')), 5), ((('der', 'DET'), ('Mann', 'NOUN')), 5), ((('und', 'CCONJ'), ('der', 'DET')), 5), ((('und', 'CCONJ'), ('ist', 'AUX')), 5), ((('ja', 'INTJ'), ('das', 'PRON')), 5), ((('auf', 'ADV'), ('.', 'PUNCT')), 5), ((('und', 'CCONJ'), ('ja', 'INTJ')), 5), ((('freundlichen', 'ADJ'), ('Grüßen', 'NOUN')), 5), ((('schönen', 'ADJ'), ('Tag', 'NOUN')), 5), ((('Auto', 'NOUN'), ('dahinter', 'ADV')), 4), ((('Der', 'DET'), ('Mann', 'NOUN')), 4)]\n",
      "[((('and', 'CCONJ'), ('the', 'DET')), 49), ((('the', 'DET'), ('car', 'NOUN')), 43), ((('the', 'DET'), ('police', 'NOUN')), 42), ((('of', 'ADP'), ('the', 'DET')), 39), ((('called', 'VERB'), ('911', 'NOUN')), 35), ((('and', 'CCONJ'), ('then', 'ADV')), 35), ((('called', 'VERB'), ('the', 'DET')), 30), ((('the', 'DET'), ('first', 'ADJ')), 26), ((('car', 'NOUN'), ('behind', 'ADP')), 25), ((('the', 'DET'), ('blue', 'ADJ')), 24), ((('blue', 'ADJ'), ('car', 'NOUN')), 22), ((('in', 'ADP'), ('the', 'DET')), 21), ((('to', 'ADP'), ('the', 'DET')), 20), ((('first', 'ADJ'), ('car', 'NOUN')), 19), ((('hit', 'VERB'), ('the', 'DET')), 19), ((('the', 'DET'), ('dog', 'NOUN')), 19), ((('they', 'PROPN'), ('called', 'VERB')), 19), ((('the', 'DET'), ('drivers', 'NOUN')), 18), ((('that', 'DET'), (\"'s\", 'AUX')), 18), ((('the', 'DET'), ('two', 'NUM')), 17)]\n",
      "[((('the', 'DET'), ('car', 'NOUN')), 17), ((('and', 'CCONJ'), ('the', 'DET')), 9), ((('the', 'DET'), ('other', 'ADJ')), 8), ((('of', 'ADP'), ('the', 'DET')), 7), ((('car', 'NOUN'), ('behind', 'ADP')), 7), ((('when', 'SCONJ'), ('the', 'DET')), 6), ((('the', 'DET'), ('first', 'ADJ')), 6), ((('into', 'ADP'), ('it', 'PROPN')), 5), ((('that', 'DET'), (\"'s\", 'AUX')), 5), ((('the', 'DET'), ('damage', 'NOUN')), 5), ((('other', 'ADJ'), ('one', 'PRON')), 4), ((('in', 'ADP'), ('front', 'ADP')), 4), ((('rear-ended', 'VERB'), ('him', 'PROPN')), 4), ((('and', 'CCONJ'), ('then', 'ADV')), 4), ((('first', 'ADJ'), ('car', 'NOUN')), 4), ((('another', 'DET'), ('car', 'NOUN')), 4), ((('the', 'DET'), ('ball', 'NOUN')), 4), ((('looking', 'VERB'), ('at', 'ADP')), 4), ((('at', 'ADP'), ('the', 'DET')), 4), ((('then', 'ADV'), ('went', 'VERB')), 3)]\n"
     ]
    }
   ],
   "source": [
    "demonobiposfd = nltk.FreqDist(DE_mono_bigram_pos)\n",
    "enbibiposfd = nltk.FreqDist(EN_bi_bigram_pos)\n",
    "enmonobiposfd = nltk.FreqDist(EN_mono_bigram_pos)\n",
    "biposfds = [debibiposfd, demonobiposfd, enbibiposfd, enmonobiposfd]\n",
    "for x in biposfds:\n",
    "    print(x.most_common(20))\n",
    "        \n",
    "## Order:\n",
    "# German Bilingual\n",
    "# German Monolingual\n",
    "# English Bilingual\n",
    "# English Monolingual"
   ]
  },
  {
   "cell_type": "code",
   "execution_count": 123,
   "id": "26950a3f",
   "metadata": {},
   "outputs": [
    {
     "name": "stdout",
     "output_type": "stream",
     "text": [
      "[(('DET', 'NOUN'), 439), (('NOUN', 'VERB'), 236), (('ADJ', 'NOUN'), 154), (('ADP', 'DET'), 149), (('DET', 'ADJ'), 131), (('VERB', 'PUNCT'), 112), (('AUX', 'ADV'), 100), (('ADV', 'VERB'), 97), (('PRON', 'ADV'), 92), (('ADV', 'ADV'), 91), (('PRON', 'VERB'), 90), (('CCONJ', 'DET'), 88), (('ADV', 'DET'), 85), (('CCONJ', 'PRON'), 84), (('PRON', 'AUX'), 77), (('NOUN', 'AUX'), 75), (('AUX', 'PRON'), 75), (('VERB', 'AUX'), 74), (('NOUN', 'ADP'), 68), (('NOUN', 'ADV'), 62)]\n",
      "[(('DET', 'NOUN'), 146), (('NOUN', 'VERB'), 70), (('ADP', 'DET'), 68), (('ADJ', 'NOUN'), 54), (('DET', 'ADJ'), 47), (('VERB', 'PUNCT'), 40), (('ADV', 'ADV'), 39), (('PRON', 'ADV'), 36), (('AUX', 'PRON'), 35), (('NOUN', 'ADP'), 34), (('ADV', 'VERB'), 34), (('PRON', 'AUX'), 34), (('PRON', 'VERB'), 32), (('CCONJ', 'DET'), 28), (('NOUN', 'ADV'), 27), (('ADV', 'DET'), 27), (('VERB', 'AUX'), 25), (('VERB', 'PRON'), 24), (('CCONJ', 'PRON'), 24), (('AUX', 'ADV'), 24)]\n",
      "[(('DET', 'NOUN'), 407), (('ADP', 'DET'), 209), (('VERB', 'DET'), 172), (('VERB', 'ADP'), 152), (('NOUN', 'ADP'), 139), (('DET', 'ADJ'), 133), (('ADJ', 'NOUN'), 128), (('PROPN', 'VERB'), 118), (('NOUN', 'VERB'), 117), (('NOUN', 'PUNCT'), 110), (('PART', 'VERB'), 106), (('CCONJ', 'DET'), 87), (('VERB', 'PROPN'), 77), (('AUX', 'VERB'), 76), (('PROPN', 'AUX'), 71), (('ADP', 'PROPN'), 66), (('ADV', 'VERB'), 59), (('VERB', 'NOUN'), 57), (('ADP', 'ADP'), 51), (('CCONJ', 'VERB'), 50)]\n",
      "[(('DET', 'NOUN'), 66), (('VERB', 'ADP'), 26), (('ADP', 'DET'), 26), (('VERB', 'DET'), 25), (('DET', 'ADJ'), 21), (('NOUN', 'ADP'), 20), (('PART', 'VERB'), 16), (('NOUN', 'VERB'), 16), (('ADJ', 'NOUN'), 15), (('PROPN', 'VERB'), 14), (('CCONJ', 'VERB'), 14), (('ADP', 'PROPN'), 14), (('ADP', 'ADP'), 12), (('ADV', 'VERB'), 11), (('CCONJ', 'DET'), 11), (('SCONJ', 'DET'), 9), (('VERB', 'PROPN'), 9), (('NOUN', 'AUX'), 9), (('AUX', 'VERB'), 8), (('NOUN', 'PUNCT'), 8)]\n"
     ]
    }
   ],
   "source": [
    "demonobipostagfd = nltk.FreqDist(demono_bipostags)\n",
    "enbibipostagfd = nltk.FreqDist(enbi_bipostags)\n",
    "enmonobipostagfd = nltk.FreqDist(enmono_bipostags)\n",
    "bipostagfds = [debibipostagfd, demonobipostagfd, enbibipostagfd, enmonobipostagfd]\n",
    "for x in bipostagfds:\n",
    "    print(x.most_common(20))\n",
    "    \n",
    "## Order:\n",
    "# German Bilingual\n",
    "# German Monolingual\n",
    "# English Bilingual\n",
    "# English Monolingual"
   ]
  },
  {
   "cell_type": "code",
   "execution_count": 124,
   "id": "b4afff1b",
   "metadata": {},
   "outputs": [
    {
     "name": "stdout",
     "output_type": "stream",
     "text": [
      "Noun, Verb\n",
      "0.36363636363636365\n",
      "0.319634703196347\n",
      "0.19830508474576272\n",
      "0.2077922077922078\n",
      "Adjective, Noun\n",
      "0.5661764705882353\n",
      "0.5294117647058824\n",
      "0.7150837988826816\n",
      "0.5\n",
      "Adjective, Adjective\n",
      "0.029411764705882353\n",
      "0.049019607843137254\n",
      "0.00558659217877095\n",
      "0.0\n",
      "Adverb, Verb\n",
      "0.19019607843137254\n",
      "0.17616580310880828\n",
      "0.2757009345794392\n",
      "0.3793103448275862\n"
     ]
    }
   ],
   "source": [
    "debibipostagcfd = nltk.ConditionalFreqDist(debi_bipostags)\n",
    "demonobipostagcfd = nltk.ConditionalFreqDist(demono_bipostags)\n",
    "enbibipostagcfd = nltk.ConditionalFreqDist(enbi_bipostags)\n",
    "enmonobipostagcfd = nltk.ConditionalFreqDist(enmono_bipostags)\n",
    "bipostagcfds = [debibipostagcfd, demonobipostagcfd, enbibipostagcfd, enmonobipostagcfd]\n",
    "\n",
    "print('Noun, Verb')\n",
    "for x in bipostagcfds:\n",
    "    print(x['NOUN'].freq('VERB'))\n",
    "print('Adjective, Noun')\n",
    "for x in bipostagcfds:\n",
    "    print(x['ADJ'].freq('NOUN'))\n",
    "print('Adjective, Adjective')\n",
    "for x in bipostagcfds:\n",
    "    print(x['ADJ'].freq('ADJ'))\n",
    "print('Adverb, Verb')\n",
    "for x in bipostagcfds:\n",
    "    print(x['ADV'].freq('VERB'))\n",
    "\n",
    "## Order:\n",
    "# German Bilingual\n",
    "# German Monolingual\n",
    "# English Bilingual\n",
    "# English Monolingual"
   ]
  },
  {
   "cell_type": "markdown",
   "id": "7b173bd2",
   "metadata": {},
   "source": [
    "#### Again, let's pause and look what's happening\n",
    "This is a lot of data to take in, but me break down what's we're seeing with these sets of bigrams. Of course, the most popular token bigrams are topical things like 'Die Polizei' (english: 'the police') or 'dem Ball' (english: 'the ball') or 'car behind' but there are also more function word combinations like 'and the' or 'of the' or 'mit dem' (english: 'with the') or 'und der' (english: 'and the'). A lot of these make some sense. \n",
    "\n",
    "As for the most popular being 'die Polizei' in German, I have some guesses. Firstly, as I stated before, 'the' in German can take many forms, so while it is very popular in english to have 'and the', in German this could be 'und die/der/das/dem/den ect' which 'waters down' so-to-say the frequency of the 'the' token in German. Because these were made-up police reports, however, 'die Polizei' (nom.) was likely used in the nominative case more frequently as it was the police doing something in these scenerios, so it doesn't suffer from this 'watering down' issue other determiners may face \n",
    "- like 'Ball' which may have been used in the accusative or dative case acting as either the patient or theme in a lot of these sentences\n",
    "\n",
    "What is interesting, is that it is looking like the Bilinguals overall used more content bigrams more frequently/consistenly as opposed to stopwords, which may make sense as grammatical rules/stopwords change a lot more in different languages, have different meanings to speakers, ect where content words have more 'reliable' and 'consistent' translations \n",
    "- ie 'Apfel' and 'Apple' are going to mean the same thing to both speakers, but where English has one words: 'because', Germans have more like 'weil', 'da', 'dann', where 'dann' can be used like 'because' but it can also be used like 'then' (as in the time indicator: x happened and *then* x happened)\n",
    "\n",
    "As for the part of speech, it's harder to see bilingual/monolingual similarities with the naked eye, which is why I implinted the condtional frequency distribution to get normalized results for targeted conditions. However, I believe we can help normalize this a little more (just because the count difference between these groups is sso great) so I'm going to randomly sample before creating a conditional frequency ditribution generator object.\n"
   ]
  },
  {
   "cell_type": "code",
   "execution_count": 125,
   "id": "18f9ef27",
   "metadata": {},
   "outputs": [
    {
     "name": "stdout",
     "output_type": "stream",
     "text": [
      "4130\n",
      "1499\n",
      "3938\n",
      "557\n"
     ]
    }
   ],
   "source": [
    "print(len(debi_bipostags))\n",
    "print(len(demono_bipostags))\n",
    "print(len(enbi_bipostags))\n",
    "print(len(enmono_bipostags))"
   ]
  },
  {
   "cell_type": "code",
   "execution_count": 126,
   "id": "6d791450",
   "metadata": {},
   "outputs": [
    {
     "ename": "ValueError",
     "evalue": "Sample larger than population or is negative",
     "output_type": "error",
     "traceback": [
      "\u001b[0;31m---------------------------------------------------------------------------\u001b[0m",
      "\u001b[0;31mValueError\u001b[0m                                Traceback (most recent call last)",
      "Cell \u001b[0;32mIn[126], line 2\u001b[0m\n\u001b[1;32m      1\u001b[0m \u001b[38;5;66;03m## let's random sample just 15000\u001b[39;00m\n\u001b[0;32m----> 2\u001b[0m debi_bipostags15k \u001b[38;5;241m=\u001b[39m random\u001b[38;5;241m.\u001b[39msample(debi_bipostags, \u001b[38;5;241m15000\u001b[39m)\n\u001b[1;32m      3\u001b[0m demono_bipostags15k \u001b[38;5;241m=\u001b[39m random\u001b[38;5;241m.\u001b[39msample(demono_bipostags, \u001b[38;5;241m15000\u001b[39m)\n\u001b[1;32m      4\u001b[0m enbi_bipostags15k \u001b[38;5;241m=\u001b[39m random\u001b[38;5;241m.\u001b[39msample(enbi_bipostags, \u001b[38;5;241m15000\u001b[39m)\n",
      "File \u001b[0;32m/opt/anaconda3/lib/python3.12/random.py:430\u001b[0m, in \u001b[0;36mRandom.sample\u001b[0;34m(self, population, k, counts)\u001b[0m\n\u001b[1;32m    428\u001b[0m randbelow \u001b[38;5;241m=\u001b[39m \u001b[38;5;28mself\u001b[39m\u001b[38;5;241m.\u001b[39m_randbelow\n\u001b[1;32m    429\u001b[0m \u001b[38;5;28;01mif\u001b[39;00m \u001b[38;5;129;01mnot\u001b[39;00m \u001b[38;5;241m0\u001b[39m \u001b[38;5;241m<\u001b[39m\u001b[38;5;241m=\u001b[39m k \u001b[38;5;241m<\u001b[39m\u001b[38;5;241m=\u001b[39m n:\n\u001b[0;32m--> 430\u001b[0m     \u001b[38;5;28;01mraise\u001b[39;00m \u001b[38;5;167;01mValueError\u001b[39;00m(\u001b[38;5;124m\"\u001b[39m\u001b[38;5;124mSample larger than population or is negative\u001b[39m\u001b[38;5;124m\"\u001b[39m)\n\u001b[1;32m    431\u001b[0m result \u001b[38;5;241m=\u001b[39m [\u001b[38;5;28;01mNone\u001b[39;00m] \u001b[38;5;241m*\u001b[39m k\n\u001b[1;32m    432\u001b[0m setsize \u001b[38;5;241m=\u001b[39m \u001b[38;5;241m21\u001b[39m        \u001b[38;5;66;03m# size of a small set minus size of an empty list\u001b[39;00m\n",
      "\u001b[0;31mValueError\u001b[0m: Sample larger than population or is negative"
     ]
    }
   ],
   "source": [
    "## let's random sample just 15000\n",
    "debi_bipostags15k = random.sample(debi_bipostags, 15000)\n",
    "demono_bipostags15k = random.sample(demono_bipostags, 15000)\n",
    "enbi_bipostags15k = random.sample(enbi_bipostags, 15000)\n",
    "enmono_bipostags15k = random.sample(enmono_bipostags, 15000)"
   ]
  },
  {
   "cell_type": "code",
   "execution_count": null,
   "id": "b1afa3a6",
   "metadata": {},
   "outputs": [],
   "source": [
    "debibipostag15kcfd = nltk.ConditionalFreqDist(debi_bipostags15k)\n",
    "demonobipostag15kcfd = nltk.ConditionalFreqDist(demono_bipostags15k)\n",
    "enbibipostag15kcfd = nltk.ConditionalFreqDist(enbi_bipostags15k)\n",
    "enmonobipostag15kcfd = nltk.ConditionalFreqDist(enmono_bipostags15k)\n",
    "bipostag15kcfds = [debibipostag15kcfd, demonobipostag15kcfd, enbibipostag15kcfd, enmonobipostag15kcfd]"
   ]
  },
  {
   "cell_type": "code",
   "execution_count": null,
   "id": "5a7e6408",
   "metadata": {},
   "outputs": [
    {
     "name": "stdout",
     "output_type": "stream",
     "text": [
      "Noun, Verb\n",
      "0.34778875053671104\n",
      "0.30954587581093607\n",
      "0.21061946902654868\n",
      "0.1466731423020884\n",
      "Adjective, Noun\n",
      "0.5770308123249299\n",
      "0.4814432989690722\n",
      "0.7443181818181818\n",
      "0.4254278728606357\n",
      "Adjective, Adjective\n",
      "0.026143790849673203\n",
      "0.020618556701030927\n",
      "0.004261363636363636\n",
      "0.0\n",
      "Adverb, Verb\n",
      "0.2203125\n",
      "0.1933989577301679\n",
      "0.2644927536231884\n",
      "0.38144329896907214\n"
     ]
    }
   ],
   "source": [
    "print('Noun, Verb')\n",
    "for x in bipostag15kcfds:\n",
    "    print(x['NOUN'].freq('VERB'))\n",
    "print('Adjective, Noun')\n",
    "for x in bipostag15kcfds:\n",
    "    print(x['ADJ'].freq('NOUN'))\n",
    "print('Adjective, Adjective')\n",
    "for x in bipostag15kcfds:\n",
    "    print(x['ADJ'].freq('ADJ'))\n",
    "print('Adverb, Verb')\n",
    "for x in bipostag15kcfds:\n",
    "    print(x['ADV'].freq('VERB'))\n",
    "\n",
    "## Order:\n",
    "# German Bilingual\n",
    "# German Monolingual\n",
    "# English Bilingual\n",
    "# English Monolingual"
   ]
  },
  {
   "cell_type": "code",
   "execution_count": null,
   "id": "99cba99a",
   "metadata": {},
   "outputs": [
    {
     "name": "stdout",
     "output_type": "stream",
     "text": [
      "Adposition, Noun\n",
      "0.13984674329501914\n",
      "0.15967885816235505\n",
      "0.041079092581238506\n",
      "0.0\n",
      "Adposition, Determiner\n",
      "0.5306513409961686\n",
      "0.6369313113291704\n",
      "0.49908031882280807\n",
      "0.44034278180619646\n",
      "Verb, Noun\n",
      "0.0\n",
      "0.006093432633716994\n",
      "0.09483843894250944\n",
      "0.06702523789822093\n",
      "Verb, Determiner\n",
      "0.13076437144662034\n",
      "0.08327691266079891\n",
      "0.26856903063365506\n",
      "0.2743069921390153\n"
     ]
    }
   ],
   "source": [
    "print('Adposition, Noun')\n",
    "for x in bipostag15kcfds:\n",
    "    print(x['ADP'].freq('NOUN'))\n",
    "print('Adposition, Determiner')\n",
    "for x in bipostag15kcfds:\n",
    "    print(x['ADP'].freq('DET'))\n",
    "print('Verb, Noun')\n",
    "for x in bipostag15kcfds:\n",
    "    print(x['VERB'].freq('NOUN'))\n",
    "print('Verb, Determiner')\n",
    "for x in bipostag15kcfds:\n",
    "    print(x['VERB'].freq('DET'))\n",
    "\n",
    "## Order:\n",
    "# German Bilingual\n",
    "# German Monolingual\n",
    "# English Bilingual\n",
    "# English Monolingual"
   ]
  },
  {
   "cell_type": "markdown",
   "id": "b125e3fa",
   "metadata": {},
   "source": [
    "#### Analyzing the Bigram CFD\n",
    "- Condition 1: Noun, Verb\n",
    "    - This is the one of the most basic ways to structure a sentence in both English and German (although German does have some more flexible word order), so I was using this to test if maybe bilingual speakers would be influenced by their other languages and use more basic or more free grammatical structures\n",
    "    - Result: The numbers inside each language are pretty similar, but each bilingual partition has more use of this structure than it's monolingual counterpart. Again, and I can never emphasize this enough, both monolingual sections are smaller than their bilingual counterparts and with bigrams, this problem only gets enhanced as it's exponential growth. Since this is a very common sentence formation, it would make sense that in larger texts this takes up more of the bigrams (similar to the TTR caveat)\n",
    "- Condition 2: Adjective, Noun\n",
    "    - This was mostly just to compare with the next test. \n",
    "- Condition 3: Adjective, Adjective\n",
    "    - This test was to compare the use of adjectives string in sentences. I wanted to comapre it with the use of (adjectives, noun) phrases because the most common places to use an adjectives are before nouns and before adjectives. \n",
    "    - Results: It does seem that the groups that used adjectives more in front of nouns, used them less in front of other adjectives, just meaning that in general these groups used less multi-adjective phrases. Although there does appear to be a potential statistical difference between (adjective, noun) usage for bilingual and monolingual speakers, that is certainly not present in the (adjective, adjective) data.\n",
    "- Condition 4: Adverb, Verb\n",
    "    - \n",
    "- Condition 5: Adposition, Noun\n",
    "    - \n",
    "- Condition 6: Adposition, Determiner\n",
    "    - \n",
    "- Condition 7: Verb, Determiner\n",
    "    - \n",
    "\n",
    "Note to self: implement statistic testing into the ones i believe to have stronger correlation"
   ]
  },
  {
   "cell_type": "markdown",
   "id": "117d2e66",
   "metadata": {},
   "source": [
    "### Testing A Model on Bigrams"
   ]
  },
  {
   "cell_type": "markdown",
   "id": "0241a043",
   "metadata": {},
   "source": [
    "## Trigram Exploration"
   ]
  },
  {
   "cell_type": "markdown",
   "id": "f6ea5574",
   "metadata": {},
   "source": [
    "#### Loading in the Data"
   ]
  },
  {
   "cell_type": "code",
   "execution_count": null,
   "id": "f1f1c312",
   "metadata": {},
   "outputs": [],
   "source": [
    "with open ('trigram_debi_pos.pkl', 'rb') as file:\n",
    "    DE_bi_trigram_pos = pickle.load(file)\n",
    "with open ('trigram_demono_pos.pkl', 'rb') as file:\n",
    "    DE_mono_trigram_pos = pickle.load(file)\n",
    "with open ('trigram_enbi_pos.pkl', 'rb') as file:\n",
    "    EN_bi_trigram_pos = pickle.load(file)\n",
    "with open ('trigram_enmono_pos.pkl', 'rb') as file:\n",
    "    EN_mono_trigram_pos = pickle.load(file)"
   ]
  },
  {
   "cell_type": "code",
   "execution_count": null,
   "id": "4627d792",
   "metadata": {},
   "outputs": [
    {
     "name": "stdout",
     "output_type": "stream",
     "text": [
      "1044808\n",
      "173028\n",
      "805452\n",
      "16001\n"
     ]
    }
   ],
   "source": [
    "print(len(DE_bi_trigram_pos))\n",
    "print(len(DE_mono_trigram_pos))\n",
    "print(len(EN_bi_trigram_pos))\n",
    "print(len(EN_mono_trigram_pos))\n",
    "## and the size differences continue to become exacerbated :/"
   ]
  },
  {
   "cell_type": "code",
   "execution_count": null,
   "id": "64aa2e86",
   "metadata": {},
   "outputs": [
    {
     "data": {
      "text/plain": [
       "[(('und', 'CCONJ'), ('die', 'PRON'), ('haben', 'AUX')), (('die', 'PRON'), ('haben', 'AUX'), ('die', 'DET')), (('haben', 'AUX'), ('die', 'DET'), ('Polizei', 'NOUN')), (('die', 'DET'), ('Polizei', 'NOUN'), ('äh', 'INTJ')), (('Polizei', 'NOUN'), ('äh', 'INTJ'), ('angerufen', 'VERB'))]"
      ]
     },
     "execution_count": 271,
     "metadata": {},
     "output_type": "execute_result"
    }
   ],
   "source": [
    "DE_bi_trigram_pos[:5]"
   ]
  },
  {
   "cell_type": "code",
   "execution_count": null,
   "id": "0de744eb",
   "metadata": {},
   "outputs": [],
   "source": [
    "## cleaning the data again\n",
    "DE_bi_trigram_pos = [(x,y,z) for (x,y,z) in DE_bi_trigram_pos if (x[1] not in ['NE', '_', '$.', 'X']) and (y[1] not in ['NE', '_', '$.', 'X']) and (z[1] not in ['NE', '_', '$.', 'X'])]\n",
    "DE_mono_trigram_pos = [(x,y,z) for (x,y,z) in DE_mono_trigram_pos if (x[1] not in ['PPER', 'VAFIN', 'KON', 'PIAT', 'NN']) and (y[1] not in ['PPER', 'VAFIN', 'KON', 'PIAT', 'NN'])and (z[1] not in ['PPER', 'VAFIN', 'KON', 'PIAT', 'NN'])]\n",
    "EN_bi_trigram_pos = [(x,y,z) for (x,y,z) in EN_bi_trigram_pos if (x[1] != '_') and (y[1] != '_') and (z[1] != '_')]"
   ]
  },
  {
   "cell_type": "code",
   "execution_count": null,
   "id": "34d93482",
   "metadata": {},
   "outputs": [
    {
     "name": "stdout",
     "output_type": "stream",
     "text": [
      "1032122\n",
      "172658\n",
      "805348\n",
      "16001\n"
     ]
    }
   ],
   "source": [
    "print(len(DE_bi_trigram_pos))\n",
    "print(len(DE_mono_trigram_pos))\n",
    "print(len(EN_bi_trigram_pos))\n",
    "print(len(EN_mono_trigram_pos))"
   ]
  },
  {
   "cell_type": "code",
   "execution_count": null,
   "id": "10e29f32",
   "metadata": {},
   "outputs": [],
   "source": [
    "## pos tags extraction\n",
    "debi_tripostags = [(x[1], y[1], z[1]) for (x, y, z) in DE_bi_trigram_pos]\n",
    "demono_tripostags = [(x[1], y[1], z[1]) for (x, y, z) in  DE_mono_trigram_pos]\n",
    "enbi_tripostags = [(x[1], y[1], z[1]) for (x, y, z) in EN_bi_trigram_pos]\n",
    "enmono_tripostags = [(x[1], y[1], z[1]) for (x, y, z) in EN_mono_trigram_pos]\n",
    "## text extraction\n",
    "debi_tritoks = [(x[0], y[0], z[0]) for (x, y, z) in DE_bi_trigram_pos]\n",
    "demono_tritoks = [(x[0], y[0], z[0]) for (x, y, z) in DE_mono_trigram_pos]\n",
    "enbi_tritoks = [(x[0], y[0], z[0]) for (x, y, z) in EN_bi_trigram_pos]\n",
    "enmono_tritoks = [(x[0], y[0], z[0]) for (x, y, z) in EN_mono_trigram_pos]"
   ]
  },
  {
   "cell_type": "code",
   "execution_count": null,
   "id": "88622367",
   "metadata": {},
   "outputs": [
    {
     "name": "stdout",
     "output_type": "stream",
     "text": [
      "[(('die', 'Polizei', 'gerufen'), 7690), (('die', 'Polizei', '.'), 4534), (('die', 'Polizei', 'angerufen'), 4486), (('das', 'war', 'es'), 3063), (('und', 'der', 'Mann'), 2830), (('der', 'Mann', 'im'), 2803), (('Polizei', 'gerufen', '.'), 2400), (('dann', 'die', 'Polizei'), 2115), (('Mit', 'freundlichen', 'Grüßen'), 2104), (('die', 'Polizei', 'an'), 2102), (('das', 'zweite', 'Auto'), 1988), (('haben', 'die', 'Polizei'), 1897), (('Frau', 'mit', 'dem'), 1894), (('Polizei', 'angerufen', '.'), 1768), (('das', 'hintere', 'Auto'), 1712), (('sie', 'die', 'Polizei'), 1673), (('riefen', 'die', 'Polizei'), 1518), (('der', 'Mann', 'der'), 1515), (('Auto', 'reingefahren', '.'), 1511), (('und', 'der', 'zweite'), 1473)]\n",
      "[(('mit', 'dem', 'Ball'), 1124), (('Mann', 'mit', 'dem'), 1069), (('die', 'Polizei', 'gerufen'), 698), (('aus', 'den', 'Autos'), 593), (('Der', 'Mann', 'mit'), 535), (('der', 'Mann', 'mit'), 534), (('zu', 'dem', 'Unfall'), 520), (('er', 'zu', 'den'), 466), (('Autos', ',', 'die'), 445), (('die', 'Polizei', 'angerufen'), 414), (('die', 'beiden', 'Autos'), 411), (('ja', 'das', 'war'), 396), (('das', 'war', 'es'), 396), (('der', 'Frau', 'geholfen'), 387), (('das', 'ist', 'mir'), 382), (('Wagen', 'hinter', 'ihm'), 380), (('die', 'Polizei', '.'), 377), (('und', 'dann', 'wurde'), 371), (('dann', 'wurde', 'die'), 371), (('wurde', 'die', 'Polizei'), 371)]\n",
      "[(('called', 'the', 'police'), 5828), (('the', 'blue', 'car'), 5637), (('the', 'first', 'car'), 3629), (('the', 'car', 'behind'), 3188), (('car', 'behind', 'him'), 3046), (('the', 'white', 'car'), 3034), (('the', 'police', '.'), 2914), (('called', '911', '.'), 2907), (('driver', 'of', 'the'), 2755), (('over', 'to', 'the'), 2126), (('and', 'then', 'the'), 2051), (('the', 'drivers', 'of'), 1942), (('went', 'over', 'to'), 1934), (('the', 'driver', 'of'), 1918), (('and', 'the', 'car'), 1909), (('drivers', 'of', 'the'), 1834), (('the', 'car', 'in'), 1808), (('all', 'I', 'saw'), 1732), (('they', 'called', '911'), 1730), (('the', 'two', 'cars'), 1684)]\n",
      "[(('the', 'other', 'one'), 168), (('when', 'the', 'car'), 146), (('the', 'car', 'behind'), 138), (('car', 'behind', 'it'), 124), (('the', 'first', 'car'), 121), (('the', 'car', 'in'), 110), (('then', 'went', 'to'), 99), (('looking', 'at', 'the'), 94), (('at', 'the', 'damage'), 94), (('and', 'the', 'other'), 91), (('when', 'the', 'first'), 88), (('to', 'see', 'if'), 88), (('see', 'if', 'they'), 88), (('if', 'they', 'were'), 88), (('first', 'car', '.'), 81), (('car', 'in', 'back'), 77), (('that', \"'s\", 'what'), 77), ((\"'s\", 'what', 'happened'), 77), (('behind', 'it', 'hit'), 70), (('of', 'the', 'first'), 67)]\n"
     ]
    }
   ],
   "source": [
    "debitritoksfd = nltk.FreqDist(debi_tritoks)\n",
    "demonotritoksfd = nltk.FreqDist(demono_tritoks)\n",
    "enbitritoksfd = nltk.FreqDist(enbi_tritoks)\n",
    "enmonotritoksfd = nltk.FreqDist(enmono_tritoks)\n",
    "triposfds = [debitritoksfd, demonotritoksfd, enbitritoksfd, enmonotritoksfd]\n",
    "for x in triposfds:\n",
    "    print(x.most_common(20))\n",
    "\n",
    "## Order:\n",
    "# German Bilingual\n",
    "# German Monolingual\n",
    "# English Bilingual\n",
    "# English Monolingual"
   ]
  },
  {
   "cell_type": "markdown",
   "id": "858fa586",
   "metadata": {},
   "source": [
    "quick write up/////"
   ]
  },
  {
   "cell_type": "code",
   "execution_count": null,
   "id": "ccff7fa2",
   "metadata": {},
   "outputs": [
    {
     "name": "stdout",
     "output_type": "stream",
     "text": [
      "[(('DET', 'NOUN', 'VERB'), 41102), (('DET', 'ADJ', 'NOUN'), 33509), (('ADP', 'DET', 'NOUN'), 27313), (('NOUN', 'VERB', 'PUNCT'), 17537), (('ADJ', 'NOUN', 'VERB'), 16545), (('ADV', 'DET', 'NOUN'), 14979), (('CCONJ', 'DET', 'NOUN'), 13516), (('DET', 'NOUN', 'DET'), 12815), (('VERB', 'DET', 'NOUN'), 12321), (('DET', 'NOUN', 'PUNCT'), 12215), (('DET', 'NOUN', 'ADP'), 11333), (('DET', 'NOUN', 'ADV'), 11069), (('ADP', 'DET', 'ADJ'), 10698), (('AUX', 'DET', 'NOUN'), 10223), (('NOUN', 'ADP', 'DET'), 10202), (('DET', 'NOUN', 'AUX'), 10033), (('NOUN', 'DET', 'NOUN'), 9989), (('CCONJ', 'DET', 'ADJ'), 9586), (('NOUN', 'VERB', 'AUX'), 9561), (('PRON', 'AUX', 'ADV'), 8964)]\n",
      "[(('ADP', 'DET', 'NOUN'), 7453), (('DET', 'NOUN', 'VERB'), 5753), (('DET', 'ADJ', 'NOUN'), 4965), (('NOUN', 'ADP', 'DET'), 3146), (('DET', 'NOUN', 'ADP'), 2830), (('DET', 'NOUN', 'ADV'), 2484), (('ADV', 'ADP', 'DET'), 2277), (('CCONJ', 'DET', 'NOUN'), 2276), (('ADV', 'DET', 'NOUN'), 2152), (('NOUN', 'VERB', 'PUNCT'), 1991), (('PRON', 'AUX', 'PRON'), 1987), (('PRON', 'ADP', 'DET'), 1864), (('NOUN', 'VERB', 'AUX'), 1805), (('ADP', 'DET', 'ADJ'), 1763), (('DET', 'NOUN', 'PUNCT'), 1716), (('ADJ', 'NOUN', 'VERB'), 1670), (('AUX', 'DET', 'NOUN'), 1669), (('AUX', 'PRON', 'ADV'), 1634), (('PRON', 'DET', 'NOUN'), 1629), (('DET', 'NOUN', 'DET'), 1613)]\n",
      "[(('ADP', 'DET', 'NOUN'), 32236), (('VERB', 'DET', 'NOUN'), 31012), (('DET', 'ADJ', 'NOUN'), 27844), (('DET', 'NOUN', 'ADP'), 25165), (('NOUN', 'ADP', 'DET'), 17990), (('VERB', 'ADP', 'DET'), 17980), (('DET', 'NOUN', 'VERB'), 14490), (('DET', 'NOUN', 'PUNCT'), 12967), (('ADP', 'DET', 'ADJ'), 11983), (('NOUN', 'VERB', 'ADP'), 8310), (('ADJ', 'NOUN', 'VERB'), 8214), (('CCONJ', 'DET', 'NOUN'), 7878), (('VERB', 'PART', 'VERB'), 7056), (('NOUN', 'VERB', 'DET'), 6747), (('VERB', 'DET', 'ADJ'), 6002), (('PROPN', 'VERB', 'ADP'), 5822), (('VERB', 'ADP', 'ADP'), 5746), (('PART', 'VERB', 'ADP'), 5617), (('NOUN', 'ADP', 'PROPN'), 5588), (('PART', 'VERB', 'DET'), 5454)]\n",
      "[(('ADP', 'DET', 'NOUN'), 627), (('DET', 'NOUN', 'ADP'), 624), (('VERB', 'DET', 'NOUN'), 619), (('DET', 'ADJ', 'NOUN'), 349), (('VERB', 'ADP', 'DET'), 346), (('DET', 'NOUN', 'VERB'), 342), (('CCONJ', 'VERB', 'DET'), 320), (('NOUN', 'ADP', 'DET'), 293), (('DET', 'NOUN', 'PART'), 250), (('NOUN', 'PART', 'VERB'), 250), (('VERB', 'ADP', 'PROPN'), 202), (('NOUN', 'ADP', 'PROPN'), 195), (('DET', 'ADJ', 'PRON'), 192), (('DET', 'NOUN', 'AUX'), 190), (('ADP', 'DET', 'ADJ'), 182), (('VERB', 'DET', 'ADJ'), 174), (('CCONJ', 'DET', 'NOUN'), 163), (('SCONJ', 'DET', 'NOUN'), 160), (('NOUN', 'ADP', 'ADP'), 159), (('AUX', 'DET', 'NOUN'), 148)]\n"
     ]
    }
   ],
   "source": [
    "debitritagsfd = nltk.FreqDist(debi_tripostags)\n",
    "demonotritagsfd = nltk.FreqDist(demono_tripostags)\n",
    "enbitritagsfd = nltk.FreqDist(enbi_tripostags)\n",
    "enmonotritagsfd = nltk.FreqDist(enmono_tripostags)\n",
    "tripostagsfds = [debitritagsfd, demonotritagsfd, enbitritagsfd, enmonotritagsfd]\n",
    "for x in tripostagsfds:\n",
    "    print(x.most_common(20))\n",
    "\n",
    "## Order:\n",
    "# German Bilingual\n",
    "# German Monolingual\n",
    "# English Bilingual\n",
    "# English Monolingual"
   ]
  },
  {
   "cell_type": "code",
   "execution_count": null,
   "id": "77a68244",
   "metadata": {},
   "outputs": [
    {
     "name": "stdout",
     "output_type": "stream",
     "text": [
      "[(('DET', 'NOUN', 'VERB'), 597), (('DET', 'ADJ', 'NOUN'), 463), (('ADP', 'DET', 'NOUN'), 389), (('NOUN', 'VERB', 'PUNCT'), 258), (('ADJ', 'NOUN', 'VERB'), 232), (('CCONJ', 'DET', 'NOUN'), 215), (('ADV', 'DET', 'NOUN'), 203), (('DET', 'NOUN', 'DET'), 190), (('ADP', 'DET', 'ADJ'), 176), (('VERB', 'DET', 'NOUN'), 175), (('DET', 'NOUN', 'PUNCT'), 161), (('NOUN', 'ADP', 'DET'), 159), (('DET', 'NOUN', 'AUX'), 156), (('DET', 'NOUN', 'ADV'), 155), (('NOUN', 'VERB', 'AUX'), 155), (('AUX', 'DET', 'NOUN'), 154), (('DET', 'NOUN', 'ADP'), 147), (('ADP', 'ADJ', 'NOUN'), 136), (('PRON', 'AUX', 'ADV'), 136), (('CCONJ', 'DET', 'ADJ'), 134)]\n",
      "[(('ADP', 'DET', 'NOUN'), 648), (('DET', 'NOUN', 'VERB'), 499), (('DET', 'ADJ', 'NOUN'), 433), (('NOUN', 'ADP', 'DET'), 281), (('DET', 'NOUN', 'ADP'), 224), (('DET', 'NOUN', 'ADV'), 219), (('CCONJ', 'DET', 'NOUN'), 212), (('ADV', 'DET', 'NOUN'), 198), (('ADV', 'ADP', 'DET'), 186), (('PRON', 'AUX', 'PRON'), 185), (('NOUN', 'VERB', 'PUNCT'), 176), (('PRON', 'ADP', 'DET'), 174), (('NOUN', 'VERB', 'AUX'), 148), (('CCONJ', 'ADV', 'AUX'), 147), (('ADP', 'DET', 'ADJ'), 146), (('DET', 'NOUN', 'DET'), 140), (('DET', 'NOUN', 'PUNCT'), 140), (('AUX', 'DET', 'NOUN'), 134), (('AUX', 'ADV', 'ADV'), 129), (('PRON', 'DET', 'NOUN'), 127)]\n",
      "[(('ADP', 'DET', 'NOUN'), 601), (('VERB', 'DET', 'NOUN'), 536), (('DET', 'ADJ', 'NOUN'), 504), (('DET', 'NOUN', 'ADP'), 434), (('NOUN', 'ADP', 'DET'), 344), (('VERB', 'ADP', 'DET'), 335), (('DET', 'NOUN', 'VERB'), 272), (('DET', 'NOUN', 'PUNCT'), 257), (('ADP', 'DET', 'ADJ'), 227), (('NOUN', 'VERB', 'ADP'), 155), (('ADJ', 'NOUN', 'VERB'), 139), (('CCONJ', 'DET', 'NOUN'), 130), (('VERB', 'PART', 'VERB'), 127), (('VERB', 'NOUN', 'PUNCT'), 117), (('PROPN', 'VERB', 'ADP'), 116), (('NOUN', 'VERB', 'DET'), 115), (('PROPN', 'VERB', 'DET'), 112), (('VERB', 'DET', 'ADJ'), 111), (('VERB', 'ADP', 'ADP'), 109), (('CCONJ', 'DET', 'ADJ'), 104)]\n",
      "[(('ADP', 'DET', 'NOUN'), 584), (('VERB', 'DET', 'NOUN'), 581), (('DET', 'NOUN', 'ADP'), 578), (('DET', 'ADJ', 'NOUN'), 327), (('DET', 'NOUN', 'VERB'), 317), (('VERB', 'ADP', 'DET'), 315), (('CCONJ', 'VERB', 'DET'), 307), (('NOUN', 'ADP', 'DET'), 280), (('DET', 'NOUN', 'PART'), 235), (('NOUN', 'PART', 'VERB'), 234), (('VERB', 'ADP', 'PROPN'), 192), (('NOUN', 'ADP', 'PROPN'), 184), (('DET', 'ADJ', 'PRON'), 179), (('ADP', 'DET', 'ADJ'), 172), (('DET', 'NOUN', 'AUX'), 170), (('VERB', 'DET', 'ADJ'), 168), (('CCONJ', 'DET', 'NOUN'), 156), (('SCONJ', 'DET', 'NOUN'), 153), (('NOUN', 'ADP', 'ADP'), 148), (('AUX', 'DET', 'NOUN'), 137)]\n"
     ]
    }
   ],
   "source": [
    "debitritags15kfd = nltk.FreqDist(random.sample(debi_tripostags, 15000))\n",
    "demonotritags15kfd = nltk.FreqDist(random.sample(demono_tripostags, 15000))\n",
    "enbitritags15kfd = nltk.FreqDist(random.sample(enbi_tripostags, 15000))\n",
    "enmonotritags15kfd = nltk.FreqDist(random.sample(enmono_tripostags, 15000))\n",
    "tripostags15kfds = [debitritags15kfd, demonotritags15kfd, enbitritags15kfd, enmonotritags15kfd]\n",
    "for x in tripostags15kfds:\n",
    "    print(x.most_common(20))\n",
    "\n",
    "## Order:\n",
    "# German Bilingual\n",
    "# German Monolingual\n",
    "# English Bilingual\n",
    "# English Monolingual"
   ]
  },
  {
   "cell_type": "code",
   "execution_count": null,
   "id": "36bda8be",
   "metadata": {},
   "outputs": [],
   "source": [
    "with open ('debi_text.pkl', 'rb') as file:\n",
    "    debi_text = pickle.load(file)\n",
    "with open ('demono_text.pkl', 'rb') as file:\n",
    "    demono_text = pickle.load(file)\n",
    "with open ('enbi_text.pkl', 'rb') as file:\n",
    "    enbi_text = pickle.load(file)\n",
    "with open ('enmono_text.pkl', 'rb') as file:\n",
    "    enmono_text = pickle.load(file)"
   ]
  },
  {
   "cell_type": "code",
   "execution_count": null,
   "id": "b8445757",
   "metadata": {},
   "outputs": [
    {
     "name": "stdout",
     "output_type": "stream",
     "text": [
      "[('und', 'CCONJ'), ('die', 'PRON'), ('haben', 'AUX'), ('die', 'DET'), ('Polizei', 'NOUN'), ('äh', 'INTJ'), ('angerufen', 'VERB')]\n",
      "[('DEbi24FT', 'PROPN')]\n",
      "[('und', 'CCONJ'), ('ist', 'AUX'), ('ins', 'ADP'), ('erste', 'ADJ'), ('Auto', 'NOUN'), ('reingefahren', 'VERB')]\n",
      "[('und', 'CCONJ'), ('das', 'DET'), ('vordere', 'ADJ'), ('Auto', 'NOUN'), ('muss', 'AUX'), ('wegen', 'ADP'), ('des', 'DET'), ('rollenden', 'ADJ'), ('Balls', 'NOUN'), ('und', 'CCONJ'), ('dem', 'DET'), ('Hund', 'NOUN'), ('so', 'ADV'), ('stark', 'ADJ'), ('bremsen', 'VERB'), (',', 'PUNCT'), ('dass', 'CCONJ'), ('das', 'DET'), ('hintere', 'ADJ'), ('Auto', 'NOUN'), ('auffährt', 'VERB'), ('und', 'CCONJ'), ('einen', 'DET'), ('Unfall', 'NOUN'), ('verursacht', 'VERB'), ('.', 'PUNCT')]\n",
      "[('Der', 'DET'), ('Man', 'NOUN'), ('rief', 'VERB'), ('die', 'DET'), ('Polizei', 'NOUN'), ('an', 'ADV'), ('.', 'PUNCT')]\n"
     ]
    }
   ],
   "source": [
    "for i in range(5):\n",
    "    print(debi_text[i])"
   ]
  },
  {
   "cell_type": "code",
   "execution_count": null,
   "id": "f8cab68f",
   "metadata": {},
   "outputs": [],
   "source": [
    "debi_text_tags = [[pos for (_, pos) in sentence] for sentence in debi_text][:5]"
   ]
  },
  {
   "cell_type": "code",
   "execution_count": null,
   "id": "68bbcc28",
   "metadata": {},
   "outputs": [],
   "source": [
    "debi_text_tagged = [(x, 'BI') for x in debi_text_tags][:5]"
   ]
  },
  {
   "cell_type": "code",
   "execution_count": null,
   "id": "beab5ee7",
   "metadata": {},
   "outputs": [],
   "source": [
    "demono_text_tags = [[pos for (_, pos) in sentence] for sentence in demono_text]\n",
    "demono_text_tagged = [(x, 'MONO') for x in demono_text_tags]\n",
    "\n",
    "enbi_text_tags = [[pos for (_, pos) in sentence] for sentence in enbi_text]\n",
    "enbi_text_tagged = [(x, 'BI') for x in enbi_text_tags]\n",
    "\n",
    "enmono_text_tags = [[pos for (_, pos) in sentence] for sentence in enmono_text]\n",
    "enmono_text_tagged = [(x, 'MONO') for x in enmono_text_tags]"
   ]
  },
  {
   "cell_type": "code",
   "execution_count": 136,
   "id": "9b18d197",
   "metadata": {},
   "outputs": [],
   "source": [
    "pos_df = pd.DataFrame(debi_text_tagged+demono_text_tagged+enbi_text_tagged+enmono_text_tagged, columns = ['Text', 'Tag'])"
   ]
  },
  {
   "cell_type": "code",
   "execution_count": 137,
   "id": "d01fc166",
   "metadata": {},
   "outputs": [
    {
     "data": {
      "text/html": [
       "<div>\n",
       "<style scoped>\n",
       "    .dataframe tbody tr th:only-of-type {\n",
       "        vertical-align: middle;\n",
       "    }\n",
       "\n",
       "    .dataframe tbody tr th {\n",
       "        vertical-align: top;\n",
       "    }\n",
       "\n",
       "    .dataframe thead th {\n",
       "        text-align: right;\n",
       "    }\n",
       "</style>\n",
       "<table border=\"1\" class=\"dataframe\">\n",
       "  <thead>\n",
       "    <tr style=\"text-align: right;\">\n",
       "      <th></th>\n",
       "      <th>Text</th>\n",
       "      <th>Tag</th>\n",
       "    </tr>\n",
       "  </thead>\n",
       "  <tbody>\n",
       "    <tr>\n",
       "      <th>233</th>\n",
       "      <td>[CCONJ, DET, NOUN, DET, NOUN, ADP, DET, NOUN, ...</td>\n",
       "      <td>MONO</td>\n",
       "    </tr>\n",
       "    <tr>\n",
       "      <th>46</th>\n",
       "      <td>[CCONJ, AUX, INTJ, VERB, CCONJ, DET, ADJ, NOUN...</td>\n",
       "      <td>MONO</td>\n",
       "    </tr>\n",
       "    <tr>\n",
       "      <th>224</th>\n",
       "      <td>[PRON, ADP, DET, ADJ, NOUN, ADP, DET, NOUN, VE...</td>\n",
       "      <td>MONO</td>\n",
       "    </tr>\n",
       "    <tr>\n",
       "      <th>449</th>\n",
       "      <td>[CCONJ, DET, ADJ, NOUN, VERB, DET, ADJ, PUNCT]</td>\n",
       "      <td>BI</td>\n",
       "    </tr>\n",
       "    <tr>\n",
       "      <th>70</th>\n",
       "      <td>[CCONJ, PRON, PRON, VERB, VERB, PRON, ADP, DET...</td>\n",
       "      <td>MONO</td>\n",
       "    </tr>\n",
       "  </tbody>\n",
       "</table>\n",
       "</div>"
      ],
      "text/plain": [
       "                                                  Text   Tag\n",
       "233  [CCONJ, DET, NOUN, DET, NOUN, ADP, DET, NOUN, ...  MONO\n",
       "46   [CCONJ, AUX, INTJ, VERB, CCONJ, DET, ADJ, NOUN...  MONO\n",
       "224  [PRON, ADP, DET, ADJ, NOUN, ADP, DET, NOUN, VE...  MONO\n",
       "449     [CCONJ, DET, ADJ, NOUN, VERB, DET, ADJ, PUNCT]    BI\n",
       "70   [CCONJ, PRON, PRON, VERB, VERB, PRON, ADP, DET...  MONO"
      ]
     },
     "execution_count": 137,
     "metadata": {},
     "output_type": "execute_result"
    }
   ],
   "source": [
    "pos_df.sample(5)"
   ]
  },
  {
   "cell_type": "code",
   "execution_count": 138,
   "id": "9cdec23d",
   "metadata": {},
   "outputs": [
    {
     "data": {
      "text/html": [
       "<div>\n",
       "<style scoped>\n",
       "    .dataframe tbody tr th:only-of-type {\n",
       "        vertical-align: middle;\n",
       "    }\n",
       "\n",
       "    .dataframe tbody tr th {\n",
       "        vertical-align: top;\n",
       "    }\n",
       "\n",
       "    .dataframe thead th {\n",
       "        text-align: right;\n",
       "    }\n",
       "</style>\n",
       "<table border=\"1\" class=\"dataframe\">\n",
       "  <thead>\n",
       "    <tr style=\"text-align: right;\">\n",
       "      <th></th>\n",
       "      <th>Text</th>\n",
       "      <th>Tag</th>\n",
       "    </tr>\n",
       "  </thead>\n",
       "  <tbody>\n",
       "    <tr>\n",
       "      <th>153</th>\n",
       "      <td>INTJ</td>\n",
       "      <td>MONO</td>\n",
       "    </tr>\n",
       "    <tr>\n",
       "      <th>164</th>\n",
       "      <td>ADJ ADJ PUNCT</td>\n",
       "      <td>MONO</td>\n",
       "    </tr>\n",
       "    <tr>\n",
       "      <th>116</th>\n",
       "      <td>CCONJ DET NOUN PUNCT</td>\n",
       "      <td>MONO</td>\n",
       "    </tr>\n",
       "    <tr>\n",
       "      <th>513</th>\n",
       "      <td>VERB ADP PROPN ADV</td>\n",
       "      <td>BI</td>\n",
       "    </tr>\n",
       "    <tr>\n",
       "      <th>487</th>\n",
       "      <td>CCONJ VERB DET NOUN</td>\n",
       "      <td>BI</td>\n",
       "    </tr>\n",
       "    <tr>\n",
       "      <th>433</th>\n",
       "      <td>DET PRON AUX VERB ADV PUNCT</td>\n",
       "      <td>BI</td>\n",
       "    </tr>\n",
       "    <tr>\n",
       "      <th>358</th>\n",
       "      <td>VERB PROPN</td>\n",
       "      <td>BI</td>\n",
       "    </tr>\n",
       "    <tr>\n",
       "      <th>606</th>\n",
       "      <td>VERB ADP PROPN ADV</td>\n",
       "      <td>BI</td>\n",
       "    </tr>\n",
       "    <tr>\n",
       "      <th>495</th>\n",
       "      <td>CCONJ VERB DET NOUN PUNCT</td>\n",
       "      <td>BI</td>\n",
       "    </tr>\n",
       "    <tr>\n",
       "      <th>717</th>\n",
       "      <td>SCONJ PRON VERB DET ADJ PRON PART NOUN</td>\n",
       "      <td>MONO</td>\n",
       "    </tr>\n",
       "  </tbody>\n",
       "</table>\n",
       "</div>"
      ],
      "text/plain": [
       "                                       Text   Tag\n",
       "153                                    INTJ  MONO\n",
       "164                           ADJ ADJ PUNCT  MONO\n",
       "116                    CCONJ DET NOUN PUNCT  MONO\n",
       "513                      VERB ADP PROPN ADV    BI\n",
       "487                     CCONJ VERB DET NOUN    BI\n",
       "433             DET PRON AUX VERB ADV PUNCT    BI\n",
       "358                              VERB PROPN    BI\n",
       "606                      VERB ADP PROPN ADV    BI\n",
       "495               CCONJ VERB DET NOUN PUNCT    BI\n",
       "717  SCONJ PRON VERB DET ADJ PRON PART NOUN  MONO"
      ]
     },
     "execution_count": 138,
     "metadata": {},
     "output_type": "execute_result"
    }
   ],
   "source": [
    "pos_df['Text'] = pos_df.Text.map(lambda x:' '.join(x))\n",
    "pos_df.sample(10)"
   ]
  },
  {
   "cell_type": "code",
   "execution_count": null,
   "id": "eb63b07b",
   "metadata": {},
   "outputs": [],
   "source": [
    "from sklearn.model_selection import train_test_split\n",
    "from sklearn.feature_extraction.text import TfidfVectorizer\n",
    "from sklearn.metrics import confusion_matrix\n",
    "from sklearn.metrics import accuracy_score"
   ]
  },
  {
   "cell_type": "code",
   "execution_count": null,
   "id": "67d462d7",
   "metadata": {},
   "outputs": [],
   "source": [
    "docs_train, docs_test, y_train, y_test = train_test_split(pos_df.Text, pos_df.Tag, \n",
    "                                                          test_size = 0.20, random_state = 0)\n",
    "vectorizer = TfidfVectorizer(lowercase = False)\n",
    "X_train = vectorizer.fit_transform(docs_train)\n",
    "X_test = vectorizer.transform(docs_test)"
   ]
  },
  {
   "cell_type": "code",
   "execution_count": 143,
   "id": "26e46b90",
   "metadata": {},
   "outputs": [],
   "source": [
    "from sklearn.naive_bayes import MultinomialNB\n",
    "nbmodel = MultinomialNB()"
   ]
  },
  {
   "cell_type": "code",
   "execution_count": null,
   "id": "c19f8cc1",
   "metadata": {},
   "outputs": [
    {
     "data": {
      "text/plain": [
       "array([[80, 13],\n",
       "       [27, 34]])"
      ]
     },
     "execution_count": 147,
     "metadata": {},
     "output_type": "execute_result"
    }
   ],
   "source": [
    "nbmodel.fit(X_train, y_train)\n",
    "y_pred = nbmodel.predict(X_test)\n",
    "cm = confusion_matrix(y_test, y_pred)\n",
    "cm"
   ]
  },
  {
   "cell_type": "code",
   "execution_count": 161,
   "id": "87865782",
   "metadata": {},
   "outputs": [
    {
     "data": {
      "image/png": "[encoded data removed]",
      "text/plain": [
       "<Figure size 400x400 with 2 Axes>"
      ]
     },
     "metadata": {},
     "output_type": "display_data"
    },
    {
     "data": {
      "text/plain": [
       "0.7402597402597403"
      ]
     },
     "execution_count": 161,
     "metadata": {},
     "output_type": "execute_result"
    }
   ],
   "source": [
    "plt.figure(figsize = (4,4)) \n",
    "sns.heatmap(cm,square=True, annot=True, cmap=\"Reds\",)\n",
    "plt.xlabel('predicted label')\n",
    "plt.ylabel('true label')\n",
    "plt.show()\n",
    "accuracy_score(y_test, y_pred)"
   ]
  },
  {
   "cell_type": "code",
   "execution_count": 164,
   "id": "86c8444d",
   "metadata": {},
   "outputs": [
    {
     "data": {
      "text/plain": [
       "Tag\n",
       "BI      449\n",
       "MONO    320\n",
       "Name: count, dtype: int64"
      ]
     },
     "execution_count": 164,
     "metadata": {},
     "output_type": "execute_result"
    }
   ],
   "source": [
    "pos_df.Tag.value_counts()"
   ]
  },
  {
   "cell_type": "code",
   "execution_count": null,
   "id": "55b5cbbb",
   "metadata": {},
   "outputs": [
    {
     "data": {
      "text/plain": [
       "0.5838751625487646"
      ]
     },
     "execution_count": 165,
     "metadata": {},
     "output_type": "execute_result"
    }
   ],
   "source": [
    "449/(449+320)\n",
    "## BASELINE is 58.4%"
   ]
  },
  {
   "cell_type": "code",
   "execution_count": 166,
   "id": "5cc1b8bb",
   "metadata": {},
   "outputs": [
    {
     "data": {
      "image/png": "[encoded data removed]",
      "text/plain": [
       "<Figure size 400x400 with 2 Axes>"
      ]
     },
     "metadata": {},
     "output_type": "display_data"
    },
    {
     "data": {
      "text/plain": [
       "0.7727272727272727"
      ]
     },
     "execution_count": 166,
     "metadata": {},
     "output_type": "execute_result"
    }
   ],
   "source": [
    "docs_train, docs_test, y_train, y_test = train_test_split(pos_df.Text, pos_df.Tag, \n",
    "                                                          test_size = 0.20, random_state = 0)\n",
    "vectorizer = TfidfVectorizer(lowercase = False, ngram_range=(1,2))\n",
    "X_train = vectorizer.fit_transform(docs_train)\n",
    "X_test = vectorizer.transform(docs_test)\n",
    "nbmodel.fit(X_train, y_train)\n",
    "y_pred = nbmodel.predict(X_test)\n",
    "cm = confusion_matrix(y_test, y_pred)\n",
    "plt.figure(figsize = (4,4)) \n",
    "sns.heatmap(cm,square=True, annot=True, cmap=\"Reds\",)\n",
    "plt.xlabel('predicted label')\n",
    "plt.ylabel('true label')\n",
    "plt.show()\n",
    "accuracy_score(y_test, y_pred)"
   ]
  },
  {
   "cell_type": "code",
   "execution_count": 167,
   "id": "2a6372d0",
   "metadata": {},
   "outputs": [
    {
     "data": {
      "image/png": "[encoded data removed]",
      "text/plain": [
       "<Figure size 400x400 with 2 Axes>"
      ]
     },
     "metadata": {},
     "output_type": "display_data"
    },
    {
     "data": {
      "text/plain": [
       "0.7987012987012987"
      ]
     },
     "execution_count": 167,
     "metadata": {},
     "output_type": "execute_result"
    }
   ],
   "source": [
    "docs_train, docs_test, y_train, y_test = train_test_split(pos_df.Text, pos_df.Tag, \n",
    "                                                          test_size = 0.20, random_state = 0)\n",
    "vectorizer = TfidfVectorizer(lowercase = False, ngram_range=(1,3))\n",
    "X_train = vectorizer.fit_transform(docs_train)\n",
    "X_test = vectorizer.transform(docs_test)\n",
    "nbmodel.fit(X_train, y_train)\n",
    "y_pred = nbmodel.predict(X_test)\n",
    "cm = confusion_matrix(y_test, y_pred)\n",
    "plt.figure(figsize = (4,4)) \n",
    "sns.heatmap(cm,square=True, annot=True, cmap=\"Reds\",)\n",
    "plt.xlabel('predicted label')\n",
    "plt.ylabel('true label')\n",
    "plt.show()\n",
    "accuracy_score(y_test, y_pred)"
   ]
  },
  {
   "cell_type": "code",
   "execution_count": 168,
   "id": "bfa9ec02",
   "metadata": {},
   "outputs": [
    {
     "name": "stdout",
     "output_type": "stream",
     "text": [
      "BI: NOUN, DET, VERB, PROPN, DET_NOUN, ADP, CCONJ, AUX, INTJ, ADV, ADJ, VERB_DET, PUNCT, VERB_PROPN, ADP_DET, VERB_DET_NOUN, PROPN_VERB, VERB_ADP, DET_ADJ, ADJ_NOUN\n",
      "MONO: INTJ, NOUN, DET, PRON, ADV, VERB, DET_NOUN, ADP, SYM, ADJ, PROPN, PUNCT, CCONJ, AUX, NOUN_VERB, ADP_DET, ADJ_NOUN, DET_ADJ, ADP_DET_NOUN, ADP_NOUN\n"
     ]
    }
   ],
   "source": [
    "def print_top(vectorizer, clf, n):\n",
    "    \"\"\"Prints features with the highest log probability values, per class\"\"\"\n",
    "    feature_names = vectorizer.get_feature_names_out()\n",
    "    class_labels = clf.classes_\n",
    "    for i, class_label in enumerate(class_labels):\n",
    "        top = np.argsort(clf.feature_log_prob_[i])[0-n:][::-1]\n",
    "        print(\"%s: %s\" % (class_label,\n",
    "              \", \".join(feature_names[j].replace(' ', '_') for j in top)))\n",
    "print_top(vectorizer, nbmodel, 20)"
   ]
  },
  {
   "cell_type": "code",
   "execution_count": null,
   "id": "e8566967",
   "metadata": {},
   "outputs": [],
   "source": []
  }
 ],
 "metadata": {
  "kernelspec": {
   "display_name": "base",
   "language": "python",
   "name": "python3"
  },
  "language_info": {
   "codemirror_mode": {
    "name": "ipython",
    "version": 3
   },
   "file_extension": ".py",
   "mimetype": "text/x-python",
   "name": "python",
   "nbconvert_exporter": "python",
   "pygments_lexer": "ipython3",
   "version": "3.12.2"
  }
 },
 "nbformat": 4,
 "nbformat_minor": 5
}
